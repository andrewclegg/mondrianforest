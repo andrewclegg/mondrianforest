{
 "metadata": {
  "name": "",
  "signature": "sha256:ff70d1a0d98e0a199a437e92c6b21ba3c84dfebb3b08d2aca8ed5e2b243b6061"
 },
 "nbformat": 3,
 "nbformat_minor": 0,
 "worksheets": [
  {
   "cells": [
    {
     "cell_type": "markdown",
     "metadata": {},
     "source": [
      "# Mondrian Forests\n",
      "\n",
      "This is a reimplementation of Mondrian Forests as described here:\n",
      "\n",
      "**Mondrian Forests: Efficient Online Random Forests**\n",
      "\n",
      "Balaji Lakshminarayanan, Daniel M. Roy, Yee Whye Teh\n",
      "\n",
      "http://arxiv.org/abs/1406.2673\n",
      "\n",
      "It partly uses code from the original authors' implementation at\n",
      "\n",
      "https://github.com/balajiln/mondrianforest\n",
      "\n",
      "but changes a few things along the way too. Key differences:\n",
      "\n",
      "* Assume FAST_MODE (no log-likelihood) for now\n",
      "* Classification only (they never finished regression)\n",
      "* Always assume we're training incrementally\n",
      "* `update_posterior_node_incremental` just becomes `update_label_counts`\n",
      "* `add_training_points_to_node` just becomes `MondrianNode.update`\n",
      "* Pushed as much metadata as possible into the node object, to avoid having lots of separate dicts etc. maintained by the tree (hence renaming it `MondrianNode`)\n",
      "* `data` (an array) refers to one batch, instead of having a single design matrix in memory and indexing it with `train_ids`\n",
      "* `labels` is a vector of class labels for the rows in `data`\n",
      "* We don't assume you'll provide the first batch of training data when initializing a tree, but we do need to know the number of dimensions and number of labels\n",
      "* It works in parallel :-)\n",
      "\n",
      "Perhaps most different of all:\n",
      "\n",
      "We don't keep all the input data, as this won't scale. But this means we can't move existing data down into the new leaf nodes when we split a leaf node.\n",
      "\n",
      "This is the plan: When the tree \"grows\" through randomly splitting a leaf node, keep its existing class frequencies where they are, and only use the two new children for *newly-arriving* data. Then take these into account when calculating the predictive posteriors (appendix A of paper).\n",
      "\n",
      "Here are my original thoughts on this, that I almost sent to the authors, but decided to try first.\n",
      "\n",
      "```\n",
      "One thing I missed on reading the paper, is that when you bisect a leaf node through a \"grow\" (sampling) operation,\n",
      "you need to assign all its data points to one of the new children.\n",
      "\n",
      "This means you can't just keep summary statistics for the data in a block, i.e. class frequencies. You need to hold\n",
      "on to the raw training data in order to divide it, yes? Which is a problem for online learning over streaming data\n",
      "or just \"big data\" in general.\n",
      "\n",
      "So... Perhaps you could entirely forget about keeping the existing data and propagating it down to the new child\n",
      "nodes. If you just kept class frequencies at each node, maybe you could use these in the \"update posterior counts\"\n",
      "step for internal nodes, alongside the child node counts.\n",
      "\n",
      "(Any data that came in *after* the split would go all the way down to the leaf nodes though.)\n",
      "```\n",
      "\n",
      "For the time being, though, it's using a much simpler scoring system. Walk down the tree until you find the box that the test example would have been in, and go for the majority class. If you don't find a box, or it's empty, walk back up until you find the nearest ancestor with some instances in.\n",
      "\n",
      "Averaged across a few trees, even as few as ~10, this actually does pretty well.\n",
      "\n",
      "## Running this demo\n",
      "\n",
      "If a `default` IPython cluster is available, it runs in parallel automatically, with as many trees in the forest as you have engines in the cluster. Otherwise, it runs in serial on a single core, with 3 trees. See the notes in the third cell.\n",
      "\n",
      "For best results with small forests, use an odd number of trees.\n",
      "\n",
      "## TODO\n",
      "\n",
      "### Must-haves\n",
      "\n",
      "* Proper probabilistic scoring\n",
      "* Types for all numpy arrays\n",
      "* Error checking\n",
      "* Work out exactly what effect `budget` is having\n",
      "* Introspection and prettyprinting tools\n",
      "* Work out which members are \"private\" and rename them with underscores\n",
      "* Proper tests...\n",
      "\n",
      "### Useful features\n",
      "\n",
      "* Allow multiple trees per engine (i.e. each engine runs a forest, not a tree)\n",
      "* Instance subsampling\n",
      "* Feature subsampling/bootstrapping/bagging\n",
      "* Feature hashing/random projection/LSH\n",
      "* Train-on-fail mode\n",
      "* Loss functions, regret, class weighting?\n",
      "\n",
      "### Blue sky\n",
      "\n",
      "* Regression\n",
      "* Clustering? (I mean, it basically *is* clustering, already...)\n",
      "* Semi-supervised would be really easy too\n",
      "* Adaptivity -- non-stationary distributions, recency effects etc.\n",
      "* Auto-pruning/rebalancing -- stop trees either stagnating or growing out of control in the long term\n",
      "* What about when the true number of classes isn't known in advance?\n",
      "\n",
      "The last three are really closely related.\n",
      "\n",
      "We could probably tackle a lot of these problems by \"chopping down\" older trees -- either randomly or according to a heuristic (e.g. least-recently-modified) -- so new ones can grow in their place. Maybe varying the budget and discount values would be useful too.\n",
      "\n",
      "Perhaps you could calculate the posterior class probabilities over the entire 'dead' tree, and use these as the priors for the new tree that will grow in its place.\n",
      "\n",
      "You could also use this kind of approach to tune P/R tradeoff, chase a particular objective function, do reinforcement learning... If you squint, they start to look a little like GAs.\n",
      "\n",
      "* Ontology learning\n",
      "* Grammar induction\n",
      "* Topic modelling\n",
      "\n",
      "Use cases that are fundamentally tree-shaped! Hmmm."
     ]
    },
    {
     "cell_type": "code",
     "collapsed": false,
     "input": [
      "%run 'mondrian.py'\n",
      "\n",
      "import random\n",
      "\n",
      "import numpy as np\n",
      "\n",
      "from IPython.parallel import Client\n",
      "try:\n",
      "    rc = Client()\n",
      "    dview = rc[:]\n",
      "    print('Using default IPython cluster with %d engines' % len(dview))\n",
      "except FileNotFoundError:\n",
      "    rc = None\n",
      "    dview = None\n",
      "    print('Using single-core implementation')\n",
      "\n",
      "DEFAULT_BUDGET = 1000"
     ],
     "language": "python",
     "metadata": {},
     "outputs": [
      {
       "output_type": "stream",
       "stream": "stdout",
       "text": [
        "Using single-core implementation\n"
       ]
      }
     ],
     "prompt_number": 17
    },
    {
     "cell_type": "code",
     "collapsed": false,
     "input": [
      "import pickle\n",
      "import gzip\n",
      "import os\n",
      "import pandas as pd\n",
      "from sklearn import datasets\n",
      "from sklearn import cross_validation as cv\n",
      "\n",
      "# For speed later...\n",
      "test_file = '/home/vagrant/data/covtype.pkl.gz'\n",
      "if os.path.exists(test_file):\n",
      "    with gzip.GzipFile(test_file, 'rb') as z:\n",
      "        dataset = pickle.load(z)\n",
      "else:\n",
      "    dataset = datasets.fetch_covtype() # Can be quite slow\n",
      "    with gzip.GzipFile(test_file, 'wb') as z:\n",
      "        pickle.dump(dataset, z)\n",
      "        \n",
      "dataset.data.shape"
     ],
     "language": "python",
     "metadata": {},
     "outputs": [
      {
       "metadata": {},
       "output_type": "pyout",
       "prompt_number": 3,
       "text": [
        "(581012, 54)"
       ]
      }
     ],
     "prompt_number": 3
    },
    {
     "cell_type": "code",
     "collapsed": false,
     "input": [
      "#%%time\n",
      "#%%prun\n",
      "\n",
      "n_iter = 100\n",
      "test_size = 10\n",
      "folds = cv.StratifiedShuffleSplit(dataset.target, n_iter=n_iter, test_size=test_size, train_size=1000)\n",
      "hits = []\n",
      "\n",
      "data = dataset.data\n",
      "target = dataset.target - 1 # they are 1-indexed\n",
      "\n",
      "if dview is None:\n",
      "    # Run with a single-threaded forest with 3 trees\n",
      "    mf = MondrianForest(3, data.shape[1], len(np.unique(target)), budget=DEFAULT_BUDGET, scoring='simple')\n",
      "else:\n",
      "    # Run with a parallel forest on IPython cluster\n",
      "    mf = ParallelMondrianForest(dview, data.shape[1], len(np.unique(target)), budget=DEFAULT_BUDGET, scoring='simple')\n",
      "\n",
      "def run_test():\n",
      "    for i, (train, test) in enumerate(folds):\n",
      "        train_X = data[train]\n",
      "        train_y = target[train]\n",
      "        test_X = data[test]#[0:1,:]\n",
      "        test_y = target[test]#[0:1]\n",
      "        mf.update(train_X, train_y)\n",
      "        preds = mf.predict(test_X)\n",
      "        yhat = preds.argmax(axis=1)\n",
      "        assert test_y.shape == yhat.shape\n",
      "        for j in range(len(preds)):\n",
      "            idx = (i * test_size) + j\n",
      "            print(idx, '- Predicted:', yhat[j], 'Actual:', test_y[j],\n",
      "                  '[', ' '.join(['%.3f' % x for x in preds[j]]), ']')\n",
      "            hits.append(yhat[j] == test_y[j])\n",
      "\n",
      "#%prun\n",
      "run_test()"
     ],
     "language": "python",
     "metadata": {},
     "outputs": [
      {
       "output_type": "stream",
       "stream": "stdout",
       "text": [
        "0 - Predicted: 1 Actual: 0 [ 0.365 0.488 0.062 0.005 0.016 0.030 0.035 ]\n",
        "1 - Predicted: 1 Actual: 0 [ 0.365 0.488 0.062 0.005 0.016 0.030 0.035 ]\n",
        "2 - Predicted: 1 Actual: 1 [ 0.365 0.488 0.062 0.005 0.016 0.030 0.035 ]\n",
        "3 - Predicted: 1 Actual: 1 [ 0.365 0.488 0.062 0.005 0.016 0.030 0.035 ]\n",
        "4 - Predicted: 1 Actual: 1 [ 0.365 0.488 0.062 0.005 0.016 0.030 0.035 ]\n",
        "5 - Predicted: 1 Actual: 1 [ 0.365 0.488 0.062 0.005 0.016 0.030 0.035 ]\n",
        "6 - Predicted: 1 Actual: 2 [ 0.365 0.488 0.062 0.005 0.016 0.030 0.035 ]\n",
        "7 - Predicted: 1 Actual: 0 [ 0.365 0.488 0.062 0.005 0.016 0.030 0.035 ]\n",
        "8 - Predicted: 1 Actual: 0 [ 0.365 0.488 0.062 0.005 0.016 0.030 0.035 ]\n",
        "9 - Predicted: 1 Actual: 1 [ 0.365 0.488 0.062 0.005 0.016 0.030 0.035 ]\n",
        "10"
       ]
      },
      {
       "output_type": "stream",
       "stream": "stdout",
       "text": [
        " - Predicted: 1 Actual: 0 [ 0.357 0.486 0.064 0.005 0.019 0.033 0.035 ]\n",
        "11 - Predicted: 1 Actual: 0 [ 0.357 0.486 0.064 0.005 0.019 0.033 0.035 ]\n",
        "12 - Predicted: 1 Actual: 2 [ 0.346 0.434 0.119 0.011 0.018 0.049 0.024 ]\n",
        "13 - Predicted: 1 Actual: 1 [ 0.346 0.434 0.119 0.011 0.018 0.049 0.024 ]\n",
        "14 - Predicted: 1 Actual: 1 [ 0.357 0.486 0.064 0.005 0.019 0.033 0.035 ]\n",
        "15 - Predicted: 1 Actual: 0 [ 0.357 0.486 0.064 0.005 0.019 0.033 0.035 ]\n",
        "16 - Predicted: 1 Actual: 1 [ 0.357 0.486 0.064 0.005 0.019 0.033 0.035 ]\n",
        "17 - Predicted: 1 Actual: 1 [ 0.395 0.497 0.035 0.003 0.011 0.018 0.042 ]\n",
        "18 - Predicted: 1 Actual: 1 [ 0.346 0.434 0.119 0.011 0.018 0.049 0.024 ]\n",
        "19 - Predicted: 1 Actual: 0 [ 0.357 0.486 0.064 0.005 0.019 0.033 0.035 ]\n",
        "20"
       ]
      },
      {
       "output_type": "stream",
       "stream": "stdout",
       "text": [
        " - Predicted: 1 Actual: 1 [ 0.400 0.499 0.023 0.002 0.009 0.013 0.054 ]\n",
        "21 - Predicted: 1 Actual: 1 [ 0.300 0.619 0.033 0.004 0.012 0.017 0.015 ]\n",
        "22 - Predicted: 1 Actual: 1 [ 0.390 0.507 0.031 0.003 0.014 0.015 0.041 ]\n",
        "23 - Predicted: 1 Actual: 0 [ 0.400 0.499 0.023 0.002 0.009 0.013 0.054 ]\n",
        "24 - Predicted: 1 Actual: 1 [ 0.330 0.465 0.101 0.009 0.020 0.050 0.026 ]\n",
        "25 - Predicted: 1 Actual: 0 [ 0.353 0.472 0.077 0.006 0.016 0.037 0.040 ]\n",
        "26 - Predicted: 1 Actual: 2 [ 0.330 0.465 0.101 0.009 0.020 0.050 0.026 ]\n",
        "27 - Predicted: 1 Actual: 0 [ 0.400 0.499 0.023 0.002 0.009 0.013 0.054 ]\n",
        "28 - Predicted: 1 Actual: 0 [ 0.367 0.500 0.054 0.005 0.018 0.027 0.027 ]\n",
        "29 - Predicted: 1 Actual: 1 [ 0.330 0.465 0.101 0.009 0.020 0.050 0.026 ]\n",
        "30"
       ]
      },
      {
       "output_type": "stream",
       "stream": "stdout",
       "text": [
        " - Predicted: 1 Actual: 1 [ 0.323 0.461 0.109 0.007 0.024 0.054 0.022 ]\n",
        "31 - Predicted: 1 Actual: 0 [ 0.377 0.493 0.054 0.003 0.021 0.021 0.030 ]\n",
        "32 - Predicted: 1 Actual: 1 [ 0.426 0.481 0.024 0.002 0.008 0.013 0.046 ]\n",
        "33 - Predicted: 1 Actual: 1 [ 0.327 0.467 0.099 0.008 0.022 0.047 0.030 ]\n",
        "34 - Predicted: 1 Actual: 1 [ 0.275 0.438 0.160 0.018 0.016 0.063 0.030 ]\n",
        "35 - Predicted: 1 Actual: 2 [ 0.327 0.467 0.099 0.008 0.022 0.047 0.030 ]\n",
        "36 - Predicted: 1 Actual: 0 [ 0.327 0.467 0.099 0.008 0.022 0.047 0.030 ]\n",
        "37 - Predicted: 1 Actual: 1 [ 0.323 0.461 0.109 0.007 0.024 0.054 0.022 ]\n",
        "38 - Predicted: 1 Actual: 0 [ 0.426 0.481 0.024 0.002 0.008 0.013 0.046 ]\n",
        "39 - Predicted: 1 Actual: 0 [ 0.327 0.467 0.099 0.008 0.022 0.047 0.030 ]\n",
        "40"
       ]
      },
      {
       "output_type": "stream",
       "stream": "stdout",
       "text": [
        " - Predicted: 1 Actual: 0 [ 0.402 0.487 0.047 0.009 0.011 0.018 0.027 ]\n",
        "41 - Predicted: 1 Actual: 1 [ 0.405 0.480 0.011 0.002 0.005 0.005 0.092 ]\n",
        "42 - Predicted: 1 Actual: 1 [ 0.395 0.505 0.039 0.003 0.016 0.018 0.024 ]\n",
        "43 - Predicted: 1 Actual: 0 [ 0.402 0.487 0.047 0.009 0.011 0.018 0.027 ]\n",
        "44 - Predicted: 1 Actual: 2 [ 0.255 0.410 0.186 0.010 0.028 0.086 0.025 ]\n",
        "45 - Predicted: 1 Actual: 0 [ 0.356 0.479 0.089 0.008 0.016 0.038 0.013 ]\n",
        "46 - Predicted: 1 Actual: 0 [ 0.357 0.488 0.062 0.006 0.013 0.029 0.044 ]\n",
        "47 - Predicted: 0 Actual: 1 [ 0.449 0.448 0.011 0.002 0.005 0.005 0.080 ]\n",
        "48 - Predicted: 1 Actual: 1 [ 0.422 0.476 0.009 0.002 0.004 0.005 0.082 ]\n",
        "49 - Predicted: 1 Actual: 1 [ 0.348 0.478 0.080 0.007 0.019 0.037 0.031 ]\n",
        "50"
       ]
      },
      {
       "output_type": "stream",
       "stream": "stdout",
       "text": [
        " - Predicted: 1 Actual: 1 [ 0.394 0.511 0.046 0.000 0.009 0.017 0.024 ]\n",
        "51 - Predicted: 1 Actual: 0 [ 0.435 0.473 0.028 0.001 0.007 0.009 0.047 ]\n",
        "52 - Predicted: 1 Actual: 0 [ 0.398 0.530 0.015 0.000 0.003 0.011 0.043 ]\n",
        "53 - Predicted: 0 Actual: 0 [ 0.506 0.401 0.015 0.001 0.011 0.008 0.060 ]\n",
        "54 - Predicted: 1 Actual: 0 [ 0.390 0.541 0.017 0.002 0.006 0.010 0.033 ]\n",
        "55 - Predicted: 1 Actual: 1 [ 0.174 0.462 0.197 0.020 0.030 0.105 0.013 ]\n",
        "56 - Predicted: 1 Actual: 2 [ 0.168 0.461 0.203 0.014 0.028 0.122 0.004 ]\n",
        "57 - Predicted: 1 Actual: 1 [ 0.398 0.530 0.015 0.000 0.003 0.011 0.043 ]\n",
        "58 - Predicted: 1 Actual: 1 [ 0.393 0.514 0.026 0.001 0.009 0.015 0.043 ]\n",
        "59 - Predicted: 1 Actual: 1 [ 0.331 0.608 0.008 0.000 0.001 0.005 0.047 ]\n",
        "60"
       ]
      },
      {
       "output_type": "stream",
       "stream": "stdout",
       "text": [
        " - Predicted: 1 Actual: 1 [ 0.306 0.464 0.105 0.008 0.019 0.076 0.021 ]\n",
        "61 - Predicted: 1 Actual: 1 [ 0.383 0.506 0.053 0.000 0.019 0.015 0.024 ]\n",
        "62 - Predicted: 1 Actual: 1 [ 0.416 0.468 0.033 0.000 0.015 0.016 0.052 ]\n",
        "63 - Predicted: 1 Actual: 0 [ 0.284 0.693 0.002 0.000 0.000 0.001 0.020 ]\n",
        "64 - Predicted: 0 Actual: 1 [ 0.528 0.427 0.006 0.000 0.006 0.007 0.026 ]\n",
        "65 - Predicted: 0 Actual: 0 [ 0.515 0.421 0.002 0.000 0.000 0.001 0.061 ]\n",
        "66 - Predicted: 0 Actual: 0 [ 0.478 0.474 0.006 0.000 0.003 0.007 0.031 ]\n",
        "67 - Predicted: 1 Actual: 0 [ 0.306 0.464 0.105 0.008 0.019 0.076 0.021 ]\n",
        "68 - Predicted: 1 Actual: 1 [ 0.391 0.499 0.002 0.000 0.000 0.001 0.106 ]\n",
        "69 - Predicted: 1 Actual: 2 [ 0.150 0.442 0.216 0.018 0.026 0.142 0.006 ]\n",
        "70"
       ]
      },
      {
       "output_type": "stream",
       "stream": "stdout",
       "text": [
        " - Predicted: 1 Actual: 2 [ 0.091 0.370 0.308 0.020 0.017 0.194 0.000 ]\n",
        "71 - Predicted: 1 Actual: 1 [ 0.345 0.559 0.043 0.000 0.012 0.022 0.018 ]\n",
        "72 - Predicted: 1 Actual: 1 [ 0.199 0.406 0.244 0.011 0.034 0.105 0.000 ]\n",
        "73 - Predicted: 1 Actual: 1 [ 0.439 0.494 0.030 0.000 0.004 0.010 0.023 ]\n",
        "74 - Predicted: 1 Actual: 1 [ 0.148 0.450 0.227 0.024 0.024 0.108 0.020 ]\n",
        "75 - Predicted: 1 Actual: 0 [ 0.428 0.497 0.013 0.002 0.012 0.012 0.037 ]\n",
        "76 - Predicted: 1 Actual: 1 [ 0.199 0.433 0.225 0.011 0.026 0.101 0.006 ]\n",
        "77 - Predicted: 1 Actual: 0 [ 0.389 0.476 0.033 0.009 0.038 0.036 0.019 ]\n",
        "78 - Predicted: 1 Actual: 0 [ 0.425 0.473 0.070 0.000 0.000 0.000 0.033 ]\n",
        "79 - Predicted: 0 Actual: 0 [ 0.439 0.354 0.002 0.000 0.001 0.000 0.204 ]\n",
        "80"
       ]
      },
      {
       "output_type": "stream",
       "stream": "stdout",
       "text": [
        " - Predicted: 1 Actual: 1 [ 0.428 0.436 0.044 0.002 0.007 0.025 0.058 ]\n",
        "81 - Predicted: 1 Actual: 0 [ 0.335 0.562 0.009 0.008 0.040 0.003 0.044 ]\n",
        "82 - Predicted: 0 Actual: 1 [ 0.508 0.380 0.019 0.001 0.006 0.011 0.075 ]\n",
        "83 - Predicted: 0 Actual: 0 [ 0.445 0.436 0.044 0.002 0.007 0.025 0.040 ]\n",
        "84 - Predicted: 1 Actual: 0 [ 0.405 0.445 0.079 0.003 0.013 0.025 0.030 ]\n",
        "85 - Predicted: 0 Actual: 0 [ 0.511 0.310 0.002 0.000 0.001 0.000 0.176 ]\n",
        "86 - Predicted: 1 Actual: 1 [ 0.281 0.591 0.036 0.005 0.013 0.017 0.057 ]\n",
        "87 - Predicted: 1 Actual: 1 [ 0.239 0.761 0.000 0.000 0.000 0.000 0.000 ]\n",
        "88 - Predicted: 2 Actual: 2 [ 0.129 0.330 0.386 0.009 0.064 0.082 0.000 ]\n",
        "89 - Predicted: 1 Actual: 1 [ 0.153 0.384 0.263 0.010 0.045 0.130 0.015 ]\n",
        "90"
       ]
      },
      {
       "output_type": "stream",
       "stream": "stdout",
       "text": [
        " - Predicted: 1 Actual: 1 [ 0.202 0.564 0.109 0.000 0.021 0.092 0.013 ]\n",
        "91 - Predicted: 0 Actual: 1 [ 0.517 0.370 0.000 0.000 0.104 0.000 0.010 ]\n",
        "92 - Predicted: 0 Actual: 0 [ 0.483 0.452 0.004 0.000 0.006 0.000 0.055 ]\n",
        "93 - Predicted: 1 Actual: 1 [ 0.414 0.440 0.000 0.000 0.006 0.000 0.140 ]\n",
        "94 - Predicted: 0 Actual: 0 [ 0.525 0.383 0.004 0.000 0.003 0.000 0.084 ]\n",
        "95 - Predicted: 0 Actual: 0 [ 0.508 0.372 0.019 0.000 0.007 0.004 0.089 ]\n",
        "96 - Predicted: 1 Actual: 1 [ 0.431 0.450 0.025 0.000 0.050 0.021 0.023 ]\n",
        "97 - Predicted: 1 Actual: 1 [ 0.145 0.855 0.000 0.000 0.000 0.000 0.000 ]\n",
        "98 - Predicted: 0 Actual: 0 [ 0.515 0.227 0.004 0.000 0.003 0.000 0.251 ]\n",
        "99 - Predicted: 1 Actual: 2 [ 0.050 0.369 0.315 0.092 0.006 0.167 0.000 ]\n",
        "100"
       ]
      },
      {
       "output_type": "stream",
       "stream": "stdout",
       "text": [
        " - Predicted: 1 Actual: 0 [ 0.386 0.545 0.006 0.000 0.019 0.008 0.035 ]\n",
        "101 - Predicted: 1 Actual: 1 [ 0.307 0.526 0.111 0.000 0.000 0.056 0.000 ]\n",
        "102 - Predicted: 1 Actual: 2 [ 0.176 0.368 0.326 0.023 0.002 0.090 0.014 ]\n",
        "103 - Predicted: 1 Actual: 1 [ 0.285 0.469 0.104 0.000 0.046 0.077 0.019 ]\n",
        "104 - Predicted: 1 Actual: 0 [ 0.303 0.605 0.006 0.000 0.023 0.020 0.043 ]\n",
        "105 - Predicted: 1 Actual: 0 [ 0.369 0.502 0.033 0.000 0.018 0.007 0.070 ]\n",
        "106 - Predicted: 1 Actual: 0 [ 0.363 0.613 0.004 0.000 0.000 0.000 0.020 ]\n",
        "107 - Predicted: 1 Actual: 1 [ 0.156 0.601 0.132 0.000 0.055 0.037 0.020 ]\n",
        "108 - Predicted: 1 Actual: 1 [ 0.179 0.821 0.000 0.000 0.000 0.000 0.000 ]\n",
        "109 - Predicted: 0 Actual: 1 [ 0.490 0.465 0.008 0.000 0.005 0.000 0.033 ]\n",
        "110"
       ]
      },
      {
       "output_type": "stream",
       "stream": "stdout",
       "text": [
        " - Predicted: 1 Actual: 1 [ 0.311 0.627 0.019 0.000 0.026 0.019 0.000 ]\n",
        "111 - Predicted: 1 Actual: 2 [ 0.167 0.591 0.076 0.000 0.011 0.141 0.014 ]\n",
        "112 - Predicted: 1 Actual: 1 [ 0.470 0.493 0.000 0.000 0.000 0.000 0.037 ]\n",
        "113 - Predicted: 1 Actual: 0 [ 0.369 0.610 0.000 0.000 0.000 0.000 0.020 ]\n",
        "114 - Predicted: 0 Actual: 0 [ 0.517 0.464 0.000 0.000 0.008 0.003 0.008 ]\n",
        "115 - Predicted: 0 Actual: 0 [ 0.545 0.416 0.000 0.000 0.000 0.003 0.035 ]\n",
        "116 - Predicted: 0 Actual: 1 [ 0.506 0.474 0.000 0.000 0.002 0.000 0.017 ]\n",
        "117 - Predicted: 1 Actual: 1 [ 0.341 0.621 0.000 0.000 0.010 0.000 0.028 ]\n",
        "118 - Predicted: 1 Actual: 1 [ 0.368 0.425 0.098 0.018 0.028 0.000 0.063 ]\n",
        "119 - Predicted: 1 Actual: 0 [ 0.259 0.701 0.000 0.000 0.000 0.000 0.039 ]\n",
        "120"
       ]
      },
      {
       "output_type": "stream",
       "stream": "stdout",
       "text": [
        " - Predicted: 1 Actual: 1 [ 0.254 0.612 0.074 0.001 0.025 0.025 0.009 ]\n",
        "121 - Predicted: 1 Actual: 0 [ 0.377 0.562 0.022 0.001 0.007 0.014 0.018 ]\n",
        "122 - Predicted: 1 Actual: 0 [ 0.370 0.504 0.025 0.001 0.014 0.014 0.073 ]\n",
        "123 - Predicted: 0 Actual: 0 [ 0.633 0.285 0.000 0.000 0.000 0.000 0.081 ]\n",
        "124 - Predicted: 0 Actual: 1 [ 0.503 0.497 0.000 0.000 0.000 0.000 0.000 ]\n",
        "125 - Predicted: 1 Actual: 1 [ 0.334 0.632 0.000 0.000 0.000 0.000 0.034 ]\n",
        "126 - Predicted: 0 Actual: 1 [ 0.603 0.291 0.000 0.000 0.000 0.000 0.105 ]\n",
        "127 - Predicted: 1 Actual: 1 [ 0.224 0.614 0.048 0.000 0.115 0.000 0.000 ]\n",
        "128 - Predicted: 1 Actual: 2 [ 0.089 0.567 0.270 0.010 0.015 0.029 0.021 ]\n",
        "129 - Predicted: 1 Actual: 0 [ 0.263 0.503 0.088 0.017 0.057 0.061 0.009 ]\n",
        "130"
       ]
      },
      {
       "output_type": "stream",
       "stream": "stdout",
       "text": [
        " - Predicted: 1 Actual: 1 [ 0.238 0.594 0.002 0.001 0.000 0.000 0.164 ]\n",
        "131 - Predicted: 1 Actual: 1 [ 0.412 0.499 0.000 0.000 0.000 0.000 0.089 ]\n",
        "132 - Predicted: 0 Actual: 0 [ 0.493 0.463 0.004 0.000 0.000 0.000 0.040 ]\n",
        "133 - Predicted: 1 Actual: 0 [ 0.457 0.543 0.000 0.000 0.000 0.000 0.000 ]\n",
        "134 - Predicted: 1 Actual: 2 [ 0.104 0.607 0.208 0.000 0.055 0.009 0.017 ]\n",
        "135 - Predicted: 1 Actual: 0 [ 0.358 0.515 0.017 0.000 0.089 0.009 0.011 ]\n",
        "136 - Predicted: 1 Actual: 1 [ 0.399 0.406 0.033 0.004 0.010 0.136 0.012 ]\n",
        "137 - Predicted: 1 Actual: 1 [ 0.386 0.493 0.017 0.000 0.009 0.047 0.048 ]\n",
        "138 - Predicted: 1 Actual: 1 [ 0.175 0.611 0.075 0.026 0.048 0.054 0.011 ]\n",
        "139 - Predicted: 1 Actual: 0 [ 0.445 0.538 0.009 0.000 0.000 0.000 0.009 ]\n",
        "140"
       ]
      },
      {
       "output_type": "stream",
       "stream": "stdout",
       "text": [
        " - Predicted: 0 Actual: 1 [ 0.465 0.380 0.005 0.000 0.005 0.000 0.145 ]\n",
        "141 - Predicted: 0 Actual: 2 [ 0.367 0.270 0.185 0.037 0.000 0.074 0.067 ]\n",
        "142 - Predicted: 0 Actual: 0 [ 0.550 0.276 0.005 0.000 0.005 0.000 0.165 ]\n",
        "143 - Predicted: 0 Actual: 0 [ 0.493 0.457 0.007 0.000 0.000 0.000 0.042 ]\n",
        "144 - Predicted: 0 Actual: 0 [ 0.521 0.436 0.005 0.000 0.005 0.000 0.034 ]\n",
        "145 - Predicted: 0 Actual: 1 [ 0.588 0.412 0.000 0.000 0.000 0.000 0.000 ]\n",
        "146 - Predicted: 1 Actual: 1 [ 0.200 0.751 0.025 0.000 0.005 0.010 0.010 ]\n",
        "147 - Predicted: 1 Actual: 0 [ 0.420 0.551 0.007 0.000 0.000 0.000 0.022 ]\n",
        "148 - Predicted: 1 Actual: 1 [ 0.475 0.507 0.000 0.000 0.018 0.000 0.000 ]\n",
        "149 - Predicted: 1 Actual: 1 [ 0.384 0.596 0.000 0.000 0.000 0.000 0.020 ]\n",
        "150"
       ]
      },
      {
       "output_type": "stream",
       "stream": "stdout",
       "text": [
        " - Predicted: 0 Actual: 0 [ 0.486 0.343 0.044 0.000 0.000 0.000 0.127 ]\n",
        "151 - Predicted: 0 Actual: 0 [ 0.498 0.332 0.039 0.000 0.000 0.000 0.131 ]\n",
        "152 - Predicted: 1 Actual: 1 [ 0.295 0.515 0.061 0.000 0.045 0.024 0.060 ]\n",
        "153 - Predicted: 1 Actual: 1 [ 0.148 0.389 0.167 0.000 0.269 0.028 0.000 ]\n",
        "154 - Predicted: 2 Actual: 2 [ 0.000 0.135 0.558 0.065 0.000 0.242 0.000 ]\n",
        "155 - Predicted: 1 Actual: 1 [ 0.463 0.537 0.000 0.000 0.000 0.000 0.000 ]\n",
        "156 - Predicted: 1 Actual: 1 [ 0.431 0.562 0.000 0.000 0.008 0.000 0.000 ]\n",
        "157 - Predicted: 1 Actual: 1 [ 0.293 0.592 0.075 0.000 0.021 0.006 0.014 ]\n",
        "158 - Predicted: 0 Actual: 0 [ 0.489 0.344 0.000 0.000 0.000 0.167 0.000 ]\n",
        "159 - Predicted: 1 Actual: 0 [ 0.444 0.489 0.000 0.000 0.000 0.000 0.067 ]\n",
        "160"
       ]
      },
      {
       "output_type": "stream",
       "stream": "stdout",
       "text": [
        " - Predicted: 1 Actual: 1 [ 0.335 0.625 0.000 0.000 0.000 0.000 0.039 ]\n",
        "161 - Predicted: 0 Actual: 1 [ 0.533 0.450 0.000 0.000 0.017 0.000 0.000 ]\n",
        "162 - Predicted: 2 Actual: 2 [ 0.017 0.144 0.451 0.117 0.011 0.259 0.000 ]\n",
        "163 - Predicted: 1 Actual: 1 [ 0.050 0.783 0.000 0.000 0.000 0.167 0.000 ]\n",
        "164 - Predicted: 1 Actual: 0 [ 0.265 0.633 0.030 0.000 0.039 0.008 0.025 ]\n",
        "165 - Predicted: 0 Actual: 1 [ 0.592 0.371 0.000 0.000 0.000 0.000 0.037 ]\n",
        "166 - Predicted: 0 Actual: 0 [ 0.559 0.415 0.000 0.000 0.000 0.000 0.026 ]\n",
        "167 - Predicted: 1 Actual: 1 [ 0.314 0.654 0.000 0.000 0.033 0.000 0.000 ]\n",
        "168 - Predicted: 0 Actual: 0 [ 0.617 0.383 0.000 0.000 0.000 0.000 0.000 ]\n",
        "169 - Predicted: 0 Actual: 0 [ 0.505 0.477 0.000 0.000 0.018 0.000 0.000 ]\n",
        "170"
       ]
      },
      {
       "output_type": "stream",
       "stream": "stdout",
       "text": [
        " - Predicted: 1 Actual: 0 [ 0.413 0.421 0.000 0.000 0.000 0.000 0.166 ]\n",
        "171 - Predicted: 2 Actual: 2 [ 0.010 0.228 0.569 0.034 0.007 0.152 0.000 ]\n",
        "172 - Predicted: 0 Actual: 1 [ 0.500 0.417 0.000 0.000 0.083 0.000 0.000 ]\n",
        "173 - Predicted: 0 Actual: 1 [ 0.490 0.421 0.000 0.000 0.000 0.000 0.089 ]\n",
        "174 - Predicted: 1 Actual: 1 [ 0.317 0.656 0.028 0.000 0.000 0.000 0.000 ]\n",
        "175 - Predicted: 0 Actual: 0 [ 0.613 0.305 0.024 0.000 0.019 0.002 0.037 ]\n",
        "176 - Predicted: 1 Actual: 1 [ 0.112 0.682 0.083 0.000 0.056 0.067 0.000 ]\n",
        "177 - Predicted: 1 Actual: 0 [ 0.322 0.611 0.000 0.000 0.000 0.000 0.067 ]\n",
        "178 - Predicted: 0 Actual: 0 [ 0.686 0.266 0.000 0.000 0.000 0.000 0.048 ]\n",
        "179 - Predicted: 1 Actual: 1 [ 0.156 0.844 0.000 0.000 0.000 0.000 0.000 ]\n",
        "180"
       ]
      },
      {
       "output_type": "stream",
       "stream": "stdout",
       "text": [
        " - Predicted: 0 Actual: 0 [ 0.688 0.237 0.013 0.000 0.000 0.000 0.062 ]\n",
        "181 - Predicted: 2 Actual: 1 [ 0.000 0.121 0.654 0.000 0.000 0.225 0.000 ]\n",
        "182 - Predicted: 1 Actual: 1 [ 0.460 0.466 0.000 0.000 0.019 0.000 0.055 ]\n",
        "183 - Predicted: 1 Actual: 0 [ 0.361 0.408 0.125 0.000 0.018 0.021 0.067 ]\n",
        "184 - Predicted: 1 Actual: 1 [ 0.270 0.710 0.002 0.000 0.001 0.000 0.017 ]\n",
        "185 - Predicted: 2 Actual: 2 [ 0.006 0.075 0.737 0.035 0.012 0.136 0.000 ]\n",
        "186 - Predicted: 1 Actual: 0 [ 0.245 0.559 0.065 0.008 0.025 0.053 0.045 ]\n",
        "187 - Predicted: 1 Actual: 1 [ 0.197 0.673 0.036 0.002 0.041 0.036 0.014 ]\n",
        "188 - Predicted: 1 Actual: 0 [ 0.318 0.531 0.014 0.000 0.018 0.100 0.020 ]\n",
        "189 - Predicted: 1 Actual: 1 [ 0.324 0.596 0.016 0.000 0.057 0.007 0.000 ]\n",
        "190"
       ]
      },
      {
       "output_type": "stream",
       "stream": "stdout",
       "text": [
        " - Predicted: 1 Actual: 2 [ 0.045 0.592 0.254 0.005 0.005 0.100 0.000 ]\n",
        "191 - Predicted: 1 Actual: 1 [ 0.446 0.481 0.028 0.000 0.006 0.033 0.006 ]\n",
        "192 - Predicted: 0 Actual: 1 [ 0.584 0.368 0.048 0.000 0.000 0.000 0.000 ]\n",
        "193 - Predicted: 0 Actual: 0 [ 0.507 0.448 0.000 0.000 0.044 0.000 0.000 ]\n",
        "194 - Predicted: 0 Actual: 0 [ 0.591 0.367 0.000 0.000 0.000 0.000 0.042 ]\n",
        "195 - Predicted: 0 Actual: 0 [ 0.507 0.475 0.000 0.000 0.019 0.000 0.000 ]\n",
        "196 - Predicted: 1 Actual: 1 [ 0.239 0.717 0.003 0.000 0.002 0.003 0.037 ]\n",
        "197 - Predicted: 0 Actual: 0 [ 0.629 0.297 0.000 0.000 0.000 0.000 0.074 ]\n",
        "198 - Predicted: 1 Actual: 1 [ 0.315 0.574 0.000 0.000 0.000 0.000 0.111 ]\n",
        "199 - Predicted: 1 Actual: 1 [ 0.231 0.703 0.028 0.007 0.031 0.000 0.000 ]\n",
        "200"
       ]
      },
      {
       "output_type": "stream",
       "stream": "stdout",
       "text": [
        " - Predicted: 1 Actual: 1 [ 0.298 0.683 0.000 0.000 0.019 0.000 0.000 ]\n",
        "201 - Predicted: 0 Actual: 0 [ 0.565 0.435 0.000 0.000 0.000 0.000 0.000 ]\n",
        "202 - Predicted: 1 Actual: 1 [ 0.290 0.599 0.092 0.000 0.017 0.000 0.002 ]\n",
        "203 - Predicted: 1 Actual: 0 [ 0.220 0.708 0.000 0.000 0.039 0.033 0.000 ]\n",
        "204 - Predicted: 2 Actual: 2 [ 0.005 0.016 0.790 0.096 0.011 0.081 0.000 ]\n",
        "205 - Predicted: 1 Actual: 1 [ 0.148 0.781 0.000 0.000 0.000 0.000 0.071 ]\n",
        "206 - Predicted: 0 Actual: 0 [ 0.779 0.221 0.000 0.000 0.000 0.000 0.000 ]\n",
        "207 - Predicted: 1 Actual: 1 [ 0.464 0.536 0.000 0.000 0.000 0.000 0.000 ]\n",
        "208 - Predicted: 1 Actual: 0 [ 0.468 0.484 0.000 0.000 0.000 0.000 0.048 ]\n",
        "209 - Predicted: 1 Actual: 1 [ 0.330 0.542 0.035 0.000 0.021 0.025 0.048 ]\n",
        "210"
       ]
      },
      {
       "output_type": "stream",
       "stream": "stdout",
       "text": [
        " - Predicted: 1 Actual: 1 [ 0.343 0.586 0.033 0.000 0.017 0.016 0.005 ]\n",
        "211 - Predicted: 0 Actual: 0 [ 0.419 0.318 0.167 0.000 0.013 0.000 0.083 ]\n",
        "212 - Predicted: 2 Actual: 2 [ 0.000 0.045 0.687 0.000 0.045 0.222 0.000 ]\n",
        "213 - Predicted: 0 Actual: 0 [ 0.539 0.344 0.000 0.000 0.000 0.037 0.080 ]\n",
        "214 - Predicted: 1 Actual: 1 [ 0.475 0.492 0.002 0.000 0.001 0.000 0.029 ]\n",
        "215 - Predicted: 1 Actual: 0 [ 0.399 0.485 0.000 0.000 0.116 0.000 0.000 ]\n",
        "216 - Predicted: 0 Actual: 1 [ 0.590 0.371 0.004 0.000 0.002 0.000 0.033 ]\n",
        "217 - Predicted: 1 Actual: 1 [ 0.317 0.542 0.037 0.000 0.037 0.019 0.048 ]\n",
        "218 - Predicted: 0 Actual: 0 [ 0.557 0.378 0.002 0.000 0.004 0.000 0.058 ]\n",
        "219 - Predicted: 1 Actual: 1 [ 0.428 0.511 0.002 0.000 0.001 0.000 0.057 ]\n",
        "220"
       ]
      },
      {
       "output_type": "stream",
       "stream": "stdout",
       "text": [
        " - Predicted: 0 Actual: 1 [ 0.527 0.452 0.003 0.000 0.002 0.000 0.017 ]\n",
        "221 - Predicted: 1 Actual: 0 [ 0.310 0.634 0.000 0.000 0.000 0.000 0.056 ]\n",
        "222 - Predicted: 0 Actual: 0 [ 0.599 0.369 0.010 0.000 0.002 0.010 0.010 ]\n",
        "223 - Predicted: 1 Actual: 0 [ 0.489 0.500 0.000 0.000 0.000 0.011 0.000 ]\n",
        "224 - Predicted: 1 Actual: 2 [ 0.109 0.534 0.165 0.167 0.026 0.000 0.000 ]\n",
        "225 - Predicted: 0 Actual: 0 [ 0.801 0.199 0.000 0.000 0.000 0.000 0.000 ]\n",
        "226 - Predicted: 1 Actual: 1 [ 0.427 0.545 0.011 0.000 0.000 0.000 0.017 ]\n",
        "227 - Predicted: 1 Actual: 1 [ 0.413 0.525 0.000 0.000 0.000 0.031 0.030 ]\n",
        "228 - Predicted: 1 Actual: 1 [ 0.000 0.349 0.328 0.000 0.000 0.323 0.000 ]\n",
        "229 - Predicted: 1 Actual: 1 [ 0.167 0.440 0.131 0.000 0.167 0.095 0.000 ]\n",
        "230"
       ]
      },
      {
       "output_type": "stream",
       "stream": "stdout",
       "text": [
        " - Predicted: 0 Actual: 1 [ 0.486 0.462 0.000 0.000 0.048 0.000 0.004 ]\n",
        "231 - Predicted: 1 Actual: 0 [ 0.159 0.695 0.026 0.000 0.121 0.000 0.000 ]\n",
        "232 - Predicted: 1 Actual: 0 [ 0.270 0.678 0.000 0.000 0.030 0.000 0.023 ]\n",
        "233 - Predicted: 1 Actual: 1 [ 0.111 0.540 0.000 0.000 0.048 0.167 0.135 ]\n",
        "234 - Predicted: 1 Actual: 0 [ 0.395 0.511 0.000 0.000 0.030 0.000 0.064 ]\n",
        "235 - Predicted: 1 Actual: 0 [ 0.386 0.614 0.000 0.000 0.000 0.000 0.000 ]\n",
        "236 - Predicted: 0 Actual: 1 [ 0.588 0.389 0.005 0.000 0.000 0.000 0.019 ]\n",
        "237 - Predicted: 1 Actual: 1 [ 0.061 0.817 0.020 0.000 0.020 0.000 0.083 ]\n",
        "238 - Predicted: 0 Actual: 1 [ 0.427 0.402 0.100 0.000 0.030 0.042 0.000 ]\n",
        "239 - Predicted: 2 Actual: 2 [ 0.000 0.222 0.644 0.067 0.000 0.067 0.000 ]\n",
        "240"
       ]
      },
      {
       "output_type": "stream",
       "stream": "stdout",
       "text": [
        " - Predicted: 0 Actual: 1 [ 0.542 0.384 0.000 0.000 0.009 0.000 0.065 ]\n",
        "241 - Predicted: 1 Actual: 1 [ 0.189 0.410 0.167 0.000 0.071 0.137 0.025 ]\n",
        "242 - Predicted: 1 Actual: 0 [ 0.319 0.636 0.000 0.000 0.018 0.000 0.027 ]\n",
        "243 - Predicted: 1 Actual: 1 [ 0.360 0.496 0.000 0.000 0.144 0.000 0.000 ]\n",
        "244 - Predicted: 0 Actual: 0 [ 0.575 0.341 0.000 0.000 0.000 0.000 0.084 ]\n",
        "245 - Predicted: 2 Actual: 2 [ 0.008 0.286 0.564 0.011 0.006 0.125 0.000 ]\n",
        "246 - Predicted: 0 Actual: 1 [ 0.480 0.449 0.000 0.000 0.002 0.000 0.070 ]\n",
        "247 - Predicted: 1 Actual: 0 [ 0.400 0.573 0.007 0.000 0.004 0.004 0.012 ]\n",
        "248 - Predicted: 1 Actual: 0 [ 0.407 0.546 0.000 0.000 0.000 0.000 0.048 ]\n",
        "249 - Predicted: 0 Actual: 1 [ 0.568 0.432 0.000 0.000 0.000 0.000 0.000 ]\n",
        "250"
       ]
      },
      {
       "output_type": "stream",
       "stream": "stdout",
       "text": [
        " - Predicted: 1 Actual: 2 [ 0.013 0.427 0.300 0.096 0.006 0.158 0.000 ]\n",
        "251 - Predicted: 0 Actual: 0 [ 0.461 0.456 0.000 0.000 0.029 0.000 0.054 ]\n",
        "252 - Predicted: 1 Actual: 1 [ 0.374 0.626 0.000 0.000 0.000 0.000 0.000 ]\n",
        "253 - Predicted: 1 Actual: 1 [ 0.359 0.641 0.000 0.000 0.000 0.000 0.000 ]\n",
        "254 - Predicted: 1 Actual: 1 [ 0.400 0.550 0.014 0.001 0.004 0.028 0.004 ]\n",
        "255 - Predicted: 0 Actual: 0 [ 0.563 0.328 0.000 0.000 0.006 0.000 0.104 ]\n",
        "256 - Predicted: 0 Actual: 0 [ 0.565 0.384 0.000 0.000 0.000 0.000 0.051 ]\n",
        "257 - Predicted: 0 Actual: 0 [ 0.516 0.450 0.000 0.000 0.000 0.000 0.033 ]\n",
        "258 - Predicted: 1 Actual: 1 [ 0.013 0.453 0.365 0.010 0.006 0.153 0.000 ]\n",
        "259 - Predicted: 1 Actual: 1 [ 0.277 0.349 0.016 0.000 0.008 0.006 0.345 ]\n",
        "260"
       ]
      },
      {
       "output_type": "stream",
       "stream": "stdout",
       "text": [
        " - Predicted: 0 Actual: 1 [ 0.467 0.383 0.000 0.000 0.000 0.000 0.150 ]\n",
        "261 - Predicted: 1 Actual: 1 [ 0.021 0.592 0.202 0.000 0.069 0.116 0.000 ]\n",
        "262 - Predicted: 1 Actual: 1 [ 0.012 0.359 0.335 0.012 0.006 0.276 0.000 ]\n",
        "263 - Predicted: 1 Actual: 1 [ 0.406 0.474 0.008 0.000 0.013 0.008 0.090 ]\n",
        "264 - Predicted: 1 Actual: 0 [ 0.344 0.422 0.000 0.000 0.056 0.000 0.178 ]\n",
        "265 - Predicted: 0 Actual: 0 [ 0.555 0.445 0.000 0.000 0.000 0.000 0.000 ]\n",
        "266 - Predicted: 0 Actual: 0 [ 0.546 0.363 0.000 0.000 0.090 0.000 0.000 ]\n",
        "267 - Predicted: 0 Actual: 1 [ 0.671 0.245 0.042 0.000 0.000 0.042 0.000 ]\n",
        "268 - Predicted: 1 Actual: 2 [ 0.093 0.492 0.275 0.023 0.006 0.098 0.013 ]\n",
        "269 - Predicted: 0 Actual: 0 [ 0.544 0.268 0.000 0.000 0.003 0.000 0.185 ]\n",
        "270"
       ]
      },
      {
       "output_type": "stream",
       "stream": "stdout",
       "text": [
        " - Predicted: 0 Actual: 0 [ 0.528 0.359 0.000 0.000 0.004 0.000 0.109 ]\n",
        "271 - Predicted: 1 Actual: 1 [ 0.112 0.557 0.271 0.000 0.048 0.000 0.013 ]\n",
        "272 - Predicted: 0 Actual: 1 [ 0.451 0.423 0.003 0.000 0.009 0.003 0.111 ]\n",
        "273 - Predicted: 1 Actual: 0 [ 0.295 0.705 0.000 0.000 0.000 0.000 0.000 ]\n",
        "274 - Predicted: 1 Actual: 1 [ 0.292 0.690 0.000 0.000 0.000 0.000 0.018 ]\n",
        "275 - Predicted: 0 Actual: 0 [ 0.529 0.463 0.000 0.000 0.000 0.000 0.008 ]\n",
        "276 - Predicted: 1 Actual: 2 [ 0.000 0.468 0.411 0.000 0.000 0.121 0.000 ]\n",
        "277 - Predicted: 1 Actual: 1 [ 0.333 0.500 0.083 0.000 0.000 0.083 0.000 ]\n",
        "278 - Predicted: 1 Actual: 0 [ 0.244 0.701 0.056 0.000 0.000 0.000 0.000 ]\n",
        "279 - Predicted: 1 Actual: 1 [ 0.379 0.512 0.000 0.000 0.000 0.026 0.083 ]\n",
        "280"
       ]
      },
      {
       "output_type": "stream",
       "stream": "stdout",
       "text": [
        " - Predicted: 1 Actual: 0 [ 0.414 0.522 0.026 0.000 0.019 0.004 0.016 ]\n",
        "281 - Predicted: 1 Actual: 1 [ 0.283 0.586 0.016 0.002 0.092 0.012 0.009 ]\n",
        "282 - Predicted: 1 Actual: 1 [ 0.281 0.646 0.029 0.001 0.014 0.021 0.008 ]\n",
        "283 - Predicted: 1 Actual: 1 [ 0.252 0.729 0.000 0.000 0.000 0.000 0.019 ]\n",
        "284 - Predicted: 1 Actual: 1 [ 0.316 0.634 0.006 0.000 0.006 0.009 0.030 ]\n",
        "285 - Predicted: 1 Actual: 0 [ 0.437 0.474 0.020 0.001 0.006 0.005 0.058 ]\n",
        "286 - Predicted: 1 Actual: 0 [ 0.384 0.548 0.000 0.000 0.000 0.000 0.067 ]\n",
        "287 - Predicted: 0 Actual: 1 [ 0.526 0.474 0.000 0.000 0.000 0.000 0.000 ]\n",
        "288 - Predicted: 0 Actual: 0 [ 0.605 0.315 0.000 0.000 0.066 0.014 0.000 ]\n",
        "289 - Predicted: 2 Actual: 2 [ 0.133 0.135 0.527 0.081 0.000 0.124 0.000 ]\n",
        "290"
       ]
      },
      {
       "output_type": "stream",
       "stream": "stdout",
       "text": [
        " - Predicted: 0 Actual: 1 [ 0.582 0.412 0.000 0.000 0.000 0.000 0.006 ]\n",
        "291 - Predicted: 1 Actual: 0 [ 0.424 0.563 0.000 0.000 0.000 0.012 0.000 ]\n",
        "292 - Predicted: 0 Actual: 0 [ 0.524 0.472 0.000 0.000 0.001 0.000 0.002 ]\n",
        "293 - Predicted: 1 Actual: 1 [ 0.282 0.653 0.007 0.000 0.026 0.020 0.011 ]\n",
        "294 - Predicted: 0 Actual: 0 [ 0.568 0.297 0.016 0.000 0.009 0.014 0.096 ]\n",
        "295 - Predicted: 1 Actual: 1 [ 0.394 0.588 0.000 0.000 0.000 0.000 0.018 ]\n",
        "296 - Predicted: 1 Actual: 2 [ 0.227 0.554 0.107 0.000 0.009 0.090 0.013 ]\n",
        "297 - Predicted: 1 Actual: 1 [ 0.359 0.620 0.002 0.000 0.001 0.000 0.017 ]\n",
        "298 - Predicted: 0 Actual: 0 [ 0.424 0.343 0.053 0.000 0.000 0.002 0.178 ]\n",
        "299 - Predicted: 1 Actual: 1 [ 0.434 0.514 0.016 0.000 0.009 0.014 0.013 ]\n",
        "300"
       ]
      },
      {
       "output_type": "stream",
       "stream": "stdout",
       "text": [
        " - Predicted: 0 Actual: 0 [ 0.533 0.440 0.002 0.000 0.011 0.000 0.015 ]\n",
        "301 - Predicted: 0 Actual: 0 [ 0.556 0.444 0.000 0.000 0.000 0.000 0.000 ]\n",
        "302 - Predicted: 0 Actual: 1 [ 0.518 0.474 0.000 0.000 0.004 0.004 0.000 ]\n",
        "303 - Predicted: 2 Actual: 2 [ 0.103 0.314 0.426 0.004 0.020 0.129 0.004 ]\n",
        "304 - Predicted: 0 Actual: 0 [ 0.521 0.447 0.015 0.000 0.006 0.004 0.008 ]\n",
        "305 - Predicted: 0 Actual: 0 [ 0.634 0.227 0.015 0.000 0.006 0.004 0.115 ]\n",
        "306 - Predicted: 1 Actual: 1 [ 0.202 0.735 0.002 0.000 0.001 0.000 0.059 ]\n",
        "307 - Predicted: 1 Actual: 1 [ 0.481 0.494 0.000 0.000 0.018 0.000 0.006 ]\n",
        "308 - Predicted: 1 Actual: 1 [ 0.315 0.665 0.002 0.000 0.001 0.000 0.017 ]\n",
        "309 - Predicted: 1 Actual: 1 [ 0.304 0.689 0.000 0.000 0.007 0.000 0.000 ]\n",
        "310"
       ]
      },
      {
       "output_type": "stream",
       "stream": "stdout",
       "text": [
        " - Predicted: 1 Actual: 1 [ 0.444 0.556 0.000 0.000 0.000 0.000 0.000 ]\n",
        "311 - Predicted: 2 Actual: 2 [ 0.089 0.209 0.352 0.051 0.015 0.278 0.006 ]\n",
        "312 - Predicted: 1 Actual: 1 [ 0.228 0.744 0.000 0.000 0.000 0.000 0.028 ]\n",
        "313 - Predicted: 1 Actual: 1 [ 0.265 0.590 0.020 0.000 0.034 0.068 0.024 ]\n",
        "314 - Predicted: 1 Actual: 1 [ 0.321 0.562 0.035 0.000 0.000 0.014 0.067 ]\n",
        "315 - Predicted: 0 Actual: 0 [ 0.531 0.442 0.000 0.000 0.000 0.000 0.028 ]\n",
        "316 - Predicted: 0 Actual: 0 [ 0.580 0.382 0.012 0.000 0.010 0.012 0.006 ]\n",
        "317 - Predicted: 1 Actual: 1 [ 0.067 0.765 0.088 0.000 0.065 0.015 0.000 ]\n",
        "318 - Predicted: 0 Actual: 0 [ 0.577 0.294 0.000 0.000 0.016 0.000 0.112 ]\n",
        "319 - Predicted: 1 Actual: 0 [ 0.149 0.820 0.000 0.000 0.000 0.000 0.031 ]\n",
        "320"
       ]
      },
      {
       "output_type": "stream",
       "stream": "stdout",
       "text": [
        " - Predicted: 1 Actual: 1 [ 0.336 0.630 0.000 0.000 0.000 0.000 0.034 ]\n",
        "321 - Predicted: 1 Actual: 1 [ 0.321 0.535 0.000 0.000 0.004 0.000 0.140 ]\n",
        "322 - Predicted: 0 Actual: 0 [ 0.688 0.251 0.000 0.000 0.001 0.000 0.060 ]\n",
        "323 - Predicted: 0 Actual: 1 [ 0.478 0.472 0.012 0.000 0.010 0.012 0.017 ]\n",
        "324 - Predicted: 1 Actual: 0 [ 0.284 0.618 0.017 0.003 0.013 0.054 0.012 ]\n",
        "325 - Predicted: 0 Actual: 0 [ 0.688 0.312 0.000 0.000 0.000 0.000 0.000 ]\n",
        "326 - Predicted: 1 Actual: 2 [ 0.070 0.328 0.262 0.007 0.010 0.320 0.002 ]\n",
        "327 - Predicted: 0 Actual: 0 [ 0.522 0.317 0.000 0.000 0.008 0.001 0.152 ]\n",
        "328 - Predicted: 0 Actual: 1 [ 0.470 0.349 0.000 0.000 0.000 0.000 0.181 ]\n",
        "329 - Predicted: 0 Actual: 1 [ 0.371 0.312 0.095 0.028 0.010 0.012 0.172 ]\n",
        "330"
       ]
      },
      {
       "output_type": "stream",
       "stream": "stdout",
       "text": [
        " - Predicted: 1 Actual: 1 [ 0.317 0.610 0.014 0.000 0.032 0.009 0.018 ]\n",
        "331 - Predicted: 1 Actual: 2 [ 0.197 0.350 0.260 0.026 0.004 0.153 0.011 ]\n",
        "332 - Predicted: 0 Actual: 0 [ 0.614 0.329 0.000 0.000 0.008 0.000 0.049 ]\n",
        "333 - Predicted: 0 Actual: 1 [ 0.684 0.311 0.000 0.000 0.000 0.000 0.005 ]\n",
        "334 - Predicted: 1 Actual: 1 [ 0.324 0.605 0.000 0.000 0.048 0.024 0.000 ]\n",
        "335 - Predicted: 1 Actual: 0 [ 0.410 0.523 0.000 0.000 0.000 0.000 0.068 ]\n",
        "336 - Predicted: 0 Actual: 0 [ 0.796 0.159 0.000 0.000 0.002 0.003 0.041 ]\n",
        "337 - Predicted: 0 Actual: 1 [ 0.498 0.455 0.000 0.000 0.000 0.000 0.048 ]\n",
        "338 - Predicted: 1 Actual: 0 [ 0.313 0.661 0.000 0.000 0.014 0.000 0.011 ]\n",
        "339 - Predicted: 1 Actual: 1 [ 0.200 0.800 0.000 0.000 0.000 0.000 0.000 ]\n",
        "340"
       ]
      },
      {
       "output_type": "stream",
       "stream": "stdout",
       "text": [
        " - Predicted: 1 Actual: 1 [ 0.304 0.632 0.018 0.000 0.015 0.031 0.000 ]\n",
        "341 - Predicted: 0 Actual: 0 [ 0.519 0.474 0.000 0.000 0.000 0.000 0.007 ]\n",
        "342 - Predicted: 1 Actual: 1 [ 0.225 0.738 0.000 0.000 0.019 0.019 0.000 ]\n",
        "343 - Predicted: 1 Actual: 0 [ 0.391 0.598 0.000 0.000 0.002 0.000 0.009 ]\n",
        "344 - Predicted: 1 Actual: 2 [ 0.116 0.419 0.375 0.024 0.016 0.050 0.000 ]\n",
        "345 - Predicted: 1 Actual: 1 [ 0.352 0.538 0.000 0.000 0.002 0.000 0.108 ]\n",
        "346 - Predicted: 2 Actual: 1 [ 0.087 0.275 0.355 0.024 0.035 0.214 0.009 ]\n",
        "347 - Predicted: 1 Actual: 0 [ 0.336 0.625 0.005 0.000 0.024 0.005 0.005 ]\n",
        "348 - Predicted: 0 Actual: 0 [ 0.438 0.375 0.005 0.000 0.005 0.005 0.172 ]\n",
        "349 - Predicted: 0 Actual: 1 [ 0.528 0.472 0.000 0.000 0.000 0.000 0.000 ]\n",
        "350"
       ]
      },
      {
       "output_type": "stream",
       "stream": "stdout",
       "text": [
        " - Predicted: 1 Actual: 1 [ 0.400 0.547 0.013 0.000 0.005 0.000 0.034 ]\n",
        "351 - Predicted: 0 Actual: 1 [ 0.533 0.350 0.000 0.000 0.000 0.000 0.117 ]\n",
        "352 - Predicted: 1 Actual: 1 [ 0.388 0.586 0.000 0.000 0.006 0.000 0.020 ]\n",
        "353 - Predicted: 0 Actual: 1 [ 0.518 0.482 0.000 0.000 0.000 0.000 0.000 ]\n",
        "354 - Predicted: 0 Actual: 0 [ 0.610 0.345 0.000 0.000 0.000 0.000 0.045 ]\n",
        "355 - Predicted: 1 Actual: 0 [ 0.367 0.630 0.000 0.000 0.002 0.000 0.002 ]\n",
        "356 - Predicted: 0 Actual: 1 [ 0.519 0.410 0.000 0.000 0.000 0.000 0.071 ]\n",
        "357 - Predicted: 1 Actual: 2 [ 0.101 0.512 0.266 0.000 0.102 0.019 0.000 ]\n",
        "358 - Predicted: 1 Actual: 0 [ 0.278 0.569 0.000 0.000 0.000 0.000 0.153 ]\n",
        "359 - Predicted: 0 Actual: 0 [ 0.611 0.351 0.008 0.000 0.000 0.000 0.029 ]\n",
        "360"
       ]
      },
      {
       "output_type": "stream",
       "stream": "stdout",
       "text": [
        " - Predicted: 1 Actual: 1 [ 0.010 0.574 0.257 0.034 0.010 0.115 0.000 ]\n",
        "361 - Predicted: 1 Actual: 1 [ 0.393 0.570 0.000 0.000 0.037 0.000 0.000 ]\n",
        "362 - Predicted: 1 Actual: 0 [ 0.406 0.594 0.000 0.000 0.000 0.000 0.000 ]\n",
        "363 - Predicted: 1 Actual: 0 [ 0.405 0.585 0.000 0.000 0.002 0.000 0.007 ]\n",
        "364 - Predicted: 1 Actual: 1 [ 0.419 0.543 0.000 0.000 0.024 0.001 0.013 ]\n",
        "365 - Predicted: 1 Actual: 1 [ 0.280 0.663 0.000 0.000 0.047 0.000 0.010 ]\n",
        "366 - Predicted: 1 Actual: 1 [ 0.329 0.626 0.000 0.000 0.000 0.000 0.045 ]\n",
        "367 - Predicted: 1 Actual: 0 [ 0.360 0.630 0.000 0.000 0.007 0.000 0.003 ]\n",
        "368 - Predicted: 1 Actual: 2 [ 0.000 0.450 0.258 0.111 0.028 0.153 0.000 ]\n",
        "369 - Predicted: 0 Actual: 0 [ 0.520 0.418 0.012 0.000 0.017 0.012 0.021 ]\n",
        "370"
       ]
      },
      {
       "output_type": "stream",
       "stream": "stdout",
       "text": [
        " - Predicted: 1 Actual: 1 [ 0.339 0.661 0.000 0.000 0.000 0.000 0.000 ]\n",
        "371 - Predicted: 1 Actual: 2 [ 0.000 0.379 0.373 0.044 0.000 0.204 0.000 ]\n",
        "372 - Predicted: 0 Actual: 0 [ 0.533 0.452 0.000 0.000 0.000 0.010 0.005 ]\n",
        "373 - Predicted: 1 Actual: 0 [ 0.486 0.486 0.028 0.000 0.000 0.000 0.000 ]\n",
        "374 - Predicted: 1 Actual: 1 [ 0.481 0.507 0.001 0.000 0.001 0.001 0.008 ]\n",
        "375 - Predicted: 1 Actual: 1 [ 0.431 0.569 0.000 0.000 0.000 0.000 0.000 ]\n",
        "376 - Predicted: 1 Actual: 1 [ 0.087 0.668 0.160 0.000 0.013 0.072 0.000 ]\n",
        "377 - Predicted: 0 Actual: 0 [ 0.561 0.439 0.000 0.000 0.000 0.000 0.000 ]\n",
        "378 - Predicted: 0 Actual: 0 [ 0.610 0.301 0.000 0.000 0.000 0.000 0.088 ]\n",
        "379 - Predicted: 1 Actual: 1 [ 0.292 0.554 0.008 0.001 0.132 0.005 0.010 ]\n",
        "380"
       ]
      },
      {
       "output_type": "stream",
       "stream": "stdout",
       "text": [
        " - Predicted: 0 Actual: 0 [ 0.514 0.429 0.008 0.001 0.007 0.005 0.037 ]\n",
        "381 - Predicted: 0 Actual: 0 [ 0.557 0.356 0.003 0.000 0.001 0.001 0.082 ]\n",
        "382 - Predicted: 0 Actual: 1 [ 0.639 0.290 0.000 0.000 0.000 0.000 0.071 ]\n",
        "383 - Predicted: 2 Actual: 2 [ 0.107 0.222 0.538 0.014 0.006 0.102 0.012 ]\n",
        "384 - Predicted: 0 Actual: 1 [ 0.525 0.442 0.000 0.000 0.000 0.000 0.033 ]\n",
        "385 - Predicted: 1 Actual: 1 [ 0.370 0.588 0.008 0.001 0.012 0.005 0.017 ]\n",
        "386 - Predicted: 1 Actual: 1 [ 0.051 0.487 0.135 0.000 0.000 0.327 0.000 ]\n",
        "387 - Predicted: 1 Actual: 1 [ 0.396 0.421 0.139 0.000 0.040 0.000 0.004 ]\n",
        "388 - Predicted: 1 Actual: 0 [ 0.486 0.490 0.012 0.000 0.012 0.000 0.000 ]\n",
        "389 - Predicted: 0 Actual: 0 [ 0.693 0.230 0.000 0.000 0.000 0.000 0.078 ]\n",
        "390"
       ]
      },
      {
       "output_type": "stream",
       "stream": "stdout",
       "text": [
        " - Predicted: 1 Actual: 1 [ 0.174 0.742 0.004 0.067 0.010 0.002 0.001 ]\n",
        "391 - Predicted: 0 Actual: 0 [ 0.515 0.485 0.000 0.000 0.000 0.000 0.000 ]\n",
        "392 - Predicted: 1 Actual: 1 [ 0.306 0.694 0.000 0.000 0.000 0.000 0.000 ]\n",
        "393 - Predicted: 0 Actual: 0 [ 0.482 0.478 0.003 0.000 0.005 0.006 0.025 ]\n",
        "394 - Predicted: 0 Actual: 1 [ 0.528 0.404 0.000 0.000 0.000 0.000 0.068 ]\n",
        "395 - Predicted: 1 Actual: 0 [ 0.384 0.562 0.000 0.000 0.038 0.016 0.000 ]\n",
        "396 - Predicted: 1 Actual: 1 [ 0.408 0.592 0.000 0.000 0.000 0.000 0.000 ]\n",
        "397 - Predicted: 1 Actual: 1 [ 0.338 0.537 0.000 0.000 0.000 0.000 0.125 ]\n",
        "398 - Predicted: 0 Actual: 0 [ 0.512 0.466 0.000 0.000 0.000 0.000 0.022 ]\n",
        "399 - Predicted: 1 Actual: 2 [ 0.200 0.366 0.276 0.000 0.037 0.120 0.000 ]\n",
        "400"
       ]
      },
      {
       "output_type": "stream",
       "stream": "stdout",
       "text": [
        " - Predicted: 0 Actual: 0 [ 0.585 0.415 0.000 0.000 0.000 0.000 0.000 ]\n",
        "401 - Predicted: 1 Actual: 2 [ 0.022 0.361 0.316 0.007 0.000 0.293 0.000 ]\n",
        "402 - Predicted: 0 Actual: 0 [ 0.482 0.365 0.000 0.000 0.000 0.000 0.153 ]\n",
        "403 - Predicted: 0 Actual: 1 [ 0.700 0.300 0.000 0.000 0.000 0.000 0.000 ]\n",
        "404 - Predicted: 1 Actual: 1 [ 0.199 0.539 0.226 0.000 0.036 0.000 0.000 ]\n",
        "405 - Predicted: 0 Actual: 0 [ 0.590 0.238 0.000 0.000 0.000 0.000 0.173 ]\n",
        "406 - Predicted: 1 Actual: 1 [ 0.384 0.600 0.000 0.000 0.007 0.000 0.008 ]\n",
        "407 - Predicted: 0 Actual: 1 [ 0.505 0.320 0.000 0.000 0.009 0.000 0.166 ]\n",
        "408 - Predicted: 1 Actual: 1 [ 0.369 0.617 0.000 0.000 0.000 0.000 0.013 ]\n",
        "409 - Predicted: 1 Actual: 0 [ 0.128 0.858 0.000 0.000 0.000 0.000 0.013 ]\n",
        "410"
       ]
      },
      {
       "output_type": "stream",
       "stream": "stdout",
       "text": [
        " - Predicted: 1 Actual: 1 [ 0.187 0.813 0.000 0.000 0.000 0.000 0.000 ]\n",
        "411 - Predicted: 1 Actual: 1 [ 0.333 0.400 0.200 0.000 0.067 0.000 0.000 ]\n",
        "412 - Predicted: 1 Actual: 0 [ 0.135 0.496 0.205 0.000 0.133 0.004 0.026 ]\n",
        "413 - Predicted: 0 Actual: 0 [ 0.403 0.313 0.000 0.000 0.000 0.000 0.285 ]\n",
        "414 - Predicted: 1 Actual: 0 [ 0.348 0.356 0.205 0.001 0.075 0.006 0.009 ]\n",
        "415 - Predicted: 1 Actual: 1 [ 0.429 0.483 0.069 0.000 0.001 0.000 0.017 ]\n",
        "416 - Predicted: 1 Actual: 1 [ 0.148 0.548 0.200 0.000 0.067 0.000 0.037 ]\n",
        "417 - Predicted: 0 Actual: 0 [ 0.669 0.312 0.000 0.000 0.000 0.000 0.019 ]\n",
        "418 - Predicted: 2 Actual: 2 [ 0.026 0.210 0.585 0.005 0.000 0.174 0.000 ]\n",
        "419 - Predicted: 1 Actual: 1 [ 0.235 0.735 0.000 0.000 0.014 0.003 0.013 ]\n",
        "420"
       ]
      },
      {
       "output_type": "stream",
       "stream": "stdout",
       "text": [
        " - Predicted: 1 Actual: 1 [ 0.163 0.546 0.206 0.048 0.002 0.035 0.000 ]\n",
        "421 - Predicted: 1 Actual: 1 [ 0.000 0.796 0.105 0.000 0.079 0.019 0.000 ]\n",
        "422 - Predicted: 0 Actual: 1 [ 0.517 0.483 0.000 0.000 0.000 0.000 0.000 ]\n",
        "423 - Predicted: 1 Actual: 0 [ 0.477 0.523 0.000 0.000 0.000 0.000 0.000 ]\n",
        "424 - Predicted: 0 Actual: 0 [ 0.672 0.328 0.000 0.000 0.000 0.000 0.000 ]\n",
        "425 - Predicted: 0 Actual: 0 [ 0.517 0.372 0.000 0.000 0.000 0.000 0.111 ]\n",
        "426 - Predicted: 1 Actual: 1 [ 0.341 0.455 0.148 0.002 0.007 0.042 0.005 ]\n",
        "427 - Predicted: 1 Actual: 0 [ 0.337 0.553 0.046 0.000 0.001 0.000 0.064 ]\n",
        "428 - Predicted: 1 Actual: 1 [ 0.366 0.532 0.005 0.000 0.005 0.005 0.086 ]\n",
        "429 - Predicted: 5 Actual: 2 [ 0.021 0.084 0.419 0.042 0.000 0.434 0.000 ]\n",
        "430"
       ]
      },
      {
       "output_type": "stream",
       "stream": "stdout",
       "text": [
        " - Predicted: 0 Actual: 0 [ 0.612 0.356 0.000 0.000 0.000 0.000 0.033 ]\n",
        "431 - Predicted: 2 Actual: 1 [ 0.179 0.143 0.530 0.083 0.000 0.065 0.000 ]\n",
        "432 - Predicted: 1 Actual: 1 [ 0.387 0.589 0.006 0.000 0.002 0.008 0.008 ]\n",
        "433 - Predicted: 1 Actual: 1 [ 0.327 0.496 0.004 0.000 0.000 0.167 0.006 ]\n",
        "434 - Predicted: 1 Actual: 2 [ 0.357 0.591 0.023 0.000 0.013 0.016 0.000 ]\n",
        "435 - Predicted: 0 Actual: 0 [ 0.617 0.318 0.000 0.000 0.050 0.000 0.014 ]\n",
        "436 - Predicted: 0 Actual: 0 [ 0.763 0.201 0.000 0.000 0.000 0.000 0.036 ]\n",
        "437 - Predicted: 0 Actual: 1 [ 0.450 0.412 0.000 0.000 0.000 0.000 0.138 ]\n",
        "438 - Predicted: 0 Actual: 1 [ 0.414 0.342 0.124 0.002 0.002 0.105 0.010 ]\n",
        "439 - Predicted: 1 Actual: 0 [ 0.378 0.557 0.000 0.000 0.009 0.008 0.048 ]\n",
        "440"
       ]
      },
      {
       "output_type": "stream",
       "stream": "stdout",
       "text": [
        " - Predicted: 1 Actual: 1 [ 0.285 0.671 0.000 0.000 0.034 0.003 0.006 ]\n",
        "441 - Predicted: 0 Actual: 1 [ 0.685 0.315 0.000 0.000 0.000 0.000 0.000 ]\n",
        "442 - Predicted: 1 Actual: 0 [ 0.428 0.478 0.015 0.006 0.000 0.002 0.070 ]\n",
        "443 - Predicted: 0 Actual: 0 [ 0.592 0.312 0.067 0.000 0.009 0.000 0.021 ]\n",
        "444 - Predicted: 1 Actual: 1 [ 0.437 0.516 0.000 0.000 0.000 0.000 0.048 ]\n",
        "445 - Predicted: 0 Actual: 0 [ 0.637 0.331 0.000 0.000 0.000 0.000 0.033 ]\n",
        "446 - Predicted: 1 Actual: 1 [ 0.380 0.589 0.000 0.008 0.014 0.003 0.006 ]\n",
        "447 - Predicted: 1 Actual: 1 [ 0.368 0.630 0.000 0.000 0.002 0.000 0.000 ]\n",
        "448 - Predicted: 2 Actual: 2 [ 0.014 0.032 0.713 0.106 0.000 0.134 0.000 ]\n",
        "449 - Predicted: 0 Actual: 0 [ 0.521 0.479 0.000 0.000 0.000 0.000 0.000 ]\n",
        "450"
       ]
      },
      {
       "output_type": "stream",
       "stream": "stdout",
       "text": [
        " - Predicted: 1 Actual: 1 [ 0.441 0.540 0.000 0.000 0.000 0.000 0.019 ]\n",
        "451 - Predicted: 0 Actual: 1 [ 0.495 0.441 0.013 0.000 0.013 0.000 0.040 ]\n",
        "452 - Predicted: 1 Actual: 0 [ 0.191 0.549 0.148 0.000 0.093 0.019 0.000 ]\n",
        "453 - Predicted: 0 Actual: 1 [ 0.560 0.301 0.000 0.000 0.000 0.000 0.140 ]\n",
        "454 - Predicted: 0 Actual: 0 [ 0.675 0.315 0.000 0.000 0.000 0.000 0.010 ]\n",
        "455 - Predicted: 1 Actual: 1 [ 0.449 0.551 0.000 0.000 0.000 0.000 0.000 ]\n",
        "456 - Predicted: 2 Actual: 2 [ 0.234 0.367 0.368 0.005 0.007 0.016 0.004 ]\n",
        "457 - Predicted: 0 Actual: 1 [ 0.569 0.291 0.000 0.000 0.000 0.000 0.141 ]\n",
        "458 - Predicted: 0 Actual: 0 [ 0.525 0.440 0.000 0.000 0.000 0.000 0.035 ]\n",
        "459 - Predicted: 1 Actual: 0 [ 0.412 0.588 0.000 0.000 0.000 0.000 0.000 ]\n",
        "460"
       ]
      },
      {
       "output_type": "stream",
       "stream": "stdout",
       "text": [
        " - Predicted: 1 Actual: 2 [ 0.002 0.386 0.309 0.040 0.002 0.261 0.000 ]\n",
        "461 - Predicted: 0 Actual: 0 [ 0.554 0.406 0.000 0.000 0.000 0.000 0.041 ]\n",
        "462 - Predicted: 1 Actual: 0 [ 0.312 0.688 0.000 0.000 0.000 0.000 0.000 ]\n",
        "463 - Predicted: 1 Actual: 1 [ 0.181 0.819 0.000 0.000 0.000 0.000 0.000 ]\n",
        "464 - Predicted: 1 Actual: 1 [ 0.408 0.521 0.010 0.000 0.055 0.000 0.005 ]\n",
        "465 - Predicted: 0 Actual: 1 [ 0.643 0.305 0.026 0.000 0.000 0.000 0.026 ]\n",
        "466 - Predicted: 0 Actual: 1 [ 0.591 0.353 0.026 0.000 0.000 0.013 0.018 ]\n",
        "467 - Predicted: 0 Actual: 0 [ 0.575 0.411 0.000 0.000 0.000 0.000 0.013 ]\n",
        "468 - Predicted: 0 Actual: 0 [ 0.548 0.358 0.000 0.000 0.000 0.000 0.094 ]\n",
        "469 - Predicted: 1 Actual: 1 [ 0.206 0.638 0.005 0.000 0.045 0.106 0.000 ]\n",
        "470"
       ]
      },
      {
       "output_type": "stream",
       "stream": "stdout",
       "text": [
        " - Predicted: 0 Actual: 0 [ 0.673 0.306 0.000 0.000 0.000 0.000 0.021 ]\n",
        "471 - Predicted: 1 Actual: 1 [ 0.256 0.744 0.000 0.000 0.000 0.000 0.000 ]\n",
        "472 - Predicted: 1 Actual: 1 [ 0.176 0.769 0.000 0.000 0.000 0.000 0.056 ]\n",
        "473 - Predicted: 0 Actual: 0 [ 0.582 0.313 0.000 0.000 0.000 0.000 0.105 ]\n",
        "474 - Predicted: 0 Actual: 1 [ 0.523 0.358 0.111 0.000 0.007 0.001 0.000 ]\n",
        "475 - Predicted: 1 Actual: 0 [ 0.480 0.505 0.000 0.000 0.000 0.000 0.015 ]\n",
        "476 - Predicted: 0 Actual: 1 [ 0.587 0.413 0.000 0.000 0.000 0.000 0.000 ]\n",
        "477 - Predicted: 1 Actual: 0 [ 0.389 0.545 0.026 0.001 0.010 0.006 0.023 ]\n",
        "478 - Predicted: 2 Actual: 2 [ 0.000 0.099 0.444 0.141 0.000 0.316 0.000 ]\n",
        "479 - Predicted: 1 Actual: 1 [ 0.356 0.597 0.000 0.000 0.007 0.000 0.040 ]\n",
        "480"
       ]
      },
      {
       "output_type": "stream",
       "stream": "stdout",
       "text": [
        " - Predicted: 0 Actual: 1 [ 0.493 0.480 0.007 0.000 0.004 0.007 0.010 ]\n",
        "481 - Predicted: 1 Actual: 1 [ 0.324 0.598 0.002 0.000 0.035 0.041 0.000 ]\n",
        "482 - Predicted: 1 Actual: 0 [ 0.433 0.540 0.007 0.000 0.004 0.007 0.010 ]\n",
        "483 - Predicted: 0 Actual: 0 [ 0.547 0.423 0.008 0.001 0.007 0.005 0.010 ]\n",
        "484 - Predicted: 0 Actual: 0 [ 0.502 0.416 0.031 0.002 0.015 0.017 0.017 ]\n",
        "485 - Predicted: 1 Actual: 1 [ 0.397 0.603 0.000 0.000 0.000 0.000 0.000 ]\n",
        "486 - Predicted: 1 Actual: 1 [ 0.450 0.550 0.000 0.000 0.000 0.000 0.000 ]\n",
        "487 - Predicted: 1 Actual: 1 [ 0.439 0.561 0.000 0.000 0.000 0.000 0.000 ]\n",
        "488 - Predicted: 1 Actual: 0 [ 0.425 0.558 0.000 0.000 0.000 0.000 0.017 ]\n",
        "489 - Predicted: 2 Actual: 2 [ 0.011 0.137 0.446 0.044 0.009 0.353 0.000 ]\n",
        "490"
       ]
      },
      {
       "output_type": "stream",
       "stream": "stdout",
       "text": [
        " - Predicted: 2 Actual: 2 [ 0.050 0.211 0.518 0.029 0.000 0.191 0.000 ]\n",
        "491 - Predicted: 1 Actual: 1 [ 0.453 0.534 0.000 0.000 0.005 0.000 0.008 ]\n",
        "492 - Predicted: 0 Actual: 0 [ 0.646 0.224 0.000 0.000 0.001 0.000 0.130 ]\n",
        "493 - Predicted: 1 Actual: 1 [ 0.338 0.653 0.000 0.000 0.009 0.000 0.000 ]\n",
        "494 - Predicted: 0 Actual: 1 [ 0.606 0.366 0.000 0.000 0.028 0.000 0.000 ]\n",
        "495 - Predicted: 2 Actual: 1 [ 0.097 0.286 0.320 0.020 0.017 0.253 0.005 ]\n",
        "496 - Predicted: 0 Actual: 1 [ 0.586 0.380 0.000 0.000 0.000 0.000 0.034 ]\n",
        "497 - Predicted: 0 Actual: 0 [ 0.633 0.367 0.000 0.000 0.000 0.000 0.000 ]\n",
        "498 - Predicted: 0 Actual: 0 [ 0.405 0.359 0.027 0.000 0.004 0.000 0.204 ]\n",
        "499 - Predicted: 1 Actual: 0 [ 0.377 0.570 0.000 0.000 0.053 0.000 0.000 ]\n",
        "500"
       ]
      },
      {
       "output_type": "stream",
       "stream": "stdout",
       "text": [
        " - Predicted: 1 Actual: 1 [ 0.422 0.578 0.000 0.000 0.000 0.000 0.000 ]\n",
        "501 - Predicted: 1 Actual: 1 [ 0.362 0.623 0.000 0.000 0.000 0.000 0.015 ]\n",
        "502 - Predicted: 0 Actual: 0 [ 0.658 0.331 0.000 0.000 0.000 0.000 0.011 ]\n",
        "503 - Predicted: 1 Actual: 0 [ 0.344 0.474 0.030 0.000 0.000 0.000 0.151 ]\n",
        "504 - Predicted: 2 Actual: 2 [ 0.048 0.183 0.553 0.045 0.000 0.172 0.000 ]\n",
        "505 - Predicted: 0 Actual: 0 [ 0.603 0.386 0.000 0.000 0.000 0.000 0.011 ]\n",
        "506 - Predicted: 0 Actual: 1 [ 0.560 0.406 0.013 0.000 0.001 0.020 0.000 ]\n",
        "507 - Predicted: 1 Actual: 1 [ 0.142 0.858 0.000 0.000 0.000 0.000 0.000 ]\n",
        "508 - Predicted: 1 Actual: 1 [ 0.304 0.690 0.000 0.000 0.002 0.000 0.004 ]\n",
        "509 - Predicted: 0 Actual: 0 [ 0.547 0.448 0.000 0.000 0.001 0.000 0.004 ]\n",
        "510"
       ]
      },
      {
       "output_type": "stream",
       "stream": "stdout",
       "text": [
        " - Predicted: 0 Actual: 1 [ 0.546 0.404 0.021 0.002 0.005 0.010 0.012 ]\n",
        "511 - Predicted: 1 Actual: 1 [ 0.249 0.751 0.000 0.000 0.000 0.000 0.000 ]\n",
        "512 - Predicted: 1 Actual: 1 [ 0.210 0.585 0.086 0.002 0.071 0.033 0.013 ]\n",
        "513 - Predicted: 0 Actual: 0 [ 0.524 0.401 0.021 0.002 0.005 0.010 0.037 ]\n",
        "514 - Predicted: 2 Actual: 2 [ 0.081 0.288 0.420 0.045 0.011 0.151 0.005 ]\n",
        "515 - Predicted: 1 Actual: 0 [ 0.272 0.584 0.000 0.000 0.144 0.000 0.000 ]\n",
        "516 - Predicted: 0 Actual: 0 [ 0.501 0.427 0.021 0.002 0.005 0.010 0.033 ]\n",
        "517 - Predicted: 1 Actual: 1 [ 0.262 0.738 0.000 0.000 0.000 0.000 0.000 ]\n",
        "518 - Predicted: 1 Actual: 1 [ 0.424 0.525 0.021 0.002 0.005 0.010 0.012 ]\n",
        "519 - Predicted: 0 Actual: 0 [ 0.553 0.397 0.021 0.002 0.005 0.010 0.012 ]\n",
        "520"
       ]
      },
      {
       "output_type": "stream",
       "stream": "stdout",
       "text": [
        " - Predicted: 1 Actual: 1 [ 0.437 0.508 0.012 0.001 0.002 0.006 0.034 ]\n",
        "521 - Predicted: 1 Actual: 1 [ 0.292 0.577 0.036 0.001 0.026 0.054 0.015 ]\n",
        "522 - Predicted: 1 Actual: 1 [ 0.479 0.515 0.000 0.000 0.003 0.000 0.003 ]\n",
        "523 - Predicted: 1 Actual: 1 [ 0.320 0.564 0.014 0.001 0.004 0.081 0.015 ]\n",
        "524 - Predicted: 1 Actual: 1 [ 0.184 0.440 0.172 0.006 0.015 0.179 0.003 ]\n",
        "525 - Predicted: 1 Actual: 0 [ 0.404 0.469 0.057 0.009 0.013 0.018 0.029 ]\n",
        "526 - Predicted: 0 Actual: 0 [ 0.557 0.407 0.012 0.001 0.002 0.006 0.015 ]\n",
        "527 - Predicted: 0 Actual: 0 [ 0.425 0.366 0.062 0.006 0.015 0.027 0.099 ]\n",
        "528 - Predicted: 1 Actual: 2 [ 0.117 0.353 0.317 0.006 0.043 0.160 0.003 ]\n",
        "529 - Predicted: 0 Actual: 0 [ 0.531 0.349 0.012 0.001 0.002 0.006 0.099 ]\n",
        "530"
       ]
      },
      {
       "output_type": "stream",
       "stream": "stdout",
       "text": [
        " - Predicted: 0 Actual: 0 [ 0.569 0.377 0.004 0.000 0.009 0.003 0.038 ]\n",
        "531 - Predicted: 1 Actual: 0 [ 0.357 0.549 0.026 0.002 0.005 0.030 0.031 ]\n",
        "532 - Predicted: 1 Actual: 1 [ 0.294 0.620 0.027 0.001 0.020 0.015 0.023 ]\n",
        "533 - Predicted: 1 Actual: 1 [ 0.415 0.457 0.050 0.002 0.013 0.029 0.034 ]\n",
        "534 - Predicted: 0 Actual: 1 [ 0.571 0.429 0.000 0.000 0.000 0.000 0.000 ]\n",
        "535 - Predicted: 0 Actual: 0 [ 0.556 0.366 0.026 0.002 0.005 0.017 0.029 ]\n",
        "536 - Predicted: 6 Actual: 0 [ 0.458 0.000 0.000 0.000 0.000 0.000 0.542 ]\n",
        "537 - Predicted: 2 Actual: 2 [ 0.090 0.197 0.545 0.002 0.021 0.140 0.005 ]\n",
        "538 - Predicted: 0 Actual: 1 [ 0.443 0.394 0.010 0.056 0.067 0.015 0.015 ]\n",
        "539 - Predicted: 1 Actual: 1 [ 0.363 0.396 0.106 0.003 0.022 0.050 0.060 ]\n",
        "540"
       ]
      },
      {
       "output_type": "stream",
       "stream": "stdout",
       "text": [
        " - Predicted: 0 Actual: 0 [ 0.563 0.412 0.002 0.000 0.002 0.002 0.020 ]\n",
        "541 - Predicted: 1 Actual: 1 [ 0.273 0.598 0.001 0.000 0.118 0.003 0.007 ]\n",
        "542 - Predicted: 0 Actual: 0 [ 0.455 0.431 0.045 0.004 0.016 0.031 0.017 ]\n",
        "543 - Predicted: 0 Actual: 0 [ 0.593 0.285 0.000 0.000 0.011 0.000 0.111 ]\n",
        "544 - Predicted: 1 Actual: 1 [ 0.434 0.542 0.004 0.000 0.001 0.003 0.015 ]\n",
        "545 - Predicted: 1 Actual: 0 [ 0.331 0.359 0.079 0.005 0.148 0.065 0.014 ]\n",
        "546 - Predicted: 2 Actual: 2 [ 0.132 0.322 0.326 0.028 0.026 0.158 0.008 ]\n",
        "547 - Predicted: 1 Actual: 1 [ 0.289 0.673 0.004 0.000 0.011 0.003 0.020 ]\n",
        "548 - Predicted: 1 Actual: 1 [ 0.189 0.588 0.126 0.002 0.028 0.059 0.008 ]\n",
        "549 - Predicted: 1 Actual: 1 [ 0.316 0.475 0.152 0.000 0.001 0.040 0.015 ]\n",
        "550"
       ]
      },
      {
       "output_type": "stream",
       "stream": "stdout",
       "text": [
        " - Predicted: 1 Actual: 0 [ 0.312 0.497 0.074 0.000 0.065 0.039 0.013 ]\n",
        "551 - Predicted: 0 Actual: 0 [ 0.624 0.305 0.000 0.000 0.000 0.000 0.071 ]\n",
        "552 - Predicted: 0 Actual: 1 [ 0.553 0.418 0.020 0.000 0.010 0.000 0.000 ]\n",
        "553 - Predicted: 0 Actual: 0 [ 0.658 0.201 0.004 0.000 0.003 0.001 0.133 ]\n",
        "554 - Predicted: 1 Actual: 2 [ 0.183 0.343 0.339 0.005 0.009 0.107 0.014 ]\n",
        "555 - Predicted: 1 Actual: 1 [ 0.317 0.646 0.011 0.000 0.021 0.005 0.000 ]\n",
        "556 - Predicted: 0 Actual: 1 [ 0.460 0.387 0.044 0.004 0.008 0.037 0.059 ]\n",
        "557 - Predicted: 1 Actual: 1 [ 0.424 0.559 0.000 0.000 0.000 0.000 0.017 ]\n",
        "558 - Predicted: 0 Actual: 0 [ 0.761 0.239 0.000 0.000 0.000 0.000 0.000 ]\n",
        "559 - Predicted: 0 Actual: 1 [ 0.661 0.268 0.000 0.000 0.000 0.000 0.071 ]\n",
        "560"
       ]
      },
      {
       "output_type": "stream",
       "stream": "stdout",
       "text": [
        " - Predicted: 0 Actual: 0 [ 0.444 0.402 0.050 0.007 0.010 0.013 0.074 ]\n",
        "561 - Predicted: 1 Actual: 1 [ 0.237 0.561 0.111 0.002 0.037 0.045 0.007 ]\n",
        "562 - Predicted: 1 Actual: 1 [ 0.404 0.547 0.020 0.000 0.000 0.000 0.029 ]\n",
        "563 - Predicted: 1 Actual: 1 [ 0.252 0.748 0.000 0.000 0.000 0.000 0.000 ]\n",
        "564 - Predicted: 2 Actual: 2 [ 0.097 0.255 0.366 0.000 0.000 0.283 0.000 ]\n",
        "565 - Predicted: 0 Actual: 0 [ 0.492 0.384 0.042 0.000 0.017 0.028 0.037 ]\n",
        "566 - Predicted: 0 Actual: 0 [ 0.470 0.375 0.009 0.009 0.009 0.000 0.129 ]\n",
        "567 - Predicted: 1 Actual: 1 [ 0.189 0.514 0.204 0.000 0.019 0.067 0.008 ]\n",
        "568 - Predicted: 1 Actual: 0 [ 0.372 0.628 0.000 0.000 0.000 0.000 0.000 ]\n",
        "569 - Predicted: 0 Actual: 1 [ 0.679 0.300 0.000 0.000 0.000 0.000 0.021 ]\n",
        "570"
       ]
      },
      {
       "output_type": "stream",
       "stream": "stdout",
       "text": [
        " - Predicted: 0 Actual: 0 [ 0.819 0.181 0.000 0.000 0.000 0.000 0.000 ]\n",
        "571 - Predicted: 1 Actual: 1 [ 0.366 0.555 0.000 0.002 0.077 0.000 0.000 ]\n",
        "572 - Predicted: 2 Actual: 2 [ 0.098 0.213 0.435 0.000 0.000 0.222 0.033 ]\n",
        "573 - Predicted: 1 Actual: 1 [ 0.448 0.521 0.010 0.000 0.003 0.010 0.007 ]\n",
        "574 - Predicted: 1 Actual: 1 [ 0.405 0.528 0.001 0.000 0.001 0.000 0.065 ]\n",
        "575 - Predicted: 1 Actual: 1 [ 0.351 0.514 0.045 0.000 0.023 0.040 0.028 ]\n",
        "576 - Predicted: 1 Actual: 1 [ 0.157 0.821 0.000 0.000 0.022 0.000 0.000 ]\n",
        "577 - Predicted: 0 Actual: 0 [ 0.522 0.478 0.000 0.000 0.000 0.000 0.000 ]\n",
        "578 - Predicted: 0 Actual: 0 [ 0.438 0.309 0.010 0.000 0.003 0.010 0.229 ]\n",
        "579 - Predicted: 0 Actual: 0 [ 0.571 0.338 0.002 0.000 0.000 0.000 0.090 ]\n",
        "580"
       ]
      },
      {
       "output_type": "stream",
       "stream": "stdout",
       "text": [
        " - Predicted: 0 Actual: 0 [ 0.752 0.194 0.000 0.000 0.000 0.000 0.054 ]\n",
        "581 - Predicted: 1 Actual: 1 [ 0.213 0.679 0.076 0.000 0.000 0.033 0.000 ]\n",
        "582 - Predicted: 1 Actual: 1 [ 0.467 0.523 0.000 0.000 0.000 0.000 0.010 ]\n",
        "583 - Predicted: 0 Actual: 0 [ 0.539 0.375 0.003 0.000 0.007 0.021 0.055 ]\n",
        "584 - Predicted: 1 Actual: 1 [ 0.417 0.568 0.000 0.000 0.000 0.008 0.008 ]\n",
        "585 - Predicted: 1 Actual: 1 [ 0.336 0.573 0.000 0.000 0.058 0.024 0.008 ]\n",
        "586 - Predicted: 1 Actual: 1 [ 0.347 0.574 0.055 0.000 0.025 0.000 0.000 ]\n",
        "587 - Predicted: 5 Actual: 2 [ 0.000 0.320 0.299 0.005 0.000 0.376 0.000 ]\n",
        "588 - Predicted: 0 Actual: 0 [ 0.640 0.267 0.000 0.000 0.000 0.000 0.093 ]\n",
        "589 - Predicted: 0 Actual: 0 [ 0.784 0.150 0.000 0.000 0.000 0.000 0.066 ]\n",
        "590"
       ]
      },
      {
       "output_type": "stream",
       "stream": "stdout",
       "text": [
        " - Predicted: 1 Actual: 2 [ 0.124 0.525 0.170 0.000 0.039 0.126 0.017 ]\n",
        "591 - Predicted: 2 Actual: 1 [ 0.186 0.348 0.387 0.000 0.061 0.016 0.001 ]\n",
        "592 - Predicted: 1 Actual: 1 [ 0.208 0.762 0.030 0.000 0.000 0.000 0.000 ]\n",
        "593 - Predicted: 1 Actual: 1 [ 0.428 0.496 0.000 0.000 0.022 0.022 0.032 ]\n",
        "594 - Predicted: 1 Actual: 0 [ 0.297 0.402 0.272 0.000 0.007 0.007 0.014 ]\n",
        "595 - Predicted: 1 Actual: 1 [ 0.131 0.869 0.000 0.000 0.000 0.000 0.000 ]\n",
        "596 - Predicted: 0 Actual: 0 [ 0.427 0.413 0.000 0.000 0.000 0.000 0.160 ]\n",
        "597 - Predicted: 0 Actual: 0 [ 0.521 0.468 0.000 0.000 0.010 0.000 0.001 ]\n",
        "598 - Predicted: 1 Actual: 1 [ 0.205 0.731 0.024 0.000 0.017 0.010 0.014 ]\n",
        "599 - Predicted: 0 Actual: 0 [ 0.532 0.311 0.000 0.000 0.000 0.000 0.156 ]\n",
        "600"
       ]
      },
      {
       "output_type": "stream",
       "stream": "stdout",
       "text": [
        " - Predicted: 1 Actual: 1 [ 0.250 0.682 0.000 0.000 0.061 0.000 0.007 ]\n",
        "601 - Predicted: 0 Actual: 0 [ 0.732 0.163 0.000 0.000 0.000 0.000 0.105 ]\n",
        "602 - Predicted: 0 Actual: 1 [ 0.640 0.309 0.000 0.000 0.033 0.006 0.012 ]\n",
        "603 - Predicted: 1 Actual: 2 [ 0.049 0.529 0.276 0.020 0.029 0.097 0.000 ]\n",
        "604 - Predicted: 0 Actual: 0 [ 0.537 0.403 0.009 0.000 0.001 0.000 0.050 ]\n",
        "605 - Predicted: 0 Actual: 0 [ 0.511 0.485 0.000 0.000 0.003 0.000 0.000 ]\n",
        "606 - Predicted: 1 Actual: 0 [ 0.307 0.638 0.000 0.000 0.000 0.000 0.056 ]\n",
        "607 - Predicted: 0 Actual: 1 [ 0.484 0.377 0.061 0.000 0.030 0.036 0.012 ]\n",
        "608 - Predicted: 0 Actual: 1 [ 0.503 0.433 0.000 0.000 0.000 0.000 0.063 ]\n",
        "609 - Predicted: 1 Actual: 1 [ 0.290 0.514 0.045 0.000 0.109 0.034 0.007 ]\n",
        "610"
       ]
      },
      {
       "output_type": "stream",
       "stream": "stdout",
       "text": [
        " - Predicted: 0 Actual: 0 [ 0.667 0.167 0.000 0.000 0.000 0.000 0.167 ]\n",
        "611 - Predicted: 1 Actual: 0 [ 0.375 0.542 0.015 0.000 0.012 0.001 0.056 ]\n",
        "612 - Predicted: 1 Actual: 1 [ 0.267 0.544 0.000 0.000 0.007 0.063 0.119 ]\n",
        "613 - Predicted: 1 Actual: 1 [ 0.450 0.502 0.000 0.000 0.000 0.000 0.048 ]\n",
        "614 - Predicted: 1 Actual: 1 [ 0.311 0.602 0.016 0.000 0.037 0.033 0.000 ]\n",
        "615 - Predicted: 2 Actual: 2 [ 0.084 0.209 0.373 0.016 0.027 0.291 0.000 ]\n",
        "616 - Predicted: 2 Actual: 1 [ 0.018 0.415 0.478 0.000 0.006 0.083 0.000 ]\n",
        "617 - Predicted: 0 Actual: 1 [ 0.561 0.304 0.000 0.000 0.000 0.000 0.135 ]\n",
        "618 - Predicted: 0 Actual: 0 [ 0.389 0.306 0.000 0.000 0.000 0.000 0.306 ]\n",
        "619 - Predicted: 1 Actual: 0 [ 0.222 0.778 0.000 0.000 0.000 0.000 0.000 ]\n",
        "620"
       ]
      },
      {
       "output_type": "stream",
       "stream": "stdout",
       "text": [
        " - Predicted: 1 Actual: 2 [ 0.188 0.551 0.169 0.031 0.011 0.039 0.010 ]\n",
        "621 - Predicted: 0 Actual: 0 [ 0.484 0.279 0.000 0.000 0.000 0.000 0.236 ]\n",
        "622 - Predicted: 1 Actual: 1 [ 0.231 0.630 0.049 0.000 0.017 0.060 0.013 ]\n",
        "623 - Predicted: 1 Actual: 1 [ 0.289 0.446 0.004 0.010 0.047 0.000 0.204 ]\n",
        "624 - Predicted: 1 Actual: 1 [ 0.371 0.623 0.004 0.000 0.002 0.001 0.000 ]\n",
        "625 - Predicted: 1 Actual: 0 [ 0.422 0.526 0.022 0.000 0.015 0.015 0.000 ]\n",
        "626 - Predicted: 1 Actual: 1 [ 0.293 0.609 0.010 0.000 0.088 0.000 0.000 ]\n",
        "627 - Predicted: 1 Actual: 0 [ 0.395 0.549 0.000 0.000 0.000 0.000 0.056 ]\n",
        "628 - Predicted: 0 Actual: 1 [ 0.535 0.245 0.000 0.000 0.000 0.006 0.214 ]\n",
        "629 - Predicted: 1 Actual: 0 [ 0.470 0.530 0.000 0.000 0.000 0.000 0.000 ]\n",
        "630"
       ]
      },
      {
       "output_type": "stream",
       "stream": "stdout",
       "text": [
        " - Predicted: 0 Actual: 0 [ 0.571 0.429 0.000 0.000 0.000 0.000 0.000 ]\n",
        "631 - Predicted: 0 Actual: 0 [ 0.801 0.199 0.000 0.000 0.000 0.000 0.000 ]\n",
        "632 - Predicted: 1 Actual: 0 [ 0.265 0.654 0.018 0.000 0.010 0.034 0.018 ]\n",
        "633 - Predicted: 1 Actual: 1 [ 0.118 0.743 0.058 0.004 0.014 0.052 0.010 ]\n",
        "634 - Predicted: 1 Actual: 1 [ 0.274 0.692 0.010 0.000 0.006 0.001 0.017 ]\n",
        "635 - Predicted: 0 Actual: 0 [ 0.679 0.303 0.001 0.000 0.001 0.000 0.017 ]\n",
        "636 - Predicted: 2 Actual: 2 [ 0.014 0.213 0.366 0.058 0.110 0.239 0.000 ]\n",
        "637 - Predicted: 1 Actual: 1 [ 0.173 0.827 0.000 0.000 0.000 0.000 0.000 ]\n",
        "638 - Predicted: 1 Actual: 1 [ 0.233 0.683 0.000 0.000 0.000 0.000 0.083 ]\n",
        "639 - Predicted: 1 Actual: 1 [ 0.320 0.522 0.001 0.000 0.001 0.000 0.156 ]\n",
        "640"
       ]
      },
      {
       "output_type": "stream",
       "stream": "stdout",
       "text": [
        " - Predicted: 0 Actual: 1 [ 0.580 0.407 0.001 0.000 0.002 0.004 0.007 ]\n",
        "641 - Predicted: 0 Actual: 0 [ 0.708 0.292 0.000 0.000 0.000 0.000 0.000 ]\n",
        "642 - Predicted: 1 Actual: 0 [ 0.386 0.466 0.000 0.000 0.000 0.000 0.148 ]\n",
        "643 - Predicted: 1 Actual: 1 [ 0.430 0.570 0.000 0.000 0.000 0.000 0.000 ]\n",
        "644 - Predicted: 1 Actual: 2 [ 0.028 0.614 0.254 0.000 0.007 0.098 0.000 ]\n",
        "645 - Predicted: 1 Actual: 1 [ 0.318 0.593 0.031 0.000 0.031 0.023 0.004 ]\n",
        "646 - Predicted: 1 Actual: 0 [ 0.308 0.681 0.000 0.000 0.011 0.000 0.000 ]\n",
        "647 - Predicted: 0 Actual: 0 [ 0.458 0.335 0.004 0.000 0.000 0.001 0.202 ]\n",
        "648 - Predicted: 0 Actual: 1 [ 0.595 0.405 0.000 0.000 0.000 0.000 0.000 ]\n",
        "649 - Predicted: 1 Actual: 1 [ 0.301 0.686 0.000 0.000 0.013 0.000 0.000 ]\n",
        "650"
       ]
      },
      {
       "output_type": "stream",
       "stream": "stdout",
       "text": [
        " - Predicted: 1 Actual: 1 [ 0.018 0.646 0.157 0.017 0.046 0.115 0.000 ]\n",
        "651 - Predicted: 1 Actual: 1 [ 0.336 0.569 0.035 0.000 0.000 0.000 0.059 ]\n",
        "652 - Predicted: 0 Actual: 0 [ 0.675 0.261 0.033 0.000 0.000 0.000 0.030 ]\n",
        "653 - Predicted: 0 Actual: 0 [ 0.560 0.430 0.000 0.000 0.000 0.000 0.010 ]\n",
        "654 - Predicted: 2 Actual: 2 [ 0.048 0.174 0.466 0.006 0.000 0.307 0.000 ]\n",
        "655 - Predicted: 1 Actual: 1 [ 0.372 0.447 0.084 0.003 0.029 0.005 0.059 ]\n",
        "656 - Predicted: 1 Actual: 1 [ 0.101 0.636 0.121 0.000 0.000 0.141 0.000 ]\n",
        "657 - Predicted: 0 Actual: 0 [ 0.576 0.270 0.000 0.000 0.000 0.000 0.154 ]\n",
        "658 - Predicted: 0 Actual: 0 [ 0.390 0.381 0.000 0.000 0.000 0.000 0.229 ]\n",
        "659 - Predicted: 1 Actual: 1 [ 0.407 0.593 0.000 0.000 0.000 0.000 0.000 ]\n",
        "660"
       ]
      },
      {
       "output_type": "stream",
       "stream": "stdout",
       "text": [
        " - Predicted: 1 Actual: 1 [ 0.210 0.558 0.029 0.000 0.191 0.002 0.009 ]\n",
        "661 - Predicted: 5 Actual: 1 [ 0.060 0.248 0.296 0.029 0.008 0.358 0.001 ]\n",
        "662 - Predicted: 1 Actual: 1 [ 0.411 0.468 0.055 0.004 0.008 0.025 0.028 ]\n",
        "663 - Predicted: 0 Actual: 0 [ 0.755 0.243 0.000 0.000 0.000 0.000 0.002 ]\n",
        "664 - Predicted: 1 Actual: 0 [ 0.397 0.513 0.012 0.016 0.000 0.039 0.024 ]\n",
        "665 - Predicted: 1 Actual: 2 [ 0.309 0.541 0.043 0.003 0.040 0.038 0.026 ]\n",
        "666 - Predicted: 0 Actual: 0 [ 0.385 0.381 0.133 0.007 0.016 0.067 0.012 ]\n",
        "667 - Predicted: 1 Actual: 1 [ 0.272 0.592 0.001 0.000 0.004 0.003 0.128 ]\n",
        "668 - Predicted: 1 Actual: 1 [ 0.365 0.611 0.000 0.000 0.001 0.000 0.023 ]\n",
        "669 - Predicted: 1 Actual: 0 [ 0.344 0.589 0.000 0.000 0.000 0.067 0.000 ]\n",
        "670"
       ]
      },
      {
       "output_type": "stream",
       "stream": "stdout",
       "text": [
        " - Predicted: 1 Actual: 1 [ 0.221 0.740 0.000 0.000 0.009 0.000 0.030 ]\n",
        "671 - Predicted: 1 Actual: 1 [ 0.383 0.532 0.043 0.003 0.008 0.013 0.017 ]\n",
        "672 - Predicted: 0 Actual: 0 [ 0.506 0.365 0.000 0.000 0.103 0.000 0.026 ]\n",
        "673 - Predicted: 2 Actual: 2 [ 0.120 0.303 0.321 0.003 0.000 0.236 0.017 ]\n",
        "674 - Predicted: 1 Actual: 0 [ 0.377 0.619 0.001 0.000 0.001 0.002 0.000 ]\n",
        "675 - Predicted: 0 Actual: 0 [ 0.714 0.240 0.000 0.000 0.000 0.000 0.045 ]\n",
        "676 - Predicted: 1 Actual: 1 [ 0.222 0.775 0.000 0.000 0.004 0.000 0.000 ]\n",
        "677 - Predicted: 1 Actual: 1 [ 0.334 0.536 0.000 0.000 0.085 0.000 0.045 ]\n",
        "678 - Predicted: 1 Actual: 0 [ 0.259 0.539 0.000 0.000 0.000 0.000 0.202 ]\n",
        "679 - Predicted: 1 Actual: 1 [ 0.496 0.496 0.000 0.000 0.004 0.000 0.004 ]\n",
        "680"
       ]
      },
      {
       "output_type": "stream",
       "stream": "stdout",
       "text": [
        " - Predicted: 1 Actual: 1 [ 0.360 0.624 0.000 0.000 0.000 0.000 0.017 ]\n",
        "681 - Predicted: 0 Actual: 0 [ 0.596 0.404 0.000 0.000 0.000 0.000 0.000 ]\n",
        "682 - Predicted: 0 Actual: 1 [ 0.526 0.425 0.000 0.000 0.022 0.000 0.028 ]\n",
        "683 - Predicted: 1 Actual: 0 [ 0.422 0.513 0.021 0.000 0.007 0.009 0.028 ]\n",
        "684 - Predicted: 0 Actual: 0 [ 0.751 0.249 0.000 0.000 0.000 0.000 0.000 ]\n",
        "685 - Predicted: 1 Actual: 1 [ 0.271 0.729 0.000 0.000 0.000 0.000 0.000 ]\n",
        "686 - Predicted: 0 Actual: 0 [ 0.658 0.342 0.000 0.000 0.000 0.000 0.000 ]\n",
        "687 - Predicted: 2 Actual: 2 [ 0.020 0.119 0.448 0.020 0.010 0.383 0.000 ]\n",
        "688 - Predicted: 1 Actual: 1 [ 0.402 0.443 0.000 0.000 0.000 0.000 0.154 ]\n",
        "689 - Predicted: 0 Actual: 1 [ 0.543 0.421 0.008 0.000 0.007 0.009 0.012 ]\n",
        "690"
       ]
      },
      {
       "output_type": "stream",
       "stream": "stdout",
       "text": [
        " - Predicted: 0 Actual: 0 [ 0.525 0.423 0.035 0.000 0.018 0.000 0.000 ]\n",
        "691 - Predicted: 1 Actual: 1 [ 0.193 0.490 0.110 0.012 0.131 0.045 0.019 ]\n",
        "692 - Predicted: 0 Actual: 0 [ 0.617 0.305 0.008 0.000 0.007 0.008 0.055 ]\n",
        "693 - Predicted: 1 Actual: 0 [ 0.097 0.481 0.158 0.000 0.026 0.238 0.000 ]\n",
        "694 - Predicted: 1 Actual: 2 [ 0.175 0.512 0.172 0.010 0.020 0.110 0.000 ]\n",
        "695 - Predicted: 1 Actual: 1 [ 0.399 0.479 0.037 0.000 0.085 0.000 0.000 ]\n",
        "696 - Predicted: 0 Actual: 0 [ 0.521 0.446 0.008 0.000 0.007 0.008 0.010 ]\n",
        "697 - Predicted: 0 Actual: 1 [ 0.593 0.366 0.000 0.000 0.000 0.000 0.042 ]\n",
        "698 - Predicted: 0 Actual: 1 [ 0.609 0.346 0.000 0.000 0.000 0.000 0.045 ]\n",
        "699 - Predicted: 1 Actual: 1 [ 0.148 0.756 0.000 0.000 0.095 0.000 0.000 ]\n",
        "700"
       ]
      },
      {
       "output_type": "stream",
       "stream": "stdout",
       "text": [
        " - Predicted: 1 Actual: 1 [ 0.272 0.686 0.000 0.000 0.026 0.000 0.015 ]\n",
        "701 - Predicted: 2 Actual: 2 [ 0.078 0.304 0.469 0.011 0.000 0.134 0.004 ]\n",
        "702 - Predicted: 1 Actual: 1 [ 0.430 0.522 0.000 0.000 0.000 0.000 0.048 ]\n",
        "703 - Predicted: 0 Actual: 0 [ 0.752 0.174 0.000 0.000 0.000 0.000 0.074 ]\n",
        "704 - Predicted: 1 Actual: 1 [ 0.326 0.584 0.032 0.001 0.018 0.022 0.016 ]\n",
        "705 - Predicted: 1 Actual: 0 [ 0.486 0.514 0.000 0.000 0.000 0.000 0.000 ]\n",
        "706 - Predicted: 0 Actual: 1 [ 0.683 0.247 0.000 0.000 0.000 0.000 0.070 ]\n",
        "707 - Predicted: 0 Actual: 0 [ 0.878 0.122 0.000 0.000 0.000 0.000 0.000 ]\n",
        "708 - Predicted: 0 Actual: 0 [ 0.730 0.270 0.000 0.000 0.000 0.000 0.000 ]\n",
        "709 - Predicted: 0 Actual: 1 [ 0.456 0.441 0.000 0.000 0.102 0.000 0.000 ]\n",
        "710"
       ]
      },
      {
       "output_type": "stream",
       "stream": "stdout",
       "text": [
        " - Predicted: 0 Actual: 1 [ 0.606 0.370 0.000 0.000 0.000 0.000 0.025 ]\n",
        "711 - Predicted: 1 Actual: 0 [ 0.471 0.512 0.000 0.000 0.006 0.000 0.011 ]\n",
        "712 - Predicted: 0 Actual: 0 [ 0.505 0.447 0.000 0.000 0.000 0.000 0.048 ]\n",
        "713 - Predicted: 1 Actual: 1 [ 0.325 0.646 0.000 0.000 0.009 0.000 0.020 ]\n",
        "714 - Predicted: 1 Actual: 1 [ 0.158 0.769 0.017 0.000 0.031 0.000 0.025 ]\n",
        "715 - Predicted: 1 Actual: 1 [ 0.004 0.418 0.299 0.010 0.096 0.173 0.000 ]\n",
        "716 - Predicted: 1 Actual: 1 [ 0.462 0.486 0.000 0.000 0.002 0.000 0.050 ]\n",
        "717 - Predicted: 1 Actual: 0 [ 0.418 0.532 0.000 0.000 0.000 0.000 0.051 ]\n",
        "718 - Predicted: 1 Actual: 2 [ 0.370 0.508 0.051 0.002 0.008 0.057 0.004 ]\n",
        "719 - Predicted: 0 Actual: 0 [ 0.546 0.392 0.027 0.002 0.008 0.021 0.004 ]\n",
        "720"
       ]
      },
      {
       "output_type": "stream",
       "stream": "stdout",
       "text": [
        " - Predicted: 1 Actual: 1 [ 0.327 0.621 0.001 0.000 0.040 0.001 0.010 ]\n",
        "721 - Predicted: 0 Actual: 0 [ 0.616 0.384 0.000 0.000 0.000 0.000 0.000 ]\n",
        "722 - Predicted: 1 Actual: 1 [ 0.228 0.426 0.133 0.000 0.065 0.067 0.081 ]\n",
        "723 - Predicted: 1 Actual: 1 [ 0.472 0.528 0.000 0.000 0.000 0.000 0.000 ]\n",
        "724 - Predicted: 1 Actual: 1 [ 0.371 0.595 0.000 0.000 0.007 0.000 0.027 ]\n",
        "725 - Predicted: 2 Actual: 2 [ 0.003 0.219 0.467 0.016 0.005 0.291 0.000 ]\n",
        "726 - Predicted: 1 Actual: 0 [ 0.365 0.613 0.000 0.000 0.005 0.000 0.017 ]\n",
        "727 - Predicted: 1 Actual: 0 [ 0.414 0.513 0.015 0.000 0.010 0.018 0.030 ]\n",
        "728 - Predicted: 1 Actual: 0 [ 0.323 0.677 0.000 0.000 0.000 0.000 0.000 ]\n",
        "729 - Predicted: 0 Actual: 1 [ 0.508 0.449 0.001 0.000 0.001 0.000 0.041 ]\n",
        "730"
       ]
      },
      {
       "output_type": "stream",
       "stream": "stdout",
       "text": [
        " - Predicted: 1 Actual: 1 [ 0.462 0.514 0.000 0.000 0.000 0.000 0.024 ]\n",
        "731 - Predicted: 1 Actual: 0 [ 0.285 0.674 0.000 0.000 0.000 0.021 0.021 ]\n",
        "732 - Predicted: 1 Actual: 1 [ 0.178 0.532 0.175 0.014 0.037 0.065 0.000 ]\n",
        "733 - Predicted: 1 Actual: 1 [ 0.212 0.762 0.004 0.000 0.000 0.000 0.023 ]\n",
        "734 - Predicted: 0 Actual: 1 [ 0.497 0.482 0.001 0.000 0.002 0.000 0.017 ]\n",
        "735 - Predicted: 0 Actual: 1 [ 0.564 0.377 0.030 0.000 0.008 0.013 0.009 ]\n",
        "736 - Predicted: 0 Actual: 0 [ 0.632 0.361 0.000 0.000 0.000 0.000 0.007 ]\n",
        "737 - Predicted: 0 Actual: 0 [ 0.522 0.354 0.013 0.000 0.017 0.002 0.093 ]\n",
        "738 - Predicted: 2 Actual: 2 [ 0.103 0.331 0.427 0.009 0.045 0.077 0.008 ]\n",
        "739 - Predicted: 0 Actual: 0 [ 0.526 0.434 0.001 0.000 0.005 0.000 0.034 ]\n",
        "740"
       ]
      },
      {
       "output_type": "stream",
       "stream": "stdout",
       "text": [
        " - Predicted: 1 Actual: 0 [ 0.215 0.484 0.029 0.000 0.272 0.000 0.000 ]\n",
        "741 - Predicted: 1 Actual: 1 [ 0.298 0.517 0.085 0.024 0.003 0.018 0.054 ]\n",
        "742 - Predicted: 1 Actual: 0 [ 0.436 0.516 0.000 0.000 0.000 0.000 0.048 ]\n",
        "743 - Predicted: 0 Actual: 0 [ 0.362 0.353 0.001 0.000 0.001 0.000 0.283 ]\n",
        "744 - Predicted: 1 Actual: 1 [ 0.256 0.652 0.009 0.000 0.000 0.000 0.083 ]\n",
        "745 - Predicted: 1 Actual: 1 [ 0.343 0.532 0.040 0.005 0.007 0.068 0.005 ]\n",
        "746 - Predicted: 0 Actual: 1 [ 0.368 0.339 0.133 0.000 0.068 0.067 0.025 ]\n",
        "747 - Predicted: 1 Actual: 1 [ 0.474 0.526 0.000 0.000 0.000 0.000 0.000 ]\n",
        "748 - Predicted: 2 Actual: 2 [ 0.000 0.271 0.520 0.069 0.000 0.140 0.000 ]\n",
        "749 - Predicted: 0 Actual: 0 [ 0.385 0.354 0.000 0.000 0.000 0.000 0.261 ]\n",
        "750"
       ]
      },
      {
       "output_type": "stream",
       "stream": "stdout",
       "text": [
        " - Predicted: 1 Actual: 0 [ 0.339 0.550 0.056 0.000 0.000 0.056 0.000 ]\n",
        "751 - Predicted: 1 Actual: 1 [ 0.321 0.640 0.014 0.000 0.013 0.007 0.006 ]\n",
        "752 - Predicted: 0 Actual: 1 [ 0.590 0.335 0.000 0.000 0.000 0.000 0.075 ]\n",
        "753 - Predicted: 0 Actual: 1 [ 0.583 0.375 0.000 0.000 0.000 0.000 0.042 ]\n",
        "754 - Predicted: 1 Actual: 1 [ 0.167 0.611 0.111 0.000 0.000 0.111 0.000 ]\n",
        "755 - Predicted: 1 Actual: 0 [ 0.331 0.589 0.047 0.000 0.009 0.014 0.010 ]\n",
        "756 - Predicted: 1 Actual: 1 [ 0.222 0.699 0.031 0.000 0.034 0.015 0.000 ]\n",
        "757 - Predicted: 1 Actual: 0 [ 0.159 0.516 0.205 0.013 0.028 0.079 0.000 ]\n",
        "758 - Predicted: 0 Actual: 2 [ 0.431 0.304 0.049 0.000 0.167 0.049 0.000 ]\n",
        "759 - Predicted: 0 Actual: 0 [ 0.514 0.331 0.000 0.000 0.000 0.000 0.154 ]\n",
        "760"
       ]
      },
      {
       "output_type": "stream",
       "stream": "stdout",
       "text": [
        " - Predicted: 1 Actual: 1 [ 0.060 0.932 0.000 0.000 0.008 0.000 0.000 ]\n",
        "761 - Predicted: 1 Actual: 1 [ 0.139 0.847 0.000 0.000 0.013 0.000 0.000 ]\n",
        "762 - Predicted: 0 Actual: 0 [ 0.545 0.160 0.200 0.000 0.050 0.004 0.041 ]\n",
        "763 - Predicted: 1 Actual: 1 [ 0.256 0.648 0.000 0.000 0.014 0.081 0.000 ]\n",
        "764 - Predicted: 2 Actual: 2 [ 0.083 0.096 0.633 0.025 0.000 0.163 0.000 ]\n",
        "765 - Predicted: 0 Actual: 0 [ 0.514 0.426 0.000 0.000 0.000 0.019 0.042 ]\n",
        "766 - Predicted: 1 Actual: 1 [ 0.258 0.641 0.060 0.000 0.006 0.018 0.018 ]\n",
        "767 - Predicted: 1 Actual: 0 [ 0.394 0.551 0.000 0.000 0.015 0.019 0.021 ]\n",
        "768 - Predicted: 0 Actual: 0 [ 0.536 0.392 0.001 0.000 0.003 0.000 0.068 ]\n",
        "769 - Predicted: 1 Actual: 1 [ 0.201 0.629 0.027 0.000 0.062 0.080 0.000 ]\n",
        "770"
       ]
      },
      {
       "output_type": "stream",
       "stream": "stdout",
       "text": [
        " - Predicted: 0 Actual: 0 [ 0.588 0.336 0.004 0.000 0.003 0.000 0.069 ]\n",
        "771 - Predicted: 1 Actual: 0 [ 0.492 0.508 0.000 0.000 0.000 0.000 0.000 ]\n",
        "772 - Predicted: 1 Actual: 1 [ 0.170 0.471 0.141 0.013 0.035 0.169 0.000 ]\n",
        "773 - Predicted: 0 Actual: 0 [ 0.461 0.416 0.000 0.000 0.003 0.000 0.119 ]\n",
        "774 - Predicted: 1 Actual: 1 [ 0.329 0.543 0.017 0.001 0.031 0.010 0.069 ]\n",
        "775 - Predicted: 1 Actual: 1 [ 0.499 0.501 0.000 0.000 0.000 0.000 0.000 ]\n",
        "776 - Predicted: 1 Actual: 1 [ 0.261 0.644 0.045 0.003 0.030 0.007 0.011 ]\n",
        "777 - Predicted: 1 Actual: 2 [ 0.118 0.391 0.347 0.000 0.014 0.130 0.000 ]\n",
        "778 - Predicted: 1 Actual: 1 [ 0.308 0.688 0.000 0.000 0.000 0.000 0.005 ]\n",
        "779 - Predicted: 0 Actual: 0 [ 0.408 0.402 0.167 0.000 0.001 0.022 0.000 ]\n",
        "780"
       ]
      },
      {
       "output_type": "stream",
       "stream": "stdout",
       "text": [
        " - Predicted: 1 Actual: 0 [ 0.409 0.574 0.000 0.000 0.005 0.000 0.011 ]\n",
        "781 - Predicted: 2 Actual: 2 [ 0.035 0.314 0.399 0.061 0.000 0.190 0.000 ]\n",
        "782 - Predicted: 0 Actual: 1 [ 0.563 0.418 0.001 0.000 0.001 0.000 0.016 ]\n",
        "783 - Predicted: 1 Actual: 1 [ 0.302 0.554 0.067 0.000 0.028 0.005 0.044 ]\n",
        "784 - Predicted: 0 Actual: 1 [ 0.535 0.352 0.055 0.005 0.008 0.025 0.020 ]\n",
        "785 - Predicted: 1 Actual: 1 [ 0.284 0.429 0.216 0.009 0.013 0.049 0.000 ]\n",
        "786 - Predicted: 0 Actual: 0 [ 0.570 0.430 0.000 0.000 0.000 0.000 0.000 ]\n",
        "787 - Predicted: 0 Actual: 0 [ 0.509 0.341 0.055 0.005 0.008 0.025 0.057 ]\n",
        "788 - Predicted: 1 Actual: 0 [ 0.166 0.584 0.127 0.003 0.013 0.090 0.017 ]\n",
        "789 - Predicted: 1 Actual: 1 [ 0.498 0.502 0.000 0.000 0.000 0.000 0.000 ]\n",
        "790"
       ]
      },
      {
       "output_type": "stream",
       "stream": "stdout",
       "text": [
        " - Predicted: 1 Actual: 1 [ 0.244 0.717 0.008 0.001 0.015 0.005 0.009 ]\n",
        "791 - Predicted: 0 Actual: 1 [ 0.498 0.432 0.016 0.001 0.010 0.013 0.030 ]\n",
        "792 - Predicted: 0 Actual: 1 [ 0.553 0.441 0.000 0.000 0.000 0.000 0.006 ]\n",
        "793 - Predicted: 2 Actual: 2 [ 0.009 0.070 0.515 0.216 0.023 0.168 0.000 ]\n",
        "794 - Predicted: 1 Actual: 1 [ 0.389 0.444 0.000 0.000 0.167 0.000 0.000 ]\n",
        "795 - Predicted: 0 Actual: 0 [ 0.546 0.438 0.000 0.000 0.001 0.000 0.016 ]\n",
        "796 - Predicted: 0 Actual: 0 [ 0.565 0.281 0.083 0.000 0.000 0.067 0.004 ]\n",
        "797 - Predicted: 1 Actual: 0 [ 0.276 0.639 0.007 0.003 0.041 0.029 0.005 ]\n",
        "798 - Predicted: 0 Actual: 0 [ 0.509 0.431 0.000 0.000 0.000 0.000 0.060 ]\n",
        "799 - Predicted: 0 Actual: 1 [ 0.662 0.338 0.000 0.000 0.000 0.000 0.000 ]\n",
        "800"
       ]
      },
      {
       "output_type": "stream",
       "stream": "stdout",
       "text": [
        " - Predicted: 1 Actual: 1 [ 0.250 0.408 0.183 0.000 0.085 0.049 0.025 ]\n",
        "801 - Predicted: 1 Actual: 0 [ 0.308 0.687 0.000 0.000 0.001 0.002 0.003 ]\n",
        "802 - Predicted: 1 Actual: 0 [ 0.293 0.707 0.000 0.000 0.000 0.000 0.000 ]\n",
        "803 - Predicted: 1 Actual: 0 [ 0.296 0.495 0.015 0.000 0.092 0.008 0.094 ]\n",
        "804 - Predicted: 1 Actual: 1 [ 0.456 0.544 0.000 0.000 0.000 0.000 0.000 ]\n",
        "805 - Predicted: 1 Actual: 0 [ 0.463 0.495 0.015 0.000 0.008 0.008 0.011 ]\n",
        "806 - Predicted: 1 Actual: 1 [ 0.232 0.768 0.000 0.000 0.000 0.000 0.000 ]\n",
        "807 - Predicted: 1 Actual: 1 [ 0.081 0.527 0.048 0.000 0.257 0.087 0.000 ]\n",
        "808 - Predicted: 1 Actual: 2 [ 0.112 0.432 0.361 0.030 0.005 0.052 0.007 ]\n",
        "809 - Predicted: 1 Actual: 1 [ 0.477 0.502 0.000 0.000 0.000 0.018 0.004 ]\n",
        "810"
       ]
      },
      {
       "output_type": "stream",
       "stream": "stdout",
       "text": [
        " - Predicted: 1 Actual: 0 [ 0.319 0.627 0.012 0.000 0.023 0.008 0.011 ]\n",
        "811 - Predicted: 1 Actual: 1 [ 0.373 0.626 0.000 0.000 0.002 0.000 0.000 ]\n",
        "812 - Predicted: 1 Actual: 1 [ 0.361 0.571 0.000 0.000 0.000 0.000 0.068 ]\n",
        "813 - Predicted: 1 Actual: 1 [ 0.411 0.506 0.033 0.000 0.031 0.008 0.011 ]\n",
        "814 - Predicted: 0 Actual: 0 [ 0.681 0.293 0.002 0.000 0.009 0.011 0.003 ]\n",
        "815 - Predicted: 1 Actual: 1 [ 0.315 0.549 0.012 0.000 0.026 0.040 0.059 ]\n",
        "816 - Predicted: 2 Actual: 2 [ 0.014 0.074 0.585 0.036 0.006 0.285 0.000 ]\n",
        "817 - Predicted: 1 Actual: 1 [ 0.313 0.684 0.000 0.000 0.002 0.000 0.001 ]\n",
        "818 - Predicted: 1 Actual: 0 [ 0.371 0.433 0.000 0.000 0.000 0.000 0.196 ]\n",
        "819 - Predicted: 0 Actual: 0 [ 0.736 0.231 0.000 0.000 0.000 0.000 0.033 ]\n",
        "820"
       ]
      },
      {
       "output_type": "stream",
       "stream": "stdout",
       "text": [
        " - Predicted: 1 Actual: 0 [ 0.305 0.669 0.000 0.000 0.024 0.000 0.003 ]\n",
        "821 - Predicted: 1 Actual: 1 [ 0.292 0.584 0.036 0.000 0.027 0.040 0.021 ]\n",
        "822 - Predicted: 1 Actual: 1 [ 0.295 0.663 0.005 0.000 0.003 0.000 0.033 ]\n",
        "823 - Predicted: 1 Actual: 1 [ 0.427 0.573 0.000 0.000 0.000 0.000 0.000 ]\n",
        "824 - Predicted: 1 Actual: 0 [ 0.313 0.529 0.000 0.000 0.115 0.000 0.042 ]\n",
        "825 - Predicted: 1 Actual: 1 [ 0.162 0.808 0.000 0.000 0.000 0.000 0.030 ]\n",
        "826 - Predicted: 0 Actual: 1 [ 0.508 0.443 0.000 0.000 0.000 0.000 0.049 ]\n",
        "827 - Predicted: 0 Actual: 0 [ 0.525 0.432 0.001 0.000 0.002 0.000 0.040 ]\n",
        "828 - Predicted: 2 Actual: 2 [ 0.045 0.208 0.481 0.008 0.016 0.242 0.000 ]\n",
        "829 - Predicted: 1 Actual: 0 [ 0.247 0.753 0.000 0.000 0.000 0.000 0.000 ]\n",
        "830"
       ]
      },
      {
       "output_type": "stream",
       "stream": "stdout",
       "text": [
        " - Predicted: 0 Actual: 0 [ 0.652 0.295 0.000 0.000 0.000 0.000 0.053 ]\n",
        "831 - Predicted: 0 Actual: 0 [ 0.675 0.316 0.000 0.000 0.002 0.000 0.006 ]\n",
        "832 - Predicted: 2 Actual: 2 [ 0.013 0.153 0.656 0.030 0.007 0.142 0.000 ]\n",
        "833 - Predicted: 0 Actual: 0 [ 0.492 0.464 0.004 0.000 0.009 0.022 0.009 ]\n",
        "834 - Predicted: 1 Actual: 1 [ 0.410 0.578 0.000 0.000 0.003 0.007 0.002 ]\n",
        "835 - Predicted: 1 Actual: 1 [ 0.266 0.614 0.075 0.008 0.009 0.023 0.006 ]\n",
        "836 - Predicted: 0 Actual: 0 [ 0.511 0.489 0.000 0.000 0.000 0.000 0.000 ]\n",
        "837 - Predicted: 1 Actual: 1 [ 0.388 0.584 0.010 0.000 0.007 0.006 0.006 ]\n",
        "838 - Predicted: 1 Actual: 1 [ 0.111 0.359 0.321 0.032 0.000 0.178 0.000 ]\n",
        "839 - Predicted: 1 Actual: 1 [ 0.327 0.597 0.000 0.000 0.002 0.000 0.073 ]\n",
        "840"
       ]
      },
      {
       "output_type": "stream",
       "stream": "stdout",
       "text": [
        " - Predicted: 1 Actual: 0 [ 0.444 0.556 0.000 0.000 0.000 0.000 0.000 ]\n",
        "841 - Predicted: 1 Actual: 1 [ 0.222 0.657 0.012 0.000 0.106 0.003 0.000 ]\n",
        "842 - Predicted: 1 Actual: 0 [ 0.405 0.470 0.060 0.000 0.036 0.018 0.012 ]\n",
        "843 - Predicted: 1 Actual: 2 [ 0.108 0.652 0.139 0.014 0.039 0.048 0.000 ]\n",
        "844 - Predicted: 1 Actual: 1 [ 0.440 0.484 0.015 0.000 0.015 0.010 0.036 ]\n",
        "845 - Predicted: 0 Actual: 0 [ 0.430 0.330 0.115 0.000 0.015 0.043 0.066 ]\n",
        "846 - Predicted: 0 Actual: 1 [ 0.552 0.448 0.000 0.000 0.000 0.000 0.000 ]\n",
        "847 - Predicted: 1 Actual: 1 [ 0.459 0.530 0.000 0.000 0.002 0.000 0.008 ]\n",
        "848 - Predicted: 0 Actual: 0 [ 0.588 0.345 0.022 0.000 0.000 0.000 0.044 ]\n",
        "849 - Predicted: 1 Actual: 1 [ 0.435 0.518 0.006 0.000 0.004 0.003 0.034 ]\n",
        "850"
       ]
      },
      {
       "output_type": "stream",
       "stream": "stdout",
       "text": [
        " - Predicted: 1 Actual: 1 [ 0.124 0.707 0.000 0.000 0.144 0.000 0.025 ]\n",
        "851 - Predicted: 1 Actual: 1 [ 0.406 0.481 0.026 0.000 0.018 0.012 0.057 ]\n",
        "852 - Predicted: 1 Actual: 1 [ 0.298 0.688 0.000 0.000 0.014 0.000 0.000 ]\n",
        "853 - Predicted: 2 Actual: 2 [ 0.032 0.165 0.560 0.012 0.000 0.230 0.000 ]\n",
        "854 - Predicted: 0 Actual: 0 [ 0.555 0.444 0.000 0.000 0.000 0.000 0.000 ]\n",
        "855 - Predicted: 1 Actual: 1 [ 0.309 0.558 0.065 0.003 0.005 0.055 0.005 ]\n",
        "856 - Predicted: 1 Actual: 0 [ 0.406 0.528 0.020 0.000 0.013 0.013 0.020 ]\n",
        "857 - Predicted: 1 Actual: 0 [ 0.406 0.528 0.020 0.000 0.013 0.013 0.020 ]\n",
        "858 - Predicted: 1 Actual: 1 [ 0.167 0.833 0.000 0.000 0.000 0.000 0.000 ]\n",
        "859 - Predicted: 0 Actual: 0 [ 0.437 0.398 0.006 0.000 0.006 0.002 0.151 ]\n",
        "860"
       ]
      },
      {
       "output_type": "stream",
       "stream": "stdout",
       "text": [
        " - Predicted: 1 Actual: 1 [ 0.408 0.535 0.014 0.000 0.031 0.009 0.003 ]\n",
        "861 - Predicted: 0 Actual: 0 [ 0.548 0.424 0.000 0.000 0.001 0.000 0.026 ]\n",
        "862 - Predicted: 1 Actual: 0 [ 0.381 0.619 0.000 0.000 0.000 0.000 0.000 ]\n",
        "863 - Predicted: 1 Actual: 1 [ 0.449 0.515 0.000 0.000 0.010 0.020 0.005 ]\n",
        "864 - Predicted: 1 Actual: 2 [ 0.100 0.622 0.033 0.000 0.083 0.161 0.000 ]\n",
        "865 - Predicted: 1 Actual: 1 [ 0.179 0.656 0.110 0.000 0.020 0.033 0.003 ]\n",
        "866 - Predicted: 0 Actual: 0 [ 0.559 0.433 0.000 0.000 0.002 0.000 0.006 ]\n",
        "867 - Predicted: 0 Actual: 1 [ 0.564 0.380 0.007 0.000 0.007 0.002 0.040 ]\n",
        "868 - Predicted: 1 Actual: 1 [ 0.284 0.602 0.073 0.000 0.012 0.023 0.006 ]\n",
        "869 - Predicted: 1 Actual: 0 [ 0.384 0.501 0.024 0.000 0.018 0.025 0.047 ]\n",
        "870"
       ]
      },
      {
       "output_type": "stream",
       "stream": "stdout",
       "text": [
        " - Predicted: 2 Actual: 2 [ 0.055 0.146 0.591 0.027 0.009 0.166 0.005 ]\n",
        "871 - Predicted: 1 Actual: 0 [ 0.449 0.457 0.008 0.000 0.023 0.021 0.042 ]\n",
        "872 - Predicted: 0 Actual: 0 [ 0.652 0.328 0.000 0.000 0.000 0.000 0.020 ]\n",
        "873 - Predicted: 0 Actual: 0 [ 0.532 0.454 0.008 0.000 0.000 0.000 0.007 ]\n",
        "874 - Predicted: 1 Actual: 1 [ 0.299 0.594 0.006 0.000 0.006 0.002 0.093 ]\n",
        "875 - Predicted: 1 Actual: 1 [ 0.440 0.539 0.000 0.000 0.000 0.021 0.000 ]\n",
        "876 - Predicted: 1 Actual: 1 [ 0.433 0.498 0.011 0.000 0.015 0.016 0.026 ]\n",
        "877 - Predicted: 1 Actual: 1 [ 0.124 0.734 0.034 0.000 0.065 0.043 0.000 ]\n",
        "878 - Predicted: 0 Actual: 1 [ 0.700 0.182 0.000 0.000 0.000 0.002 0.115 ]\n",
        "879 - Predicted: 1 Actual: 0 [ 0.380 0.573 0.014 0.000 0.006 0.002 0.026 ]\n",
        "880"
       ]
      }
     ]
    },
    {
     "cell_type": "code",
     "collapsed": false,
     "input": [
      "n = mf.trees[0].root.left.left.left.left.left.left.left\n",
      "%timeit get_posterior_class_probs(n, 10)"
     ],
     "language": "python",
     "metadata": {},
     "outputs": []
    },
    {
     "cell_type": "code",
     "collapsed": false,
     "input": [
      "pd.Series(hits).cumsum().plot() # Predictions over time"
     ],
     "language": "python",
     "metadata": {},
     "outputs": [
      {
       "metadata": {},
       "output_type": "pyout",
       "prompt_number": 5,
       "text": [
        "<matplotlib.axes._subplots.AxesSubplot at 0x7fee641e65f8>"
       ]
      },
      {
       "metadata": {},
       "output_type": "display_data",
       "png": "[encoded data removed]",
       "text": [
        "<matplotlib.figure.Figure at 0x7fee650dac88>"
       ]
      }
     ],
     "prompt_number": 5
    },
    {
     "cell_type": "code",
     "collapsed": false,
     "input": [
      "sum(hits)/len(hits) # Overall accuracy"
     ],
     "language": "python",
     "metadata": {},
     "outputs": [
      {
       "metadata": {},
       "output_type": "pyout",
       "prompt_number": 6,
       "text": [
        "0.65200000000000002"
       ]
      }
     ],
     "prompt_number": 6
    }
   ],
   "metadata": {}
  }
 ]
}