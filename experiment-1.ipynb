{
 "metadata": {
  "name": "",
  "signature": "sha256:fce5e8754f46096089eb67b22548569e39131c59659816aa8d3ba2e3876c9a4c"
 },
 "nbformat": 3,
 "nbformat_minor": 0,
 "worksheets": [
  {
   "cells": [
    {
     "cell_type": "markdown",
     "metadata": {},
     "source": [
      "# Mondrian Forests\n",
      "\n",
      "This is a reimplementation of Mondrian Forests as described here:\n",
      "\n",
      "**Mondrian Forests: Efficient Online Random Forests**\n",
      "\n",
      "Balaji Lakshminarayanan, Daniel M. Roy, Yee Whye Teh\n",
      "\n",
      "http://arxiv.org/abs/1406.2673\n",
      "\n",
      "It partly uses code from the original authors' implementation at\n",
      "\n",
      "https://github.com/balajiln/mondrianforest\n",
      "\n",
      "but changes a few things along the way too. Key differences:\n",
      "\n",
      "* Assume FAST_MODE (no log-likelihood) for now\n",
      "* Classification only (they never finished regression)\n",
      "* Always assume we're training incrementally\n",
      "* `update_posterior_node_incremental` just becomes `update_label_counts`\n",
      "* `add_training_points_to_node` just becomes `MondrianNode.update`\n",
      "* Pushed as much metadata as possible into the node object, to avoid having lots of separate dicts etc. maintained by the tree (hence renaming it `MondrianNode`)\n",
      "* `data` (an array) refers to one batch, instead of having a single design matrix in memory and indexing it with `train_ids`\n",
      "* `labels` is a vector of class labels for the rows in `data`\n",
      "* We don't assume you'll provide the first batch of training data when initializing a tree, but we do need to know the number of dimensions and number of labels\n",
      "* It works in parallel :-)\n",
      "\n",
      "Perhaps most different of all:\n",
      "\n",
      "We don't keep all the input data, as this won't scale. But this means we can't move existing data down into the new leaf nodes when we split a leaf node.\n",
      "\n",
      "This is the plan: When the tree \"grows\" through randomly splitting a leaf node, keep its existing class frequencies where they are, and only use the two new children for *newly-arriving* data. Then take these into account when calculating the predictive posteriors (appendix A of paper).\n",
      "\n",
      "Here are my original thoughts on this, that I almost sent to the authors, but decided to try first.\n",
      "\n",
      "```\n",
      "One thing I missed on reading the paper, is that when you bisect a leaf node through a \"grow\" (sampling) operation,\n",
      "you need to assign all its data points to one of the new children.\n",
      "\n",
      "This means you can't just keep summary statistics for the data in a block, i.e. class frequencies. You need to hold\n",
      "on to the raw training data in order to divide it, yes? Which is a problem for online learning over streaming data\n",
      "or just \"big data\" in general.\n",
      "\n",
      "So... Perhaps you could entirely forget about keeping the existing data and propagating it down to the new child\n",
      "nodes. If you just kept class frequencies at each node, maybe you could use these in the \"update posterior counts\"\n",
      "step for internal nodes, alongside the child node counts.\n",
      "\n",
      "(Any data that came in *after* the split would go all the way down to the leaf nodes though.)\n",
      "```\n",
      "\n",
      "For the time being, though, it's using a much simpler scoring system. Walk down the tree until you find the box that the test example would have been in, and go for the majority class. If you don't find a box, or it's empty, walk back up until you find the nearest ancestor with some instances in.\n",
      "\n",
      "Averaged across a few trees, even as few as ~10, this actually does pretty well.\n",
      "\n",
      "## Running this demo\n",
      "\n",
      "If a `default` IPython cluster is available, it runs in parallel automatically, with as many trees in the forest as you have engines in the cluster. Otherwise, it runs in serial on a single core, with 3 trees. See the notes in the third cell.\n",
      "\n",
      "For best results with small forests, use an odd number of trees.\n",
      "\n",
      "## TODO\n",
      "\n",
      "### Must-haves\n",
      "\n",
      "* Proper probabilistic scoring\n",
      "* Types for all numpy arrays\n",
      "* Error checking\n",
      "* Work out exactly what effect `budget` is having\n",
      "* Introspection and prettyprinting tools\n",
      "* Work out which members are \"private\" and rename them with underscores\n",
      "* Proper tests...\n",
      "\n",
      "### Useful features\n",
      "\n",
      "* Allow multiple trees per engine (i.e. each engine runs a forest, not a tree)\n",
      "* Instance subsampling\n",
      "* Feature subsampling/bootstrapping/bagging\n",
      "* Feature hashing/random projection/LSH\n",
      "* Train-on-fail mode\n",
      "* Loss functions, regret, class weighting?\n",
      "\n",
      "### Blue sky\n",
      "\n",
      "* Regression\n",
      "* Clustering? (I mean, it basically *is* clustering, already...)\n",
      "* Semi-supervised would be really easy too\n",
      "* Adaptivity -- non-stationary distributions, recency effects etc.\n",
      "* Auto-pruning/rebalancing -- stop trees either stagnating or growing out of control in the long term\n",
      "* What about when the true number of classes isn't known in advance?\n",
      "\n",
      "The last three are really closely related.\n",
      "\n",
      "We could probably tackle a lot of these problems by \"chopping down\" older trees -- either randomly or according to a heuristic (e.g. least-recently-modified) -- so new ones can grow in their place. Maybe varying the budget and discount values would be useful too.\n",
      "\n",
      "Perhaps you could calculate the posterior class probabilities over the entire 'dead' tree, and use these as the priors for the new tree that will grow in its place.\n",
      "\n",
      "You could also use this kind of approach to tune P/R tradeoff, chase a particular objective function, do reinforcement learning... If you squint, they start to look a little like GAs.\n",
      "\n",
      "* Ontology learning\n",
      "* Grammar induction\n",
      "* Topic modelling\n",
      "\n",
      "Use cases that are fundamentally tree-shaped! Hmmm."
     ]
    },
    {
     "cell_type": "code",
     "collapsed": false,
     "input": [
      "%run 'mondrian.py'\n",
      "\n",
      "import random\n",
      "\n",
      "import numpy as np\n",
      "\n",
      "from IPython.parallel import Client\n",
      "try:\n",
      "    rc = Client()\n",
      "    dview = rc[:]\n",
      "    print('Using default IPython cluster with %d engines' % len(dview))\n",
      "except FileNotFoundError:\n",
      "    rc = None\n",
      "    dview = None\n",
      "    print('Using single-core implementation')\n",
      "\n",
      "DEFAULT_BUDGET = 1000"
     ],
     "language": "python",
     "metadata": {},
     "outputs": [
      {
       "output_type": "stream",
       "stream": "stdout",
       "text": [
        "Using single-core implementation\n"
       ]
      }
     ],
     "prompt_number": 11
    },
    {
     "cell_type": "code",
     "collapsed": false,
     "input": [
      "import pickle\n",
      "import gzip\n",
      "import os\n",
      "import pandas as pd\n",
      "from sklearn import datasets\n",
      "from sklearn import cross_validation as cv\n",
      "\n",
      "# For speed later...\n",
      "test_file = '/home/vagrant/data/covtype.pkl.gz'\n",
      "if os.path.exists(test_file):\n",
      "    with gzip.GzipFile(test_file, 'rb') as z:\n",
      "        dataset = pickle.load(z)\n",
      "else:\n",
      "    dataset = datasets.fetch_covtype() # Can be quite slow\n",
      "    with gzip.GzipFile(test_file, 'wb') as z:\n",
      "        pickle.dump(dataset, z)\n",
      "        \n",
      "dataset.data.shape"
     ],
     "language": "python",
     "metadata": {},
     "outputs": [
      {
       "metadata": {},
       "output_type": "pyout",
       "prompt_number": 3,
       "text": [
        "(581012, 54)"
       ]
      }
     ],
     "prompt_number": 3
    },
    {
     "cell_type": "code",
     "collapsed": false,
     "input": [
      "#%%time\n",
      "#%%prun\n",
      "\n",
      "n_iter = 100\n",
      "test_size = 10\n",
      "folds = cv.StratifiedShuffleSplit(dataset.target, n_iter=n_iter, test_size=test_size, train_size=1000)\n",
      "hits = []\n",
      "\n",
      "data = dataset.data\n",
      "target = dataset.target - 1 # they are 1-indexed\n",
      "\n",
      "if dview is None:\n",
      "    # Run with a single-threaded forest with 3 trees (FIXME)\n",
      "    mf = MondrianForest(1, data.shape[1], len(np.unique(target)), budget=DEFAULT_BUDGET, scoring='simple')\n",
      "else:\n",
      "    # Run with a parallel forest on IPython cluster\n",
      "    mf = ParallelMondrianForest(dview, data.shape[1], len(np.unique(target)), budget=DEFAULT_BUDGET, scoring='simple')\n",
      "\n",
      "def run_test():\n",
      "    for i, (train, test) in enumerate(folds):\n",
      "        train_X = data[train]\n",
      "        train_y = target[train]\n",
      "        test_X = data[test]#[0:1,:]\n",
      "        test_y = target[test]#[0:1]\n",
      "        mf.update(train_X, train_y)\n",
      "        preds = mf.predict(test_X)\n",
      "        yhat = preds.argmax(axis=1)\n",
      "        assert test_y.shape == yhat.shape\n",
      "        for j in range(len(preds)):\n",
      "            idx = (i * test_size) + j\n",
      "            print(idx, '- Predicted:', yhat[j], 'Actual:', test_y[j],\n",
      "                  '[', ' '.join(['%.3f' % x for x in preds[j]]), ']')\n",
      "            hits.append(yhat[j] == test_y[j])\n",
      "\n",
      "%prun run_test()"
     ],
     "language": "python",
     "metadata": {},
     "outputs": [
      {
       "output_type": "stream",
       "stream": "stdout",
       "text": [
        "0 - Predicted: 1 Actual: 1 [ 0.365 0.488 0.062 0.005 0.016 0.030 0.035 ]\n",
        "1 - Predicted: 1 Actual: 2 [ 0.365 0.488 0.062 0.005 0.016 0.030 0.035 ]\n",
        "2 - Predicted: 1 Actual: 1 [ 0.365 0.488 0.062 0.005 0.016 0.030 0.035 ]\n",
        "3 - Predicted: 1 Actual: 1 [ 0.365 0.488 0.062 0.005 0.016 0.030 0.035 ]\n",
        "4 - Predicted: 1 Actual: 1 [ 0.365 0.488 0.062 0.005 0.016 0.030 0.035 ]\n",
        "5 - Predicted: 1 Actual: 0 [ 0.365 0.488 0.062 0.005 0.016 0.030 0.035 ]\n",
        "6 - Predicted: 1 Actual: 0 [ 0.365 0.488 0.062 0.005 0.016 0.030 0.035 ]\n",
        "7 - Predicted: 1 Actual: 0 [ 0.365 0.488 0.062 0.005 0.016 0.030 0.035 ]\n",
        "8 - Predicted: 1 Actual: 0 [ 0.365 0.488 0.062 0.005 0.016 0.030 0.035 ]\n",
        "9 - Predicted: 1 Actual: 1 [ 0.365 0.488 0.062 0.005 0.016 0.030 0.035 ]\n",
        "10"
       ]
      },
      {
       "output_type": "stream",
       "stream": "stdout",
       "text": [
        " - Predicted: 1 Actual: 1 [ 0.400 0.521 0.014 0.000 0.014 0.003 0.048 ]\n",
        "11 - Predicted: 1 Actual: 0 [ 0.315 0.440 0.130 0.012 0.019 0.067 0.017 ]\n",
        "12 - Predicted: 1 Actual: 0 [ 0.400 0.521 0.014 0.000 0.014 0.003 0.048 ]\n",
        "13 - Predicted: 1 Actual: 1 [ 0.400 0.521 0.014 0.000 0.014 0.003 0.048 ]\n",
        "14 - Predicted: 1 Actual: 1 [ 0.315 0.440 0.130 0.012 0.019 0.067 0.017 ]\n",
        "15 - Predicted: 1 Actual: 0 [ 0.400 0.521 0.014 0.000 0.014 0.003 0.048 ]\n",
        "16 - Predicted: 1 Actual: 2 [ 0.315 0.440 0.130 0.012 0.019 0.067 0.017 ]\n",
        "17 - Predicted: 1 Actual: 1 [ 0.400 0.521 0.014 0.000 0.014 0.003 0.048 ]\n",
        "18 - Predicted: 1 Actual: 0 [ 0.315 0.440 0.130 0.012 0.019 0.067 0.017 ]\n",
        "19 - Predicted: 1 Actual: 1 [ 0.315 0.440 0.130 0.012 0.019 0.067 0.017 ]\n",
        "20"
       ]
      },
      {
       "output_type": "stream",
       "stream": "stdout",
       "text": [
        " - Predicted: 1 Actual: 1 [ 0.413 0.491 0.008 0.000 0.017 0.013 0.059 ]\n",
        "21 - Predicted: 1 Actual: 1 [ 0.412 0.576 0.000 0.000 0.000 0.000 0.012 ]\n",
        "22 - Predicted: 1 Actual: 0 [ 0.306 0.470 0.129 0.012 0.018 0.051 0.014 ]\n",
        "23 - Predicted: 1 Actual: 0 [ 0.306 0.470 0.129 0.012 0.018 0.051 0.014 ]\n",
        "24 - Predicted: 1 Actual: 0 [ 0.413 0.491 0.008 0.000 0.017 0.013 0.059 ]\n",
        "25 - Predicted: 1 Actual: 1 [ 0.306 0.470 0.129 0.012 0.018 0.051 0.014 ]\n",
        "26 - Predicted: 1 Actual: 0 [ 0.413 0.491 0.008 0.000 0.017 0.013 0.059 ]\n",
        "27 - Predicted: 1 Actual: 1 [ 0.413 0.491 0.008 0.000 0.017 0.013 0.059 ]\n",
        "28 - Predicted: 1 Actual: 1 [ 0.306 0.470 0.129 0.012 0.018 0.051 0.014 ]\n",
        "29 - Predicted: 1 Actual: 2 [ 0.306 0.470 0.129 0.012 0.018 0.051 0.014 ]\n",
        "30"
       ]
      },
      {
       "output_type": "stream",
       "stream": "stdout",
       "text": [
        " - Predicted: 1 Actual: 0 [ 0.237 0.493 0.153 0.011 0.022 0.067 0.017 ]\n",
        "31 - Predicted: 0 Actual: 1 [ 0.456 0.450 0.011 0.000 0.011 0.013 0.059 ]\n",
        "32 - Predicted: 1 Actual: 0 [ 0.314 0.686 0.000 0.000 0.000 0.000 0.000 ]\n",
        "33 - Predicted: 1 Actual: 2 [ 0.237 0.493 0.153 0.011 0.022 0.067 0.017 ]\n",
        "34 - Predicted: 0 Actual: 1 [ 0.456 0.450 0.011 0.000 0.011 0.013 0.059 ]\n",
        "35 - Predicted: 0 Actual: 1 [ 0.456 0.450 0.011 0.000 0.011 0.013 0.059 ]\n",
        "36 - Predicted: 1 Actual: 0 [ 0.237 0.493 0.153 0.011 0.022 0.067 0.017 ]\n",
        "37 - Predicted: 1 Actual: 1 [ 0.237 0.493 0.153 0.011 0.022 0.067 0.017 ]\n",
        "38 - Predicted: 0 Actual: 1 [ 0.456 0.450 0.011 0.000 0.011 0.013 0.059 ]\n",
        "39 - Predicted: 1 Actual: 0 [ 0.314 0.686 0.000 0.000 0.000 0.000 0.000 ]\n",
        "40"
       ]
      },
      {
       "output_type": "stream",
       "stream": "stdout",
       "text": [
        " - Predicted: 0 Actual: 1 [ 0.565 0.348 0.000 0.000 0.000 0.000 0.087 ]\n",
        "41 - Predicted: 1 Actual: 1 [ 0.446 0.477 0.014 0.000 0.008 0.010 0.043 ]\n",
        "42 - Predicted: 1 Actual: 1 [ 0.446 0.477 0.014 0.000 0.008 0.010 0.043 ]\n",
        "43 - Predicted: 1 Actual: 1 [ 0.446 0.477 0.014 0.000 0.008 0.010 0.043 ]\n",
        "44 - Predicted: 1 Actual: 0 [ 0.246 0.476 0.147 0.012 0.030 0.066 0.024 ]\n",
        "45 - Predicted: 1 Actual: 2 [ 0.246 0.476 0.147 0.012 0.030 0.066 0.024 ]\n",
        "46 - Predicted: 1 Actual: 1 [ 0.446 0.477 0.014 0.000 0.008 0.010 0.043 ]\n",
        "47 - Predicted: 1 Actual: 0 [ 0.446 0.477 0.014 0.000 0.008 0.010 0.043 ]\n",
        "48 - Predicted: 1 Actual: 0 [ 0.446 0.477 0.014 0.000 0.008 0.010 0.043 ]\n",
        "49 - Predicted: 1 Actual: 0 [ 0.446 0.477 0.014 0.000 0.008 0.010 0.043 ]\n",
        "50"
       ]
      },
      {
       "output_type": "stream",
       "stream": "stdout",
       "text": [
        " - Predicted: 1 Actual: 0 [ 0.448 0.474 0.002 0.000 0.013 0.004 0.059 ]\n",
        "51 - Predicted: 1 Actual: 1 [ 0.448 0.474 0.002 0.000 0.013 0.004 0.059 ]\n",
        "52 - Predicted: 1 Actual: 0 [ 0.257 0.475 0.152 0.015 0.020 0.070 0.012 ]\n",
        "53 - Predicted: 1 Actual: 2 [ 0.257 0.475 0.152 0.015 0.020 0.070 0.012 ]\n",
        "54 - Predicted: 1 Actual: 1 [ 0.448 0.474 0.002 0.000 0.013 0.004 0.059 ]\n",
        "55 - Predicted: 1 Actual: 1 [ 0.448 0.474 0.002 0.000 0.013 0.004 0.059 ]\n",
        "56 - Predicted: 1 Actual: 1 [ 0.056 0.778 0.000 0.000 0.000 0.167 0.000 ]\n",
        "57 - Predicted: 0 Actual: 0 [ 0.727 0.273 0.000 0.000 0.000 0.000 0.000 ]\n",
        "58 - Predicted: 1 Actual: 1 [ 0.448 0.474 0.002 0.000 0.013 0.004 0.059 ]\n",
        "59 - Predicted: 1 Actual: 0 [ 0.448 0.474 0.002 0.000 0.013 0.004 0.059 ]\n",
        "60"
       ]
      },
      {
       "output_type": "stream",
       "stream": "stdout",
       "text": [
        " - Predicted: 1 Actual: 1 [ 0.459 0.478 0.005 0.000 0.002 0.002 0.054 ]\n",
        "61 - Predicted: 1 Actual: 0 [ 0.261 0.438 0.146 0.014 0.040 0.077 0.023 ]\n",
        "62 - Predicted: 1 Actual: 1 [ 0.261 0.438 0.146 0.014 0.040 0.077 0.023 ]\n",
        "63 - Predicted: 1 Actual: 0 [ 0.459 0.478 0.005 0.000 0.002 0.002 0.054 ]\n",
        "64 - Predicted: 1 Actual: 2 [ 0.261 0.438 0.146 0.014 0.040 0.077 0.023 ]\n",
        "65 - Predicted: 1 Actual: 0 [ 0.459 0.478 0.005 0.000 0.002 0.002 0.054 ]\n",
        "66 - Predicted: 1 Actual: 1 [ 0.111 0.778 0.000 0.000 0.000 0.111 0.000 ]\n",
        "67 - Predicted: 1 Actual: 1 [ 0.459 0.478 0.005 0.000 0.002 0.002 0.054 ]\n",
        "68 - Predicted: 1 Actual: 1 [ 0.459 0.478 0.005 0.000 0.002 0.002 0.054 ]\n",
        "69 - Predicted: 1 Actual: 0 [ 0.459 0.478 0.005 0.000 0.002 0.002 0.054 ]\n",
        "70"
       ]
      },
      {
       "output_type": "stream",
       "stream": "stdout",
       "text": [
        " - Predicted: 1 Actual: 1 [ 0.205 0.458 0.181 0.012 0.072 0.066 0.006 ]\n",
        "71 - Predicted: 1 Actual: 0 [ 0.458 0.477 0.005 0.000 0.002 0.002 0.056 ]\n",
        "72 - Predicted: 0 Actual: 1 [ 0.733 0.200 0.000 0.000 0.000 0.000 0.067 ]\n",
        "73 - Predicted: 1 Actual: 0 [ 0.400 0.600 0.000 0.000 0.000 0.000 0.000 ]\n",
        "74 - Predicted: 1 Actual: 1 [ 0.458 0.477 0.005 0.000 0.002 0.002 0.056 ]\n",
        "75 - Predicted: 1 Actual: 2 [ 0.205 0.458 0.181 0.012 0.072 0.066 0.006 ]\n",
        "76 - Predicted: 1 Actual: 1 [ 0.244 0.500 0.115 0.019 0.013 0.083 0.026 ]\n",
        "77 - Predicted: 1 Actual: 0 [ 0.244 0.500 0.115 0.019 0.013 0.083 0.026 ]\n",
        "78 - Predicted: 1 Actual: 1 [ 0.458 0.477 0.005 0.000 0.002 0.002 0.056 ]\n",
        "79 - Predicted: 1 Actual: 0 [ 0.458 0.477 0.005 0.000 0.002 0.002 0.056 ]\n",
        "80"
       ]
      },
      {
       "output_type": "stream",
       "stream": "stdout",
       "text": [
        " - Predicted: 1 Actual: 0 [ 0.458 0.477 0.005 0.000 0.002 0.002 0.056 ]\n",
        "81 - Predicted: 1 Actual: 1 [ 0.458 0.477 0.005 0.000 0.002 0.002 0.056 ]\n",
        "82 - Predicted: 2 Actual: 2 [ 0.000 0.192 0.615 0.019 0.000 0.173 0.000 ]\n",
        "83 - Predicted: 1 Actual: 0 [ 0.000 0.750 0.000 0.000 0.000 0.250 0.000 ]\n",
        "84 - Predicted: 1 Actual: 0 [ 0.458 0.477 0.005 0.000 0.002 0.002 0.056 ]\n",
        "85 - Predicted: 1 Actual: 1 [ 0.048 0.952 0.000 0.000 0.000 0.000 0.000 ]\n",
        "86 - Predicted: 1 Actual: 1 [ 0.458 0.477 0.005 0.000 0.002 0.002 0.056 ]\n",
        "87 - Predicted: 1 Actual: 1 [ 0.458 0.477 0.005 0.000 0.002 0.002 0.056 ]\n",
        "88 - Predicted: 1 Actual: 0 [ 0.458 0.477 0.005 0.000 0.002 0.002 0.056 ]\n",
        "89 - Predicted: 1 Actual: 1 [ 0.458 0.477 0.005 0.000 0.002 0.002 0.056 ]\n",
        "90"
       ]
      },
      {
       "output_type": "stream",
       "stream": "stdout",
       "text": [
        " - Predicted: 1 Actual: 0 [ 0.458 0.463 0.002 0.000 0.019 0.005 0.053 ]\n",
        "91 - Predicted: 0 Actual: 1 [ 0.518 0.447 0.000 0.000 0.012 0.000 0.024 ]\n",
        "92 - Predicted: 1 Actual: 1 [ 0.429 0.571 0.000 0.000 0.000 0.000 0.000 ]\n",
        "93 - Predicted: 1 Actual: 0 [ 0.458 0.463 0.002 0.000 0.019 0.005 0.053 ]\n",
        "94 - Predicted: 1 Actual: 1 [ 0.222 0.778 0.000 0.000 0.000 0.000 0.000 ]\n",
        "95 - Predicted: 1 Actual: 0 [ 0.458 0.463 0.002 0.000 0.019 0.005 0.053 ]\n",
        "96 - Predicted: 1 Actual: 1 [ 0.301 0.644 0.000 0.000 0.055 0.000 0.000 ]\n",
        "97 - Predicted: 1 Actual: 2 [ 0.203 0.513 0.114 0.013 0.006 0.101 0.051 ]\n",
        "98 - Predicted: 1 Actual: 0 [ 0.458 0.463 0.002 0.000 0.019 0.005 0.053 ]\n",
        "99 - Predicted: 1 Actual: 1 [ 0.458 0.463 0.002 0.000 0.019 0.005 0.053 ]\n",
        "100"
       ]
      },
      {
       "output_type": "stream",
       "stream": "stdout",
       "text": [
        " - Predicted: 1 Actual: 1 [ 0.063 0.556 0.238 0.016 0.048 0.079 0.000 ]\n",
        "101 - Predicted: 1 Actual: 1 [ 0.034 0.966 0.000 0.000 0.000 0.000 0.000 ]\n",
        "102 - Predicted: 1 Actual: 0 [ 0.449 0.464 0.005 0.000 0.005 0.000 0.077 ]\n",
        "103 - Predicted: 1 Actual: 0 [ 0.286 0.714 0.000 0.000 0.000 0.000 0.000 ]\n",
        "104 - Predicted: 1 Actual: 1 [ 0.059 0.882 0.059 0.000 0.000 0.000 0.000 ]\n",
        "105 - Predicted: 2 Actual: 2 [ 0.000 0.000 0.857 0.000 0.000 0.143 0.000 ]\n",
        "106 - Predicted: 1 Actual: 0 [ 0.425 0.521 0.000 0.000 0.027 0.000 0.027 ]\n",
        "107 - Predicted: 0 Actual: 1 [ 0.667 0.000 0.000 0.000 0.000 0.000 0.333 ]\n",
        "108 - Predicted: 0 Actual: 1 [ 0.500 0.500 0.000 0.000 0.000 0.000 0.000 ]\n",
        "109 - Predicted: 0 Actual: 0 [ 0.833 0.167 0.000 0.000 0.000 0.000 0.000 ]\n",
        "110"
       ]
      },
      {
       "output_type": "stream",
       "stream": "stdout",
       "text": [
        " - Predicted: 1 Actual: 1 [ 0.393 0.492 0.000 0.000 0.000 0.000 0.115 ]\n",
        "111 - Predicted: 0 Actual: 1 [ 0.583 0.417 0.000 0.000 0.000 0.000 0.000 ]\n",
        "112 - Predicted: 1 Actual: 2 [ 0.105 0.421 0.211 0.026 0.105 0.132 0.000 ]\n",
        "113 - Predicted: 1 Actual: 0 [ 0.385 0.615 0.000 0.000 0.000 0.000 0.000 ]\n",
        "114 - Predicted: 0 Actual: 0 [ 0.485 0.429 0.005 0.000 0.020 0.005 0.056 ]\n",
        "115 - Predicted: 1 Actual: 1 [ 0.056 0.500 0.333 0.028 0.028 0.056 0.000 ]\n",
        "116 - Predicted: 0 Actual: 1 [ 0.485 0.429 0.005 0.000 0.020 0.005 0.056 ]\n",
        "117 - Predicted: 1 Actual: 1 [ 0.393 0.492 0.000 0.000 0.000 0.000 0.115 ]\n",
        "118 - Predicted: 1 Actual: 0 [ 0.393 0.492 0.000 0.000 0.000 0.000 0.115 ]\n",
        "119 - Predicted: 1 Actual: 0 [ 0.438 0.516 0.000 0.000 0.005 0.000 0.042 ]\n",
        "120"
       ]
      },
      {
       "output_type": "stream",
       "stream": "stdout",
       "text": [
        " - Predicted: 1 Actual: 1 [ 0.312 0.562 0.000 0.000 0.000 0.000 0.125 ]\n",
        "121 - Predicted: 1 Actual: 2 [ 0.105 0.316 0.263 0.105 0.000 0.211 0.000 ]\n",
        "122 - Predicted: 1 Actual: 1 [ 0.000 0.667 0.000 0.000 0.000 0.333 0.000 ]\n",
        "123 - Predicted: 0 Actual: 0 [ 0.600 0.400 0.000 0.000 0.000 0.000 0.000 ]\n",
        "124 - Predicted: 1 Actual: 0 [ 0.458 0.471 0.000 0.000 0.013 0.004 0.053 ]\n",
        "125 - Predicted: 0 Actual: 1 [ 0.333 0.333 0.000 0.000 0.000 0.000 0.333 ]\n",
        "126 - Predicted: 0 Actual: 0 [ 0.500 0.333 0.000 0.000 0.000 0.000 0.167 ]\n",
        "127 - Predicted: 1 Actual: 0 [ 0.333 0.667 0.000 0.000 0.000 0.000 0.000 ]\n",
        "128 - Predicted: 1 Actual: 1 [ 0.083 0.583 0.167 0.000 0.167 0.000 0.000 ]\n",
        "129 - Predicted: 1 Actual: 1 [ 0.458 0.471 0.000 0.000 0.013 0.004 0.053 ]\n",
        "130"
       ]
      },
      {
       "output_type": "stream",
       "stream": "stdout",
       "text": [
        " - Predicted: 0 Actual: 1 [ 0.556 0.393 0.000 0.000 0.000 0.000 0.051 ]\n",
        "131 - Predicted: 1 Actual: 1 [ 0.455 0.545 0.000 0.000 0.000 0.000 0.000 ]\n",
        "132 - Predicted: 1 Actual: 0 [ 0.456 0.478 0.011 0.000 0.022 0.000 0.033 ]\n",
        "133 - Predicted: 1 Actual: 0 [ 0.393 0.607 0.000 0.000 0.000 0.000 0.000 ]\n",
        "134 - Predicted: 0 Actual: 0 [ 0.556 0.393 0.000 0.000 0.000 0.000 0.051 ]\n",
        "135 - Predicted: 1 Actual: 2 [ 0.456 0.478 0.011 0.000 0.022 0.000 0.033 ]\n",
        "136 - Predicted: 1 Actual: 1 [ 0.456 0.478 0.011 0.000 0.022 0.000 0.033 ]\n",
        "137 - Predicted: 0 Actual: 1 [ 0.556 0.393 0.000 0.000 0.000 0.000 0.051 ]\n",
        "138 - Predicted: 1 Actual: 0 [ 0.175 0.825 0.000 0.000 0.000 0.000 0.000 ]\n",
        "139 - Predicted: 0 Actual: 1 [ 0.500 0.500 0.000 0.000 0.000 0.000 0.000 ]\n",
        "140"
       ]
      },
      {
       "output_type": "stream",
       "stream": "stdout",
       "text": [
        " - Predicted: 1 Actual: 1 [ 0.385 0.615 0.000 0.000 0.000 0.000 0.000 ]\n",
        "141 - Predicted: 1 Actual: 0 [ 0.483 0.517 0.000 0.000 0.000 0.000 0.000 ]\n",
        "142 - Predicted: 1 Actual: 1 [ 0.000 0.545 0.182 0.091 0.091 0.091 0.000 ]\n",
        "143 - Predicted: 2 Actual: 2 [ 0.000 0.333 0.667 0.000 0.000 0.000 0.000 ]\n",
        "144 - Predicted: 1 Actual: 1 [ 0.430 0.494 0.000 0.000 0.000 0.000 0.076 ]\n",
        "145 - Predicted: 0 Actual: 1 [ 0.503 0.417 0.000 0.000 0.018 0.000 0.061 ]\n",
        "146 - Predicted: 0 Actual: 0 [ 0.484 0.484 0.016 0.000 0.000 0.000 0.016 ]\n",
        "147 - Predicted: 0 Actual: 0 [ 0.727 0.273 0.000 0.000 0.000 0.000 0.000 ]\n",
        "148 - Predicted: 0 Actual: 1 [ 0.500 0.500 0.000 0.000 0.000 0.000 0.000 ]\n",
        "149 - Predicted: 0 Actual: 0 [ 0.800 0.200 0.000 0.000 0.000 0.000 0.000 ]\n",
        "150"
       ]
      },
      {
       "output_type": "stream",
       "stream": "stdout",
       "text": [
        " - Predicted: 1 Actual: 1 [ 0.167 0.833 0.000 0.000 0.000 0.000 0.000 ]\n",
        "151 - Predicted: 0 Actual: 1 [ 0.545 0.455 0.000 0.000 0.000 0.000 0.000 ]\n",
        "152 - Predicted: 0 Actual: 0 [ 0.655 0.345 0.000 0.000 0.000 0.000 0.000 ]\n",
        "153 - Predicted: 1 Actual: 0 [ 0.250 0.519 0.154 0.000 0.038 0.000 0.038 ]\n",
        "154 - Predicted: 1 Actual: 0 [ 0.407 0.500 0.000 0.000 0.019 0.000 0.074 ]\n",
        "155 - Predicted: 1 Actual: 0 [ 0.407 0.500 0.000 0.000 0.019 0.000 0.074 ]\n",
        "156 - Predicted: 1 Actual: 1 [ 0.286 0.667 0.000 0.000 0.000 0.000 0.048 ]\n",
        "157 - Predicted: 5 Actual: 2 [ 0.000 0.000 0.250 0.250 0.000 0.500 0.000 ]\n",
        "158 - Predicted: 1 Actual: 1 [ 0.133 0.733 0.000 0.000 0.133 0.000 0.000 ]\n",
        "159 - Predicted: 1 Actual: 1 [ 0.348 0.652 0.000 0.000 0.000 0.000 0.000 ]\n",
        "160"
       ]
      },
      {
       "output_type": "stream",
       "stream": "stdout",
       "text": [
        " - Predicted: 1 Actual: 1 [ 0.357 0.643 0.000 0.000 0.000 0.000 0.000 ]\n",
        "161 - Predicted: 0 Actual: 0 [ 0.528 0.274 0.000 0.000 0.000 0.000 0.198 ]\n",
        "162 - Predicted: 1 Actual: 2 [ 0.000 0.566 0.302 0.038 0.019 0.075 0.000 ]\n",
        "163 - Predicted: 1 Actual: 1 [ 0.429 0.571 0.000 0.000 0.000 0.000 0.000 ]\n",
        "164 - Predicted: 1 Actual: 0 [ 0.277 0.723 0.000 0.000 0.000 0.000 0.000 ]\n",
        "165 - Predicted: 0 Actual: 1 [ 0.500 0.500 0.000 0.000 0.000 0.000 0.000 ]\n",
        "166 - Predicted: 1 Actual: 0 [ 0.308 0.462 0.000 0.000 0.000 0.000 0.231 ]\n",
        "167 - Predicted: 1 Actual: 0 [ 0.167 0.833 0.000 0.000 0.000 0.000 0.000 ]\n",
        "168 - Predicted: 1 Actual: 1 [ 0.000 0.500 0.250 0.000 0.250 0.000 0.000 ]\n",
        "169 - Predicted: 1 Actual: 1 [ 0.333 0.667 0.000 0.000 0.000 0.000 0.000 ]\n",
        "170"
       ]
      },
      {
       "output_type": "stream",
       "stream": "stdout",
       "text": [
        " - Predicted: 0 Actual: 0 [ 0.500 0.400 0.000 0.000 0.000 0.000 0.100 ]\n",
        "171 - Predicted: 1 Actual: 1 [ 0.250 0.500 0.000 0.000 0.000 0.000 0.250 ]\n",
        "172 - Predicted: 1 Actual: 1 [ 0.406 0.531 0.000 0.000 0.000 0.000 0.062 ]\n",
        "173 - Predicted: 0 Actual: 0 [ 0.667 0.000 0.000 0.000 0.333 0.000 0.000 ]\n",
        "174 - Predicted: 1 Actual: 2 [ 0.000 0.714 0.286 0.000 0.000 0.000 0.000 ]\n",
        "175 - Predicted: 0 Actual: 0 [ 0.667 0.333 0.000 0.000 0.000 0.000 0.000 ]\n",
        "176 - Predicted: 1 Actual: 0 [ 0.000 0.714 0.286 0.000 0.000 0.000 0.000 ]\n",
        "177 - Predicted: 0 Actual: 1 [ 0.500 0.500 0.000 0.000 0.000 0.000 0.000 ]\n",
        "178 - Predicted: 1 Actual: 1 [ 0.333 0.588 0.000 0.000 0.059 0.000 0.020 ]\n",
        "179 - Predicted: 1 Actual: 1 [ 0.056 0.944 0.000 0.000 0.000 0.000 0.000 ]\n",
        "180"
       ]
      },
      {
       "output_type": "stream",
       "stream": "stdout",
       "text": [
        " - Predicted: 0 Actual: 1 [ 0.714 0.286 0.000 0.000 0.000 0.000 0.000 ]\n",
        "181 - Predicted: 0 Actual: 0 [ 0.471 0.433 0.000 0.000 0.029 0.000 0.067 ]\n",
        "182 - Predicted: 1 Actual: 0 [ 0.450 0.550 0.000 0.000 0.000 0.000 0.000 ]\n",
        "183 - Predicted: 0 Actual: 0 [ 0.600 0.400 0.000 0.000 0.000 0.000 0.000 ]\n",
        "184 - Predicted: 1 Actual: 1 [ 0.167 0.667 0.000 0.000 0.000 0.000 0.167 ]\n",
        "185 - Predicted: 0 Actual: 1 [ 0.500 0.500 0.000 0.000 0.000 0.000 0.000 ]\n",
        "186 - Predicted: 1 Actual: 1 [ 0.333 0.667 0.000 0.000 0.000 0.000 0.000 ]\n",
        "187 - Predicted: 2 Actual: 2 [ 0.000 0.250 0.350 0.100 0.000 0.300 0.000 ]\n",
        "188 - Predicted: 1 Actual: 1 [ 0.256 0.651 0.000 0.000 0.023 0.070 0.000 ]\n",
        "189 - Predicted: 0 Actual: 0 [ 0.750 0.125 0.000 0.000 0.000 0.000 0.125 ]\n",
        "190"
       ]
      },
      {
       "output_type": "stream",
       "stream": "stdout",
       "text": [
        " - Predicted: 1 Actual: 0 [ 0.375 0.625 0.000 0.000 0.000 0.000 0.000 ]\n",
        "191 - Predicted: 1 Actual: 1 [ 0.364 0.455 0.000 0.000 0.182 0.000 0.000 ]\n",
        "192 - Predicted: 1 Actual: 0 [ 0.333 0.667 0.000 0.000 0.000 0.000 0.000 ]\n",
        "193 - Predicted: 0 Actual: 1 [ 0.545 0.455 0.000 0.000 0.000 0.000 0.000 ]\n",
        "194 - Predicted: 0 Actual: 0 [ 0.600 0.400 0.000 0.000 0.000 0.000 0.000 ]\n",
        "195 - Predicted: 1 Actual: 1 [ 0.167 0.833 0.000 0.000 0.000 0.000 0.000 ]\n",
        "196 - Predicted: 0 Actual: 1 [ 0.692 0.308 0.000 0.000 0.000 0.000 0.000 ]\n",
        "197 - Predicted: 1 Actual: 1 [ 0.447 0.500 0.000 0.000 0.000 0.000 0.053 ]\n",
        "198 - Predicted: 0 Actual: 0 [ 0.625 0.375 0.000 0.000 0.000 0.000 0.000 ]\n",
        "199 - Predicted: 1 Actual: 2 [ 0.256 0.463 0.149 0.014 0.028 0.070 0.022 ]\n",
        "200"
       ]
      },
      {
       "output_type": "stream",
       "stream": "stdout",
       "text": [
        " - Predicted: 0 Actual: 1 [ 0.465 0.442 0.023 0.000 0.023 0.000 0.047 ]\n",
        "201 - Predicted: 1 Actual: 2 [ 0.261 0.465 0.142 0.013 0.030 0.066 0.023 ]\n",
        "202 - Predicted: 0 Actual: 0 [ 0.750 0.250 0.000 0.000 0.000 0.000 0.000 ]\n",
        "203 - Predicted: 0 Actual: 0 [ 0.500 0.000 0.000 0.000 0.000 0.000 0.500 ]\n",
        "204 - Predicted: 1 Actual: 1 [ 0.213 0.399 0.264 0.022 0.011 0.084 0.006 ]\n",
        "205 - Predicted: 0 Actual: 0 [ 0.600 0.400 0.000 0.000 0.000 0.000 0.000 ]\n",
        "206 - Predicted: 1 Actual: 1 [ 0.214 0.786 0.000 0.000 0.000 0.000 0.000 ]\n",
        "207 - Predicted: 1 Actual: 0 [ 0.261 0.465 0.142 0.013 0.030 0.066 0.023 ]\n",
        "208 - Predicted: 0 Actual: 1 [ 0.571 0.429 0.000 0.000 0.000 0.000 0.000 ]\n",
        "209 - Predicted: 1 Actual: 1 [ 0.200 0.800 0.000 0.000 0.000 0.000 0.000 ]\n",
        "210"
       ]
      },
      {
       "output_type": "stream",
       "stream": "stdout",
       "text": [
        " - Predicted: 1 Actual: 1 [ 0.250 0.750 0.000 0.000 0.000 0.000 0.000 ]\n",
        "211 - Predicted: 1 Actual: 0 [ 0.452 0.476 0.000 0.000 0.024 0.012 0.036 ]\n",
        "212 - Predicted: 2 Actual: 2 [ 0.000 0.190 0.506 0.038 0.000 0.266 0.000 ]\n",
        "213 - Predicted: 0 Actual: 1 [ 0.581 0.419 0.000 0.000 0.000 0.000 0.000 ]\n",
        "214 - Predicted: 0 Actual: 1 [ 0.636 0.364 0.000 0.000 0.000 0.000 0.000 ]\n",
        "215 - Predicted: 0 Actual: 0 [ 0.750 0.250 0.000 0.000 0.000 0.000 0.000 ]\n",
        "216 - Predicted: 1 Actual: 1 [ 0.231 0.731 0.000 0.000 0.000 0.000 0.038 ]\n",
        "217 - Predicted: 0 Actual: 0 [ 0.492 0.492 0.016 0.000 0.000 0.000 0.000 ]\n",
        "218 - Predicted: 0 Actual: 0 [ 0.714 0.286 0.000 0.000 0.000 0.000 0.000 ]\n",
        "219 - Predicted: 1 Actual: 1 [ 0.143 0.714 0.000 0.000 0.143 0.000 0.000 ]\n",
        "220"
       ]
      },
      {
       "output_type": "stream",
       "stream": "stdout",
       "text": [
        " - Predicted: 1 Actual: 1 [ 0.400 0.600 0.000 0.000 0.000 0.000 0.000 ]\n",
        "221 - Predicted: 1 Actual: 0 [ 0.420 0.464 0.000 0.000 0.043 0.029 0.043 ]\n",
        "222 - Predicted: 1 Actual: 2 [ 0.118 0.706 0.059 0.000 0.000 0.118 0.000 ]\n",
        "223 - Predicted: 0 Actual: 1 [ 0.700 0.300 0.000 0.000 0.000 0.000 0.000 ]\n",
        "224 - Predicted: 1 Actual: 0 [ 0.420 0.464 0.000 0.000 0.043 0.029 0.043 ]\n",
        "225 - Predicted: 0 Actual: 0 [ 0.727 0.182 0.000 0.000 0.000 0.000 0.091 ]\n",
        "226 - Predicted: 0 Actual: 1 [ 0.500 0.500 0.000 0.000 0.000 0.000 0.000 ]\n",
        "227 - Predicted: 0 Actual: 1 [ 0.500 0.500 0.000 0.000 0.000 0.000 0.000 ]\n",
        "228 - Predicted: 0 Actual: 0 [ 0.500 0.500 0.000 0.000 0.000 0.000 0.000 ]\n",
        "229 - Predicted: 4 Actual: 1 [ 0.000 0.250 0.000 0.000 0.750 0.000 0.000 ]\n",
        "230"
       ]
      },
      {
       "output_type": "stream",
       "stream": "stdout",
       "text": [
        " - Predicted: 0 Actual: 0 [ 0.533 0.467 0.000 0.000 0.000 0.000 0.000 ]\n",
        "231 - Predicted: 0 Actual: 1 [ 0.561 0.439 0.000 0.000 0.000 0.000 0.000 ]\n",
        "232 - Predicted: 1 Actual: 2 [ 0.167 0.533 0.133 0.000 0.000 0.167 0.000 ]\n",
        "233 - Predicted: 0 Actual: 0 [ 0.444 0.444 0.000 0.000 0.000 0.000 0.111 ]\n",
        "234 - Predicted: 1 Actual: 1 [ 0.059 0.941 0.000 0.000 0.000 0.000 0.000 ]\n",
        "235 - Predicted: 0 Actual: 1 [ 0.600 0.400 0.000 0.000 0.000 0.000 0.000 ]\n",
        "236 - Predicted: 1 Actual: 0 [ 0.429 0.571 0.000 0.000 0.000 0.000 0.000 ]\n",
        "237 - Predicted: 1 Actual: 0 [ 0.435 0.565 0.000 0.000 0.000 0.000 0.000 ]\n",
        "238 - Predicted: 1 Actual: 1 [ 0.407 0.593 0.000 0.000 0.000 0.000 0.000 ]\n",
        "239 - Predicted: 0 Actual: 1 [ 0.800 0.200 0.000 0.000 0.000 0.000 0.000 ]\n",
        "240"
       ]
      },
      {
       "output_type": "stream",
       "stream": "stdout",
       "text": [
        " - Predicted: 0 Actual: 1 [ 0.750 0.250 0.000 0.000 0.000 0.000 0.000 ]\n",
        "241 - Predicted: 1 Actual: 0 [ 0.250 0.750 0.000 0.000 0.000 0.000 0.000 ]\n",
        "242 - Predicted: 0 Actual: 1 [ 0.609 0.391 0.000 0.000 0.000 0.000 0.000 ]\n",
        "243 - Predicted: 1 Actual: 1 [ 0.400 0.600 0.000 0.000 0.000 0.000 0.000 ]\n",
        "244 - Predicted: 0 Actual: 0 [ 0.667 0.000 0.000 0.000 0.000 0.000 0.333 ]\n",
        "245 - Predicted: 0 Actual: 0 [ 0.572 0.428 0.000 0.000 0.000 0.000 0.000 ]\n",
        "246 - Predicted: 1 Actual: 1 [ 0.400 0.600 0.000 0.000 0.000 0.000 0.000 ]\n",
        "247 - Predicted: 2 Actual: 2 [ 0.000 0.245 0.566 0.038 0.000 0.151 0.000 ]\n",
        "248 - Predicted: 1 Actual: 0 [ 0.333 0.400 0.200 0.000 0.067 0.000 0.000 ]\n",
        "249 - Predicted: 1 Actual: 1 [ 0.176 0.824 0.000 0.000 0.000 0.000 0.000 ]\n",
        "250"
       ]
      },
      {
       "output_type": "stream",
       "stream": "stdout",
       "text": [
        " - Predicted: 1 Actual: 1 [ 0.391 0.609 0.000 0.000 0.000 0.000 0.000 ]\n",
        "251 - Predicted: 1 Actual: 1 [ 0.164 0.836 0.000 0.000 0.000 0.000 0.000 ]\n",
        "252 - Predicted: 1 Actual: 1 [ 0.333 0.400 0.267 0.000 0.000 0.000 0.000 ]\n",
        "253 - Predicted: 2 Actual: 1 [ 0.182 0.091 0.364 0.182 0.000 0.182 0.000 ]\n",
        "254 - Predicted: 2 Actual: 2 [ 0.000 0.107 0.571 0.000 0.036 0.286 0.000 ]\n",
        "255 - Predicted: 0 Actual: 0 [ 0.667 0.333 0.000 0.000 0.000 0.000 0.000 ]\n",
        "256 - Predicted: 1 Actual: 0 [ 0.333 0.667 0.000 0.000 0.000 0.000 0.000 ]\n",
        "257 - Predicted: 1 Actual: 1 [ 0.107 0.573 0.110 0.000 0.028 0.182 0.000 ]\n",
        "258 - Predicted: 0 Actual: 0 [ 0.583 0.417 0.000 0.000 0.000 0.000 0.000 ]\n",
        "259 - Predicted: 0 Actual: 0 [ 0.553 0.388 0.000 0.000 0.000 0.000 0.059 ]\n",
        "260"
       ]
      },
      {
       "output_type": "stream",
       "stream": "stdout",
       "text": [
        " - Predicted: 2 Actual: 2 [ 0.000 0.125 0.656 0.031 0.000 0.188 0.000 ]\n",
        "261 - Predicted: 1 Actual: 1 [ 0.267 0.733 0.000 0.000 0.000 0.000 0.000 ]\n",
        "262 - Predicted: 1 Actual: 0 [ 0.375 0.625 0.000 0.000 0.000 0.000 0.000 ]\n",
        "263 - Predicted: 0 Actual: 0 [ 0.909 0.091 0.000 0.000 0.000 0.000 0.000 ]\n",
        "264 - Predicted: 1 Actual: 0 [ 0.270 0.468 0.139 0.012 0.027 0.063 0.020 ]\n",
        "265 - Predicted: 1 Actual: 1 [ 0.244 0.756 0.000 0.000 0.000 0.000 0.000 ]\n",
        "266 - Predicted: 2 Actual: 1 [ 0.000 0.000 0.818 0.000 0.000 0.182 0.000 ]\n",
        "267 - Predicted: 0 Actual: 0 [ 0.833 0.167 0.000 0.000 0.000 0.000 0.000 ]\n",
        "268 - Predicted: 1 Actual: 1 [ 0.250 0.750 0.000 0.000 0.000 0.000 0.000 ]\n",
        "269 - Predicted: 1 Actual: 1 [ 0.435 0.565 0.000 0.000 0.000 0.000 0.000 ]\n",
        "270"
       ]
      },
      {
       "output_type": "stream",
       "stream": "stdout",
       "text": [
        " - Predicted: 1 Actual: 1 [ 0.333 0.667 0.000 0.000 0.000 0.000 0.000 ]\n",
        "271 - Predicted: 0 Actual: 0 [ 0.480 0.200 0.000 0.000 0.000 0.000 0.320 ]\n",
        "272 - Predicted: 1 Actual: 1 [ 0.375 0.625 0.000 0.000 0.000 0.000 0.000 ]\n",
        "273 - Predicted: 0 Actual: 0 [ 0.714 0.143 0.000 0.000 0.143 0.000 0.000 ]\n",
        "274 - Predicted: 0 Actual: 0 [ 0.867 0.133 0.000 0.000 0.000 0.000 0.000 ]\n",
        "275 - Predicted: 0 Actual: 0 [ 0.429 0.429 0.000 0.000 0.000 0.000 0.143 ]\n",
        "276 - Predicted: 2 Actual: 2 [ 0.000 0.094 0.562 0.031 0.000 0.312 0.000 ]\n",
        "277 - Predicted: 1 Actual: 1 [ 0.375 0.625 0.000 0.000 0.000 0.000 0.000 ]\n",
        "278 - Predicted: 1 Actual: 1 [ 0.328 0.607 0.000 0.000 0.016 0.000 0.049 ]\n",
        "279 - Predicted: 1 Actual: 1 [ 0.000 0.750 0.000 0.000 0.000 0.250 0.000 ]\n",
        "280"
       ]
      },
      {
       "output_type": "stream",
       "stream": "stdout",
       "text": [
        " - Predicted: 1 Actual: 1 [ 0.100 0.900 0.000 0.000 0.000 0.000 0.000 ]\n",
        "281 - Predicted: 2 Actual: 2 [ 0.000 0.062 0.688 0.000 0.000 0.250 0.000 ]\n",
        "282 - Predicted: 1 Actual: 1 [ 0.000 0.900 0.000 0.000 0.100 0.000 0.000 ]\n",
        "283 - Predicted: 0 Actual: 0 [ 0.525 0.442 0.000 0.000 0.000 0.000 0.033 ]\n",
        "284 - Predicted: 1 Actual: 1 [ 0.200 0.600 0.000 0.000 0.000 0.000 0.200 ]\n",
        "285 - Predicted: 1 Actual: 1 [ 0.250 0.750 0.000 0.000 0.000 0.000 0.000 ]\n",
        "286 - Predicted: 0 Actual: 1 [ 0.400 0.200 0.000 0.000 0.000 0.000 0.400 ]\n",
        "287 - Predicted: 0 Actual: 0 [ 0.500 0.500 0.000 0.000 0.000 0.000 0.000 ]\n",
        "288 - Predicted: 0 Actual: 0 [ 0.833 0.167 0.000 0.000 0.000 0.000 0.000 ]\n",
        "289 - Predicted: 0 Actual: 0 [ 0.713 0.138 0.000 0.000 0.000 0.000 0.149 ]\n",
        "290"
       ]
      },
      {
       "output_type": "stream",
       "stream": "stdout",
       "text": [
        " - Predicted: 1 Actual: 0 [ 0.375 0.625 0.000 0.000 0.000 0.000 0.000 ]\n",
        "291 - Predicted: 0 Actual: 1 [ 0.500 0.375 0.125 0.000 0.000 0.000 0.000 ]\n",
        "292 - Predicted: 1 Actual: 1 [ 0.487 0.512 0.000 0.000 0.000 0.000 0.000 ]\n",
        "293 - Predicted: 1 Actual: 1 [ 0.125 0.500 0.250 0.000 0.000 0.125 0.000 ]\n",
        "294 - Predicted: 1 Actual: 0 [ 0.130 0.870 0.000 0.000 0.000 0.000 0.000 ]\n",
        "295 - Predicted: 1 Actual: 1 [ 0.333 0.667 0.000 0.000 0.000 0.000 0.000 ]\n",
        "296 - Predicted: 1 Actual: 0 [ 0.333 0.500 0.056 0.000 0.111 0.000 0.000 ]\n",
        "297 - Predicted: 1 Actual: 2 [ 0.000 0.400 0.000 0.200 0.400 0.000 0.000 ]\n",
        "298 - Predicted: 1 Actual: 0 [ 0.400 0.600 0.000 0.000 0.000 0.000 0.000 ]\n",
        "299 - Predicted: 1 Actual: 1 [ 0.429 0.571 0.000 0.000 0.000 0.000 0.000 ]\n",
        "300"
       ]
      },
      {
       "output_type": "stream",
       "stream": "stdout",
       "text": [
        " - Predicted: 0 Actual: 0 [ 0.714 0.286 0.000 0.000 0.000 0.000 0.000 ]\n",
        "301 - Predicted: 1 Actual: 1 [ 0.400 0.600 0.000 0.000 0.000 0.000 0.000 ]\n",
        "302 - Predicted: 1 Actual: 1 [ 0.316 0.553 0.053 0.000 0.079 0.000 0.000 ]\n",
        "303 - Predicted: 1 Actual: 0 [ 0.333 0.633 0.033 0.000 0.000 0.000 0.000 ]\n",
        "304 - Predicted: 1 Actual: 1 [ 0.309 0.683 0.000 0.000 0.008 0.000 0.000 ]\n",
        "305 - Predicted: 0 Actual: 0 [ 0.773 0.227 0.000 0.000 0.000 0.000 0.000 ]\n",
        "306 - Predicted: 1 Actual: 0 [ 0.111 0.889 0.000 0.000 0.000 0.000 0.000 ]\n",
        "307 - Predicted: 1 Actual: 1 [ 0.333 0.667 0.000 0.000 0.000 0.000 0.000 ]\n",
        "308 - Predicted: 0 Actual: 1 [ 0.451 0.392 0.000 0.000 0.000 0.000 0.157 ]\n",
        "309 - Predicted: 2 Actual: 2 [ 0.027 0.297 0.581 0.000 0.000 0.095 0.000 ]\n",
        "310"
       ]
      },
      {
       "output_type": "stream",
       "stream": "stdout",
       "text": [
        " - Predicted: 1 Actual: 1 [ 0.333 0.667 0.000 0.000 0.000 0.000 0.000 ]\n",
        "311 - Predicted: 1 Actual: 1 [ 0.125 0.875 0.000 0.000 0.000 0.000 0.000 ]\n",
        "312 - Predicted: 2 Actual: 2 [ 0.000 0.222 0.611 0.000 0.000 0.167 0.000 ]\n",
        "313 - Predicted: 0 Actual: 0 [ 0.857 0.143 0.000 0.000 0.000 0.000 0.000 ]\n",
        "314 - Predicted: 1 Actual: 1 [ 0.200 0.714 0.000 0.000 0.029 0.029 0.029 ]\n",
        "315 - Predicted: 1 Actual: 1 [ 0.133 0.700 0.067 0.000 0.100 0.000 0.000 ]\n",
        "316 - Predicted: 0 Actual: 0 [ 0.554 0.446 0.000 0.000 0.000 0.000 0.000 ]\n",
        "317 - Predicted: 0 Actual: 1 [ 0.434 0.377 0.000 0.000 0.000 0.000 0.189 ]\n",
        "318 - Predicted: 0 Actual: 0 [ 0.500 0.000 0.000 0.000 0.000 0.000 0.500 ]\n",
        "319 - Predicted: 1 Actual: 0 [ 0.316 0.684 0.000 0.000 0.000 0.000 0.000 ]\n",
        "320"
       ]
      },
      {
       "output_type": "stream",
       "stream": "stdout",
       "text": [
        " - Predicted: 0 Actual: 0 [ 0.727 0.273 0.000 0.000 0.000 0.000 0.000 ]\n",
        "321 - Predicted: 2 Actual: 2 [ 0.000 0.182 0.558 0.014 0.007 0.239 0.000 ]\n",
        "322 - Predicted: 1 Actual: 1 [ 0.333 0.667 0.000 0.000 0.000 0.000 0.000 ]\n",
        "323 - Predicted: 0 Actual: 0 [ 0.857 0.143 0.000 0.000 0.000 0.000 0.000 ]\n",
        "324 - Predicted: 1 Actual: 1 [ 0.280 0.700 0.000 0.000 0.000 0.000 0.020 ]\n",
        "325 - Predicted: 0 Actual: 0 [ 0.593 0.390 0.000 0.000 0.000 0.000 0.017 ]\n",
        "326 - Predicted: 0 Actual: 1 [ 0.606 0.364 0.000 0.000 0.000 0.000 0.030 ]\n",
        "327 - Predicted: 1 Actual: 1 [ 0.261 0.522 0.000 0.000 0.217 0.000 0.000 ]\n",
        "328 - Predicted: 1 Actual: 1 [ 0.316 0.684 0.000 0.000 0.000 0.000 0.000 ]\n",
        "329 - Predicted: 0 Actual: 0 [ 0.483 0.350 0.000 0.000 0.000 0.000 0.167 ]\n",
        "330"
       ]
      },
      {
       "output_type": "stream",
       "stream": "stdout",
       "text": [
        " - Predicted: 1 Actual: 1 [ 0.214 0.714 0.000 0.000 0.024 0.024 0.024 ]\n",
        "331 - Predicted: 0 Actual: 0 [ 0.882 0.118 0.000 0.000 0.000 0.000 0.000 ]\n",
        "332 - Predicted: 1 Actual: 1 [ 0.000 0.500 0.000 0.000 0.000 0.000 0.500 ]\n",
        "333 - Predicted: 1 Actual: 1 [ 0.167 0.833 0.000 0.000 0.000 0.000 0.000 ]\n",
        "334 - Predicted: 1 Actual: 0 [ 0.294 0.676 0.000 0.000 0.000 0.000 0.029 ]\n",
        "335 - Predicted: 0 Actual: 2 [ 0.750 0.250 0.000 0.000 0.000 0.000 0.000 ]\n",
        "336 - Predicted: 0 Actual: 1 [ 0.455 0.273 0.000 0.000 0.000 0.000 0.273 ]\n",
        "337 - Predicted: 1 Actual: 0 [ 0.222 0.667 0.000 0.000 0.111 0.000 0.000 ]\n",
        "338 - Predicted: 1 Actual: 1 [ 0.286 0.714 0.000 0.000 0.000 0.000 0.000 ]\n",
        "339 - Predicted: 0 Actual: 0 [ 0.800 0.000 0.000 0.000 0.000 0.000 0.200 ]\n",
        "340"
       ]
      },
      {
       "output_type": "stream",
       "stream": "stdout",
       "text": [
        " - Predicted: 0 Actual: 0 [ 0.643 0.071 0.000 0.000 0.000 0.000 0.286 ]\n",
        "341 - Predicted: 0 Actual: 1 [ 0.727 0.273 0.000 0.000 0.000 0.000 0.000 ]\n",
        "342 - Predicted: 0 Actual: 0 [ 0.564 0.403 0.000 0.000 0.000 0.000 0.033 ]\n",
        "343 - Predicted: 1 Actual: 1 [ 0.281 0.719 0.000 0.000 0.000 0.000 0.000 ]\n",
        "344 - Predicted: 0 Actual: 1 [ 0.750 0.250 0.000 0.000 0.000 0.000 0.000 ]\n",
        "345 - Predicted: 1 Actual: 1 [ 0.127 0.810 0.000 0.000 0.063 0.000 0.000 ]\n",
        "346 - Predicted: 1 Actual: 0 [ 0.273 0.727 0.000 0.000 0.000 0.000 0.000 ]\n",
        "347 - Predicted: 1 Actual: 1 [ 0.205 0.769 0.026 0.000 0.000 0.000 0.000 ]\n",
        "348 - Predicted: 2 Actual: 2 [ 0.000 0.000 0.800 0.000 0.000 0.200 0.000 ]\n",
        "349 - Predicted: 0 Actual: 0 [ 0.500 0.500 0.000 0.000 0.000 0.000 0.000 ]\n",
        "350"
       ]
      },
      {
       "output_type": "stream",
       "stream": "stdout",
       "text": [
        " - Predicted: 0 Actual: 0 [ 0.692 0.077 0.000 0.000 0.000 0.000 0.231 ]\n",
        "351 - Predicted: 1 Actual: 1 [ 0.073 0.927 0.000 0.000 0.000 0.000 0.000 ]\n",
        "352 - Predicted: 1 Actual: 1 [ 0.083 0.667 0.000 0.000 0.083 0.000 0.167 ]\n",
        "353 - Predicted: 0 Actual: 1 [ 0.800 0.000 0.000 0.000 0.000 0.000 0.200 ]\n",
        "354 - Predicted: 1 Actual: 1 [ 0.114 0.657 0.000 0.000 0.000 0.000 0.229 ]\n",
        "355 - Predicted: 1 Actual: 0 [ 0.357 0.643 0.000 0.000 0.000 0.000 0.000 ]\n",
        "356 - Predicted: 0 Actual: 0 [ 0.750 0.250 0.000 0.000 0.000 0.000 0.000 ]\n",
        "357 - Predicted: 0 Actual: 1 [ 0.802 0.058 0.000 0.000 0.000 0.000 0.140 ]\n",
        "358 - Predicted: 0 Actual: 0 [ 0.500 0.500 0.000 0.000 0.000 0.000 0.000 ]\n",
        "359 - Predicted: 2 Actual: 2 [ 0.000 0.000 0.688 0.000 0.000 0.312 0.000 ]\n",
        "360"
       ]
      },
      {
       "output_type": "stream",
       "stream": "stdout",
       "text": [
        " - Predicted: 1 Actual: 1 [ 0.167 0.667 0.000 0.000 0.167 0.000 0.000 ]\n",
        "361 - Predicted: 1 Actual: 2 [ 0.000 0.640 0.320 0.000 0.000 0.040 0.000 ]\n",
        "362 - Predicted: 1 Actual: 1 [ 0.444 0.474 0.006 0.000 0.007 0.003 0.066 ]\n",
        "363 - Predicted: 1 Actual: 0 [ 0.303 0.667 0.030 0.000 0.000 0.000 0.000 ]\n",
        "364 - Predicted: 1 Actual: 1 [ 0.000 0.500 0.000 0.000 0.000 0.500 0.000 ]\n",
        "365 - Predicted: 1 Actual: 0 [ 0.147 0.798 0.037 0.000 0.009 0.009 0.000 ]\n",
        "366 - Predicted: 1 Actual: 1 [ 0.329 0.671 0.000 0.000 0.000 0.000 0.000 ]\n",
        "367 - Predicted: 1 Actual: 1 [ 0.200 0.800 0.000 0.000 0.000 0.000 0.000 ]\n",
        "368 - Predicted: 0 Actual: 0 [ 0.609 0.304 0.000 0.000 0.000 0.000 0.087 ]\n",
        "369 - Predicted: 1 Actual: 0 [ 0.167 0.833 0.000 0.000 0.000 0.000 0.000 ]\n",
        "370"
       ]
      },
      {
       "output_type": "stream",
       "stream": "stdout",
       "text": [
        " - Predicted: 0 Actual: 1 [ 0.867 0.133 0.000 0.000 0.000 0.000 0.000 ]\n",
        "371 - Predicted: 0 Actual: 1 [ 0.720 0.160 0.000 0.000 0.040 0.000 0.080 ]\n",
        "372 - Predicted: 1 Actual: 1 [ 0.429 0.571 0.000 0.000 0.000 0.000 0.000 ]\n",
        "373 - Predicted: 0 Actual: 0 [ 0.500 0.500 0.000 0.000 0.000 0.000 0.000 ]\n",
        "374 - Predicted: 1 Actual: 0 [ 0.125 0.875 0.000 0.000 0.000 0.000 0.000 ]\n",
        "375 - Predicted: 2 Actual: 2 [ 0.000 0.400 0.600 0.000 0.000 0.000 0.000 ]\n",
        "376 - Predicted: 0 Actual: 1 [ 0.613 0.356 0.000 0.000 0.000 0.000 0.031 ]\n",
        "377 - Predicted: 0 Actual: 0 [ 0.615 0.385 0.000 0.000 0.000 0.000 0.000 ]\n",
        "378 - Predicted: 1 Actual: 0 [ 0.452 0.505 0.000 0.000 0.011 0.011 0.022 ]\n",
        "379 - Predicted: 1 Actual: 1 [ 0.361 0.631 0.000 0.000 0.000 0.000 0.007 ]\n",
        "380"
       ]
      },
      {
       "output_type": "stream",
       "stream": "stdout",
       "text": [
        " - Predicted: 1 Actual: 1 [ 0.071 0.857 0.000 0.000 0.071 0.000 0.000 ]\n",
        "381 - Predicted: 0 Actual: 1 [ 0.632 0.324 0.000 0.000 0.044 0.000 0.000 ]\n",
        "382 - Predicted: 0 Actual: 1 [ 0.500 0.500 0.000 0.000 0.000 0.000 0.000 ]\n",
        "383 - Predicted: 1 Actual: 0 [ 0.143 0.714 0.000 0.000 0.143 0.000 0.000 ]\n",
        "384 - Predicted: 2 Actual: 2 [ 0.000 0.100 0.500 0.000 0.000 0.400 0.000 ]\n",
        "385 - Predicted: 1 Actual: 0 [ 0.451 0.543 0.000 0.000 0.007 0.000 0.000 ]\n",
        "386 - Predicted: 1 Actual: 0 [ 0.312 0.688 0.000 0.000 0.000 0.000 0.000 ]\n",
        "387 - Predicted: 1 Actual: 1 [ 0.300 0.700 0.000 0.000 0.000 0.000 0.000 ]\n",
        "388 - Predicted: 0 Actual: 1 [ 0.500 0.500 0.000 0.000 0.000 0.000 0.000 ]\n",
        "389 - Predicted: 1 Actual: 0 [ 0.246 0.456 0.035 0.000 0.228 0.000 0.035 ]\n",
        "390"
       ]
      },
      {
       "output_type": "stream",
       "stream": "stdout",
       "text": [
        " - Predicted: 1 Actual: 0 [ 0.304 0.696 0.000 0.000 0.000 0.000 0.000 ]\n",
        "391 - Predicted: 1 Actual: 0 [ 0.300 0.700 0.000 0.000 0.000 0.000 0.000 ]\n",
        "392 - Predicted: 1 Actual: 1 [ 0.214 0.786 0.000 0.000 0.000 0.000 0.000 ]\n",
        "393 - Predicted: 1 Actual: 0 [ 0.333 0.525 0.071 0.000 0.020 0.030 0.020 ]\n",
        "394 - Predicted: 1 Actual: 1 [ 0.229 0.771 0.000 0.000 0.000 0.000 0.000 ]\n",
        "395 - Predicted: 1 Actual: 1 [ 0.250 0.750 0.000 0.000 0.000 0.000 0.000 ]\n",
        "396 - Predicted: 0 Actual: 0 [ 0.545 0.455 0.000 0.000 0.000 0.000 0.000 ]\n",
        "397 - Predicted: 1 Actual: 1 [ 0.030 0.791 0.149 0.000 0.030 0.000 0.000 ]\n",
        "398 - Predicted: 0 Actual: 1 [ 0.571 0.429 0.000 0.000 0.000 0.000 0.000 ]\n",
        "399 - Predicted: 2 Actual: 2 [ 0.000 0.000 0.667 0.333 0.000 0.000 0.000 ]\n",
        "400"
       ]
      },
      {
       "output_type": "stream",
       "stream": "stdout",
       "text": [
        " - Predicted: 2 Actual: 2 [ 0.000 0.000 0.667 0.000 0.000 0.333 0.000 ]\n",
        "401 - Predicted: 1 Actual: 0 [ 0.125 0.875 0.000 0.000 0.000 0.000 0.000 ]\n",
        "402 - Predicted: 1 Actual: 1 [ 0.324 0.618 0.059 0.000 0.000 0.000 0.000 ]\n",
        "403 - Predicted: 0 Actual: 0 [ 0.500 0.500 0.000 0.000 0.000 0.000 0.000 ]\n",
        "404 - Predicted: 0 Actual: 0 [ 0.514 0.432 0.000 0.000 0.000 0.000 0.054 ]\n",
        "405 - Predicted: 1 Actual: 1 [ 0.066 0.918 0.000 0.000 0.016 0.000 0.000 ]\n",
        "406 - Predicted: 1 Actual: 1 [ 0.055 0.945 0.000 0.000 0.000 0.000 0.000 ]\n",
        "407 - Predicted: 0 Actual: 1 [ 0.600 0.400 0.000 0.000 0.000 0.000 0.000 ]\n",
        "408 - Predicted: 0 Actual: 1 [ 0.514 0.432 0.000 0.000 0.000 0.000 0.054 ]\n",
        "409 - Predicted: 0 Actual: 0 [ 0.500 0.500 0.000 0.000 0.000 0.000 0.000 ]\n",
        "410"
       ]
      },
      {
       "output_type": "stream",
       "stream": "stdout",
       "text": [
        " - Predicted: 0 Actual: 0 [ 0.535 0.442 0.000 0.000 0.000 0.000 0.023 ]\n",
        "411 - Predicted: 1 Actual: 2 [ 0.255 0.625 0.095 0.000 0.015 0.010 0.000 ]\n",
        "412 - Predicted: 0 Actual: 0 [ 0.833 0.167 0.000 0.000 0.000 0.000 0.000 ]\n",
        "413 - Predicted: 1 Actual: 0 [ 0.250 0.750 0.000 0.000 0.000 0.000 0.000 ]\n",
        "414 - Predicted: 1 Actual: 1 [ 0.250 0.750 0.000 0.000 0.000 0.000 0.000 ]\n",
        "415 - Predicted: 0 Actual: 0 [ 0.786 0.214 0.000 0.000 0.000 0.000 0.000 ]\n",
        "416 - Predicted: 1 Actual: 1 [ 0.438 0.458 0.000 0.000 0.000 0.000 0.104 ]\n",
        "417 - Predicted: 1 Actual: 1 [ 0.400 0.600 0.000 0.000 0.000 0.000 0.000 ]\n",
        "418 - Predicted: 0 Actual: 1 [ 0.500 0.500 0.000 0.000 0.000 0.000 0.000 ]\n",
        "419 - Predicted: 1 Actual: 1 [ 0.222 0.778 0.000 0.000 0.000 0.000 0.000 ]\n",
        "420"
       ]
      },
      {
       "output_type": "stream",
       "stream": "stdout",
       "text": [
        " - Predicted: 0 Actual: 0 [ 0.520 0.400 0.000 0.000 0.000 0.000 0.080 ]\n",
        "421 - Predicted: 0 Actual: 1 [ 0.500 0.496 0.000 0.000 0.004 0.000 0.000 ]\n",
        "422 - Predicted: 1 Actual: 0 [ 0.478 0.507 0.000 0.000 0.000 0.000 0.015 ]\n",
        "423 - Predicted: 0 Actual: 0 [ 0.800 0.200 0.000 0.000 0.000 0.000 0.000 ]\n",
        "424 - Predicted: 1 Actual: 2 [ 0.091 0.556 0.231 0.000 0.000 0.122 0.000 ]\n",
        "425 - Predicted: 0 Actual: 1 [ 0.545 0.364 0.000 0.000 0.000 0.091 0.000 ]\n",
        "426 - Predicted: 1 Actual: 1 [ 0.058 0.928 0.000 0.000 0.014 0.000 0.000 ]\n",
        "427 - Predicted: 1 Actual: 1 [ 0.000 0.448 0.207 0.138 0.000 0.207 0.000 ]\n",
        "428 - Predicted: 1 Actual: 1 [ 0.167 0.833 0.000 0.000 0.000 0.000 0.000 ]\n",
        "429 - Predicted: 0 Actual: 0 [ 0.833 0.167 0.000 0.000 0.000 0.000 0.000 ]\n",
        "430"
       ]
      },
      {
       "output_type": "stream",
       "stream": "stdout",
       "text": [
        " - Predicted: 1 Actual: 1 [ 0.000 0.667 0.222 0.000 0.111 0.000 0.000 ]\n",
        "431 - Predicted: 1 Actual: 1 [ 0.222 0.778 0.000 0.000 0.000 0.000 0.000 ]\n",
        "432 - Predicted: 0 Actual: 0 [ 0.438 0.375 0.000 0.000 0.000 0.000 0.188 ]\n",
        "433 - Predicted: 0 Actual: 1 [ 0.450 0.450 0.000 0.000 0.000 0.000 0.100 ]\n",
        "434 - Predicted: 2 Actual: 2 [ 0.000 0.038 0.538 0.000 0.000 0.423 0.000 ]\n",
        "435 - Predicted: 0 Actual: 0 [ 0.667 0.333 0.000 0.000 0.000 0.000 0.000 ]\n",
        "436 - Predicted: 0 Actual: 0 [ 0.476 0.429 0.000 0.000 0.000 0.000 0.095 ]\n",
        "437 - Predicted: 0 Actual: 1 [ 0.714 0.286 0.000 0.000 0.000 0.000 0.000 ]\n",
        "438 - Predicted: 1 Actual: 1 [ 0.150 0.700 0.000 0.000 0.150 0.000 0.000 ]\n",
        "439 - Predicted: 0 Actual: 0 [ 0.500 0.000 0.000 0.000 0.000 0.000 0.500 ]\n",
        "440"
       ]
      },
      {
       "output_type": "stream",
       "stream": "stdout",
       "text": [
        " - Predicted: 0 Actual: 1 [ 0.375 0.375 0.000 0.000 0.000 0.000 0.250 ]\n",
        "441 - Predicted: 2 Actual: 2 [ 0.000 0.000 0.800 0.000 0.000 0.200 0.000 ]\n",
        "442 - Predicted: 0 Actual: 0 [ 0.667 0.333 0.000 0.000 0.000 0.000 0.000 ]\n",
        "443 - Predicted: 1 Actual: 1 [ 0.224 0.776 0.000 0.000 0.000 0.000 0.000 ]\n",
        "444 - Predicted: 1 Actual: 0 [ 0.200 0.600 0.000 0.000 0.000 0.000 0.200 ]\n",
        "445 - Predicted: 0 Actual: 1 [ 0.833 0.167 0.000 0.000 0.000 0.000 0.000 ]\n",
        "446 - Predicted: 0 Actual: 0 [ 0.481 0.422 0.000 0.000 0.000 0.000 0.097 ]\n",
        "447 - Predicted: 1 Actual: 0 [ 0.333 0.667 0.000 0.000 0.000 0.000 0.000 ]\n",
        "448 - Predicted: 1 Actual: 1 [ 0.052 0.948 0.000 0.000 0.000 0.000 0.000 ]\n",
        "449 - Predicted: 1 Actual: 1 [ 0.250 0.750 0.000 0.000 0.000 0.000 0.000 ]\n",
        "450"
       ]
      },
      {
       "output_type": "stream",
       "stream": "stdout",
       "text": [
        " - Predicted: 1 Actual: 1 [ 0.099 0.901 0.000 0.000 0.000 0.000 0.000 ]\n",
        "451 - Predicted: 0 Actual: 0 [ 0.400 0.400 0.000 0.000 0.000 0.000 0.200 ]\n",
        "452 - Predicted: 1 Actual: 1 [ 0.250 0.750 0.000 0.000 0.000 0.000 0.000 ]\n",
        "453 - Predicted: 2 Actual: 2 [ 0.000 0.000 0.714 0.000 0.000 0.286 0.000 ]\n",
        "454 - Predicted: 1 Actual: 1 [ 0.400 0.600 0.000 0.000 0.000 0.000 0.000 ]\n",
        "455 - Predicted: 1 Actual: 0 [ 0.431 0.554 0.000 0.000 0.000 0.000 0.015 ]\n",
        "456 - Predicted: 0 Actual: 0 [ 0.900 0.100 0.000 0.000 0.000 0.000 0.000 ]\n",
        "457 - Predicted: 1 Actual: 1 [ 0.400 0.600 0.000 0.000 0.000 0.000 0.000 ]\n",
        "458 - Predicted: 0 Actual: 0 [ 0.500 0.500 0.000 0.000 0.000 0.000 0.000 ]\n",
        "459 - Predicted: 1 Actual: 1 [ 0.187 0.813 0.000 0.000 0.000 0.000 0.000 ]\n",
        "460"
       ]
      },
      {
       "output_type": "stream",
       "stream": "stdout",
       "text": [
        " - Predicted: 1 Actual: 1 [ 0.373 0.551 0.000 0.000 0.000 0.000 0.076 ]\n",
        "461 - Predicted: 1 Actual: 2 [ 0.000 0.600 0.200 0.000 0.000 0.200 0.000 ]\n",
        "462 - Predicted: 1 Actual: 0 [ 0.282 0.502 0.105 0.010 0.026 0.052 0.023 ]\n",
        "463 - Predicted: 1 Actual: 0 [ 0.282 0.502 0.105 0.010 0.026 0.052 0.023 ]\n",
        "464 - Predicted: 0 Actual: 1 [ 0.500 0.500 0.000 0.000 0.000 0.000 0.000 ]\n",
        "465 - Predicted: 1 Actual: 0 [ 0.250 0.750 0.000 0.000 0.000 0.000 0.000 ]\n",
        "466 - Predicted: 1 Actual: 0 [ 0.286 0.571 0.000 0.000 0.000 0.000 0.143 ]\n",
        "467 - Predicted: 1 Actual: 1 [ 0.019 0.981 0.000 0.000 0.000 0.000 0.000 ]\n",
        "468 - Predicted: 1 Actual: 1 [ 0.382 0.471 0.088 0.000 0.029 0.000 0.029 ]\n",
        "469 - Predicted: 1 Actual: 1 [ 0.127 0.873 0.000 0.000 0.000 0.000 0.000 ]\n",
        "470"
       ]
      },
      {
       "output_type": "stream",
       "stream": "stdout",
       "text": [
        " - Predicted: 1 Actual: 1 [ 0.189 0.726 0.000 0.000 0.053 0.000 0.032 ]\n",
        "471 - Predicted: 0 Actual: 0 [ 0.673 0.231 0.000 0.000 0.000 0.000 0.096 ]\n",
        "472 - Predicted: 1 Actual: 1 [ 0.222 0.778 0.000 0.000 0.000 0.000 0.000 ]\n",
        "473 - Predicted: 0 Actual: 0 [ 0.500 0.500 0.000 0.000 0.000 0.000 0.000 ]\n",
        "474 - Predicted: 0 Actual: 1 [ 0.814 0.140 0.000 0.000 0.000 0.000 0.047 ]\n",
        "475 - Predicted: 1 Actual: 1 [ 0.245 0.755 0.000 0.000 0.000 0.000 0.000 ]\n",
        "476 - Predicted: 0 Actual: 0 [ 0.605 0.395 0.000 0.000 0.000 0.000 0.000 ]\n",
        "477 - Predicted: 1 Actual: 1 [ 0.125 0.875 0.000 0.000 0.000 0.000 0.000 ]\n",
        "478 - Predicted: 0 Actual: 0 [ 0.558 0.442 0.000 0.000 0.000 0.000 0.000 ]\n",
        "479 - Predicted: 2 Actual: 2 [ 0.000 0.200 0.800 0.000 0.000 0.000 0.000 ]\n",
        "480"
       ]
      },
      {
       "output_type": "stream",
       "stream": "stdout",
       "text": [
        " - Predicted: 0 Actual: 0 [ 0.750 0.000 0.000 0.000 0.000 0.000 0.250 ]\n",
        "481 - Predicted: 1 Actual: 1 [ 0.067 0.467 0.067 0.200 0.067 0.133 0.000 ]\n",
        "482 - Predicted: 1 Actual: 0 [ 0.333 0.667 0.000 0.000 0.000 0.000 0.000 ]\n",
        "483 - Predicted: 1 Actual: 1 [ 0.250 0.750 0.000 0.000 0.000 0.000 0.000 ]\n",
        "484 - Predicted: 1 Actual: 2 [ 0.000 0.500 0.000 0.000 0.000 0.500 0.000 ]\n",
        "485 - Predicted: 0 Actual: 0 [ 0.895 0.053 0.000 0.000 0.000 0.000 0.053 ]\n",
        "486 - Predicted: 1 Actual: 1 [ 0.250 0.750 0.000 0.000 0.000 0.000 0.000 ]\n",
        "487 - Predicted: 1 Actual: 1 [ 0.294 0.539 0.009 0.000 0.149 0.000 0.009 ]\n",
        "488 - Predicted: 0 Actual: 0 [ 0.582 0.418 0.000 0.000 0.000 0.000 0.000 ]\n",
        "489 - Predicted: 4 Actual: 1 [ 0.167 0.333 0.000 0.000 0.500 0.000 0.000 ]\n",
        "490"
       ]
      },
      {
       "output_type": "stream",
       "stream": "stdout",
       "text": [
        " - Predicted: 1 Actual: 1 [ 0.400 0.600 0.000 0.000 0.000 0.000 0.000 ]\n",
        "491 - Predicted: 0 Actual: 0 [ 0.627 0.373 0.000 0.000 0.000 0.000 0.000 ]\n",
        "492 - Predicted: 1 Actual: 0 [ 0.201 0.704 0.013 0.000 0.058 0.000 0.024 ]\n",
        "493 - Predicted: 0 Actual: 1 [ 0.629 0.369 0.000 0.000 0.000 0.000 0.002 ]\n",
        "494 - Predicted: 1 Actual: 1 [ 0.382 0.559 0.029 0.000 0.029 0.000 0.000 ]\n",
        "495 - Predicted: 1 Actual: 1 [ 0.273 0.719 0.000 0.000 0.008 0.000 0.000 ]\n",
        "496 - Predicted: 0 Actual: 0 [ 0.641 0.287 0.000 0.000 0.004 0.000 0.068 ]\n",
        "497 - Predicted: 1 Actual: 1 [ 0.000 0.667 0.333 0.000 0.000 0.000 0.000 ]\n",
        "498 - Predicted: 0 Actual: 0 [ 0.895 0.105 0.000 0.000 0.000 0.000 0.000 ]\n",
        "499 - Predicted: 5 Actual: 2 [ 0.015 0.184 0.340 0.074 0.037 0.350 0.000 ]\n",
        "500"
       ]
      },
      {
       "output_type": "stream",
       "stream": "stdout",
       "text": [
        " - Predicted: 1 Actual: 1 [ 0.100 0.900 0.000 0.000 0.000 0.000 0.000 ]\n",
        "501 - Predicted: 1 Actual: 0 [ 0.400 0.600 0.000 0.000 0.000 0.000 0.000 ]\n",
        "502 - Predicted: 0 Actual: 0 [ 0.500 0.500 0.000 0.000 0.000 0.000 0.000 ]\n",
        "503 - Predicted: 1 Actual: 1 [ 0.342 0.607 0.009 0.000 0.026 0.000 0.017 ]\n",
        "504 - Predicted: 5 Actual: 2 [ 0.000 0.100 0.414 0.043 0.000 0.443 0.000 ]\n",
        "505 - Predicted: 1 Actual: 1 [ 0.498 0.502 0.000 0.000 0.000 0.000 0.000 ]\n",
        "506 - Predicted: 0 Actual: 1 [ 0.636 0.364 0.000 0.000 0.000 0.000 0.000 ]\n",
        "507 - Predicted: 0 Actual: 0 [ 0.750 0.250 0.000 0.000 0.000 0.000 0.000 ]\n",
        "508 - Predicted: 0 Actual: 0 [ 0.625 0.375 0.000 0.000 0.000 0.000 0.000 ]\n",
        "509 - Predicted: 1 Actual: 1 [ 0.308 0.692 0.000 0.000 0.000 0.000 0.000 ]\n",
        "510"
       ]
      },
      {
       "output_type": "stream",
       "stream": "stdout",
       "text": [
        " - Predicted: 1 Actual: 0 [ 0.400 0.600 0.000 0.000 0.000 0.000 0.000 ]\n",
        "511 - Predicted: 1 Actual: 0 [ 0.300 0.700 0.000 0.000 0.000 0.000 0.000 ]\n",
        "512 - Predicted: 1 Actual: 0 [ 0.182 0.818 0.000 0.000 0.000 0.000 0.000 ]\n",
        "513 - Predicted: 1 Actual: 1 [ 0.158 0.737 0.053 0.000 0.000 0.053 0.000 ]\n",
        "514 - Predicted: 1 Actual: 1 [ 0.000 0.950 0.000 0.000 0.050 0.000 0.000 ]\n",
        "515 - Predicted: 1 Actual: 2 [ 0.277 0.477 0.068 0.017 0.068 0.092 0.000 ]\n",
        "516 - Predicted: 0 Actual: 0 [ 0.507 0.490 0.000 0.000 0.003 0.000 0.000 ]\n",
        "517 - Predicted: 1 Actual: 1 [ 0.052 0.948 0.000 0.000 0.000 0.000 0.000 ]\n",
        "518 - Predicted: 1 Actual: 1 [ 0.400 0.600 0.000 0.000 0.000 0.000 0.000 ]\n",
        "519 - Predicted: 1 Actual: 1 [ 0.297 0.570 0.007 0.000 0.120 0.000 0.007 ]\n",
        "520"
       ]
      },
      {
       "output_type": "stream",
       "stream": "stdout",
       "text": [
        " - Predicted: 1 Actual: 1 [ 0.333 0.667 0.000 0.000 0.000 0.000 0.000 ]\n",
        "521 - Predicted: 0 Actual: 1 [ 0.500 0.000 0.000 0.000 0.500 0.000 0.000 ]\n",
        "522 - Predicted: 0 Actual: 0 [ 0.600 0.298 0.000 0.000 0.000 0.000 0.102 ]\n",
        "523 - Predicted: 1 Actual: 0 [ 0.333 0.667 0.000 0.000 0.000 0.000 0.000 ]\n",
        "524 - Predicted: 1 Actual: 0 [ 0.333 0.667 0.000 0.000 0.000 0.000 0.000 ]\n",
        "525 - Predicted: 2 Actual: 2 [ 0.000 0.000 0.700 0.000 0.000 0.300 0.000 ]\n",
        "526 - Predicted: 1 Actual: 1 [ 0.000 0.697 0.000 0.000 0.303 0.000 0.000 ]\n",
        "527 - Predicted: 1 Actual: 0 [ 0.182 0.818 0.000 0.000 0.000 0.000 0.000 ]\n",
        "528 - Predicted: 1 Actual: 1 [ 0.071 0.857 0.071 0.000 0.000 0.000 0.000 ]\n",
        "529 - Predicted: 1 Actual: 1 [ 0.143 0.857 0.000 0.000 0.000 0.000 0.000 ]\n",
        "530"
       ]
      },
      {
       "output_type": "stream",
       "stream": "stdout",
       "text": [
        " - Predicted: 0 Actual: 0 [ 0.714 0.286 0.000 0.000 0.000 0.000 0.000 ]\n",
        "531 - Predicted: 1 Actual: 1 [ 0.286 0.571 0.000 0.000 0.143 0.000 0.000 ]\n",
        "532 - Predicted: 0 Actual: 0 [ 0.506 0.494 0.000 0.000 0.000 0.000 0.000 ]\n",
        "533 - Predicted: 0 Actual: 0 [ 0.750 0.250 0.000 0.000 0.000 0.000 0.000 ]\n",
        "534 - Predicted: 1 Actual: 2 [ 0.316 0.596 0.088 0.000 0.000 0.000 0.000 ]\n",
        "535 - Predicted: 0 Actual: 0 [ 0.635 0.348 0.000 0.000 0.000 0.000 0.017 ]\n",
        "536 - Predicted: 1 Actual: 1 [ 0.077 0.846 0.000 0.000 0.077 0.000 0.000 ]\n",
        "537 - Predicted: 1 Actual: 1 [ 0.000 0.333 0.333 0.000 0.000 0.333 0.000 ]\n",
        "538 - Predicted: 1 Actual: 1 [ 0.292 0.708 0.000 0.000 0.000 0.000 0.000 ]\n",
        "539 - Predicted: 1 Actual: 1 [ 0.403 0.597 0.000 0.000 0.000 0.000 0.000 ]\n",
        "540"
       ]
      },
      {
       "output_type": "stream",
       "stream": "stdout",
       "text": [
        " - Predicted: 1 Actual: 1 [ 0.335 0.576 0.030 0.000 0.009 0.049 0.000 ]\n",
        "541 - Predicted: 1 Actual: 2 [ 0.167 0.750 0.000 0.000 0.083 0.000 0.000 ]\n",
        "542 - Predicted: 0 Actual: 0 [ 0.667 0.333 0.000 0.000 0.000 0.000 0.000 ]\n",
        "543 - Predicted: 1 Actual: 1 [ 0.067 0.652 0.119 0.052 0.022 0.089 0.000 ]\n",
        "544 - Predicted: 0 Actual: 0 [ 0.692 0.154 0.000 0.000 0.000 0.000 0.154 ]\n",
        "545 - Predicted: 0 Actual: 0 [ 0.889 0.111 0.000 0.000 0.000 0.000 0.000 ]\n",
        "546 - Predicted: 0 Actual: 1 [ 0.615 0.154 0.000 0.000 0.000 0.000 0.231 ]\n",
        "547 - Predicted: 1 Actual: 1 [ 0.291 0.709 0.000 0.000 0.000 0.000 0.000 ]\n",
        "548 - Predicted: 1 Actual: 1 [ 0.191 0.776 0.005 0.000 0.005 0.022 0.000 ]\n",
        "549 - Predicted: 0 Actual: 0 [ 0.667 0.333 0.000 0.000 0.000 0.000 0.000 ]\n",
        "550"
       ]
      },
      {
       "output_type": "stream",
       "stream": "stdout",
       "text": [
        " - Predicted: 0 Actual: 1 [ 0.667 0.333 0.000 0.000 0.000 0.000 0.000 ]\n",
        "551 - Predicted: 1 Actual: 0 [ 0.254 0.723 0.000 0.000 0.023 0.000 0.000 ]\n",
        "552 - Predicted: 0 Actual: 0 [ 0.875 0.125 0.000 0.000 0.000 0.000 0.000 ]\n",
        "553 - Predicted: 1 Actual: 2 [ 0.070 0.651 0.140 0.000 0.023 0.116 0.000 ]\n",
        "554 - Predicted: 0 Actual: 0 [ 0.444 0.444 0.000 0.000 0.000 0.000 0.111 ]\n",
        "555 - Predicted: 1 Actual: 0 [ 0.256 0.731 0.000 0.000 0.000 0.000 0.013 ]\n",
        "556 - Predicted: 1 Actual: 1 [ 0.214 0.786 0.000 0.000 0.000 0.000 0.000 ]\n",
        "557 - Predicted: 1 Actual: 1 [ 0.333 0.667 0.000 0.000 0.000 0.000 0.000 ]\n",
        "558 - Predicted: 1 Actual: 1 [ 0.235 0.765 0.000 0.000 0.000 0.000 0.000 ]\n",
        "559 - Predicted: 4 Actual: 1 [ 0.250 0.250 0.000 0.000 0.500 0.000 0.000 ]\n",
        "560"
       ]
      },
      {
       "output_type": "stream",
       "stream": "stdout",
       "text": [
        " - Predicted: 1 Actual: 1 [ 0.121 0.776 0.034 0.000 0.069 0.000 0.000 ]\n",
        "561 - Predicted: 1 Actual: 0 [ 0.429 0.571 0.000 0.000 0.000 0.000 0.000 ]\n",
        "562 - Predicted: 1 Actual: 1 [ 0.058 0.538 0.202 0.067 0.000 0.135 0.000 ]\n",
        "563 - Predicted: 1 Actual: 1 [ 0.200 0.800 0.000 0.000 0.000 0.000 0.000 ]\n",
        "564 - Predicted: 0 Actual: 0 [ 0.647 0.324 0.000 0.000 0.000 0.000 0.029 ]\n",
        "565 - Predicted: 5 Actual: 2 [ 0.000 0.000 0.312 0.250 0.000 0.438 0.000 ]\n",
        "566 - Predicted: 1 Actual: 0 [ 0.200 0.800 0.000 0.000 0.000 0.000 0.000 ]\n",
        "567 - Predicted: 0 Actual: 0 [ 0.500 0.167 0.000 0.000 0.000 0.000 0.333 ]\n",
        "568 - Predicted: 0 Actual: 1 [ 0.636 0.273 0.000 0.000 0.091 0.000 0.000 ]\n",
        "569 - Predicted: 1 Actual: 1 [ 0.086 0.540 0.265 0.000 0.003 0.107 0.000 ]\n",
        "570"
       ]
      },
      {
       "output_type": "stream",
       "stream": "stdout",
       "text": [
        " - Predicted: 1 Actual: 2 [ 0.000 0.574 0.191 0.000 0.029 0.206 0.000 ]\n",
        "571 - Predicted: 0 Actual: 0 [ 0.800 0.200 0.000 0.000 0.000 0.000 0.000 ]\n",
        "572 - Predicted: 0 Actual: 0 [ 0.571 0.429 0.000 0.000 0.000 0.000 0.000 ]\n",
        "573 - Predicted: 1 Actual: 1 [ 0.242 0.727 0.000 0.000 0.030 0.000 0.000 ]\n",
        "574 - Predicted: 0 Actual: 0 [ 0.667 0.333 0.000 0.000 0.000 0.000 0.000 ]\n",
        "575 - Predicted: 1 Actual: 1 [ 0.400 0.600 0.000 0.000 0.000 0.000 0.000 ]\n",
        "576 - Predicted: 1 Actual: 0 [ 0.429 0.571 0.000 0.000 0.000 0.000 0.000 ]\n",
        "577 - Predicted: 1 Actual: 1 [ 0.000 0.574 0.191 0.000 0.029 0.206 0.000 ]\n",
        "578 - Predicted: 1 Actual: 1 [ 0.013 0.711 0.000 0.000 0.000 0.000 0.276 ]\n",
        "579 - Predicted: 1 Actual: 1 [ 0.341 0.553 0.071 0.000 0.035 0.000 0.000 ]\n",
        "580"
       ]
      },
      {
       "output_type": "stream",
       "stream": "stdout",
       "text": [
        " - Predicted: 0 Actual: 1 [ 0.250 0.250 0.250 0.000 0.250 0.000 0.000 ]\n",
        "581 - Predicted: 0 Actual: 0 [ 0.857 0.000 0.000 0.000 0.000 0.000 0.143 ]\n",
        "582 - Predicted: 1 Actual: 0 [ 0.376 0.539 0.025 0.000 0.060 0.000 0.000 ]\n",
        "583 - Predicted: 1 Actual: 1 [ 0.192 0.545 0.000 0.000 0.010 0.000 0.253 ]\n",
        "584 - Predicted: 1 Actual: 0 [ 0.459 0.463 0.008 0.000 0.012 0.004 0.053 ]\n",
        "585 - Predicted: 0 Actual: 0 [ 0.800 0.000 0.000 0.000 0.000 0.000 0.200 ]\n",
        "586 - Predicted: 0 Actual: 1 [ 0.471 0.471 0.000 0.000 0.020 0.000 0.039 ]\n",
        "587 - Predicted: 2 Actual: 2 [ 0.013 0.128 0.524 0.018 0.013 0.304 0.000 ]\n",
        "588 - Predicted: 1 Actual: 1 [ 0.133 0.800 0.000 0.000 0.000 0.000 0.067 ]\n",
        "589 - Predicted: 1 Actual: 1 [ 0.333 0.667 0.000 0.000 0.000 0.000 0.000 ]\n",
        "590"
       ]
      },
      {
       "output_type": "stream",
       "stream": "stdout",
       "text": [
        " - Predicted: 1 Actual: 1 [ 0.433 0.500 0.006 0.000 0.012 0.000 0.049 ]\n",
        "591 - Predicted: 0 Actual: 0 [ 0.587 0.396 0.000 0.000 0.000 0.000 0.017 ]\n",
        "592 - Predicted: 0 Actual: 1 [ 0.628 0.358 0.000 0.000 0.000 0.000 0.014 ]\n",
        "593 - Predicted: 1 Actual: 1 [ 0.339 0.548 0.010 0.000 0.096 0.002 0.005 ]\n",
        "594 - Predicted: 5 Actual: 2 [ 0.000 0.200 0.000 0.200 0.200 0.400 0.000 ]\n",
        "595 - Predicted: 1 Actual: 0 [ 0.100 0.900 0.000 0.000 0.000 0.000 0.000 ]\n",
        "596 - Predicted: 1 Actual: 0 [ 0.332 0.663 0.000 0.000 0.000 0.000 0.005 ]\n",
        "597 - Predicted: 0 Actual: 1 [ 0.667 0.333 0.000 0.000 0.000 0.000 0.000 ]\n",
        "598 - Predicted: 1 Actual: 1 [ 0.000 0.476 0.444 0.000 0.016 0.063 0.000 ]\n",
        "599 - Predicted: 0 Actual: 0 [ 0.750 0.250 0.000 0.000 0.000 0.000 0.000 ]\n",
        "600"
       ]
      },
      {
       "output_type": "stream",
       "stream": "stdout",
       "text": [
        " - Predicted: 1 Actual: 1 [ 0.356 0.550 0.022 0.000 0.054 0.011 0.005 ]\n",
        "601 - Predicted: 1 Actual: 1 [ 0.450 0.533 0.000 0.000 0.000 0.000 0.017 ]\n",
        "602 - Predicted: 1 Actual: 0 [ 0.410 0.516 0.000 0.000 0.005 0.000 0.069 ]\n",
        "603 - Predicted: 0 Actual: 0 [ 0.471 0.294 0.000 0.000 0.000 0.000 0.235 ]\n",
        "604 - Predicted: 1 Actual: 0 [ 0.410 0.516 0.000 0.000 0.005 0.000 0.069 ]\n",
        "605 - Predicted: 0 Actual: 1 [ 0.615 0.337 0.000 0.000 0.000 0.000 0.048 ]\n",
        "606 - Predicted: 1 Actual: 1 [ 0.359 0.641 0.000 0.000 0.000 0.000 0.000 ]\n",
        "607 - Predicted: 1 Actual: 0 [ 0.410 0.516 0.000 0.000 0.005 0.000 0.069 ]\n",
        "608 - Predicted: 1 Actual: 2 [ 0.002 0.520 0.310 0.008 0.032 0.128 0.000 ]\n",
        "609 - Predicted: 1 Actual: 1 [ 0.410 0.516 0.000 0.000 0.005 0.000 0.069 ]\n",
        "610"
       ]
      },
      {
       "output_type": "stream",
       "stream": "stdout",
       "text": [
        " - Predicted: 1 Actual: 0 [ 0.478 0.522 0.000 0.000 0.000 0.000 0.000 ]\n",
        "611 - Predicted: 5 Actual: 2 [ 0.000 0.200 0.200 0.000 0.000 0.600 0.000 ]\n",
        "612 - Predicted: 0 Actual: 0 [ 0.515 0.485 0.000 0.000 0.000 0.000 0.000 ]\n",
        "613 - Predicted: 1 Actual: 1 [ 0.000 0.857 0.000 0.000 0.143 0.000 0.000 ]\n",
        "614 - Predicted: 0 Actual: 1 [ 0.511 0.489 0.000 0.000 0.000 0.000 0.000 ]\n",
        "615 - Predicted: 0 Actual: 1 [ 0.824 0.118 0.000 0.000 0.000 0.000 0.059 ]\n",
        "616 - Predicted: 1 Actual: 0 [ 0.429 0.476 0.000 0.000 0.000 0.000 0.095 ]\n",
        "617 - Predicted: 0 Actual: 1 [ 0.547 0.422 0.000 0.000 0.000 0.000 0.031 ]\n",
        "618 - Predicted: 1 Actual: 1 [ 0.053 0.947 0.000 0.000 0.000 0.000 0.000 ]\n",
        "619 - Predicted: 1 Actual: 0 [ 0.370 0.630 0.000 0.000 0.000 0.000 0.000 ]\n",
        "620"
       ]
      },
      {
       "output_type": "stream",
       "stream": "stdout",
       "text": [
        " - Predicted: 1 Actual: 0 [ 0.235 0.647 0.000 0.000 0.118 0.000 0.000 ]\n",
        "621 - Predicted: 1 Actual: 1 [ 0.083 0.833 0.000 0.000 0.000 0.000 0.083 ]\n",
        "622 - Predicted: 0 Actual: 1 [ 0.368 0.368 0.000 0.000 0.158 0.000 0.105 ]\n",
        "623 - Predicted: 0 Actual: 0 [ 0.500 0.500 0.000 0.000 0.000 0.000 0.000 ]\n",
        "624 - Predicted: 1 Actual: 1 [ 0.250 0.750 0.000 0.000 0.000 0.000 0.000 ]\n",
        "625 - Predicted: 0 Actual: 1 [ 0.739 0.261 0.000 0.000 0.000 0.000 0.000 ]\n",
        "626 - Predicted: 1 Actual: 0 [ 0.200 0.800 0.000 0.000 0.000 0.000 0.000 ]\n",
        "627 - Predicted: 2 Actual: 2 [ 0.000 0.000 0.625 0.250 0.000 0.125 0.000 ]\n",
        "628 - Predicted: 1 Actual: 1 [ 0.111 0.889 0.000 0.000 0.000 0.000 0.000 ]\n",
        "629 - Predicted: 0 Actual: 0 [ 0.649 0.337 0.000 0.000 0.000 0.000 0.013 ]\n",
        "630"
       ]
      },
      {
       "output_type": "stream",
       "stream": "stdout",
       "text": [
        " - Predicted: 2 Actual: 2 [ 0.010 0.263 0.551 0.000 0.000 0.177 0.000 ]\n",
        "631 - Predicted: 0 Actual: 1 [ 0.468 0.460 0.003 0.000 0.012 0.002 0.055 ]\n",
        "632 - Predicted: 1 Actual: 1 [ 0.400 0.600 0.000 0.000 0.000 0.000 0.000 ]\n",
        "633 - Predicted: 0 Actual: 0 [ 0.750 0.250 0.000 0.000 0.000 0.000 0.000 ]\n",
        "634 - Predicted: 0 Actual: 1 [ 0.771 0.188 0.000 0.000 0.000 0.000 0.042 ]\n",
        "635 - Predicted: 0 Actual: 1 [ 0.757 0.243 0.000 0.000 0.000 0.000 0.000 ]\n",
        "636 - Predicted: 1 Actual: 0 [ 0.175 0.726 0.054 0.003 0.018 0.015 0.009 ]\n",
        "637 - Predicted: 1 Actual: 0 [ 0.484 0.516 0.000 0.000 0.000 0.000 0.000 ]\n",
        "638 - Predicted: 0 Actual: 1 [ 0.667 0.333 0.000 0.000 0.000 0.000 0.000 ]\n",
        "639 - Predicted: 0 Actual: 0 [ 0.600 0.400 0.000 0.000 0.000 0.000 0.000 ]\n",
        "640"
       ]
      },
      {
       "output_type": "stream",
       "stream": "stdout",
       "text": [
        " - Predicted: 1 Actual: 1 [ 0.132 0.823 0.013 0.000 0.027 0.005 0.000 ]\n",
        "641 - Predicted: 1 Actual: 1 [ 0.463 0.467 0.004 0.000 0.011 0.002 0.052 ]\n",
        "642 - Predicted: 1 Actual: 1 [ 0.093 0.566 0.237 0.000 0.007 0.098 0.000 ]\n",
        "643 - Predicted: 2 Actual: 2 [ 0.007 0.227 0.506 0.039 0.007 0.214 0.000 ]\n",
        "644 - Predicted: 1 Actual: 1 [ 0.053 0.947 0.000 0.000 0.000 0.000 0.000 ]\n",
        "645 - Predicted: 0 Actual: 0 [ 0.571 0.357 0.000 0.000 0.071 0.000 0.000 ]\n",
        "646 - Predicted: 1 Actual: 0 [ 0.463 0.467 0.004 0.000 0.011 0.002 0.052 ]\n",
        "647 - Predicted: 1 Actual: 1 [ 0.413 0.508 0.013 0.000 0.008 0.004 0.054 ]\n",
        "648 - Predicted: 1 Actual: 0 [ 0.463 0.467 0.004 0.000 0.011 0.002 0.052 ]\n",
        "649 - Predicted: 0 Actual: 0 [ 0.430 0.422 0.000 0.000 0.009 0.000 0.138 ]\n",
        "650"
       ]
      },
      {
       "output_type": "stream",
       "stream": "stdout",
       "text": [
        " - Predicted: 1 Actual: 1 [ 0.067 0.867 0.040 0.000 0.013 0.000 0.013 ]\n",
        "651 - Predicted: 2 Actual: 2 [ 0.000 0.143 0.643 0.000 0.000 0.214 0.000 ]\n",
        "652 - Predicted: 1 Actual: 1 [ 0.222 0.778 0.000 0.000 0.000 0.000 0.000 ]\n",
        "653 - Predicted: 1 Actual: 0 [ 0.454 0.463 0.015 0.000 0.010 0.010 0.049 ]\n",
        "654 - Predicted: 1 Actual: 0 [ 0.454 0.463 0.015 0.000 0.010 0.010 0.049 ]\n",
        "655 - Predicted: 1 Actual: 1 [ 0.143 0.857 0.000 0.000 0.000 0.000 0.000 ]\n",
        "656 - Predicted: 1 Actual: 0 [ 0.454 0.463 0.015 0.000 0.010 0.010 0.049 ]\n",
        "657 - Predicted: 0 Actual: 0 [ 0.535 0.416 0.000 0.000 0.005 0.000 0.045 ]\n",
        "658 - Predicted: 0 Actual: 1 [ 0.535 0.416 0.000 0.000 0.005 0.000 0.045 ]\n",
        "659 - Predicted: 0 Actual: 1 [ 0.512 0.439 0.000 0.000 0.000 0.000 0.049 ]\n",
        "660"
       ]
      },
      {
       "output_type": "stream",
       "stream": "stdout",
       "text": [
        " - Predicted: 1 Actual: 1 [ 0.083 0.917 0.000 0.000 0.000 0.000 0.000 ]\n",
        "661 - Predicted: 0 Actual: 1 [ 0.514 0.424 0.006 0.000 0.000 0.000 0.056 ]\n",
        "662 - Predicted: 1 Actual: 0 [ 0.333 0.667 0.000 0.000 0.000 0.000 0.000 ]\n",
        "663 - Predicted: 1 Actual: 1 [ 0.333 0.667 0.000 0.000 0.000 0.000 0.000 ]\n",
        "664 - Predicted: 1 Actual: 1 [ 0.400 0.600 0.000 0.000 0.000 0.000 0.000 ]\n",
        "665 - Predicted: 1 Actual: 0 [ 0.453 0.492 0.006 0.000 0.011 0.000 0.039 ]\n",
        "666 - Predicted: 1 Actual: 0 [ 0.250 0.750 0.000 0.000 0.000 0.000 0.000 ]\n",
        "667 - Predicted: 0 Actual: 0 [ 0.514 0.424 0.006 0.000 0.000 0.000 0.056 ]\n",
        "668 - Predicted: 1 Actual: 2 [ 0.000 0.833 0.167 0.000 0.000 0.000 0.000 ]\n",
        "669 - Predicted: 0 Actual: 1 [ 0.514 0.424 0.006 0.000 0.000 0.000 0.056 ]\n",
        "670"
       ]
      },
      {
       "output_type": "stream",
       "stream": "stdout",
       "text": [
        " - Predicted: 1 Actual: 1 [ 0.445 0.495 0.005 0.000 0.015 0.000 0.040 ]\n",
        "671 - Predicted: 2 Actual: 2 [ 0.000 0.333 0.667 0.000 0.000 0.000 0.000 ]\n",
        "672 - Predicted: 1 Actual: 0 [ 0.188 0.750 0.000 0.000 0.062 0.000 0.000 ]\n",
        "673 - Predicted: 0 Actual: 0 [ 0.500 0.500 0.000 0.000 0.000 0.000 0.000 ]\n",
        "674 - Predicted: 1 Actual: 1 [ 0.445 0.495 0.005 0.000 0.015 0.000 0.040 ]\n",
        "675 - Predicted: 1 Actual: 1 [ 0.356 0.542 0.000 0.000 0.000 0.000 0.102 ]\n",
        "676 - Predicted: 1 Actual: 1 [ 0.368 0.632 0.000 0.000 0.000 0.000 0.000 ]\n",
        "677 - Predicted: 1 Actual: 0 [ 0.429 0.571 0.000 0.000 0.000 0.000 0.000 ]\n",
        "678 - Predicted: 1 Actual: 1 [ 0.333 0.556 0.111 0.000 0.000 0.000 0.000 ]\n",
        "679 - Predicted: 1 Actual: 0 [ 0.087 0.783 0.000 0.000 0.087 0.000 0.043 ]\n",
        "680"
       ]
      },
      {
       "output_type": "stream",
       "stream": "stdout",
       "text": [
        " - Predicted: 2 Actual: 1 [ 0.010 0.185 0.540 0.015 0.000 0.250 0.000 ]\n",
        "681 - Predicted: 2 Actual: 2 [ 0.000 0.059 0.706 0.000 0.000 0.235 0.000 ]\n",
        "682 - Predicted: 0 Actual: 0 [ 0.800 0.200 0.000 0.000 0.000 0.000 0.000 ]\n",
        "683 - Predicted: 0 Actual: 1 [ 0.468 0.468 0.000 0.000 0.000 0.000 0.065 ]\n",
        "684 - Predicted: 1 Actual: 0 [ 0.436 0.532 0.000 0.000 0.000 0.000 0.032 ]\n",
        "685 - Predicted: 1 Actual: 1 [ 0.436 0.532 0.000 0.000 0.000 0.000 0.032 ]\n",
        "686 - Predicted: 1 Actual: 1 [ 0.424 0.500 0.000 0.000 0.017 0.006 0.052 ]\n",
        "687 - Predicted: 1 Actual: 0 [ 0.256 0.698 0.000 0.000 0.000 0.000 0.047 ]\n",
        "688 - Predicted: 0 Actual: 1 [ 0.500 0.500 0.000 0.000 0.000 0.000 0.000 ]\n",
        "689 - Predicted: 0 Actual: 0 [ 0.629 0.300 0.000 0.000 0.000 0.000 0.071 ]\n",
        "690"
       ]
      },
      {
       "output_type": "stream",
       "stream": "stdout",
       "text": [
        " - Predicted: 0 Actual: 0 [ 0.500 0.500 0.000 0.000 0.000 0.000 0.000 ]\n",
        "691 - Predicted: 1 Actual: 1 [ 0.300 0.700 0.000 0.000 0.000 0.000 0.000 ]\n",
        "692 - Predicted: 1 Actual: 1 [ 0.076 0.771 0.086 0.000 0.010 0.057 0.000 ]\n",
        "693 - Predicted: 1 Actual: 1 [ 0.162 0.726 0.043 0.002 0.048 0.012 0.007 ]\n",
        "694 - Predicted: 2 Actual: 2 [ 0.000 0.000 0.800 0.000 0.000 0.200 0.000 ]\n",
        "695 - Predicted: 1 Actual: 1 [ 0.150 0.750 0.000 0.000 0.050 0.000 0.050 ]\n",
        "696 - Predicted: 0 Actual: 0 [ 0.500 0.500 0.000 0.000 0.000 0.000 0.000 ]\n",
        "697 - Predicted: 0 Actual: 0 [ 0.609 0.217 0.000 0.000 0.000 0.000 0.174 ]\n",
        "698 - Predicted: 1 Actual: 0 [ 0.286 0.673 0.000 0.000 0.000 0.000 0.041 ]\n",
        "699 - Predicted: 1 Actual: 1 [ 0.366 0.606 0.007 0.000 0.014 0.007 0.000 ]\n",
        "700"
       ]
      },
      {
       "output_type": "stream",
       "stream": "stdout",
       "text": [
        " - Predicted: 1 Actual: 1 [ 0.294 0.689 0.000 0.000 0.008 0.008 0.000 ]\n",
        "701 - Predicted: 1 Actual: 1 [ 0.294 0.689 0.000 0.000 0.008 0.008 0.000 ]\n",
        "702 - Predicted: 0 Actual: 0 [ 0.417 0.417 0.000 0.000 0.000 0.000 0.167 ]\n",
        "703 - Predicted: 1 Actual: 0 [ 0.294 0.689 0.000 0.000 0.008 0.008 0.000 ]\n",
        "704 - Predicted: 1 Actual: 1 [ 0.231 0.615 0.000 0.000 0.154 0.000 0.000 ]\n",
        "705 - Predicted: 2 Actual: 2 [ 0.000 0.359 0.511 0.000 0.000 0.130 0.000 ]\n",
        "706 - Predicted: 0 Actual: 1 [ 0.462 0.434 0.003 0.000 0.091 0.000 0.010 ]\n",
        "707 - Predicted: 1 Actual: 0 [ 0.400 0.600 0.000 0.000 0.000 0.000 0.000 ]\n",
        "708 - Predicted: 1 Actual: 1 [ 0.000 0.333 0.222 0.222 0.000 0.222 0.000 ]\n",
        "709 - Predicted: 0 Actual: 0 [ 0.500 0.000 0.000 0.000 0.000 0.000 0.500 ]\n",
        "710"
       ]
      },
      {
       "output_type": "stream",
       "stream": "stdout",
       "text": [
        " - Predicted: 1 Actual: 1 [ 0.105 0.842 0.000 0.000 0.000 0.000 0.053 ]\n",
        "711 - Predicted: 1 Actual: 1 [ 0.391 0.575 0.000 0.000 0.034 0.000 0.000 ]\n",
        "712 - Predicted: 1 Actual: 2 [ 0.000 0.889 0.000 0.000 0.000 0.111 0.000 ]\n",
        "713 - Predicted: 0 Actual: 1 [ 0.545 0.455 0.000 0.000 0.000 0.000 0.000 ]\n",
        "714 - Predicted: 1 Actual: 1 [ 0.391 0.575 0.000 0.000 0.034 0.000 0.000 ]\n",
        "715 - Predicted: 1 Actual: 0 [ 0.333 0.667 0.000 0.000 0.000 0.000 0.000 ]\n",
        "716 - Predicted: 1 Actual: 0 [ 0.167 0.833 0.000 0.000 0.000 0.000 0.000 ]\n",
        "717 - Predicted: 1 Actual: 1 [ 0.455 0.515 0.000 0.000 0.030 0.000 0.000 ]\n",
        "718 - Predicted: 0 Actual: 0 [ 0.924 0.076 0.000 0.000 0.000 0.000 0.000 ]\n",
        "719 - Predicted: 1 Actual: 0 [ 0.235 0.706 0.000 0.000 0.000 0.000 0.059 ]\n",
        "720"
       ]
      },
      {
       "output_type": "stream",
       "stream": "stdout",
       "text": [
        " - Predicted: 1 Actual: 0 [ 0.375 0.622 0.000 0.000 0.003 0.000 0.000 ]\n",
        "721 - Predicted: 2 Actual: 2 [ 0.000 0.000 0.571 0.000 0.000 0.429 0.000 ]\n",
        "722 - Predicted: 1 Actual: 0 [ 0.333 0.667 0.000 0.000 0.000 0.000 0.000 ]\n",
        "723 - Predicted: 1 Actual: 1 [ 0.200 0.800 0.000 0.000 0.000 0.000 0.000 ]\n",
        "724 - Predicted: 1 Actual: 1 [ 0.267 0.695 0.000 0.000 0.038 0.000 0.000 ]\n",
        "725 - Predicted: 1 Actual: 0 [ 0.353 0.554 0.025 0.000 0.055 0.009 0.003 ]\n",
        "726 - Predicted: 1 Actual: 1 [ 0.265 0.706 0.000 0.000 0.010 0.010 0.010 ]\n",
        "727 - Predicted: 1 Actual: 1 [ 0.161 0.806 0.032 0.000 0.000 0.000 0.000 ]\n",
        "728 - Predicted: 1 Actual: 0 [ 0.265 0.706 0.000 0.000 0.010 0.010 0.010 ]\n",
        "729 - Predicted: 1 Actual: 1 [ 0.152 0.790 0.019 0.000 0.038 0.000 0.000 ]\n",
        "730"
       ]
      },
      {
       "output_type": "stream",
       "stream": "stdout",
       "text": [
        " - Predicted: 0 Actual: 0 [ 0.604 0.189 0.000 0.000 0.000 0.000 0.208 ]\n",
        "731 - Predicted: 0 Actual: 0 [ 0.714 0.286 0.000 0.000 0.000 0.000 0.000 ]\n",
        "732 - Predicted: 1 Actual: 2 [ 0.000 0.500 0.250 0.000 0.000 0.250 0.000 ]\n",
        "733 - Predicted: 1 Actual: 0 [ 0.291 0.696 0.000 0.000 0.013 0.000 0.000 ]\n",
        "734 - Predicted: 1 Actual: 1 [ 0.167 0.667 0.000 0.000 0.000 0.000 0.167 ]\n",
        "735 - Predicted: 1 Actual: 1 [ 0.324 0.647 0.029 0.000 0.000 0.000 0.000 ]\n",
        "736 - Predicted: 1 Actual: 0 [ 0.351 0.649 0.000 0.000 0.000 0.000 0.000 ]\n",
        "737 - Predicted: 1 Actual: 1 [ 0.324 0.647 0.029 0.000 0.000 0.000 0.000 ]\n",
        "738 - Predicted: 1 Actual: 1 [ 0.386 0.580 0.011 0.000 0.023 0.000 0.000 ]\n",
        "739 - Predicted: 1 Actual: 1 [ 0.241 0.759 0.000 0.000 0.000 0.000 0.000 ]\n",
        "740"
       ]
      },
      {
       "output_type": "stream",
       "stream": "stdout",
       "text": [
        " - Predicted: 0 Actual: 0 [ 0.500 0.250 0.000 0.000 0.000 0.000 0.250 ]\n",
        "741 - Predicted: 0 Actual: 0 [ 0.600 0.400 0.000 0.000 0.000 0.000 0.000 ]\n",
        "742 - Predicted: 1 Actual: 0 [ 0.400 0.600 0.000 0.000 0.000 0.000 0.000 ]\n",
        "743 - Predicted: 1 Actual: 1 [ 0.389 0.556 0.000 0.000 0.056 0.000 0.000 ]\n",
        "744 - Predicted: 1 Actual: 1 [ 0.474 0.526 0.000 0.000 0.000 0.000 0.000 ]\n",
        "745 - Predicted: 1 Actual: 1 [ 0.375 0.625 0.000 0.000 0.000 0.000 0.000 ]\n",
        "746 - Predicted: 1 Actual: 1 [ 0.474 0.526 0.000 0.000 0.000 0.000 0.000 ]\n",
        "747 - Predicted: 0 Actual: 1 [ 0.750 0.000 0.000 0.000 0.000 0.000 0.250 ]\n",
        "748 - Predicted: 2 Actual: 2 [ 0.000 0.118 0.529 0.000 0.000 0.353 0.000 ]\n",
        "749 - Predicted: 0 Actual: 0 [ 0.600 0.300 0.000 0.000 0.000 0.000 0.100 ]\n",
        "750"
       ]
      },
      {
       "output_type": "stream",
       "stream": "stdout",
       "text": [
        " - Predicted: 2 Actual: 2 [ 0.000 0.197 0.649 0.010 0.000 0.145 0.000 ]\n",
        "751 - Predicted: 1 Actual: 0 [ 0.125 0.875 0.000 0.000 0.000 0.000 0.000 ]\n",
        "752 - Predicted: 1 Actual: 0 [ 0.205 0.667 0.000 0.000 0.000 0.000 0.128 ]\n",
        "753 - Predicted: 1 Actual: 1 [ 0.048 0.720 0.000 0.000 0.000 0.000 0.232 ]\n",
        "754 - Predicted: 0 Actual: 1 [ 0.667 0.333 0.000 0.000 0.000 0.000 0.000 ]\n",
        "755 - Predicted: 1 Actual: 1 [ 0.211 0.789 0.000 0.000 0.000 0.000 0.000 ]\n",
        "756 - Predicted: 1 Actual: 1 [ 0.280 0.580 0.000 0.000 0.100 0.020 0.020 ]\n",
        "757 - Predicted: 5 Actual: 1 [ 0.000 0.000 0.333 0.000 0.000 0.667 0.000 ]\n",
        "758 - Predicted: 0 Actual: 0 [ 0.500 0.500 0.000 0.000 0.000 0.000 0.000 ]\n",
        "759 - Predicted: 1 Actual: 0 [ 0.364 0.636 0.000 0.000 0.000 0.000 0.000 ]\n",
        "760"
       ]
      },
      {
       "output_type": "stream",
       "stream": "stdout",
       "text": [
        " - Predicted: 0 Actual: 1 [ 0.429 0.357 0.000 0.071 0.000 0.071 0.071 ]\n",
        "761 - Predicted: 1 Actual: 0 [ 0.290 0.710 0.000 0.000 0.000 0.000 0.000 ]\n",
        "762 - Predicted: 1 Actual: 1 [ 0.375 0.500 0.000 0.000 0.000 0.000 0.125 ]\n",
        "763 - Predicted: 1 Actual: 2 [ 0.000 0.500 0.333 0.000 0.000 0.167 0.000 ]\n",
        "764 - Predicted: 0 Actual: 0 [ 0.453 0.340 0.000 0.000 0.000 0.000 0.208 ]\n",
        "765 - Predicted: 1 Actual: 1 [ 0.000 0.792 0.000 0.000 0.208 0.000 0.000 ]\n",
        "766 - Predicted: 1 Actual: 1 [ 0.167 0.833 0.000 0.000 0.000 0.000 0.000 ]\n",
        "767 - Predicted: 0 Actual: 0 [ 0.750 0.250 0.000 0.000 0.000 0.000 0.000 ]\n",
        "768 - Predicted: 0 Actual: 1 [ 0.667 0.222 0.000 0.000 0.000 0.000 0.111 ]\n",
        "769 - Predicted: 0 Actual: 0 [ 0.731 0.192 0.000 0.000 0.000 0.000 0.077 ]\n",
        "770"
       ]
      },
      {
       "output_type": "stream",
       "stream": "stdout",
       "text": [
        " - Predicted: 2 Actual: 1 [ 0.000 0.119 0.388 0.060 0.045 0.388 0.000 ]\n",
        "771 - Predicted: 0 Actual: 0 [ 0.833 0.083 0.000 0.000 0.000 0.000 0.083 ]\n",
        "772 - Predicted: 1 Actual: 1 [ 0.333 0.667 0.000 0.000 0.000 0.000 0.000 ]\n",
        "773 - Predicted: 1 Actual: 1 [ 0.111 0.889 0.000 0.000 0.000 0.000 0.000 ]\n",
        "774 - Predicted: 0 Actual: 0 [ 0.744 0.091 0.000 0.000 0.000 0.000 0.165 ]\n",
        "775 - Predicted: 0 Actual: 0 [ 0.632 0.342 0.000 0.000 0.000 0.000 0.026 ]\n",
        "776 - Predicted: 1 Actual: 1 [ 0.200 0.600 0.000 0.000 0.000 0.200 0.000 ]\n",
        "777 - Predicted: 1 Actual: 1 [ 0.250 0.750 0.000 0.000 0.000 0.000 0.000 ]\n",
        "778 - Predicted: 0 Actual: 0 [ 0.500 0.333 0.000 0.000 0.000 0.000 0.167 ]\n",
        "779 - Predicted: 2 Actual: 2 [ 0.000 0.000 0.667 0.000 0.000 0.333 0.000 ]\n",
        "780"
       ]
      },
      {
       "output_type": "stream",
       "stream": "stdout",
       "text": [
        " - Predicted: 1 Actual: 2 [ 0.154 0.846 0.000 0.000 0.000 0.000 0.000 ]\n",
        "781 - Predicted: 1 Actual: 0 [ 0.345 0.540 0.000 0.000 0.000 0.000 0.115 ]\n",
        "782 - Predicted: 1 Actual: 1 [ 0.064 0.872 0.000 0.000 0.064 0.000 0.000 ]\n",
        "783 - Predicted: 1 Actual: 1 [ 0.124 0.765 0.035 0.000 0.076 0.000 0.000 ]\n",
        "784 - Predicted: 1 Actual: 0 [ 0.200 0.400 0.000 0.000 0.000 0.000 0.400 ]\n",
        "785 - Predicted: 1 Actual: 0 [ 0.406 0.594 0.000 0.000 0.000 0.000 0.000 ]\n",
        "786 - Predicted: 1 Actual: 1 [ 0.333 0.667 0.000 0.000 0.000 0.000 0.000 ]\n",
        "787 - Predicted: 0 Actual: 1 [ 0.581 0.279 0.000 0.000 0.047 0.000 0.093 ]\n",
        "788 - Predicted: 0 Actual: 0 [ 0.667 0.000 0.000 0.000 0.000 0.000 0.333 ]\n",
        "789 - Predicted: 1 Actual: 1 [ 0.435 0.478 0.000 0.000 0.000 0.000 0.087 ]\n",
        "790"
       ]
      },
      {
       "output_type": "stream",
       "stream": "stdout",
       "text": [
        " - Predicted: 1 Actual: 1 [ 0.267 0.693 0.005 0.000 0.018 0.010 0.007 ]\n",
        "791 - Predicted: 1 Actual: 1 [ 0.250 0.750 0.000 0.000 0.000 0.000 0.000 ]\n",
        "792 - Predicted: 0 Actual: 0 [ 0.814 0.116 0.000 0.000 0.000 0.000 0.070 ]\n",
        "793 - Predicted: 0 Actual: 0 [ 0.667 0.333 0.000 0.000 0.000 0.000 0.000 ]\n",
        "794 - Predicted: 2 Actual: 2 [ 0.000 0.222 0.576 0.037 0.013 0.151 0.000 ]\n",
        "795 - Predicted: 1 Actual: 1 [ 0.273 0.424 0.303 0.000 0.000 0.000 0.000 ]\n",
        "796 - Predicted: 0 Actual: 0 [ 0.739 0.261 0.000 0.000 0.000 0.000 0.000 ]\n",
        "797 - Predicted: 1 Actual: 1 [ 0.056 0.944 0.000 0.000 0.000 0.000 0.000 ]\n",
        "798 - Predicted: 0 Actual: 1 [ 0.662 0.325 0.000 0.000 0.000 0.000 0.013 ]\n",
        "799 - Predicted: 0 Actual: 0 [ 0.529 0.400 0.000 0.000 0.000 0.000 0.071 ]\n",
        "800"
       ]
      },
      {
       "output_type": "stream",
       "stream": "stdout",
       "text": [
        " - Predicted: 1 Actual: 1 [ 0.261 0.609 0.000 0.000 0.000 0.000 0.130 ]\n",
        "801 - Predicted: 1 Actual: 0 [ 0.429 0.571 0.000 0.000 0.000 0.000 0.000 ]\n",
        "802 - Predicted: 1 Actual: 1 [ 0.143 0.810 0.000 0.000 0.000 0.048 0.000 ]\n",
        "803 - Predicted: 0 Actual: 0 [ 0.571 0.429 0.000 0.000 0.000 0.000 0.000 ]\n",
        "804 - Predicted: 2 Actual: 2 [ 0.007 0.225 0.505 0.038 0.007 0.218 0.000 ]\n",
        "805 - Predicted: 0 Actual: 1 [ 0.625 0.375 0.000 0.000 0.000 0.000 0.000 ]\n",
        "806 - Predicted: 1 Actual: 0 [ 0.265 0.695 0.005 0.000 0.020 0.010 0.006 ]\n",
        "807 - Predicted: 0 Actual: 1 [ 0.628 0.372 0.000 0.000 0.000 0.000 0.000 ]\n",
        "808 - Predicted: 1 Actual: 1 [ 0.220 0.676 0.026 0.000 0.056 0.017 0.005 ]\n",
        "809 - Predicted: 6 Actual: 0 [ 0.250 0.000 0.000 0.000 0.000 0.000 0.750 ]\n",
        "810"
       ]
      },
      {
       "output_type": "stream",
       "stream": "stdout",
       "text": [
        " - Predicted: 1 Actual: 1 [ 0.095 0.762 0.000 0.000 0.000 0.000 0.143 ]\n",
        "811 - Predicted: 2 Actual: 2 [ 0.000 0.000 0.692 0.000 0.077 0.231 0.000 ]\n",
        "812 - Predicted: 1 Actual: 1 [ 0.133 0.867 0.000 0.000 0.000 0.000 0.000 ]\n",
        "813 - Predicted: 1 Actual: 1 [ 0.250 0.750 0.000 0.000 0.000 0.000 0.000 ]\n",
        "814 - Predicted: 0 Actual: 0 [ 0.667 0.333 0.000 0.000 0.000 0.000 0.000 ]\n",
        "815 - Predicted: 1 Actual: 1 [ 0.415 0.561 0.002 0.000 0.015 0.001 0.005 ]\n",
        "816 - Predicted: 1 Actual: 1 [ 0.000 0.667 0.000 0.000 0.333 0.000 0.000 ]\n",
        "817 - Predicted: 0 Actual: 0 [ 0.333 0.333 0.000 0.000 0.000 0.000 0.333 ]\n",
        "818 - Predicted: 0 Actual: 0 [ 0.667 0.333 0.000 0.000 0.000 0.000 0.000 ]\n",
        "819 - Predicted: 1 Actual: 0 [ 0.143 0.714 0.000 0.000 0.143 0.000 0.000 ]\n",
        "820"
       ]
      },
      {
       "output_type": "stream",
       "stream": "stdout",
       "text": [
        " - Predicted: 0 Actual: 1 [ 0.833 0.167 0.000 0.000 0.000 0.000 0.000 ]\n",
        "821 - Predicted: 0 Actual: 0 [ 0.667 0.167 0.000 0.000 0.000 0.000 0.167 ]\n",
        "822 - Predicted: 0 Actual: 1 [ 0.500 0.000 0.000 0.000 0.000 0.500 0.000 ]\n",
        "823 - Predicted: 0 Actual: 0 [ 0.500 0.500 0.000 0.000 0.000 0.000 0.000 ]\n",
        "824 - Predicted: 1 Actual: 1 [ 0.284 0.642 0.000 0.000 0.000 0.000 0.074 ]\n",
        "825 - Predicted: 1 Actual: 0 [ 0.310 0.690 0.000 0.000 0.000 0.000 0.000 ]\n",
        "826 - Predicted: 1 Actual: 2 [ 0.391 0.530 0.020 0.000 0.057 0.000 0.002 ]\n",
        "827 - Predicted: 1 Actual: 1 [ 0.150 0.700 0.000 0.000 0.000 0.150 0.000 ]\n",
        "828 - Predicted: 0 Actual: 0 [ 0.700 0.300 0.000 0.000 0.000 0.000 0.000 ]\n",
        "829 - Predicted: 1 Actual: 1 [ 0.133 0.867 0.000 0.000 0.000 0.000 0.000 ]\n",
        "830"
       ]
      },
      {
       "output_type": "stream",
       "stream": "stdout",
       "text": [
        " - Predicted: 1 Actual: 0 [ 0.439 0.476 0.013 0.000 0.011 0.009 0.052 ]\n",
        "831 - Predicted: 3 Actual: 1 [ 0.000 0.333 0.167 0.500 0.000 0.000 0.000 ]\n",
        "832 - Predicted: 1 Actual: 0 [ 0.413 0.564 0.002 0.000 0.015 0.001 0.005 ]\n",
        "833 - Predicted: 1 Actual: 1 [ 0.373 0.587 0.000 0.000 0.006 0.004 0.030 ]\n",
        "834 - Predicted: 0 Actual: 0 [ 0.684 0.316 0.000 0.000 0.000 0.000 0.000 ]\n",
        "835 - Predicted: 1 Actual: 1 [ 0.261 0.604 0.069 0.006 0.009 0.050 0.000 ]\n",
        "836 - Predicted: 1 Actual: 0 [ 0.439 0.476 0.013 0.000 0.011 0.009 0.052 ]\n",
        "837 - Predicted: 1 Actual: 1 [ 0.439 0.476 0.013 0.000 0.011 0.009 0.052 ]\n",
        "838 - Predicted: 1 Actual: 2 [ 0.200 0.445 0.208 0.043 0.021 0.065 0.018 ]\n",
        "839 - Predicted: 1 Actual: 1 [ 0.439 0.476 0.013 0.000 0.011 0.009 0.052 ]\n",
        "840"
       ]
      },
      {
       "output_type": "stream",
       "stream": "stdout",
       "text": [
        " - Predicted: 1 Actual: 1 [ 0.465 0.474 0.002 0.000 0.009 0.007 0.042 ]\n",
        "841 - Predicted: 2 Actual: 2 [ 0.000 0.000 0.889 0.000 0.000 0.111 0.000 ]\n",
        "842 - Predicted: 1 Actual: 1 [ 0.465 0.474 0.002 0.000 0.009 0.007 0.042 ]\n",
        "843 - Predicted: 0 Actual: 0 [ 0.378 0.378 0.000 0.000 0.000 0.000 0.243 ]\n",
        "844 - Predicted: 1 Actual: 0 [ 0.465 0.474 0.002 0.000 0.009 0.007 0.042 ]\n",
        "845 - Predicted: 1 Actual: 0 [ 0.465 0.474 0.002 0.000 0.009 0.007 0.042 ]\n",
        "846 - Predicted: 1 Actual: 1 [ 0.465 0.474 0.002 0.000 0.009 0.007 0.042 ]\n",
        "847 - Predicted: 1 Actual: 1 [ 0.465 0.474 0.002 0.000 0.009 0.007 0.042 ]\n",
        "848 - Predicted: 1 Actual: 0 [ 0.465 0.474 0.002 0.000 0.009 0.007 0.042 ]\n",
        "849 - Predicted: 1 Actual: 1 [ 0.180 0.820 0.000 0.000 0.000 0.000 0.000 ]\n",
        "850"
       ]
      },
      {
       "output_type": "stream",
       "stream": "stdout",
       "text": [
        " - Predicted: 0 Actual: 0 [ 0.520 0.390 0.000 0.000 0.008 0.000 0.081 ]\n",
        "851 - Predicted: 0 Actual: 0 [ 0.636 0.318 0.000 0.000 0.000 0.000 0.045 ]\n",
        "852 - Predicted: 1 Actual: 1 [ 0.414 0.525 0.010 0.000 0.003 0.003 0.045 ]\n",
        "853 - Predicted: 2 Actual: 1 [ 0.000 0.238 0.600 0.010 0.000 0.152 0.000 ]\n",
        "854 - Predicted: 0 Actual: 1 [ 0.520 0.390 0.000 0.000 0.008 0.000 0.081 ]\n",
        "855 - Predicted: 1 Actual: 0 [ 0.414 0.525 0.010 0.000 0.003 0.003 0.045 ]\n",
        "856 - Predicted: 1 Actual: 1 [ 0.175 0.795 0.000 0.000 0.000 0.000 0.031 ]\n",
        "857 - Predicted: 0 Actual: 0 [ 0.667 0.333 0.000 0.000 0.000 0.000 0.000 ]\n",
        "858 - Predicted: 1 Actual: 1 [ 0.367 0.540 0.025 0.000 0.059 0.007 0.002 ]\n",
        "859 - Predicted: 1 Actual: 2 [ 0.000 0.419 0.347 0.008 0.000 0.225 0.000 ]\n",
        "860"
       ]
      },
      {
       "output_type": "stream",
       "stream": "stdout",
       "text": [
        " - Predicted: 1 Actual: 1 [ 0.430 0.474 0.017 0.000 0.017 0.009 0.052 ]\n",
        "861 - Predicted: 1 Actual: 1 [ 0.200 0.800 0.000 0.000 0.000 0.000 0.000 ]\n",
        "862 - Predicted: 1 Actual: 0 [ 0.255 0.655 0.018 0.000 0.036 0.018 0.018 ]\n",
        "863 - Predicted: 1 Actual: 1 [ 0.474 0.494 0.000 0.000 0.000 0.000 0.032 ]\n",
        "864 - Predicted: 1 Actual: 1 [ 0.250 0.688 0.000 0.000 0.000 0.000 0.062 ]\n",
        "865 - Predicted: 2 Actual: 2 [ 0.000 0.067 0.500 0.077 0.000 0.356 0.000 ]\n",
        "866 - Predicted: 1 Actual: 0 [ 0.324 0.676 0.000 0.000 0.000 0.000 0.000 ]\n",
        "867 - Predicted: 1 Actual: 1 [ 0.136 0.814 0.015 0.000 0.028 0.006 0.000 ]\n",
        "868 - Predicted: 0 Actual: 0 [ 0.618 0.281 0.000 0.000 0.000 0.000 0.101 ]\n",
        "869 - Predicted: 0 Actual: 0 [ 0.491 0.448 0.001 0.000 0.002 0.000 0.058 ]\n",
        "870"
       ]
      },
      {
       "output_type": "stream",
       "stream": "stdout",
       "text": [
        " - Predicted: 0 Actual: 0 [ 0.467 0.467 0.000 0.000 0.000 0.000 0.067 ]\n",
        "871 - Predicted: 1 Actual: 2 [ 0.000 0.536 0.464 0.000 0.000 0.000 0.000 ]\n",
        "872 - Predicted: 0 Actual: 1 [ 0.453 0.438 0.016 0.000 0.031 0.031 0.031 ]\n",
        "873 - Predicted: 1 Actual: 0 [ 0.258 0.723 0.000 0.000 0.019 0.000 0.000 ]\n",
        "874 - Predicted: 1 Actual: 1 [ 0.108 0.800 0.031 0.000 0.062 0.000 0.000 ]\n",
        "875 - Predicted: 0 Actual: 0 [ 0.453 0.438 0.016 0.000 0.031 0.031 0.031 ]\n",
        "876 - Predicted: 1 Actual: 1 [ 0.252 0.705 0.007 0.000 0.019 0.011 0.006 ]\n",
        "877 - Predicted: 0 Actual: 1 [ 0.504 0.456 0.000 0.000 0.040 0.000 0.000 ]\n",
        "878 - Predicted: 1 Actual: 1 [ 0.286 0.714 0.000 0.000 0.000 0.000 0.000 ]\n",
        "879 - Predicted: 1 Actual: 0 [ 0.431 0.494 0.011 0.000 0.010 0.008 0.047 ]\n",
        "880"
       ]
      },
      {
       "output_type": "stream",
       "stream": "stdout",
       "text": [
        " - Predicted: 1 Actual: 1 [ 0.163 0.755 0.000 0.000 0.000 0.082 0.000 ]\n",
        "881 - Predicted: 2 Actual: 2 [ 0.000 0.250 0.500 0.000 0.000 0.250 0.000 ]\n",
        "882 - Predicted: 1 Actual: 1 [ 0.286 0.714 0.000 0.000 0.000 0.000 0.000 ]\n",
        "883 - Predicted: 0 Actual: 0 [ 0.667 0.333 0.000 0.000 0.000 0.000 0.000 ]\n",
        "884 - Predicted: 0 Actual: 0 [ 0.480 0.480 0.000 0.000 0.000 0.010 0.029 ]\n",
        "885 - Predicted: 0 Actual: 1 [ 0.480 0.480 0.000 0.000 0.000 0.010 0.029 ]\n",
        "886 - Predicted: 0 Actual: 0 [ 0.438 0.375 0.000 0.000 0.000 0.000 0.188 ]\n",
        "887 - Predicted: 1 Actual: 1 [ 0.062 0.938 0.000 0.000 0.000 0.000 0.000 ]\n",
        "888 - Predicted: 0 Actual: 0 [ 0.480 0.480 0.000 0.000 0.000 0.010 0.029 ]\n",
        "889 - Predicted: 0 Actual: 1 [ 0.750 0.250 0.000 0.000 0.000 0.000 0.000 ]\n",
        "890"
       ]
      },
      {
       "output_type": "stream",
       "stream": "stdout",
       "text": [
        " - Predicted: 1 Actual: 1 [ 0.406 0.500 0.010 0.000 0.000 0.000 0.083 ]\n",
        "891 - Predicted: 2 Actual: 2 [ 0.000 0.309 0.641 0.008 0.008 0.034 0.000 ]\n",
        "892 - Predicted: 0 Actual: 1 [ 0.516 0.419 0.000 0.000 0.000 0.000 0.065 ]\n",
        "893 - Predicted: 1 Actual: 1 [ 0.219 0.569 0.067 0.007 0.070 0.066 0.001 ]\n",
        "894 - Predicted: 1 Actual: 0 [ 0.333 0.560 0.024 0.000 0.012 0.048 0.024 ]\n",
        "895 - Predicted: 1 Actual: 0 [ 0.406 0.500 0.010 0.000 0.000 0.000 0.083 ]\n",
        "896 - Predicted: 1 Actual: 0 [ 0.393 0.607 0.000 0.000 0.000 0.000 0.000 ]\n",
        "897 - Predicted: 0 Actual: 0 [ 0.544 0.417 0.000 0.000 0.000 0.000 0.039 ]\n",
        "898 - Predicted: 1 Actual: 1 [ 0.095 0.905 0.000 0.000 0.000 0.000 0.000 ]\n",
        "899 - Predicted: 0 Actual: 1 [ 0.471 0.471 0.000 0.000 0.000 0.000 0.059 ]\n",
        "900"
       ]
      },
      {
       "output_type": "stream",
       "stream": "stdout",
       "text": [
        " - Predicted: 1 Actual: 1 [ 0.059 0.941 0.000 0.000 0.000 0.000 0.000 ]\n",
        "901 - Predicted: 0 Actual: 1 [ 0.514 0.486 0.000 0.000 0.000 0.000 0.000 ]\n",
        "902 - Predicted: 1 Actual: 1 [ 0.095 0.905 0.000 0.000 0.000 0.000 0.000 ]\n",
        "903 - Predicted: 1 Actual: 1 [ 0.000 0.667 0.000 0.000 0.333 0.000 0.000 ]\n",
        "904 - Predicted: 0 Actual: 0 [ 0.569 0.431 0.000 0.000 0.000 0.000 0.000 ]\n",
        "905 - Predicted: 1 Actual: 1 [ 0.440 0.532 0.000 0.000 0.008 0.000 0.020 ]\n",
        "906 - Predicted: 1 Actual: 0 [ 0.382 0.513 0.026 0.000 0.013 0.000 0.066 ]\n",
        "907 - Predicted: 0 Actual: 0 [ 0.800 0.200 0.000 0.000 0.000 0.000 0.000 ]\n",
        "908 - Predicted: 2 Actual: 2 [ 0.023 0.136 0.477 0.019 0.000 0.346 0.000 ]\n",
        "909 - Predicted: 0 Actual: 0 [ 0.544 0.417 0.000 0.000 0.000 0.000 0.039 ]\n",
        "910"
       ]
      },
      {
       "output_type": "stream",
       "stream": "stdout",
       "text": [
        " - Predicted: 1 Actual: 1 [ 0.436 0.526 0.000 0.000 0.038 0.000 0.000 ]\n",
        "911 - Predicted: 0 Actual: 0 [ 0.500 0.250 0.000 0.000 0.000 0.000 0.250 ]\n",
        "912 - Predicted: 1 Actual: 1 [ 0.307 0.537 0.061 0.008 0.022 0.037 0.028 ]\n",
        "913 - Predicted: 1 Actual: 0 [ 0.176 0.706 0.000 0.000 0.000 0.118 0.000 ]\n",
        "914 - Predicted: 1 Actual: 1 [ 0.167 0.667 0.000 0.000 0.167 0.000 0.000 ]\n",
        "915 - Predicted: 1 Actual: 1 [ 0.118 0.882 0.000 0.000 0.000 0.000 0.000 ]\n",
        "916 - Predicted: 1 Actual: 1 [ 0.308 0.692 0.000 0.000 0.000 0.000 0.000 ]\n",
        "917 - Predicted: 0 Actual: 0 [ 0.704 0.296 0.000 0.000 0.000 0.000 0.000 ]\n",
        "918 - Predicted: 1 Actual: 0 [ 0.440 0.460 0.040 0.000 0.020 0.000 0.040 ]\n",
        "919 - Predicted: 3 Actual: 2 [ 0.000 0.000 0.400 0.600 0.000 0.000 0.000 ]\n",
        "920"
       ]
      },
      {
       "output_type": "stream",
       "stream": "stdout",
       "text": [
        " - Predicted: 1 Actual: 1 [ 0.171 0.574 0.083 0.006 0.037 0.128 0.000 ]\n",
        "921 - Predicted: 1 Actual: 1 [ 0.427 0.498 0.010 0.000 0.010 0.008 0.046 ]\n",
        "922 - Predicted: 1 Actual: 1 [ 0.160 0.760 0.000 0.000 0.040 0.040 0.000 ]\n",
        "923 - Predicted: 1 Actual: 1 [ 0.259 0.741 0.000 0.000 0.000 0.000 0.000 ]\n",
        "924 - Predicted: 1 Actual: 0 [ 0.364 0.636 0.000 0.000 0.000 0.000 0.000 ]\n",
        "925 - Predicted: 1 Actual: 0 [ 0.092 0.644 0.187 0.000 0.000 0.077 0.000 ]\n",
        "926 - Predicted: 2 Actual: 2 [ 0.007 0.227 0.504 0.040 0.007 0.215 0.000 ]\n",
        "927 - Predicted: 1 Actual: 0 [ 0.425 0.525 0.000 0.000 0.025 0.000 0.025 ]\n",
        "928 - Predicted: 1 Actual: 1 [ 0.364 0.636 0.000 0.000 0.000 0.000 0.000 ]\n",
        "929 - Predicted: 1 Actual: 0 [ 0.404 0.462 0.000 0.000 0.000 0.000 0.135 ]\n",
        "930"
       ]
      },
      {
       "output_type": "stream",
       "stream": "stdout",
       "text": [
        " - Predicted: 1 Actual: 1 [ 0.261 0.543 0.000 0.000 0.156 0.020 0.020 ]\n",
        "931 - Predicted: 0 Actual: 0 [ 0.750 0.000 0.000 0.000 0.000 0.000 0.250 ]\n",
        "932 - Predicted: 0 Actual: 1 [ 0.538 0.077 0.000 0.000 0.000 0.000 0.385 ]\n",
        "933 - Predicted: 1 Actual: 0 [ 0.143 0.857 0.000 0.000 0.000 0.000 0.000 ]\n",
        "934 - Predicted: 1 Actual: 0 [ 0.173 0.573 0.078 0.006 0.038 0.132 0.000 ]\n",
        "935 - Predicted: 2 Actual: 2 [ 0.000 0.124 0.569 0.039 0.002 0.267 0.000 ]\n",
        "936 - Predicted: 0 Actual: 0 [ 0.500 0.500 0.000 0.000 0.000 0.000 0.000 ]\n",
        "937 - Predicted: 1 Actual: 1 [ 0.333 0.556 0.000 0.000 0.000 0.111 0.000 ]\n",
        "938 - Predicted: 1 Actual: 1 [ 0.091 0.909 0.000 0.000 0.000 0.000 0.000 ]\n",
        "939 - Predicted: 1 Actual: 1 [ 0.333 0.583 0.000 0.000 0.000 0.000 0.083 ]\n",
        "940"
       ]
      },
      {
       "output_type": "stream",
       "stream": "stdout",
       "text": [
        " - Predicted: 1 Actual: 0 [ 0.389 0.556 0.000 0.000 0.000 0.000 0.056 ]\n",
        "941 - Predicted: 2 Actual: 2 [ 0.029 0.377 0.536 0.000 0.000 0.058 0.000 ]\n",
        "942 - Predicted: 1 Actual: 0 [ 0.296 0.565 0.071 0.000 0.054 0.014 0.000 ]\n",
        "943 - Predicted: 1 Actual: 1 [ 0.385 0.615 0.000 0.000 0.000 0.000 0.000 ]\n",
        "944 - Predicted: 1 Actual: 0 [ 0.429 0.571 0.000 0.000 0.000 0.000 0.000 ]\n",
        "945 - Predicted: 1 Actual: 1 [ 0.362 0.574 0.000 0.000 0.064 0.000 0.000 ]\n",
        "946 - Predicted: 1 Actual: 0 [ 0.222 0.667 0.111 0.000 0.000 0.000 0.000 ]\n",
        "947 - Predicted: 1 Actual: 1 [ 0.200 0.800 0.000 0.000 0.000 0.000 0.000 ]\n",
        "948 - Predicted: 1 Actual: 1 [ 0.167 0.556 0.000 0.000 0.056 0.222 0.000 ]\n",
        "949 - Predicted: 0 Actual: 1 [ 0.818 0.182 0.000 0.000 0.000 0.000 0.000 ]\n",
        "950"
       ]
      },
      {
       "output_type": "stream",
       "stream": "stdout",
       "text": [
        " - Predicted: 1 Actual: 0 [ 0.364 0.614 0.000 0.000 0.000 0.000 0.023 ]\n",
        "951 - Predicted: 0 Actual: 0 [ 0.909 0.091 0.000 0.000 0.000 0.000 0.000 ]\n",
        "952 - Predicted: 0 Actual: 1 [ 0.507 0.451 0.000 0.000 0.000 0.000 0.041 ]\n",
        "953 - Predicted: 1 Actual: 1 [ 0.385 0.615 0.000 0.000 0.000 0.000 0.000 ]\n",
        "954 - Predicted: 0 Actual: 1 [ 0.474 0.421 0.000 0.000 0.000 0.000 0.105 ]\n",
        "955 - Predicted: 0 Actual: 0 [ 0.500 0.500 0.000 0.000 0.000 0.000 0.000 ]\n",
        "956 - Predicted: 2 Actual: 2 [ 0.000 0.000 0.909 0.000 0.000 0.091 0.000 ]\n",
        "957 - Predicted: 1 Actual: 1 [ 0.357 0.500 0.000 0.000 0.000 0.000 0.143 ]\n",
        "958 - Predicted: 1 Actual: 1 [ 0.176 0.529 0.059 0.000 0.235 0.000 0.000 ]\n",
        "959 - Predicted: 1 Actual: 0 [ 0.412 0.588 0.000 0.000 0.000 0.000 0.000 ]\n",
        "960"
       ]
      },
      {
       "output_type": "stream",
       "stream": "stdout",
       "text": [
        " - Predicted: 1 Actual: 1 [ 0.125 0.750 0.000 0.000 0.000 0.000 0.125 ]\n",
        "961 - Predicted: 2 Actual: 1 [ 0.017 0.188 0.374 0.095 0.037 0.287 0.000 ]\n",
        "962 - Predicted: 1 Actual: 1 [ 0.429 0.571 0.000 0.000 0.000 0.000 0.000 ]\n",
        "963 - Predicted: 0 Actual: 1 [ 0.500 0.500 0.000 0.000 0.000 0.000 0.000 ]\n",
        "964 - Predicted: 0 Actual: 1 [ 0.562 0.438 0.000 0.000 0.000 0.000 0.000 ]\n",
        "965 - Predicted: 0 Actual: 0 [ 0.667 0.333 0.000 0.000 0.000 0.000 0.000 ]\n",
        "966 - Predicted: 2 Actual: 2 [ 0.000 0.250 0.625 0.125 0.000 0.000 0.000 ]\n",
        "967 - Predicted: 0 Actual: 0 [ 0.500 0.500 0.000 0.000 0.000 0.000 0.000 ]\n",
        "968 - Predicted: 0 Actual: 0 [ 0.750 0.250 0.000 0.000 0.000 0.000 0.000 ]\n",
        "969 - Predicted: 0 Actual: 0 [ 0.688 0.250 0.000 0.000 0.000 0.000 0.062 ]\n",
        "970"
       ]
      },
      {
       "output_type": "stream",
       "stream": "stdout",
       "text": [
        " - Predicted: 1 Actual: 0 [ 0.125 0.875 0.000 0.000 0.000 0.000 0.000 ]\n",
        "971 - Predicted: 1 Actual: 1 [ 0.229 0.743 0.000 0.000 0.000 0.000 0.029 ]\n",
        "972 - Predicted: 0 Actual: 0 [ 0.895 0.105 0.000 0.000 0.000 0.000 0.000 ]\n",
        "973 - Predicted: 0 Actual: 1 [ 0.679 0.321 0.000 0.000 0.000 0.000 0.000 ]\n",
        "974 - Predicted: 0 Actual: 0 [ 0.545 0.364 0.000 0.000 0.000 0.000 0.091 ]\n",
        "975 - Predicted: 1 Actual: 1 [ 0.033 0.967 0.000 0.000 0.000 0.000 0.000 ]\n",
        "976 - Predicted: 1 Actual: 1 [ 0.028 0.911 0.000 0.000 0.061 0.000 0.000 ]\n",
        "977 - Predicted: 0 Actual: 0 [ 0.500 0.500 0.000 0.000 0.000 0.000 0.000 ]\n",
        "978 - Predicted: 0 Actual: 1 [ 0.333 0.333 0.000 0.000 0.000 0.000 0.333 ]\n",
        "979 - Predicted: 1 Actual: 2 [ 0.000 0.667 0.333 0.000 0.000 0.000 0.000 ]\n",
        "980"
       ]
      },
      {
       "output_type": "stream",
       "stream": "stdout",
       "text": [
        " - Predicted: 1 Actual: 1 [ 0.143 0.571 0.000 0.000 0.000 0.000 0.286 ]\n",
        "981 - Predicted: 0 Actual: 0 [ 0.692 0.206 0.000 0.000 0.000 0.000 0.102 ]\n",
        "982 - Predicted: 1 Actual: 1 [ 0.250 0.750 0.000 0.000 0.000 0.000 0.000 ]\n",
        "983 - Predicted: 0 Actual: 1 [ 0.889 0.111 0.000 0.000 0.000 0.000 0.000 ]\n",
        "984 - Predicted: 2 Actual: 2 [ 0.000 0.167 0.583 0.000 0.000 0.250 0.000 ]\n",
        "985 - Predicted: 1 Actual: 0 [ 0.359 0.607 0.000 0.000 0.034 0.000 0.000 ]\n",
        "986 - Predicted: 1 Actual: 0 [ 0.471 0.529 0.000 0.000 0.000 0.000 0.000 ]\n",
        "987 - Predicted: 0 Actual: 1 [ 0.573 0.360 0.000 0.000 0.000 0.000 0.067 ]\n",
        "988 - Predicted: 1 Actual: 0 [ 0.333 0.667 0.000 0.000 0.000 0.000 0.000 ]\n",
        "989 - Predicted: 1 Actual: 1 [ 0.250 0.750 0.000 0.000 0.000 0.000 0.000 ]\n",
        "990"
       ]
      },
      {
       "output_type": "stream",
       "stream": "stdout",
       "text": [
        " - Predicted: 1 Actual: 1 [ 0.000 0.690 0.310 0.000 0.000 0.000 0.000 ]\n",
        "991 - Predicted: 0 Actual: 1 [ 0.500 0.333 0.000 0.000 0.167 0.000 0.000 ]\n",
        "992 - Predicted: 1 Actual: 1 [ 0.138 0.621 0.103 0.000 0.000 0.138 0.000 ]\n",
        "993 - Predicted: 1 Actual: 0 [ 0.218 0.585 0.061 0.007 0.067 0.061 0.001 ]\n",
        "994 - Predicted: 0 Actual: 0 [ 0.569 0.431 0.000 0.000 0.000 0.000 0.000 ]\n",
        "995 - Predicted: 1 Actual: 2 [ 0.365 0.414 0.080 0.015 0.011 0.072 0.042 ]\n",
        "996 - Predicted: 0 Actual: 0 [ 0.750 0.250 0.000 0.000 0.000 0.000 0.000 ]\n",
        "997 - Predicted: 1 Actual: 1 [ 0.105 0.789 0.053 0.000 0.000 0.053 0.000 ]\n",
        "998 - Predicted: 1 Actual: 1 [ 0.223 0.581 0.068 0.010 0.108 0.009 0.001 ]\n",
        "999 - Predicted: 0 Actual: 0 [ 0.333 0.333 0.000 0.000 0.000 0.000 0.333 ]\n"
       ]
      },
      {
       "output_type": "stream",
       "stream": "stdout",
       "text": [
        " "
       ]
      }
     ],
     "prompt_number": 12
    },
    {
     "cell_type": "code",
     "collapsed": false,
     "input": [
      "n = mf.trees[0].root.left.left.left.left.left.left.left\n",
      "%timeit get_posterior_class_probs(n, 10)"
     ],
     "language": "python",
     "metadata": {},
     "outputs": []
    },
    {
     "cell_type": "code",
     "collapsed": false,
     "input": [
      "pd.Series(hits).cumsum().plot() # Predictions over time"
     ],
     "language": "python",
     "metadata": {},
     "outputs": [
      {
       "metadata": {},
       "output_type": "pyout",
       "prompt_number": 13,
       "text": [
        "<matplotlib.axes._subplots.AxesSubplot at 0x7f687a1d55f8>"
       ]
      },
      {
       "metadata": {},
       "output_type": "display_data",
       "png": "[encoded data removed]",
       "text": [
        "<matplotlib.figure.Figure at 0x7f687a45afd0>"
       ]
      }
     ],
     "prompt_number": 13
    },
    {
     "cell_type": "code",
     "collapsed": false,
     "input": [
      "sum(hits)/len(hits) # Overall accuracy"
     ],
     "language": "python",
     "metadata": {},
     "outputs": [
      {
       "metadata": {},
       "output_type": "pyout",
       "prompt_number": 10,
       "text": [
        "0.64300000000000002"
       ]
      }
     ],
     "prompt_number": 10
    }
   ],
   "metadata": {}
  }
 ]
}