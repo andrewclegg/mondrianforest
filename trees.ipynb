{
 "metadata": {
  "name": "",
  "signature": "sha256:a58e8e88bc7fcbf2a5a2f6d26bcb82941bf8a4748a479c55bb02c8593b501cf7"
 },
 "nbformat": 3,
 "nbformat_minor": 0,
 "worksheets": [
  {
   "cells": [
    {
     "cell_type": "markdown",
     "metadata": {},
     "source": [
      "## Mondrian Forests\n",
      "\n",
      "Key differences from original:\n",
      "\n",
      "* Assume FAST_MODE (no log-likelihood) for now\n",
      "* Classification only (they never finished regression)\n",
      "* Always assume we're training incrementally\n",
      "* `update_posterior_node_incremental` just becomes `update_label_counts`\n",
      "* `add_training_points_to_node` just becomes `MondrianNode.update`\n",
      "* Pushed as much metadata as possible into the node object, to avoid having lots of separate dicts etc. maintained by the tree (hence renaming it `MondrianNode`)\n",
      "* `data` (an array) refers to one minibatch, instead of having a single design matrix in memory and indexing it with `train_ids`\n",
      "* `ids` is a vector of **globally-unique** identifiers for the rows in `data`\n",
      "* `labels` is a vector of class labels for the rows in `data`\n",
      "* We don't assume you'll provide the first batch of training data when initializing a tree, but we do need to know the number of dimensions and number of labels\n",
      "\n",
      "Perhaps most different of all:\n",
      "\n",
      "We don't keep all the input data, as this won't scale. But this means we can't move existing data down into the new leaf nodes when we split a leaf node.\n",
      "\n",
      "Current plan: When the tree \"grows\" through randomly splitting a leaf node, keep its existing class frequencies where they are, and only use the two new children for *newly-arriving* data. Then take these into account when calculating the predictive posteriors (appendix A of paper).\n",
      "\n",
      "Here's my thoughts, that I almost sent to Balaji, but decided to try first.\n",
      "\n",
      "```\n",
      "One thing I missed on reading the paper, is that when you bisect a leaf node through a \"grow\" (sampling) operation,\n",
      "you need to assign all its data points to one of the new children.\n",
      "\n",
      "This means you can't just keep summary statistics for the data in a block, i.e. class frequencies. You need to hold\n",
      "on to the raw training data in order to divide it, yes? Which is a problem for online learning over streaming data\n",
      "or just \"big data\" in general.\n",
      "\n",
      "So... Perhaps you could entirely forget about keeping the existing data and propagating it down to the new child\n",
      "nodes. If you just kept class frequencies at each node, maybe you could use these in the \"update posterior counts\"\n",
      "step for internal nodes, alongside the child node counts.\n",
      "\n",
      "(Any data that came in *after* the split would go all the way down to the leaf nodes though.)\n",
      "```\n",
      "\n",
      "### TODO\n",
      "\n",
      "* Proper probabilistic scoring\n",
      "* Work out exactly what effect `budget` is having\n",
      "* Introspection and prettyprinting tools\n",
      "* Forests\n",
      "* Parallelism\n",
      "* Instance subsampling\n",
      "* Feature subsampling/bootstrapping/bagging\n",
      "* Feature hashing/random projection/LSH\n",
      "* Perf. tuning (Cython etc.)\n",
      "* Error checking\n",
      "* Bulk testing\n",
      "* Train-on-fail mode\n",
      "* Loss functions, regret, class weighting?"
     ]
    },
    {
     "cell_type": "code",
     "collapsed": false,
     "input": [
      "%run 'mondrian.py'\n",
      "\n",
      "import random\n",
      "\n",
      "import numpy as np\n",
      "\n",
      "from IPython.parallel import Client\n",
      "rc = Client()\n",
      "dview = rc[:]\n",
      "\n",
      "DEFAULT_BUDGET = 1000"
     ],
     "language": "python",
     "metadata": {},
     "outputs": [],
     "prompt_number": 4
    },
    {
     "cell_type": "code",
     "collapsed": false,
     "input": [
      "import pickle\n",
      "import gzip\n",
      "import os\n",
      "import pandas as pd\n",
      "from sklearn import datasets\n",
      "from sklearn import cross_validation as cv\n",
      "\n",
      "# For speed later...\n",
      "test_file = '/home/vagrant/data/covtype.pkl.gz'\n",
      "if os.path.exists(test_file):\n",
      "    with gzip.GzipFile(test_file, 'rb') as z:\n",
      "        dataset = pickle.load(z)\n",
      "else:\n",
      "    dataset = datasets.fetch_covtype() # Can be quite slow\n",
      "    with gzip.GzipFile(test_file, 'wb') as z:\n",
      "        pickle.dump(dataset, z)\n",
      "        \n",
      "dataset.data.shape"
     ],
     "language": "python",
     "metadata": {},
     "outputs": [
      {
       "metadata": {},
       "output_type": "pyout",
       "prompt_number": 2,
       "text": [
        "(581012, 54)"
       ]
      }
     ],
     "prompt_number": 2
    },
    {
     "cell_type": "code",
     "collapsed": false,
     "input": [
      "n_iter = 50\n",
      "folds = cv.StratifiedShuffleSplit(dataset.target, n_iter=n_iter, test_size=10, train_size=1000)\n",
      "hits = np.ndarray(n_iter, dtype=bool)\n",
      "\n",
      "data = dataset.data\n",
      "target = dataset.target - 1 # they are 1-indexed\n",
      "\n",
      "mf = ParallelMondrianForest(dview, data.shape[1], len(np.unique(target)), budget=DEFAULT_BUDGET)\n",
      "for i, (train, test) in enumerate(folds):\n",
      "    train_X = data[train]\n",
      "    train_y = target[train]\n",
      "    test_X = data[test][0:1,:]\n",
      "    test_y = target[test][0:1]\n",
      "    mf.update(train_X, train_y)\n",
      "    preds = mf.predict(test_X, True)\n",
      "    yhat = preds.argmax()\n",
      "    print(i, '- Predicted:', yhat, 'Actual:', test_y,\n",
      "          '[', ' '.join(['%.3f' % x for x in preds]), ']')\n",
      "    hits[i] = yhat == test_y"
     ],
     "language": "python",
     "metadata": {},
     "outputs": [
      {
       "output_type": "stream",
       "stream": "stdout",
       "text": [
        "0 - Predicted: 1 Actual: [1] [ 0.365 0.488 0.062 0.005 0.016 0.030 0.035 ]\n",
        "1"
       ]
      },
      {
       "output_type": "stream",
       "stream": "stdout",
       "text": [
        " - Predicted: 1 Actual: [0] [ 0.380 0.501 0.040 0.004 0.014 0.021 0.041 ]\n",
        "2"
       ]
      },
      {
       "output_type": "stream",
       "stream": "stdout",
       "text": [
        " - Predicted: 1 Actual: [2] [ 0.303 0.410 0.149 0.012 0.031 0.077 0.017 ]\n",
        "3"
       ]
      },
      {
       "output_type": "stream",
       "stream": "stdout",
       "text": [
        " - Predicted: 1 Actual: [0] [ 0.426 0.446 0.062 0.003 0.009 0.022 0.032 ]\n",
        "4"
       ]
      },
      {
       "output_type": "stream",
       "stream": "stdout",
       "text": [
        " - Predicted: 0 Actual: [0] [ 0.485 0.443 0.018 0.001 0.008 0.009 0.036 ]\n",
        "5"
       ]
      },
      {
       "output_type": "stream",
       "stream": "stdout",
       "text": [
        " - Predicted: 1 Actual: [1] [ 0.453 0.461 0.029 0.002 0.010 0.015 0.030 ]\n",
        "6"
       ]
      },
      {
       "output_type": "stream",
       "stream": "stdout",
       "text": [
        " - Predicted: 1 Actual: [1] [ 0.330 0.557 0.030 0.002 0.020 0.019 0.042 ]\n",
        "7"
       ]
      },
      {
       "output_type": "stream",
       "stream": "stdout",
       "text": [
        " - Predicted: 0 Actual: [0] [ 0.410 0.405 0.073 0.007 0.014 0.056 0.034 ]\n",
        "8"
       ]
      },
      {
       "output_type": "stream",
       "stream": "stdout",
       "text": [
        " - Predicted: 1 Actual: [1] [ 0.363 0.528 0.029 0.002 0.054 0.009 0.014 ]\n",
        "9"
       ]
      },
      {
       "output_type": "stream",
       "stream": "stdout",
       "text": [
        " - Predicted: 0 Actual: [0] [ 0.524 0.426 0.008 0.000 0.007 0.004 0.031 ]\n",
        "10"
       ]
      },
      {
       "output_type": "stream",
       "stream": "stdout",
       "text": [
        " - Predicted: 1 Actual: [0] [ 0.415 0.454 0.042 0.016 0.031 0.021 0.020 ]\n",
        "11"
       ]
      },
      {
       "output_type": "stream",
       "stream": "stdout",
       "text": [
        " - Predicted: 1 Actual: [0] [ 0.417 0.484 0.026 0.002 0.022 0.017 0.032 ]\n",
        "12"
       ]
      },
      {
       "output_type": "stream",
       "stream": "stdout",
       "text": [
        " - Predicted: 1 Actual: [1] [ 0.255 0.607 0.003 0.000 0.001 0.002 0.133 ]\n",
        "13"
       ]
      },
      {
       "output_type": "stream",
       "stream": "stdout",
       "text": [
        " - Predicted: 1 Actual: [1] [ 0.223 0.552 0.098 0.004 0.083 0.036 0.004 ]\n",
        "14"
       ]
      },
      {
       "output_type": "stream",
       "stream": "stdout",
       "text": [
        " - Predicted: 0 Actual: [0] [ 0.459 0.333 0.009 0.001 0.006 0.004 0.189 ]\n",
        "15"
       ]
      },
      {
       "output_type": "stream",
       "stream": "stdout",
       "text": [
        " - Predicted: 0 Actual: [0] [ 0.513 0.356 0.036 0.003 0.012 0.032 0.047 ]\n",
        "16"
       ]
      },
      {
       "output_type": "stream",
       "stream": "stdout",
       "text": [
        " - Predicted: 0 Actual: [0] [ 0.482 0.435 0.020 0.002 0.008 0.009 0.045 ]\n",
        "17"
       ]
      },
      {
       "output_type": "stream",
       "stream": "stdout",
       "text": [
        " - Predicted: 1 Actual: [1] [ 0.365 0.547 0.001 0.000 0.001 0.000 0.087 ]\n",
        "18"
       ]
      },
      {
       "output_type": "stream",
       "stream": "stdout",
       "text": [
        " - Predicted: 2 Actual: [2] [ 0.039 0.185 0.510 0.038 0.006 0.222 0.000 ]\n",
        "19"
       ]
      },
      {
       "output_type": "stream",
       "stream": "stdout",
       "text": [
        " - Predicted: 1 Actual: [1] [ 0.287 0.651 0.033 0.000 0.006 0.015 0.007 ]\n",
        "20"
       ]
      },
      {
       "output_type": "stream",
       "stream": "stdout",
       "text": [
        " - Predicted: 0 Actual: [1] [ 0.471 0.455 0.025 0.001 0.018 0.018 0.011 ]\n",
        "21"
       ]
      },
      {
       "output_type": "stream",
       "stream": "stdout",
       "text": [
        " - Predicted: 0 Actual: [0] [ 0.494 0.425 0.023 0.002 0.015 0.012 0.029 ]\n",
        "22"
       ]
      },
      {
       "output_type": "stream",
       "stream": "stdout",
       "text": [
        " - Predicted: 1 Actual: [2] [ 0.147 0.440 0.294 0.017 0.032 0.061 0.009 ]\n",
        "23"
       ]
      },
      {
       "output_type": "stream",
       "stream": "stdout",
       "text": [
        " - Predicted: 0 Actual: [1] [ 0.435 0.423 0.027 0.001 0.043 0.017 0.054 ]\n",
        "24"
       ]
      },
      {
       "output_type": "stream",
       "stream": "stdout",
       "text": [
        " - Predicted: 1 Actual: [1] [ 0.307 0.565 0.051 0.004 0.032 0.021 0.019 ]\n",
        "25"
       ]
      },
      {
       "output_type": "stream",
       "stream": "stdout",
       "text": [
        " - Predicted: 1 Actual: [1] [ 0.366 0.564 0.020 0.001 0.006 0.016 0.026 ]\n",
        "26"
       ]
      },
      {
       "output_type": "stream",
       "stream": "stdout",
       "text": [
        " - Predicted: 1 Actual: [1] [ 0.214 0.563 0.089 0.003 0.014 0.107 0.011 ]\n",
        "27"
       ]
      },
      {
       "output_type": "stream",
       "stream": "stdout",
       "text": [
        " - Predicted: 0 Actual: [0] [ 0.627 0.298 0.000 0.000 0.001 0.000 0.074 ]\n",
        "28"
       ]
      },
      {
       "output_type": "stream",
       "stream": "stdout",
       "text": [
        " - Predicted: 0 Actual: [0] [ 0.567 0.349 0.000 0.000 0.000 0.006 0.078 ]\n",
        "29"
       ]
      },
      {
       "output_type": "stream",
       "stream": "stdout",
       "text": [
        " - Predicted: 0 Actual: [0] [ 0.514 0.429 0.001 0.000 0.001 0.000 0.055 ]\n",
        "30"
       ]
      },
      {
       "output_type": "stream",
       "stream": "stdout",
       "text": [
        " - Predicted: 0 Actual: [0] [ 0.526 0.431 0.000 0.000 0.000 0.028 0.016 ]\n",
        "31"
       ]
      },
      {
       "output_type": "stream",
       "stream": "stdout",
       "text": [
        " - Predicted: 1 Actual: [1] [ 0.300 0.658 0.026 0.000 0.006 0.010 0.001 ]\n",
        "32"
       ]
      },
      {
       "output_type": "stream",
       "stream": "stdout",
       "text": [
        " - Predicted: 0 Actual: [0] [ 0.456 0.453 0.013 0.003 0.045 0.009 0.022 ]\n",
        "33"
       ]
      },
      {
       "output_type": "stream",
       "stream": "stdout",
       "text": [
        " - Predicted: 1 Actual: [2] [ 0.066 0.386 0.327 0.039 0.021 0.160 0.001 ]\n",
        "34"
       ]
      },
      {
       "output_type": "stream",
       "stream": "stdout",
       "text": [
        " - Predicted: 1 Actual: [1] [ 0.272 0.574 0.084 0.006 0.019 0.022 0.023 ]\n",
        "35"
       ]
      },
      {
       "output_type": "stream",
       "stream": "stdout",
       "text": [
        " - Predicted: 1 Actual: [2] [ 0.188 0.492 0.037 0.000 0.050 0.229 0.003 ]\n",
        "36"
       ]
      },
      {
       "output_type": "stream",
       "stream": "stdout",
       "text": [
        " - Predicted: 1 Actual: [0] [ 0.393 0.509 0.009 0.001 0.006 0.006 0.077 ]\n",
        "37"
       ]
      },
      {
       "output_type": "stream",
       "stream": "stdout",
       "text": [
        " - Predicted: 0 Actual: [0] [ 0.493 0.475 0.005 0.001 0.006 0.003 0.018 ]\n",
        "38"
       ]
      },
      {
       "output_type": "stream",
       "stream": "stdout",
       "text": [
        " - Predicted: 1 Actual: [1] [ 0.385 0.604 0.001 0.000 0.006 0.001 0.004 ]\n",
        "39"
       ]
      },
      {
       "output_type": "stream",
       "stream": "stdout",
       "text": [
        " - Predicted: 1 Actual: [1] [ 0.131 0.498 0.247 0.007 0.022 0.091 0.004 ]\n",
        "40"
       ]
      },
      {
       "output_type": "stream",
       "stream": "stdout",
       "text": [
        " - Predicted: 1 Actual: [0] [ 0.450 0.501 0.020 0.001 0.006 0.011 0.011 ]\n",
        "41"
       ]
      },
      {
       "output_type": "stream",
       "stream": "stdout",
       "text": [
        " - Predicted: 1 Actual: [1] [ 0.090 0.544 0.207 0.007 0.060 0.093 0.000 ]\n",
        "42"
       ]
      },
      {
       "output_type": "stream",
       "stream": "stdout",
       "text": [
        " - Predicted: 1 Actual: [1] [ 0.358 0.447 0.121 0.005 0.040 0.014 0.016 ]\n",
        "43"
       ]
      },
      {
       "output_type": "stream",
       "stream": "stdout",
       "text": [
        " - Predicted: 1 Actual: [1] [ 0.174 0.822 0.000 0.000 0.000 0.000 0.004 ]\n",
        "44"
       ]
      },
      {
       "output_type": "stream",
       "stream": "stdout",
       "text": [
        " - Predicted: 0 Actual: [0] [ 0.558 0.372 0.005 0.000 0.003 0.012 0.050 ]\n",
        "45"
       ]
      },
      {
       "output_type": "stream",
       "stream": "stdout",
       "text": [
        " - Predicted: 2 Actual: [2] [ 0.103 0.356 0.403 0.002 0.027 0.107 0.001 ]\n",
        "46"
       ]
      },
      {
       "output_type": "stream",
       "stream": "stdout",
       "text": [
        " - Predicted: 0 Actual: [0] [ 0.726 0.242 0.028 0.000 0.000 0.000 0.004 ]\n",
        "47"
       ]
      },
      {
       "output_type": "stream",
       "stream": "stdout",
       "text": [
        " - Predicted: 1 Actual: [1] [ 0.220 0.479 0.183 0.004 0.068 0.046 0.000 ]\n",
        "48"
       ]
      },
      {
       "output_type": "stream",
       "stream": "stdout",
       "text": [
        " - Predicted: 1 Actual: [0] [ 0.420 0.476 0.029 0.001 0.009 0.002 0.063 ]\n",
        "49"
       ]
      },
      {
       "output_type": "stream",
       "stream": "stdout",
       "text": [
        " - Predicted: 1 Actual: [0] [ 0.322 0.650 0.007 0.000 0.007 0.000 0.015 ]\n"
       ]
      }
     ],
     "prompt_number": 5
    },
    {
     "cell_type": "code",
     "collapsed": false,
     "input": [
      "pd.Series(hits.cumsum()).plot()"
     ],
     "language": "python",
     "metadata": {},
     "outputs": [
      {
       "metadata": {},
       "output_type": "pyout",
       "prompt_number": 6,
       "text": [
        "<matplotlib.axes._subplots.AxesSubplot at 0x7f83b91c3828>"
       ]
      },
      {
       "metadata": {},
       "output_type": "display_data",
       "png": "[encoded data removed]",
       "text": [
        "<matplotlib.figure.Figure at 0x7f83b9097b00>"
       ]
      }
     ],
     "prompt_number": 6
    }
   ],
   "metadata": {}
  }
 ]
}