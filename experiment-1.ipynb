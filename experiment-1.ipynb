{
 "metadata": {
  "name": "",
  "signature": "sha256:34f8a4911d1d8aea94be6cbb440e8b9e18dc98a76fc8594d51ae4c8697d3af93"
 },
 "nbformat": 3,
 "nbformat_minor": 0,
 "worksheets": [
  {
   "cells": [
    {
     "cell_type": "markdown",
     "metadata": {},
     "source": [
      "# Mondrian Forests\n",
      "\n",
      "This is a reimplementation of Mondrian Forests as described here:\n",
      "\n",
      "**Mondrian Forests: Efficient Online Random Forests**\n",
      "\n",
      "Balaji Lakshminarayanan, Daniel M. Roy, Yee Whye Teh\n",
      "\n",
      "http://arxiv.org/abs/1406.2673\n",
      "\n",
      "It partly uses code from the original authors' implementation at\n",
      "\n",
      "https://github.com/balajiln/mondrianforest\n",
      "\n",
      "but changes a few things along the way too. Key differences:\n",
      "\n",
      "* Assume FAST_MODE (no log-likelihood) for now\n",
      "* Classification only (they never finished regression)\n",
      "* Always assume we're training incrementally\n",
      "* `data` (an array) refers to one batch, instead of having a single design matrix in memory and indexing it with `train_ids`\n",
      "* `labels` is a vector of class labels for the rows in `data`\n",
      "* We don't assume you'll provide the first batch of training data when initializing a tree, but we do need to know the number of dimensions and number of labels\n",
      "* It works in parallel :-)\n",
      "\n",
      "Perhaps most different of all:\n",
      "\n",
      "We don't keep all the input data, as this won't scale. But this means we can't move existing data down into the new leaf nodes when we split a leaf node.\n",
      "\n",
      "This is the plan: When the tree \"grows\" through randomly splitting a leaf node, keep its existing class frequencies where they are, and only use the two new children for *newly-arriving* data. Then take these into account when calculating the predictive posteriors (appendix A of paper). This is working, but not very well tested yet.\n",
      "\n",
      "Here are my original thoughts on this, that I almost sent to the authors, but decided to try first.\n",
      "\n",
      "```\n",
      "One thing I missed on reading the paper, is that when you bisect a leaf node through a \"grow\" (sampling) operation,\n",
      "you need to assign all its data points to one of the new children.\n",
      "\n",
      "This means you can't just keep summary statistics for the data in a block, i.e. class frequencies. You need to hold\n",
      "on to the raw training data in order to divide it, yes? Which is a problem for online learning over streaming data\n",
      "or just \"big data\" in general.\n",
      "\n",
      "So... Perhaps you could entirely forget about keeping the existing data and propagating it down to the new child\n",
      "nodes. If you just kept class frequencies at each node, maybe you could use these in the \"update posterior counts\"\n",
      "step for internal nodes, alongside the child node counts.\n",
      "\n",
      "(Any data that came in *after* the split would go all the way down to the leaf nodes though.)\n",
      "```\n",
      "\n",
      "For the time being, though, it's using a much simpler scoring system. Walk down the tree until you find the box that the test example would have been in, and go for the majority class. If you don't find a box, or it's empty, walk back up until you find the nearest ancestor with some instances in.\n",
      "\n",
      "Averaged across a few trees, even as few as ~10, this actually does pretty well.\n",
      "\n",
      "## Running this demo\n",
      "\n",
      "If a `default` IPython cluster is available, it runs in parallel automatically, with as many trees in the forest as you have engines in the cluster. Otherwise, it runs in serial on a single core, with 3 trees. See the notes in the third cell.\n",
      "\n",
      "For best results with small forests, use an odd number of trees.\n",
      "\n",
      "## TODO\n",
      "\n",
      "### Must-haves\n",
      "\n",
      "* Types for all numpy arrays\n",
      "* Error checking\n",
      "* Work out exactly what effect `budget` is having\n",
      "* Introspection and prettyprinting tools\n",
      "* Work out which members are \"private\" and rename them with underscores\n",
      "* Proper tests...\n",
      "\n",
      "### Useful features\n",
      "\n",
      "* Allow multiple trees per engine (i.e. each engine runs a forest, not a tree)\n",
      "* Instance subsampling\n",
      "* Feature subsampling/bootstrapping/bagging\n",
      "* Feature hashing/random projection/LSH\n",
      "* Train-on-fail mode\n",
      "* Loss functions, regret, class weighting?\n",
      "\n",
      "### Blue sky\n",
      "\n",
      "* Regression\n",
      "* Clustering? (I mean, it basically *is* clustering, already...)\n",
      "* Semi-supervised would be really easy too\n",
      "* Adaptivity -- non-stationary distributions, recency effects etc.\n",
      "* Auto-pruning/rebalancing -- stop trees either stagnating or growing out of control in the long term\n",
      "* What about when the true number of classes isn't known in advance?\n",
      "\n",
      "The last three are really closely related.\n",
      "\n",
      "We could probably tackle a lot of these problems by \"chopping down\" older trees -- either randomly or according to a heuristic (e.g. least-recently-modified) -- so new ones can grow in their place. Maybe varying the budget and discount values would be useful too.\n",
      "\n",
      "Perhaps you could calculate the posterior class probabilities over the entire 'dead' tree, and use these as the priors for the new tree that will grow in its place.\n",
      "\n",
      "You could also use this kind of approach to tune P/R tradeoff, chase a particular objective function, do reinforcement learning... If you squint, they start to look a little like GAs.\n",
      "\n",
      "* Ontology learning\n",
      "* Grammar induction\n",
      "* Topic modelling\n",
      "\n",
      "Use cases that are fundamentally tree-shaped! Hmmm."
     ]
    },
    {
     "cell_type": "code",
     "collapsed": false,
     "input": [
      "%run 'mondrian.py'\n",
      "\n",
      "import random\n",
      "\n",
      "import numpy as np\n",
      "\n",
      "from IPython.parallel import Client\n",
      "try:\n",
      "    rc = Client()\n",
      "    dview = rc[:]\n",
      "    print('Using default IPython cluster with %d engines' % len(dview))\n",
      "except FileNotFoundError:\n",
      "    rc = None\n",
      "    dview = None\n",
      "    print('Using single-core implementation')\n",
      "\n",
      "DEFAULT_BUDGET = 1000"
     ],
     "language": "python",
     "metadata": {},
     "outputs": [
      {
       "output_type": "stream",
       "stream": "stdout",
       "text": [
        "Using single-core implementation\n"
       ]
      }
     ],
     "prompt_number": 216
    },
    {
     "cell_type": "code",
     "collapsed": false,
     "input": [
      "import pickle\n",
      "import gzip\n",
      "import os\n",
      "import pandas as pd\n",
      "from sklearn import datasets\n",
      "from sklearn import cross_validation as cv\n",
      "\n",
      "# For speed later...\n",
      "test_file = '/home/vagrant/data/covtype.pkl.gz'\n",
      "if os.path.exists(test_file):\n",
      "    with gzip.GzipFile(test_file, 'rb') as z:\n",
      "        dataset = pickle.load(z)\n",
      "else:\n",
      "    dataset = datasets.fetch_covtype() # Can be quite slow\n",
      "    with gzip.GzipFile(test_file, 'wb') as z:\n",
      "        pickle.dump(dataset, z)\n",
      "        \n",
      "dataset.data.shape"
     ],
     "language": "python",
     "metadata": {},
     "outputs": [
      {
       "metadata": {},
       "output_type": "pyout",
       "prompt_number": 215,
       "text": [
        "(581012, 54)"
       ]
      }
     ],
     "prompt_number": 215
    },
    {
     "cell_type": "code",
     "collapsed": false,
     "input": [
      "n_iter = 100\n",
      "test_size = 10\n",
      "folds = cv.StratifiedShuffleSplit(dataset.target, n_iter=n_iter, test_size=test_size, train_size=1000)\n",
      "hits = []\n",
      "\n",
      "data = dataset.data\n",
      "target = dataset.target - 1 # they are 1-indexed\n",
      "\n",
      "if dview is None:\n",
      "    # Run with a single-threaded forest with 3 trees\n",
      "    mf = MondrianForest(1, data.shape[1], len(np.unique(target)), budget=DEFAULT_BUDGET, scoring='nsp')\n",
      "else:\n",
      "    # Run with a parallel forest on IPython cluster\n",
      "    mf = ParallelMondrianForest(dview, data.shape[1], len(np.unique(target)), budget=DEFAULT_BUDGET, scoring='nsp')\n",
      "\n",
      "def run_test():\n",
      "    for i, (train, test) in enumerate(folds):\n",
      "        train_X = data[train]\n",
      "        train_y = target[train]\n",
      "        test_X = data[test]\n",
      "        test_y = target[test]\n",
      "        mf.update(train_X, train_y)\n",
      "        preds = mf.predict(test_X)\n",
      "        yhat = preds.argmax(axis=1)\n",
      "        assert test_y.shape == yhat.shape\n",
      "        for j in range(len(preds)):\n",
      "            idx = (i * test_size) + j\n",
      "            print(idx, '- Predicted:', yhat[j], 'Actual:', test_y[j],\n",
      "                  '[', ' '.join(['%.3f' % x for x in preds[j]]), ']')\n",
      "            hits.append(yhat[j] == test_y[j])\n",
      "\n",
      "%prun run_test()"
     ],
     "language": "python",
     "metadata": {},
     "outputs": [
      {
       "output_type": "stream",
       "stream": "stdout",
       "text": [
        "0 - Predicted: 1 Actual: 0 [ 0.223 0.474 0.127 0.010 0.033 0.061 0.072 ]\n",
        "1 - Predicted: 1 Actual: 1 [ 0.223 0.474 0.127 0.010 0.033 0.061 0.072 ]\n",
        "2 - Predicted: 1 Actual: 1 [ 0.223 0.474 0.127 0.010 0.033 0.061 0.072 ]\n",
        "3 - Predicted: 1 Actual: 2 [ 0.223 0.474 0.127 0.010 0.033 0.061 0.072 ]\n",
        "4 - Predicted: 1 Actual: 0 [ 0.223 0.474 0.127 0.010 0.033 0.061 0.072 ]\n",
        "5 - Predicted: 1 Actual: 0 [ 0.223 0.474 0.127 0.010 0.033 0.061 0.072 ]\n",
        "6 - Predicted: 1 Actual: 1 [ 0.223 0.474 0.127 0.010 0.033 0.061 0.072 ]\n",
        "7 - Predicted: 1 Actual: 1 [ 0.223 0.474 0.127 0.010 0.033 0.061 0.072 ]\n",
        "8 - Predicted: 1 Actual: 0 [ 0.223 0.474 0.127 0.010 0.033 0.061 0.072 ]\n",
        "9 - Predicted: 1 Actual: 1 [ 0.223 0.474 0.127 0.010 0.033 0.061 0.072 ]\n",
        "10"
       ]
      },
      {
       "output_type": "stream",
       "stream": "stdout",
       "text": [
        " - Predicted: 1 Actual: 1 [ 0.117 0.452 0.188 0.012 0.046 0.089 0.095 ]\n",
        "11 - Predicted: 1 Actual: 2 [ 0.117 0.452 0.188 0.012 0.046 0.089 0.095 ]\n",
        "12 - Predicted: 1 Actual: 0 [ 0.117 0.452 0.188 0.012 0.046 0.089 0.095 ]\n",
        "13 - Predicted: 1 Actual: 1 [ 0.117 0.452 0.188 0.012 0.046 0.089 0.095 ]\n",
        "14 - Predicted: 1 Actual: 1 [ 0.117 0.452 0.188 0.012 0.046 0.089 0.095 ]\n",
        "15 - Predicted: 1 Actual: 0 [ 0.444 0.537 0.002 0.000 0.001 0.001 0.014 ]\n",
        "16 - Predicted: 1 Actual: 1 [ 0.117 0.452 0.188 0.012 0.046 0.089 0.095 ]\n",
        "17 - Predicted: 1 Actual: 0 [ 0.444 0.537 0.002 0.000 0.001 0.001 0.014 ]\n",
        "18 - Predicted: 1 Actual: 0 [ 0.117 0.452 0.188 0.012 0.046 0.089 0.095 ]\n",
        "19 - Predicted: 1 Actual: 1 [ 0.444 0.537 0.002 0.000 0.001 0.001 0.014 ]\n",
        "20"
       ]
      },
      {
       "output_type": "stream",
       "stream": "stdout",
       "text": [
        " - Predicted: 1 Actual: 0 [ 0.090 0.452 0.202 0.013 0.047 0.096 0.100 ]\n",
        "21 - Predicted: 1 Actual: 1 [ 0.297 0.655 0.003 0.000 0.001 0.002 0.042 ]\n",
        "22 - Predicted: 0 Actual: 0 [ 0.631 0.361 0.003 0.000 0.001 0.002 0.002 ]\n",
        "23 - Predicted: 1 Actual: 1 [ 0.297 0.655 0.003 0.000 0.001 0.002 0.042 ]\n",
        "24 - Predicted: 1 Actual: 0 [ 0.090 0.452 0.202 0.013 0.047 0.096 0.100 ]\n",
        "25 - Predicted: 1 Actual: 0 [ 0.090 0.452 0.202 0.013 0.047 0.096 0.100 ]\n",
        "26 - Predicted: 1 Actual: 1 [ 0.090 0.452 0.202 0.013 0.047 0.096 0.100 ]\n",
        "27 - Predicted: 1 Actual: 2 [ 0.090 0.452 0.202 0.013 0.047 0.096 0.100 ]\n",
        "28 - Predicted: 1 Actual: 1 [ 0.090 0.452 0.202 0.013 0.047 0.096 0.100 ]\n",
        "29 - Predicted: 1 Actual: 1 [ 0.090 0.452 0.202 0.013 0.047 0.096 0.100 ]\n",
        "30"
       ]
      },
      {
       "output_type": "stream",
       "stream": "stdout",
       "text": [
        " - Predicted: 0 Actual: 0 [ 0.558 0.075 0.176 0.012 0.041 0.085 0.054 ]\n",
        "31 - Predicted: 0 Actual: 1 [ 0.558 0.075 0.176 0.012 0.041 0.085 0.054 ]\n",
        "32 - Predicted: 0 Actual: 2 [ 0.558 0.075 0.176 0.012 0.041 0.085 0.054 ]\n",
        "33 - Predicted: 0 Actual: 0 [ 0.558 0.075 0.176 0.012 0.041 0.085 0.054 ]\n",
        "34 - Predicted: 0 Actual: 0 [ 0.558 0.075 0.176 0.012 0.041 0.085 0.054 ]\n",
        "35 - Predicted: 0 Actual: 1 [ 0.558 0.075 0.176 0.012 0.041 0.085 0.054 ]\n",
        "36 - Predicted: 0 Actual: 1 [ 0.558 0.075 0.176 0.012 0.041 0.085 0.054 ]\n",
        "37 - Predicted: 0 Actual: 1 [ 0.478 0.455 0.003 0.000 0.001 0.002 0.060 ]\n",
        "38 - Predicted: 1 Actual: 0 [ 0.486 0.514 0.000 0.000 0.000 0.000 0.000 ]\n",
        "39 - Predicted: 1 Actual: 1 [ 0.116 0.865 0.008 0.001 0.002 0.004 0.004 ]\n",
        "40"
       ]
      },
      {
       "output_type": "stream",
       "stream": "stdout",
       "text": [
        " - Predicted: 0 Actual: 1 [ 0.551 0.057 0.213 0.014 0.049 0.101 0.015 ]\n",
        "41 - Predicted: 1 Actual: 1 [ 0.452 0.495 0.003 0.000 0.001 0.001 0.048 ]\n",
        "42 - Predicted: 0 Actual: 0 [ 0.551 0.057 0.213 0.014 0.049 0.101 0.015 ]\n",
        "43 - Predicted: 0 Actual: 1 [ 0.551 0.057 0.213 0.014 0.049 0.101 0.015 ]\n",
        "44 - Predicted: 1 Actual: 0 [ 0.434 0.566 0.000 0.000 0.000 0.000 0.000 ]\n",
        "45 - Predicted: 0 Actual: 2 [ 0.551 0.057 0.213 0.014 0.049 0.101 0.015 ]\n",
        "46 - Predicted: 1 Actual: 0 [ 0.452 0.495 0.003 0.000 0.001 0.002 0.048 ]\n",
        "47 - Predicted: 1 Actual: 1 [ 0.023 0.976 0.000 0.000 0.000 0.000 0.000 ]\n",
        "48 - Predicted: 0 Actual: 0 [ 0.686 0.139 0.010 0.001 0.002 0.005 0.157 ]\n",
        "49 - Predicted: 0 Actual: 1 [ 0.551 0.057 0.213 0.014 0.049 0.101 0.015 ]\n",
        "50"
       ]
      },
      {
       "output_type": "stream",
       "stream": "stdout",
       "text": [
        " - Predicted: 1 Actual: 1 [ 0.050 0.443 0.321 0.022 0.018 0.147 0.000 ]\n",
        "51 - Predicted: 1 Actual: 0 [ 0.412 0.543 0.004 0.000 0.028 0.005 0.009 ]\n",
        "52 - Predicted: 1 Actual: 0 [ 0.412 0.543 0.004 0.000 0.028 0.005 0.009 ]\n",
        "53 - Predicted: 1 Actual: 1 [ 0.148 0.661 0.002 0.000 0.000 0.001 0.188 ]\n",
        "54 - Predicted: 1 Actual: 2 [ 0.050 0.443 0.321 0.022 0.018 0.147 0.000 ]\n",
        "55 - Predicted: 1 Actual: 1 [ 0.412 0.543 0.004 0.000 0.028 0.005 0.009 ]\n",
        "56 - Predicted: 1 Actual: 1 [ 0.459 0.475 0.002 0.000 0.004 0.001 0.059 ]\n",
        "57 - Predicted: 1 Actual: 0 [ 0.405 0.593 0.000 0.000 0.000 0.000 0.002 ]\n",
        "58 - Predicted: 0 Actual: 0 [ 0.518 0.481 0.000 0.000 0.000 0.000 0.000 ]\n",
        "59 - Predicted: 1 Actual: 1 [ 0.412 0.543 0.004 0.000 0.028 0.005 0.009 ]\n",
        "60"
       ]
      },
      {
       "output_type": "stream",
       "stream": "stdout",
       "text": [
        " - Predicted: 1 Actual: 0 [ 0.422 0.550 0.000 0.000 0.021 0.000 0.006 ]\n",
        "61 - Predicted: 1 Actual: 2 [ 0.354 0.628 0.003 0.000 0.003 0.009 0.004 ]\n",
        "62 - Predicted: 1 Actual: 0 [ 0.422 0.550 0.000 0.000 0.021 0.000 0.006 ]\n",
        "63 - Predicted: 0 Actual: 1 [ 0.644 0.354 0.000 0.000 0.001 0.000 0.000 ]\n",
        "64 - Predicted: 0 Actual: 0 [ 0.644 0.354 0.000 0.000 0.001 0.000 0.000 ]\n",
        "65 - Predicted: 2 Actual: 1 [ 0.018 0.391 0.401 0.017 0.009 0.164 0.000 ]\n",
        "66 - Predicted: 1 Actual: 1 [ 0.422 0.550 0.000 0.000 0.021 0.000 0.006 ]\n",
        "67 - Predicted: 1 Actual: 1 [ 0.422 0.550 0.000 0.000 0.021 0.000 0.006 ]\n",
        "68 - Predicted: 1 Actual: 0 [ 0.354 0.628 0.003 0.000 0.003 0.009 0.004 ]\n",
        "69 - Predicted: 1 Actual: 1 [ 0.422 0.550 0.000 0.000 0.021 0.000 0.006 ]\n",
        "70"
       ]
      },
      {
       "output_type": "stream",
       "stream": "stdout",
       "text": [
        " - Predicted: 0 Actual: 1 [ 0.571 0.282 0.000 0.000 0.000 0.000 0.147 ]\n",
        "71 - Predicted: 1 Actual: 2 [ 0.035 0.399 0.384 0.051 0.001 0.131 0.000 ]\n",
        "72 - Predicted: 1 Actual: 0 [ 0.095 0.904 0.001 0.000 0.000 0.000 0.000 ]\n",
        "73 - Predicted: 1 Actual: 0 [ 0.417 0.558 0.000 0.000 0.014 0.000 0.011 ]\n",
        "74 - Predicted: 1 Actual: 1 [ 0.256 0.687 0.000 0.000 0.000 0.000 0.057 ]\n",
        "75 - Predicted: 1 Actual: 0 [ 0.417 0.558 0.000 0.000 0.014 0.000 0.011 ]\n",
        "76 - Predicted: 1 Actual: 0 [ 0.060 0.940 0.000 0.000 0.000 0.000 0.000 ]\n",
        "77 - Predicted: 0 Actual: 1 [ 0.629 0.370 0.000 0.000 0.000 0.000 0.000 ]\n",
        "78 - Predicted: 1 Actual: 1 [ 0.352 0.648 0.000 0.000 0.000 0.000 0.000 ]\n",
        "79 - Predicted: 0 Actual: 1 [ 0.511 0.470 0.013 0.000 0.002 0.000 0.003 ]\n",
        "80"
       ]
      },
      {
       "output_type": "stream",
       "stream": "stdout",
       "text": [
        " - Predicted: 1 Actual: 1 [ 0.001 0.842 0.097 0.005 0.023 0.031 0.000 ]\n",
        "81 - Predicted: 0 Actual: 0 [ 0.581 0.013 0.001 0.000 0.000 0.000 0.404 ]\n",
        "82 - Predicted: 1 Actual: 1 [ 0.446 0.503 0.000 0.000 0.043 0.000 0.008 ]\n",
        "83 - Predicted: 1 Actual: 2 [ 0.002 0.455 0.256 0.002 0.001 0.284 0.000 ]\n",
        "84 - Predicted: 0 Actual: 1 [ 0.716 0.040 0.000 0.000 0.000 0.000 0.243 ]\n",
        "85 - Predicted: 1 Actual: 0 [ 0.446 0.503 0.000 0.000 0.043 0.000 0.008 ]\n",
        "86 - Predicted: 1 Actual: 0 [ 0.270 0.727 0.000 0.000 0.000 0.000 0.003 ]\n",
        "87 - Predicted: 1 Actual: 1 [ 0.216 0.783 0.000 0.000 0.000 0.000 0.001 ]\n",
        "88 - Predicted: 1 Actual: 0 [ 0.331 0.668 0.001 0.000 0.000 0.000 0.000 ]\n",
        "89 - Predicted: 1 Actual: 1 [ 0.022 0.644 0.184 0.002 0.008 0.141 0.000 ]\n",
        "90"
       ]
      },
      {
       "output_type": "stream",
       "stream": "stdout",
       "text": [
        " - Predicted: 1 Actual: 1 [ 0.212 0.788 0.000 0.000 0.000 0.000 0.000 ]\n",
        "91 - Predicted: 1 Actual: 0 [ 0.212 0.787 0.000 0.000 0.000 0.000 0.000 ]\n",
        "92 - Predicted: 2 Actual: 1 [ 0.003 0.200 0.650 0.040 0.012 0.095 0.000 ]\n",
        "93 - Predicted: 1 Actual: 2 [ 0.027 0.633 0.196 0.003 0.025 0.116 0.000 ]\n",
        "94 - Predicted: 1 Actual: 1 [ 0.386 0.594 0.000 0.000 0.020 0.000 0.000 ]\n",
        "95 - Predicted: 1 Actual: 1 [ 0.474 0.526 0.000 0.000 0.000 0.000 0.000 ]\n",
        "96 - Predicted: 1 Actual: 1 [ 0.217 0.782 0.000 0.000 0.000 0.000 0.001 ]\n",
        "97 - Predicted: 1 Actual: 0 [ 0.386 0.594 0.000 0.000 0.020 0.000 0.000 ]\n",
        "98 - Predicted: 1 Actual: 0 [ 0.482 0.517 0.000 0.000 0.000 0.000 0.000 ]\n",
        "99 - Predicted: 0 Actual: 0 [ 0.694 0.289 0.001 0.000 0.005 0.001 0.010 ]\n",
        "100"
       ]
      },
      {
       "output_type": "stream",
       "stream": "stdout",
       "text": [
        " - Predicted: 1 Actual: 1 [ 0.441 0.525 0.001 0.000 0.027 0.005 0.001 ]\n",
        "101 - Predicted: 1 Actual: 0 [ 0.338 0.358 0.026 0.000 0.251 0.000 0.027 ]\n",
        "102 - Predicted: 1 Actual: 0 [ 0.441 0.525 0.001 0.000 0.027 0.005 0.001 ]\n",
        "103 - Predicted: 1 Actual: 0 [ 0.441 0.525 0.001 0.000 0.027 0.005 0.001 ]\n",
        "104 - Predicted: 1 Actual: 1 [ 0.012 0.840 0.086 0.000 0.011 0.051 0.000 ]\n",
        "105 - Predicted: 1 Actual: 1 [ 0.015 0.985 0.000 0.000 0.000 0.000 0.000 ]\n",
        "106 - Predicted: 1 Actual: 1 [ 0.165 0.835 0.000 0.000 0.000 0.000 0.000 ]\n",
        "107 - Predicted: 0 Actual: 0 [ 0.665 0.335 0.000 0.000 0.000 0.000 0.000 ]\n",
        "108 - Predicted: 1 Actual: 1 [ 0.443 0.528 0.000 0.000 0.028 0.000 0.000 ]\n",
        "109 - Predicted: 1 Actual: 2 [ 0.000 0.434 0.366 0.032 0.000 0.168 0.000 ]\n",
        "110"
       ]
      },
      {
       "output_type": "stream",
       "stream": "stdout",
       "text": [
        " - Predicted: 1 Actual: 1 [ 0.422 0.568 0.000 0.000 0.006 0.000 0.003 ]\n",
        "111 - Predicted: 1 Actual: 2 [ 0.011 0.737 0.206 0.009 0.001 0.037 0.000 ]\n",
        "112 - Predicted: 0 Actual: 0 [ 0.773 0.227 0.000 0.000 0.000 0.000 0.000 ]\n",
        "113 - Predicted: 1 Actual: 0 [ 0.324 0.674 0.002 0.000 0.000 0.000 0.000 ]\n",
        "114 - Predicted: 0 Actual: 0 [ 0.873 0.118 0.000 0.000 0.000 0.000 0.009 ]\n",
        "115 - Predicted: 1 Actual: 0 [ 0.257 0.743 0.000 0.000 0.000 0.000 0.000 ]\n",
        "116 - Predicted: 5 Actual: 1 [ 0.001 0.037 0.373 0.004 0.003 0.582 0.000 ]\n",
        "117 - Predicted: 1 Actual: 1 [ 0.394 0.597 0.000 0.000 0.006 0.000 0.002 ]\n",
        "118 - Predicted: 0 Actual: 1 [ 0.555 0.178 0.001 0.000 0.000 0.000 0.266 ]\n",
        "119 - Predicted: 0 Actual: 1 [ 0.551 0.449 0.000 0.000 0.000 0.000 0.000 ]\n",
        "120"
       ]
      },
      {
       "output_type": "stream",
       "stream": "stdout",
       "text": [
        " - Predicted: 0 Actual: 0 [ 0.970 0.000 0.000 0.000 0.000 0.000 0.030 ]\n",
        "121 - Predicted: 1 Actual: 0 [ 0.252 0.747 0.000 0.000 0.001 0.000 0.000 ]\n",
        "122 - Predicted: 0 Actual: 1 [ 0.578 0.421 0.000 0.000 0.001 0.000 0.000 ]\n",
        "123 - Predicted: 1 Actual: 1 [ 0.113 0.887 0.000 0.000 0.000 0.000 0.000 ]\n",
        "124 - Predicted: 0 Actual: 1 [ 0.578 0.421 0.000 0.000 0.001 0.000 0.000 ]\n",
        "125 - Predicted: 1 Actual: 1 [ 0.346 0.654 0.000 0.000 0.000 0.000 0.000 ]\n",
        "126 - Predicted: 2 Actual: 2 [ 0.000 0.229 0.626 0.079 0.001 0.065 0.000 ]\n",
        "127 - Predicted: 1 Actual: 1 [ 0.363 0.636 0.000 0.000 0.001 0.000 0.000 ]\n",
        "128 - Predicted: 1 Actual: 0 [ 0.251 0.748 0.000 0.000 0.001 0.000 0.000 ]\n",
        "129 - Predicted: 1 Actual: 0 [ 0.369 0.616 0.000 0.000 0.015 0.000 0.000 ]\n",
        "130"
       ]
      },
      {
       "output_type": "stream",
       "stream": "stdout",
       "text": [
        " - Predicted: 1 Actual: 1 [ 0.350 0.607 0.000 0.000 0.043 0.000 0.000 ]\n",
        "131 - Predicted: 0 Actual: 0 [ 0.785 0.215 0.000 0.000 0.000 0.000 0.000 ]\n",
        "132 - Predicted: 2 Actual: 2 [ 0.001 0.089 0.486 0.009 0.008 0.407 0.000 ]\n",
        "133 - Predicted: 0 Actual: 0 [ 0.980 0.020 0.000 0.000 0.001 0.000 0.000 ]\n",
        "134 - Predicted: 1 Actual: 1 [ 0.126 0.872 0.000 0.000 0.001 0.000 0.001 ]\n",
        "135 - Predicted: 1 Actual: 1 [ 0.131 0.869 0.000 0.000 0.000 0.000 0.000 ]\n",
        "136 - Predicted: 1 Actual: 1 [ 0.461 0.538 0.000 0.000 0.000 0.000 0.000 ]\n",
        "137 - Predicted: 0 Actual: 0 [ 0.933 0.051 0.000 0.000 0.000 0.000 0.015 ]\n",
        "138 - Predicted: 1 Actual: 1 [ 0.059 0.941 0.000 0.000 0.000 0.000 0.000 ]\n",
        "139 - Predicted: 0 Actual: 0 [ 0.523 0.198 0.000 0.000 0.000 0.000 0.279 ]\n",
        "140"
       ]
      },
      {
       "output_type": "stream",
       "stream": "stdout",
       "text": [
        " - Predicted: 1 Actual: 0 [ 0.311 0.645 0.001 0.000 0.011 0.031 0.001 ]\n",
        "141 - Predicted: 1 Actual: 0 [ 0.028 0.972 0.000 0.000 0.000 0.000 0.000 ]\n",
        "142 - Predicted: 0 Actual: 1 [ 0.491 0.449 0.001 0.000 0.028 0.016 0.016 ]\n",
        "143 - Predicted: 1 Actual: 1 [ 0.369 0.472 0.016 0.000 0.066 0.039 0.038 ]\n",
        "144 - Predicted: 1 Actual: 0 [ 0.056 0.943 0.000 0.000 0.000 0.000 0.000 ]\n",
        "145 - Predicted: 1 Actual: 2 [ 0.163 0.582 0.173 0.000 0.002 0.081 0.000 ]\n",
        "146 - Predicted: 1 Actual: 1 [ 0.330 0.370 0.000 0.000 0.138 0.081 0.081 ]\n",
        "147 - Predicted: 2 Actual: 1 [ 0.005 0.155 0.495 0.008 0.000 0.337 0.000 ]\n",
        "148 - Predicted: 0 Actual: 0 [ 0.861 0.079 0.005 0.000 0.003 0.001 0.050 ]\n",
        "149 - Predicted: 1 Actual: 1 [ 0.333 0.664 0.000 0.000 0.000 0.000 0.003 ]\n",
        "150"
       ]
      },
      {
       "output_type": "stream",
       "stream": "stdout",
       "text": [
        " - Predicted: 6 Actual: 1 [ 0.307 0.343 0.000 0.000 0.000 0.000 0.350 ]\n",
        "151 - Predicted: 1 Actual: 0 [ 0.445 0.458 0.003 0.000 0.044 0.026 0.025 ]\n",
        "152 - Predicted: 0 Actual: 0 [ 0.574 0.423 0.000 0.000 0.000 0.000 0.003 ]\n",
        "153 - Predicted: 1 Actual: 1 [ 0.366 0.604 0.000 0.000 0.014 0.008 0.008 ]\n",
        "154 - Predicted: 0 Actual: 0 [ 0.767 0.185 0.000 0.000 0.000 0.000 0.048 ]\n",
        "155 - Predicted: 1 Actual: 1 [ 0.170 0.828 0.002 0.000 0.000 0.000 0.000 ]\n",
        "156 - Predicted: 0 Actual: 0 [ 0.742 0.070 0.000 0.000 0.000 0.000 0.187 ]\n",
        "157 - Predicted: 1 Actual: 1 [ 0.065 0.915 0.001 0.000 0.005 0.014 0.001 ]\n",
        "158 - Predicted: 1 Actual: 2 [ 0.000 0.446 0.381 0.000 0.000 0.173 0.000 ]\n",
        "159 - Predicted: 1 Actual: 1 [ 0.093 0.907 0.000 0.000 0.000 0.000 0.000 ]\n",
        "160"
       ]
      },
      {
       "output_type": "stream",
       "stream": "stdout",
       "text": [
        " - Predicted: 1 Actual: 1 [ 0.273 0.727 0.000 0.000 0.000 0.000 0.000 ]\n",
        "161 - Predicted: 2 Actual: 2 [ 0.006 0.420 0.458 0.045 0.000 0.071 0.000 ]\n",
        "162 - Predicted: 1 Actual: 1 [ 0.155 0.762 0.000 0.000 0.000 0.000 0.083 ]\n",
        "163 - Predicted: 0 Actual: 1 [ 0.389 0.376 0.000 0.000 0.211 0.000 0.024 ]\n",
        "164 - Predicted: 1 Actual: 1 [ 0.495 0.504 0.001 0.000 0.000 0.000 0.000 ]\n",
        "165 - Predicted: 0 Actual: 0 [ 0.625 0.001 0.000 0.000 0.000 0.000 0.374 ]\n",
        "166 - Predicted: 0 Actual: 0 [ 0.547 0.364 0.000 0.000 0.088 0.000 0.000 ]\n",
        "167 - Predicted: 1 Actual: 0 [ 0.256 0.744 0.000 0.000 0.000 0.000 0.000 ]\n",
        "168 - Predicted: 1 Actual: 1 [ 0.482 0.517 0.000 0.000 0.000 0.000 0.000 ]\n",
        "169 - Predicted: 1 Actual: 0 [ 0.438 0.510 0.023 0.001 0.006 0.011 0.011 ]\n",
        "170"
       ]
      },
      {
       "output_type": "stream",
       "stream": "stdout",
       "text": [
        " - Predicted: 1 Actual: 1 [ 0.315 0.685 0.000 0.000 0.001 0.000 0.000 ]\n",
        "171 - Predicted: 1 Actual: 0 [ 0.430 0.461 0.009 0.000 0.073 0.019 0.009 ]\n",
        "172 - Predicted: 0 Actual: 1 [ 0.502 0.368 0.000 0.000 0.108 0.000 0.023 ]\n",
        "173 - Predicted: 1 Actual: 1 [ 0.025 0.949 0.008 0.000 0.005 0.002 0.010 ]\n",
        "174 - Predicted: 1 Actual: 1 [ 0.005 0.894 0.049 0.019 0.002 0.031 0.000 ]\n",
        "175 - Predicted: 1 Actual: 1 [ 0.087 0.906 0.001 0.000 0.001 0.001 0.004 ]\n",
        "176 - Predicted: 0 Actual: 0 [ 0.638 0.092 0.010 0.000 0.006 0.003 0.252 ]\n",
        "177 - Predicted: 1 Actual: 0 [ 0.381 0.466 0.006 0.000 0.086 0.029 0.031 ]\n",
        "178 - Predicted: 2 Actual: 2 [ 0.056 0.321 0.361 0.005 0.077 0.181 0.000 ]\n",
        "179 - Predicted: 0 Actual: 0 [ 0.881 0.070 0.012 0.000 0.007 0.003 0.026 ]\n",
        "180"
       ]
      },
      {
       "output_type": "stream",
       "stream": "stdout",
       "text": [
        " - Predicted: 1 Actual: 1 [ 0.365 0.634 0.000 0.000 0.001 0.000 0.000 ]\n",
        "181 - Predicted: 0 Actual: 1 [ 0.490 0.489 0.002 0.000 0.007 0.001 0.011 ]\n",
        "182 - Predicted: 1 Actual: 1 [ 0.328 0.607 0.000 0.000 0.000 0.000 0.065 ]\n",
        "183 - Predicted: 0 Actual: 0 [ 0.710 0.006 0.000 0.000 0.000 0.000 0.283 ]\n",
        "184 - Predicted: 1 Actual: 0 [ 0.319 0.328 0.005 0.000 0.218 0.124 0.006 ]\n",
        "185 - Predicted: 1 Actual: 1 [ 0.031 0.751 0.107 0.001 0.027 0.083 0.000 ]\n",
        "186 - Predicted: 1 Actual: 0 [ 0.284 0.334 0.052 0.002 0.030 0.014 0.285 ]\n",
        "187 - Predicted: 0 Actual: 0 [ 0.877 0.042 0.003 0.000 0.001 0.001 0.075 ]\n",
        "188 - Predicted: 1 Actual: 1 [ 0.332 0.659 0.000 0.000 0.006 0.003 0.000 ]\n",
        "189 - Predicted: 1 Actual: 2 [ 0.000 0.896 0.040 0.005 0.013 0.047 0.000 ]\n",
        "190"
       ]
      },
      {
       "output_type": "stream",
       "stream": "stdout",
       "text": [
        " - Predicted: 0 Actual: 1 [ 0.710 0.288 0.000 0.000 0.001 0.000 0.001 ]\n",
        "191 - Predicted: 1 Actual: 1 [ 0.446 0.531 0.000 0.000 0.014 0.000 0.010 ]\n",
        "192 - Predicted: 0 Actual: 0 [ 0.774 0.222 0.000 0.000 0.002 0.000 0.001 ]\n",
        "193 - Predicted: 0 Actual: 0 [ 0.597 0.002 0.000 0.000 0.000 0.000 0.402 ]\n",
        "194 - Predicted: 1 Actual: 1 [ 0.029 0.965 0.000 0.000 0.003 0.000 0.003 ]\n",
        "195 - Predicted: 2 Actual: 2 [ 0.003 0.136 0.469 0.019 0.002 0.371 0.000 ]\n",
        "196 - Predicted: 0 Actual: 0 [ 0.521 0.477 0.000 0.000 0.000 0.000 0.003 ]\n",
        "197 - Predicted: 1 Actual: 1 [ 0.383 0.416 0.017 0.001 0.054 0.008 0.121 ]\n",
        "198 - Predicted: 1 Actual: 0 [ 0.471 0.528 0.000 0.000 0.001 0.000 0.000 ]\n",
        "199 - Predicted: 0 Actual: 1 [ 0.713 0.278 0.000 0.000 0.000 0.000 0.009 ]\n",
        "200"
       ]
      },
      {
       "output_type": "stream",
       "stream": "stdout",
       "text": [
        " - Predicted: 0 Actual: 0 [ 0.809 0.003 0.000 0.000 0.000 0.000 0.188 ]\n",
        "201 - Predicted: 2 Actual: 2 [ 0.001 0.172 0.458 0.004 0.000 0.365 0.000 ]\n",
        "202 - Predicted: 1 Actual: 1 [ 0.400 0.445 0.000 0.000 0.071 0.072 0.012 ]\n",
        "203 - Predicted: 6 Actual: 1 [ 0.413 0.101 0.001 0.000 0.000 0.000 0.485 ]\n",
        "204 - Predicted: 0 Actual: 0 [ 0.589 0.305 0.000 0.000 0.008 0.000 0.097 ]\n",
        "205 - Predicted: 0 Actual: 0 [ 0.539 0.013 0.000 0.000 0.000 0.000 0.447 ]\n",
        "206 - Predicted: 1 Actual: 1 [ 0.107 0.659 0.129 0.000 0.001 0.103 0.000 ]\n",
        "207 - Predicted: 1 Actual: 1 [ 0.336 0.664 0.000 0.000 0.000 0.000 0.000 ]\n",
        "208 - Predicted: 1 Actual: 1 [ 0.279 0.539 0.079 0.005 0.020 0.037 0.040 ]\n",
        "209 - Predicted: 1 Actual: 0 [ 0.222 0.549 0.003 0.000 0.142 0.081 0.004 ]\n",
        "210"
       ]
      },
      {
       "output_type": "stream",
       "stream": "stdout",
       "text": [
        " - Predicted: 1 Actual: 1 [ 0.156 0.812 0.000 0.000 0.032 0.000 0.000 ]\n",
        "211 - Predicted: 2 Actual: 1 [ 0.009 0.171 0.704 0.014 0.000 0.101 0.000 ]\n",
        "212 - Predicted: 1 Actual: 1 [ 0.027 0.896 0.042 0.014 0.006 0.015 0.000 ]\n",
        "213 - Predicted: 1 Actual: 2 [ 0.126 0.382 0.197 0.004 0.142 0.148 0.000 ]\n",
        "214 - Predicted: 1 Actual: 0 [ 0.451 0.549 0.000 0.000 0.000 0.000 0.000 ]\n",
        "215 - Predicted: 1 Actual: 0 [ 0.212 0.760 0.000 0.000 0.000 0.000 0.028 ]\n",
        "216 - Predicted: 0 Actual: 0 [ 0.713 0.217 0.004 0.000 0.002 0.001 0.063 ]\n",
        "217 - Predicted: 2 Actual: 1 [ 0.027 0.327 0.487 0.041 0.001 0.117 0.000 ]\n",
        "218 - Predicted: 0 Actual: 0 [ 0.746 0.240 0.000 0.000 0.004 0.010 0.000 ]\n",
        "219 - Predicted: 1 Actual: 1 [ 0.320 0.325 0.005 0.000 0.219 0.125 0.006 ]\n",
        "220"
       ]
      },
      {
       "output_type": "stream",
       "stream": "stdout",
       "text": [
        " - Predicted: 0 Actual: 0 [ 0.933 0.065 0.000 0.000 0.002 0.001 0.000 ]\n",
        "221 - Predicted: 1 Actual: 1 [ 0.402 0.598 0.000 0.000 0.000 0.000 0.000 ]\n",
        "222 - Predicted: 0 Actual: 1 [ 0.821 0.138 0.000 0.000 0.000 0.000 0.041 ]\n",
        "223 - Predicted: 0 Actual: 0 [ 0.721 0.211 0.005 0.000 0.057 0.000 0.005 ]\n",
        "224 - Predicted: 0 Actual: 0 [ 0.872 0.051 0.000 0.000 0.016 0.000 0.062 ]\n",
        "225 - Predicted: 4 Actual: 1 [ 0.141 0.250 0.098 0.000 0.414 0.002 0.095 ]\n",
        "226 - Predicted: 1 Actual: 1 [ 0.327 0.554 0.000 0.000 0.000 0.000 0.118 ]\n",
        "227 - Predicted: 2 Actual: 2 [ 0.014 0.403 0.480 0.012 0.001 0.090 0.000 ]\n",
        "228 - Predicted: 0 Actual: 0 [ 0.567 0.433 0.000 0.000 0.000 0.000 0.000 ]\n",
        "229 - Predicted: 0 Actual: 1 [ 0.669 0.330 0.000 0.000 0.000 0.000 0.000 ]\n",
        "230"
       ]
      },
      {
       "output_type": "stream",
       "stream": "stdout",
       "text": [
        " - Predicted: 1 Actual: 0 [ 0.190 0.658 0.000 0.000 0.097 0.019 0.036 ]\n",
        "231 - Predicted: 1 Actual: 1 [ 0.165 0.823 0.001 0.000 0.009 0.001 0.002 ]\n",
        "232 - Predicted: 0 Actual: 1 [ 0.569 0.429 0.000 0.000 0.000 0.000 0.002 ]\n",
        "233 - Predicted: 1 Actual: 0 [ 0.392 0.608 0.000 0.000 0.000 0.000 0.000 ]\n",
        "234 - Predicted: 1 Actual: 1 [ 0.125 0.850 0.003 0.000 0.002 0.001 0.019 ]\n",
        "235 - Predicted: 0 Actual: 0 [ 0.534 0.451 0.006 0.000 0.002 0.003 0.003 ]\n",
        "236 - Predicted: 2 Actual: 2 [ 0.025 0.327 0.465 0.021 0.001 0.161 0.000 ]\n",
        "237 - Predicted: 1 Actual: 1 [ 0.297 0.699 0.000 0.000 0.004 0.000 0.000 ]\n",
        "238 - Predicted: 1 Actual: 0 [ 0.314 0.679 0.001 0.000 0.000 0.000 0.006 ]\n",
        "239 - Predicted: 1 Actual: 1 [ 0.062 0.868 0.020 0.000 0.034 0.015 0.000 ]\n",
        "240"
       ]
      },
      {
       "output_type": "stream",
       "stream": "stdout",
       "text": [
        " - Predicted: 1 Actual: 2 [ 0.049 0.444 0.320 0.022 0.018 0.147 0.000 ]\n",
        "241 - Predicted: 0 Actual: 1 [ 0.520 0.480 0.000 0.000 0.000 0.000 0.000 ]\n",
        "242 - Predicted: 0 Actual: 0 [ 0.654 0.005 0.000 0.000 0.000 0.000 0.342 ]\n",
        "243 - Predicted: 1 Actual: 0 [ 0.298 0.699 0.000 0.000 0.000 0.000 0.002 ]\n",
        "244 - Predicted: 1 Actual: 1 [ 0.046 0.950 0.001 0.000 0.000 0.001 0.001 ]\n",
        "245 - Predicted: 1 Actual: 1 [ 0.309 0.321 0.016 0.000 0.254 0.083 0.017 ]\n",
        "246 - Predicted: 2 Actual: 1 [ 0.145 0.306 0.331 0.003 0.004 0.211 0.000 ]\n",
        "247 - Predicted: 0 Actual: 0 [ 0.707 0.012 0.000 0.000 0.000 0.000 0.280 ]\n",
        "248 - Predicted: 1 Actual: 0 [ 0.339 0.620 0.000 0.000 0.004 0.000 0.037 ]\n",
        "249 - Predicted: 1 Actual: 1 [ 0.079 0.918 0.000 0.000 0.003 0.000 0.000 ]\n",
        "250"
       ]
      },
      {
       "output_type": "stream",
       "stream": "stdout",
       "text": [
        " - Predicted: 1 Actual: 1 [ 0.005 0.540 0.210 0.052 0.050 0.142 0.000 ]\n",
        "251 - Predicted: 1 Actual: 1 [ 0.186 0.673 0.043 0.005 0.052 0.040 0.000 ]\n",
        "252 - Predicted: 0 Actual: 0 [ 0.848 0.108 0.003 0.000 0.037 0.001 0.002 ]\n",
        "253 - Predicted: 1 Actual: 1 [ 0.428 0.568 0.002 0.000 0.001 0.001 0.000 ]\n",
        "254 - Predicted: 1 Actual: 0 [ 0.340 0.446 0.056 0.000 0.092 0.001 0.064 ]\n",
        "255 - Predicted: 1 Actual: 1 [ 0.160 0.711 0.109 0.000 0.008 0.001 0.011 ]\n",
        "256 - Predicted: 2 Actual: 2 [ 0.004 0.268 0.325 0.162 0.010 0.230 0.000 ]\n",
        "257 - Predicted: 0 Actual: 0 [ 0.847 0.109 0.003 0.000 0.038 0.001 0.002 ]\n",
        "258 - Predicted: 1 Actual: 1 [ 0.433 0.567 0.000 0.000 0.000 0.000 0.000 ]\n",
        "259 - Predicted: 1 Actual: 0 [ 0.432 0.567 0.001 0.000 0.000 0.000 0.000 ]\n",
        "260"
       ]
      },
      {
       "output_type": "stream",
       "stream": "stdout",
       "text": [
        " - Predicted: 2 Actual: 2 [ 0.027 0.315 0.503 0.050 0.001 0.104 0.000 ]\n",
        "261 - Predicted: 0 Actual: 0 [ 0.623 0.355 0.000 0.000 0.001 0.000 0.021 ]\n",
        "262 - Predicted: 0 Actual: 0 [ 0.623 0.354 0.000 0.000 0.001 0.000 0.022 ]\n",
        "263 - Predicted: 0 Actual: 0 [ 0.623 0.355 0.000 0.000 0.001 0.000 0.021 ]\n",
        "264 - Predicted: 1 Actual: 0 [ 0.136 0.635 0.078 0.000 0.080 0.001 0.070 ]\n",
        "265 - Predicted: 1 Actual: 1 [ 0.091 0.786 0.017 0.001 0.010 0.004 0.091 ]\n",
        "266 - Predicted: 1 Actual: 1 [ 0.341 0.370 0.039 0.000 0.210 0.000 0.040 ]\n",
        "267 - Predicted: 1 Actual: 1 [ 0.341 0.370 0.039 0.000 0.210 0.000 0.040 ]\n",
        "268 - Predicted: 1 Actual: 1 [ 0.341 0.370 0.039 0.000 0.210 0.000 0.040 ]\n",
        "269 - Predicted: 1 Actual: 1 [ 0.218 0.782 0.000 0.000 0.000 0.000 0.000 ]\n",
        "270"
       ]
      },
      {
       "output_type": "stream",
       "stream": "stdout",
       "text": [
        " - Predicted: 1 Actual: 0 [ 0.328 0.336 0.211 0.000 0.067 0.052 0.006 ]\n",
        "271 - Predicted: 1 Actual: 1 [ 0.146 0.853 0.000 0.000 0.000 0.000 0.000 ]\n",
        "272 - Predicted: 6 Actual: 0 [ 0.167 0.073 0.000 0.000 0.000 0.000 0.760 ]\n",
        "273 - Predicted: 0 Actual: 0 [ 0.850 0.137 0.000 0.000 0.000 0.000 0.013 ]\n",
        "274 - Predicted: 2 Actual: 2 [ 0.140 0.151 0.285 0.000 0.140 0.283 0.000 ]\n",
        "275 - Predicted: 1 Actual: 1 [ 0.077 0.623 0.156 0.000 0.011 0.133 0.000 ]\n",
        "276 - Predicted: 1 Actual: 1 [ 0.091 0.485 0.235 0.001 0.094 0.095 0.000 ]\n",
        "277 - Predicted: 1 Actual: 1 [ 0.054 0.897 0.004 0.000 0.040 0.000 0.004 ]\n",
        "278 - Predicted: 0 Actual: 0 [ 0.745 0.006 0.000 0.000 0.000 0.000 0.249 ]\n",
        "279 - Predicted: 0 Actual: 1 [ 0.514 0.446 0.004 0.000 0.028 0.003 0.004 ]\n",
        "280"
       ]
      },
      {
       "output_type": "stream",
       "stream": "stdout",
       "text": [
        " - Predicted: 0 Actual: 1 [ 0.962 0.038 0.000 0.000 0.000 0.000 0.000 ]\n",
        "281 - Predicted: 0 Actual: 0 [ 0.718 0.268 0.001 0.000 0.012 0.001 0.001 ]\n",
        "282 - Predicted: 2 Actual: 2 [ 0.010 0.327 0.381 0.016 0.002 0.264 0.000 ]\n",
        "283 - Predicted: 1 Actual: 0 [ 0.361 0.612 0.000 0.000 0.020 0.000 0.007 ]\n",
        "284 - Predicted: 1 Actual: 1 [ 0.157 0.843 0.000 0.000 0.000 0.000 0.000 ]\n",
        "285 - Predicted: 0 Actual: 1 [ 0.954 0.029 0.001 0.000 0.014 0.001 0.001 ]\n",
        "286 - Predicted: 1 Actual: 1 [ 0.088 0.589 0.141 0.009 0.035 0.067 0.072 ]\n",
        "287 - Predicted: 0 Actual: 0 [ 0.807 0.004 0.000 0.000 0.000 0.000 0.189 ]\n",
        "288 - Predicted: 1 Actual: 0 [ 0.055 0.841 0.022 0.000 0.051 0.001 0.031 ]\n",
        "289 - Predicted: 1 Actual: 1 [ 0.292 0.583 0.000 0.000 0.036 0.002 0.086 ]\n",
        "290"
       ]
      },
      {
       "output_type": "stream",
       "stream": "stdout",
       "text": [
        " - Predicted: 1 Actual: 0 [ 0.205 0.594 0.001 0.000 0.001 0.000 0.199 ]\n",
        "291 - Predicted: 0 Actual: 0 [ 0.644 0.285 0.053 0.000 0.017 0.001 0.000 ]\n",
        "292 - Predicted: 2 Actual: 2 [ 0.001 0.208 0.578 0.131 0.001 0.082 0.000 ]\n",
        "293 - Predicted: 1 Actual: 1 [ 0.355 0.634 0.007 0.000 0.002 0.002 0.000 ]\n",
        "294 - Predicted: 1 Actual: 1 [ 0.167 0.762 0.029 0.002 0.008 0.014 0.017 ]\n",
        "295 - Predicted: 1 Actual: 1 [ 0.316 0.663 0.005 0.000 0.006 0.005 0.005 ]\n",
        "296 - Predicted: 0 Actual: 1 [ 0.571 0.422 0.000 0.000 0.004 0.002 0.000 ]\n",
        "297 - Predicted: 1 Actual: 0 [ 0.203 0.713 0.035 0.003 0.009 0.017 0.020 ]\n",
        "298 - Predicted: 1 Actual: 1 [ 0.394 0.594 0.005 0.000 0.001 0.002 0.003 ]\n",
        "299 - Predicted: 0 Actual: 0 [ 0.598 0.349 0.005 0.000 0.043 0.000 0.005 ]\n",
        "300"
       ]
      },
      {
       "output_type": "stream",
       "stream": "stdout",
       "text": [
        " - Predicted: 0 Actual: 0 [ 0.525 0.284 0.007 0.000 0.170 0.012 0.001 ]\n",
        "301 - Predicted: 1 Actual: 0 [ 0.446 0.451 0.014 0.001 0.074 0.007 0.008 ]\n",
        "302 - Predicted: 2 Actual: 1 [ 0.001 0.209 0.374 0.140 0.054 0.222 0.000 ]\n",
        "303 - Predicted: 1 Actual: 1 [ 0.223 0.474 0.127 0.010 0.033 0.061 0.072 ]\n",
        "304 - Predicted: 1 Actual: 1 [ 0.311 0.688 0.001 0.000 0.000 0.000 0.000 ]\n",
        "305 - Predicted: 0 Actual: 0 [ 0.756 0.024 0.002 0.000 0.000 0.001 0.216 ]\n",
        "306 - Predicted: 1 Actual: 0 [ 0.414 0.578 0.000 0.000 0.009 0.000 0.000 ]\n",
        "307 - Predicted: 0 Actual: 1 [ 0.931 0.062 0.000 0.000 0.000 0.000 0.007 ]\n",
        "308 - Predicted: 2 Actual: 2 [ 0.012 0.137 0.789 0.017 0.000 0.045 0.000 ]\n",
        "309 - Predicted: 2 Actual: 1 [ 0.005 0.285 0.521 0.127 0.000 0.061 0.000 ]\n",
        "310"
       ]
      },
      {
       "output_type": "stream",
       "stream": "stdout",
       "text": [
        " - Predicted: 1 Actual: 1 [ 0.249 0.621 0.000 0.000 0.067 0.000 0.062 ]\n",
        "311 - Predicted: 1 Actual: 1 [ 0.451 0.519 0.001 0.000 0.008 0.001 0.019 ]\n",
        "312 - Predicted: 1 Actual: 1 [ 0.345 0.649 0.004 0.000 0.002 0.000 0.000 ]\n",
        "313 - Predicted: 1 Actual: 0 [ 0.410 0.580 0.004 0.000 0.001 0.002 0.002 ]\n",
        "314 - Predicted: 2 Actual: 2 [ 0.003 0.040 0.720 0.005 0.000 0.232 0.000 ]\n",
        "315 - Predicted: 0 Actual: 1 [ 0.526 0.424 0.005 0.000 0.036 0.004 0.005 ]\n",
        "316 - Predicted: 1 Actual: 1 [ 0.220 0.756 0.002 0.000 0.015 0.003 0.005 ]\n",
        "317 - Predicted: 0 Actual: 0 [ 0.570 0.245 0.000 0.000 0.000 0.000 0.185 ]\n",
        "318 - Predicted: 0 Actual: 0 [ 0.764 0.104 0.008 0.001 0.002 0.004 0.118 ]\n",
        "319 - Predicted: 0 Actual: 0 [ 0.574 0.416 0.001 0.000 0.009 0.000 0.001 ]\n",
        "320"
       ]
      },
      {
       "output_type": "stream",
       "stream": "stdout",
       "text": [
        " - Predicted: 1 Actual: 1 [ 0.333 0.333 0.001 0.000 0.333 0.000 0.000 ]\n",
        "321 - Predicted: 0 Actual: 0 [ 0.774 0.055 0.000 0.000 0.000 0.000 0.171 ]\n",
        "322 - Predicted: 2 Actual: 1 [ 0.073 0.133 0.561 0.013 0.019 0.202 0.000 ]\n",
        "323 - Predicted: 1 Actual: 0 [ 0.148 0.852 0.000 0.000 0.000 0.000 0.000 ]\n",
        "324 - Predicted: 1 Actual: 0 [ 0.350 0.534 0.002 0.000 0.007 0.001 0.105 ]\n",
        "325 - Predicted: 1 Actual: 1 [ 0.068 0.686 0.110 0.036 0.061 0.038 0.000 ]\n",
        "326 - Predicted: 0 Actual: 1 [ 0.338 0.332 0.000 0.000 0.326 0.003 0.000 ]\n",
        "327 - Predicted: 1 Actual: 1 [ 0.364 0.636 0.000 0.000 0.000 0.000 0.000 ]\n",
        "328 - Predicted: 0 Actual: 0 [ 0.621 0.231 0.046 0.000 0.077 0.000 0.025 ]\n",
        "329 - Predicted: 2 Actual: 2 [ 0.002 0.171 0.495 0.000 0.000 0.332 0.000 ]\n",
        "330"
       ]
      },
      {
       "output_type": "stream",
       "stream": "stdout",
       "text": [
        " - Predicted: 1 Actual: 1 [ 0.001 0.342 0.257 0.141 0.002 0.257 0.000 ]\n",
        "331 - Predicted: 1 Actual: 1 [ 0.175 0.822 0.001 0.000 0.000 0.001 0.001 ]\n",
        "332 - Predicted: 0 Actual: 0 [ 0.595 0.400 0.000 0.000 0.000 0.000 0.004 ]\n",
        "333 - Predicted: 0 Actual: 1 [ 0.600 0.400 0.000 0.000 0.000 0.000 0.000 ]\n",
        "334 - Predicted: 1 Actual: 1 [ 0.412 0.536 0.007 0.000 0.038 0.000 0.007 ]\n",
        "335 - Predicted: 2 Actual: 2 [ 0.011 0.316 0.328 0.035 0.027 0.284 0.000 ]\n",
        "336 - Predicted: 6 Actual: 0 [ 0.342 0.195 0.004 0.000 0.002 0.001 0.456 ]\n",
        "337 - Predicted: 0 Actual: 0 [ 0.520 0.478 0.001 0.000 0.001 0.000 0.000 ]\n",
        "338 - Predicted: 1 Actual: 0 [ 0.227 0.650 0.001 0.000 0.108 0.013 0.002 ]\n",
        "339 - Predicted: 0 Actual: 1 [ 0.753 0.245 0.001 0.000 0.001 0.000 0.000 ]\n",
        "340"
       ]
      },
      {
       "output_type": "stream",
       "stream": "stdout",
       "text": [
        " - Predicted: 2 Actual: 2 [ 0.007 0.247 0.370 0.136 0.007 0.233 0.000 ]\n",
        "341 - Predicted: 0 Actual: 0 [ 0.475 0.232 0.000 0.000 0.000 0.000 0.293 ]\n",
        "342 - Predicted: 1 Actual: 1 [ 0.015 0.976 0.000 0.000 0.009 0.000 0.000 ]\n",
        "343 - Predicted: 0 Actual: 0 [ 0.569 0.391 0.000 0.000 0.028 0.000 0.011 ]\n",
        "344 - Predicted: 1 Actual: 1 [ 0.270 0.609 0.080 0.000 0.017 0.003 0.021 ]\n",
        "345 - Predicted: 1 Actual: 0 [ 0.450 0.549 0.000 0.000 0.000 0.000 0.002 ]\n",
        "346 - Predicted: 1 Actual: 1 [ 0.169 0.830 0.000 0.000 0.001 0.000 0.000 ]\n",
        "347 - Predicted: 1 Actual: 1 [ 0.455 0.525 0.000 0.000 0.000 0.000 0.020 ]\n",
        "348 - Predicted: 1 Actual: 0 [ 0.283 0.534 0.000 0.000 0.170 0.010 0.003 ]\n",
        "349 - Predicted: 1 Actual: 1 [ 0.023 0.964 0.000 0.000 0.013 0.000 0.000 ]\n",
        "350"
       ]
      },
      {
       "output_type": "stream",
       "stream": "stdout",
       "text": [
        " - Predicted: 2 Actual: 2 [ 0.217 0.275 0.301 0.064 0.028 0.115 0.000 ]\n",
        "351 - Predicted: 0 Actual: 0 [ 0.541 0.451 0.000 0.000 0.000 0.000 0.008 ]\n",
        "352 - Predicted: 1 Actual: 1 [ 0.001 0.574 0.202 0.107 0.003 0.113 0.000 ]\n",
        "353 - Predicted: 1 Actual: 1 [ 0.392 0.415 0.000 0.000 0.003 0.000 0.189 ]\n",
        "354 - Predicted: 1 Actual: 1 [ 0.089 0.895 0.001 0.000 0.001 0.000 0.014 ]\n",
        "355 - Predicted: 0 Actual: 1 [ 0.554 0.446 0.000 0.000 0.000 0.000 0.000 ]\n",
        "356 - Predicted: 0 Actual: 0 [ 0.858 0.112 0.000 0.000 0.000 0.000 0.030 ]\n",
        "357 - Predicted: 1 Actual: 1 [ 0.390 0.565 0.001 0.000 0.043 0.001 0.002 ]\n",
        "358 - Predicted: 1 Actual: 0 [ 0.308 0.651 0.001 0.000 0.038 0.000 0.001 ]\n",
        "359 - Predicted: 0 Actual: 0 [ 0.795 0.004 0.000 0.000 0.000 0.000 0.201 ]\n",
        "360"
       ]
      },
      {
       "output_type": "stream",
       "stream": "stdout",
       "text": [
        " - Predicted: 0 Actual: 0 [ 0.607 0.393 0.000 0.000 0.000 0.000 0.000 ]\n",
        "361 - Predicted: 1 Actual: 1 [ 0.121 0.839 0.001 0.000 0.003 0.000 0.036 ]\n",
        "362 - Predicted: 1 Actual: 1 [ 0.062 0.762 0.097 0.032 0.013 0.034 0.000 ]\n",
        "363 - Predicted: 1 Actual: 1 [ 0.399 0.428 0.003 0.000 0.168 0.000 0.002 ]\n",
        "364 - Predicted: 1 Actual: 2 [ 0.022 0.418 0.190 0.128 0.056 0.185 0.000 ]\n",
        "365 - Predicted: 1 Actual: 1 [ 0.052 0.590 0.127 0.004 0.218 0.009 0.000 ]\n",
        "366 - Predicted: 0 Actual: 0 [ 0.545 0.191 0.000 0.000 0.000 0.000 0.263 ]\n",
        "367 - Predicted: 0 Actual: 0 [ 0.675 0.324 0.000 0.000 0.000 0.000 0.001 ]\n",
        "368 - Predicted: 1 Actual: 1 [ 0.161 0.839 0.000 0.000 0.000 0.000 0.000 ]\n",
        "369 - Predicted: 0 Actual: 0 [ 0.707 0.144 0.000 0.000 0.000 0.000 0.149 ]\n",
        "370"
       ]
      },
      {
       "output_type": "stream",
       "stream": "stdout",
       "text": [
        " - Predicted: 1 Actual: 1 [ 0.383 0.388 0.000 0.000 0.056 0.000 0.172 ]\n",
        "371 - Predicted: 1 Actual: 0 [ 0.206 0.406 0.124 0.000 0.204 0.001 0.061 ]\n",
        "372 - Predicted: 1 Actual: 1 [ 0.061 0.767 0.095 0.031 0.012 0.033 0.000 ]\n",
        "373 - Predicted: 0 Actual: 0 [ 0.589 0.411 0.000 0.000 0.000 0.000 0.000 ]\n",
        "374 - Predicted: 0 Actual: 1 [ 0.616 0.384 0.000 0.000 0.000 0.000 0.000 ]\n",
        "375 - Predicted: 1 Actual: 0 [ 0.446 0.447 0.102 0.000 0.002 0.003 0.000 ]\n",
        "376 - Predicted: 1 Actual: 0 [ 0.283 0.717 0.000 0.000 0.000 0.000 0.000 ]\n",
        "377 - Predicted: 1 Actual: 2 [ 0.017 0.791 0.077 0.002 0.057 0.056 0.000 ]\n",
        "378 - Predicted: 1 Actual: 1 [ 0.047 0.725 0.095 0.004 0.120 0.009 0.000 ]\n",
        "379 - Predicted: 1 Actual: 1 [ 0.121 0.530 0.192 0.063 0.026 0.068 0.000 ]\n",
        "380"
       ]
      },
      {
       "output_type": "stream",
       "stream": "stdout",
       "text": [
        " - Predicted: 1 Actual: 1 [ 0.335 0.413 0.001 0.000 0.067 0.064 0.120 ]\n",
        "381 - Predicted: 0 Actual: 0 [ 0.732 0.267 0.001 0.000 0.000 0.000 0.000 ]\n",
        "382 - Predicted: 1 Actual: 2 [ 0.023 0.417 0.193 0.128 0.056 0.184 0.000 ]\n",
        "383 - Predicted: 0 Actual: 1 [ 0.651 0.343 0.000 0.000 0.000 0.000 0.005 ]\n",
        "384 - Predicted: 0 Actual: 0 [ 0.762 0.192 0.002 0.000 0.022 0.007 0.015 ]\n",
        "385 - Predicted: 1 Actual: 1 [ 0.232 0.719 0.015 0.000 0.025 0.000 0.008 ]\n",
        "386 - Predicted: 6 Actual: 0 [ 0.289 0.043 0.000 0.000 0.000 0.000 0.668 ]\n",
        "387 - Predicted: 1 Actual: 1 [ 0.427 0.560 0.000 0.000 0.007 0.000 0.006 ]\n",
        "388 - Predicted: 1 Actual: 1 [ 0.417 0.574 0.000 0.000 0.001 0.000 0.008 ]\n",
        "389 - Predicted: 0 Actual: 0 [ 0.662 0.338 0.000 0.000 0.000 0.000 0.000 ]\n",
        "390"
       ]
      },
      {
       "output_type": "stream",
       "stream": "stdout",
       "text": [
        " - Predicted: 0 Actual: 1 [ 0.481 0.472 0.000 0.000 0.027 0.000 0.020 ]\n",
        "391 - Predicted: 1 Actual: 1 [ 0.006 0.309 0.262 0.030 0.086 0.307 0.000 ]\n",
        "392 - Predicted: 2 Actual: 2 [ 0.087 0.228 0.590 0.001 0.047 0.048 0.000 ]\n",
        "393 - Predicted: 1 Actual: 1 [ 0.234 0.763 0.001 0.000 0.001 0.000 0.001 ]\n",
        "394 - Predicted: 0 Actual: 1 [ 0.556 0.317 0.006 0.000 0.060 0.003 0.059 ]\n",
        "395 - Predicted: 1 Actual: 0 [ 0.218 0.782 0.000 0.000 0.000 0.000 0.000 ]\n",
        "396 - Predicted: 1 Actual: 1 [ 0.108 0.617 0.138 0.009 0.106 0.021 0.000 ]\n",
        "397 - Predicted: 1 Actual: 0 [ 0.399 0.599 0.000 0.000 0.000 0.000 0.002 ]\n",
        "398 - Predicted: 1 Actual: 0 [ 0.361 0.635 0.002 0.000 0.001 0.000 0.001 ]\n",
        "399 - Predicted: 1 Actual: 0 [ 0.281 0.718 0.000 0.000 0.000 0.000 0.001 ]\n",
        "400"
       ]
      },
      {
       "output_type": "stream",
       "stream": "stdout",
       "text": [
        " - Predicted: 1 Actual: 2 [ 0.160 0.382 0.266 0.009 0.024 0.120 0.040 ]\n",
        "401 - Predicted: 1 Actual: 1 [ 0.256 0.416 0.138 0.009 0.052 0.064 0.064 ]\n",
        "402 - Predicted: 1 Actual: 0 [ 0.291 0.443 0.094 0.006 0.078 0.049 0.039 ]\n",
        "403 - Predicted: 1 Actual: 1 [ 0.114 0.632 0.112 0.007 0.025 0.061 0.050 ]\n",
        "404 - Predicted: 2 Actual: 0 [ 0.160 0.302 0.314 0.039 0.024 0.122 0.039 ]\n",
        "405 - Predicted: 1 Actual: 1 [ 0.200 0.554 0.105 0.008 0.026 0.050 0.056 ]\n",
        "406 - Predicted: 1 Actual: 1 [ 0.262 0.463 0.106 0.007 0.037 0.077 0.048 ]\n",
        "407 - Predicted: 1 Actual: 0 [ 0.316 0.384 0.109 0.007 0.057 0.061 0.066 ]\n",
        "408 - Predicted: 2 Actual: 1 [ 0.090 0.215 0.318 0.078 0.073 0.207 0.020 ]\n",
        "409 - Predicted: 1 Actual: 0 [ 0.274 0.468 0.081 0.005 0.100 0.037 0.036 ]\n",
        "410"
       ]
      },
      {
       "output_type": "stream",
       "stream": "stdout",
       "text": [
        " - Predicted: 1 Actual: 0 [ 0.124 0.463 0.179 0.012 0.044 0.085 0.092 ]\n",
        "411 - Predicted: 0 Actual: 1 [ 0.250 0.125 0.125 0.125 0.125 0.125 0.125 ]\n",
        "412 - Predicted: 5 Actual: 2 [ 0.086 0.223 0.289 0.007 0.023 0.340 0.031 ]\n",
        "413 - Predicted: 1 Actual: 0 [ 0.125 0.462 0.179 0.012 0.044 0.085 0.092 ]\n",
        "414 - Predicted: 1 Actual: 1 [ 0.124 0.462 0.180 0.012 0.044 0.086 0.092 ]\n",
        "415 - Predicted: 1 Actual: 1 [ 0.125 0.462 0.179 0.012 0.044 0.085 0.092 ]\n",
        "416 - Predicted: 1 Actual: 1 [ 0.128 0.466 0.176 0.012 0.044 0.084 0.091 ]\n",
        "417 - Predicted: 1 Actual: 0 [ 0.127 0.465 0.177 0.012 0.044 0.084 0.091 ]\n",
        "418 - Predicted: 1 Actual: 1 [ 0.128 0.464 0.177 0.012 0.044 0.084 0.091 ]\n",
        "419 - Predicted: 0 Actual: 0 [ 0.250 0.125 0.125 0.125 0.125 0.125 0.125 ]\n",
        "420"
       ]
      },
      {
       "output_type": "stream",
       "stream": "stdout",
       "text": [
        " - Predicted: 0 Actual: 0 [ 0.759 0.233 0.000 0.000 0.000 0.000 0.008 ]\n",
        "421 - Predicted: 0 Actual: 0 [ 0.636 0.124 0.098 0.009 0.027 0.038 0.067 ]\n",
        "422 - Predicted: 0 Actual: 1 [ 0.636 0.124 0.098 0.009 0.027 0.038 0.067 ]\n",
        "423 - Predicted: 0 Actual: 0 [ 0.636 0.124 0.098 0.009 0.027 0.038 0.067 ]\n",
        "424 - Predicted: 0 Actual: 2 [ 0.636 0.124 0.098 0.009 0.027 0.038 0.067 ]\n",
        "425 - Predicted: 0 Actual: 1 [ 0.636 0.124 0.098 0.009 0.027 0.038 0.067 ]\n",
        "426 - Predicted: 0 Actual: 1 [ 0.637 0.359 0.002 0.000 0.000 0.001 0.001 ]\n",
        "427 - Predicted: 0 Actual: 1 [ 0.636 0.124 0.098 0.009 0.027 0.038 0.067 ]\n",
        "428 - Predicted: 1 Actual: 1 [ 0.195 0.540 0.111 0.009 0.029 0.054 0.063 ]\n",
        "429 - Predicted: 1 Actual: 0 [ 0.272 0.490 0.129 0.009 0.009 0.073 0.018 ]\n",
        "430"
       ]
      },
      {
       "output_type": "stream",
       "stream": "stdout",
       "text": [
        " - Predicted: 0 Actual: 0 [ 0.633 0.167 0.086 0.009 0.028 0.048 0.029 ]\n",
        "431 - Predicted: 0 Actual: 1 [ 0.633 0.167 0.086 0.009 0.028 0.048 0.029 ]\n",
        "432 - Predicted: 0 Actual: 0 [ 0.633 0.167 0.086 0.009 0.028 0.048 0.029 ]\n",
        "433 - Predicted: 0 Actual: 1 [ 0.633 0.167 0.086 0.009 0.028 0.048 0.029 ]\n",
        "434 - Predicted: 0 Actual: 1 [ 0.633 0.167 0.086 0.009 0.028 0.048 0.029 ]\n",
        "435 - Predicted: 0 Actual: 1 [ 0.870 0.128 0.000 0.000 0.001 0.000 0.000 ]\n",
        "436 - Predicted: 1 Actual: 2 [ 0.282 0.479 0.181 0.001 0.011 0.035 0.011 ]\n",
        "437 - Predicted: 0 Actual: 1 [ 0.744 0.255 0.000 0.000 0.000 0.000 0.001 ]\n",
        "438 - Predicted: 0 Actual: 0 [ 0.633 0.167 0.086 0.009 0.028 0.048 0.029 ]\n",
        "439 - Predicted: 0 Actual: 0 [ 0.572 0.426 0.000 0.000 0.001 0.001 0.001 ]\n",
        "440"
       ]
      },
      {
       "output_type": "stream",
       "stream": "stdout",
       "text": [
        " - Predicted: 1 Actual: 0 [ 0.282 0.717 0.000 0.000 0.000 0.000 0.001 ]\n",
        "441 - Predicted: 1 Actual: 1 [ 0.399 0.525 0.006 0.000 0.023 0.012 0.035 ]\n",
        "442 - Predicted: 0 Actual: 1 [ 0.649 0.351 0.000 0.000 0.000 0.000 0.000 ]\n",
        "443 - Predicted: 1 Actual: 0 [ 0.399 0.525 0.006 0.000 0.023 0.012 0.035 ]\n",
        "444 - Predicted: 1 Actual: 0 [ 0.333 0.506 0.098 0.011 0.012 0.031 0.009 ]\n",
        "445 - Predicted: 1 Actual: 0 [ 0.340 0.465 0.134 0.000 0.001 0.059 0.001 ]\n",
        "446 - Predicted: 1 Actual: 1 [ 0.119 0.879 0.001 0.000 0.000 0.000 0.001 ]\n",
        "447 - Predicted: 1 Actual: 1 [ 0.361 0.584 0.000 0.000 0.054 0.000 0.000 ]\n",
        "448 - Predicted: 1 Actual: 1 [ 0.271 0.729 0.000 0.000 0.000 0.000 0.000 ]\n",
        "449 - Predicted: 1 Actual: 2 [ 0.333 0.506 0.098 0.011 0.012 0.031 0.009 ]\n",
        "450"
       ]
      },
      {
       "output_type": "stream",
       "stream": "stdout",
       "text": [
        " - Predicted: 0 Actual: 0 [ 0.835 0.116 0.033 0.000 0.000 0.015 0.000 ]\n",
        "451 - Predicted: 1 Actual: 1 [ 0.453 0.501 0.004 0.000 0.017 0.000 0.025 ]\n",
        "452 - Predicted: 1 Actual: 1 [ 0.453 0.501 0.004 0.000 0.017 0.000 0.025 ]\n",
        "453 - Predicted: 0 Actual: 0 [ 0.864 0.135 0.000 0.000 0.000 0.000 0.001 ]\n",
        "454 - Predicted: 1 Actual: 0 [ 0.453 0.501 0.004 0.000 0.017 0.000 0.025 ]\n",
        "455 - Predicted: 1 Actual: 0 [ 0.282 0.528 0.120 0.010 0.004 0.053 0.003 ]\n",
        "456 - Predicted: 0 Actual: 1 [ 0.473 0.203 0.000 0.000 0.000 0.000 0.324 ]\n",
        "457 - Predicted: 1 Actual: 1 [ 0.282 0.528 0.120 0.010 0.004 0.053 0.003 ]\n",
        "458 - Predicted: 1 Actual: 2 [ 0.282 0.528 0.120 0.010 0.004 0.053 0.003 ]\n",
        "459 - Predicted: 1 Actual: 1 [ 0.282 0.528 0.120 0.010 0.004 0.053 0.003 ]\n",
        "460"
       ]
      },
      {
       "output_type": "stream",
       "stream": "stdout",
       "text": [
        " - Predicted: 1 Actual: 1 [ 0.305 0.538 0.097 0.004 0.016 0.040 0.000 ]\n",
        "461 - Predicted: 1 Actual: 0 [ 0.427 0.536 0.014 0.000 0.001 0.007 0.015 ]\n",
        "462 - Predicted: 1 Actual: 1 [ 0.305 0.538 0.097 0.004 0.016 0.040 0.000 ]\n",
        "463 - Predicted: 1 Actual: 1 [ 0.305 0.538 0.097 0.004 0.016 0.040 0.000 ]\n",
        "464 - Predicted: 1 Actual: 1 [ 0.305 0.538 0.097 0.004 0.016 0.040 0.000 ]\n",
        "465 - Predicted: 1 Actual: 1 [ 0.305 0.538 0.097 0.004 0.016 0.040 0.000 ]\n",
        "466 - Predicted: 1 Actual: 0 [ 0.317 0.602 0.024 0.001 0.032 0.024 0.001 ]\n",
        "467 - Predicted: 0 Actual: 0 [ 0.742 0.253 0.000 0.000 0.000 0.000 0.005 ]\n",
        "468 - Predicted: 1 Actual: 2 [ 0.335 0.410 0.180 0.000 0.029 0.045 0.000 ]\n",
        "469 - Predicted: 1 Actual: 0 [ 0.305 0.538 0.097 0.004 0.016 0.040 0.000 ]\n",
        "470"
       ]
      },
      {
       "output_type": "stream",
       "stream": "stdout",
       "text": [
        " - Predicted: 1 Actual: 1 [ 0.086 0.906 0.005 0.000 0.000 0.003 0.001 ]\n",
        "471 - Predicted: 0 Actual: 0 [ 0.991 0.008 0.000 0.000 0.000 0.000 0.000 ]\n",
        "472 - Predicted: 1 Actual: 1 [ 0.267 0.530 0.127 0.004 0.011 0.061 0.000 ]\n",
        "473 - Predicted: 1 Actual: 0 [ 0.293 0.421 0.223 0.000 0.000 0.056 0.006 ]\n",
        "474 - Predicted: 1 Actual: 1 [ 0.276 0.603 0.007 0.000 0.063 0.003 0.047 ]\n",
        "475 - Predicted: 1 Actual: 2 [ 0.258 0.349 0.233 0.001 0.024 0.104 0.031 ]\n",
        "476 - Predicted: 1 Actual: 0 [ 0.267 0.530 0.127 0.004 0.011 0.061 0.000 ]\n",
        "477 - Predicted: 1 Actual: 1 [ 0.268 0.658 0.043 0.001 0.010 0.020 0.001 ]\n",
        "478 - Predicted: 1 Actual: 1 [ 0.487 0.505 0.004 0.000 0.000 0.002 0.001 ]\n",
        "479 - Predicted: 1 Actual: 0 [ 0.439 0.537 0.000 0.000 0.024 0.000 0.000 ]\n",
        "480"
       ]
      },
      {
       "output_type": "stream",
       "stream": "stdout",
       "text": [
        " - Predicted: 1 Actual: 1 [ 0.179 0.771 0.028 0.000 0.007 0.014 0.000 ]\n",
        "481 - Predicted: 0 Actual: 0 [ 0.795 0.202 0.000 0.000 0.002 0.000 0.000 ]\n",
        "482 - Predicted: 1 Actual: 0 [ 0.343 0.546 0.047 0.008 0.020 0.026 0.010 ]\n",
        "483 - Predicted: 0 Actual: 1 [ 0.497 0.454 0.000 0.000 0.000 0.000 0.048 ]\n",
        "484 - Predicted: 1 Actual: 0 [ 0.250 0.509 0.131 0.002 0.012 0.095 0.000 ]\n",
        "485 - Predicted: 1 Actual: 1 [ 0.367 0.382 0.000 0.000 0.000 0.000 0.251 ]\n",
        "486 - Predicted: 1 Actual: 1 [ 0.179 0.771 0.028 0.000 0.007 0.014 0.000 ]\n",
        "487 - Predicted: 1 Actual: 1 [ 0.242 0.452 0.237 0.000 0.005 0.059 0.006 ]\n",
        "488 - Predicted: 1 Actual: 0 [ 0.203 0.796 0.000 0.000 0.000 0.000 0.000 ]\n",
        "489 - Predicted: 1 Actual: 2 [ 0.250 0.509 0.131 0.002 0.012 0.095 0.000 ]\n",
        "490"
       ]
      },
      {
       "output_type": "stream",
       "stream": "stdout",
       "text": [
        " - Predicted: 1 Actual: 0 [ 0.397 0.487 0.050 0.003 0.013 0.024 0.025 ]\n",
        "491 - Predicted: 1 Actual: 0 [ 0.061 0.937 0.000 0.000 0.000 0.000 0.002 ]\n",
        "492 - Predicted: 1 Actual: 2 [ 0.102 0.651 0.095 0.000 0.090 0.061 0.000 ]\n",
        "493 - Predicted: 2 Actual: 1 [ 0.131 0.387 0.397 0.000 0.068 0.016 0.002 ]\n",
        "494 - Predicted: 1 Actual: 1 [ 0.279 0.608 0.046 0.001 0.002 0.065 0.001 ]\n",
        "495 - Predicted: 2 Actual: 1 [ 0.131 0.387 0.397 0.000 0.068 0.016 0.002 ]\n",
        "496 - Predicted: 0 Actual: 0 [ 0.751 0.241 0.000 0.000 0.000 0.000 0.008 ]\n",
        "497 - Predicted: 1 Actual: 1 [ 0.475 0.512 0.008 0.000 0.002 0.004 0.000 ]\n",
        "498 - Predicted: 1 Actual: 1 [ 0.450 0.482 0.018 0.000 0.008 0.010 0.031 ]\n",
        "499 - Predicted: 0 Actual: 0 [ 0.483 0.270 0.124 0.001 0.001 0.093 0.028 ]\n",
        "500"
       ]
      },
      {
       "output_type": "stream",
       "stream": "stdout",
       "text": [
        " - Predicted: 0 Actual: 0 [ 0.531 0.466 0.001 0.000 0.000 0.000 0.001 ]\n",
        "501 - Predicted: 0 Actual: 1 [ 0.534 0.165 0.125 0.001 0.055 0.119 0.000 ]\n",
        "502 - Predicted: 1 Actual: 1 [ 0.363 0.627 0.005 0.000 0.001 0.003 0.000 ]\n",
        "503 - Predicted: 1 Actual: 0 [ 0.358 0.490 0.098 0.000 0.018 0.030 0.006 ]\n",
        "504 - Predicted: 5 Actual: 2 [ 0.091 0.264 0.265 0.004 0.074 0.302 0.000 ]\n",
        "505 - Predicted: 1 Actual: 0 [ 0.399 0.525 0.006 0.000 0.023 0.012 0.035 ]\n",
        "506 - Predicted: 1 Actual: 1 [ 0.399 0.525 0.006 0.000 0.023 0.012 0.035 ]\n",
        "507 - Predicted: 1 Actual: 1 [ 0.324 0.675 0.000 0.000 0.000 0.000 0.000 ]\n",
        "508 - Predicted: 1 Actual: 0 [ 0.423 0.556 0.006 0.000 0.005 0.005 0.005 ]\n",
        "509 - Predicted: 1 Actual: 1 [ 0.436 0.447 0.030 0.001 0.019 0.022 0.045 ]\n",
        "510"
       ]
      },
      {
       "output_type": "stream",
       "stream": "stdout",
       "text": [
        " - Predicted: 1 Actual: 1 [ 0.209 0.736 0.007 0.000 0.000 0.047 0.000 ]\n",
        "511 - Predicted: 1 Actual: 0 [ 0.274 0.645 0.010 0.000 0.000 0.071 0.000 ]\n",
        "512 - Predicted: 1 Actual: 2 [ 0.497 0.502 0.001 0.000 0.000 0.000 0.000 ]\n",
        "513 - Predicted: 1 Actual: 1 [ 0.426 0.573 0.000 0.000 0.000 0.000 0.000 ]\n",
        "514 - Predicted: 1 Actual: 1 [ 0.426 0.573 0.000 0.000 0.000 0.000 0.000 ]\n",
        "515 - Predicted: 1 Actual: 0 [ 0.185 0.631 0.064 0.018 0.050 0.051 0.000 ]\n",
        "516 - Predicted: 1 Actual: 1 [ 0.252 0.608 0.072 0.000 0.017 0.050 0.001 ]\n",
        "517 - Predicted: 1 Actual: 0 [ 0.450 0.494 0.024 0.002 0.006 0.012 0.012 ]\n",
        "518 - Predicted: 1 Actual: 0 [ 0.323 0.674 0.001 0.000 0.001 0.001 0.001 ]\n",
        "519 - Predicted: 0 Actual: 1 [ 0.302 0.243 0.189 0.001 0.083 0.181 0.001 ]\n",
        "520"
       ]
      },
      {
       "output_type": "stream",
       "stream": "stdout",
       "text": [
        " - Predicted: 0 Actual: 1 [ 0.881 0.119 0.000 0.000 0.000 0.000 0.000 ]\n",
        "521 - Predicted: 1 Actual: 2 [ 0.425 0.572 0.001 0.000 0.000 0.001 0.000 ]\n",
        "522 - Predicted: 1 Actual: 0 [ 0.323 0.666 0.000 0.000 0.000 0.000 0.011 ]\n",
        "523 - Predicted: 6 Actual: 1 [ 0.257 0.336 0.001 0.000 0.003 0.000 0.402 ]\n",
        "524 - Predicted: 0 Actual: 1 [ 0.502 0.498 0.000 0.000 0.000 0.000 0.000 ]\n",
        "525 - Predicted: 0 Actual: 0 [ 0.808 0.192 0.000 0.000 0.000 0.000 0.000 ]\n",
        "526 - Predicted: 0 Actual: 1 [ 0.539 0.450 0.002 0.000 0.000 0.010 0.000 ]\n",
        "527 - Predicted: 1 Actual: 1 [ 0.116 0.368 0.281 0.001 0.111 0.113 0.010 ]\n",
        "528 - Predicted: 1 Actual: 0 [ 0.226 0.466 0.194 0.019 0.002 0.092 0.001 ]\n",
        "529 - Predicted: 0 Actual: 0 [ 0.809 0.167 0.002 0.000 0.007 0.004 0.011 ]\n",
        "530"
       ]
      },
      {
       "output_type": "stream",
       "stream": "stdout",
       "text": [
        " - Predicted: 0 Actual: 1 [ 0.518 0.418 0.006 0.000 0.019 0.010 0.028 ]\n",
        "531 - Predicted: 0 Actual: 0 [ 0.944 0.046 0.004 0.000 0.000 0.005 0.000 ]\n",
        "532 - Predicted: 2 Actual: 2 [ 0.114 0.235 0.380 0.111 0.002 0.159 0.000 ]\n",
        "533 - Predicted: 0 Actual: 1 [ 0.655 0.166 0.118 0.005 0.001 0.055 0.000 ]\n",
        "534 - Predicted: 0 Actual: 1 [ 0.470 0.365 0.101 0.000 0.031 0.031 0.002 ]\n",
        "535 - Predicted: 1 Actual: 1 [ 0.455 0.530 0.002 0.000 0.001 0.005 0.008 ]\n",
        "536 - Predicted: 1 Actual: 0 [ 0.223 0.757 0.000 0.000 0.000 0.000 0.021 ]\n",
        "537 - Predicted: 1 Actual: 0 [ 0.409 0.544 0.000 0.000 0.001 0.000 0.045 ]\n",
        "538 - Predicted: 0 Actual: 0 [ 0.684 0.291 0.000 0.000 0.025 0.000 0.000 ]\n",
        "539 - Predicted: 0 Actual: 1 [ 0.783 0.215 0.000 0.000 0.000 0.000 0.002 ]\n",
        "540"
       ]
      },
      {
       "output_type": "stream",
       "stream": "stdout",
       "text": [
        " - Predicted: 0 Actual: 0 [ 0.813 0.184 0.001 0.000 0.001 0.001 0.000 ]\n",
        "541 - Predicted: 1 Actual: 1 [ 0.025 0.975 0.000 0.000 0.000 0.000 0.000 ]\n",
        "542 - Predicted: 0 Actual: 0 [ 0.499 0.450 0.015 0.000 0.001 0.035 0.000 ]\n",
        "543 - Predicted: 1 Actual: 1 [ 0.171 0.828 0.000 0.000 0.000 0.000 0.000 ]\n",
        "544 - Predicted: 1 Actual: 0 [ 0.239 0.743 0.001 0.000 0.001 0.007 0.009 ]\n",
        "545 - Predicted: 1 Actual: 0 [ 0.405 0.594 0.000 0.000 0.000 0.000 0.001 ]\n",
        "546 - Predicted: 0 Actual: 1 [ 0.489 0.447 0.019 0.000 0.001 0.043 0.000 ]\n",
        "547 - Predicted: 1 Actual: 1 [ 0.093 0.892 0.009 0.000 0.002 0.003 0.001 ]\n",
        "548 - Predicted: 1 Actual: 2 [ 0.246 0.742 0.004 0.000 0.000 0.008 0.000 ]\n",
        "549 - Predicted: 1 Actual: 1 [ 0.133 0.831 0.005 0.000 0.002 0.003 0.027 ]\n",
        "550"
       ]
      },
      {
       "output_type": "stream",
       "stream": "stdout",
       "text": [
        " - Predicted: 0 Actual: 1 [ 0.731 0.267 0.000 0.000 0.000 0.000 0.002 ]\n",
        "551 - Predicted: 1 Actual: 0 [ 0.490 0.505 0.001 0.000 0.002 0.000 0.001 ]\n",
        "552 - Predicted: 1 Actual: 0 [ 0.203 0.789 0.000 0.000 0.001 0.000 0.007 ]\n",
        "553 - Predicted: 0 Actual: 0 [ 0.558 0.237 0.112 0.000 0.006 0.049 0.037 ]\n",
        "554 - Predicted: 1 Actual: 0 [ 0.369 0.631 0.000 0.000 0.000 0.000 0.000 ]\n",
        "555 - Predicted: 1 Actual: 1 [ 0.238 0.736 0.003 0.000 0.002 0.000 0.022 ]\n",
        "556 - Predicted: 1 Actual: 1 [ 0.369 0.631 0.000 0.000 0.000 0.000 0.000 ]\n",
        "557 - Predicted: 1 Actual: 1 [ 0.030 0.970 0.000 0.000 0.000 0.000 0.000 ]\n",
        "558 - Predicted: 1 Actual: 1 [ 0.368 0.630 0.000 0.000 0.000 0.001 0.001 ]\n",
        "559 - Predicted: 1 Actual: 2 [ 0.131 0.418 0.211 0.050 0.039 0.138 0.012 ]\n",
        "560"
       ]
      },
      {
       "output_type": "stream",
       "stream": "stdout",
       "text": [
        " - Predicted: 0 Actual: 0 [ 0.728 0.001 0.000 0.000 0.000 0.000 0.271 ]\n",
        "561 - Predicted: 2 Actual: 2 [ 0.011 0.180 0.319 0.167 0.153 0.169 0.000 ]\n",
        "562 - Predicted: 2 Actual: 0 [ 0.218 0.231 0.246 0.078 0.090 0.134 0.002 ]\n",
        "563 - Predicted: 1 Actual: 1 [ 0.315 0.680 0.000 0.000 0.000 0.000 0.005 ]\n",
        "564 - Predicted: 0 Actual: 1 [ 0.848 0.149 0.001 0.000 0.000 0.002 0.000 ]\n",
        "565 - Predicted: 0 Actual: 0 [ 0.655 0.345 0.000 0.000 0.000 0.000 0.000 ]\n",
        "566 - Predicted: 1 Actual: 1 [ 0.104 0.892 0.000 0.000 0.000 0.000 0.004 ]\n",
        "567 - Predicted: 2 Actual: 1 [ 0.253 0.005 0.487 0.003 0.002 0.003 0.247 ]\n",
        "568 - Predicted: 1 Actual: 1 [ 0.040 0.957 0.001 0.000 0.002 0.000 0.001 ]\n",
        "569 - Predicted: 0 Actual: 0 [ 0.735 0.161 0.020 0.002 0.011 0.016 0.055 ]\n",
        "570"
       ]
      },
      {
       "output_type": "stream",
       "stream": "stdout",
       "text": [
        " - Predicted: 0 Actual: 1 [ 0.720 0.249 0.003 0.000 0.003 0.025 0.001 ]\n",
        "571 - Predicted: 0 Actual: 0 [ 0.739 0.256 0.000 0.000 0.005 0.000 0.000 ]\n",
        "572 - Predicted: 0 Actual: 1 [ 0.276 0.226 0.219 0.004 0.135 0.139 0.001 ]\n",
        "573 - Predicted: 0 Actual: 0 [ 0.460 0.435 0.009 0.000 0.000 0.009 0.087 ]\n",
        "574 - Predicted: 0 Actual: 0 [ 0.631 0.346 0.001 0.000 0.003 0.015 0.005 ]\n",
        "575 - Predicted: 1 Actual: 2 [ 0.188 0.272 0.184 0.078 0.053 0.208 0.017 ]\n",
        "576 - Predicted: 0 Actual: 1 [ 0.632 0.346 0.001 0.000 0.002 0.014 0.004 ]\n",
        "577 - Predicted: 0 Actual: 1 [ 0.401 0.281 0.217 0.003 0.047 0.050 0.001 ]\n",
        "578 - Predicted: 1 Actual: 1 [ 0.327 0.349 0.037 0.000 0.000 0.039 0.248 ]\n",
        "579 - Predicted: 1 Actual: 0 [ 0.348 0.348 0.100 0.009 0.097 0.097 0.000 ]\n",
        "580"
       ]
      },
      {
       "output_type": "stream",
       "stream": "stdout",
       "text": [
        " - Predicted: 1 Actual: 1 [ 0.217 0.581 0.062 0.000 0.004 0.062 0.073 ]\n",
        "581 - Predicted: 0 Actual: 1 [ 0.637 0.334 0.002 0.000 0.000 0.007 0.020 ]\n",
        "582 - Predicted: 1 Actual: 0 [ 0.153 0.847 0.000 0.000 0.000 0.000 0.000 ]\n",
        "583 - Predicted: 0 Actual: 1 [ 0.742 0.254 0.004 0.000 0.000 0.000 0.000 ]\n",
        "584 - Predicted: 1 Actual: 0 [ 0.363 0.378 0.023 0.000 0.000 0.024 0.211 ]\n",
        "585 - Predicted: 1 Actual: 0 [ 0.194 0.801 0.003 0.000 0.000 0.001 0.001 ]\n",
        "586 - Predicted: 1 Actual: 1 [ 0.237 0.281 0.041 0.002 0.169 0.103 0.167 ]\n",
        "587 - Predicted: 0 Actual: 1 [ 0.525 0.397 0.004 0.000 0.000 0.004 0.070 ]\n",
        "588 - Predicted: 2 Actual: 2 [ 0.033 0.035 0.828 0.068 0.014 0.021 0.000 ]\n",
        "589 - Predicted: 0 Actual: 0 [ 0.662 0.338 0.000 0.000 0.000 0.000 0.001 ]\n",
        "590"
       ]
      },
      {
       "output_type": "stream",
       "stream": "stdout",
       "text": [
        " - Predicted: 1 Actual: 1 [ 0.289 0.677 0.003 0.000 0.010 0.006 0.015 ]\n",
        "591 - Predicted: 1 Actual: 1 [ 0.426 0.562 0.000 0.000 0.000 0.000 0.012 ]\n",
        "592 - Predicted: 1 Actual: 0 [ 0.414 0.575 0.000 0.000 0.011 0.000 0.000 ]\n",
        "593 - Predicted: 0 Actual: 0 [ 0.655 0.001 0.000 0.000 0.000 0.000 0.344 ]\n",
        "594 - Predicted: 0 Actual: 1 [ 0.602 0.155 0.021 0.001 0.085 0.052 0.084 ]\n",
        "595 - Predicted: 0 Actual: 0 [ 0.660 0.001 0.000 0.000 0.000 0.000 0.339 ]\n",
        "596 - Predicted: 2 Actual: 2 [ 0.063 0.247 0.341 0.037 0.004 0.309 0.000 ]\n",
        "597 - Predicted: 1 Actual: 1 [ 0.072 0.914 0.006 0.000 0.001 0.003 0.003 ]\n",
        "598 - Predicted: 0 Actual: 0 [ 0.661 0.328 0.000 0.000 0.000 0.000 0.010 ]\n",
        "599 - Predicted: 0 Actual: 1 [ 0.403 0.382 0.052 0.033 0.047 0.030 0.053 ]\n",
        "600"
       ]
      },
      {
       "output_type": "stream",
       "stream": "stdout",
       "text": [
        " - Predicted: 0 Actual: 0 [ 0.537 0.388 0.016 0.000 0.005 0.011 0.042 ]\n",
        "601 - Predicted: 1 Actual: 1 [ 0.413 0.426 0.023 0.000 0.000 0.024 0.113 ]\n",
        "602 - Predicted: 6 Actual: 1 [ 0.303 0.257 0.000 0.000 0.000 0.000 0.439 ]\n",
        "603 - Predicted: 1 Actual: 1 [ 0.255 0.604 0.009 0.001 0.001 0.005 0.126 ]\n",
        "604 - Predicted: 2 Actual: 2 [ 0.088 0.154 0.312 0.296 0.060 0.087 0.003 ]\n",
        "605 - Predicted: 1 Actual: 0 [ 0.483 0.486 0.006 0.000 0.014 0.001 0.009 ]\n",
        "606 - Predicted: 0 Actual: 0 [ 0.589 0.353 0.012 0.000 0.004 0.009 0.033 ]\n",
        "607 - Predicted: 0 Actual: 1 [ 0.382 0.289 0.214 0.013 0.049 0.052 0.001 ]\n",
        "608 - Predicted: 1 Actual: 1 [ 0.250 0.442 0.011 0.000 0.262 0.035 0.000 ]\n",
        "609 - Predicted: 1 Actual: 0 [ 0.290 0.318 0.005 0.000 0.188 0.200 0.000 ]\n",
        "610"
       ]
      },
      {
       "output_type": "stream",
       "stream": "stdout",
       "text": [
        " - Predicted: 0 Actual: 0 [ 0.501 0.372 0.065 0.001 0.000 0.061 0.000 ]\n",
        "611 - Predicted: 0 Actual: 1 [ 0.732 0.268 0.000 0.000 0.000 0.000 0.000 ]\n",
        "612 - Predicted: 1 Actual: 1 [ 0.270 0.649 0.006 0.000 0.008 0.014 0.053 ]\n",
        "613 - Predicted: 1 Actual: 1 [ 0.279 0.442 0.019 0.000 0.001 0.259 0.000 ]\n",
        "614 - Predicted: 1 Actual: 0 [ 0.349 0.499 0.040 0.002 0.026 0.030 0.054 ]\n",
        "615 - Predicted: 0 Actual: 1 [ 0.519 0.472 0.000 0.000 0.000 0.000 0.009 ]\n",
        "616 - Predicted: 0 Actual: 0 [ 0.612 0.147 0.021 0.001 0.084 0.052 0.083 ]\n",
        "617 - Predicted: 0 Actual: 0 [ 0.551 0.449 0.000 0.000 0.000 0.000 0.000 ]\n",
        "618 - Predicted: 2 Actual: 2 [ 0.169 0.184 0.400 0.066 0.069 0.108 0.003 ]\n",
        "619 - Predicted: 1 Actual: 1 [ 0.274 0.610 0.018 0.045 0.000 0.052 0.000 ]\n",
        "620"
       ]
      },
      {
       "output_type": "stream",
       "stream": "stdout",
       "text": [
        " - Predicted: 0 Actual: 0 [ 0.777 0.173 0.012 0.000 0.004 0.008 0.026 ]\n",
        "621 - Predicted: 1 Actual: 0 [ 0.237 0.280 0.042 0.002 0.169 0.104 0.167 ]\n",
        "622 - Predicted: 1 Actual: 1 [ 0.312 0.566 0.018 0.000 0.001 0.018 0.085 ]\n",
        "623 - Predicted: 1 Actual: 1 [ 0.017 0.642 0.274 0.008 0.006 0.052 0.000 ]\n",
        "624 - Predicted: 1 Actual: 1 [ 0.168 0.657 0.024 0.000 0.001 0.151 0.000 ]\n",
        "625 - Predicted: 6 Actual: 0 [ 0.452 0.000 0.000 0.000 0.000 0.000 0.548 ]\n",
        "626 - Predicted: 1 Actual: 1 [ 0.085 0.285 0.220 0.023 0.177 0.211 0.000 ]\n",
        "627 - Predicted: 1 Actual: 0 [ 0.247 0.688 0.020 0.000 0.004 0.040 0.001 ]\n",
        "628 - Predicted: 5 Actual: 2 [ 0.100 0.323 0.144 0.006 0.045 0.383 0.000 ]\n",
        "629 - Predicted: 0 Actual: 1 [ 0.474 0.391 0.000 0.000 0.134 0.000 0.001 ]\n",
        "630"
       ]
      },
      {
       "output_type": "stream",
       "stream": "stdout",
       "text": [
        " - Predicted: 0 Actual: 1 [ 0.428 0.361 0.069 0.000 0.069 0.069 0.005 ]\n",
        "631 - Predicted: 1 Actual: 1 [ 0.173 0.676 0.023 0.000 0.002 0.019 0.107 ]\n",
        "632 - Predicted: 1 Actual: 1 [ 0.236 0.564 0.127 0.000 0.072 0.000 0.000 ]\n",
        "633 - Predicted: 0 Actual: 0 [ 0.593 0.001 0.000 0.000 0.000 0.000 0.405 ]\n",
        "634 - Predicted: 0 Actual: 0 [ 0.573 0.377 0.007 0.000 0.000 0.008 0.035 ]\n",
        "635 - Predicted: 0 Actual: 0 [ 0.488 0.353 0.049 0.009 0.085 0.016 0.000 ]\n",
        "636 - Predicted: 2 Actual: 1 [ 0.212 0.291 0.386 0.002 0.032 0.071 0.006 ]\n",
        "637 - Predicted: 1 Actual: 1 [ 0.257 0.672 0.009 0.000 0.004 0.006 0.052 ]\n",
        "638 - Predicted: 1 Actual: 2 [ 0.236 0.685 0.025 0.000 0.001 0.053 0.000 ]\n",
        "639 - Predicted: 0 Actual: 0 [ 0.588 0.378 0.018 0.001 0.001 0.010 0.003 ]\n",
        "640"
       ]
      },
      {
       "output_type": "stream",
       "stream": "stdout",
       "text": [
        " - Predicted: 0 Actual: 1 [ 0.645 0.258 0.014 0.000 0.000 0.015 0.068 ]\n",
        "641 - Predicted: 0 Actual: 1 [ 0.478 0.468 0.041 0.000 0.001 0.012 0.000 ]\n",
        "642 - Predicted: 1 Actual: 0 [ 0.234 0.689 0.001 0.000 0.005 0.001 0.070 ]\n",
        "643 - Predicted: 1 Actual: 2 [ 0.073 0.362 0.261 0.050 0.004 0.251 0.000 ]\n",
        "644 - Predicted: 0 Actual: 0 [ 0.636 0.363 0.000 0.000 0.000 0.000 0.000 ]\n",
        "645 - Predicted: 1 Actual: 1 [ 0.272 0.310 0.215 0.003 0.001 0.197 0.000 ]\n",
        "646 - Predicted: 1 Actual: 1 [ 0.451 0.494 0.024 0.002 0.006 0.011 0.012 ]\n",
        "647 - Predicted: 0 Actual: 1 [ 0.500 0.415 0.009 0.050 0.001 0.026 0.000 ]\n",
        "648 - Predicted: 6 Actual: 0 [ 0.365 0.000 0.000 0.000 0.000 0.000 0.634 ]\n",
        "649 - Predicted: 0 Actual: 0 [ 0.529 0.460 0.000 0.000 0.000 0.000 0.011 ]\n",
        "650"
       ]
      },
      {
       "output_type": "stream",
       "stream": "stdout",
       "text": [
        " - Predicted: 1 Actual: 1 [ 0.186 0.779 0.000 0.000 0.035 0.000 0.000 ]\n",
        "651 - Predicted: 1 Actual: 0 [ 0.238 0.631 0.030 0.000 0.074 0.024 0.003 ]\n",
        "652 - Predicted: 0 Actual: 0 [ 0.764 0.219 0.002 0.000 0.005 0.003 0.007 ]\n",
        "653 - Predicted: 0 Actual: 0 [ 0.589 0.002 0.000 0.000 0.000 0.000 0.409 ]\n",
        "654 - Predicted: 0 Actual: 1 [ 0.620 0.249 0.031 0.000 0.001 0.032 0.067 ]\n",
        "655 - Predicted: 1 Actual: 2 [ 0.223 0.474 0.110 0.021 0.081 0.083 0.008 ]\n",
        "656 - Predicted: 1 Actual: 1 [ 0.236 0.394 0.101 0.018 0.102 0.089 0.060 ]\n",
        "657 - Predicted: 0 Actual: 0 [ 0.352 0.325 0.076 0.015 0.093 0.081 0.057 ]\n",
        "658 - Predicted: 1 Actual: 1 [ 0.220 0.278 0.181 0.003 0.153 0.165 0.001 ]\n",
        "659 - Predicted: 1 Actual: 1 [ 0.254 0.520 0.083 0.017 0.054 0.064 0.008 ]\n",
        "660"
       ]
      },
      {
       "output_type": "stream",
       "stream": "stdout",
       "text": [
        " - Predicted: 0 Actual: 0 [ 0.526 0.442 0.003 0.000 0.000 0.003 0.026 ]\n",
        "661 - Predicted: 1 Actual: 0 [ 0.292 0.545 0.010 0.001 0.001 0.006 0.144 ]\n",
        "662 - Predicted: 2 Actual: 2 [ 0.140 0.177 0.362 0.003 0.093 0.218 0.007 ]\n",
        "663 - Predicted: 1 Actual: 1 [ 0.217 0.467 0.134 0.006 0.075 0.100 0.002 ]\n",
        "664 - Predicted: 0 Actual: 0 [ 0.668 0.220 0.024 0.000 0.023 0.058 0.007 ]\n",
        "665 - Predicted: 1 Actual: 1 [ 0.117 0.452 0.188 0.012 0.046 0.089 0.095 ]\n",
        "666 - Predicted: 0 Actual: 1 [ 0.782 0.202 0.001 0.000 0.000 0.001 0.013 ]\n",
        "667 - Predicted: 0 Actual: 0 [ 0.581 0.278 0.028 0.000 0.026 0.078 0.009 ]\n",
        "668 - Predicted: 1 Actual: 1 [ 0.149 0.848 0.001 0.000 0.000 0.002 0.000 ]\n",
        "669 - Predicted: 1 Actual: 1 [ 0.196 0.734 0.016 0.000 0.000 0.052 0.000 ]\n",
        "670"
       ]
      },
      {
       "output_type": "stream",
       "stream": "stdout",
       "text": [
        " - Predicted: 1 Actual: 0 [ 0.300 0.303 0.215 0.000 0.048 0.048 0.087 ]\n",
        "671 - Predicted: 0 Actual: 0 [ 0.573 0.204 0.144 0.001 0.023 0.051 0.004 ]\n",
        "672 - Predicted: 1 Actual: 1 [ 0.152 0.227 0.210 0.010 0.195 0.205 0.001 ]\n",
        "673 - Predicted: 1 Actual: 0 [ 0.380 0.611 0.001 0.000 0.000 0.002 0.007 ]\n",
        "674 - Predicted: 1 Actual: 1 [ 0.396 0.426 0.045 0.000 0.043 0.042 0.047 ]\n",
        "675 - Predicted: 1 Actual: 1 [ 0.027 0.418 0.265 0.105 0.103 0.082 0.000 ]\n",
        "676 - Predicted: 0 Actual: 0 [ 0.320 0.301 0.059 0.001 0.131 0.077 0.111 ]\n",
        "677 - Predicted: 1 Actual: 1 [ 0.181 0.644 0.000 0.000 0.175 0.000 0.000 ]\n",
        "678 - Predicted: 1 Actual: 1 [ 0.223 0.573 0.002 0.000 0.199 0.001 0.001 ]\n",
        "679 - Predicted: 1 Actual: 2 [ 0.334 0.514 0.047 0.024 0.044 0.030 0.008 ]\n",
        "680"
       ]
      },
      {
       "output_type": "stream",
       "stream": "stdout",
       "text": [
        " - Predicted: 1 Actual: 1 [ 0.148 0.843 0.000 0.000 0.000 0.000 0.008 ]\n",
        "681 - Predicted: 1 Actual: 1 [ 0.241 0.712 0.013 0.000 0.023 0.010 0.001 ]\n",
        "682 - Predicted: 0 Actual: 1 [ 0.707 0.288 0.000 0.000 0.000 0.000 0.004 ]\n",
        "683 - Predicted: 1 Actual: 2 [ 0.249 0.296 0.251 0.001 0.013 0.108 0.082 ]\n",
        "684 - Predicted: 0 Actual: 0 [ 0.828 0.131 0.003 0.000 0.003 0.033 0.001 ]\n",
        "685 - Predicted: 0 Actual: 0 [ 0.898 0.097 0.001 0.000 0.001 0.001 0.003 ]\n",
        "686 - Predicted: 1 Actual: 1 [ 0.400 0.491 0.095 0.003 0.006 0.004 0.001 ]\n",
        "687 - Predicted: 1 Actual: 1 [ 0.238 0.753 0.000 0.000 0.000 0.000 0.010 ]\n",
        "688 - Predicted: 0 Actual: 0 [ 0.670 0.087 0.025 0.017 0.020 0.020 0.161 ]\n",
        "689 - Predicted: 1 Actual: 0 [ 0.169 0.706 0.001 0.000 0.072 0.001 0.051 ]\n",
        "690"
       ]
      },
      {
       "output_type": "stream",
       "stream": "stdout",
       "text": [
        " - Predicted: 0 Actual: 1 [ 0.448 0.310 0.063 0.002 0.019 0.040 0.117 ]\n",
        "691 - Predicted: 0 Actual: 0 [ 0.552 0.380 0.032 0.003 0.009 0.015 0.009 ]\n",
        "692 - Predicted: 5 Actual: 0 [ 0.182 0.201 0.151 0.067 0.093 0.301 0.004 ]\n",
        "693 - Predicted: 0 Actual: 0 [ 0.823 0.068 0.044 0.004 0.041 0.019 0.000 ]\n",
        "694 - Predicted: 1 Actual: 2 [ 0.134 0.268 0.217 0.164 0.014 0.194 0.007 ]\n",
        "695 - Predicted: 1 Actual: 1 [ 0.367 0.446 0.037 0.002 0.015 0.055 0.077 ]\n",
        "696 - Predicted: 1 Actual: 1 [ 0.321 0.453 0.038 0.003 0.138 0.038 0.009 ]\n",
        "697 - Predicted: 1 Actual: 1 [ 0.474 0.497 0.012 0.001 0.004 0.006 0.006 ]\n",
        "698 - Predicted: 0 Actual: 1 [ 0.578 0.329 0.030 0.003 0.010 0.016 0.035 ]\n",
        "699 - Predicted: 0 Actual: 0 [ 0.559 0.360 0.027 0.002 0.008 0.018 0.026 ]\n",
        "700"
       ]
      },
      {
       "output_type": "stream",
       "stream": "stdout",
       "text": [
        " - Predicted: 1 Actual: 0 [ 0.267 0.729 0.002 0.000 0.001 0.001 0.000 ]\n",
        "701 - Predicted: 1 Actual: 1 [ 0.226 0.509 0.087 0.010 0.084 0.084 0.000 ]\n",
        "702 - Predicted: 0 Actual: 1 [ 0.457 0.447 0.021 0.000 0.006 0.014 0.055 ]\n",
        "703 - Predicted: 1 Actual: 1 [ 0.260 0.597 0.008 0.000 0.007 0.056 0.072 ]\n",
        "704 - Predicted: 0 Actual: 0 [ 0.610 0.372 0.000 0.000 0.018 0.000 0.000 ]\n",
        "705 - Predicted: 1 Actual: 2 [ 0.007 0.396 0.288 0.072 0.063 0.174 0.000 ]\n",
        "706 - Predicted: 1 Actual: 1 [ 0.174 0.371 0.117 0.001 0.011 0.325 0.000 ]\n",
        "707 - Predicted: 1 Actual: 0 [ 0.274 0.683 0.017 0.005 0.006 0.015 0.001 ]\n",
        "708 - Predicted: 1 Actual: 1 [ 0.374 0.474 0.083 0.006 0.006 0.047 0.012 ]\n",
        "709 - Predicted: 0 Actual: 0 [ 0.428 0.428 0.144 0.000 0.000 0.000 0.000 ]\n",
        "710"
       ]
      },
      {
       "output_type": "stream",
       "stream": "stdout",
       "text": [
        " - Predicted: 0 Actual: 0 [ 0.538 0.453 0.008 0.000 0.000 0.000 0.001 ]\n",
        "711 - Predicted: 0 Actual: 0 [ 0.858 0.134 0.000 0.000 0.000 0.000 0.008 ]\n",
        "712 - Predicted: 0 Actual: 1 [ 0.375 0.209 0.029 0.002 0.007 0.014 0.365 ]\n",
        "713 - Predicted: 1 Actual: 1 [ 0.156 0.836 0.003 0.000 0.000 0.005 0.000 ]\n",
        "714 - Predicted: 0 Actual: 1 [ 0.459 0.381 0.013 0.000 0.013 0.131 0.003 ]\n",
        "715 - Predicted: 1 Actual: 0 [ 0.179 0.812 0.003 0.000 0.000 0.006 0.000 ]\n",
        "716 - Predicted: 1 Actual: 2 [ 0.130 0.604 0.039 0.002 0.113 0.075 0.037 ]\n",
        "717 - Predicted: 1 Actual: 1 [ 0.255 0.513 0.019 0.000 0.018 0.190 0.004 ]\n",
        "718 - Predicted: 0 Actual: 0 [ 0.642 0.157 0.095 0.002 0.006 0.096 0.001 ]\n",
        "719 - Predicted: 1 Actual: 1 [ 0.286 0.676 0.002 0.000 0.005 0.002 0.029 ]\n",
        "720"
       ]
      },
      {
       "output_type": "stream",
       "stream": "stdout",
       "text": [
        " - Predicted: 1 Actual: 0 [ 0.176 0.754 0.001 0.000 0.000 0.001 0.068 ]\n",
        "721 - Predicted: 0 Actual: 0 [ 0.440 0.434 0.000 0.000 0.001 0.000 0.125 ]\n",
        "722 - Predicted: 1 Actual: 1 [ 0.196 0.786 0.005 0.000 0.008 0.005 0.000 ]\n",
        "723 - Predicted: 1 Actual: 2 [ 0.269 0.719 0.011 0.000 0.001 0.000 0.000 ]\n",
        "724 - Predicted: 1 Actual: 1 [ 0.310 0.531 0.044 0.002 0.038 0.040 0.035 ]\n",
        "725 - Predicted: 1 Actual: 1 [ 0.342 0.559 0.009 0.000 0.057 0.023 0.009 ]\n",
        "726 - Predicted: 1 Actual: 1 [ 0.400 0.491 0.095 0.003 0.006 0.004 0.001 ]\n",
        "727 - Predicted: 6 Actual: 0 [ 0.498 0.000 0.000 0.000 0.000 0.000 0.501 ]\n",
        "728 - Predicted: 1 Actual: 0 [ 0.106 0.894 0.000 0.000 0.000 0.000 0.000 ]\n",
        "729 - Predicted: 2 Actual: 1 [ 0.083 0.215 0.219 0.186 0.204 0.088 0.006 ]\n",
        "730"
       ]
      },
      {
       "output_type": "stream",
       "stream": "stdout",
       "text": [
        " - Predicted: 1 Actual: 1 [ 0.163 0.785 0.001 0.000 0.049 0.001 0.001 ]\n",
        "731 - Predicted: 1 Actual: 0 [ 0.212 0.597 0.000 0.000 0.001 0.000 0.191 ]\n",
        "732 - Predicted: 0 Actual: 0 [ 0.352 0.337 0.083 0.000 0.028 0.054 0.146 ]\n",
        "733 - Predicted: 1 Actual: 1 [ 0.062 0.918 0.004 0.000 0.011 0.004 0.000 ]\n",
        "734 - Predicted: 1 Actual: 0 [ 0.057 0.929 0.002 0.000 0.008 0.003 0.000 ]\n",
        "735 - Predicted: 0 Actual: 0 [ 0.371 0.172 0.061 0.042 0.048 0.049 0.257 ]\n",
        "736 - Predicted: 0 Actual: 2 [ 0.326 0.296 0.101 0.000 0.034 0.066 0.178 ]\n",
        "737 - Predicted: 0 Actual: 1 [ 0.301 0.280 0.231 0.000 0.001 0.139 0.047 ]\n",
        "738 - Predicted: 1 Actual: 1 [ 0.181 0.798 0.009 0.001 0.002 0.004 0.005 ]\n",
        "739 - Predicted: 1 Actual: 1 [ 0.237 0.248 0.222 0.000 0.150 0.010 0.133 ]\n",
        "740"
       ]
      },
      {
       "output_type": "stream",
       "stream": "stdout",
       "text": [
        " - Predicted: 1 Actual: 1 [ 0.246 0.711 0.001 0.000 0.000 0.001 0.041 ]\n",
        "741 - Predicted: 0 Actual: 0 [ 0.786 0.137 0.005 0.001 0.003 0.004 0.065 ]\n",
        "742 - Predicted: 1 Actual: 1 [ 0.281 0.712 0.001 0.000 0.002 0.001 0.003 ]\n",
        "743 - Predicted: 1 Actual: 1 [ 0.177 0.768 0.015 0.001 0.013 0.014 0.012 ]\n",
        "744 - Predicted: 6 Actual: 0 [ 0.470 0.001 0.001 0.000 0.000 0.000 0.528 ]\n",
        "745 - Predicted: 1 Actual: 1 [ 0.031 0.969 0.000 0.000 0.000 0.000 0.000 ]\n",
        "746 - Predicted: 0 Actual: 2 [ 0.439 0.340 0.045 0.000 0.151 0.025 0.000 ]\n",
        "747 - Predicted: 1 Actual: 1 [ 0.265 0.735 0.000 0.000 0.000 0.000 0.000 ]\n",
        "748 - Predicted: 0 Actual: 0 [ 0.513 0.223 0.128 0.000 0.010 0.009 0.117 ]\n",
        "749 - Predicted: 0 Actual: 0 [ 0.232 0.213 0.189 0.175 0.088 0.101 0.001 ]\n",
        "750"
       ]
      },
      {
       "output_type": "stream",
       "stream": "stdout",
       "text": [
        " - Predicted: 1 Actual: 1 [ 0.170 0.268 0.205 0.094 0.127 0.135 0.001 ]\n",
        "751 - Predicted: 1 Actual: 1 [ 0.172 0.272 0.204 0.093 0.125 0.133 0.001 ]\n",
        "752 - Predicted: 1 Actual: 2 [ 0.080 0.395 0.177 0.012 0.041 0.208 0.088 ]\n",
        "753 - Predicted: 0 Actual: 0 [ 0.480 0.311 0.101 0.000 0.005 0.099 0.004 ]\n",
        "754 - Predicted: 1 Actual: 0 [ 0.337 0.342 0.113 0.042 0.020 0.063 0.083 ]\n",
        "755 - Predicted: 1 Actual: 1 [ 0.073 0.406 0.268 0.014 0.018 0.219 0.001 ]\n",
        "756 - Predicted: 0 Actual: 1 [ 0.325 0.063 0.278 0.000 0.293 0.012 0.028 ]\n",
        "757 - Predicted: 0 Actual: 1 [ 0.358 0.310 0.121 0.090 0.034 0.083 0.004 ]\n",
        "758 - Predicted: 1 Actual: 0 [ 0.396 0.439 0.075 0.003 0.042 0.029 0.015 ]\n",
        "759 - Predicted: 1 Actual: 0 [ 0.171 0.270 0.205 0.093 0.127 0.134 0.001 ]\n",
        "760"
       ]
      },
      {
       "output_type": "stream",
       "stream": "stdout",
       "text": [
        " - Predicted: 1 Actual: 1 [ 0.391 0.426 0.061 0.001 0.050 0.014 0.058 ]\n",
        "761 - Predicted: 1 Actual: 1 [ 0.098 0.836 0.021 0.000 0.009 0.003 0.032 ]\n",
        "762 - Predicted: 1 Actual: 1 [ 0.305 0.648 0.012 0.005 0.010 0.019 0.000 ]\n",
        "763 - Predicted: 1 Actual: 2 [ 0.051 0.690 0.116 0.000 0.001 0.115 0.026 ]\n",
        "764 - Predicted: 0 Actual: 0 [ 0.393 0.385 0.013 0.000 0.006 0.005 0.198 ]\n",
        "765 - Predicted: 0 Actual: 0 [ 0.486 0.392 0.023 0.001 0.050 0.010 0.039 ]\n",
        "766 - Predicted: 0 Actual: 0 [ 0.535 0.307 0.017 0.001 0.011 0.008 0.122 ]\n",
        "767 - Predicted: 1 Actual: 1 [ 0.137 0.842 0.003 0.001 0.016 0.001 0.000 ]\n",
        "768 - Predicted: 0 Actual: 0 [ 0.572 0.400 0.000 0.000 0.001 0.000 0.026 ]\n",
        "769 - Predicted: 1 Actual: 1 [ 0.095 0.624 0.004 0.002 0.181 0.094 0.000 ]\n",
        "770"
       ]
      },
      {
       "output_type": "stream",
       "stream": "stdout",
       "text": [
        " - Predicted: 1 Actual: 0 [ 0.326 0.591 0.008 0.002 0.003 0.070 0.000 ]\n",
        "771 - Predicted: 0 Actual: 0 [ 0.464 0.123 0.185 0.006 0.021 0.036 0.164 ]\n",
        "772 - Predicted: 1 Actual: 2 [ 0.178 0.186 0.172 0.106 0.168 0.170 0.021 ]\n",
        "773 - Predicted: 0 Actual: 1 [ 0.464 0.123 0.185 0.006 0.021 0.036 0.164 ]\n",
        "774 - Predicted: 1 Actual: 0 [ 0.280 0.466 0.008 0.001 0.024 0.221 0.000 ]\n",
        "775 - Predicted: 1 Actual: 1 [ 0.060 0.343 0.340 0.001 0.001 0.174 0.082 ]\n",
        "776 - Predicted: 0 Actual: 1 [ 0.486 0.476 0.003 0.000 0.001 0.001 0.034 ]\n",
        "777 - Predicted: 1 Actual: 0 [ 0.128 0.725 0.079 0.004 0.004 0.057 0.003 ]\n",
        "778 - Predicted: 1 Actual: 1 [ 0.235 0.765 0.000 0.000 0.000 0.000 0.000 ]\n",
        "779 - Predicted: 1 Actual: 1 [ 0.092 0.823 0.036 0.000 0.025 0.001 0.022 ]\n",
        "780"
       ]
      },
      {
       "output_type": "stream",
       "stream": "stdout",
       "text": [
        " - Predicted: 0 Actual: 1 [ 0.815 0.174 0.001 0.000 0.007 0.001 0.002 ]\n",
        "781 - Predicted: 1 Actual: 1 [ 0.038 0.801 0.045 0.013 0.018 0.085 0.000 ]\n",
        "782 - Predicted: 1 Actual: 1 [ 0.257 0.721 0.010 0.001 0.003 0.005 0.005 ]\n",
        "783 - Predicted: 0 Actual: 1 [ 0.535 0.281 0.042 0.000 0.047 0.092 0.003 ]\n",
        "784 - Predicted: 0 Actual: 0 [ 0.429 0.384 0.070 0.004 0.027 0.064 0.023 ]\n",
        "785 - Predicted: 1 Actual: 0 [ 0.426 0.521 0.022 0.000 0.000 0.014 0.016 ]\n",
        "786 - Predicted: 1 Actual: 0 [ 0.102 0.739 0.065 0.002 0.036 0.052 0.004 ]\n",
        "787 - Predicted: 1 Actual: 2 [ 0.055 0.365 0.231 0.001 0.129 0.219 0.000 ]\n",
        "788 - Predicted: 1 Actual: 0 [ 0.207 0.759 0.000 0.000 0.000 0.000 0.034 ]\n",
        "789 - Predicted: 1 Actual: 1 [ 0.057 0.932 0.000 0.000 0.011 0.000 0.000 ]\n",
        "790"
       ]
      },
      {
       "output_type": "stream",
       "stream": "stdout",
       "text": [
        " - Predicted: 1 Actual: 1 [ 0.287 0.448 0.091 0.006 0.097 0.044 0.028 ]\n",
        "791 - Predicted: 0 Actual: 0 [ 0.824 0.072 0.044 0.003 0.010 0.043 0.004 ]\n",
        "792 - Predicted: 1 Actual: 0 [ 0.345 0.512 0.037 0.000 0.036 0.000 0.070 ]\n",
        "793 - Predicted: 0 Actual: 1 [ 0.718 0.280 0.001 0.000 0.000 0.001 0.001 ]\n",
        "794 - Predicted: 0 Actual: 0 [ 0.581 0.293 0.013 0.000 0.012 0.099 0.003 ]\n",
        "795 - Predicted: 1 Actual: 1 [ 0.115 0.677 0.057 0.004 0.062 0.080 0.005 ]\n",
        "796 - Predicted: 1 Actual: 0 [ 0.265 0.712 0.010 0.001 0.003 0.005 0.005 ]\n",
        "797 - Predicted: 0 Actual: 1 [ 0.726 0.170 0.044 0.004 0.011 0.021 0.025 ]\n",
        "798 - Predicted: 2 Actual: 2 [ 0.014 0.110 0.608 0.101 0.073 0.095 0.000 ]\n",
        "799 - Predicted: 1 Actual: 1 [ 0.256 0.510 0.020 0.000 0.019 0.191 0.004 ]\n",
        "800"
       ]
      },
      {
       "output_type": "stream",
       "stream": "stdout",
       "text": [
        " - Predicted: 0 Actual: 1 [ 0.498 0.480 0.005 0.000 0.001 0.004 0.012 ]\n",
        "801 - Predicted: 0 Actual: 0 [ 0.794 0.097 0.028 0.012 0.023 0.046 0.000 ]\n",
        "802 - Predicted: 0 Actual: 0 [ 0.563 0.422 0.002 0.000 0.000 0.003 0.009 ]\n",
        "803 - Predicted: 1 Actual: 1 [ 0.289 0.703 0.001 0.000 0.007 0.000 0.001 ]\n",
        "804 - Predicted: 1 Actual: 1 [ 0.349 0.493 0.080 0.000 0.000 0.030 0.047 ]\n",
        "805 - Predicted: 0 Actual: 0 [ 0.947 0.050 0.001 0.000 0.000 0.001 0.001 ]\n",
        "806 - Predicted: 1 Actual: 1 [ 0.281 0.718 0.000 0.000 0.000 0.000 0.000 ]\n",
        "807 - Predicted: 2 Actual: 2 [ 0.103 0.402 0.435 0.026 0.006 0.026 0.000 ]\n",
        "808 - Predicted: 0 Actual: 1 [ 0.628 0.361 0.001 0.000 0.009 0.000 0.001 ]\n",
        "809 - Predicted: 0 Actual: 0 [ 0.497 0.427 0.005 0.000 0.000 0.013 0.058 ]\n",
        "810"
       ]
      },
      {
       "output_type": "stream",
       "stream": "stdout",
       "text": [
        " - Predicted: 1 Actual: 1 [ 0.213 0.716 0.028 0.000 0.026 0.009 0.008 ]\n",
        "811 - Predicted: 1 Actual: 1 [ 0.312 0.526 0.041 0.000 0.038 0.002 0.080 ]\n",
        "812 - Predicted: 1 Actual: 1 [ 0.411 0.587 0.000 0.000 0.001 0.000 0.000 ]\n",
        "813 - Predicted: 1 Actual: 0 [ 0.375 0.515 0.054 0.000 0.000 0.045 0.010 ]\n",
        "814 - Predicted: 2 Actual: 2 [ 0.076 0.058 0.411 0.005 0.044 0.406 0.000 ]\n",
        "815 - Predicted: 1 Actual: 0 [ 0.286 0.316 0.149 0.037 0.042 0.082 0.089 ]\n",
        "816 - Predicted: 0 Actual: 0 [ 0.867 0.091 0.000 0.000 0.000 0.000 0.042 ]\n",
        "817 - Predicted: 1 Actual: 1 [ 0.347 0.356 0.089 0.001 0.098 0.107 0.000 ]\n",
        "818 - Predicted: 1 Actual: 0 [ 0.231 0.755 0.004 0.000 0.002 0.003 0.005 ]\n",
        "819 - Predicted: 1 Actual: 1 [ 0.288 0.669 0.000 0.000 0.042 0.000 0.001 ]\n",
        "820"
       ]
      },
      {
       "output_type": "stream",
       "stream": "stdout",
       "text": [
        " - Predicted: 1 Actual: 0 [ 0.085 0.825 0.049 0.000 0.003 0.022 0.016 ]\n",
        "821 - Predicted: 1 Actual: 0 [ 0.183 0.272 0.175 0.001 0.169 0.171 0.030 ]\n",
        "822 - Predicted: 1 Actual: 1 [ 0.223 0.333 0.118 0.004 0.077 0.089 0.156 ]\n",
        "823 - Predicted: 1 Actual: 0 [ 0.209 0.750 0.000 0.000 0.000 0.000 0.041 ]\n",
        "824 - Predicted: 0 Actual: 1 [ 0.609 0.390 0.000 0.000 0.001 0.000 0.000 ]\n",
        "825 - Predicted: 0 Actual: 1 [ 0.582 0.407 0.001 0.000 0.000 0.002 0.009 ]\n",
        "826 - Predicted: 1 Actual: 0 [ 0.038 0.925 0.002 0.000 0.000 0.001 0.033 ]\n",
        "827 - Predicted: 1 Actual: 1 [ 0.321 0.476 0.050 0.061 0.047 0.044 0.001 ]\n",
        "828 - Predicted: 1 Actual: 2 [ 0.116 0.441 0.155 0.081 0.068 0.081 0.060 ]\n",
        "829 - Predicted: 0 Actual: 1 [ 0.635 0.351 0.002 0.000 0.000 0.003 0.009 ]\n",
        "830"
       ]
      },
      {
       "output_type": "stream",
       "stream": "stdout",
       "text": [
        " - Predicted: 1 Actual: 1 [ 0.282 0.689 0.003 0.000 0.015 0.011 0.000 ]\n",
        "831 - Predicted: 1 Actual: 0 [ 0.428 0.436 0.035 0.000 0.033 0.002 0.067 ]\n",
        "832 - Predicted: 0 Actual: 1 [ 0.512 0.172 0.072 0.000 0.001 0.140 0.102 ]\n",
        "833 - Predicted: 0 Actual: 1 [ 0.554 0.440 0.000 0.000 0.000 0.000 0.006 ]\n",
        "834 - Predicted: 1 Actual: 0 [ 0.407 0.409 0.011 0.000 0.093 0.080 0.001 ]\n",
        "835 - Predicted: 0 Actual: 1 [ 0.560 0.293 0.003 0.000 0.007 0.004 0.133 ]\n",
        "836 - Predicted: 0 Actual: 0 [ 0.428 0.226 0.154 0.000 0.060 0.044 0.088 ]\n",
        "837 - Predicted: 1 Actual: 1 [ 0.270 0.588 0.000 0.000 0.000 0.001 0.141 ]\n",
        "838 - Predicted: 2 Actual: 2 [ 0.318 0.161 0.436 0.000 0.000 0.042 0.042 ]\n",
        "839 - Predicted: 6 Actual: 0 [ 0.149 0.000 0.000 0.000 0.000 0.000 0.851 ]\n",
        "840"
       ]
      },
      {
       "output_type": "stream",
       "stream": "stdout",
       "text": [
        " - Predicted: 1 Actual: 1 [ 0.258 0.560 0.045 0.010 0.088 0.039 0.000 ]\n",
        "841 - Predicted: 0 Actual: 1 [ 0.475 0.357 0.050 0.000 0.025 0.024 0.070 ]\n",
        "842 - Predicted: 1 Actual: 0 [ 0.366 0.624 0.003 0.000 0.002 0.002 0.004 ]\n",
        "843 - Predicted: 6 Actual: 0 [ 0.353 0.000 0.000 0.000 0.000 0.000 0.646 ]\n",
        "844 - Predicted: 2 Actual: 2 [ 0.197 0.249 0.403 0.002 0.022 0.128 0.001 ]\n",
        "845 - Predicted: 1 Actual: 0 [ 0.389 0.467 0.036 0.000 0.036 0.006 0.066 ]\n",
        "846 - Predicted: 1 Actual: 1 [ 0.328 0.333 0.013 0.002 0.315 0.008 0.000 ]\n",
        "847 - Predicted: 1 Actual: 1 [ 0.044 0.603 0.057 0.000 0.000 0.287 0.008 ]\n",
        "848 - Predicted: 0 Actual: 0 [ 0.849 0.124 0.005 0.000 0.012 0.010 0.000 ]\n",
        "849 - Predicted: 0 Actual: 1 [ 0.754 0.133 0.000 0.000 0.113 0.000 0.001 ]\n",
        "850"
       ]
      },
      {
       "output_type": "stream",
       "stream": "stdout",
       "text": [
        " - Predicted: 1 Actual: 1 [ 0.309 0.396 0.052 0.003 0.004 0.029 0.207 ]\n",
        "851 - Predicted: 0 Actual: 0 [ 0.878 0.116 0.001 0.000 0.002 0.001 0.003 ]\n",
        "852 - Predicted: 1 Actual: 0 [ 0.403 0.596 0.000 0.000 0.000 0.000 0.000 ]\n",
        "853 - Predicted: 0 Actual: 0 [ 0.520 0.288 0.056 0.000 0.025 0.031 0.080 ]\n",
        "854 - Predicted: 1 Actual: 0 [ 0.403 0.596 0.000 0.000 0.000 0.000 0.000 ]\n",
        "855 - Predicted: 2 Actual: 2 [ 0.048 0.296 0.397 0.104 0.042 0.113 0.000 ]\n",
        "856 - Predicted: 1 Actual: 1 [ 0.111 0.208 0.170 0.197 0.135 0.176 0.003 ]\n",
        "857 - Predicted: 1 Actual: 1 [ 0.267 0.328 0.127 0.033 0.136 0.109 0.000 ]\n",
        "858 - Predicted: 1 Actual: 1 [ 0.448 0.505 0.020 0.001 0.011 0.015 0.000 ]\n",
        "859 - Predicted: 1 Actual: 1 [ 0.201 0.741 0.008 0.000 0.028 0.022 0.000 ]\n",
        "860"
       ]
      },
      {
       "output_type": "stream",
       "stream": "stdout",
       "text": [
        " - Predicted: 1 Actual: 1 [ 0.216 0.235 0.187 0.002 0.185 0.015 0.159 ]\n",
        "861 - Predicted: 0 Actual: 1 [ 0.564 0.436 0.000 0.000 0.000 0.000 0.000 ]\n",
        "862 - Predicted: 0 Actual: 1 [ 0.681 0.314 0.001 0.000 0.000 0.001 0.004 ]\n",
        "863 - Predicted: 0 Actual: 0 [ 0.437 0.182 0.122 0.092 0.000 0.125 0.043 ]\n",
        "864 - Predicted: 0 Actual: 0 [ 0.565 0.435 0.000 0.000 0.000 0.000 0.000 ]\n",
        "865 - Predicted: 1 Actual: 0 [ 0.397 0.599 0.001 0.000 0.001 0.000 0.002 ]\n",
        "866 - Predicted: 1 Actual: 0 [ 0.404 0.466 0.039 0.007 0.059 0.026 0.000 ]\n",
        "867 - Predicted: 1 Actual: 1 [ 0.096 0.711 0.083 0.000 0.056 0.004 0.050 ]\n",
        "868 - Predicted: 1 Actual: 1 [ 0.116 0.883 0.000 0.000 0.000 0.000 0.000 ]\n",
        "869 - Predicted: 2 Actual: 2 [ 0.065 0.221 0.362 0.142 0.057 0.154 0.000 ]\n",
        "870"
       ]
      },
      {
       "output_type": "stream",
       "stream": "stdout",
       "text": [
        " - Predicted: 0 Actual: 0 [ 0.636 0.138 0.123 0.000 0.007 0.054 0.041 ]\n",
        "871 - Predicted: 1 Actual: 1 [ 0.172 0.563 0.087 0.004 0.056 0.063 0.055 ]\n",
        "872 - Predicted: 1 Actual: 1 [ 0.374 0.613 0.000 0.000 0.000 0.000 0.012 ]\n",
        "873 - Predicted: 1 Actual: 0 [ 0.392 0.608 0.000 0.000 0.000 0.000 0.000 ]\n",
        "874 - Predicted: 0 Actual: 1 [ 0.724 0.264 0.001 0.000 0.000 0.002 0.008 ]\n",
        "875 - Predicted: 1 Actual: 1 [ 0.155 0.433 0.296 0.001 0.018 0.096 0.000 ]\n",
        "876 - Predicted: 1 Actual: 1 [ 0.348 0.561 0.002 0.000 0.009 0.003 0.077 ]\n",
        "877 - Predicted: 1 Actual: 2 [ 0.113 0.384 0.197 0.045 0.001 0.204 0.056 ]\n",
        "878 - Predicted: 0 Actual: 0 [ 0.366 0.134 0.163 0.005 0.092 0.231 0.010 ]\n",
        "879 - Predicted: 1 Actual: 0 [ 0.068 0.707 0.006 0.000 0.205 0.014 0.000 ]\n",
        "880"
       ]
      },
      {
       "output_type": "stream",
       "stream": "stdout",
       "text": [
        " - Predicted: 1 Actual: 1 [ 0.113 0.679 0.097 0.000 0.097 0.001 0.014 ]\n",
        "881 - Predicted: 1 Actual: 1 [ 0.375 0.403 0.037 0.000 0.041 0.070 0.074 ]\n",
        "882 - Predicted: 1 Actual: 0 [ 0.195 0.802 0.000 0.000 0.000 0.000 0.003 ]\n",
        "883 - Predicted: 1 Actual: 2 [ 0.221 0.227 0.193 0.055 0.149 0.153 0.001 ]\n",
        "884 - Predicted: 0 Actual: 0 [ 0.770 0.218 0.005 0.000 0.001 0.002 0.003 ]\n",
        "885 - Predicted: 0 Actual: 0 [ 0.861 0.136 0.000 0.000 0.000 0.001 0.002 ]\n",
        "886 - Predicted: 1 Actual: 1 [ 0.238 0.423 0.072 0.001 0.150 0.026 0.090 ]\n",
        "887 - Predicted: 1 Actual: 1 [ 0.270 0.675 0.018 0.003 0.024 0.008 0.001 ]\n",
        "888 - Predicted: 1 Actual: 1 [ 0.198 0.231 0.157 0.004 0.188 0.221 0.000 ]\n",
        "889 - Predicted: 1 Actual: 0 [ 0.190 0.613 0.000 0.000 0.000 0.000 0.196 ]\n",
        "890"
       ]
      },
      {
       "output_type": "stream",
       "stream": "stdout",
       "text": [
        " - Predicted: 0 Actual: 0 [ 0.561 0.436 0.000 0.000 0.000 0.001 0.002 ]\n",
        "891 - Predicted: 1 Actual: 1 [ 0.216 0.650 0.010 0.000 0.099 0.026 0.000 ]\n",
        "892 - Predicted: 1 Actual: 1 [ 0.329 0.407 0.073 0.003 0.063 0.065 0.059 ]\n",
        "893 - Predicted: 1 Actual: 1 [ 0.279 0.291 0.001 0.000 0.268 0.160 0.000 ]\n",
        "894 - Predicted: 1 Actual: 0 [ 0.450 0.530 0.005 0.000 0.001 0.004 0.009 ]\n",
        "895 - Predicted: 0 Actual: 0 [ 0.843 0.141 0.005 0.000 0.002 0.001 0.007 ]\n",
        "896 - Predicted: 1 Actual: 0 [ 0.220 0.779 0.000 0.000 0.000 0.000 0.001 ]\n",
        "897 - Predicted: 1 Actual: 1 [ 0.097 0.892 0.000 0.000 0.001 0.000 0.010 ]\n",
        "898 - Predicted: 0 Actual: 1 [ 0.677 0.316 0.000 0.000 0.000 0.000 0.007 ]\n",
        "899 - Predicted: 2 Actual: 2 [ 0.000 0.161 0.718 0.042 0.031 0.048 0.000 ]\n",
        "900"
       ]
      },
      {
       "output_type": "stream",
       "stream": "stdout",
       "text": [
        " - Predicted: 1 Actual: 1 [ 0.339 0.639 0.006 0.000 0.004 0.004 0.008 ]\n",
        "901 - Predicted: 1 Actual: 1 [ 0.121 0.538 0.108 0.064 0.065 0.096 0.008 ]\n",
        "902 - Predicted: 1 Actual: 1 [ 0.106 0.837 0.010 0.000 0.029 0.000 0.018 ]\n",
        "903 - Predicted: 0 Actual: 0 [ 0.555 0.386 0.000 0.000 0.003 0.000 0.056 ]\n",
        "904 - Predicted: 1 Actual: 2 [ 0.266 0.324 0.166 0.065 0.031 0.134 0.014 ]\n",
        "905 - Predicted: 1 Actual: 1 [ 0.207 0.393 0.299 0.002 0.005 0.094 0.000 ]\n",
        "906 - Predicted: 0 Actual: 0 [ 0.699 0.296 0.001 0.000 0.001 0.001 0.002 ]\n",
        "907 - Predicted: 0 Actual: 0 [ 0.577 0.416 0.002 0.000 0.001 0.001 0.002 ]\n",
        "908 - Predicted: 1 Actual: 0 [ 0.364 0.627 0.000 0.000 0.000 0.000 0.009 ]\n",
        "909 - Predicted: 1 Actual: 1 [ 0.362 0.369 0.102 0.011 0.041 0.109 0.007 ]\n",
        "910"
       ]
      },
      {
       "output_type": "stream",
       "stream": "stdout",
       "text": [
        " - Predicted: 1 Actual: 0 [ 0.154 0.566 0.012 0.000 0.092 0.167 0.010 ]\n",
        "911 - Predicted: 1 Actual: 1 [ 0.302 0.366 0.000 0.000 0.000 0.000 0.332 ]\n",
        "912 - Predicted: 2 Actual: 2 [ 0.072 0.120 0.486 0.018 0.102 0.201 0.000 ]\n",
        "913 - Predicted: 1 Actual: 0 [ 0.353 0.622 0.002 0.000 0.020 0.000 0.002 ]\n",
        "914 - Predicted: 1 Actual: 1 [ 0.383 0.436 0.085 0.000 0.011 0.053 0.032 ]\n",
        "915 - Predicted: 1 Actual: 0 [ 0.262 0.412 0.206 0.000 0.001 0.119 0.000 ]\n",
        "916 - Predicted: 1 Actual: 0 [ 0.282 0.467 0.013 0.001 0.103 0.135 0.000 ]\n",
        "917 - Predicted: 1 Actual: 1 [ 0.490 0.505 0.000 0.000 0.000 0.001 0.003 ]\n",
        "918 - Predicted: 1 Actual: 1 [ 0.366 0.617 0.003 0.000 0.003 0.000 0.011 ]\n",
        "919 - Predicted: 1 Actual: 1 [ 0.262 0.412 0.206 0.000 0.001 0.119 0.000 ]\n",
        "920"
       ]
      },
      {
       "output_type": "stream",
       "stream": "stdout",
       "text": [
        " - Predicted: 0 Actual: 0 [ 0.587 0.233 0.007 0.000 0.000 0.085 0.088 ]\n",
        "921 - Predicted: 1 Actual: 0 [ 0.103 0.705 0.091 0.000 0.090 0.000 0.010 ]\n",
        "922 - Predicted: 0 Actual: 1 [ 0.473 0.241 0.128 0.000 0.127 0.001 0.030 ]\n",
        "923 - Predicted: 2 Actual: 2 [ 0.000 0.388 0.429 0.047 0.035 0.101 0.000 ]\n",
        "924 - Predicted: 1 Actual: 1 [ 0.190 0.809 0.000 0.000 0.000 0.000 0.000 ]\n",
        "925 - Predicted: 0 Actual: 1 [ 0.472 0.163 0.090 0.013 0.131 0.072 0.059 ]\n",
        "926 - Predicted: 1 Actual: 1 [ 0.403 0.453 0.019 0.000 0.069 0.055 0.000 ]\n",
        "927 - Predicted: 1 Actual: 1 [ 0.222 0.586 0.081 0.000 0.028 0.038 0.044 ]\n",
        "928 - Predicted: 1 Actual: 0 [ 0.356 0.400 0.096 0.000 0.025 0.068 0.054 ]\n",
        "929 - Predicted: 0 Actual: 0 [ 0.515 0.128 0.001 0.000 0.000 0.000 0.356 ]\n",
        "930"
       ]
      },
      {
       "output_type": "stream",
       "stream": "stdout",
       "text": [
        " - Predicted: 2 Actual: 1 [ 0.276 0.180 0.387 0.001 0.039 0.118 0.000 ]\n",
        "931 - Predicted: 1 Actual: 0 [ 0.128 0.323 0.213 0.228 0.049 0.057 0.002 ]\n",
        "932 - Predicted: 1 Actual: 0 [ 0.203 0.212 0.153 0.000 0.141 0.148 0.144 ]\n",
        "933 - Predicted: 1 Actual: 1 [ 0.413 0.417 0.042 0.009 0.060 0.034 0.025 ]\n",
        "934 - Predicted: 0 Actual: 2 [ 0.698 0.299 0.002 0.000 0.001 0.001 0.000 ]\n",
        "935 - Predicted: 1 Actual: 1 [ 0.205 0.780 0.006 0.001 0.004 0.005 0.000 ]\n",
        "936 - Predicted: 0 Actual: 0 [ 0.589 0.312 0.000 0.000 0.005 0.000 0.092 ]\n",
        "937 - Predicted: 1 Actual: 0 [ 0.488 0.512 0.000 0.000 0.000 0.000 0.000 ]\n",
        "938 - Predicted: 1 Actual: 1 [ 0.302 0.602 0.000 0.000 0.005 0.000 0.091 ]\n",
        "939 - Predicted: 2 Actual: 1 [ 0.276 0.180 0.387 0.001 0.039 0.118 0.000 ]\n",
        "940"
       ]
      },
      {
       "output_type": "stream",
       "stream": "stdout",
       "text": [
        " - Predicted: 1 Actual: 1 [ 0.173 0.428 0.308 0.000 0.009 0.082 0.000 ]\n",
        "941 - Predicted: 2 Actual: 2 [ 0.000 0.097 0.809 0.018 0.013 0.063 0.000 ]\n",
        "942 - Predicted: 1 Actual: 1 [ 0.372 0.406 0.058 0.000 0.053 0.003 0.109 ]\n",
        "943 - Predicted: 1 Actual: 1 [ 0.399 0.452 0.077 0.002 0.023 0.047 0.001 ]\n",
        "944 - Predicted: 1 Actual: 1 [ 0.196 0.804 0.000 0.000 0.000 0.000 0.000 ]\n",
        "945 - Predicted: 1 Actual: 0 [ 0.302 0.335 0.116 0.000 0.068 0.096 0.084 ]\n",
        "946 - Predicted: 0 Actual: 0 [ 0.912 0.061 0.000 0.000 0.000 0.000 0.028 ]\n",
        "947 - Predicted: 0 Actual: 0 [ 0.979 0.009 0.000 0.000 0.000 0.000 0.012 ]\n",
        "948 - Predicted: 1 Actual: 1 [ 0.338 0.378 0.103 0.000 0.040 0.078 0.064 ]\n",
        "949 - Predicted: 1 Actual: 0 [ 0.239 0.554 0.112 0.008 0.008 0.064 0.016 ]\n",
        "950"
       ]
      },
      {
       "output_type": "stream",
       "stream": "stdout",
       "text": [
        " - Predicted: 1 Actual: 1 [ 0.455 0.479 0.017 0.000 0.016 0.001 0.032 ]\n",
        "951 - Predicted: 1 Actual: 0 [ 0.468 0.531 0.000 0.000 0.000 0.000 0.001 ]\n",
        "952 - Predicted: 0 Actual: 0 [ 0.582 0.404 0.000 0.000 0.000 0.001 0.013 ]\n",
        "953 - Predicted: 1 Actual: 0 [ 0.267 0.407 0.126 0.031 0.063 0.079 0.026 ]\n",
        "954 - Predicted: 1 Actual: 1 [ 0.403 0.535 0.000 0.000 0.000 0.000 0.062 ]\n",
        "955 - Predicted: 1 Actual: 0 [ 0.378 0.389 0.070 0.000 0.069 0.001 0.092 ]\n",
        "956 - Predicted: 1 Actual: 1 [ 0.275 0.376 0.102 0.024 0.103 0.114 0.007 ]\n",
        "957 - Predicted: 1 Actual: 2 [ 0.172 0.429 0.308 0.000 0.009 0.082 0.000 ]\n",
        "958 - Predicted: 1 Actual: 1 [ 0.310 0.373 0.046 0.002 0.231 0.032 0.006 ]\n",
        "959 - Predicted: 1 Actual: 1 [ 0.287 0.447 0.102 0.027 0.053 0.072 0.012 ]\n",
        "960"
       ]
      },
      {
       "output_type": "stream",
       "stream": "stdout",
       "text": [
        " - Predicted: 1 Actual: 0 [ 0.293 0.323 0.119 0.000 0.075 0.101 0.089 ]\n",
        "961 - Predicted: 0 Actual: 1 [ 0.219 0.201 0.195 0.033 0.139 0.113 0.101 ]\n",
        "962 - Predicted: 2 Actual: 1 [ 0.049 0.337 0.445 0.000 0.002 0.166 0.000 ]\n",
        "963 - Predicted: 1 Actual: 0 [ 0.328 0.640 0.011 0.000 0.004 0.000 0.017 ]\n",
        "964 - Predicted: 1 Actual: 1 [ 0.213 0.299 0.142 0.067 0.100 0.118 0.060 ]\n",
        "965 - Predicted: 1 Actual: 1 [ 0.301 0.699 0.000 0.000 0.000 0.000 0.000 ]\n",
        "966 - Predicted: 0 Actual: 0 [ 0.684 0.174 0.000 0.000 0.141 0.000 0.001 ]\n",
        "967 - Predicted: 1 Actual: 1 [ 0.365 0.459 0.106 0.012 0.006 0.049 0.003 ]\n",
        "968 - Predicted: 0 Actual: 0 [ 0.845 0.082 0.000 0.000 0.073 0.000 0.000 ]\n",
        "969 - Predicted: 1 Actual: 2 [ 0.031 0.718 0.189 0.001 0.000 0.048 0.013 ]\n",
        "970"
       ]
      },
      {
       "output_type": "stream",
       "stream": "stdout",
       "text": [
        " - Predicted: 0 Actual: 0 [ 0.522 0.003 0.003 0.000 0.001 0.001 0.470 ]\n",
        "971 - Predicted: 1 Actual: 1 [ 0.251 0.573 0.106 0.003 0.003 0.064 0.000 ]\n",
        "972 - Predicted: 1 Actual: 2 [ 0.157 0.302 0.192 0.117 0.038 0.191 0.003 ]\n",
        "973 - Predicted: 0 Actual: 0 [ 0.501 0.487 0.004 0.000 0.000 0.002 0.005 ]\n",
        "974 - Predicted: 1 Actual: 1 [ 0.165 0.781 0.002 0.000 0.004 0.001 0.048 ]\n",
        "975 - Predicted: 1 Actual: 1 [ 0.085 0.864 0.004 0.000 0.000 0.002 0.044 ]\n",
        "976 - Predicted: 1 Actual: 1 [ 0.209 0.680 0.027 0.000 0.003 0.021 0.059 ]\n",
        "977 - Predicted: 1 Actual: 0 [ 0.251 0.573 0.106 0.003 0.003 0.064 0.000 ]\n",
        "978 - Predicted: 0 Actual: 0 [ 0.829 0.168 0.001 0.000 0.000 0.001 0.001 ]\n",
        "979 - Predicted: 1 Actual: 1 [ 0.251 0.573 0.106 0.003 0.003 0.064 0.000 ]\n",
        "980"
       ]
      },
      {
       "output_type": "stream",
       "stream": "stdout",
       "text": [
        " - Predicted: 1 Actual: 0 [ 0.105 0.686 0.116 0.000 0.002 0.004 0.086 ]\n",
        "981 - Predicted: 1 Actual: 0 [ 0.374 0.602 0.006 0.000 0.004 0.005 0.009 ]\n",
        "982 - Predicted: 1 Actual: 1 [ 0.273 0.663 0.039 0.004 0.005 0.012 0.003 ]\n",
        "983 - Predicted: 1 Actual: 1 [ 0.457 0.526 0.003 0.000 0.000 0.001 0.013 ]\n",
        "984 - Predicted: 0 Actual: 0 [ 0.522 0.171 0.096 0.005 0.016 0.014 0.175 ]\n",
        "985 - Predicted: 1 Actual: 2 [ 0.145 0.749 0.083 0.011 0.001 0.010 0.001 ]\n",
        "986 - Predicted: 1 Actual: 0 [ 0.332 0.532 0.065 0.004 0.004 0.063 0.000 ]\n",
        "987 - Predicted: 1 Actual: 1 [ 0.112 0.851 0.001 0.000 0.002 0.000 0.033 ]\n",
        "988 - Predicted: 0 Actual: 1 [ 0.952 0.019 0.000 0.000 0.000 0.000 0.028 ]\n",
        "989 - Predicted: 1 Actual: 1 [ 0.336 0.336 0.109 0.004 0.174 0.042 0.000 ]\n",
        "990"
       ]
      },
      {
       "output_type": "stream",
       "stream": "stdout",
       "text": [
        " - Predicted: 1 Actual: 1 [ 0.107 0.343 0.294 0.032 0.050 0.131 0.043 ]\n",
        "991 - Predicted: 1 Actual: 1 [ 0.186 0.812 0.000 0.000 0.000 0.000 0.002 ]\n",
        "992 - Predicted: 2 Actual: 2 [ 0.011 0.111 0.748 0.000 0.001 0.130 0.000 ]\n",
        "993 - Predicted: 0 Actual: 0 [ 0.599 0.399 0.000 0.000 0.000 0.000 0.001 ]\n",
        "994 - Predicted: 1 Actual: 1 [ 0.250 0.554 0.067 0.000 0.000 0.000 0.128 ]\n",
        "995 - Predicted: 1 Actual: 0 [ 0.468 0.481 0.000 0.000 0.000 0.001 0.050 ]\n",
        "996 - Predicted: 1 Actual: 1 [ 0.196 0.527 0.077 0.003 0.066 0.069 0.062 ]\n",
        "997 - Predicted: 1 Actual: 1 [ 0.293 0.433 0.021 0.002 0.001 0.250 0.001 ]\n",
        "998 - Predicted: 0 Actual: 0 [ 0.690 0.103 0.000 0.000 0.000 0.000 0.207 ]\n",
        "999 - Predicted: 1 Actual: 0 [ 0.497 0.502 0.000 0.000 0.000 0.000 0.001 ]\n",
        " "
       ]
      }
     ],
     "prompt_number": 217
    },
    {
     "cell_type": "code",
     "collapsed": false,
     "input": [
      "pd.Series(hits).cumsum().plot() # Predictions over time"
     ],
     "language": "python",
     "metadata": {},
     "outputs": [
      {
       "metadata": {},
       "output_type": "pyout",
       "prompt_number": 218,
       "text": [
        "<matplotlib.axes._subplots.AxesSubplot at 0x7f8127d54a90>"
       ]
      },
      {
       "metadata": {},
       "output_type": "display_data",
       "png": "[encoded data removed]",
       "text": [
        "<matplotlib.figure.Figure at 0x7f8128224c88>"
       ]
      }
     ],
     "prompt_number": 218
    },
    {
     "cell_type": "code",
     "collapsed": false,
     "input": [
      "sum(hits)/len(hits) # Overall accuracy"
     ],
     "language": "python",
     "metadata": {},
     "outputs": [
      {
       "metadata": {},
       "output_type": "pyout",
       "prompt_number": 219,
       "text": [
        "0.58699999999999997"
       ]
      }
     ],
     "prompt_number": 219
    },
    {
     "cell_type": "code",
     "collapsed": false,
     "input": [
      "print(\"calc_discount\", calc_discount.cache_info())\n",
      "print(\"_expected_discount_term1\", _expected_discount_term1.cache_info())\n",
      "print(\"_expected_discount_term2\", _expected_discount_term2.cache_info())\n",
      "for i, tree in enumerate(mf.trees):\n",
      "    print(\"Tree %d posterior cache hits: %d\" % (i, tree._scorer.cache_hits))\n",
      "    print(\"Tree %d posterior cache misses: %d\" % (i, tree._scorer.cache_misses))\n",
      "    print(\"Tree %d posterior cache evictions: %d\" % (i, tree._scorer.cache_evictions))"
     ],
     "language": "python",
     "metadata": {},
     "outputs": [
      {
       "output_type": "stream",
       "stream": "stdout",
       "text": [
        "_expected_discount_term1 CacheInfo(hits=5558, misses=1006, maxsize=100000, currsize=1006)\n",
        "_expected_discount_term2 CacheInfo(hits=314, misses=6250, maxsize=100000, currsize=6250)\n",
        "_expected_discount_term3 CacheInfo(hits=937, misses=13691, maxsize=100000, currsize=13691)\n",
        "Tree 0 posterior cache hits: 58713\n",
        "Tree 0 posterior cache misses: 27395\n",
        "Tree 0 posterior cache evictions: 11199\n"
       ]
      }
     ],
     "prompt_number": 220
    }
   ],
   "metadata": {}
  }
 ]
}