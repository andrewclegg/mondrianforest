{
 "metadata": {
  "name": "",
  "signature": "sha256:01cabc24de86e85c9d0edb08abcdf1017efde77c2e609ea0c633095f3fbd2687"
 },
 "nbformat": 3,
 "nbformat_minor": 0,
 "worksheets": [
  {
   "cells": [
    {
     "cell_type": "markdown",
     "metadata": {},
     "source": [
      "# Mondrian Forests\n",
      "\n",
      "This is a reimplementation of Mondrian Forests as described here:\n",
      "\n",
      "**Mondrian Forests: Efficient Online Random Forests**\n",
      "\n",
      "Balaji Lakshminarayanan, Daniel M. Roy, Yee Whye Teh\n",
      "\n",
      "http://arxiv.org/abs/1406.2673\n",
      "\n",
      "It partly uses code from the original authors' implementation at\n",
      "\n",
      "https://github.com/balajiln/mondrianforest\n",
      "\n",
      "but changes a few things along the way too. Key differences:\n",
      "\n",
      "* Assume FAST_MODE (no log-likelihood) for now\n",
      "* Classification only (they never finished regression)\n",
      "* Always assume we're training incrementally\n",
      "* `data` (an array) refers to one batch, instead of having a single design matrix in memory and indexing it with `train_ids`\n",
      "* `labels` is a vector of class labels for the rows in `data`\n",
      "* We don't assume you'll provide the first batch of training data when initializing a tree, but we do need to know the number of dimensions and number of labels\n",
      "* It works in parallel :-)\n",
      "\n",
      "Perhaps most different of all:\n",
      "\n",
      "We don't keep all the input data, as this won't scale. But this means we can't move existing data down into the new leaf nodes when we split a leaf node.\n",
      "\n",
      "This is the plan: When the tree \"grows\" through randomly splitting a leaf node, keep its existing class frequencies where they are, and only use the two new children for *newly-arriving* data. Then take these into account when calculating the predictive posteriors (appendix A of paper). This is working, but not very well tested yet.\n",
      "\n",
      "Here are my original thoughts on this, that I almost sent to the authors, but decided to try first.\n",
      "\n",
      "```\n",
      "One thing I missed on reading the paper, is that when you bisect a leaf node through a \"grow\" (sampling) operation,\n",
      "you need to assign all its data points to one of the new children.\n",
      "\n",
      "This means you can't just keep summary statistics for the data in a block, i.e. class frequencies. You need to hold\n",
      "on to the raw training data in order to divide it, yes? Which is a problem for online learning over streaming data\n",
      "or just \"big data\" in general.\n",
      "\n",
      "So... Perhaps you could entirely forget about keeping the existing data and propagating it down to the new child\n",
      "nodes. If you just kept class frequencies at each node, maybe you could use these in the \"update posterior counts\"\n",
      "step for internal nodes, alongside the child node counts.\n",
      "\n",
      "(Any data that came in *after* the split would go all the way down to the leaf nodes though.)\n",
      "```\n",
      "\n",
      "For the time being, though, it's using a much simpler scoring system. Walk down the tree until you find the box that the test example would have been in, and go for the majority class. If you don't find a box, or it's empty, walk back up until you find the nearest ancestor with some instances in.\n",
      "\n",
      "Averaged across a few trees, even as few as ~10, this actually does pretty well.\n",
      "\n",
      "## Running this demo\n",
      "\n",
      "If a `default` IPython cluster is available, it runs in parallel automatically, with as many trees in the forest as you have engines in the cluster. Otherwise, it runs in serial on a single core, with 3 trees. See the notes in the third cell.\n",
      "\n",
      "For best results with small forests, use an odd number of trees.\n",
      "\n",
      "## TODO\n",
      "\n",
      "### Must-haves\n",
      "\n",
      "* Types for all numpy arrays\n",
      "* Error checking\n",
      "* Work out exactly what effect `budget` is having\n",
      "* Introspection and prettyprinting tools\n",
      "* Work out which members are \"private\" and rename them with underscores\n",
      "* Proper tests...\n",
      "\n",
      "### Useful features\n",
      "\n",
      "* Allow multiple trees per engine (i.e. each engine runs a forest, not a tree)\n",
      "* Instance subsampling\n",
      "* Feature subsampling/bootstrapping/bagging\n",
      "* Feature hashing/random projection/LSH\n",
      "* Train-on-fail mode\n",
      "* Loss functions, regret, class weighting?\n",
      "\n",
      "### Blue sky\n",
      "\n",
      "* Regression\n",
      "* Clustering? (I mean, it basically *is* clustering, already...)\n",
      "* Semi-supervised would be really easy too\n",
      "* Adaptivity -- non-stationary distributions, recency effects etc.\n",
      "* Auto-pruning/rebalancing -- stop trees either stagnating or growing out of control in the long term\n",
      "* What about when the true number of classes isn't known in advance?\n",
      "\n",
      "The last three are really closely related.\n",
      "\n",
      "We could probably tackle a lot of these problems by \"chopping down\" older trees -- either randomly or according to a heuristic (e.g. least-recently-modified) -- so new ones can grow in their place. Maybe varying the budget and discount values would be useful too.\n",
      "\n",
      "Perhaps you could calculate the posterior class probabilities over the entire 'dead' tree, and use these as the priors for the new tree that will grow in its place.\n",
      "\n",
      "You could also use this kind of approach to tune P/R tradeoff, chase a particular objective function, do reinforcement learning... If you squint, they start to look a little like GAs.\n",
      "\n",
      "* Ontology learning\n",
      "* Grammar induction\n",
      "* Topic modelling\n",
      "\n",
      "Use cases that are fundamentally tree-shaped! Hmmm."
     ]
    },
    {
     "cell_type": "code",
     "collapsed": false,
     "input": [
      "%run 'mondrian.py'\n",
      "\n",
      "import random\n",
      "\n",
      "import numpy as np\n",
      "\n",
      "from IPython.parallel import Client\n",
      "try:\n",
      "    rc = Client()\n",
      "    dview = rc[:]\n",
      "    print('Using default IPython cluster with %d engines' % len(dview))\n",
      "except FileNotFoundError:\n",
      "    rc = None\n",
      "    dview = None\n",
      "    print('Using single-core implementation')\n",
      "\n",
      "DEFAULT_BUDGET = 1000"
     ],
     "language": "python",
     "metadata": {},
     "outputs": [
      {
       "output_type": "stream",
       "stream": "stdout",
       "text": [
        "Using single-core implementation\n"
       ]
      }
     ],
     "prompt_number": 272
    },
    {
     "cell_type": "code",
     "collapsed": false,
     "input": [
      "import pickle\n",
      "import gzip\n",
      "import os\n",
      "import pandas as pd\n",
      "from sklearn import datasets\n",
      "from sklearn import cross_validation as cv\n",
      "\n",
      "# For speed later...\n",
      "test_file = '/home/vagrant/data/covtype.pkl.gz'\n",
      "if os.path.exists(test_file):\n",
      "    with gzip.GzipFile(test_file, 'rb') as z:\n",
      "        dataset = pickle.load(z)\n",
      "else:\n",
      "    dataset = datasets.fetch_covtype() # Can be quite slow\n",
      "    with gzip.GzipFile(test_file, 'wb') as z:\n",
      "        pickle.dump(dataset, z)\n",
      "        \n",
      "dataset.data.shape"
     ],
     "language": "python",
     "metadata": {},
     "outputs": [
      {
       "metadata": {},
       "output_type": "pyout",
       "prompt_number": 215,
       "text": [
        "(581012, 54)"
       ]
      }
     ],
     "prompt_number": 215
    },
    {
     "cell_type": "code",
     "collapsed": false,
     "input": [
      "n_iter = 50\n",
      "test_size = 10\n",
      "folds = cv.StratifiedShuffleSplit(dataset.target, n_iter=n_iter, test_size=test_size, train_size=1000)\n",
      "hits = []\n",
      "\n",
      "data = dataset.data\n",
      "target = dataset.target - 1 # they are 1-indexed\n",
      "\n",
      "if dview is None:\n",
      "    # Run with a single-threaded forest\n",
      "    mf = MondrianForest(11, data.shape[1], len(np.unique(target)), budget=DEFAULT_BUDGET, scoring='nsp')\n",
      "else:\n",
      "    # Run with a parallel forest on IPython cluster\n",
      "    mf = ParallelMondrianForest(dview, data.shape[1], len(np.unique(target)), budget=DEFAULT_BUDGET, scoring='nsp')\n",
      "\n",
      "def run_test():\n",
      "    for i, (train, test) in enumerate(folds):\n",
      "        train_X = data[train]\n",
      "        train_y = target[train]\n",
      "        test_X = data[test]\n",
      "        test_y = target[test]\n",
      "        mf.update(train_X, train_y)\n",
      "        preds = mf.predict(test_X)\n",
      "        yhat = preds.argmax(axis=1)\n",
      "        assert test_y.shape == yhat.shape\n",
      "        for j in range(len(preds)):\n",
      "            idx = (i * test_size) + j\n",
      "            print(idx, '- Predicted:', yhat[j], 'Actual:', test_y[j],\n",
      "                  '[', ' '.join(['%.3f' % x for x in preds[j]]), ']')\n",
      "            hits.append(yhat[j] == test_y[j])\n",
      "\n",
      "%prun run_test()"
     ],
     "language": "python",
     "metadata": {},
     "outputs": [
      {
       "output_type": "stream",
       "stream": "stdout",
       "text": [
        "0 - Predicted: 1 Actual: 0 [ 0.223 0.474 0.127 0.010 0.033 0.061 0.072 ]\n",
        "1 - Predicted: 1 Actual: 1 [ 0.223 0.474 0.127 0.010 0.033 0.061 0.072 ]\n",
        "2 - Predicted: 1 Actual: 0 [ 0.223 0.474 0.127 0.010 0.033 0.061 0.072 ]\n",
        "3 - Predicted: 1 Actual: 1 [ 0.223 0.474 0.127 0.010 0.033 0.061 0.072 ]\n",
        "4 - Predicted: 1 Actual: 0 [ 0.223 0.474 0.127 0.010 0.033 0.061 0.072 ]\n",
        "5 - Predicted: 1 Actual: 2 [ 0.223 0.474 0.127 0.010 0.033 0.061 0.072 ]\n",
        "6 - Predicted: 1 Actual: 1 [ 0.223 0.474 0.127 0.010 0.033 0.061 0.072 ]\n",
        "7 - Predicted: 1 Actual: 1 [ 0.223 0.474 0.127 0.010 0.033 0.061 0.072 ]\n",
        "8 - Predicted: 1 Actual: 0 [ 0.223 0.474 0.127 0.010 0.033 0.061 0.072 ]\n",
        "9 - Predicted: 1 Actual: 1 [ 0.223 0.474 0.127 0.010 0.033 0.061 0.072 ]\n",
        "10"
       ]
      },
      {
       "output_type": "stream",
       "stream": "stdout",
       "text": [
        " - Predicted: 1 Actual: 1 [ 0.304 0.467 0.097 0.006 0.024 0.046 0.056 ]\n",
        "11 - Predicted: 1 Actual: 2 [ 0.277 0.383 0.150 0.010 0.035 0.071 0.074 ]\n",
        "12 - Predicted: 1 Actual: 0 [ 0.268 0.437 0.126 0.008 0.030 0.059 0.071 ]\n",
        "13 - Predicted: 1 Actual: 1 [ 0.279 0.405 0.138 0.009 0.032 0.065 0.072 ]\n",
        "14 - Predicted: 1 Actual: 0 [ 0.323 0.431 0.103 0.007 0.024 0.050 0.062 ]\n",
        "15 - Predicted: 1 Actual: 1 [ 0.268 0.415 0.137 0.009 0.033 0.066 0.073 ]\n",
        "16 - Predicted: 1 Actual: 0 [ 0.268 0.437 0.126 0.008 0.030 0.059 0.071 ]\n",
        "17 - Predicted: 1 Actual: 1 [ 0.350 0.515 0.051 0.003 0.014 0.024 0.043 ]\n",
        "18 - Predicted: 1 Actual: 0 [ 0.259 0.469 0.113 0.007 0.028 0.054 0.070 ]\n",
        "19 - Predicted: 1 Actual: 1 [ 0.259 0.469 0.113 0.007 0.028 0.054 0.070 ]\n",
        "20"
       ]
      },
      {
       "output_type": "stream",
       "stream": "stdout",
       "text": [
        " - Predicted: 1 Actual: 0 [ 0.320 0.362 0.132 0.007 0.038 0.061 0.079 ]\n",
        "21 - Predicted: 1 Actual: 1 [ 0.320 0.362 0.132 0.007 0.038 0.061 0.079 ]\n",
        "22 - Predicted: 1 Actual: 0 [ 0.320 0.362 0.132 0.007 0.038 0.061 0.079 ]\n",
        "23 - Predicted: 2 Actual: 2 [ 0.165 0.282 0.300 0.031 0.024 0.147 0.050 ]\n",
        "24 - Predicted: 1 Actual: 0 [ 0.336 0.351 0.139 0.006 0.042 0.063 0.064 ]\n",
        "25 - Predicted: 1 Actual: 1 [ 0.313 0.473 0.077 0.005 0.022 0.035 0.075 ]\n",
        "26 - Predicted: 1 Actual: 1 [ 0.294 0.394 0.131 0.007 0.036 0.060 0.077 ]\n",
        "27 - Predicted: 1 Actual: 1 [ 0.320 0.362 0.132 0.007 0.038 0.061 0.079 ]\n",
        "28 - Predicted: 0 Actual: 1 [ 0.353 0.351 0.121 0.006 0.035 0.056 0.078 ]\n",
        "29 - Predicted: 1 Actual: 0 [ 0.340 0.346 0.135 0.007 0.038 0.062 0.072 ]\n",
        "30"
       ]
      },
      {
       "output_type": "stream",
       "stream": "stdout",
       "text": [
        " - Predicted: 1 Actual: 1 [ 0.304 0.433 0.107 0.005 0.032 0.051 0.068 ]\n",
        "31 - Predicted: 1 Actual: 1 [ 0.345 0.424 0.095 0.005 0.030 0.045 0.056 ]\n",
        "32 - Predicted: 1 Actual: 0 [ 0.304 0.377 0.148 0.007 0.039 0.063 0.060 ]\n",
        "33 - Predicted: 1 Actual: 2 [ 0.257 0.312 0.241 0.015 0.027 0.106 0.042 ]\n",
        "34 - Predicted: 1 Actual: 1 [ 0.301 0.515 0.060 0.003 0.016 0.028 0.076 ]\n",
        "35 - Predicted: 1 Actual: 1 [ 0.297 0.408 0.124 0.006 0.039 0.060 0.066 ]\n",
        "36 - Predicted: 1 Actual: 1 [ 0.326 0.577 0.025 0.001 0.008 0.012 0.051 ]\n",
        "37 - Predicted: 1 Actual: 0 [ 0.263 0.454 0.122 0.006 0.036 0.058 0.061 ]\n",
        "38 - Predicted: 1 Actual: 0 [ 0.312 0.513 0.054 0.002 0.016 0.026 0.076 ]\n",
        "39 - Predicted: 1 Actual: 0 [ 0.330 0.392 0.110 0.005 0.036 0.052 0.075 ]\n",
        "40"
       ]
      },
      {
       "output_type": "stream",
       "stream": "stdout",
       "text": [
        " - Predicted: 0 Actual: 0 [ 0.477 0.314 0.077 0.004 0.026 0.031 0.072 ]\n",
        "41 - Predicted: 1 Actual: 1 [ 0.367 0.439 0.069 0.003 0.026 0.027 0.069 ]\n",
        "42 - Predicted: 0 Actual: 2 [ 0.377 0.375 0.121 0.005 0.033 0.042 0.046 ]\n",
        "43 - Predicted: 1 Actual: 0 [ 0.268 0.368 0.193 0.012 0.030 0.094 0.035 ]\n",
        "44 - Predicted: 1 Actual: 1 [ 0.342 0.421 0.106 0.005 0.030 0.045 0.050 ]\n",
        "45 - Predicted: 1 Actual: 1 [ 0.343 0.371 0.131 0.007 0.036 0.064 0.049 ]\n",
        "46 - Predicted: 0 Actual: 0 [ 0.434 0.358 0.072 0.003 0.028 0.030 0.076 ]\n",
        "47 - Predicted: 1 Actual: 1 [ 0.348 0.373 0.134 0.006 0.038 0.066 0.035 ]\n",
        "48 - Predicted: 1 Actual: 1 [ 0.375 0.428 0.067 0.003 0.026 0.026 0.076 ]\n",
        "49 - Predicted: 0 Actual: 0 [ 0.425 0.372 0.079 0.004 0.026 0.032 0.062 ]\n",
        "50"
       ]
      },
      {
       "output_type": "stream",
       "stream": "stdout",
       "text": [
        " - Predicted: 0 Actual: 1 [ 0.406 0.368 0.087 0.004 0.036 0.051 0.049 ]\n",
        "51 - Predicted: 0 Actual: 0 [ 0.467 0.374 0.041 0.003 0.015 0.023 0.078 ]\n",
        "52 - Predicted: 0 Actual: 0 [ 0.469 0.327 0.070 0.002 0.028 0.036 0.068 ]\n",
        "53 - Predicted: 1 Actual: 1 [ 0.335 0.390 0.141 0.005 0.035 0.059 0.035 ]\n",
        "54 - Predicted: 0 Actual: 1 [ 0.406 0.368 0.087 0.004 0.036 0.051 0.049 ]\n",
        "55 - Predicted: 1 Actual: 0 [ 0.349 0.575 0.013 0.001 0.004 0.006 0.051 ]\n",
        "56 - Predicted: 0 Actual: 1 [ 0.467 0.329 0.077 0.004 0.026 0.040 0.058 ]\n",
        "57 - Predicted: 0 Actual: 0 [ 0.451 0.448 0.040 0.001 0.013 0.018 0.030 ]\n",
        "58 - Predicted: 1 Actual: 1 [ 0.373 0.382 0.119 0.004 0.036 0.048 0.038 ]\n",
        "59 - Predicted: 2 Actual: 2 [ 0.270 0.245 0.296 0.026 0.017 0.122 0.022 ]\n",
        "60"
       ]
      },
      {
       "output_type": "stream",
       "stream": "stdout",
       "text": [
        " - Predicted: 0 Actual: 1 [ 0.514 0.402 0.020 0.000 0.010 0.006 0.047 ]\n",
        "61 - Predicted: 1 Actual: 2 [ 0.171 0.423 0.261 0.007 0.022 0.110 0.005 ]\n",
        "62 - Predicted: 1 Actual: 1 [ 0.329 0.427 0.130 0.006 0.016 0.074 0.019 ]\n",
        "63 - Predicted: 1 Actual: 0 [ 0.417 0.461 0.050 0.003 0.014 0.034 0.022 ]\n",
        "64 - Predicted: 1 Actual: 0 [ 0.387 0.443 0.063 0.006 0.023 0.028 0.050 ]\n",
        "65 - Predicted: 0 Actual: 0 [ 0.476 0.360 0.040 0.002 0.023 0.016 0.083 ]\n",
        "66 - Predicted: 1 Actual: 0 [ 0.411 0.517 0.009 0.000 0.003 0.004 0.057 ]\n",
        "67 - Predicted: 1 Actual: 1 [ 0.333 0.447 0.078 0.006 0.037 0.047 0.053 ]\n",
        "68 - Predicted: 1 Actual: 1 [ 0.359 0.427 0.070 0.005 0.038 0.044 0.057 ]\n",
        "69 - Predicted: 0 Actual: 1 [ 0.478 0.440 0.028 0.001 0.009 0.010 0.034 ]\n",
        "70"
       ]
      },
      {
       "output_type": "stream",
       "stream": "stdout",
       "text": [
        " - Predicted: 0 Actual: 1 [ 0.619 0.356 0.009 0.001 0.001 0.004 0.011 ]\n",
        "71 - Predicted: 1 Actual: 1 [ 0.314 0.533 0.065 0.002 0.019 0.043 0.025 ]\n",
        "72 - Predicted: 0 Actual: 0 [ 0.526 0.425 0.018 0.001 0.002 0.007 0.020 ]\n",
        "73 - Predicted: 1 Actual: 0 [ 0.443 0.473 0.016 0.001 0.006 0.009 0.051 ]\n",
        "74 - Predicted: 0 Actual: 0 [ 0.628 0.349 0.009 0.001 0.001 0.004 0.008 ]\n",
        "75 - Predicted: 1 Actual: 0 [ 0.436 0.475 0.028 0.000 0.020 0.020 0.022 ]\n",
        "76 - Predicted: 1 Actual: 1 [ 0.197 0.404 0.267 0.015 0.023 0.087 0.008 ]\n",
        "77 - Predicted: 1 Actual: 1 [ 0.441 0.448 0.028 0.001 0.019 0.016 0.046 ]\n",
        "78 - Predicted: 2 Actual: 2 [ 0.158 0.261 0.404 0.022 0.003 0.140 0.012 ]\n",
        "79 - Predicted: 1 Actual: 1 [ 0.127 0.838 0.008 0.001 0.002 0.004 0.021 ]\n",
        "80"
       ]
      },
      {
       "output_type": "stream",
       "stream": "stdout",
       "text": [
        " - Predicted: 1 Actual: 1 [ 0.445 0.474 0.026 0.001 0.009 0.015 0.030 ]\n",
        "81 - Predicted: 1 Actual: 1 [ 0.388 0.558 0.019 0.000 0.013 0.004 0.017 ]\n",
        "82 - Predicted: 0 Actual: 0 [ 0.525 0.390 0.010 0.001 0.014 0.005 0.056 ]\n",
        "83 - Predicted: 0 Actual: 0 [ 0.444 0.406 0.027 0.003 0.057 0.021 0.041 ]\n",
        "84 - Predicted: 1 Actual: 1 [ 0.387 0.532 0.030 0.000 0.017 0.012 0.021 ]\n",
        "85 - Predicted: 1 Actual: 1 [ 0.392 0.502 0.023 0.001 0.029 0.015 0.037 ]\n",
        "86 - Predicted: 0 Actual: 0 [ 0.479 0.450 0.031 0.002 0.010 0.020 0.008 ]\n",
        "87 - Predicted: 0 Actual: 0 [ 0.445 0.424 0.028 0.002 0.045 0.022 0.034 ]\n",
        "88 - Predicted: 1 Actual: 1 [ 0.457 0.469 0.023 0.001 0.011 0.009 0.030 ]\n",
        "89 - Predicted: 2 Actual: 2 [ 0.092 0.209 0.479 0.044 0.006 0.165 0.005 ]\n",
        "90"
       ]
      },
      {
       "output_type": "stream",
       "stream": "stdout",
       "text": [
        " - Predicted: 1 Actual: 0 [ 0.357 0.537 0.031 0.000 0.026 0.028 0.021 ]\n",
        "91 - Predicted: 1 Actual: 1 [ 0.188 0.802 0.001 0.000 0.000 0.000 0.009 ]\n",
        "92 - Predicted: 1 Actual: 1 [ 0.403 0.584 0.005 0.000 0.000 0.005 0.002 ]\n",
        "93 - Predicted: 1 Actual: 0 [ 0.447 0.500 0.003 0.000 0.003 0.001 0.046 ]\n",
        "94 - Predicted: 1 Actual: 1 [ 0.360 0.593 0.012 0.000 0.011 0.004 0.020 ]\n",
        "95 - Predicted: 1 Actual: 2 [ 0.166 0.425 0.248 0.015 0.017 0.121 0.007 ]\n",
        "96 - Predicted: 1 Actual: 0 [ 0.449 0.467 0.030 0.000 0.015 0.015 0.024 ]\n",
        "97 - Predicted: 0 Actual: 1 [ 0.606 0.355 0.014 0.000 0.002 0.005 0.018 ]\n",
        "98 - Predicted: 0 Actual: 0 [ 0.472 0.464 0.003 0.000 0.002 0.003 0.056 ]\n",
        "99 - Predicted: 1 Actual: 1 [ 0.162 0.484 0.212 0.007 0.027 0.106 0.001 ]\n",
        "100"
       ]
      },
      {
       "output_type": "stream",
       "stream": "stdout",
       "text": [
        " - Predicted: 1 Actual: 1 [ 0.174 0.751 0.009 0.001 0.003 0.004 0.057 ]\n",
        "101 - Predicted: 1 Actual: 1 [ 0.337 0.551 0.013 0.001 0.010 0.019 0.069 ]\n",
        "102 - Predicted: 1 Actual: 1 [ 0.346 0.599 0.006 0.000 0.001 0.003 0.045 ]\n",
        "103 - Predicted: 1 Actual: 0 [ 0.274 0.576 0.085 0.003 0.028 0.015 0.019 ]\n",
        "104 - Predicted: 1 Actual: 0 [ 0.414 0.466 0.009 0.001 0.002 0.005 0.104 ]\n",
        "105 - Predicted: 2 Actual: 2 [ 0.129 0.253 0.428 0.030 0.003 0.136 0.019 ]\n",
        "106 - Predicted: 0 Actual: 0 [ 0.514 0.392 0.027 0.002 0.008 0.031 0.026 ]\n",
        "107 - Predicted: 1 Actual: 1 [ 0.256 0.718 0.004 0.000 0.001 0.002 0.018 ]\n",
        "108 - Predicted: 1 Actual: 0 [ 0.382 0.515 0.038 0.002 0.024 0.019 0.020 ]\n",
        "109 - Predicted: 1 Actual: 1 [ 0.082 0.460 0.289 0.027 0.014 0.120 0.007 ]\n",
        "110"
       ]
      },
      {
       "output_type": "stream",
       "stream": "stdout",
       "text": [
        " - Predicted: 1 Actual: 0 [ 0.428 0.477 0.022 0.001 0.006 0.012 0.054 ]\n",
        "111 - Predicted: 1 Actual: 1 [ 0.228 0.449 0.153 0.002 0.098 0.065 0.005 ]\n",
        "112 - Predicted: 1 Actual: 0 [ 0.388 0.478 0.059 0.002 0.030 0.037 0.006 ]\n",
        "113 - Predicted: 0 Actual: 0 [ 0.561 0.375 0.020 0.001 0.008 0.010 0.025 ]\n",
        "114 - Predicted: 1 Actual: 2 [ 0.182 0.437 0.243 0.007 0.018 0.104 0.009 ]\n",
        "115 - Predicted: 1 Actual: 1 [ 0.406 0.520 0.023 0.001 0.006 0.012 0.031 ]\n",
        "116 - Predicted: 1 Actual: 1 [ 0.285 0.628 0.041 0.002 0.010 0.013 0.021 ]\n",
        "117 - Predicted: 0 Actual: 1 [ 0.511 0.391 0.029 0.001 0.009 0.014 0.045 ]\n",
        "118 - Predicted: 1 Actual: 0 [ 0.424 0.472 0.013 0.000 0.004 0.007 0.078 ]\n",
        "119 - Predicted: 1 Actual: 1 [ 0.268 0.647 0.026 0.001 0.006 0.010 0.041 ]\n",
        "120"
       ]
      },
      {
       "output_type": "stream",
       "stream": "stdout",
       "text": [
        " - Predicted: 1 Actual: 0 [ 0.371 0.489 0.054 0.001 0.024 0.043 0.017 ]\n",
        "121 - Predicted: 1 Actual: 1 [ 0.325 0.600 0.023 0.002 0.016 0.014 0.020 ]\n",
        "122 - Predicted: 0 Actual: 0 [ 0.516 0.412 0.023 0.001 0.013 0.012 0.023 ]\n",
        "123 - Predicted: 0 Actual: 0 [ 0.537 0.360 0.020 0.001 0.008 0.009 0.064 ]\n",
        "124 - Predicted: 1 Actual: 1 [ 0.397 0.510 0.032 0.001 0.007 0.020 0.034 ]\n",
        "125 - Predicted: 1 Actual: 1 [ 0.228 0.552 0.116 0.001 0.055 0.037 0.010 ]\n",
        "126 - Predicted: 2 Actual: 2 [ 0.104 0.322 0.400 0.021 0.036 0.114 0.004 ]\n",
        "127 - Predicted: 1 Actual: 1 [ 0.418 0.468 0.054 0.001 0.016 0.021 0.022 ]\n",
        "128 - Predicted: 1 Actual: 1 [ 0.233 0.519 0.090 0.001 0.039 0.057 0.061 ]\n",
        "129 - Predicted: 1 Actual: 0 [ 0.322 0.590 0.038 0.001 0.022 0.014 0.013 ]\n",
        "130"
       ]
      },
      {
       "output_type": "stream",
       "stream": "stdout",
       "text": [
        " - Predicted: 1 Actual: 1 [ 0.241 0.669 0.038 0.001 0.007 0.022 0.023 ]\n",
        "131 - Predicted: 0 Actual: 1 [ 0.496 0.366 0.030 0.001 0.009 0.019 0.078 ]\n",
        "132 - Predicted: 2 Actual: 2 [ 0.109 0.293 0.367 0.029 0.013 0.183 0.006 ]\n",
        "133 - Predicted: 1 Actual: 1 [ 0.250 0.511 0.112 0.005 0.032 0.037 0.052 ]\n",
        "134 - Predicted: 0 Actual: 0 [ 0.365 0.364 0.029 0.001 0.009 0.018 0.214 ]\n",
        "135 - Predicted: 1 Actual: 1 [ 0.163 0.777 0.018 0.000 0.005 0.008 0.029 ]\n",
        "136 - Predicted: 1 Actual: 1 [ 0.250 0.543 0.124 0.005 0.017 0.041 0.019 ]\n",
        "137 - Predicted: 1 Actual: 0 [ 0.407 0.413 0.069 0.003 0.018 0.033 0.058 ]\n",
        "138 - Predicted: 0 Actual: 0 [ 0.455 0.371 0.042 0.001 0.022 0.021 0.088 ]\n",
        "139 - Predicted: 0 Actual: 0 [ 0.518 0.328 0.087 0.003 0.019 0.025 0.021 ]\n",
        "140"
       ]
      },
      {
       "output_type": "stream",
       "stream": "stdout",
       "text": [
        " - Predicted: 1 Actual: 0 [ 0.214 0.757 0.009 0.001 0.002 0.004 0.013 ]\n",
        "141 - Predicted: 1 Actual: 1 [ 0.267 0.576 0.041 0.001 0.031 0.017 0.066 ]\n",
        "142 - Predicted: 1 Actual: 0 [ 0.443 0.492 0.009 0.000 0.009 0.004 0.043 ]\n",
        "143 - Predicted: 1 Actual: 2 [ 0.189 0.526 0.143 0.004 0.054 0.065 0.018 ]\n",
        "144 - Predicted: 1 Actual: 1 [ 0.418 0.563 0.001 0.000 0.002 0.003 0.014 ]\n",
        "145 - Predicted: 1 Actual: 0 [ 0.395 0.415 0.037 0.001 0.060 0.027 0.065 ]\n",
        "146 - Predicted: 1 Actual: 1 [ 0.422 0.541 0.003 0.000 0.008 0.002 0.023 ]\n",
        "147 - Predicted: 1 Actual: 1 [ 0.266 0.585 0.045 0.005 0.035 0.020 0.043 ]\n",
        "148 - Predicted: 1 Actual: 0 [ 0.360 0.532 0.027 0.001 0.017 0.019 0.044 ]\n",
        "149 - Predicted: 1 Actual: 1 [ 0.282 0.568 0.044 0.001 0.045 0.026 0.033 ]\n",
        "150"
       ]
      },
      {
       "output_type": "stream",
       "stream": "stdout",
       "text": [
        " - Predicted: 1 Actual: 1 [ 0.315 0.510 0.031 0.000 0.047 0.047 0.050 ]\n",
        "151 - Predicted: 1 Actual: 1 [ 0.325 0.574 0.027 0.000 0.015 0.019 0.039 ]\n",
        "152 - Predicted: 1 Actual: 1 [ 0.352 0.531 0.013 0.000 0.013 0.008 0.083 ]\n",
        "153 - Predicted: 1 Actual: 1 [ 0.281 0.657 0.021 0.001 0.008 0.009 0.023 ]\n",
        "154 - Predicted: 0 Actual: 1 [ 0.561 0.394 0.000 0.000 0.001 0.000 0.044 ]\n",
        "155 - Predicted: 1 Actual: 0 [ 0.286 0.552 0.057 0.000 0.042 0.039 0.024 ]\n",
        "156 - Predicted: 0 Actual: 0 [ 0.555 0.336 0.013 0.000 0.013 0.008 0.076 ]\n",
        "157 - Predicted: 1 Actual: 0 [ 0.254 0.519 0.051 0.000 0.067 0.053 0.055 ]\n",
        "158 - Predicted: 2 Actual: 2 [ 0.075 0.229 0.425 0.013 0.037 0.218 0.003 ]\n",
        "159 - Predicted: 1 Actual: 0 [ 0.320 0.572 0.031 0.002 0.036 0.018 0.021 ]\n",
        "160"
       ]
      },
      {
       "output_type": "stream",
       "stream": "stdout",
       "text": [
        " - Predicted: 1 Actual: 1 [ 0.400 0.556 0.012 0.000 0.015 0.010 0.007 ]\n",
        "161 - Predicted: 0 Actual: 0 [ 0.647 0.303 0.000 0.000 0.001 0.007 0.042 ]\n",
        "162 - Predicted: 1 Actual: 0 [ 0.261 0.569 0.074 0.000 0.031 0.037 0.028 ]\n",
        "163 - Predicted: 1 Actual: 1 [ 0.301 0.597 0.032 0.000 0.028 0.021 0.021 ]\n",
        "164 - Predicted: 1 Actual: 1 [ 0.409 0.548 0.006 0.000 0.002 0.002 0.033 ]\n",
        "165 - Predicted: 0 Actual: 0 [ 0.532 0.416 0.012 0.000 0.008 0.011 0.022 ]\n",
        "166 - Predicted: 1 Actual: 1 [ 0.293 0.650 0.013 0.000 0.015 0.007 0.022 ]\n",
        "167 - Predicted: 0 Actual: 0 [ 0.550 0.380 0.008 0.000 0.041 0.008 0.013 ]\n",
        "168 - Predicted: 2 Actual: 2 [ 0.073 0.384 0.438 0.005 0.016 0.078 0.005 ]\n",
        "169 - Predicted: 1 Actual: 1 [ 0.140 0.460 0.176 0.031 0.054 0.128 0.010 ]\n",
        "170"
       ]
      },
      {
       "output_type": "stream",
       "stream": "stdout",
       "text": [
        " - Predicted: 0 Actual: 0 [ 0.516 0.392 0.012 0.000 0.022 0.015 0.043 ]\n",
        "171 - Predicted: 0 Actual: 0 [ 0.414 0.356 0.074 0.004 0.063 0.037 0.052 ]\n",
        "172 - Predicted: 0 Actual: 1 [ 0.547 0.378 0.017 0.001 0.018 0.009 0.031 ]\n",
        "173 - Predicted: 1 Actual: 1 [ 0.425 0.535 0.001 0.000 0.003 0.001 0.035 ]\n",
        "174 - Predicted: 1 Actual: 1 [ 0.384 0.511 0.018 0.001 0.003 0.005 0.077 ]\n",
        "175 - Predicted: 1 Actual: 1 [ 0.219 0.708 0.018 0.001 0.013 0.024 0.018 ]\n",
        "176 - Predicted: 1 Actual: 2 [ 0.101 0.352 0.340 0.021 0.019 0.151 0.015 ]\n",
        "177 - Predicted: 1 Actual: 0 [ 0.331 0.457 0.067 0.001 0.064 0.014 0.066 ]\n",
        "178 - Predicted: 1 Actual: 1 [ 0.306 0.615 0.010 0.001 0.039 0.013 0.016 ]\n",
        "179 - Predicted: 0 Actual: 0 [ 0.571 0.383 0.008 0.001 0.007 0.007 0.023 ]\n",
        "180"
       ]
      },
      {
       "output_type": "stream",
       "stream": "stdout",
       "text": [
        " - Predicted: 1 Actual: 1 [ 0.236 0.373 0.183 0.009 0.049 0.110 0.041 ]\n",
        "181 - Predicted: 0 Actual: 0 [ 0.445 0.391 0.029 0.001 0.065 0.026 0.044 ]\n",
        "182 - Predicted: 1 Actual: 1 [ 0.339 0.659 0.000 0.000 0.000 0.000 0.001 ]\n",
        "183 - Predicted: 1 Actual: 1 [ 0.410 0.558 0.007 0.000 0.001 0.003 0.021 ]\n",
        "184 - Predicted: 0 Actual: 0 [ 0.554 0.372 0.002 0.000 0.001 0.001 0.069 ]\n",
        "185 - Predicted: 0 Actual: 0 [ 0.515 0.348 0.026 0.001 0.004 0.008 0.099 ]\n",
        "186 - Predicted: 0 Actual: 1 [ 0.512 0.400 0.017 0.000 0.024 0.007 0.040 ]\n",
        "187 - Predicted: 1 Actual: 1 [ 0.280 0.675 0.008 0.000 0.002 0.004 0.031 ]\n",
        "188 - Predicted: 0 Actual: 0 [ 0.472 0.465 0.015 0.000 0.002 0.001 0.045 ]\n",
        "189 - Predicted: 2 Actual: 2 [ 0.086 0.202 0.403 0.051 0.015 0.240 0.005 ]\n",
        "190"
       ]
      },
      {
       "output_type": "stream",
       "stream": "stdout",
       "text": [
        " - Predicted: 2 Actual: 2 [ 0.161 0.258 0.340 0.035 0.066 0.130 0.010 ]\n",
        "191 - Predicted: 1 Actual: 1 [ 0.353 0.469 0.049 0.000 0.049 0.032 0.047 ]\n",
        "192 - Predicted: 1 Actual: 1 [ 0.409 0.467 0.010 0.000 0.002 0.018 0.095 ]\n",
        "193 - Predicted: 0 Actual: 0 [ 0.502 0.483 0.000 0.000 0.000 0.000 0.015 ]\n",
        "194 - Predicted: 1 Actual: 1 [ 0.346 0.623 0.003 0.000 0.001 0.001 0.026 ]\n",
        "195 - Predicted: 1 Actual: 1 [ 0.222 0.710 0.012 0.000 0.012 0.026 0.017 ]\n",
        "196 - Predicted: 0 Actual: 0 [ 0.531 0.438 0.010 0.002 0.008 0.003 0.008 ]\n",
        "197 - Predicted: 1 Actual: 1 [ 0.189 0.563 0.106 0.012 0.048 0.069 0.013 ]\n",
        "198 - Predicted: 1 Actual: 0 [ 0.382 0.471 0.042 0.001 0.032 0.014 0.058 ]\n",
        "199 - Predicted: 0 Actual: 0 [ 0.436 0.426 0.035 0.013 0.025 0.028 0.037 ]\n",
        "200"
       ]
      },
      {
       "output_type": "stream",
       "stream": "stdout",
       "text": [
        " - Predicted: 0 Actual: 0 [ 0.532 0.289 0.032 0.006 0.022 0.022 0.097 ]\n",
        "201 - Predicted: 1 Actual: 0 [ 0.370 0.480 0.065 0.007 0.028 0.033 0.015 ]\n",
        "202 - Predicted: 1 Actual: 2 [ 0.140 0.369 0.293 0.011 0.054 0.117 0.015 ]\n",
        "203 - Predicted: 1 Actual: 1 [ 0.463 0.469 0.019 0.000 0.009 0.009 0.031 ]\n",
        "204 - Predicted: 0 Actual: 0 [ 0.574 0.362 0.007 0.000 0.006 0.008 0.043 ]\n",
        "205 - Predicted: 1 Actual: 1 [ 0.151 0.829 0.001 0.000 0.000 0.001 0.018 ]\n",
        "206 - Predicted: 1 Actual: 1 [ 0.310 0.546 0.059 0.002 0.039 0.029 0.016 ]\n",
        "207 - Predicted: 0 Actual: 0 [ 0.460 0.421 0.000 0.000 0.000 0.000 0.119 ]\n",
        "208 - Predicted: 1 Actual: 1 [ 0.193 0.550 0.094 0.011 0.054 0.079 0.019 ]\n",
        "209 - Predicted: 1 Actual: 1 [ 0.284 0.563 0.031 0.000 0.017 0.049 0.056 ]\n",
        "210"
       ]
      },
      {
       "output_type": "stream",
       "stream": "stdout",
       "text": [
        " - Predicted: 1 Actual: 1 [ 0.186 0.561 0.088 0.018 0.045 0.060 0.040 ]\n",
        "211 - Predicted: 1 Actual: 1 [ 0.093 0.358 0.330 0.015 0.016 0.178 0.010 ]\n",
        "212 - Predicted: 1 Actual: 2 [ 0.127 0.351 0.312 0.031 0.056 0.113 0.010 ]\n",
        "213 - Predicted: 1 Actual: 0 [ 0.437 0.440 0.022 0.000 0.020 0.011 0.069 ]\n",
        "214 - Predicted: 0 Actual: 0 [ 0.523 0.426 0.013 0.001 0.005 0.014 0.019 ]\n",
        "215 - Predicted: 1 Actual: 1 [ 0.128 0.847 0.005 0.000 0.001 0.002 0.016 ]\n",
        "216 - Predicted: 1 Actual: 1 [ 0.317 0.584 0.015 0.001 0.014 0.008 0.061 ]\n",
        "217 - Predicted: 1 Actual: 0 [ 0.294 0.474 0.085 0.005 0.071 0.067 0.005 ]\n",
        "218 - Predicted: 1 Actual: 0 [ 0.243 0.720 0.001 0.000 0.000 0.000 0.036 ]\n",
        "219 - Predicted: 1 Actual: 1 [ 0.141 0.307 0.305 0.040 0.047 0.152 0.009 ]\n",
        "220"
       ]
      },
      {
       "output_type": "stream",
       "stream": "stdout",
       "text": [
        " - Predicted: 1 Actual: 1 [ 0.083 0.530 0.216 0.009 0.072 0.089 0.001 ]\n",
        "221 - Predicted: 1 Actual: 1 [ 0.222 0.550 0.085 0.000 0.033 0.069 0.041 ]\n",
        "222 - Predicted: 1 Actual: 2 [ 0.157 0.441 0.160 0.025 0.036 0.164 0.018 ]\n",
        "223 - Predicted: 1 Actual: 1 [ 0.406 0.540 0.006 0.000 0.005 0.005 0.038 ]\n",
        "224 - Predicted: 1 Actual: 1 [ 0.317 0.606 0.014 0.001 0.004 0.007 0.051 ]\n",
        "225 - Predicted: 0 Actual: 1 [ 0.574 0.324 0.018 0.000 0.006 0.007 0.070 ]\n",
        "226 - Predicted: 0 Actual: 0 [ 0.610 0.316 0.021 0.001 0.020 0.008 0.024 ]\n",
        "227 - Predicted: 1 Actual: 0 [ 0.419 0.470 0.021 0.003 0.036 0.021 0.030 ]\n",
        "228 - Predicted: 1 Actual: 0 [ 0.291 0.447 0.086 0.003 0.093 0.040 0.040 ]\n",
        "229 - Predicted: 0 Actual: 0 [ 0.566 0.344 0.023 0.001 0.018 0.012 0.036 ]\n",
        "230"
       ]
      },
      {
       "output_type": "stream",
       "stream": "stdout",
       "text": [
        " - Predicted: 1 Actual: 1 [ 0.171 0.795 0.005 0.000 0.001 0.002 0.025 ]\n",
        "231 - Predicted: 0 Actual: 0 [ 0.528 0.299 0.030 0.010 0.011 0.016 0.106 ]\n",
        "232 - Predicted: 1 Actual: 1 [ 0.417 0.499 0.022 0.010 0.013 0.018 0.022 ]\n",
        "233 - Predicted: 0 Actual: 0 [ 0.524 0.312 0.021 0.010 0.022 0.053 0.059 ]\n",
        "234 - Predicted: 2 Actual: 2 [ 0.090 0.201 0.393 0.065 0.026 0.218 0.007 ]\n",
        "235 - Predicted: 1 Actual: 0 [ 0.309 0.624 0.002 0.000 0.006 0.001 0.058 ]\n",
        "236 - Predicted: 1 Actual: 1 [ 0.160 0.411 0.200 0.019 0.042 0.151 0.017 ]\n",
        "237 - Predicted: 1 Actual: 1 [ 0.214 0.529 0.121 0.004 0.050 0.050 0.033 ]\n",
        "238 - Predicted: 0 Actual: 0 [ 0.534 0.355 0.034 0.010 0.014 0.025 0.028 ]\n",
        "239 - Predicted: 0 Actual: 1 [ 0.505 0.351 0.010 0.000 0.016 0.003 0.116 ]\n",
        "240"
       ]
      },
      {
       "output_type": "stream",
       "stream": "stdout",
       "text": [
        " - Predicted: 1 Actual: 0 [ 0.373 0.492 0.025 0.001 0.012 0.011 0.085 ]\n",
        "241 - Predicted: 1 Actual: 1 [ 0.146 0.429 0.246 0.011 0.037 0.130 0.001 ]\n",
        "242 - Predicted: 1 Actual: 1 [ 0.350 0.591 0.015 0.001 0.008 0.006 0.029 ]\n",
        "243 - Predicted: 1 Actual: 1 [ 0.415 0.516 0.016 0.001 0.010 0.006 0.036 ]\n",
        "244 - Predicted: 0 Actual: 0 [ 0.452 0.443 0.012 0.001 0.003 0.006 0.084 ]\n",
        "245 - Predicted: 1 Actual: 0 [ 0.295 0.578 0.022 0.000 0.026 0.014 0.064 ]\n",
        "246 - Predicted: 1 Actual: 1 [ 0.275 0.652 0.012 0.001 0.003 0.006 0.051 ]\n",
        "247 - Predicted: 2 Actual: 2 [ 0.032 0.156 0.460 0.060 0.008 0.284 0.002 ]\n",
        "248 - Predicted: 1 Actual: 1 [ 0.334 0.498 0.056 0.002 0.039 0.030 0.042 ]\n",
        "249 - Predicted: 1 Actual: 0 [ 0.278 0.539 0.032 0.000 0.069 0.034 0.048 ]\n",
        "250"
       ]
      },
      {
       "output_type": "stream",
       "stream": "stdout",
       "text": [
        " - Predicted: 0 Actual: 1 [ 0.445 0.428 0.024 0.007 0.036 0.042 0.019 ]\n",
        "251 - Predicted: 1 Actual: 1 [ 0.388 0.584 0.003 0.000 0.006 0.001 0.018 ]\n",
        "252 - Predicted: 1 Actual: 1 [ 0.349 0.519 0.047 0.004 0.043 0.024 0.014 ]\n",
        "253 - Predicted: 1 Actual: 1 [ 0.301 0.592 0.034 0.002 0.042 0.018 0.011 ]\n",
        "254 - Predicted: 0 Actual: 0 [ 0.517 0.297 0.066 0.018 0.029 0.030 0.043 ]\n",
        "255 - Predicted: 1 Actual: 0 [ 0.438 0.507 0.003 0.000 0.009 0.001 0.042 ]\n",
        "256 - Predicted: 1 Actual: 0 [ 0.443 0.463 0.026 0.006 0.013 0.018 0.030 ]\n",
        "257 - Predicted: 1 Actual: 0 [ 0.404 0.441 0.024 0.000 0.022 0.063 0.046 ]\n",
        "258 - Predicted: 1 Actual: 2 [ 0.145 0.392 0.309 0.038 0.015 0.091 0.009 ]\n",
        "259 - Predicted: 1 Actual: 1 [ 0.325 0.591 0.026 0.000 0.021 0.007 0.030 ]\n",
        "260"
       ]
      },
      {
       "output_type": "stream",
       "stream": "stdout",
       "text": [
        " - Predicted: 0 Actual: 0 [ 0.452 0.448 0.029 0.005 0.016 0.018 0.031 ]\n",
        "261 - Predicted: 0 Actual: 1 [ 0.429 0.415 0.040 0.010 0.050 0.024 0.032 ]\n",
        "262 - Predicted: 0 Actual: 0 [ 0.514 0.341 0.035 0.004 0.013 0.025 0.068 ]\n",
        "263 - Predicted: 0 Actual: 0 [ 0.497 0.383 0.013 0.003 0.014 0.018 0.073 ]\n",
        "264 - Predicted: 2 Actual: 2 [ 0.189 0.299 0.308 0.033 0.023 0.130 0.017 ]\n",
        "265 - Predicted: 1 Actual: 1 [ 0.311 0.471 0.016 0.001 0.017 0.006 0.179 ]\n",
        "266 - Predicted: 1 Actual: 1 [ 0.364 0.526 0.025 0.002 0.009 0.012 0.064 ]\n",
        "267 - Predicted: 1 Actual: 1 [ 0.381 0.541 0.013 0.001 0.007 0.005 0.052 ]\n",
        "268 - Predicted: 1 Actual: 1 [ 0.227 0.716 0.014 0.001 0.013 0.007 0.022 ]\n",
        "269 - Predicted: 0 Actual: 0 [ 0.398 0.375 0.085 0.015 0.042 0.063 0.023 ]\n",
        "270"
       ]
      },
      {
       "output_type": "stream",
       "stream": "stdout",
       "text": [
        " - Predicted: 1 Actual: 1 [ 0.162 0.563 0.075 0.002 0.092 0.069 0.038 ]\n",
        "271 - Predicted: 1 Actual: 2 [ 0.108 0.375 0.258 0.027 0.032 0.179 0.020 ]\n",
        "272 - Predicted: 1 Actual: 1 [ 0.457 0.514 0.010 0.001 0.002 0.004 0.013 ]\n",
        "273 - Predicted: 1 Actual: 0 [ 0.449 0.469 0.002 0.000 0.006 0.002 0.072 ]\n",
        "274 - Predicted: 1 Actual: 1 [ 0.235 0.751 0.001 0.000 0.002 0.001 0.010 ]\n",
        "275 - Predicted: 1 Actual: 0 [ 0.443 0.544 0.000 0.000 0.001 0.000 0.013 ]\n",
        "276 - Predicted: 1 Actual: 0 [ 0.382 0.597 0.004 0.000 0.008 0.002 0.007 ]\n",
        "277 - Predicted: 1 Actual: 1 [ 0.257 0.615 0.031 0.014 0.033 0.027 0.023 ]\n",
        "278 - Predicted: 1 Actual: 1 [ 0.205 0.630 0.026 0.010 0.032 0.064 0.034 ]\n",
        "279 - Predicted: 0 Actual: 0 [ 0.468 0.459 0.001 0.000 0.001 0.001 0.070 ]\n",
        "280"
       ]
      },
      {
       "output_type": "stream",
       "stream": "stdout",
       "text": [
        " - Predicted: 1 Actual: 1 [ 0.317 0.427 0.096 0.015 0.039 0.076 0.030 ]\n",
        "281 - Predicted: 1 Actual: 1 [ 0.197 0.440 0.139 0.021 0.133 0.063 0.008 ]\n",
        "282 - Predicted: 0 Actual: 0 [ 0.540 0.393 0.010 0.007 0.008 0.014 0.028 ]\n",
        "283 - Predicted: 1 Actual: 1 [ 0.339 0.443 0.066 0.014 0.027 0.055 0.057 ]\n",
        "284 - Predicted: 0 Actual: 1 [ 0.452 0.415 0.027 0.007 0.016 0.023 0.061 ]\n",
        "285 - Predicted: 0 Actual: 0 [ 0.500 0.372 0.011 0.006 0.012 0.017 0.082 ]\n",
        "286 - Predicted: 0 Actual: 0 [ 0.530 0.318 0.038 0.008 0.028 0.038 0.041 ]\n",
        "287 - Predicted: 1 Actual: 1 [ 0.309 0.449 0.050 0.011 0.054 0.089 0.038 ]\n",
        "288 - Predicted: 0 Actual: 0 [ 0.448 0.402 0.008 0.006 0.010 0.015 0.111 ]\n",
        "289 - Predicted: 2 Actual: 2 [ 0.054 0.216 0.314 0.063 0.037 0.305 0.011 ]\n",
        "290"
       ]
      },
      {
       "output_type": "stream",
       "stream": "stdout",
       "text": [
        " - Predicted: 1 Actual: 0 [ 0.384 0.481 0.050 0.011 0.012 0.027 0.034 ]\n",
        "291 - Predicted: 1 Actual: 1 [ 0.087 0.343 0.267 0.030 0.033 0.228 0.011 ]\n",
        "292 - Predicted: 1 Actual: 2 [ 0.222 0.447 0.116 0.019 0.054 0.119 0.024 ]\n",
        "293 - Predicted: 0 Actual: 0 [ 0.459 0.438 0.014 0.005 0.010 0.020 0.054 ]\n",
        "294 - Predicted: 1 Actual: 1 [ 0.276 0.471 0.084 0.011 0.091 0.041 0.025 ]\n",
        "295 - Predicted: 1 Actual: 1 [ 0.196 0.453 0.163 0.016 0.047 0.098 0.028 ]\n",
        "296 - Predicted: 1 Actual: 1 [ 0.251 0.667 0.012 0.011 0.012 0.023 0.025 ]\n",
        "297 - Predicted: 1 Actual: 0 [ 0.419 0.489 0.014 0.009 0.024 0.023 0.022 ]\n",
        "298 - Predicted: 0 Actual: 1 [ 0.438 0.428 0.030 0.006 0.017 0.015 0.065 ]\n",
        "299 - Predicted: 1 Actual: 0 [ 0.278 0.597 0.028 0.012 0.033 0.030 0.022 ]\n",
        "300"
       ]
      },
      {
       "output_type": "stream",
       "stream": "stdout",
       "text": [
        " - Predicted: 1 Actual: 1 [ 0.240 0.741 0.003 0.000 0.001 0.001 0.014 ]\n",
        "301 - Predicted: 0 Actual: 1 [ 0.593 0.362 0.007 0.000 0.006 0.013 0.018 ]\n",
        "302 - Predicted: 1 Actual: 1 [ 0.235 0.687 0.014 0.000 0.010 0.020 0.034 ]\n",
        "303 - Predicted: 1 Actual: 0 [ 0.226 0.607 0.078 0.001 0.027 0.040 0.019 ]\n",
        "304 - Predicted: 0 Actual: 0 [ 0.443 0.419 0.045 0.009 0.010 0.026 0.049 ]\n",
        "305 - Predicted: 1 Actual: 1 [ 0.307 0.677 0.001 0.000 0.008 0.001 0.006 ]\n",
        "306 - Predicted: 0 Actual: 0 [ 0.602 0.249 0.016 0.011 0.015 0.018 0.089 ]\n",
        "307 - Predicted: 1 Actual: 1 [ 0.273 0.682 0.011 0.001 0.008 0.005 0.021 ]\n",
        "308 - Predicted: 1 Actual: 2 [ 0.145 0.389 0.247 0.020 0.017 0.177 0.005 ]\n",
        "309 - Predicted: 1 Actual: 0 [ 0.238 0.725 0.006 0.001 0.002 0.003 0.025 ]\n",
        "310"
       ]
      },
      {
       "output_type": "stream",
       "stream": "stdout",
       "text": [
        " - Predicted: 0 Actual: 0 [ 0.512 0.289 0.038 0.012 0.023 0.042 0.084 ]\n",
        "311 - Predicted: 1 Actual: 1 [ 0.342 0.436 0.047 0.011 0.047 0.049 0.069 ]\n",
        "312 - Predicted: 1 Actual: 1 [ 0.411 0.514 0.014 0.000 0.025 0.015 0.021 ]\n",
        "313 - Predicted: 1 Actual: 0 [ 0.447 0.492 0.007 0.000 0.011 0.002 0.040 ]\n",
        "314 - Predicted: 1 Actual: 0 [ 0.349 0.539 0.030 0.000 0.035 0.027 0.019 ]\n",
        "315 - Predicted: 2 Actual: 2 [ 0.086 0.156 0.476 0.098 0.028 0.143 0.013 ]\n",
        "316 - Predicted: 0 Actual: 0 [ 0.643 0.256 0.005 0.000 0.003 0.009 0.084 ]\n",
        "317 - Predicted: 1 Actual: 1 [ 0.329 0.556 0.026 0.001 0.047 0.005 0.037 ]\n",
        "318 - Predicted: 1 Actual: 1 [ 0.230 0.544 0.066 0.015 0.055 0.064 0.025 ]\n",
        "319 - Predicted: 1 Actual: 1 [ 0.189 0.592 0.076 0.007 0.064 0.046 0.025 ]\n",
        "320"
       ]
      },
      {
       "output_type": "stream",
       "stream": "stdout",
       "text": [
        " - Predicted: 1 Actual: 1 [ 0.353 0.461 0.072 0.000 0.048 0.031 0.035 ]\n",
        "321 - Predicted: 0 Actual: 0 [ 0.530 0.431 0.004 0.000 0.006 0.002 0.027 ]\n",
        "322 - Predicted: 0 Actual: 0 [ 0.653 0.240 0.009 0.000 0.015 0.003 0.080 ]\n",
        "323 - Predicted: 0 Actual: 0 [ 0.485 0.453 0.020 0.001 0.021 0.011 0.009 ]\n",
        "324 - Predicted: 1 Actual: 0 [ 0.313 0.543 0.065 0.003 0.030 0.043 0.004 ]\n",
        "325 - Predicted: 2 Actual: 2 [ 0.034 0.127 0.478 0.114 0.005 0.240 0.002 ]\n",
        "326 - Predicted: 1 Actual: 1 [ 0.445 0.508 0.011 0.000 0.004 0.000 0.031 ]\n",
        "327 - Predicted: 1 Actual: 1 [ 0.379 0.506 0.051 0.000 0.002 0.005 0.057 ]\n",
        "328 - Predicted: 1 Actual: 1 [ 0.189 0.546 0.118 0.001 0.032 0.083 0.031 ]\n",
        "329 - Predicted: 1 Actual: 1 [ 0.268 0.479 0.063 0.000 0.119 0.023 0.048 ]\n",
        "330"
       ]
      },
      {
       "output_type": "stream",
       "stream": "stdout",
       "text": [
        " - Predicted: 1 Actual: 1 [ 0.311 0.505 0.106 0.000 0.039 0.017 0.023 ]\n",
        "331 - Predicted: 1 Actual: 1 [ 0.220 0.523 0.099 0.001 0.059 0.075 0.024 ]\n",
        "332 - Predicted: 1 Actual: 0 [ 0.408 0.536 0.005 0.000 0.003 0.001 0.047 ]\n",
        "333 - Predicted: 0 Actual: 0 [ 0.539 0.442 0.000 0.000 0.000 0.000 0.018 ]\n",
        "334 - Predicted: 1 Actual: 0 [ 0.225 0.747 0.000 0.000 0.002 0.000 0.025 ]\n",
        "335 - Predicted: 1 Actual: 1 [ 0.321 0.411 0.147 0.002 0.015 0.072 0.032 ]\n",
        "336 - Predicted: 1 Actual: 1 [ 0.305 0.619 0.017 0.000 0.017 0.006 0.036 ]\n",
        "337 - Predicted: 0 Actual: 0 [ 0.513 0.421 0.007 0.000 0.001 0.001 0.057 ]\n",
        "338 - Predicted: 1 Actual: 1 [ 0.287 0.502 0.086 0.018 0.042 0.046 0.021 ]\n",
        "339 - Predicted: 2 Actual: 2 [ 0.099 0.205 0.418 0.041 0.029 0.193 0.014 ]\n",
        "340"
       ]
      },
      {
       "output_type": "stream",
       "stream": "stdout",
       "text": [
        " - Predicted: 1 Actual: 1 [ 0.181 0.768 0.008 0.001 0.008 0.004 0.030 ]\n",
        "341 - Predicted: 1 Actual: 1 [ 0.280 0.491 0.084 0.005 0.075 0.044 0.019 ]\n",
        "342 - Predicted: 0 Actual: 0 [ 0.519 0.340 0.021 0.000 0.010 0.005 0.105 ]\n",
        "343 - Predicted: 1 Actual: 1 [ 0.409 0.494 0.020 0.001 0.018 0.011 0.047 ]\n",
        "344 - Predicted: 0 Actual: 0 [ 0.513 0.429 0.014 0.000 0.008 0.003 0.033 ]\n",
        "345 - Predicted: 1 Actual: 1 [ 0.298 0.594 0.034 0.004 0.039 0.028 0.003 ]\n",
        "346 - Predicted: 1 Actual: 1 [ 0.305 0.496 0.084 0.000 0.046 0.026 0.042 ]\n",
        "347 - Predicted: 0 Actual: 0 [ 0.647 0.265 0.009 0.000 0.007 0.002 0.069 ]\n",
        "348 - Predicted: 2 Actual: 2 [ 0.106 0.185 0.347 0.051 0.026 0.270 0.015 ]\n",
        "349 - Predicted: 0 Actual: 0 [ 0.592 0.305 0.018 0.000 0.008 0.015 0.061 ]\n",
        "350"
       ]
      },
      {
       "output_type": "stream",
       "stream": "stdout",
       "text": [
        " - Predicted: 1 Actual: 0 [ 0.245 0.709 0.002 0.000 0.003 0.001 0.041 ]\n",
        "351 - Predicted: 1 Actual: 1 [ 0.223 0.605 0.052 0.005 0.062 0.046 0.008 ]\n",
        "352 - Predicted: 1 Actual: 1 [ 0.245 0.714 0.003 0.000 0.004 0.001 0.032 ]\n",
        "353 - Predicted: 0 Actual: 0 [ 0.644 0.300 0.002 0.000 0.008 0.001 0.045 ]\n",
        "354 - Predicted: 0 Actual: 1 [ 0.444 0.431 0.006 0.000 0.005 0.003 0.111 ]\n",
        "355 - Predicted: 1 Actual: 1 [ 0.429 0.524 0.006 0.000 0.007 0.002 0.032 ]\n",
        "356 - Predicted: 1 Actual: 1 [ 0.274 0.610 0.031 0.000 0.020 0.014 0.051 ]\n",
        "357 - Predicted: 0 Actual: 0 [ 0.455 0.375 0.043 0.007 0.037 0.023 0.060 ]\n",
        "358 - Predicted: 0 Actual: 0 [ 0.631 0.316 0.013 0.001 0.004 0.006 0.029 ]\n",
        "359 - Predicted: 1 Actual: 2 [ 0.066 0.357 0.246 0.039 0.040 0.248 0.003 ]\n",
        "360"
       ]
      },
      {
       "output_type": "stream",
       "stream": "stdout",
       "text": [
        " - Predicted: 0 Actual: 0 [ 0.521 0.356 0.007 0.000 0.008 0.006 0.102 ]\n",
        "361 - Predicted: 2 Actual: 2 [ 0.049 0.327 0.366 0.024 0.028 0.206 0.000 ]\n",
        "362 - Predicted: 1 Actual: 0 [ 0.293 0.668 0.004 0.000 0.010 0.004 0.021 ]\n",
        "363 - Predicted: 1 Actual: 1 [ 0.385 0.548 0.007 0.006 0.024 0.006 0.024 ]\n",
        "364 - Predicted: 0 Actual: 1 [ 0.433 0.365 0.041 0.000 0.068 0.015 0.077 ]\n",
        "365 - Predicted: 0 Actual: 0 [ 0.457 0.416 0.039 0.003 0.029 0.007 0.049 ]\n",
        "366 - Predicted: 1 Actual: 1 [ 0.267 0.559 0.060 0.002 0.038 0.044 0.032 ]\n",
        "367 - Predicted: 0 Actual: 1 [ 0.610 0.284 0.011 0.000 0.003 0.000 0.091 ]\n",
        "368 - Predicted: 1 Actual: 1 [ 0.404 0.454 0.093 0.001 0.018 0.025 0.005 ]\n",
        "369 - Predicted: 1 Actual: 0 [ 0.234 0.677 0.006 0.000 0.010 0.008 0.065 ]\n",
        "370"
       ]
      },
      {
       "output_type": "stream",
       "stream": "stdout",
       "text": [
        " - Predicted: 0 Actual: 0 [ 0.569 0.244 0.007 0.002 0.011 0.005 0.162 ]\n",
        "371 - Predicted: 1 Actual: 1 [ 0.265 0.585 0.022 0.001 0.054 0.036 0.036 ]\n",
        "372 - Predicted: 2 Actual: 2 [ 0.061 0.297 0.350 0.058 0.038 0.184 0.012 ]\n",
        "373 - Predicted: 1 Actual: 1 [ 0.360 0.558 0.039 0.000 0.020 0.010 0.014 ]\n",
        "374 - Predicted: 1 Actual: 1 [ 0.237 0.558 0.066 0.012 0.026 0.063 0.038 ]\n",
        "375 - Predicted: 0 Actual: 0 [ 0.545 0.301 0.031 0.003 0.029 0.022 0.070 ]\n",
        "376 - Predicted: 0 Actual: 0 [ 0.719 0.216 0.009 0.006 0.013 0.008 0.029 ]\n",
        "377 - Predicted: 1 Actual: 1 [ 0.401 0.417 0.046 0.000 0.067 0.026 0.043 ]\n",
        "378 - Predicted: 0 Actual: 0 [ 0.450 0.419 0.059 0.000 0.034 0.005 0.033 ]\n",
        "379 - Predicted: 1 Actual: 1 [ 0.378 0.511 0.000 0.000 0.000 0.000 0.110 ]\n",
        "380"
       ]
      },
      {
       "output_type": "stream",
       "stream": "stdout",
       "text": [
        " - Predicted: 0 Actual: 0 [ 0.466 0.389 0.033 0.016 0.017 0.021 0.058 ]\n",
        "381 - Predicted: 0 Actual: 1 [ 0.463 0.449 0.010 0.000 0.003 0.003 0.072 ]\n",
        "382 - Predicted: 1 Actual: 1 [ 0.325 0.547 0.025 0.000 0.045 0.008 0.050 ]\n",
        "383 - Predicted: 1 Actual: 0 [ 0.279 0.530 0.061 0.012 0.067 0.044 0.007 ]\n",
        "384 - Predicted: 2 Actual: 2 [ 0.083 0.308 0.320 0.052 0.025 0.203 0.009 ]\n",
        "385 - Predicted: 0 Actual: 0 [ 0.747 0.251 0.001 0.000 0.000 0.000 0.001 ]\n",
        "386 - Predicted: 0 Actual: 1 [ 0.544 0.378 0.027 0.000 0.004 0.001 0.046 ]\n",
        "387 - Predicted: 1 Actual: 1 [ 0.228 0.728 0.002 0.000 0.004 0.001 0.037 ]\n",
        "388 - Predicted: 1 Actual: 1 [ 0.238 0.487 0.109 0.038 0.052 0.045 0.029 ]\n",
        "389 - Predicted: 1 Actual: 0 [ 0.331 0.488 0.085 0.000 0.026 0.023 0.046 ]\n",
        "390"
       ]
      },
      {
       "output_type": "stream",
       "stream": "stdout",
       "text": [
        " - Predicted: 1 Actual: 1 [ 0.457 0.495 0.008 0.001 0.005 0.002 0.031 ]\n",
        "391 - Predicted: 1 Actual: 0 [ 0.346 0.443 0.074 0.000 0.062 0.034 0.042 ]\n",
        "392 - Predicted: 2 Actual: 2 [ 0.100 0.220 0.338 0.054 0.034 0.238 0.018 ]\n",
        "393 - Predicted: 1 Actual: 1 [ 0.398 0.556 0.008 0.000 0.004 0.001 0.033 ]\n",
        "394 - Predicted: 1 Actual: 0 [ 0.366 0.470 0.028 0.000 0.078 0.028 0.030 ]\n",
        "395 - Predicted: 1 Actual: 0 [ 0.462 0.462 0.004 0.000 0.001 0.005 0.066 ]\n",
        "396 - Predicted: 0 Actual: 0 [ 0.607 0.266 0.021 0.000 0.014 0.019 0.073 ]\n",
        "397 - Predicted: 1 Actual: 1 [ 0.394 0.597 0.001 0.000 0.002 0.000 0.005 ]\n",
        "398 - Predicted: 1 Actual: 1 [ 0.290 0.471 0.064 0.004 0.041 0.028 0.102 ]\n",
        "399 - Predicted: 1 Actual: 1 [ 0.333 0.652 0.002 0.000 0.001 0.001 0.011 ]\n",
        "400"
       ]
      },
      {
       "output_type": "stream",
       "stream": "stdout",
       "text": [
        " - Predicted: 1 Actual: 1 [ 0.303 0.578 0.039 0.000 0.019 0.041 0.019 ]\n",
        "401 - Predicted: 0 Actual: 0 [ 0.546 0.412 0.000 0.000 0.000 0.000 0.042 ]\n",
        "402 - Predicted: 1 Actual: 2 [ 0.131 0.431 0.264 0.027 0.072 0.074 0.002 ]\n",
        "403 - Predicted: 0 Actual: 0 [ 0.514 0.326 0.020 0.000 0.008 0.030 0.102 ]\n",
        "404 - Predicted: 0 Actual: 1 [ 0.535 0.418 0.003 0.000 0.003 0.008 0.034 ]\n",
        "405 - Predicted: 0 Actual: 1 [ 0.600 0.355 0.001 0.000 0.004 0.000 0.040 ]\n",
        "406 - Predicted: 1 Actual: 1 [ 0.354 0.609 0.001 0.000 0.007 0.008 0.020 ]\n",
        "407 - Predicted: 0 Actual: 0 [ 0.571 0.260 0.001 0.000 0.022 0.014 0.132 ]\n",
        "408 - Predicted: 1 Actual: 1 [ 0.406 0.470 0.048 0.009 0.037 0.014 0.017 ]\n",
        "409 - Predicted: 0 Actual: 0 [ 0.646 0.308 0.011 0.000 0.008 0.003 0.024 ]\n",
        "410"
       ]
      },
      {
       "output_type": "stream",
       "stream": "stdout",
       "text": [
        " - Predicted: 1 Actual: 1 [ 0.252 0.699 0.001 0.000 0.001 0.001 0.046 ]\n",
        "411 - Predicted: 1 Actual: 0 [ 0.276 0.536 0.062 0.001 0.060 0.040 0.025 ]\n",
        "412 - Predicted: 2 Actual: 2 [ 0.092 0.219 0.347 0.072 0.021 0.244 0.004 ]\n",
        "413 - Predicted: 0 Actual: 0 [ 0.616 0.303 0.009 0.000 0.005 0.000 0.067 ]\n",
        "414 - Predicted: 0 Actual: 0 [ 0.646 0.264 0.020 0.000 0.004 0.023 0.042 ]\n",
        "415 - Predicted: 1 Actual: 1 [ 0.269 0.423 0.140 0.004 0.087 0.065 0.013 ]\n",
        "416 - Predicted: 1 Actual: 1 [ 0.249 0.614 0.017 0.000 0.034 0.034 0.051 ]\n",
        "417 - Predicted: 1 Actual: 1 [ 0.427 0.432 0.010 0.000 0.028 0.006 0.097 ]\n",
        "418 - Predicted: 0 Actual: 1 [ 0.585 0.394 0.002 0.002 0.005 0.002 0.010 ]\n",
        "419 - Predicted: 1 Actual: 0 [ 0.443 0.482 0.017 0.000 0.009 0.002 0.047 ]\n",
        "420"
       ]
      },
      {
       "output_type": "stream",
       "stream": "stdout",
       "text": [
        " - Predicted: 1 Actual: 1 [ 0.205 0.775 0.003 0.000 0.001 0.001 0.014 ]\n",
        "421 - Predicted: 0 Actual: 1 [ 0.479 0.431 0.012 0.000 0.017 0.001 0.061 ]\n",
        "422 - Predicted: 0 Actual: 1 [ 0.448 0.428 0.016 0.000 0.037 0.013 0.057 ]\n",
        "423 - Predicted: 2 Actual: 2 [ 0.067 0.139 0.579 0.051 0.010 0.151 0.002 ]\n",
        "424 - Predicted: 1 Actual: 0 [ 0.292 0.484 0.048 0.019 0.048 0.041 0.068 ]\n",
        "425 - Predicted: 1 Actual: 1 [ 0.231 0.459 0.120 0.012 0.067 0.073 0.036 ]\n",
        "426 - Predicted: 1 Actual: 1 [ 0.216 0.547 0.100 0.003 0.064 0.043 0.028 ]\n",
        "427 - Predicted: 0 Actual: 0 [ 0.707 0.268 0.005 0.004 0.005 0.004 0.008 ]\n",
        "428 - Predicted: 0 Actual: 0 [ 0.524 0.417 0.007 0.000 0.013 0.004 0.035 ]\n",
        "429 - Predicted: 0 Actual: 0 [ 0.451 0.367 0.036 0.000 0.041 0.008 0.097 ]\n",
        "430"
       ]
      },
      {
       "output_type": "stream",
       "stream": "stdout",
       "text": [
        " - Predicted: 0 Actual: 0 [ 0.464 0.351 0.053 0.005 0.077 0.027 0.023 ]\n",
        "431 - Predicted: 1 Actual: 1 [ 0.405 0.554 0.000 0.000 0.001 0.009 0.030 ]\n",
        "432 - Predicted: 1 Actual: 1 [ 0.183 0.553 0.109 0.010 0.062 0.048 0.035 ]\n",
        "433 - Predicted: 0 Actual: 0 [ 0.434 0.359 0.060 0.005 0.105 0.028 0.008 ]\n",
        "434 - Predicted: 1 Actual: 1 [ 0.201 0.626 0.043 0.010 0.068 0.035 0.016 ]\n",
        "435 - Predicted: 0 Actual: 0 [ 0.664 0.243 0.005 0.000 0.018 0.019 0.051 ]\n",
        "436 - Predicted: 1 Actual: 1 [ 0.214 0.443 0.130 0.008 0.090 0.112 0.003 ]\n",
        "437 - Predicted: 0 Actual: 0 [ 0.453 0.334 0.086 0.007 0.037 0.072 0.012 ]\n",
        "438 - Predicted: 1 Actual: 1 [ 0.186 0.780 0.003 0.000 0.012 0.000 0.019 ]\n",
        "439 - Predicted: 2 Actual: 2 [ 0.085 0.320 0.334 0.068 0.021 0.156 0.017 ]\n",
        "440"
       ]
      },
      {
       "output_type": "stream",
       "stream": "stdout",
       "text": [
        " - Predicted: 1 Actual: 1 [ 0.220 0.346 0.174 0.019 0.074 0.076 0.091 ]\n",
        "441 - Predicted: 0 Actual: 0 [ 0.501 0.421 0.010 0.000 0.015 0.009 0.045 ]\n",
        "442 - Predicted: 0 Actual: 0 [ 0.455 0.400 0.056 0.002 0.018 0.017 0.053 ]\n",
        "443 - Predicted: 1 Actual: 0 [ 0.255 0.524 0.095 0.013 0.051 0.037 0.025 ]\n",
        "444 - Predicted: 2 Actual: 2 [ 0.088 0.303 0.414 0.017 0.043 0.131 0.005 ]\n",
        "445 - Predicted: 1 Actual: 1 [ 0.294 0.524 0.062 0.003 0.043 0.033 0.041 ]\n",
        "446 - Predicted: 1 Actual: 1 [ 0.253 0.588 0.032 0.002 0.071 0.036 0.019 ]\n",
        "447 - Predicted: 1 Actual: 1 [ 0.251 0.579 0.071 0.003 0.041 0.025 0.030 ]\n",
        "448 - Predicted: 1 Actual: 1 [ 0.387 0.491 0.012 0.001 0.061 0.010 0.038 ]\n",
        "449 - Predicted: 0 Actual: 0 [ 0.444 0.403 0.045 0.017 0.024 0.033 0.035 ]\n",
        "450"
       ]
      },
      {
       "output_type": "stream",
       "stream": "stdout",
       "text": [
        " - Predicted: 1 Actual: 1 [ 0.259 0.717 0.000 0.000 0.000 0.000 0.023 ]\n",
        "451 - Predicted: 1 Actual: 1 [ 0.306 0.533 0.077 0.008 0.024 0.048 0.005 ]\n",
        "452 - Predicted: 1 Actual: 1 [ 0.421 0.489 0.024 0.001 0.006 0.019 0.039 ]\n",
        "453 - Predicted: 0 Actual: 1 [ 0.490 0.397 0.033 0.001 0.013 0.023 0.042 ]\n",
        "454 - Predicted: 1 Actual: 0 [ 0.304 0.558 0.011 0.000 0.015 0.010 0.102 ]\n",
        "455 - Predicted: 1 Actual: 0 [ 0.397 0.475 0.051 0.002 0.028 0.028 0.020 ]\n",
        "456 - Predicted: 0 Actual: 1 [ 0.539 0.350 0.041 0.001 0.012 0.016 0.042 ]\n",
        "457 - Predicted: 0 Actual: 0 [ 0.469 0.401 0.050 0.002 0.011 0.042 0.025 ]\n",
        "458 - Predicted: 0 Actual: 0 [ 0.563 0.418 0.003 0.000 0.007 0.001 0.008 ]\n",
        "459 - Predicted: 1 Actual: 2 [ 0.189 0.397 0.229 0.012 0.062 0.100 0.011 ]\n",
        "460"
       ]
      },
      {
       "output_type": "stream",
       "stream": "stdout",
       "text": [
        " - Predicted: 1 Actual: 1 [ 0.306 0.509 0.072 0.006 0.033 0.022 0.052 ]\n",
        "461 - Predicted: 0 Actual: 1 [ 0.399 0.370 0.097 0.011 0.031 0.052 0.040 ]\n",
        "462 - Predicted: 2 Actual: 2 [ 0.117 0.309 0.333 0.049 0.049 0.125 0.017 ]\n",
        "463 - Predicted: 0 Actual: 1 [ 0.460 0.449 0.015 0.002 0.007 0.011 0.056 ]\n",
        "464 - Predicted: 1 Actual: 0 [ 0.374 0.460 0.048 0.007 0.050 0.025 0.035 ]\n",
        "465 - Predicted: 1 Actual: 0 [ 0.325 0.398 0.089 0.020 0.072 0.048 0.048 ]\n",
        "466 - Predicted: 0 Actual: 0 [ 0.455 0.437 0.011 0.002 0.027 0.005 0.062 ]\n",
        "467 - Predicted: 2 Actual: 1 [ 0.116 0.223 0.445 0.031 0.015 0.161 0.009 ]\n",
        "468 - Predicted: 1 Actual: 1 [ 0.327 0.513 0.039 0.009 0.046 0.014 0.052 ]\n",
        "469 - Predicted: 0 Actual: 0 [ 0.490 0.389 0.025 0.002 0.037 0.021 0.037 ]\n",
        "470"
       ]
      },
      {
       "output_type": "stream",
       "stream": "stdout",
       "text": [
        " - Predicted: 0 Actual: 0 [ 0.554 0.228 0.015 0.002 0.020 0.006 0.175 ]\n",
        "471 - Predicted: 2 Actual: 2 [ 0.069 0.266 0.332 0.040 0.054 0.227 0.012 ]\n",
        "472 - Predicted: 1 Actual: 1 [ 0.431 0.531 0.006 0.002 0.005 0.004 0.020 ]\n",
        "473 - Predicted: 0 Actual: 0 [ 0.572 0.242 0.009 0.002 0.005 0.004 0.167 ]\n",
        "474 - Predicted: 0 Actual: 0 [ 0.509 0.407 0.005 0.002 0.015 0.003 0.060 ]\n",
        "475 - Predicted: 1 Actual: 0 [ 0.389 0.453 0.047 0.016 0.041 0.021 0.033 ]\n",
        "476 - Predicted: 1 Actual: 1 [ 0.228 0.450 0.117 0.011 0.086 0.074 0.034 ]\n",
        "477 - Predicted: 1 Actual: 1 [ 0.282 0.586 0.012 0.010 0.037 0.018 0.055 ]\n",
        "478 - Predicted: 0 Actual: 1 [ 0.509 0.390 0.023 0.001 0.031 0.008 0.039 ]\n",
        "479 - Predicted: 1 Actual: 1 [ 0.310 0.487 0.034 0.011 0.044 0.029 0.085 ]\n",
        "480"
       ]
      },
      {
       "output_type": "stream",
       "stream": "stdout",
       "text": [
        " - Predicted: 1 Actual: 1 [ 0.344 0.627 0.005 0.001 0.001 0.002 0.019 ]\n",
        "481 - Predicted: 0 Actual: 1 [ 0.552 0.354 0.007 0.001 0.012 0.003 0.072 ]\n",
        "482 - Predicted: 2 Actual: 2 [ 0.082 0.348 0.382 0.026 0.039 0.107 0.017 ]\n",
        "483 - Predicted: 1 Actual: 1 [ 0.123 0.336 0.323 0.020 0.031 0.152 0.015 ]\n",
        "484 - Predicted: 0 Actual: 0 [ 0.548 0.334 0.031 0.002 0.011 0.025 0.049 ]\n",
        "485 - Predicted: 0 Actual: 0 [ 0.617 0.260 0.042 0.000 0.027 0.013 0.041 ]\n",
        "486 - Predicted: 0 Actual: 0 [ 0.603 0.304 0.025 0.001 0.007 0.012 0.048 ]\n",
        "487 - Predicted: 1 Actual: 1 [ 0.369 0.530 0.015 0.001 0.026 0.007 0.052 ]\n",
        "488 - Predicted: 0 Actual: 0 [ 0.511 0.329 0.008 0.001 0.018 0.009 0.124 ]\n",
        "489 - Predicted: 1 Actual: 1 [ 0.385 0.534 0.013 0.000 0.001 0.000 0.067 ]\n",
        "490"
       ]
      },
      {
       "output_type": "stream",
       "stream": "stdout",
       "text": [
        " - Predicted: 0 Actual: 0 [ 0.566 0.162 0.020 0.000 0.021 0.007 0.224 ]\n",
        "491 - Predicted: 2 Actual: 2 [ 0.037 0.249 0.381 0.034 0.014 0.282 0.002 ]\n",
        "492 - Predicted: 0 Actual: 1 [ 0.495 0.389 0.024 0.004 0.024 0.028 0.035 ]\n",
        "493 - Predicted: 0 Actual: 0 [ 0.569 0.362 0.001 0.000 0.002 0.002 0.063 ]\n",
        "494 - Predicted: 1 Actual: 1 [ 0.354 0.440 0.011 0.000 0.037 0.010 0.149 ]\n",
        "495 - Predicted: 1 Actual: 0 [ 0.387 0.418 0.043 0.005 0.045 0.057 0.045 ]\n",
        "496 - Predicted: 1 Actual: 1 [ 0.249 0.565 0.050 0.001 0.024 0.038 0.073 ]\n",
        "497 - Predicted: 1 Actual: 1 [ 0.266 0.683 0.001 0.000 0.001 0.001 0.047 ]\n",
        "498 - Predicted: 1 Actual: 0 [ 0.475 0.496 0.000 0.000 0.003 0.000 0.026 ]\n",
        "499 - Predicted: 1 Actual: 1 [ 0.182 0.473 0.167 0.006 0.080 0.090 0.002 ]\n",
        " "
       ]
      }
     ],
     "prompt_number": 277
    },
    {
     "cell_type": "code",
     "collapsed": false,
     "input": [
      "pd.Series(hits).cumsum().plot() # Predictions over time"
     ],
     "language": "python",
     "metadata": {},
     "outputs": [
      {
       "metadata": {},
       "output_type": "pyout",
       "prompt_number": 278,
       "text": [
        "<matplotlib.axes._subplots.AxesSubplot at 0x7f81231fd208>"
       ]
      },
      {
       "metadata": {},
       "output_type": "display_data",
       "png": "[encoded data removed]",
       "text": [
        "<matplotlib.figure.Figure at 0x7f8122fedf60>"
       ]
      }
     ],
     "prompt_number": 278
    },
    {
     "cell_type": "code",
     "collapsed": false,
     "input": [
      "sum(hits)/len(hits) # Overall accuracy"
     ],
     "language": "python",
     "metadata": {},
     "outputs": [
      {
       "metadata": {},
       "output_type": "pyout",
       "prompt_number": 279,
       "text": [
        "0.70599999999999996"
       ]
      }
     ],
     "prompt_number": 279
    },
    {
     "cell_type": "code",
     "collapsed": false,
     "input": [
      "print(\"calc_discount\", calc_discount.cache_info())\n",
      "print(\"_expected_discount_term1\", _expected_discount_term1.cache_info())\n",
      "for i, tree in enumerate(mf.trees):\n",
      "    print(\"Tree %d posterior cache hits: %d\" % (i, tree._scorer.cache_hits))\n",
      "    print(\"Tree %d posterior cache misses: %d\" % (i, tree._scorer.cache_misses))\n",
      "    print(\"Tree %d posterior cache evictions: %d\" % (i, tree._scorer.cache_evictions))"
     ],
     "language": "python",
     "metadata": {},
     "outputs": [
      {
       "output_type": "stream",
       "stream": "stdout",
       "text": [
        "calc_discount CacheInfo(hits=167961, misses=72160, maxsize=100000, currsize=72160)\n",
        "_expected_discount_term1 CacheInfo(hits=38467, misses=2323, maxsize=100000, currsize=2323)\n",
        "Tree 0 posterior cache hits: 26939\n",
        "Tree 0 posterior cache misses: 12651\n",
        "Tree 0 posterior cache evictions: 5541\n",
        "Tree 1 posterior cache hits: 28307\n",
        "Tree 1 posterior cache misses: 14369\n",
        "Tree 1 posterior cache evictions: 5992\n",
        "Tree 2 posterior cache hits: 28256\n",
        "Tree 2 posterior cache misses: 14956\n",
        "Tree 2 posterior cache evictions: 6255\n",
        "Tree 3 posterior cache hits: 29539\n",
        "Tree 3 posterior cache misses: 14459\n",
        "Tree 3 posterior cache evictions: 6404\n",
        "Tree 4 posterior cache hits: 26674\n",
        "Tree 4 posterior cache misses: 13036\n",
        "Tree 4 posterior cache evictions: 5327\n",
        "Tree 5 posterior cache hits: 25038\n",
        "Tree 5 posterior cache misses: 11510\n",
        "Tree 5 posterior cache evictions: 4704\n",
        "Tree 6 posterior cache hits: 23373\n",
        "Tree 6 posterior cache misses: 11087\n",
        "Tree 6 posterior cache evictions: 4292\n",
        "Tree 7 posterior cache hits: 27492\n",
        "Tree 7 posterior cache misses: 14145\n",
        "Tree 7 posterior cache evictions: 5989\n",
        "Tree 8 posterior cache hits: 27984\n",
        "Tree 8 posterior cache misses: 13725\n",
        "Tree 8 posterior cache evictions: 5610\n",
        "Tree 9 posterior cache hits: 22984\n",
        "Tree 9 posterior cache misses: 10201\n",
        "Tree 9 posterior cache evictions: 4062\n",
        "Tree 10 posterior cache hits: 20932\n",
        "Tree 10 posterior cache misses: 9378\n",
        "Tree 10 posterior cache evictions: 3657\n"
       ]
      }
     ],
     "prompt_number": 280
    }
   ],
   "metadata": {}
  }
 ]
}