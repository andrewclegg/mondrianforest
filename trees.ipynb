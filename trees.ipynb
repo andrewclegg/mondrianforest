{
 "metadata": {
  "name": "",
  "signature": "sha256:8f1d42beb49944d975c60cea7a8abbaf962f2e275cf3e5ba29c0698ceb06fd2e"
 },
 "nbformat": 3,
 "nbformat_minor": 0,
 "worksheets": [
  {
   "cells": [
    {
     "cell_type": "code",
     "collapsed": false,
     "input": [
      "import random\n",
      "\n",
      "import numpy as np\n",
      "\n",
      "DEFAULT_BUDGET = np.inf"
     ],
     "language": "python",
     "metadata": {},
     "outputs": [],
     "prompt_number": 2
    },
    {
     "cell_type": "markdown",
     "metadata": {},
     "source": [
      "## Helper functions"
     ]
    },
    {
     "cell_type": "code",
     "collapsed": false,
     "input": [
      "# Candidates for memoization?\n",
      "\n",
      "def get_colwise_min_max(data):\n",
      "    return (data.min(axis=0), data.max(axis=0))\n",
      "\n",
      "def get_data_range(min_d, max_d):\n",
      "    range_d = max_d - min_d\n",
      "    return (range_d, range_d.sum())\n",
      "\n",
      "def sample_multinomial_scores(scores):\n",
      "    scores_cumsum = np.cumsum(scores)\n",
      "    s = scores_cumsum[-1] * np.random.rand(1)\n",
      "    k = int(np.sum(s > scores_cumsum))\n",
      "    return k\n",
      "\n",
      "def sample_multinomial(prob):\n",
      "    try:\n",
      "        k = int(np.where(np.random.multinomial(1, prob, size=1)[0]==1)[0])\n",
      "    except TypeError:\n",
      "        print('problem in sample_multinomial: prob = ', prob)\n",
      "        raise TypeError"
     ],
     "language": "python",
     "metadata": {},
     "outputs": [],
     "prompt_number": 75
    },
    {
     "cell_type": "markdown",
     "metadata": {},
     "source": [
      "## MondrianNode and MondrianTree classes\n",
      "\n",
      "Key differences from original:\n",
      "\n",
      "* Assume FAST_MODE (no log-likelihood) for now\n",
      "* Classification only (they never finished regression)\n",
      "* Always assume we're training incrementally\n",
      "* `update_posterior_node_incremental` just becomes `update_label_counts`\n",
      "* `add_training_points_to_node` just becomes `MondrianNode.update`\n",
      "* Pushed as much metadata as possible into the node object, to avoid having lots of separate dicts etc. maintained by the tree (hence renaming it `MondrianNode`)\n",
      "* `data` (an array) refers to one minibatch, instead of having a single design matrix in memory and indexing it with `train_ids`\n",
      "* `ids` is a vector of **globally-unique** identifiers for the rows in `data`\n",
      "* `labels` is a vector of class labels for the rows in `data`\n",
      "* We don't assume you'll provide the first batch of training data when initializing a tree, but we do need to know the number of dimensions and number of labels\n",
      "\n",
      "Perhaps most different of all:\n",
      "\n",
      "We don't keep all the input data, as this won't scale. But this means we can't move existing data down into the new leaf nodes when we split a leaf node.\n",
      "\n",
      "Current plan: When the tree \"grows\" through randomly splitting a leaf node, keep its existing class frequencies where they are, and only use the two new children for *newly-arriving* data. Then take these into account when calculating the predictive posteriors (appendix A of paper).\n",
      "\n",
      "Here's my thoughts, that I almost sent to Balaji, but decided to try first.\n",
      "\n",
      "```\n",
      "One thing I missed on reading the paper, is that when you bisect a leaf node through a \"grow\" (sampling) operation,\n",
      "you need to assign all its data points to one of the new children.\n",
      "\n",
      "This means you can't just keep summary statistics for the data in a block, i.e. class frequencies. You need to hold\n",
      "on to the raw training data in order to divide it, yes? Which is a problem for online learning over streaming data\n",
      "or just \"big data\" in general.\n",
      "\n",
      "So... Perhaps you could entirely forget about keeping the existing data and propagating it down to the new child\n",
      "nodes. If you just kept class frequencies at each node, maybe you could use these in the \"update posterior counts\"\n",
      "step for internal nodes, alongside the child node counts.\n",
      "\n",
      "(Any data that came in *after* the split would go all the way down to the leaf nodes though.)\n",
      "```\n",
      "\n",
      "### TODO\n",
      "\n",
      "Most of it :-)"
     ]
    },
    {
     "cell_type": "code",
     "collapsed": false,
     "input": [
      "class MondrianNode(object):\n",
      "\n",
      "    \n",
      "    def __init__(self, n_dims, n_labels, parent, budget=DEFAULT_BUDGET):\n",
      "        self.min_d = np.zeros(n_dims)\n",
      "        self.max_d = np.zeros(n_dims)\n",
      "        self.range_d = np.zeros(n_dims)\n",
      "        self.sum_range_d = np.zeros(n_dims)\n",
      "        self.label_counts = np.zeros(n_labels)\n",
      "        self.budget = budget\n",
      "        self.max_split_cost = 0\n",
      "        self.parent = parent\n",
      "        self.left = None\n",
      "        self.right = None\n",
      "        self.split_dim = None\n",
      "        self.split_point = None\n",
      "        # Do we need to store the actual data??\n",
      "        \n",
      "    \n",
      "    def update(self, data, labels):\n",
      "        # Update bounding box and label counts\n",
      "        self.min_d, self.max_d = get_colwise_min_max(data)\n",
      "        self.range_d, self.sum_range_d = get_data_range(self.min_d, self.max_d)\n",
      "        self.label_counts += np.bincount(labels, minlength=len(self.label_counts))\n",
      "        \n",
      "\n",
      "    def apply_split(self, data):\n",
      "        # Apply this node's existing splitting criterion to some data\n",
      "        # and return a boolean index (True==goes left, False==goes right)\n",
      "        return data[:, self.split_dim] <= self.split_point\n",
      "    \n",
      "\n",
      "    def is_leaf(self):\n",
      "        if self.left is None:\n",
      "            assert self.right is None\n",
      "            return True\n",
      "        else:\n",
      "            assert self.right is not None\n",
      "            return False\n",
      "\n",
      "        \n",
      "    def is_pure(self):\n",
      "        return np.count_nonzero(self.label_counts) < 2"
     ],
     "language": "python",
     "metadata": {},
     "outputs": [],
     "prompt_number": 356
    },
    {
     "cell_type": "code",
     "collapsed": false,
     "input": [
      "class MondrianTree(object):\n",
      "    \n",
      "    \n",
      "    def __init__(self, n_dims, n_labels, budget=DEFAULT_BUDGET):\n",
      "        self.n_dims = n_dims\n",
      "        self.n_labels = n_labels\n",
      "        self.root = MondrianNode(n_dims, n_labels, None, budget=budget)\n",
      "        self.pred_prob = {}\n",
      "        # TODO which of these do I still need?\n",
      "        \n",
      "    \n",
      "    def extend(self, data, labels):\n",
      "        self._extend_node(self.root, data, labels)\n",
      "    \n",
      "    \n",
      "    def _extend_node(self, node, data, labels):\n",
      "        \n",
      "        min_d, max_d = get_colwise_min_max(data)\n",
      "        additional_extent_lower = np.maximum(0, node.min_d - min_d)\n",
      "        additional_extent_upper = np.maximum(0, max_d - node.max_d)\n",
      "        expo_parameter = additional_extent_lower.sum() + additional_extent_upper.sum()\n",
      "        \n",
      "        is_leaf = node.is_leaf()\n",
      "        if expo_parameter == 0 or is_leaf:\n",
      "            # Don't split if (a) none of the new data is outside the existing bounding box,\n",
      "            # or (b) it's a leaf node (we don't split these, we grow them)\n",
      "            split_cost = np.inf\n",
      "        else:\n",
      "            # The bigger the new bounding box relative to the old one, the more likely we are to split the node\n",
      "            split_cost = random.expovariate(expo_parameter)\n",
      "        \n",
      "        if split_cost < node.max_split_cost and not is_leaf:\n",
      "            # Stop what we're doing and instigate a node split instead\n",
      "            self._split_node(node, data, labels, split_cost, min_d, max_d,\n",
      "                             additional_extent_lower, additional_extent_upper)\n",
      "            return\n",
      "\n",
      "        # Otherwise carry on updating the existing tree structure\n",
      "        \n",
      "        was_paused = is_leaf and node.is_pure()\n",
      "        node.update(data, labels)\n",
      "        is_paused = is_leaf and node.is_pure()\n",
      "\n",
      "        if was_paused and not is_paused:\n",
      "            # We've unpaused a leaf node so we need to grow the tree\n",
      "            self._grow(node) # FIXME if we're not using the \"grow_nodes\" list member, remove it\n",
      "        elif not is_leaf:\n",
      "            # Split the data into left portion and right portion, and repeat\n",
      "            # whole process with node's children\n",
      "            goes_left = node.apply_split(data)\n",
      "            if sum(goes_left):\n",
      "                self._extend_node(node.left, data[goes_left], labels[goes_left])\n",
      "            if sum(~goes_left):\n",
      "                self._extend_node(node.right, data[~goes_left], labels[~goes_left])\n",
      "\n",
      "            \n",
      "    def _split_node(self, node, data, labels, split_cost, min_d, max_d,\n",
      "                    additional_extent_lower, additional_extent_upper):\n",
      "        \n",
      "        assert not node.is_leaf() # Mutate those by growing, not splitting\n",
      "        \n",
      "        # Create new parent node which is a near-copy of the one that's splitting\n",
      "        new_parent = MondrianNode(self.n_dims, self.n_labels, node.parent, budget=node.budget)\n",
      "        new_parent.min_d = np.minimum(min_d, node.min_d)\n",
      "        new_parent.max_d = np.maximum(max_d, node.max_d)\n",
      "        new_parent.range_d, new_parent.sum_range_d = get_data_range(new_parent.min_d, new_parent.max_d)\n",
      "        new_parent.label_counts = node.label_counts\n",
      "        \n",
      "        # Pick a random dimension to split on\n",
      "        feat_score = additional_extent_lower + additional_extent_upper\n",
      "        feat_id = sample_multinomial_scores(feat_score)\n",
      "        \n",
      "        # Pick a random split point between previous bounding box and new one\n",
      "        draw_from_lower = np.random.rand() <= (additional_extent_lower[feat_id] / feat_score[feat_id])\n",
      "        if draw_from_lower:\n",
      "            split = random.uniform(min_d[feat_id], node.min_d[feat_id])\n",
      "        else:\n",
      "            split = random.uniform(node.max_d[feat_id], max_d[feat_id])\n",
      "        \n",
      "        assert (split < node.min_d[feat_id]) or (split > node.max_d[feat_id])\n",
      "        \n",
      "        # Set up the new parent node to use this split\n",
      "        new_parent.split_dim = feat_id\n",
      "        new_parent.split_point = split\n",
      "        \n",
      "        # Now create new child node which is initially empty -- new sibling for original node\n",
      "        new_budget = node.budget - split_cost\n",
      "        new_sibling = MondrianNode(self.n_dims, self.n_labels, new_parent, budget=new_budget)\n",
      "        \n",
      "        # This bit's clever -- since the split point is outside the original node's bounding box,\n",
      "        # we might need to give some new data to that node, but we won't need to take any away\n",
      "        # from the existing node. By definition, none of its data points can be in there.\n",
      "        \n",
      "        # Use the new parent's split criterion to decide which child gets which subset of data,\n",
      "        # and adjust tree to match\n",
      "        goes_left = new_parent.apply_split(data)\n",
      "        original_node_goes_left = split > node.max_d[feat_id]\n",
      "        if original_node_goes_left:\n",
      "            new_parent.left = node\n",
      "            new_parent.right = new_sibling\n",
      "            data_for_original = goes_left\n",
      "        else:\n",
      "            new_parent.left = new_sibling\n",
      "            new_parent.right = node\n",
      "            data_for_original = ~goes_left\n",
      "\n",
      "        # Figure out whether new parent is on the left or right of *its* parent (unless it's the root)\n",
      "        if node == self.root:\n",
      "            self.root = new_parent\n",
      "        else:\n",
      "            if node.parent.left == node:\n",
      "                node.parent.left = new_parent\n",
      "            elif node.parent.right == node:\n",
      "                node.parent.right = new_parent\n",
      "            else:\n",
      "                assert False\n",
      "        node.parent = new_parent\n",
      "        \n",
      "        # Update budgets and costs associated with the nodes\n",
      "        node.budget = new_budget\n",
      "        node.max_split_cost -= split_cost\n",
      "        new_parent.max_split_cost = split_cost\n",
      "        \n",
      "        # Update the bounding boxes and label counts for the left and right sides of the new split\n",
      "        # (the new node will be grown automatically when needed, filling in max_split_cost)\n",
      "        if sum(data_for_original) > 0:\n",
      "            self._extend_node(node.left, data[data_for_original], labels[data_for_original])\n",
      "        if sum(~data_for_original) > 0:\n",
      "            self._extend_node(node.right, data[~data_for_original], labels[~data_for_original])\n",
      "        \n",
      "        # TODO ensure the new node behaves correctly (i.e. gets grown when it needs to)\n",
      "\n",
      "        \n",
      "    def _grow(self, node):\n",
      "        \n",
      "        assert node.is_leaf()\n",
      "        \n",
      "        # Is node paused, empty or effectively empty? If so, don't split it\n",
      "        if node.is_pure() or node.sum_range_d == 0:\n",
      "            node.max_split_cost = node.budget\n",
      "            return\n",
      "\n",
      "        split_cost = random.expovariate(node.sum_range_d)\n",
      "        node.max_split_cost = split_cost\n",
      "\n",
      "        if node.budget > split_cost:\n",
      "            node.split_dim = sample_multinomial_scores(node.range_d)\n",
      "            node.split_point = random.uniform(node.min_d[node.split_dim], node.max_d[node.split_dim])\n",
      "            \n",
      "            # TODO use the default budget here, or inherit from parent?\n",
      "            node.left = MondrianNode(self.n_dims, self.n_labels, node)\n",
      "            node.right = MondrianNode(self.n_dims, self.n_labels, node)\n",
      "            # No point growing these as they start off empty (unlike in original paper)\n",
      "\n",
      "\n",
      "    def predict(self, row):\n",
      "        # Dumb-ass predictions, just for now\n",
      "        node = self.root\n",
      "        last_counts_seen = node.label_counts\n",
      "        while node.label_counts.sum() > 0 and not node.is_leaf():\n",
      "            last_counts_seen = node.label_counts\n",
      "            left = node.apply_split(row)\n",
      "            node = node.left if left else node.right\n",
      "        return last_counts_seen"
     ],
     "language": "python",
     "metadata": {},
     "outputs": [],
     "prompt_number": 357
    },
    {
     "cell_type": "code",
     "collapsed": false,
     "input": [
      "mt = MondrianTree(10, 10, budget=1000)"
     ],
     "language": "python",
     "metadata": {},
     "outputs": [],
     "prompt_number": 358
    },
    {
     "cell_type": "code",
     "collapsed": false,
     "input": [
      "import pandas as pd\n",
      "from sklearn import datasets\n",
      "from sklearn import cross_validation as cv\n",
      "dataset = datasets.fetch_covtype()\n",
      "dataset.data.shape"
     ],
     "language": "python",
     "metadata": {},
     "outputs": [
      {
       "output_type": "stream",
       "stream": "stderr",
       "text": [
        "WARNING:root:Downloading http://archive.ics.uci.edu/ml/machine-learning-databases/covtype/covtype.data.gz\n"
       ]
      },
      {
       "metadata": {},
       "output_type": "pyout",
       "prompt_number": 375,
       "text": [
        "array([5, 5, 2, ..., 3, 3, 3], dtype=int32)"
       ]
      }
     ],
     "prompt_number": 375
    },
    {
     "cell_type": "code",
     "collapsed": false,
     "input": [
      "data.shape"
     ],
     "language": "python",
     "metadata": {},
     "outputs": [
      {
       "metadata": {},
       "output_type": "pyout",
       "prompt_number": 408,
       "text": [
        "(581012, 54)"
       ]
      }
     ],
     "prompt_number": 408
    },
    {
     "cell_type": "code",
     "collapsed": false,
     "input": [
      "n_iter = 500\n",
      "folds = cv.StratifiedShuffleSplit(dataset.target, n_iter=n_iter, test_size=10, train_size=1000)\n",
      "hits = np.ndarray(n_iter, dtype=bool)\n",
      "\n",
      "mt = MondrianTree(data.shape[1], len(np.unique(target)))\n",
      "data = dataset.data\n",
      "target = dataset.target - 1 # they are 1-indexed\n",
      "for i, (train, test) in enumerate(folds):\n",
      "    train_X = data[train]\n",
      "    train_y = target[train]\n",
      "    test_X = data[test][0:1,:]\n",
      "    test_y = target[test][0:1]\n",
      "    mt.extend(train_X, train_y)\n",
      "    preds = mt.predict(test_X)\n",
      "    yhat = preds.argmax()\n",
      "    print(i, '- Predicted:', yhat, 'Actual:', test_y, preds)\n",
      "    hits[i] = yhat == test_y"
     ],
     "language": "python",
     "metadata": {},
     "outputs": [
      {
       "output_type": "stream",
       "stream": "stdout",
       "text": [
        "0 - Predicted: 1 Actual: [2] [ 365.  488.   62.    5.   16.   30.   35.]\n",
        "1"
       ]
      },
      {
       "output_type": "stream",
       "stream": "stdout",
       "text": [
        " - Predicted: 1 Actual: [1] [ 324.  370.   30.    1.   10.   13.   30.]\n",
        "2"
       ]
      },
      {
       "output_type": "stream",
       "stream": "stdout",
       "text": [
        " - Predicted: 1 Actual: [1] [ 237.  292.    6.    0.    8.    6.   30.]\n",
        "3"
       ]
      },
      {
       "output_type": "stream",
       "stream": "stdout",
       "text": [
        " - Predicted: 1 Actual: [0] [ 16.  59.  18.   1.   2.   7.   0.]\n",
        "4"
       ]
      },
      {
       "output_type": "stream",
       "stream": "stdout",
       "text": [
        " - Predicted: 1 Actual: [0] [ 155.  201.    5.    0.    7.    3.   17.]\n",
        "5"
       ]
      },
      {
       "output_type": "stream",
       "stream": "stdout",
       "text": [
        " - Predicted: 1 Actual: [0] [ 110.  121.    2.    0.    1.    1.   22.]\n",
        "6"
       ]
      },
      {
       "output_type": "stream",
       "stream": "stdout",
       "text": [
        " - Predicted: 0 Actual: [1] [ 1.  1.  0.  0.  0.  0.  0.]\n",
        "7"
       ]
      },
      {
       "output_type": "stream",
       "stream": "stdout",
       "text": [
        " - Predicted: 1 Actual: [1] [ 30.  53.   4.   0.   2.   4.   3.]\n",
        "8"
       ]
      },
      {
       "output_type": "stream",
       "stream": "stdout",
       "text": [
        " - Predicted: 1 Actual: [0] [ 15.  20.   0.   0.   0.   0.   3.]\n",
        "9"
       ]
      },
      {
       "output_type": "stream",
       "stream": "stdout",
       "text": [
        " - Predicted: 2 Actual: [2] [  0.   0.  10.   0.   0.   5.   0.]\n",
        "10"
       ]
      },
      {
       "output_type": "stream",
       "stream": "stdout",
       "text": [
        " - Predicted: 1 Actual: [1] [ 2.  3.  0.  0.  0.  0.  0.]\n",
        "11"
       ]
      },
      {
       "output_type": "stream",
       "stream": "stdout",
       "text": [
        " - Predicted: 1 Actual: [1] [ 0.  3.  1.  1.  0.  0.  0.]\n",
        "12"
       ]
      },
      {
       "output_type": "stream",
       "stream": "stdout",
       "text": [
        " - Predicted: 1 Actual: [1] [  1.  11.   0.   0.   0.   0.   0.]\n",
        "13"
       ]
      },
      {
       "output_type": "stream",
       "stream": "stdout",
       "text": [
        " - Predicted: 1 Actual: [2] [ 1267.  1658.    53.     2.    34.    49.   138.]\n",
        "14"
       ]
      },
      {
       "output_type": "stream",
       "stream": "stdout",
       "text": [
        " - Predicted: 2 Actual: [1] [ 0.  1.  2.  0.  0.  1.  0.]\n",
        "15"
       ]
      },
      {
       "output_type": "stream",
       "stream": "stdout",
       "text": [
        " - Predicted: 1 Actual: [0] [ 76.  81.   0.   0.   1.   1.   5.]\n",
        "16"
       ]
      },
      {
       "output_type": "stream",
       "stream": "stdout",
       "text": [
        " - Predicted: 1 Actual: [0] [ 76.  82.   0.   0.   1.   1.   5.]\n",
        "17"
       ]
      },
      {
       "output_type": "stream",
       "stream": "stdout",
       "text": [
        " - Predicted: 2 Actual: [2] [ 0.  5.  7.  0.  0.  7.  0.]\n",
        "18"
       ]
      },
      {
       "output_type": "stream",
       "stream": "stdout",
       "text": [
        " - Predicted: 1 Actual: [1] [ 41.  51.  12.   0.   3.   2.   7.]\n",
        "19"
       ]
      },
      {
       "output_type": "stream",
       "stream": "stdout",
       "text": [
        " - Predicted: 1 Actual: [1] [ 0.  6.  3.  0.  0.  0.  0.]\n",
        "20"
       ]
      },
      {
       "output_type": "stream",
       "stream": "stdout",
       "text": [
        " - Predicted: 1 Actual: [0] [ 34.  45.   2.   0.   1.   0.   2.]\n",
        "21"
       ]
      },
      {
       "output_type": "stream",
       "stream": "stdout",
       "text": [
        " - Predicted: 1 Actual: [1] [  6.  24.   2.   0.   2.   1.   0.]\n",
        "22"
       ]
      },
      {
       "output_type": "stream",
       "stream": "stdout",
       "text": [
        " - Predicted: 6 Actual: [1] [ 5.  6.  0.  0.  0.  0.  7.]\n",
        "23"
       ]
      },
      {
       "output_type": "stream",
       "stream": "stdout",
       "text": [
        " - Predicted: 0 Actual: [0] [ 8.  7.  2.  0.  0.  1.  0.]\n",
        "24"
       ]
      },
      {
       "output_type": "stream",
       "stream": "stdout",
       "text": [
        " - Predicted: 1 Actual: [1] [  3.  32.   0.   0.   2.   0.   0.]\n",
        "25"
       ]
      },
      {
       "output_type": "stream",
       "stream": "stdout",
       "text": [
        " - Predicted: 0 Actual: [0] [ 1.  1.  0.  0.  0.  0.  0.]\n",
        "26"
       ]
      },
      {
       "output_type": "stream",
       "stream": "stdout",
       "text": [
        " - Predicted: 1 Actual: [0] [ 12.  21.   0.   0.   0.   0.   0.]\n",
        "27"
       ]
      },
      {
       "output_type": "stream",
       "stream": "stdout",
       "text": [
        " - Predicted: 0 Actual: [0] [ 2.  1.  0.  0.  0.  0.  0.]\n",
        "28"
       ]
      },
      {
       "output_type": "stream",
       "stream": "stdout",
       "text": [
        " - Predicted: 1 Actual: [0] [ 4.  9.  0.  0.  2.  0.  0.]\n",
        "29"
       ]
      },
      {
       "output_type": "stream",
       "stream": "stdout",
       "text": [
        " - Predicted: 0 Actual: [0] [ 45.  11.   0.   0.   0.   0.   0.]\n",
        "30"
       ]
      },
      {
       "output_type": "stream",
       "stream": "stdout",
       "text": [
        " - Predicted: 1 Actual: [1] [ 1.  4.  1.  0.  0.  1.  0.]\n",
        "31"
       ]
      },
      {
       "output_type": "stream",
       "stream": "stdout",
       "text": [
        " - Predicted: 2 Actual: [2] [ 0.  2.  8.  0.  0.  2.  0.]\n",
        "32"
       ]
      },
      {
       "output_type": "stream",
       "stream": "stdout",
       "text": [
        " - Predicted: 1 Actual: [2] [ 43.  47.   0.   0.   0.   1.   4.]\n",
        "33"
       ]
      },
      {
       "output_type": "stream",
       "stream": "stdout",
       "text": [
        " - Predicted: 1 Actual: [0] [ 6.  7.  2.  0.  0.  4.  0.]\n",
        "34"
       ]
      },
      {
       "output_type": "stream",
       "stream": "stdout",
       "text": [
        " - Predicted: 1 Actual: [2] [ 1.  2.  0.  0.  0.  0.  0.]\n",
        "35"
       ]
      },
      {
       "output_type": "stream",
       "stream": "stdout",
       "text": [
        " - Predicted: 0 Actual: [0] [ 4.  2.  0.  0.  0.  0.  0.]\n",
        "36"
       ]
      },
      {
       "output_type": "stream",
       "stream": "stdout",
       "text": [
        " - Predicted: 1 Actual: [1] [ 0.  1.  0.  0.  1.  0.  0.]\n",
        "37"
       ]
      },
      {
       "output_type": "stream",
       "stream": "stdout",
       "text": [
        " - Predicted: 1 Actual: [1] [  5.  20.   0.   0.   0.   0.   0.]\n",
        "38"
       ]
      },
      {
       "output_type": "stream",
       "stream": "stdout",
       "text": [
        " - Predicted: 0 Actual: [0] [ 1.  1.  0.  0.  0.  0.  0.]\n",
        "39"
       ]
      },
      {
       "output_type": "stream",
       "stream": "stdout",
       "text": [
        " - Predicted: 0 Actual: [0] [ 1.  0.  1.  0.  0.  0.  1.]\n",
        "40"
       ]
      },
      {
       "output_type": "stream",
       "stream": "stdout",
       "text": [
        " - Predicted: 0 Actual: [0] [ 17.   3.   0.   0.   0.   0.   0.]\n",
        "41"
       ]
      },
      {
       "output_type": "stream",
       "stream": "stdout",
       "text": [
        " - Predicted: 0 Actual: [0] [ 42.  35.   0.   0.   0.   0.   0.]\n",
        "42"
       ]
      },
      {
       "output_type": "stream",
       "stream": "stdout",
       "text": [
        " - Predicted: 0 Actual: [1] [ 7.  5.  0.  0.  0.  0.  0.]\n",
        "43"
       ]
      },
      {
       "output_type": "stream",
       "stream": "stdout",
       "text": [
        " - Predicted: 0 Actual: [0] [ 40.  27.   0.   0.   0.   0.   1.]\n",
        "44"
       ]
      },
      {
       "output_type": "stream",
       "stream": "stdout",
       "text": [
        " - Predicted: 1 Actual: [1] [ 19.  35.   0.   0.   0.   0.   0.]\n",
        "45"
       ]
      },
      {
       "output_type": "stream",
       "stream": "stdout",
       "text": [
        " - Predicted: 1 Actual: [0] [ 1.  2.  0.  0.  0.  0.  0.]\n",
        "46"
       ]
      },
      {
       "output_type": "stream",
       "stream": "stdout",
       "text": [
        " - Predicted: 1 Actual: [0] [ 9367.  9842.  1832.   198.   400.   889.   826.]\n",
        "47"
       ]
      },
      {
       "output_type": "stream",
       "stream": "stdout",
       "text": [
        " - Predicted: 0 Actual: [1] [ 4.  1.  0.  0.  0.  0.  0.]\n",
        "48"
       ]
      },
      {
       "output_type": "stream",
       "stream": "stdout",
       "text": [
        " - Predicted: 1 Actual: [1] [  3.  10.   0.   0.   0.   0.   0.]\n",
        "49"
       ]
      },
      {
       "output_type": "stream",
       "stream": "stdout",
       "text": [
        " - Predicted: 0 Actual: [0] [ 46.  28.   0.   0.   0.   0.   6.]\n",
        "50"
       ]
      },
      {
       "output_type": "stream",
       "stream": "stdout",
       "text": [
        " - Predicted: 0 Actual: [0] [ 22.  20.   2.   0.   1.   0.   4.]\n",
        "51"
       ]
      },
      {
       "output_type": "stream",
       "stream": "stdout",
       "text": [
        " - Predicted: 0 Actual: [1] [ 2.  1.  0.  0.  0.  0.  0.]\n",
        "52"
       ]
      },
      {
       "output_type": "stream",
       "stream": "stdout",
       "text": [
        " - Predicted: 1 Actual: [1] [ 24.  73.   0.   0.   0.   0.   2.]\n",
        "53"
       ]
      },
      {
       "output_type": "stream",
       "stream": "stdout",
       "text": [
        " - Predicted: 1 Actual: [1] [  5.82200000e+03   1.19910000e+04   2.36000000e+02   8.00000000e+00\n",
        "   8.84000000e+02   1.20000000e+01   2.27000000e+02]\n",
        "54"
       ]
      },
      {
       "output_type": "stream",
       "stream": "stdout",
       "text": [
        " - Predicted: 1 Actual: [0] [ 26.  41.   2.   0.   0.   0.   2.]\n",
        "55"
       ]
      },
      {
       "output_type": "stream",
       "stream": "stdout",
       "text": [
        " - Predicted: 1 Actual: [1] [ 1.  2.  0.  0.  0.  0.  0.]\n",
        "56"
       ]
      },
      {
       "output_type": "stream",
       "stream": "stdout",
       "text": [
        " - Predicted: 0 Actual: [0] [ 26.  25.   0.   0.   0.   0.   4.]\n",
        "57"
       ]
      },
      {
       "output_type": "stream",
       "stream": "stdout",
       "text": [
        " - Predicted: 5 Actual: [1] [ 1.  0.  0.  0.  0.  2.  0.]\n",
        "58"
       ]
      },
      {
       "output_type": "stream",
       "stream": "stdout",
       "text": [
        " - Predicted: 2 Actual: [2] [ 0.  2.  6.  0.  0.  6.  0.]\n",
        "59"
       ]
      },
      {
       "output_type": "stream",
       "stream": "stdout",
       "text": [
        " - Predicted: 1 Actual: [1] [ 18.  29.   0.   0.   2.   0.   0.]\n",
        "60"
       ]
      },
      {
       "output_type": "stream",
       "stream": "stdout",
       "text": [
        " - Predicted: 1 Actual: [1] [ 14.  46.   0.   0.   0.   0.   0.]\n",
        "61"
       ]
      },
      {
       "output_type": "stream",
       "stream": "stdout",
       "text": [
        " - Predicted: 0 Actual: [0] [ 7.  5.  0.  0.  0.  1.  0.]\n",
        "62"
       ]
      },
      {
       "output_type": "stream",
       "stream": "stdout",
       "text": [
        " - Predicted: 1 Actual: [1] [ 10.  48.   0.   0.   0.   0.   0.]\n",
        "63"
       ]
      },
      {
       "output_type": "stream",
       "stream": "stdout",
       "text": [
        " - Predicted: 0 Actual: [0] [ 2.  1.  0.  0.  0.  0.  0.]\n",
        "64"
       ]
      },
      {
       "output_type": "stream",
       "stream": "stdout",
       "text": [
        " - Predicted: 0 Actual: [0] [ 1.  1.  0.  0.  0.  0.  0.]\n",
        "65"
       ]
      },
      {
       "output_type": "stream",
       "stream": "stdout",
       "text": [
        " - Predicted: 0 Actual: [0] [ 9.  3.  0.  0.  0.  0.  0.]\n",
        "66"
       ]
      },
      {
       "output_type": "stream",
       "stream": "stdout",
       "text": [
        " - Predicted: 1 Actual: [1] [ 1.  4.  0.  0.  0.  0.  0.]\n",
        "67"
       ]
      },
      {
       "output_type": "stream",
       "stream": "stdout",
       "text": [
        " - Predicted: 1 Actual: [1] [ 76.  78.   1.   0.   0.   0.   6.]\n",
        "68"
       ]
      },
      {
       "output_type": "stream",
       "stream": "stdout",
       "text": [
        " - Predicted: 1 Actual: [1] [  4.  21.   0.   0.   1.   0.   0.]\n",
        "69"
       ]
      },
      {
       "output_type": "stream",
       "stream": "stdout",
       "text": [
        " - Predicted: 0 Actual: [0] [ 7.  2.  0.  0.  0.  0.  0.]\n",
        "70"
       ]
      },
      {
       "output_type": "stream",
       "stream": "stdout",
       "text": [
        " - Predicted: 1 Actual: [1] [  0.  10.   1.   0.   1.   1.   0.]\n",
        "71"
       ]
      },
      {
       "output_type": "stream",
       "stream": "stdout",
       "text": [
        " - Predicted: 1 Actual: [1] [ 1.  4.  0.  0.  1.  0.  0.]\n",
        "72"
       ]
      },
      {
       "output_type": "stream",
       "stream": "stdout",
       "text": [
        " - Predicted: 1 Actual: [0] [ 110.  122.   39.    3.    0.    9.    5.]\n",
        "73"
       ]
      },
      {
       "output_type": "stream",
       "stream": "stdout",
       "text": [
        " - Predicted: 0 Actual: [0] [ 24.  14.   0.   0.   0.   0.   0.]\n",
        "74"
       ]
      },
      {
       "output_type": "stream",
       "stream": "stdout",
       "text": [
        " - Predicted: 0 Actual: [0] [ 4.  2.  0.  0.  0.  0.  0.]\n",
        "75"
       ]
      },
      {
       "output_type": "stream",
       "stream": "stdout",
       "text": [
        " - Predicted: 5 Actual: [2] [  0.   0.   8.   0.   0.  30.   0.]\n",
        "76"
       ]
      },
      {
       "output_type": "stream",
       "stream": "stdout",
       "text": [
        " - Predicted: 0 Actual: [0] [ 2.  2.  0.  0.  0.  0.  0.]\n",
        "77"
       ]
      },
      {
       "output_type": "stream",
       "stream": "stdout",
       "text": [
        " - Predicted: 1 Actual: [1] [ 3.  4.  0.  0.  0.  0.  0.]\n",
        "78"
       ]
      },
      {
       "output_type": "stream",
       "stream": "stdout",
       "text": [
        " - Predicted: 1 Actual: [1] [ 16.  31.   0.   0.   0.   0.   0.]\n",
        "79"
       ]
      },
      {
       "output_type": "stream",
       "stream": "stdout",
       "text": [
        " - Predicted: 0 Actual: [0] [ 11.   1.   0.   0.   0.   0.   0.]\n",
        "80"
       ]
      },
      {
       "output_type": "stream",
       "stream": "stdout",
       "text": [
        " - Predicted: 0 Actual: [0] [ 2.  1.  0.  0.  0.  0.  0.]\n",
        "81"
       ]
      },
      {
       "output_type": "stream",
       "stream": "stdout",
       "text": [
        " - Predicted: 1 Actual: [0] [ 1.  2.  0.  0.  0.  0.  0.]\n",
        "82"
       ]
      },
      {
       "output_type": "stream",
       "stream": "stdout",
       "text": [
        " - Predicted: 0 Actual: [0] [ 13.   4.   0.   0.   0.   0.   0.]\n",
        "83"
       ]
      },
      {
       "output_type": "stream",
       "stream": "stdout",
       "text": [
        " - Predicted: 1 Actual: [2] [  1.  11.   1.   0.   1.   1.   0.]\n",
        "84"
       ]
      },
      {
       "output_type": "stream",
       "stream": "stdout",
       "text": [
        " - Predicted: 1 Actual: [1] [ 134.  182.    0.    0.   33.    0.    1.]\n",
        "85"
       ]
      },
      {
       "output_type": "stream",
       "stream": "stdout",
       "text": [
        " - Predicted: 1 Actual: [2] [ 0.  8.  1.  0.  2.  0.  0.]\n",
        "86"
       ]
      },
      {
       "output_type": "stream",
       "stream": "stdout",
       "text": [
        " - Predicted: 0 Actual: [0] [ 5.  5.  0.  0.  0.  0.  0.]\n",
        "87"
       ]
      },
      {
       "output_type": "stream",
       "stream": "stdout",
       "text": [
        " - Predicted: 0 Actual: [0] [ 35.   2.   0.   0.   0.   0.   0.]\n",
        "88"
       ]
      },
      {
       "output_type": "stream",
       "stream": "stdout",
       "text": [
        " - Predicted: 1 Actual: [0] [  3.  13.   1.   0.   0.   0.   0.]\n",
        "89"
       ]
      },
      {
       "output_type": "stream",
       "stream": "stdout",
       "text": [
        " - Predicted: 2 Actual: [1] [ 0.  0.  1.  0.  0.  1.  0.]\n",
        "90"
       ]
      },
      {
       "output_type": "stream",
       "stream": "stdout",
       "text": [
        " - Predicted: 2 Actual: [2] [ 2.  4.  6.  0.  1.  2.  0.]\n",
        "91"
       ]
      },
      {
       "output_type": "stream",
       "stream": "stdout",
       "text": [
        " - Predicted: 1 Actual: [0] [  6363.  10173.   2773.    236.    577.   1762.    804.]\n",
        "92"
       ]
      },
      {
       "output_type": "stream",
       "stream": "stdout",
       "text": [
        " - Predicted: 0 Actual: [0] [ 4.  3.  1.  0.  0.  0.  0.]\n",
        "93"
       ]
      },
      {
       "output_type": "stream",
       "stream": "stdout",
       "text": [
        " - Predicted: 0 Actual: [0] [ 4.  3.  1.  0.  0.  0.  0.]\n",
        "94"
       ]
      },
      {
       "output_type": "stream",
       "stream": "stdout",
       "text": [
        " - Predicted: 0 Actual: [1] [ 245.  220.    1.    0.    1.    0.   23.]\n",
        "95"
       ]
      },
      {
       "output_type": "stream",
       "stream": "stdout",
       "text": [
        " - Predicted: 1 Actual: [0] [  3.  12.   0.   0.   0.   1.   0.]\n",
        "96"
       ]
      },
      {
       "output_type": "stream",
       "stream": "stdout",
       "text": [
        " - Predicted: 1 Actual: [1] [ 2.  7.  0.  0.  0.  0.  0.]\n",
        "97"
       ]
      },
      {
       "output_type": "stream",
       "stream": "stdout",
       "text": [
        " - Predicted: 1 Actual: [0] [ 42.  78.   1.   0.   0.   2.   1.]\n",
        "98"
       ]
      },
      {
       "output_type": "stream",
       "stream": "stdout",
       "text": [
        " - Predicted: 2 Actual: [2] [ 0.  1.  2.  0.  0.  0.  0.]\n",
        "99"
       ]
      },
      {
       "output_type": "stream",
       "stream": "stdout",
       "text": [
        " - Predicted: 1 Actual: [0] [  9.  13.   0.   0.   0.   0.   0.]\n",
        "100"
       ]
      },
      {
       "output_type": "stream",
       "stream": "stdout",
       "text": [
        " - Predicted: 0 Actual: [0] [ 19.   3.   0.   0.   0.   0.   2.]\n",
        "101"
       ]
      },
      {
       "output_type": "stream",
       "stream": "stdout",
       "text": [
        " - Predicted: 0 Actual: [1] [ 3272.  3233.    39.     0.   179.     5.   162.]\n",
        "102"
       ]
      },
      {
       "output_type": "stream",
       "stream": "stdout",
       "text": [
        " - Predicted: 1 Actual: [0] [ 1.  3.  0.  0.  0.  0.  0.]\n",
        "103"
       ]
      },
      {
       "output_type": "stream",
       "stream": "stdout",
       "text": [
        " - Predicted: 0 Actual: [0] [ 5.  2.  0.  0.  0.  0.  0.]\n",
        "104"
       ]
      },
      {
       "output_type": "stream",
       "stream": "stdout",
       "text": [
        " - Predicted: 1 Actual: [0] [ 1.  2.  0.  0.  0.  0.  0.]\n",
        "105"
       ]
      },
      {
       "output_type": "stream",
       "stream": "stdout",
       "text": [
        " - Predicted: 0 Actual: [0] [ 6.  3.  0.  0.  0.  0.  0.]\n",
        "106"
       ]
      },
      {
       "output_type": "stream",
       "stream": "stdout",
       "text": [
        " - Predicted: 1 Actual: [1] [ 326.  553.    0.    0.   25.    0.    0.]\n",
        "107"
       ]
      },
      {
       "output_type": "stream",
       "stream": "stdout",
       "text": [
        " - Predicted: 0 Actual: [0] [ 2.  1.  0.  0.  0.  0.  0.]\n",
        "108"
       ]
      },
      {
       "output_type": "stream",
       "stream": "stdout",
       "text": [
        " - Predicted: 1 Actual: [1] [  13.  170.   86.    0.    5.    0.    1.]\n",
        "109"
       ]
      },
      {
       "output_type": "stream",
       "stream": "stdout",
       "text": [
        " - Predicted: 1 Actual: [1] [ 13.  15.   0.   0.   0.   0.   0.]\n",
        "110"
       ]
      },
      {
       "output_type": "stream",
       "stream": "stdout",
       "text": [
        " - Predicted: 1 Actual: [1] [ 1.  2.  0.  0.  0.  0.  0.]\n",
        "111"
       ]
      },
      {
       "output_type": "stream",
       "stream": "stdout",
       "text": [
        " - Predicted: 1 Actual: [1] [  5.  25.   0.   0.   0.   0.   0.]\n",
        "112"
       ]
      },
      {
       "output_type": "stream",
       "stream": "stdout",
       "text": [
        " - Predicted: 1 Actual: [1] [ 311.  868.    5.    0.    6.   49.    3.]\n",
        "113"
       ]
      },
      {
       "output_type": "stream",
       "stream": "stdout",
       "text": [
        " - Predicted: 1 Actual: [1] [ 2.  9.  0.  0.  1.  0.  0.]\n",
        "114"
       ]
      },
      {
       "output_type": "stream",
       "stream": "stdout",
       "text": [
        " - Predicted: 1 Actual: [1] [ 2.  3.  0.  0.  1.  0.  0.]\n",
        "115"
       ]
      },
      {
       "output_type": "stream",
       "stream": "stdout",
       "text": [
        " - Predicted: 1 Actual: [1] [  3.  21.   0.   0.   4.   0.   0.]\n",
        "116"
       ]
      },
      {
       "output_type": "stream",
       "stream": "stdout",
       "text": [
        " - Predicted: 1 Actual: [1] [  259.  1058.    10.     0.    52.    16.     0.]\n",
        "117"
       ]
      },
      {
       "output_type": "stream",
       "stream": "stdout",
       "text": [
        " - Predicted: 1 Actual: [1] [ 25.  63.   0.   0.   0.   0.   0.]\n",
        "118"
       ]
      },
      {
       "output_type": "stream",
       "stream": "stdout",
       "text": [
        " - Predicted: 0 Actual: [1] [ 12.   2.   0.   0.   0.   0.   0.]\n",
        "119"
       ]
      },
      {
       "output_type": "stream",
       "stream": "stdout",
       "text": [
        " - Predicted: 1 Actual: [0] [  6.  10.   0.   0.   0.   0.   0.]\n",
        "120"
       ]
      },
      {
       "output_type": "stream",
       "stream": "stdout",
       "text": [
        " - Predicted: 0 Actual: [0] [ 10.   4.   0.   0.   0.   0.   0.]\n",
        "121"
       ]
      },
      {
       "output_type": "stream",
       "stream": "stdout",
       "text": [
        " - Predicted: 1 Actual: [1] [ 1473.  4212.     0.     0.     0.     0.    97.]\n",
        "122"
       ]
      },
      {
       "output_type": "stream",
       "stream": "stdout",
       "text": [
        " - Predicted: 0 Actual: [1] [ 343.  157.    0.    0.    0.    0.   11.]\n",
        "123"
       ]
      },
      {
       "output_type": "stream",
       "stream": "stdout",
       "text": [
        " - Predicted: 1 Actual: [1] [ 1.  3.  0.  0.  0.  0.  0.]\n",
        "124"
       ]
      },
      {
       "output_type": "stream",
       "stream": "stdout",
       "text": [
        " - Predicted: 0 Actual: [1] [ 2.  1.  0.  0.  0.  0.  0.]\n",
        "125"
       ]
      },
      {
       "output_type": "stream",
       "stream": "stdout",
       "text": [
        " - Predicted: 1 Actual: [0] [ 3.  4.  0.  0.  0.  0.  0.]\n",
        "126"
       ]
      },
      {
       "output_type": "stream",
       "stream": "stdout",
       "text": [
        " - Predicted: 1 Actual: [1] [  7.  57.   0.   0.   0.   0.   0.]\n",
        "127"
       ]
      },
      {
       "output_type": "stream",
       "stream": "stdout",
       "text": [
        " - Predicted: 0 Actual: [0] [ 294.  183.    0.    0.    0.    0.    0.]\n",
        "128"
       ]
      },
      {
       "output_type": "stream",
       "stream": "stdout",
       "text": [
        " - Predicted: 0 Actual: [0] [ 128.   28.    0.    0.    0.    0.   29.]\n",
        "129"
       ]
      },
      {
       "output_type": "stream",
       "stream": "stdout",
       "text": [
        " - Predicted: 1 Actual: [0] [ 1.  9.  0.  0.  0.  0.  0.]\n",
        "130"
       ]
      },
      {
       "output_type": "stream",
       "stream": "stdout",
       "text": [
        " - Predicted: 1 Actual: [1] [  47.  270.    0.    0.    0.    0.    1.]\n",
        "131"
       ]
      },
      {
       "output_type": "stream",
       "stream": "stdout",
       "text": [
        " - Predicted: 1 Actual: [1] [ 0.  4.  0.  0.  1.  0.  0.]\n",
        "132"
       ]
      },
      {
       "output_type": "stream",
       "stream": "stdout",
       "text": [
        " - Predicted: 0 Actual: [2] [ 3.  1.  0.  0.  0.  0.  0.]\n",
        "133"
       ]
      },
      {
       "output_type": "stream",
       "stream": "stdout",
       "text": [
        " - Predicted: 0 Actual: [0] [ 31.   6.   0.   0.   0.   0.   4.]\n",
        "134"
       ]
      },
      {
       "output_type": "stream",
       "stream": "stdout",
       "text": [
        " - Predicted: 0 Actual: [1] [ 428.  399.    0.    0.    0.    0.   40.]\n",
        "135"
       ]
      },
      {
       "output_type": "stream",
       "stream": "stdout",
       "text": [
        " - Predicted: 1 Actual: [1] [  2.  18.   0.   0.   0.   0.   0.]\n",
        "136"
       ]
      },
      {
       "output_type": "stream",
       "stream": "stdout",
       "text": [
        " - Predicted: 1 Actual: [0] [ 3300.  4640.     0.     0.   345.     0.    28.]\n",
        "137"
       ]
      },
      {
       "output_type": "stream",
       "stream": "stdout",
       "text": [
        " - Predicted: 1 Actual: [0] [ 123.  142.    0.    0.    5.    6.    0.]\n",
        "138"
       ]
      },
      {
       "output_type": "stream",
       "stream": "stdout",
       "text": [
        " - Predicted: 1 Actual: [1] [ 65.  70.   2.   0.   6.   1.   0.]\n",
        "139"
       ]
      },
      {
       "output_type": "stream",
       "stream": "stdout",
       "text": [
        " - Predicted: 2 Actual: [2] [  0.   2.  19.   0.   0.   2.   0.]\n",
        "140"
       ]
      },
      {
       "output_type": "stream",
       "stream": "stdout",
       "text": [
        " - Predicted: 1 Actual: [0] [ 708.  823.   23.    0.   48.   25.   34.]\n",
        "141"
       ]
      },
      {
       "output_type": "stream",
       "stream": "stdout",
       "text": [
        " - Predicted: 1 Actual: [0] [  1.  16.   0.   0.   0.   0.   1.]\n",
        "142"
       ]
      },
      {
       "output_type": "stream",
       "stream": "stdout",
       "text": [
        " - Predicted: 1 Actual: [0] [ 20.  40.   0.   0.   0.   0.   0.]\n",
        "143"
       ]
      },
      {
       "output_type": "stream",
       "stream": "stdout",
       "text": [
        " - Predicted: 0 Actual: [1] [ 1240.    56.     0.     0.     0.     0.   832.]\n",
        "144"
       ]
      },
      {
       "output_type": "stream",
       "stream": "stdout",
       "text": [
        " - Predicted: 1 Actual: [1] [ 1368.  2188.     6.     0.    95.    49.     5.]\n",
        "145"
       ]
      },
      {
       "output_type": "stream",
       "stream": "stdout",
       "text": [
        " - Predicted: 1 Actual: [0] [ 343.  609.  190.    0.    1.  139.    0.]\n",
        "146"
       ]
      },
      {
       "output_type": "stream",
       "stream": "stdout",
       "text": [
        " - Predicted: 0 Actual: [0] [ 21.   3.   0.   0.   0.   0.   0.]\n",
        "147"
       ]
      },
      {
       "output_type": "stream",
       "stream": "stdout",
       "text": [
        " - Predicted: 2 Actual: [2] [ 0.  3.  7.  0.  0.  2.  0.]\n",
        "148"
       ]
      },
      {
       "output_type": "stream",
       "stream": "stdout",
       "text": [
        " - Predicted: 1 Actual: [1] [  41.  220.    2.    0.    4.    0.    0.]\n",
        "149"
       ]
      },
      {
       "output_type": "stream",
       "stream": "stdout",
       "text": [
        " - Predicted: 0 Actual: [1] [ 129.  102.    0.    0.    0.    0.    1.]\n",
        "150"
       ]
      },
      {
       "output_type": "stream",
       "stream": "stdout",
       "text": [
        " - Predicted: 1 Actual: [1] [ 243.  258.    0.    0.    0.    0.    0.]\n",
        "151"
       ]
      },
      {
       "output_type": "stream",
       "stream": "stdout",
       "text": [
        " - Predicted: 1 Actual: [1] [ 11.  35.  10.   0.   0.   4.   3.]\n",
        "152"
       ]
      },
      {
       "output_type": "stream",
       "stream": "stdout",
       "text": [
        " - Predicted: 1 Actual: [1] [  3.80670000e+04   7.62600000e+04   1.25300000e+03   2.50000000e+01\n",
        "   5.21600000e+03   1.12000000e+02   1.09900000e+03]\n",
        "153"
       ]
      },
      {
       "output_type": "stream",
       "stream": "stdout",
       "text": [
        " - Predicted: 1 Actual: [0] [ 54.  59.   0.   0.   0.   0.   0.]\n",
        "154"
       ]
      },
      {
       "output_type": "stream",
       "stream": "stdout",
       "text": [
        " - Predicted: 0 Actual: [1] [ 16.  16.   0.   0.   0.   0.   0.]\n",
        "155"
       ]
      },
      {
       "output_type": "stream",
       "stream": "stdout",
       "text": [
        " - Predicted: 0 Actual: [0] [ 2.  1.  0.  0.  0.  0.  0.]\n",
        "156"
       ]
      },
      {
       "output_type": "stream",
       "stream": "stdout",
       "text": [
        " - Predicted: 1 Actual: [1] [ 76.  79.   2.   0.  11.   1.   0.]\n",
        "157"
       ]
      },
      {
       "output_type": "stream",
       "stream": "stdout",
       "text": [
        " - Predicted: 1 Actual: [1] [  505.  1837.    55.     0.    65.    60.     0.]\n",
        "158"
       ]
      },
      {
       "output_type": "stream",
       "stream": "stdout",
       "text": [
        " - Predicted: 1 Actual: [0] [ 20.  29.   2.   0.   2.   3.   0.]\n",
        "159"
       ]
      },
      {
       "output_type": "stream",
       "stream": "stdout",
       "text": [
        " - Predicted: 0 Actual: [0] [ 153.   19.    0.    0.    3.    0.   16.]\n",
        "160"
       ]
      },
      {
       "output_type": "stream",
       "stream": "stdout",
       "text": [
        " - Predicted: 1 Actual: [1] [ 101.  140.    3.    0.    9.    0.    2.]\n",
        "161"
       ]
      },
      {
       "output_type": "stream",
       "stream": "stdout",
       "text": [
        " - Predicted: 1 Actual: [0] [ 46.  64.   0.   0.   0.   0.   1.]\n",
        "162"
       ]
      },
      {
       "output_type": "stream",
       "stream": "stdout",
       "text": [
        " - Predicted: 1 Actual: [1] [ 0.  1.  1.  0.  0.  0.  0.]\n",
        "163"
       ]
      },
      {
       "output_type": "stream",
       "stream": "stdout",
       "text": [
        " - Predicted: 0 Actual: [1] [ 6.  5.  0.  0.  0.  0.  0.]\n",
        "164"
       ]
      },
      {
       "output_type": "stream",
       "stream": "stdout",
       "text": [
        " - Predicted: 1 Actual: [1] [ 1.  4.  0.  0.  0.  0.  0.]\n",
        "165"
       ]
      },
      {
       "output_type": "stream",
       "stream": "stdout",
       "text": [
        " - Predicted: 0 Actual: [0] [ 364.  135.    0.    0.    0.    1.    2.]\n",
        "166"
       ]
      },
      {
       "output_type": "stream",
       "stream": "stdout",
       "text": [
        " - Predicted: 1 Actual: [1] [  9.  15.  10.   1.   3.   0.   0.]\n",
        "167"
       ]
      },
      {
       "output_type": "stream",
       "stream": "stdout",
       "text": [
        " - Predicted: 1 Actual: [1] [  80.  136.    0.    0.    0.    0.    0.]\n",
        "168"
       ]
      },
      {
       "output_type": "stream",
       "stream": "stdout",
       "text": [
        " - Predicted: 1 Actual: [0] [ 2.  6.  0.  0.  0.  0.  0.]\n",
        "169"
       ]
      },
      {
       "output_type": "stream",
       "stream": "stdout",
       "text": [
        " - Predicted: 0 Actual: [0] [ 100.   54.    0.    0.    2.    0.    0.]\n",
        "170"
       ]
      },
      {
       "output_type": "stream",
       "stream": "stdout",
       "text": [
        " - Predicted: 0 Actual: [2] [ 1.  0.  1.  0.  1.  0.  0.]\n",
        "171"
       ]
      },
      {
       "output_type": "stream",
       "stream": "stdout",
       "text": [
        " - Predicted: 1 Actual: [0] [  368.  1457.    69.     0.    40.    24.     0.]\n",
        "172"
       ]
      },
      {
       "output_type": "stream",
       "stream": "stdout",
       "text": [
        " - Predicted: 0 Actual: [0] [ 62.  15.   0.   0.   0.   0.  20.]\n",
        "173"
       ]
      },
      {
       "output_type": "stream",
       "stream": "stdout",
       "text": [
        " - Predicted: 1 Actual: [1] [ 122.  165.    1.    0.    0.    3.    4.]\n",
        "174"
       ]
      },
      {
       "output_type": "stream",
       "stream": "stdout",
       "text": [
        " - Predicted: 0 Actual: [0] [ 2.  1.  0.  0.  0.  0.  0.]\n",
        "175"
       ]
      },
      {
       "output_type": "stream",
       "stream": "stdout",
       "text": [
        " - Predicted: 6 Actual: [1] [ 1.  0.  1.  0.  0.  0.  2.]\n",
        "176"
       ]
      },
      {
       "output_type": "stream",
       "stream": "stdout",
       "text": [
        " - Predicted: 1 Actual: [2] [ 2.  6.  0.  0.  0.  0.  0.]\n",
        "177"
       ]
      },
      {
       "output_type": "stream",
       "stream": "stdout",
       "text": [
        " - Predicted: 0 Actual: [1] [ 7577.  5860.     0.     0.    10.     0.    15.]\n",
        "178"
       ]
      },
      {
       "output_type": "stream",
       "stream": "stdout",
       "text": [
        " - Predicted: 0 Actual: [0] [ 149.  111.    0.    0.    5.    0.    0.]\n",
        "179"
       ]
      },
      {
       "output_type": "stream",
       "stream": "stdout",
       "text": [
        " - Predicted: 2 Actual: [2] [  7.  15.  18.   0.   1.   9.   0.]\n",
        "180"
       ]
      },
      {
       "output_type": "stream",
       "stream": "stdout",
       "text": [
        " - Predicted: 1 Actual: [1] [  4.  73.   0.   0.   0.   0.   0.]\n",
        "181"
       ]
      },
      {
       "output_type": "stream",
       "stream": "stdout",
       "text": [
        " - Predicted: 2 Actual: [2] [  342.   964.  2504.   109.     8.   654.     0.]\n",
        "182"
       ]
      },
      {
       "output_type": "stream",
       "stream": "stdout",
       "text": [
        " - Predicted: 1 Actual: [1] [ 169.  580.   34.    0.   23.   26.    0.]\n",
        "183"
       ]
      },
      {
       "output_type": "stream",
       "stream": "stdout",
       "text": [
        " - Predicted: 1 Actual: [0] [ 28801.  36558.   1309.      0.   1326.   1224.   1963.]\n",
        "184"
       ]
      },
      {
       "output_type": "stream",
       "stream": "stdout",
       "text": [
        " - Predicted: 1 Actual: [0] [ 29002.  36860.   1319.      0.   1334.   1230.   1973.]\n",
        "185"
       ]
      },
      {
       "output_type": "stream",
       "stream": "stdout",
       "text": [
        " - Predicted: 0 Actual: [0] [ 21.  15.   0.   0.   0.   0.   2.]\n",
        "186"
       ]
      },
      {
       "output_type": "stream",
       "stream": "stdout",
       "text": [
        " - Predicted: 0 Actual: [0] [ 4.  1.  0.  0.  0.  0.  0.]\n",
        "187"
       ]
      },
      {
       "output_type": "stream",
       "stream": "stdout",
       "text": [
        " - Predicted: 1 Actual: [2] [  789.  2261.  1880.   189.   331.   667.     0.]\n",
        "188"
       ]
      },
      {
       "output_type": "stream",
       "stream": "stdout",
       "text": [
        " - Predicted: 1 Actual: [0] [  5.33380000e+04   1.07513000e+05   1.59500000e+03   4.40000000e+01\n",
        "   7.73500000e+03   1.40000000e+02   1.42600000e+03]\n",
        "189"
       ]
      },
      {
       "output_type": "stream",
       "stream": "stdout",
       "text": [
        " - Predicted: 0 Actual: [0] [ 40.   4.   0.   0.   0.   0.  14.]\n",
        "190"
       ]
      },
      {
       "output_type": "stream",
       "stream": "stdout",
       "text": [
        " - Predicted: 1 Actual: [1] [  10.  241.   10.    0.    6.    0.    0.]\n",
        "191"
       ]
      },
      {
       "output_type": "stream",
       "stream": "stdout",
       "text": [
        " - Predicted: 1 Actual: [1] [  436.  1843.    19.     0.    74.    62.     0.]\n",
        "192"
       ]
      },
      {
       "output_type": "stream",
       "stream": "stdout",
       "text": [
        " - Predicted: 1 Actual: [1] [  980.  6867.  1820.   464.   778.  1512.     0.]\n",
        "193"
       ]
      },
      {
       "output_type": "stream",
       "stream": "stdout",
       "text": [
        " - Predicted: 0 Actual: [0] [ 10.   1.   0.   0.   0.   0.   0.]\n",
        "194"
       ]
      },
      {
       "output_type": "stream",
       "stream": "stdout",
       "text": [
        " - Predicted: 0 Actual: [0] [ 180.   80.    0.    0.    0.    0.    9.]\n",
        "195"
       ]
      },
      {
       "output_type": "stream",
       "stream": "stdout",
       "text": [
        " - Predicted: 0 Actual: [0] [ 851.  453.    0.    0.   47.    0.    0.]\n",
        "196"
       ]
      },
      {
       "output_type": "stream",
       "stream": "stdout",
       "text": [
        " - Predicted: 1 Actual: [1] [  2.55300000e+03   3.37400000e+03   2.32000000e+02   2.00000000e+00\n",
        "   1.70000000e+02   4.20000000e+01   3.39000000e+02]\n",
        "197"
       ]
      },
      {
       "output_type": "stream",
       "stream": "stdout",
       "text": [
        " - Predicted: 1 Actual: [0] [  6.  12.   0.   0.   0.   0.   0.]\n",
        "198"
       ]
      },
      {
       "output_type": "stream",
       "stream": "stdout",
       "text": [
        " - Predicted: 1 Actual: [1] [ 12.  15.   0.   0.   1.   0.   0.]\n",
        "199"
       ]
      },
      {
       "output_type": "stream",
       "stream": "stdout",
       "text": [
        " - Predicted: 0 Actual: [0] [ 1.  1.  0.  0.  0.  0.  0.]\n",
        "200"
       ]
      },
      {
       "output_type": "stream",
       "stream": "stdout",
       "text": [
        " - Predicted: 1 Actual: [0] [ 1066.  2040.    43.     0.    62.    50.    21.]\n",
        "201"
       ]
      },
      {
       "output_type": "stream",
       "stream": "stdout",
       "text": [
        " - Predicted: 1 Actual: [0] [ 3168.  4120.    67.     0.    28.    75.   512.]\n",
        "202"
       ]
      },
      {
       "output_type": "stream",
       "stream": "stdout",
       "text": [
        " - Predicted: 1 Actual: [1] [ 19.  26.   3.   0.   3.   2.   1.]\n",
        "203"
       ]
      },
      {
       "output_type": "stream",
       "stream": "stdout",
       "text": [
        " - Predicted: 1 Actual: [0] [ 4961.  5189.    77.     0.    21.    41.   490.]\n",
        "204"
       ]
      },
      {
       "output_type": "stream",
       "stream": "stdout",
       "text": [
        " - Predicted: 0 Actual: [0] [ 201.  166.    0.    0.    3.   10.   11.]\n",
        "205"
       ]
      },
      {
       "output_type": "stream",
       "stream": "stdout",
       "text": [
        " - Predicted: 5 Actual: [2] [ 0.  0.  1.  0.  0.  4.  0.]\n",
        "206"
       ]
      },
      {
       "output_type": "stream",
       "stream": "stdout",
       "text": [
        " - Predicted: 0 Actual: [0] [ 2.  1.  0.  0.  0.  0.  0.]\n",
        "207"
       ]
      },
      {
       "output_type": "stream",
       "stream": "stdout",
       "text": [
        " - Predicted: 1 Actual: [1] [ 2.  5.  0.  0.  0.  0.  0.]\n",
        "208"
       ]
      },
      {
       "output_type": "stream",
       "stream": "stdout",
       "text": [
        " - Predicted: 1 Actual: [1] [ 212.  241.   12.    0.    0.    6.   14.]\n",
        "209"
       ]
      },
      {
       "output_type": "stream",
       "stream": "stdout",
       "text": [
        " - Predicted: 1 Actual: [1] [ 1.  4.  2.  0.  1.  0.  0.]\n",
        "210"
       ]
      },
      {
       "output_type": "stream",
       "stream": "stdout",
       "text": [
        " - Predicted: 0 Actual: [1] [ 1.  1.  0.  0.  0.  0.  0.]\n",
        "211"
       ]
      },
      {
       "output_type": "stream",
       "stream": "stdout",
       "text": [
        " - Predicted: 1 Actual: [1] [  30.  165.    0.    0.    0.    0.    0.]\n",
        "212"
       ]
      },
      {
       "output_type": "stream",
       "stream": "stdout",
       "text": [
        " - Predicted: 6 Actual: [0] [  36.    0.    0.    0.    0.    0.  112.]\n",
        "213"
       ]
      },
      {
       "output_type": "stream",
       "stream": "stdout",
       "text": [
        " - Predicted: 0 Actual: [1] [ 6.  3.  0.  0.  0.  0.  0.]\n",
        "214"
       ]
      },
      {
       "output_type": "stream",
       "stream": "stdout",
       "text": [
        " - Predicted: 1 Actual: [1] [ 251.  548.    1.    0.    1.    0.    0.]\n",
        "215"
       ]
      },
      {
       "output_type": "stream",
       "stream": "stdout",
       "text": [
        " - Predicted: 1 Actual: [0] [  4.  52.   0.   0.   0.   0.   0.]\n",
        "216"
       ]
      },
      {
       "output_type": "stream",
       "stream": "stdout",
       "text": [
        " - Predicted: 1 Actual: [0] [ 37.  77.   4.   0.   1.   0.   0.]\n",
        "217"
       ]
      },
      {
       "output_type": "stream",
       "stream": "stdout",
       "text": [
        " - Predicted: 0 Actual: [0] [ 962.    0.    0.    0.    0.    0.  437.]\n",
        "218"
       ]
      },
      {
       "output_type": "stream",
       "stream": "stdout",
       "text": [
        " - Predicted: 1 Actual: [1] [ 0.  4.  1.  0.  0.  0.  0.]\n",
        "219"
       ]
      },
      {
       "output_type": "stream",
       "stream": "stdout",
       "text": [
        " - Predicted: 1 Actual: [1] [ 141.  799.  472.    0.   16.  172.    0.]\n",
        "220"
       ]
      },
      {
       "output_type": "stream",
       "stream": "stdout",
       "text": [
        " - Predicted: 1 Actual: [0] [ 13.  40.   0.   0.   0.   0.   0.]\n",
        "221"
       ]
      },
      {
       "output_type": "stream",
       "stream": "stdout",
       "text": [
        " - Predicted: 1 Actual: [1] [ 13.  40.   0.   0.   0.   0.   0.]\n",
        "222"
       ]
      },
      {
       "output_type": "stream",
       "stream": "stdout",
       "text": [
        " - Predicted: 1 Actual: [2] [ 1283.  3582.   240.     0.   102.   169.     0.]\n",
        "223"
       ]
      },
      {
       "output_type": "stream",
       "stream": "stdout",
       "text": [
        " - Predicted: 1 Actual: [0] [ 27.  79.   0.   0.   2.   0.   0.]\n",
        "224"
       ]
      },
      {
       "output_type": "stream",
       "stream": "stdout",
       "text": [
        " - Predicted: 1 Actual: [1] [ 2.  6.  0.  0.  0.  0.  0.]\n",
        "225"
       ]
      },
      {
       "output_type": "stream",
       "stream": "stdout",
       "text": [
        " - Predicted: 5 Actual: [2] [ 0.  4.  4.  0.  0.  7.  0.]\n",
        "226"
       ]
      },
      {
       "output_type": "stream",
       "stream": "stdout",
       "text": [
        " - Predicted: 1 Actual: [1] [ 13.  30.   0.   0.   0.   0.   0.]\n",
        "227"
       ]
      },
      {
       "output_type": "stream",
       "stream": "stdout",
       "text": [
        " - Predicted: 1 Actual: [1] [ 0.  5.  0.  0.  1.  0.  0.]\n",
        "228"
       ]
      },
      {
       "output_type": "stream",
       "stream": "stdout",
       "text": [
        " - Predicted: 2 Actual: [1] [ 0.  2.  4.  0.  0.  0.  0.]\n",
        "229"
       ]
      },
      {
       "output_type": "stream",
       "stream": "stdout",
       "text": [
        " - Predicted: 1 Actual: [0] [  838.  1427.    69.     0.     4.    40.    35.]\n",
        "230"
       ]
      },
      {
       "output_type": "stream",
       "stream": "stdout",
       "text": [
        " - Predicted: 5 Actual: [2] [ 0.  1.  1.  0.  0.  2.  0.]\n",
        "231"
       ]
      },
      {
       "output_type": "stream",
       "stream": "stdout",
       "text": [
        " - Predicted: 1 Actual: [1] [ 144.  185.    8.    0.    6.    5.   14.]\n",
        "232"
       ]
      },
      {
       "output_type": "stream",
       "stream": "stdout",
       "text": [
        " - Predicted: 1 Actual: [0] [ 137.  175.   12.    0.    2.    2.   13.]\n",
        "233"
       ]
      },
      {
       "output_type": "stream",
       "stream": "stdout",
       "text": [
        " - Predicted: 1 Actual: [0] [  64.  103.    5.    0.    1.    6.    9.]\n",
        "234"
       ]
      },
      {
       "output_type": "stream",
       "stream": "stdout",
       "text": [
        " - Predicted: 1 Actual: [0] [ 433.  875.  563.   89.    0.  209.   29.]\n",
        "235"
       ]
      },
      {
       "output_type": "stream",
       "stream": "stdout",
       "text": [
        " - Predicted: 1 Actual: [0] [ 17.  21.   0.   0.   0.   1.   1.]\n",
        "236"
       ]
      },
      {
       "output_type": "stream",
       "stream": "stdout",
       "text": [
        " - Predicted: 1 Actual: [0] [ 0.  3.  1.  0.  0.  0.  0.]\n",
        "237"
       ]
      },
      {
       "output_type": "stream",
       "stream": "stdout",
       "text": [
        " - Predicted: 0 Actual: [0] [ 183.  162.    0.    0.    0.    0.    4.]\n",
        "238"
       ]
      },
      {
       "output_type": "stream",
       "stream": "stdout",
       "text": [
        " - Predicted: 0 Actual: [1] [ 7.  7.  0.  0.  0.  0.  0.]\n",
        "239"
       ]
      },
      {
       "output_type": "stream",
       "stream": "stdout",
       "text": [
        " - Predicted: 1 Actual: [0] [ 20.  30.   0.   0.   0.   0.   0.]\n",
        "240"
       ]
      },
      {
       "output_type": "stream",
       "stream": "stdout",
       "text": [
        " - Predicted: 0 Actual: [1] [ 14.  11.   0.   0.   0.   0.   1.]\n",
        "241"
       ]
      },
      {
       "output_type": "stream",
       "stream": "stdout",
       "text": [
        " - Predicted: 0 Actual: [0] [ 4149.  1004.     0.     0.     0.     0.    76.]\n",
        "242"
       ]
      },
      {
       "output_type": "stream",
       "stream": "stdout",
       "text": [
        " - Predicted: 1 Actual: [1] [ 2.  4.  0.  0.  0.  0.  3.]\n",
        "243"
       ]
      },
      {
       "output_type": "stream",
       "stream": "stdout",
       "text": [
        " - Predicted: 1 Actual: [1] [ 0.  5.  1.  0.  0.  0.  0.]\n",
        "244"
       ]
      },
      {
       "output_type": "stream",
       "stream": "stdout",
       "text": [
        " - Predicted: 1 Actual: [1] [  8.  11.   0.   0.   0.   0.   0.]\n",
        "245"
       ]
      },
      {
       "output_type": "stream",
       "stream": "stdout",
       "text": [
        " - Predicted: 1 Actual: [1] [  41.  100.    0.    0.    0.    0.    0.]\n",
        "246"
       ]
      },
      {
       "output_type": "stream",
       "stream": "stdout",
       "text": [
        " - Predicted: 1 Actual: [1] [ 26836.  39436.  27566.    725.    305.  12861.    368.]\n",
        "247"
       ]
      },
      {
       "output_type": "stream",
       "stream": "stdout",
       "text": [
        " - Predicted: 1 Actual: [1] [ 62.  76.   0.   0.   6.   0.   0.]\n",
        "248"
       ]
      },
      {
       "output_type": "stream",
       "stream": "stdout",
       "text": [
        " - Predicted: 0 Actual: [1] [ 923.  210.    0.    0.    0.    0.   32.]\n",
        "249"
       ]
      },
      {
       "output_type": "stream",
       "stream": "stdout",
       "text": [
        " - Predicted: 1 Actual: [1] [ 4.  6.  0.  0.  0.  0.  0.]\n",
        "250"
       ]
      },
      {
       "output_type": "stream",
       "stream": "stdout",
       "text": [
        " - Predicted: 1 Actual: [1] [ 10.  71.  14.   0.  13.   0.   0.]\n",
        "251"
       ]
      },
      {
       "output_type": "stream",
       "stream": "stdout",
       "text": [
        " - Predicted: 0 Actual: [0] [ 8.  8.  0.  0.  0.  0.  0.]\n",
        "252"
       ]
      },
      {
       "output_type": "stream",
       "stream": "stdout",
       "text": [
        " - Predicted: 1 Actual: [1] [ 6.  7.  0.  0.  0.  0.  0.]\n",
        "253"
       ]
      },
      {
       "output_type": "stream",
       "stream": "stdout",
       "text": [
        " - Predicted: 0 Actual: [0] [ 44.  23.   0.   0.   0.   0.   0.]\n",
        "254"
       ]
      },
      {
       "output_type": "stream",
       "stream": "stdout",
       "text": [
        " - Predicted: 1 Actual: [0] [ 38.  48.   4.   0.   0.   0.   0.]\n",
        "255"
       ]
      },
      {
       "output_type": "stream",
       "stream": "stdout",
       "text": [
        " - Predicted: 0 Actual: [1] [ 7.  6.  0.  0.  0.  0.  0.]\n",
        "256"
       ]
      },
      {
       "output_type": "stream",
       "stream": "stdout",
       "text": [
        " - Predicted: 1 Actual: [1] [ 2.  5.  0.  0.  0.  0.  0.]\n",
        "257"
       ]
      },
      {
       "output_type": "stream",
       "stream": "stdout",
       "text": [
        " - Predicted: 0 Actual: [0] [ 4.  4.  0.  0.  0.  0.  0.]\n",
        "258"
       ]
      },
      {
       "output_type": "stream",
       "stream": "stdout",
       "text": [
        " - Predicted: 0 Actual: [0] [ 1.  1.  0.  0.  0.  0.  0.]\n",
        "259"
       ]
      },
      {
       "output_type": "stream",
       "stream": "stdout",
       "text": [
        " - Predicted: 0 Actual: [1] [ 1.  1.  0.  0.  0.  0.  0.]\n",
        "260"
       ]
      },
      {
       "output_type": "stream",
       "stream": "stdout",
       "text": [
        " - Predicted: 1 Actual: [1] [  6.  21.   0.   0.   0.   0.   0.]\n",
        "261"
       ]
      },
      {
       "output_type": "stream",
       "stream": "stdout",
       "text": [
        " - Predicted: 1 Actual: [0] [ 181.  201.    0.    0.    0.    0.   53.]\n",
        "262"
       ]
      },
      {
       "output_type": "stream",
       "stream": "stdout",
       "text": [
        " - Predicted: 1 Actual: [0] [ 644.  705.    0.    0.    0.    0.    0.]\n",
        "263"
       ]
      },
      {
       "output_type": "stream",
       "stream": "stdout",
       "text": [
        " - Predicted: 1 Actual: [1] [ 20.  53.   0.   0.   0.   0.   1.]\n",
        "264"
       ]
      },
      {
       "output_type": "stream",
       "stream": "stdout",
       "text": [
        " - Predicted: 1 Actual: [1] [  4.  11.   0.   0.   0.   0.   0.]\n",
        "265"
       ]
      },
      {
       "output_type": "stream",
       "stream": "stdout",
       "text": [
        " - Predicted: 1 Actual: [1] [ 10.  16.   0.   0.   0.   0.   0.]\n",
        "266"
       ]
      },
      {
       "output_type": "stream",
       "stream": "stdout",
       "text": [
        " - Predicted: 1 Actual: [1] [ 2.  4.  0.  0.  2.  0.  0.]\n",
        "267"
       ]
      },
      {
       "output_type": "stream",
       "stream": "stdout",
       "text": [
        " - Predicted: 1 Actual: [1] [ 1.  2.  0.  0.  0.  0.  0.]\n",
        "268"
       ]
      },
      {
       "output_type": "stream",
       "stream": "stdout",
       "text": [
        " - Predicted: 1 Actual: [2] [  12.  207.  175.    0.   17.   99.    0.]\n",
        "269"
       ]
      },
      {
       "output_type": "stream",
       "stream": "stdout",
       "text": [
        " - Predicted: 0 Actual: [0] [ 2.  1.  0.  0.  0.  0.  0.]\n",
        "270"
       ]
      },
      {
       "output_type": "stream",
       "stream": "stdout",
       "text": [
        " - Predicted: 1 Actual: [1] [ 0.  2.  0.  0.  0.  1.  0.]\n",
        "271"
       ]
      },
      {
       "output_type": "stream",
       "stream": "stdout",
       "text": [
        " - Predicted: 0 Actual: [1] [ 1.  1.  0.  0.  0.  0.  0.]\n",
        "272"
       ]
      },
      {
       "output_type": "stream",
       "stream": "stdout",
       "text": [
        " - Predicted: 0 Actual: [0] [ 3.  2.  0.  0.  0.  0.  0.]\n",
        "273"
       ]
      },
      {
       "output_type": "stream",
       "stream": "stdout",
       "text": [
        " - Predicted: 2 Actual: [2] [ 0.  0.  3.  0.  0.  3.  0.]\n",
        "274"
       ]
      },
      {
       "output_type": "stream",
       "stream": "stdout",
       "text": [
        " - Predicted: 1 Actual: [1] [ 2.  4.  0.  0.  0.  0.  0.]\n",
        "275"
       ]
      },
      {
       "output_type": "stream",
       "stream": "stdout",
       "text": [
        " - Predicted: 1 Actual: [1] [  39.  286.    0.    0.    0.    0.    0.]\n",
        "276"
       ]
      },
      {
       "output_type": "stream",
       "stream": "stdout",
       "text": [
        " - Predicted: 1 Actual: [1] [ 13.  37.   0.   0.   0.   0.   0.]\n",
        "277"
       ]
      },
      {
       "output_type": "stream",
       "stream": "stdout",
       "text": [
        " - Predicted: 1 Actual: [0] [ 11.  15.   0.   0.   1.   0.   0.]\n",
        "278"
       ]
      },
      {
       "output_type": "stream",
       "stream": "stdout",
       "text": [
        " - Predicted: 0 Actual: [0] [ 21.  11.   0.   0.   0.   0.   0.]\n",
        "279"
       ]
      },
      {
       "output_type": "stream",
       "stream": "stdout",
       "text": [
        " - Predicted: 0 Actual: [0] [ 5.  4.  0.  0.  0.  0.  0.]\n",
        "280"
       ]
      },
      {
       "output_type": "stream",
       "stream": "stdout",
       "text": [
        " - Predicted: 1 Actual: [1] [  9894.  12010.    100.      0.     55.     58.    957.]\n",
        "281"
       ]
      },
      {
       "output_type": "stream",
       "stream": "stdout",
       "text": [
        " - Predicted: 2 Actual: [2] [ 0.  2.  3.  0.  0.  0.  0.]\n",
        "282"
       ]
      },
      {
       "output_type": "stream",
       "stream": "stdout",
       "text": [
        " - Predicted: 1 Actual: [1] [ 3.  7.  0.  0.  0.  0.  0.]\n",
        "283"
       ]
      },
      {
       "output_type": "stream",
       "stream": "stdout",
       "text": [
        " - Predicted: 1 Actual: [0] [ 1553.  3969.   143.     0.   491.    46.     0.]\n",
        "284"
       ]
      },
      {
       "output_type": "stream",
       "stream": "stdout",
       "text": [
        " - Predicted: 1 Actual: [1] [  655.  1197.    65.     0.    44.    64.     5.]\n",
        "285"
       ]
      },
      {
       "output_type": "stream",
       "stream": "stdout",
       "text": [
        " - Predicted: 1 Actual: [1] [  2.12400000e+04   4.62150000e+04   3.22580000e+04   7.11000000e+02\n",
        "   3.89000000e+02   1.61860000e+04   1.00000000e+00]\n",
        "286"
       ]
      },
      {
       "output_type": "stream",
       "stream": "stdout",
       "text": [
        " - Predicted: 1 Actual: [1] [ 4196.  8267.  2922.   202.   396.  1474.   266.]\n",
        "287"
       ]
      },
      {
       "output_type": "stream",
       "stream": "stdout",
       "text": [
        " - Predicted: 0 Actual: [0] [ 1180.  1178.   386.   299.   191.   560.    63.]\n",
        "288"
       ]
      },
      {
       "output_type": "stream",
       "stream": "stdout",
       "text": [
        " - Predicted: 1 Actual: [1] [  1.  15.   0.   0.   0.   0.   0.]\n",
        "289"
       ]
      },
      {
       "output_type": "stream",
       "stream": "stdout",
       "text": [
        " - Predicted: 0 Actual: [0] [ 13.   0.   0.   0.   0.   0.  11.]\n",
        "290"
       ]
      },
      {
       "output_type": "stream",
       "stream": "stdout",
       "text": [
        " - Predicted: 1 Actual: [1] [  341.  3105.     0.     0.     0.     0.     0.]\n",
        "291"
       ]
      },
      {
       "output_type": "stream",
       "stream": "stdout",
       "text": [
        " - Predicted: 1 Actual: [2] [  31.  155.  101.    0.   15.   25.    0.]\n",
        "292"
       ]
      },
      {
       "output_type": "stream",
       "stream": "stdout",
       "text": [
        " - Predicted: 1 Actual: [0] [ 2030.  2650.    88.     9.    53.    30.   112.]\n",
        "293"
       ]
      },
      {
       "output_type": "stream",
       "stream": "stdout",
       "text": [
        " - Predicted: 1 Actual: [1] [ 32.  49.   0.   0.   0.   0.   0.]\n",
        "294"
       ]
      },
      {
       "output_type": "stream",
       "stream": "stdout",
       "text": [
        " - Predicted: 1 Actual: [1] [ 1.  2.  0.  0.  0.  0.  0.]\n",
        "295"
       ]
      },
      {
       "output_type": "stream",
       "stream": "stdout",
       "text": [
        " - Predicted: 0 Actual: [0] [ 199.   17.    0.    0.    0.    0.   27.]\n",
        "296"
       ]
      },
      {
       "output_type": "stream",
       "stream": "stdout",
       "text": [
        " - Predicted: 1 Actual: [1] [  3.  45.   0.   0.   0.   0.   0.]\n",
        "297"
       ]
      },
      {
       "output_type": "stream",
       "stream": "stdout",
       "text": [
        " - Predicted: 0 Actual: [0] [ 686.  116.    0.    0.    0.    0.  235.]\n",
        "298"
       ]
      },
      {
       "output_type": "stream",
       "stream": "stdout",
       "text": [
        " - Predicted: 0 Actual: [0] [ 6.  4.  0.  0.  1.  0.  0.]\n",
        "299"
       ]
      },
      {
       "output_type": "stream",
       "stream": "stdout",
       "text": [
        " - Predicted: 1 Actual: [1] [ 24.  41.   4.   0.   2.   7.   0.]\n",
        "300"
       ]
      },
      {
       "output_type": "stream",
       "stream": "stdout",
       "text": [
        " - Predicted: 1 Actual: [0] [ 20.  47.   0.   0.   0.   2.   0.]\n",
        "301"
       ]
      },
      {
       "output_type": "stream",
       "stream": "stdout",
       "text": [
        " - Predicted: 0 Actual: [0] [ 1134.  1131.     0.     0.     0.     0.     0.]\n",
        "302"
       ]
      },
      {
       "output_type": "stream",
       "stream": "stdout",
       "text": [
        " - Predicted: 1 Actual: [2] [  741.  1862.  1145.    32.    12.   776.     0.]\n",
        "303"
       ]
      },
      {
       "output_type": "stream",
       "stream": "stdout",
       "text": [
        " - Predicted: 1 Actual: [1] [ 15.  42.  12.   1.   0.  12.   0.]\n",
        "304"
       ]
      },
      {
       "output_type": "stream",
       "stream": "stdout",
       "text": [
        " - Predicted: 0 Actual: [0] [ 8.  8.  0.  0.  0.  0.  0.]\n",
        "305"
       ]
      },
      {
       "output_type": "stream",
       "stream": "stdout",
       "text": [
        " - Predicted: 0 Actual: [0] [ 7.  1.  0.  0.  0.  0.  0.]\n",
        "306"
       ]
      },
      {
       "output_type": "stream",
       "stream": "stdout",
       "text": [
        " - Predicted: 1 Actual: [1] [ 1472.  2054.    38.     0.    51.    21.    88.]\n",
        "307"
       ]
      },
      {
       "output_type": "stream",
       "stream": "stdout",
       "text": [
        " - Predicted: 1 Actual: [1] [  34.  248.    0.    0.    0.    0.    0.]\n",
        "308"
       ]
      },
      {
       "output_type": "stream",
       "stream": "stdout",
       "text": [
        " - Predicted: 1 Actual: [0] [ 4.  6.  0.  0.  0.  0.  0.]\n",
        "309"
       ]
      },
      {
       "output_type": "stream",
       "stream": "stdout",
       "text": [
        " - Predicted: 1 Actual: [0] [ 15.  23.   0.   0.   0.   0.   0.]\n",
        "310"
       ]
      },
      {
       "output_type": "stream",
       "stream": "stdout",
       "text": [
        " - Predicted: 1 Actual: [1] [  380.  1172.   332.    34.   100.   342.     0.]\n",
        "311"
       ]
      },
      {
       "output_type": "stream",
       "stream": "stdout",
       "text": [
        " - Predicted: 0 Actual: [0] [ 125.    8.    0.    0.    0.    0.    0.]\n",
        "312"
       ]
      },
      {
       "output_type": "stream",
       "stream": "stdout",
       "text": [
        " - Predicted: 1 Actual: [1] [ 11626.  18677.   1122.      0.    764.    147.      0.]\n",
        "313"
       ]
      },
      {
       "output_type": "stream",
       "stream": "stdout",
       "text": [
        " - Predicted: 2 Actual: [1] [  61.  133.  148.    0.   78.   19.    0.]\n",
        "314"
       ]
      },
      {
       "output_type": "stream",
       "stream": "stdout",
       "text": [
        " - Predicted: 1 Actual: [2] [ 0.  7.  7.  1.  0.  7.  0.]\n",
        "315"
       ]
      },
      {
       "output_type": "stream",
       "stream": "stdout",
       "text": [
        " - Predicted: 1 Actual: [0] [ 2092.  5364.   167.     0.   684.    46.     0.]\n",
        "316"
       ]
      },
      {
       "output_type": "stream",
       "stream": "stdout",
       "text": [
        " - Predicted: 1 Actual: [1] [ 365.  884.    0.    0.    0.    0.    0.]\n",
        "317"
       ]
      },
      {
       "output_type": "stream",
       "stream": "stdout",
       "text": [
        " - Predicted: 1 Actual: [0] [  95.  282.    0.    0.    0.    0.    0.]\n",
        "318"
       ]
      },
      {
       "output_type": "stream",
       "stream": "stdout",
       "text": [
        " - Predicted: 1 Actual: [1] [  0.  86.   6.   0.   2.   1.   0.]\n",
        "319"
       ]
      },
      {
       "output_type": "stream",
       "stream": "stdout",
       "text": [
        " - Predicted: 1 Actual: [1] [  867.  1188.     4.     0.   118.     0.    12.]\n",
        "320"
       ]
      },
      {
       "output_type": "stream",
       "stream": "stdout",
       "text": [
        " - Predicted: 0 Actual: [0] [ 3.  3.  0.  0.  1.  0.  0.]\n",
        "321"
       ]
      },
      {
       "output_type": "stream",
       "stream": "stdout",
       "text": [
        " - Predicted: 1 Actual: [1] [ 1.  2.  0.  0.  0.  0.  0.]\n",
        "322"
       ]
      },
      {
       "output_type": "stream",
       "stream": "stdout",
       "text": [
        " - Predicted: 1 Actual: [0] [  8.  10.   0.   0.   0.   0.   0.]\n",
        "323"
       ]
      },
      {
       "output_type": "stream",
       "stream": "stdout",
       "text": [
        " - Predicted: 0 Actual: [0] [ 28.   6.   0.   0.   0.   0.   0.]\n",
        "324"
       ]
      },
      {
       "output_type": "stream",
       "stream": "stdout",
       "text": [
        " - Predicted: 0 Actual: [0] [ 33.  18.   0.   0.   0.   0.   0.]\n",
        "325"
       ]
      },
      {
       "output_type": "stream",
       "stream": "stdout",
       "text": [
        " - Predicted: 0 Actual: [0] [ 6.  1.  0.  0.  0.  0.  0.]\n",
        "326"
       ]
      },
      {
       "output_type": "stream",
       "stream": "stdout",
       "text": [
        " - Predicted: 0 Actual: [0] [ 2.  1.  0.  0.  0.  0.  1.]\n",
        "327"
       ]
      },
      {
       "output_type": "stream",
       "stream": "stdout",
       "text": [
        " - Predicted: 1 Actual: [0] [  6.  12.   0.   0.   0.   0.   0.]\n",
        "328"
       ]
      },
      {
       "output_type": "stream",
       "stream": "stdout",
       "text": [
        " - Predicted: 1 Actual: [1] [ 344180.  373734.   54332.    5288.   13715.   25979.   28971.]\n",
        "329"
       ]
      },
      {
       "output_type": "stream",
       "stream": "stdout",
       "text": [
        " - Predicted: 1 Actual: [1] [ 3.  4.  0.  0.  0.  0.  0.]\n",
        "330"
       ]
      },
      {
       "output_type": "stream",
       "stream": "stdout",
       "text": [
        " - Predicted: 1 Actual: [0] [ 1322.  3517.     0.     0.     0.     0.     0.]\n",
        "331"
       ]
      },
      {
       "output_type": "stream",
       "stream": "stdout",
       "text": [
        " - Predicted: 1 Actual: [1] [ 34.  55.   0.   0.   0.   0.   0.]\n",
        "332"
       ]
      },
      {
       "output_type": "stream",
       "stream": "stdout",
       "text": [
        " - Predicted: 0 Actual: [0] [ 80.  39.   0.   0.   0.   0.  59.]\n",
        "333"
       ]
      },
      {
       "output_type": "stream",
       "stream": "stdout",
       "text": [
        " - Predicted: 2 Actual: [2] [  0.   1.  10.   0.   0.   0.   0.]\n",
        "334"
       ]
      },
      {
       "output_type": "stream",
       "stream": "stdout",
       "text": [
        " - Predicted: 0 Actual: [1] [ 4.  3.  0.  0.  0.  0.  0.]\n",
        "335"
       ]
      },
      {
       "output_type": "stream",
       "stream": "stdout",
       "text": [
        " - Predicted: 0 Actual: [0] [ 207.  120.    0.    0.    1.    0.    0.]\n",
        "336"
       ]
      },
      {
       "output_type": "stream",
       "stream": "stdout",
       "text": [
        " - Predicted: 0 Actual: [0] [ 207.  120.    0.    0.    1.    0.    0.]\n",
        "337"
       ]
      },
      {
       "output_type": "stream",
       "stream": "stdout",
       "text": [
        " - Predicted: 6 Actual: [0] [ 225.   34.    0.    0.    0.    0.  430.]\n",
        "338"
       ]
      },
      {
       "output_type": "stream",
       "stream": "stdout",
       "text": [
        " - Predicted: 1 Actual: [0] [ 2.  3.  0.  0.  0.  0.  0.]\n",
        "339"
       ]
      },
      {
       "output_type": "stream",
       "stream": "stdout",
       "text": [
        " - Predicted: 1 Actual: [1] [  4.  82.   0.   0.   0.   0.   0.]\n",
        "340"
       ]
      },
      {
       "output_type": "stream",
       "stream": "stdout",
       "text": [
        " - Predicted: 0 Actual: [0] [ 4871.  4473.    35.     0.    46.     0.   455.]\n",
        "341"
       ]
      },
      {
       "output_type": "stream",
       "stream": "stdout",
       "text": [
        " - Predicted: 0 Actual: [1] [ 4.  3.  0.  0.  0.  0.  0.]\n",
        "342"
       ]
      },
      {
       "output_type": "stream",
       "stream": "stdout",
       "text": [
        " - Predicted: 0 Actual: [0] [ 97.  53.   0.   0.   0.   0.   0.]\n",
        "343"
       ]
      },
      {
       "output_type": "stream",
       "stream": "stdout",
       "text": [
        " - Predicted: 1 Actual: [1] [ 1.  2.  0.  0.  0.  0.  0.]\n",
        "344"
       ]
      },
      {
       "output_type": "stream",
       "stream": "stdout",
       "text": [
        " - Predicted: 1 Actual: [1] [  33.  220.   85.    5.    5.   71.    0.]\n",
        "345"
       ]
      },
      {
       "output_type": "stream",
       "stream": "stdout",
       "text": [
        " - Predicted: 1 Actual: [1] [  7.  36.   0.   0.   0.   0.   0.]\n",
        "346"
       ]
      },
      {
       "output_type": "stream",
       "stream": "stdout",
       "text": [
        " - Predicted: 0 Actual: [0] [ 5.  3.  0.  0.  0.  0.  0.]\n",
        "347"
       ]
      },
      {
       "output_type": "stream",
       "stream": "stdout",
       "text": [
        " - Predicted: 1 Actual: [1] [  62.  172.    0.    0.    0.    0.    0.]\n",
        "348"
       ]
      },
      {
       "output_type": "stream",
       "stream": "stdout",
       "text": [
        " - Predicted: 1 Actual: [1] [  13.  143.    0.    0.    0.    0.    0.]\n",
        "349"
       ]
      },
      {
       "output_type": "stream",
       "stream": "stdout",
       "text": [
        " - Predicted: 0 Actual: [0] [ 1160.   181.     0.     0.     0.     0.   341.]\n",
        "350"
       ]
      },
      {
       "output_type": "stream",
       "stream": "stdout",
       "text": [
        " - Predicted: 0 Actual: [0] [ 6.  1.  0.  0.  0.  0.  0.]\n",
        "351"
       ]
      },
      {
       "output_type": "stream",
       "stream": "stdout",
       "text": [
        " - Predicted: 1 Actual: [1] [ 15.  44.  12.   1.   2.  17.   0.]\n",
        "352"
       ]
      },
      {
       "output_type": "stream",
       "stream": "stdout",
       "text": [
        " - Predicted: 1 Actual: [1] [ 18.  78.   1.   0.   0.  29.   0.]\n",
        "353"
       ]
      },
      {
       "output_type": "stream",
       "stream": "stdout",
       "text": [
        " - Predicted: 1 Actual: [1] [ 16.  20.   0.   0.   0.   0.   2.]\n",
        "354"
       ]
      },
      {
       "output_type": "stream",
       "stream": "stdout",
       "text": [
        " - Predicted: 0 Actual: [0] [ 1140.   319.     0.     0.     0.     0.    49.]\n",
        "355"
       ]
      },
      {
       "output_type": "stream",
       "stream": "stdout",
       "text": [
        " - Predicted: 0 Actual: [1] [ 68.  66.   0.   0.   0.   0.   0.]\n",
        "356"
       ]
      },
      {
       "output_type": "stream",
       "stream": "stdout",
       "text": [
        " - Predicted: 0 Actual: [0] [ 1623.  1575.     0.     0.     0.     0.     0.]\n",
        "357"
       ]
      },
      {
       "output_type": "stream",
       "stream": "stdout",
       "text": [
        " - Predicted: 0 Actual: [0] [ 57.  25.   0.   0.   0.   0.   1.]\n",
        "358"
       ]
      },
      {
       "output_type": "stream",
       "stream": "stdout",
       "text": [
        " - Predicted: 1 Actual: [1] [  45.  151.    0.    0.    3.    0.    0.]\n",
        "359"
       ]
      },
      {
       "output_type": "stream",
       "stream": "stdout",
       "text": [
        " - Predicted: 1 Actual: [1] [  4.  52.   0.   0.   0.   0.   0.]\n",
        "360"
       ]
      },
      {
       "output_type": "stream",
       "stream": "stdout",
       "text": [
        " - Predicted: 1 Actual: [1] [  86.  103.    0.    0.    0.    0.    0.]\n",
        "361"
       ]
      },
      {
       "output_type": "stream",
       "stream": "stdout",
       "text": [
        " - Predicted: 0 Actual: [1] [ 15.   3.   0.   0.   0.   0.   0.]\n",
        "362"
       ]
      },
      {
       "output_type": "stream",
       "stream": "stdout",
       "text": [
        " - Predicted: 0 Actual: [1] [ 1267.   525.     0.     0.     0.     0.   135.]\n",
        "363"
       ]
      },
      {
       "output_type": "stream",
       "stream": "stdout",
       "text": [
        " - Predicted: 1 Actual: [1] [ 4548.  6089.     0.     0.    14.     0.   610.]\n",
        "364"
       ]
      },
      {
       "output_type": "stream",
       "stream": "stdout",
       "text": [
        " - Predicted: 1 Actual: [1] [  5.  18.   0.   0.   2.   0.   2.]\n",
        "365"
       ]
      },
      {
       "output_type": "stream",
       "stream": "stdout",
       "text": [
        " - Predicted: 1 Actual: [1] [ 2.  9.  0.  0.  0.  0.  0.]\n",
        "366"
       ]
      },
      {
       "output_type": "stream",
       "stream": "stdout",
       "text": [
        " - Predicted: 1 Actual: [0] [ 1.  2.  0.  0.  0.  0.  0.]\n",
        "367"
       ]
      },
      {
       "output_type": "stream",
       "stream": "stdout",
       "text": [
        " - Predicted: 1 Actual: [1] [ 3.  7.  0.  0.  1.  0.  0.]\n",
        "368"
       ]
      },
      {
       "output_type": "stream",
       "stream": "stdout",
       "text": [
        " - Predicted: 1 Actual: [1] [ 12.  25.   0.   0.   0.   0.   0.]\n",
        "369"
       ]
      },
      {
       "output_type": "stream",
       "stream": "stdout",
       "text": [
        " - Predicted: 1 Actual: [1] [ 1.  3.  0.  0.  0.  0.  0.]\n",
        "370"
       ]
      },
      {
       "output_type": "stream",
       "stream": "stdout",
       "text": [
        " - Predicted: 1 Actual: [1] [ 1.  5.  0.  0.  0.  0.  0.]\n",
        "371"
       ]
      },
      {
       "output_type": "stream",
       "stream": "stdout",
       "text": [
        " - Predicted: 1 Actual: [0] [  7.  28.   0.   0.   0.   0.   0.]\n",
        "372"
       ]
      },
      {
       "output_type": "stream",
       "stream": "stdout",
       "text": [
        " - Predicted: 1 Actual: [1] [ 740718.  989136.  126093.   10170.   32592.   61060.   71018.]\n",
        "373"
       ]
      },
      {
       "output_type": "stream",
       "stream": "stdout",
       "text": [
        " - Predicted: 4 Actual: [1] [ 1.  2.  0.  0.  3.  0.  0.]\n",
        "374"
       ]
      },
      {
       "output_type": "stream",
       "stream": "stdout",
       "text": [
        " - Predicted: 1 Actual: [1] [  5.  18.   0.   0.   0.   0.   0.]\n",
        "375"
       ]
      },
      {
       "output_type": "stream",
       "stream": "stdout",
       "text": [
        " - Predicted: 1 Actual: [1] [  43.  229.   57.    0.   13.   30.    0.]\n",
        "376"
       ]
      },
      {
       "output_type": "stream",
       "stream": "stdout",
       "text": [
        " - Predicted: 1 Actual: [2] [  317.  2512.   276.     0.    58.    27.     0.]\n",
        "377"
       ]
      },
      {
       "output_type": "stream",
       "stream": "stdout",
       "text": [
        " - Predicted: 1 Actual: [1] [  575.  2904.     0.     0.     0.     0.     0.]\n",
        "378"
       ]
      },
      {
       "output_type": "stream",
       "stream": "stdout",
       "text": [
        " - Predicted: 1 Actual: [1] [ 179.  454.   71.    0.   48.   82.    9.]\n",
        "379"
       ]
      },
      {
       "output_type": "stream",
       "stream": "stdout",
       "text": [
        " - Predicted: 1 Actual: [1] [  3.  16.   0.   0.   0.   0.   0.]\n",
        "380"
       ]
      },
      {
       "output_type": "stream",
       "stream": "stdout",
       "text": [
        " - Predicted: 1 Actual: [0] [  9.  11.   0.   0.   0.   0.   0.]\n",
        "381"
       ]
      },
      {
       "output_type": "stream",
       "stream": "stdout",
       "text": [
        " - Predicted: 1 Actual: [1] [ 454770.  563471.   23915.    1548.   11468.   15577.   49339.]\n",
        "382"
       ]
      },
      {
       "output_type": "stream",
       "stream": "stdout",
       "text": [
        " - Predicted: 1 Actual: [0] [ 307.  331.   19.    4.   10.   11.   33.]\n",
        "383"
       ]
      },
      {
       "output_type": "stream",
       "stream": "stdout",
       "text": [
        " - Predicted: 2 Actual: [0] [ 5.  7.  8.  1.  0.  1.  0.]\n",
        "384"
       ]
      },
      {
       "output_type": "stream",
       "stream": "stdout",
       "text": [
        " - Predicted: 1 Actual: [0] [ 166.  202.   29.    1.    7.   15.   13.]\n",
        "385"
       ]
      },
      {
       "output_type": "stream",
       "stream": "stdout",
       "text": [
        " - Predicted: 1 Actual: [0] [ 34.  41.   0.   0.   0.   0.   8.]\n",
        "386"
       ]
      },
      {
       "output_type": "stream",
       "stream": "stdout",
       "text": [
        " - Predicted: 0 Actual: [1] [ 66.  66.   5.   0.   3.   0.   8.]\n",
        "387"
       ]
      },
      {
       "output_type": "stream",
       "stream": "stdout",
       "text": [
        " - Predicted: 1 Actual: [1] [ 51.  70.   6.   0.   2.   3.   3.]\n",
        "388"
       ]
      },
      {
       "output_type": "stream",
       "stream": "stdout",
       "text": [
        " - Predicted: 1 Actual: [1] [ 1.  5.  0.  0.  0.  0.  0.]\n",
        "389"
       ]
      },
      {
       "output_type": "stream",
       "stream": "stdout",
       "text": [
        " - Predicted: 0 Actual: [1] [ 7.  4.  0.  0.  0.  0.  0.]\n",
        "390"
       ]
      },
      {
       "output_type": "stream",
       "stream": "stdout",
       "text": [
        " - Predicted: 1 Actual: [1] [ 39312.  87691.  39140.   4091.   7574.  16716.   1919.]\n",
        "391"
       ]
      },
      {
       "output_type": "stream",
       "stream": "stdout",
       "text": [
        " - Predicted: 1 Actual: [0] [  1.  18.   0.   0.   0.   0.   0.]\n",
        "392"
       ]
      },
      {
       "output_type": "stream",
       "stream": "stdout",
       "text": [
        " - Predicted: 1 Actual: [0] [ 7.  9.  0.  0.  0.  0.  1.]\n",
        "393"
       ]
      },
      {
       "output_type": "stream",
       "stream": "stdout",
       "text": [
        " - Predicted: 1 Actual: [1] [ 17.  88.   0.   0.   6.   0.   0.]\n",
        "394"
       ]
      },
      {
       "output_type": "stream",
       "stream": "stdout",
       "text": [
        " - Predicted: 0 Actual: [0] [ 38.  19.   0.   0.   0.   0.   0.]\n",
        "395"
       ]
      },
      {
       "output_type": "stream",
       "stream": "stdout",
       "text": [
        " - Predicted: 1 Actual: [1] [  7.  13.   0.   0.   0.   0.   0.]\n",
        "396"
       ]
      },
      {
       "output_type": "stream",
       "stream": "stdout",
       "text": [
        " - Predicted: 1 Actual: [1] [ 0.  5.  0.  0.  0.  0.  2.]\n",
        "397"
       ]
      },
      {
       "output_type": "stream",
       "stream": "stdout",
       "text": [
        " - Predicted: 0 Actual: [0] [ 4.  2.  0.  0.  0.  0.  0.]\n",
        "398"
       ]
      },
      {
       "output_type": "stream",
       "stream": "stdout",
       "text": [
        " - Predicted: 1 Actual: [0] [ 53981.  80511.  54317.   1349.    838.  26269.    770.]\n",
        "399"
       ]
      },
      {
       "output_type": "stream",
       "stream": "stdout",
       "text": [
        " - Predicted: 1 Actual: [2] [ 5.  6.  1.  0.  1.  1.  0.]\n",
        "400"
       ]
      },
      {
       "output_type": "stream",
       "stream": "stdout",
       "text": [
        " - Predicted: 1 Actual: [2] [ 45.  91.  11.   0.   0.   6.   0.]\n",
        "401"
       ]
      },
      {
       "output_type": "stream",
       "stream": "stdout",
       "text": [
        " - Predicted: 0 Actual: [1] [ 6.  3.  0.  0.  0.  0.  1.]\n",
        "402"
       ]
      },
      {
       "output_type": "stream",
       "stream": "stdout",
       "text": [
        " - Predicted: 0 Actual: [0] [ 9.  2.  0.  0.  0.  0.  0.]\n",
        "403"
       ]
      },
      {
       "output_type": "stream",
       "stream": "stdout",
       "text": [
        " - Predicted: 1 Actual: [0] [ 1392.  1839.     4.     0.   141.     0.    12.]\n",
        "404"
       ]
      },
      {
       "output_type": "stream",
       "stream": "stdout",
       "text": [
        " - Predicted: 1 Actual: [1] [ 88.  94.   0.   0.   5.   0.  13.]\n",
        "405"
       ]
      },
      {
       "output_type": "stream",
       "stream": "stdout",
       "text": [
        " - Predicted: 1 Actual: [0] [ 461.  466.    6.    0.    7.    0.   53.]\n",
        "406"
       ]
      },
      {
       "output_type": "stream",
       "stream": "stdout",
       "text": [
        " - Predicted: 1 Actual: [1] [  24.  416.  106.   16.   80.   30.    0.]\n",
        "407"
       ]
      },
      {
       "output_type": "stream",
       "stream": "stdout",
       "text": [
        " - Predicted: 0 Actual: [0] [ 19.  17.   0.   0.   0.   0.   0.]\n",
        "408"
       ]
      },
      {
       "output_type": "stream",
       "stream": "stdout",
       "text": [
        " - Predicted: 0 Actual: [1] [ 25.  25.   1.   0.   0.   0.   2.]\n",
        "409"
       ]
      },
      {
       "output_type": "stream",
       "stream": "stdout",
       "text": [
        " - Predicted: 2 Actual: [2] [  0.   0.  17.   3.   0.   8.   0.]\n",
        "410"
       ]
      },
      {
       "output_type": "stream",
       "stream": "stdout",
       "text": [
        " - Predicted: 1 Actual: [1] [ 11.  14.   0.   0.   0.   0.   3.]\n",
        "411"
       ]
      },
      {
       "output_type": "stream",
       "stream": "stdout",
       "text": [
        " - Predicted: 1 Actual: [0] [ 1.  4.  0.  0.  0.  0.  1.]\n",
        "412"
       ]
      },
      {
       "output_type": "stream",
       "stream": "stdout",
       "text": [
        " - Predicted: 1 Actual: [1] [ 1.  5.  0.  0.  0.  0.  0.]\n",
        "413"
       ]
      },
      {
       "output_type": "stream",
       "stream": "stdout",
       "text": [
        " - Predicted: 1 Actual: [2] [  4.  17.  17.   0.   4.   0.   0.]\n",
        "414"
       ]
      },
      {
       "output_type": "stream",
       "stream": "stdout",
       "text": [
        " - Predicted: 1 Actual: [1] [ 2.  3.  0.  0.  0.  0.  0.]\n",
        "415"
       ]
      },
      {
       "output_type": "stream",
       "stream": "stdout",
       "text": [
        " - Predicted: 6 Actual: [0] [ 0.  1.  0.  0.  0.  0.  2.]\n",
        "416"
       ]
      },
      {
       "output_type": "stream",
       "stream": "stdout",
       "text": [
        " - Predicted: 0 Actual: [1] [ 8.  4.  0.  0.  0.  0.  0.]\n",
        "417"
       ]
      },
      {
       "output_type": "stream",
       "stream": "stdout",
       "text": [
        " - Predicted: 5 Actual: [2] [  0.   2.  26.   0.   0.  29.   0.]\n",
        "418"
       ]
      },
      {
       "output_type": "stream",
       "stream": "stdout",
       "text": [
        " - Predicted: 1 Actual: [1] [ 1.  2.  0.  0.  0.  0.  0.]\n",
        "419"
       ]
      },
      {
       "output_type": "stream",
       "stream": "stdout",
       "text": [
        " - Predicted: 1 Actual: [1] [  4.  65.  17.   0.   2.   2.   0.]\n",
        "420"
       ]
      },
      {
       "output_type": "stream",
       "stream": "stdout",
       "text": [
        " - Predicted: 0 Actual: [0] [ 740.  389.    0.    0.    0.    0.   20.]\n",
        "421"
       ]
      },
      {
       "output_type": "stream",
       "stream": "stdout",
       "text": [
        " - Predicted: 0 Actual: [1] [ 5.  4.  0.  0.  0.  0.  0.]\n",
        "422"
       ]
      },
      {
       "output_type": "stream",
       "stream": "stdout",
       "text": [
        " - Predicted: 0 Actual: [0] [ 149.   64.    0.    0.    0.    0.    5.]\n",
        "423"
       ]
      },
      {
       "output_type": "stream",
       "stream": "stdout",
       "text": [
        " - Predicted: 0 Actual: [1] [ 15.   4.   0.   0.   0.   0.   3.]\n",
        "424"
       ]
      },
      {
       "output_type": "stream",
       "stream": "stdout",
       "text": [
        " - Predicted: 2 Actual: [2] [   0.   16.  199.   39.    0.  163.    0.]\n",
        "425"
       ]
      },
      {
       "output_type": "stream",
       "stream": "stdout",
       "text": [
        " - Predicted: 0 Actual: [0] [ 15.   1.   0.   0.   0.   0.   0.]\n",
        "426"
       ]
      },
      {
       "output_type": "stream",
       "stream": "stdout",
       "text": [
        " - Predicted: 1 Actual: [0] [ 333.  393.    2.    0.   84.   32.    9.]\n",
        "427"
       ]
      },
      {
       "output_type": "stream",
       "stream": "stdout",
       "text": [
        " - Predicted: 1 Actual: [1] [  1.  16.   9.   0.   0.   1.   0.]\n",
        "428"
       ]
      },
      {
       "output_type": "stream",
       "stream": "stdout",
       "text": [
        " - Predicted: 2 Actual: [2] [  0.   0.  86.   7.   0.  53.   0.]\n",
        "429"
       ]
      },
      {
       "output_type": "stream",
       "stream": "stdout",
       "text": [
        " - Predicted: 0 Actual: [1] [ 4.  1.  0.  0.  0.  0.  0.]\n",
        "430"
       ]
      },
      {
       "output_type": "stream",
       "stream": "stdout",
       "text": [
        " - Predicted: 1 Actual: [0] [  68.  266.   71.    6.    6.  119.    0.]\n",
        "431"
       ]
      },
      {
       "output_type": "stream",
       "stream": "stdout",
       "text": [
        " - Predicted: 1 Actual: [1] [ 0.  3.  0.  0.  2.  0.  0.]\n",
        "432"
       ]
      },
      {
       "output_type": "stream",
       "stream": "stdout",
       "text": [
        " - Predicted: 1 Actual: [1] [ 24.  90.   0.   0.   0.   0.   0.]\n",
        "433"
       ]
      },
      {
       "output_type": "stream",
       "stream": "stdout",
       "text": [
        " - Predicted: 0 Actual: [1] [ 5.  4.  0.  0.  0.  0.  0.]\n",
        "434"
       ]
      },
      {
       "output_type": "stream",
       "stream": "stdout",
       "text": [
        " - Predicted: 2 Actual: [2] [ 0.  1.  2.  0.  0.  0.  0.]\n",
        "435"
       ]
      },
      {
       "output_type": "stream",
       "stream": "stdout",
       "text": [
        " - Predicted: 1 Actual: [0] [  7.  14.   0.   0.   1.   0.   0.]\n",
        "436"
       ]
      },
      {
       "output_type": "stream",
       "stream": "stdout",
       "text": [
        " - Predicted: 0 Actual: [0] [ 32.  21.   0.   0.   0.   2.   2.]\n",
        "437"
       ]
      },
      {
       "output_type": "stream",
       "stream": "stdout",
       "text": [
        " - Predicted: 0 Actual: [0] [ 2.  0.  0.  0.  0.  0.  1.]\n",
        "438"
       ]
      },
      {
       "output_type": "stream",
       "stream": "stdout",
       "text": [
        " - Predicted: 0 Actual: [0] [ 118.   39.    0.    0.    0.    0.    3.]\n",
        "439"
       ]
      },
      {
       "output_type": "stream",
       "stream": "stdout",
       "text": [
        " - Predicted: 0 Actual: [1] [ 253.   85.    0.    0.    0.    0.  177.]\n",
        "440"
       ]
      },
      {
       "output_type": "stream",
       "stream": "stdout",
       "text": [
        " - Predicted: 1 Actual: [1] [  628.  1572.    15.     0.     0.     0.     0.]\n",
        "441"
       ]
      },
      {
       "output_type": "stream",
       "stream": "stdout",
       "text": [
        " - Predicted: 1 Actual: [1] [  10.  202.    1.    0.    1.    0.    0.]\n",
        "442"
       ]
      },
      {
       "output_type": "stream",
       "stream": "stdout",
       "text": [
        " - Predicted: 1 Actual: [1] [  2.  10.   0.   0.   0.   0.   0.]\n",
        "443"
       ]
      },
      {
       "output_type": "stream",
       "stream": "stdout",
       "text": [
        " - Predicted: 0 Actual: [0] [ 12.   7.   0.   0.   0.   0.   0.]\n",
        "444"
       ]
      },
      {
       "output_type": "stream",
       "stream": "stdout",
       "text": [
        " - Predicted: 0 Actual: [1] [ 8.  0.  0.  0.  0.  0.  2.]\n",
        "445"
       ]
      },
      {
       "output_type": "stream",
       "stream": "stdout",
       "text": [
        " - Predicted: 1 Actual: [1] [  41.  123.   40.    0.    0.    6.    0.]\n",
        "446"
       ]
      },
      {
       "output_type": "stream",
       "stream": "stdout",
       "text": [
        " - Predicted: 0 Actual: [0] [ 1.  1.  0.  0.  0.  0.  0.]\n",
        "447"
       ]
      },
      {
       "output_type": "stream",
       "stream": "stdout",
       "text": [
        " - Predicted: 1 Actual: [1] [ 3.  4.  0.  0.  0.  0.  0.]\n",
        "448"
       ]
      },
      {
       "output_type": "stream",
       "stream": "stdout",
       "text": [
        " - Predicted: 1 Actual: [0] [  3.  11.   0.   0.   3.   1.   0.]\n",
        "449"
       ]
      },
      {
       "output_type": "stream",
       "stream": "stdout",
       "text": [
        " - Predicted: 1 Actual: [1] [ 10.  19.   0.   0.   0.   0.   0.]\n",
        "450"
       ]
      },
      {
       "output_type": "stream",
       "stream": "stdout",
       "text": [
        " - Predicted: 1 Actual: [1] [ 180.  557.    0.    0.    4.    0.    0.]\n",
        "451"
       ]
      },
      {
       "output_type": "stream",
       "stream": "stdout",
       "text": [
        " - Predicted: 1 Actual: [0] [ 13.  14.   0.   0.   0.   0.   0.]\n",
        "452"
       ]
      },
      {
       "output_type": "stream",
       "stream": "stdout",
       "text": [
        " - Predicted: 1 Actual: [1] [ 35.  50.   0.   0.   0.   0.   0.]\n",
        "453"
       ]
      },
      {
       "output_type": "stream",
       "stream": "stdout",
       "text": [
        " - Predicted: 1 Actual: [2] [ 1.  4.  0.  0.  1.  0.  0.]\n",
        "454"
       ]
      },
      {
       "output_type": "stream",
       "stream": "stdout",
       "text": [
        " - Predicted: 1 Actual: [1] [ 1.  7.  0.  0.  0.  0.  0.]\n",
        "455"
       ]
      },
      {
       "output_type": "stream",
       "stream": "stdout",
       "text": [
        " - Predicted: 1 Actual: [2] [  93.  472.  458.   13.    0.  102.    0.]\n",
        "456"
       ]
      },
      {
       "output_type": "stream",
       "stream": "stdout",
       "text": [
        " - Predicted: 1 Actual: [1] [  3.  15.   0.   0.   3.   1.   0.]\n",
        "457"
       ]
      },
      {
       "output_type": "stream",
       "stream": "stdout",
       "text": [
        " - Predicted: 1 Actual: [1] [ 22.  31.   0.   0.   0.   0.  26.]\n",
        "458"
       ]
      },
      {
       "output_type": "stream",
       "stream": "stdout",
       "text": [
        " - Predicted: 1 Actual: [0] [  70.  237.    0.    0.    0.    0.    0.]\n",
        "459"
       ]
      },
      {
       "output_type": "stream",
       "stream": "stdout",
       "text": [
        " - Predicted: 1 Actual: [0] [ 16.  18.   0.   0.   0.   0.   0.]\n",
        "460"
       ]
      },
      {
       "output_type": "stream",
       "stream": "stdout",
       "text": [
        " - Predicted: 1 Actual: [1] [  8.  10.   0.   0.   0.   0.   1.]\n",
        "461"
       ]
      },
      {
       "output_type": "stream",
       "stream": "stdout",
       "text": [
        " - Predicted: 1 Actual: [1] [ 21.  23.   0.   0.   1.   0.   0.]\n",
        "462"
       ]
      },
      {
       "output_type": "stream",
       "stream": "stdout",
       "text": [
        " - Predicted: 1 Actual: [1] [ 53.  83.   1.   0.   0.   0.   8.]\n",
        "463"
       ]
      },
      {
       "output_type": "stream",
       "stream": "stdout",
       "text": [
        " - Predicted: 1 Actual: [2] [  67342.  101261.   67071.    1599.    1088.   33075.     892.]\n",
        "464"
       ]
      },
      {
       "output_type": "stream",
       "stream": "stdout",
       "text": [
        " - Predicted: 1 Actual: [1] [ 20.  44.   0.   0.   0.   0.   0.]\n",
        "465"
       ]
      },
      {
       "output_type": "stream",
       "stream": "stdout",
       "text": [
        " - Predicted: 2 Actual: [2] [  84.  427.  482.   10.    1.  372.    0.]\n",
        "466"
       ]
      },
      {
       "output_type": "stream",
       "stream": "stdout",
       "text": [
        " - Predicted: 1 Actual: [1] [ 21420.  76016.  51693.   3377.   6839.  19119.      0.]\n",
        "467"
       ]
      },
      {
       "output_type": "stream",
       "stream": "stdout",
       "text": [
        " - Predicted: 1 Actual: [1] [ 155.  164.    0.    0.   12.    0.   23.]\n",
        "468"
       ]
      },
      {
       "output_type": "stream",
       "stream": "stdout",
       "text": [
        " - Predicted: 0 Actual: [0] [ 37.   0.   0.   0.   0.   0.   7.]\n",
        "469"
       ]
      },
      {
       "output_type": "stream",
       "stream": "stdout",
       "text": [
        " - Predicted: 1 Actual: [0] [ 5294.  6567.     0.     0.    52.     0.   427.]\n",
        "470"
       ]
      },
      {
       "output_type": "stream",
       "stream": "stdout",
       "text": [
        " - Predicted: 5 Actual: [2] [  0.   7.  34.  18.   0.  53.   0.]\n",
        "471"
       ]
      },
      {
       "output_type": "stream",
       "stream": "stdout",
       "text": [
        " - Predicted: 1 Actual: [1] [ 289.  492.    0.    0.    0.    0.    0.]\n",
        "472"
       ]
      },
      {
       "output_type": "stream",
       "stream": "stdout",
       "text": [
        " - Predicted: 1 Actual: [0] [ 779.  828.    0.    0.   73.    0.    5.]\n",
        "473"
       ]
      },
      {
       "output_type": "stream",
       "stream": "stdout",
       "text": [
        " - Predicted: 0 Actual: [1] [ 10.   9.   0.   0.   0.   0.   0.]\n",
        "474"
       ]
      },
      {
       "output_type": "stream",
       "stream": "stdout",
       "text": [
        " - Predicted: 2 Actual: [2] [  96.  444.  492.   10.    1.  373.    0.]\n",
        "475"
       ]
      },
      {
       "output_type": "stream",
       "stream": "stdout",
       "text": [
        " - Predicted: 1 Actual: [1] [  6.  27.   0.   0.   0.   0.   0.]\n",
        "476"
       ]
      },
      {
       "output_type": "stream",
       "stream": "stdout",
       "text": [
        " - Predicted: 1 Actual: [1] [  4.  19.   1.   0.   0.   0.   0.]\n",
        "477"
       ]
      },
      {
       "output_type": "stream",
       "stream": "stdout",
       "text": [
        " - Predicted: 1 Actual: [1] [ 22366.  79292.  54223.   3519.   7100.  20132.      0.]\n",
        "478"
       ]
      },
      {
       "output_type": "stream",
       "stream": "stdout",
       "text": [
        " - Predicted: 1 Actual: [1] [ 20.  34.   0.   0.   0.   2.   0.]\n",
        "479"
       ]
      },
      {
       "output_type": "stream",
       "stream": "stdout",
       "text": [
        " - Predicted: 1 Actual: [0] [ 1.  2.  0.  0.  0.  0.  0.]\n",
        "480"
       ]
      },
      {
       "output_type": "stream",
       "stream": "stdout",
       "text": [
        " - Predicted: 0 Actual: [1] [ 352.  330.    2.    0.   81.   21.    7.]\n",
        "481"
       ]
      },
      {
       "output_type": "stream",
       "stream": "stdout",
       "text": [
        " - Predicted: 0 Actual: [1] [ 75.  47.   0.   0.   0.   0.   8.]\n",
        "482"
       ]
      },
      {
       "output_type": "stream",
       "stream": "stdout",
       "text": [
        " - Predicted: 0 Actual: [0] [ 31.  25.   0.   0.   0.   0.   1.]\n",
        "483"
       ]
      },
      {
       "output_type": "stream",
       "stream": "stdout",
       "text": [
        " - Predicted: 0 Actual: [0] [ 28.  28.   0.   0.   0.   0.   0.]\n",
        "484"
       ]
      },
      {
       "output_type": "stream",
       "stream": "stdout",
       "text": [
        " - Predicted: 0 Actual: [0] [ 30.   6.   0.   0.   0.   0.   1.]\n",
        "485"
       ]
      },
      {
       "output_type": "stream",
       "stream": "stdout",
       "text": [
        " - Predicted: 1 Actual: [2] [  0.  11.   6.   0.   2.   0.   0.]\n",
        "486"
       ]
      },
      {
       "output_type": "stream",
       "stream": "stdout",
       "text": [
        " - Predicted: 1 Actual: [1] [  1.  13.   1.   0.   1.   0.   0.]\n",
        "487"
       ]
      },
      {
       "output_type": "stream",
       "stream": "stdout",
       "text": [
        " - Predicted: 1 Actual: [1] [ 19.  39.   0.   0.   0.   0.   0.]\n",
        "488"
       ]
      },
      {
       "output_type": "stream",
       "stream": "stdout",
       "text": [
        " - Predicted: 2 Actual: [2] [   0.   19.  106.    1.    0.   59.    0.]\n",
        "489"
       ]
      },
      {
       "output_type": "stream",
       "stream": "stdout",
       "text": [
        " - Predicted: 0 Actual: [0] [ 90.  45.   0.   0.   0.   0.   1.]\n",
        "490"
       ]
      },
      {
       "output_type": "stream",
       "stream": "stdout",
       "text": [
        " - Predicted: 1 Actual: [1] [  31.  123.    1.    0.    8.    7.    0.]\n",
        "491"
       ]
      },
      {
       "output_type": "stream",
       "stream": "stdout",
       "text": [
        " - Predicted: 1 Actual: [1] [  3.  26.   0.   0.   1.   0.   0.]\n",
        "492"
       ]
      },
      {
       "output_type": "stream",
       "stream": "stdout",
       "text": [
        " - Predicted: 1 Actual: [1] [  4170.  10862.   5877.    171.    113.   4499.      0.]\n",
        "493"
       ]
      },
      {
       "output_type": "stream",
       "stream": "stdout",
       "text": [
        " - Predicted: 1 Actual: [0] [ 14.  25.   9.   0.   0.   6.   0.]\n",
        "494"
       ]
      },
      {
       "output_type": "stream",
       "stream": "stdout",
       "text": [
        " - Predicted: 1 Actual: [2] [ 1.  2.  1.  0.  0.  0.  0.]\n",
        "495"
       ]
      },
      {
       "output_type": "stream",
       "stream": "stdout",
       "text": [
        " - Predicted: 1 Actual: [1] [ 103.  139.    8.    0.    6.    0.    1.]\n",
        "496"
       ]
      },
      {
       "output_type": "stream",
       "stream": "stdout",
       "text": [
        " - Predicted: 0 Actual: [0] [ 33.  31.   0.   0.   3.   0.   4.]\n",
        "497"
       ]
      },
      {
       "output_type": "stream",
       "stream": "stdout",
       "text": [
        " - Predicted: 1 Actual: [1] [  6.  55.   1.   0.   2.   1.   0.]\n",
        "498"
       ]
      },
      {
       "output_type": "stream",
       "stream": "stdout",
       "text": [
        " - Predicted: 0 Actual: [0] [ 268.   11.    0.    0.    0.    0.  162.]\n",
        "499"
       ]
      },
      {
       "output_type": "stream",
       "stream": "stdout",
       "text": [
        " - Predicted: 1 Actual: [1] [ 0.  4.  2.  0.  0.  1.  0.]\n"
       ]
      }
     ],
     "prompt_number": 409
    },
    {
     "cell_type": "code",
     "collapsed": false,
     "input": [
      "pd.Series(hits.cumsum()).plot()"
     ],
     "language": "python",
     "metadata": {},
     "outputs": [
      {
       "metadata": {},
       "output_type": "pyout",
       "prompt_number": 410,
       "text": [
        "<matplotlib.axes._subplots.AxesSubplot at 0x7fb974192358>"
       ]
      },
      {
       "metadata": {},
       "output_type": "display_data",
       "png": "[encoded data removed]",
       "text": [
        "<matplotlib.figure.Figure at 0x7fb97413fc18>"
       ]
      }
     ],
     "prompt_number": 410
    },
    {
     "cell_type": "code",
     "collapsed": false,
     "input": [
      "np.bincount(target)/target.sum()"
     ],
     "language": "python",
     "metadata": {},
     "outputs": [
      {
       "metadata": {},
       "output_type": "pyout",
       "prompt_number": 412,
       "text": [
        "array([ 0.34675742,  0.46373075,  0.05852514,  0.00449652,  0.01553894,\n",
        "        0.02842776,  0.03357248])"
       ]
      }
     ],
     "prompt_number": 412
    }
   ],
   "metadata": {}
  }
 ]
}