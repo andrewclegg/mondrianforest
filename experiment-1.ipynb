{
 "metadata": {
  "name": "",
  "signature": "sha256:fe298432352b60dd355807bc81ab6dc586f646ff7918ca44ceb8425b9e71d34c"
 },
 "nbformat": 3,
 "nbformat_minor": 0,
 "worksheets": [
  {
   "cells": [
    {
     "cell_type": "markdown",
     "metadata": {},
     "source": [
      "# Mondrian Forests\n",
      "\n",
      "This is a reimplementation of Mondrian Forests as described here:\n",
      "\n",
      "**Mondrian Forests: Efficient Online Random Forests**\n",
      "\n",
      "Balaji Lakshminarayanan, Daniel M. Roy, Yee Whye Teh\n",
      "\n",
      "http://arxiv.org/abs/1406.2673\n",
      "\n",
      "It partly uses code from the original authors' implementation at\n",
      "\n",
      "https://github.com/balajiln/mondrianforest\n",
      "\n",
      "but changes a few things along the way too. Key differences:\n",
      "\n",
      "* Assume FAST_MODE (no log-likelihood) for now\n",
      "* Classification only (they never finished regression)\n",
      "* Always assume we're training incrementally\n",
      "* `data` (an array) refers to one batch, instead of having a single design matrix in memory and indexing it with `train_ids`\n",
      "* `labels` is a vector of class labels for the rows in `data`\n",
      "* We don't assume you'll provide the first batch of training data when initializing a tree, but we do need to know the number of dimensions and number of labels\n",
      "* It works in parallel :-)\n",
      "\n",
      "Perhaps most different of all:\n",
      "\n",
      "We don't keep all the input data, as this won't scale. But this means we can't move existing data down into the new leaf nodes when we split a leaf node.\n",
      "\n",
      "This is the plan: When the tree \"grows\" through randomly splitting a leaf node, keep its existing class frequencies where they are, and only use the two new children for *newly-arriving* data. Then take these into account when calculating the predictive posteriors (appendix A of paper). This is working, but not very well tested yet.\n",
      "\n",
      "Here are my original thoughts on this, that I almost sent to the authors, but decided to try first.\n",
      "\n",
      "```\n",
      "One thing I missed on reading the paper, is that when you bisect a leaf node through a \"grow\" (sampling) operation,\n",
      "you need to assign all its data points to one of the new children.\n",
      "\n",
      "This means you can't just keep summary statistics for the data in a block, i.e. class frequencies. You need to hold\n",
      "on to the raw training data in order to divide it, yes? Which is a problem for online learning over streaming data\n",
      "or just \"big data\" in general.\n",
      "\n",
      "So... Perhaps you could entirely forget about keeping the existing data and propagating it down to the new child\n",
      "nodes. If you just kept class frequencies at each node, maybe you could use these in the \"update posterior counts\"\n",
      "step for internal nodes, alongside the child node counts.\n",
      "\n",
      "(Any data that came in *after* the split would go all the way down to the leaf nodes though.)\n",
      "```\n",
      "\n",
      "For the time being, though, it's using a much simpler scoring system. Walk down the tree until you find the box that the test example would have been in, and go for the majority class. If you don't find a box, or it's empty, walk back up until you find the nearest ancestor with some instances in.\n",
      "\n",
      "Averaged across a few trees, even as few as ~10, this actually does pretty well.\n",
      "\n",
      "## Running this demo\n",
      "\n",
      "If a `default` IPython cluster is available, it runs in parallel automatically, with as many trees in the forest as you have engines in the cluster. Otherwise, it runs in serial on a single core, with 3 trees. See the notes in the third cell.\n",
      "\n",
      "For best results with small forests, use an odd number of trees.\n",
      "\n",
      "## TODO\n",
      "\n",
      "### Must-haves\n",
      "\n",
      "* Types for all numpy arrays\n",
      "* Error checking\n",
      "* Work out exactly what effect `budget` is having\n",
      "* Introspection and prettyprinting tools\n",
      "* Work out which members are \"private\" and rename them with underscores\n",
      "* Proper tests...\n",
      "\n",
      "### Useful features\n",
      "\n",
      "* Allow multiple trees per engine (i.e. each engine runs a forest, not a tree)\n",
      "* Instance subsampling\n",
      "* Feature subsampling/bootstrapping/bagging\n",
      "* Feature hashing/random projection/LSH\n",
      "* Train-on-fail mode\n",
      "* Loss functions, regret, class weighting?\n",
      "\n",
      "### Blue sky\n",
      "\n",
      "* Regression\n",
      "* Clustering? (I mean, it basically *is* clustering, already...)\n",
      "* Semi-supervised would be really easy too\n",
      "* Adaptivity -- non-stationary distributions, recency effects etc.\n",
      "* Auto-pruning/rebalancing -- stop trees either stagnating or growing out of control in the long term\n",
      "* What about when the true number of classes isn't known in advance?\n",
      "\n",
      "The last three are really closely related.\n",
      "\n",
      "We could probably tackle a lot of these problems by \"chopping down\" older trees -- either randomly or according to a heuristic (e.g. least-recently-modified) -- so new ones can grow in their place. Maybe varying the budget and discount values would be useful too.\n",
      "\n",
      "Perhaps you could calculate the posterior class probabilities over the entire 'dead' tree, and use these as the priors for the new tree that will grow in its place.\n",
      "\n",
      "You could also use this kind of approach to tune P/R tradeoff, chase a particular objective function, do reinforcement learning... If you squint, they start to look a little like GAs.\n",
      "\n",
      "* Ontology learning\n",
      "* Grammar induction\n",
      "* Topic modelling\n",
      "\n",
      "Use cases that are fundamentally tree-shaped! Hmmm."
     ]
    },
    {
     "cell_type": "code",
     "collapsed": false,
     "input": [
      "%run 'mondrian.py'\n",
      "\n",
      "import random\n",
      "\n",
      "import numpy as np\n",
      "\n",
      "from IPython.parallel import Client\n",
      "try:\n",
      "    rc = Client()\n",
      "    dview = rc[:]\n",
      "    print('Using default IPython cluster with %d engines' % len(dview))\n",
      "except FileNotFoundError:\n",
      "    rc = None\n",
      "    dview = None\n",
      "    print('Using single-core implementation')\n",
      "\n",
      "DEFAULT_BUDGET = 1000"
     ],
     "language": "python",
     "metadata": {},
     "outputs": [
      {
       "output_type": "stream",
       "stream": "stdout",
       "text": [
        "Using single-core implementation\n"
       ]
      }
     ],
     "prompt_number": 102
    },
    {
     "cell_type": "code",
     "collapsed": false,
     "input": [
      "import pickle\n",
      "import gzip\n",
      "import os\n",
      "import pandas as pd\n",
      "from sklearn import datasets\n",
      "from sklearn import cross_validation as cv\n",
      "\n",
      "# For speed later...\n",
      "test_file = '/home/vagrant/data/covtype.pkl.gz'\n",
      "if os.path.exists(test_file):\n",
      "    with gzip.GzipFile(test_file, 'rb') as z:\n",
      "        dataset = pickle.load(z)\n",
      "else:\n",
      "    dataset = datasets.fetch_covtype() # Can be quite slow\n",
      "    with gzip.GzipFile(test_file, 'wb') as z:\n",
      "        pickle.dump(dataset, z)\n",
      "        \n",
      "dataset.data.shape"
     ],
     "language": "python",
     "metadata": {},
     "outputs": [
      {
       "metadata": {},
       "output_type": "pyout",
       "prompt_number": 75,
       "text": [
        "(581012, 54)"
       ]
      }
     ],
     "prompt_number": 75
    },
    {
     "cell_type": "code",
     "collapsed": false,
     "input": [
      "n_iter = 10\n",
      "test_size = 10\n",
      "folds = cv.StratifiedShuffleSplit(dataset.target, n_iter=n_iter, test_size=test_size, train_size=1000)\n",
      "hits = []\n",
      "\n",
      "data = dataset.data\n",
      "target = dataset.target - 1 # they are 1-indexed\n",
      "\n",
      "if dview is None:\n",
      "    # Run with a single-threaded forest with 3 trees\n",
      "    mf = MondrianForest(3, data.shape[1], len(np.unique(target)), budget=DEFAULT_BUDGET, scoring='nsp')\n",
      "else:\n",
      "    # Run with a parallel forest on IPython cluster\n",
      "    mf = ParallelMondrianForest(dview, data.shape[1], len(np.unique(target)), budget=DEFAULT_BUDGET, scoring='nsp')\n",
      "\n",
      "def run_test():\n",
      "    for i, (train, test) in enumerate(folds):\n",
      "        train_X = data[train]\n",
      "        train_y = target[train]\n",
      "        test_X = data[test]#[0:1,:]\n",
      "        test_y = target[test]#[0:1]\n",
      "        mf.update(train_X, train_y)\n",
      "        preds = mf.predict(test_X)\n",
      "        yhat = preds.argmax(axis=1)\n",
      "        assert test_y.shape == yhat.shape\n",
      "        for j in range(len(preds)):\n",
      "            idx = (i * test_size) + j\n",
      "            print(idx, '- Predicted:', yhat[j], 'Actual:', test_y[j],\n",
      "                  '[', ' '.join(['%.3f' % x for x in preds[j]]), ']')\n",
      "            hits.append(yhat[j] == test_y[j])\n",
      "\n",
      "%prun run_test()"
     ],
     "language": "python",
     "metadata": {},
     "outputs": [
      {
       "output_type": "stream",
       "stream": "stdout",
       "text": [
        "0 - Predicted: 1 Actual: 1 [ 0.365 0.488 0.062 0.005 0.016 0.030 0.035 ]\n",
        "1 - Predicted: 1 Actual: 0 [ 0.365 0.488 0.062 0.005 0.016 0.030 0.035 ]\n",
        "2 - Predicted: 1 Actual: 0 [ 0.365 0.488 0.062 0.005 0.016 0.030 0.035 ]\n",
        "3 - Predicted: 1 Actual: 1 [ 0.365 0.488 0.062 0.005 0.016 0.030 0.035 ]\n",
        "4 - Predicted: 1 Actual: 0 [ 0.365 0.488 0.062 0.005 0.016 0.030 0.035 ]\n",
        "5 - Predicted: 1 Actual: 0 [ 0.365 0.488 0.062 0.005 0.016 0.030 0.035 ]\n",
        "6 - Predicted: 1 Actual: 2 [ 0.365 0.488 0.062 0.005 0.016 0.030 0.035 ]\n",
        "7 - Predicted: 1 Actual: 1 [ 0.365 0.488 0.062 0.005 0.016 0.030 0.035 ]\n",
        "8 - Predicted: 1 Actual: 1 [ 0.365 0.488 0.062 0.005 0.016 0.030 0.035 ]\n",
        "9 - Predicted: 1 Actual: 1 [ 0.365 0.488 0.062 0.005 0.016 0.030 0.035 ]\n",
        "10"
       ]
      },
      {
       "output_type": "stream",
       "stream": "stdout",
       "text": [
        " - Predicted: 1 Actual: 1 [ 0.397 0.487 0.043 0.003 0.010 0.020 0.040 ]\n",
        "11 - Predicted: 1 Actual: 1 [ 0.350 0.480 0.077 0.005 0.018 0.037 0.031 ]\n",
        "12 - Predicted: 1 Actual: 0 [ 0.397 0.487 0.043 0.003 0.010 0.020 0.040 ]\n",
        "13 - Predicted: 1 Actual: 0 [ 0.350 0.480 0.077 0.005 0.018 0.037 0.031 ]\n",
        "14 - Predicted: 1 Actual: 1 [ 0.397 0.487 0.043 0.003 0.010 0.020 0.040 ]\n",
        "15 - Predicted: 1 Actual: 0 [ 0.350 0.480 0.077 0.005 0.018 0.037 0.031 ]\n",
        "16 - Predicted: 1 Actual: 0 [ 0.350 0.480 0.077 0.005 0.018 0.037 0.031 ]\n",
        "17 - Predicted: 1 Actual: 1 [ 0.350 0.480 0.077 0.005 0.018 0.037 0.031 ]\n",
        "18 - Predicted: 1 Actual: 2 [ 0.350 0.480 0.077 0.005 0.018 0.037 0.031 ]\n",
        "19 - Predicted: 1 Actual: 1 [ 0.397 0.487 0.043 0.003 0.010 0.020 0.040 ]\n",
        "20"
       ]
      },
      {
       "output_type": "stream",
       "stream": "stdout",
       "text": [
        " - Predicted: 1 Actual: 2 [ 0.335 0.465 0.094 0.006 0.017 0.046 0.037 ]\n",
        "21 - Predicted: 1 Actual: 1 [ 0.335 0.465 0.094 0.006 0.017 0.046 0.037 ]\n",
        "22 - Predicted: 1 Actual: 1 [ 0.347 0.581 0.026 0.001 0.013 0.014 0.019 ]\n",
        "23 - Predicted: 1 Actual: 1 [ 0.335 0.465 0.094 0.006 0.017 0.046 0.037 ]\n",
        "24 - Predicted: 1 Actual: 0 [ 0.384 0.493 0.047 0.002 0.018 0.024 0.031 ]\n",
        "25 - Predicted: 1 Actual: 0 [ 0.384 0.493 0.047 0.002 0.018 0.024 0.031 ]\n",
        "26 - Predicted: 1 Actual: 0 [ 0.385 0.512 0.036 0.002 0.012 0.019 0.034 ]\n",
        "27 - Predicted: 1 Actual: 1 [ 0.328 0.391 0.171 0.010 0.013 0.054 0.034 ]\n",
        "28 - Predicted: 1 Actual: 0 [ 0.385 0.512 0.036 0.002 0.012 0.019 0.034 ]\n",
        "29 - Predicted: 1 Actual: 1 [ 0.384 0.493 0.047 0.002 0.018 0.024 0.031 ]\n",
        "30"
       ]
      },
      {
       "output_type": "stream",
       "stream": "stdout",
       "text": [
        " - Predicted: 1 Actual: 1 [ 0.376 0.520 0.042 0.002 0.015 0.014 0.030 ]\n",
        "31 - Predicted: 1 Actual: 0 [ 0.408 0.498 0.031 0.002 0.010 0.012 0.039 ]\n",
        "32 - Predicted: 1 Actual: 1 [ 0.309 0.646 0.008 0.001 0.004 0.002 0.030 ]\n",
        "33 - Predicted: 1 Actual: 0 [ 0.395 0.545 0.015 0.001 0.005 0.003 0.037 ]\n",
        "34 - Predicted: 1 Actual: 2 [ 0.335 0.468 0.087 0.007 0.020 0.043 0.040 ]\n",
        "35 - Predicted: 1 Actual: 0 [ 0.408 0.498 0.031 0.002 0.010 0.012 0.039 ]\n",
        "36 - Predicted: 1 Actual: 1 [ 0.422 0.481 0.031 0.002 0.010 0.012 0.041 ]\n",
        "37 - Predicted: 1 Actual: 1 [ 0.408 0.498 0.031 0.002 0.010 0.012 0.039 ]\n",
        "38 - Predicted: 1 Actual: 0 [ 0.435 0.477 0.033 0.002 0.011 0.013 0.028 ]\n",
        "39 - Predicted: 1 Actual: 1 [ 0.335 0.468 0.087 0.007 0.020 0.043 0.040 ]\n",
        "40"
       ]
      },
      {
       "output_type": "stream",
       "stream": "stdout",
       "text": [
        " - Predicted: 1 Actual: 1 [ 0.347 0.552 0.052 0.004 0.013 0.022 0.010 ]\n",
        "41 - Predicted: 0 Actual: 0 [ 0.502 0.453 0.000 0.000 0.000 0.000 0.045 ]\n",
        "42 - Predicted: 1 Actual: 1 [ 0.267 0.452 0.159 0.009 0.019 0.074 0.021 ]\n",
        "43 - Predicted: 0 Actual: 0 [ 0.435 0.422 0.039 0.002 0.030 0.020 0.052 ]\n",
        "44 - Predicted: 1 Actual: 1 [ 0.315 0.583 0.051 0.004 0.017 0.020 0.011 ]\n",
        "45 - Predicted: 1 Actual: 2 [ 0.267 0.452 0.159 0.009 0.019 0.074 0.021 ]\n",
        "46 - Predicted: 1 Actual: 1 [ 0.336 0.561 0.044 0.002 0.014 0.020 0.023 ]\n",
        "47 - Predicted: 0 Actual: 0 [ 0.512 0.429 0.002 0.000 0.000 0.000 0.055 ]\n",
        "48 - Predicted: 1 Actual: 1 [ 0.336 0.561 0.044 0.002 0.014 0.020 0.023 ]\n",
        "49 - Predicted: 1 Actual: 0 [ 0.267 0.452 0.159 0.009 0.019 0.074 0.021 ]\n",
        "50"
       ]
      },
      {
       "output_type": "stream",
       "stream": "stdout",
       "text": [
        " - Predicted: 1 Actual: 1 [ 0.288 0.633 0.031 0.002 0.010 0.017 0.019 ]\n",
        "51 - Predicted: 1 Actual: 0 [ 0.391 0.469 0.056 0.001 0.006 0.011 0.065 ]\n",
        "52 - Predicted: 1 Actual: 0 [ 0.326 0.665 0.005 0.000 0.001 0.002 0.000 ]\n",
        "53 - Predicted: 1 Actual: 1 [ 0.249 0.561 0.101 0.007 0.017 0.051 0.016 ]\n",
        "54 - Predicted: 1 Actual: 1 [ 0.313 0.607 0.031 0.002 0.010 0.017 0.020 ]\n",
        "55 - Predicted: 1 Actual: 2 [ 0.188 0.369 0.311 0.008 0.019 0.093 0.011 ]\n",
        "56 - Predicted: 1 Actual: 0 [ 0.198 0.778 0.012 0.001 0.004 0.006 0.001 ]\n",
        "57 - Predicted: 1 Actual: 1 [ 0.326 0.596 0.026 0.001 0.018 0.019 0.014 ]\n",
        "58 - Predicted: 1 Actual: 1 [ 0.313 0.596 0.032 0.002 0.021 0.022 0.014 ]\n",
        "59 - Predicted: 0 Actual: 0 [ 0.585 0.365 0.000 0.000 0.000 0.000 0.050 ]\n",
        "60"
       ]
      },
      {
       "output_type": "stream",
       "stream": "stdout",
       "text": [
        " - Predicted: 0 Actual: 0 [ 0.577 0.375 0.000 0.000 0.000 0.000 0.048 ]\n",
        "61 - Predicted: 1 Actual: 0 [ 0.413 0.529 0.023 0.001 0.010 0.013 0.010 ]\n",
        "62 - Predicted: 1 Actual: 1 [ 0.276 0.494 0.132 0.011 0.017 0.052 0.018 ]\n",
        "63 - Predicted: 1 Actual: 1 [ 0.201 0.760 0.001 0.000 0.002 0.000 0.037 ]\n",
        "64 - Predicted: 1 Actual: 1 [ 0.256 0.730 0.001 0.000 0.000 0.000 0.013 ]\n",
        "65 - Predicted: 1 Actual: 1 [ 0.276 0.494 0.133 0.010 0.017 0.052 0.018 ]\n",
        "66 - Predicted: 1 Actual: 1 [ 0.415 0.521 0.013 0.000 0.027 0.012 0.013 ]\n",
        "67 - Predicted: 0 Actual: 0 [ 0.480 0.406 0.035 0.003 0.007 0.016 0.052 ]\n",
        "68 - Predicted: 0 Actual: 0 [ 0.484 0.441 0.011 0.000 0.019 0.011 0.034 ]\n",
        "69 - Predicted: 1 Actual: 2 [ 0.227 0.605 0.090 0.006 0.018 0.035 0.019 ]\n",
        "70"
       ]
      },
      {
       "output_type": "stream",
       "stream": "stdout",
       "text": [
        " - Predicted: 1 Actual: 1 [ 0.280 0.718 0.000 0.000 0.000 0.000 0.002 ]\n",
        "71 - Predicted: 1 Actual: 1 [ 0.364 0.590 0.014 0.000 0.010 0.002 0.020 ]\n",
        "72 - Predicted: 1 Actual: 0 [ 0.422 0.433 0.091 0.000 0.003 0.009 0.042 ]\n",
        "73 - Predicted: 2 Actual: 2 [ 0.084 0.357 0.484 0.002 0.007 0.065 0.001 ]\n",
        "74 - Predicted: 0 Actual: 0 [ 0.584 0.360 0.000 0.000 0.000 0.000 0.057 ]\n",
        "75 - Predicted: 1 Actual: 0 [ 0.324 0.632 0.013 0.000 0.010 0.002 0.019 ]\n",
        "76 - Predicted: 1 Actual: 1 [ 0.107 0.557 0.212 0.004 0.018 0.102 0.000 ]\n",
        "77 - Predicted: 0 Actual: 0 [ 0.596 0.370 0.003 0.000 0.001 0.001 0.029 ]\n",
        "78 - Predicted: 1 Actual: 1 [ 0.395 0.566 0.006 0.000 0.008 0.000 0.025 ]\n",
        "79 - Predicted: 0 Actual: 1 [ 0.630 0.300 0.004 0.000 0.000 0.001 0.064 ]\n",
        "80"
       ]
      },
      {
       "output_type": "stream",
       "stream": "stdout",
       "text": [
        " - Predicted: 1 Actual: 1 [ 0.268 0.665 0.020 0.000 0.042 0.004 0.001 ]\n",
        "81 - Predicted: 1 Actual: 1 [ 0.394 0.605 0.001 0.000 0.000 0.000 0.001 ]\n",
        "82 - Predicted: 1 Actual: 1 [ 0.248 0.529 0.143 0.007 0.018 0.055 0.000 ]\n",
        "83 - Predicted: 1 Actual: 0 [ 0.305 0.677 0.001 0.000 0.003 0.001 0.013 ]\n",
        "84 - Predicted: 1 Actual: 1 [ 0.140 0.552 0.127 0.032 0.021 0.104 0.023 ]\n",
        "85 - Predicted: 1 Actual: 1 [ 0.176 0.792 0.000 0.000 0.000 0.000 0.032 ]\n",
        "86 - Predicted: 1 Actual: 2 [ 0.162 0.512 0.236 0.002 0.017 0.054 0.018 ]\n",
        "87 - Predicted: 1 Actual: 0 [ 0.231 0.666 0.052 0.004 0.013 0.028 0.005 ]\n",
        "88 - Predicted: 0 Actual: 0 [ 0.652 0.266 0.000 0.000 0.000 0.000 0.082 ]\n",
        "89 - Predicted: 0 Actual: 0 [ 0.671 0.300 0.000 0.000 0.000 0.000 0.029 ]\n",
        "90"
       ]
      },
      {
       "output_type": "stream",
       "stream": "stdout",
       "text": [
        " - Predicted: 1 Actual: 2 [ 0.139 0.405 0.317 0.016 0.002 0.117 0.003 ]\n",
        "91 - Predicted: 0 Actual: 1 [ 0.527 0.430 0.027 0.000 0.001 0.010 0.004 ]\n",
        "92 - Predicted: 0 Actual: 0 [ 0.599 0.343 0.001 0.000 0.001 0.001 0.054 ]\n",
        "93 - Predicted: 0 Actual: 1 [ 0.623 0.330 0.000 0.000 0.000 0.000 0.046 ]\n",
        "94 - Predicted: 1 Actual: 1 [ 0.219 0.518 0.208 0.002 0.021 0.029 0.004 ]\n",
        "95 - Predicted: 0 Actual: 0 [ 0.500 0.460 0.000 0.000 0.007 0.000 0.032 ]\n",
        "96 - Predicted: 1 Actual: 1 [ 0.308 0.656 0.019 0.000 0.013 0.004 0.000 ]\n",
        "97 - Predicted: 1 Actual: 1 [ 0.160 0.800 0.000 0.000 0.037 0.000 0.002 ]\n",
        "98 - Predicted: 0 Actual: 0 [ 0.567 0.417 0.001 0.000 0.000 0.000 0.015 ]\n",
        "99 - Predicted: 0 Actual: 0 [ 0.662 0.312 0.000 0.000 0.000 0.000 0.025 ]\n",
        " "
       ]
      }
     ],
     "prompt_number": 119
    },
    {
     "cell_type": "code",
     "collapsed": false,
     "input": [
      "pd.Series(hits).cumsum().plot() # Predictions over time"
     ],
     "language": "python",
     "metadata": {},
     "outputs": [
      {
       "metadata": {},
       "output_type": "pyout",
       "prompt_number": 120,
       "text": [
        "<matplotlib.axes._subplots.AxesSubplot at 0x7fa189166358>"
       ]
      },
      {
       "metadata": {},
       "output_type": "display_data",
       "png": "[encoded data removed]",
       "text": [
        "<matplotlib.figure.Figure at 0x7fa188351898>"
       ]
      }
     ],
     "prompt_number": 120
    },
    {
     "cell_type": "code",
     "collapsed": false,
     "input": [
      "sum(hits)/len(hits) # Overall accuracy"
     ],
     "language": "python",
     "metadata": {},
     "outputs": [
      {
       "metadata": {},
       "output_type": "pyout",
       "prompt_number": 121,
       "text": [
        "0.63"
       ]
      }
     ],
     "prompt_number": 121
    },
    {
     "cell_type": "code",
     "collapsed": false,
     "input": [
      "n = mf.trees[0].root.left.left.left.left.left.left.left\n",
      "%timeit get_posterior_class_probs(n, 10)"
     ],
     "language": "python",
     "metadata": {},
     "outputs": []
    }
   ],
   "metadata": {}
  }
 ]
}