{
 "metadata": {
  "name": "",
  "signature": "sha256:07a9ecf1b15b609226209beec65e8fc5765f5a1842697072ed835795091c4351"
 },
 "nbformat": 3,
 "nbformat_minor": 0,
 "worksheets": [
  {
   "cells": [
    {
     "cell_type": "markdown",
     "metadata": {},
     "source": [
      "# Mondrian Forests\n",
      "\n",
      "This is a reimplementation of Mondrian Forests as described here:\n",
      "\n",
      "**Mondrian Forests: Efficient Online Random Forests**\n",
      "\n",
      "Balaji Lakshminarayanan, Daniel M. Roy, Yee Whye Teh\n",
      "\n",
      "http://arxiv.org/abs/1406.2673\n",
      "\n",
      "It partly uses code from the original authors' implementation at\n",
      "\n",
      "https://github.com/balajiln/mondrianforest\n",
      "\n",
      "but changes a few things along the way too. Key differences:\n",
      "\n",
      "* Assume FAST_MODE (no log-likelihood) for now\n",
      "* Classification only (they never finished regression)\n",
      "* Always assume we're training incrementally\n",
      "* `update_posterior_node_incremental` just becomes `update_label_counts`\n",
      "* `add_training_points_to_node` just becomes `MondrianNode.update`\n",
      "* Pushed as much metadata as possible into the node object, to avoid having lots of separate dicts etc. maintained by the tree (hence renaming it `MondrianNode`)\n",
      "* `data` (an array) refers to one batch, instead of having a single design matrix in memory and indexing it with `train_ids`\n",
      "* `labels` is a vector of class labels for the rows in `data`\n",
      "* We don't assume you'll provide the first batch of training data when initializing a tree, but we do need to know the number of dimensions and number of labels\n",
      "* It works in parallel :-)\n",
      "\n",
      "Perhaps most different of all:\n",
      "\n",
      "We don't keep all the input data, as this won't scale. But this means we can't move existing data down into the new leaf nodes when we split a leaf node.\n",
      "\n",
      "This is the plan: When the tree \"grows\" through randomly splitting a leaf node, keep its existing class frequencies where they are, and only use the two new children for *newly-arriving* data. Then take these into account when calculating the predictive posteriors (appendix A of paper).\n",
      "\n",
      "Here are my original thoughts on this, that I almost sent to the authors, but decided to try first.\n",
      "\n",
      "```\n",
      "One thing I missed on reading the paper, is that when you bisect a leaf node through a \"grow\" (sampling) operation,\n",
      "you need to assign all its data points to one of the new children.\n",
      "\n",
      "This means you can't just keep summary statistics for the data in a block, i.e. class frequencies. You need to hold\n",
      "on to the raw training data in order to divide it, yes? Which is a problem for online learning over streaming data\n",
      "or just \"big data\" in general.\n",
      "\n",
      "So... Perhaps you could entirely forget about keeping the existing data and propagating it down to the new child\n",
      "nodes. If you just kept class frequencies at each node, maybe you could use these in the \"update posterior counts\"\n",
      "step for internal nodes, alongside the child node counts.\n",
      "\n",
      "(Any data that came in *after* the split would go all the way down to the leaf nodes though.)\n",
      "```\n",
      "\n",
      "For the time being, though, it's using a much simpler scoring system. Walk down the tree until you find the box that the test example would have been in, and go for the majority class. If you don't find a box, or it's empty, walk back up until you find the nearest ancestor with some instances in.\n",
      "\n",
      "Averaged across a few trees, even as few as ~10, this actually does pretty well.\n",
      "\n",
      "## Running this demo\n",
      "\n",
      "If a `default` IPython cluster is available, it runs in parallel automatically, with as many trees in the forest as you have engines in the cluster. Otherwise, it runs in serial on a single core, with 3 trees. See the notes in the third cell.\n",
      "\n",
      "For best results with small forests, use an odd number of trees.\n",
      "\n",
      "## TODO\n",
      "\n",
      "### Must-haves\n",
      "\n",
      "* Proper probabilistic scoring\n",
      "* Types for all numpy arrays\n",
      "* Error checking\n",
      "* Work out exactly what effect `budget` is having\n",
      "* Introspection and prettyprinting tools\n",
      "* Work out which members are \"private\" and rename them with underscores\n",
      "* Proper tests...\n",
      "\n",
      "### Useful features\n",
      "\n",
      "* Allow multiple trees per engine (i.e. each engine runs a forest, not a tree)\n",
      "* Instance subsampling\n",
      "* Feature subsampling/bootstrapping/bagging\n",
      "* Feature hashing/random projection/LSH\n",
      "* Train-on-fail mode\n",
      "* Loss functions, regret, class weighting?\n",
      "\n",
      "### Blue sky\n",
      "\n",
      "* Regression\n",
      "* Clustering? (I mean, it basically *is* clustering, already...)\n",
      "* Semi-supervised would be really easy too\n",
      "* Adaptivity -- non-stationary distributions, recency effects etc.\n",
      "* Auto-pruning/rebalancing -- stop trees either stagnating or growing out of control in the long term\n",
      "* What about when the true number of classes isn't known in advance?\n",
      "\n",
      "The last three are really closely related.\n",
      "\n",
      "We could probably tackle a lot of these problems by \"chopping down\" older trees -- either randomly or according to a heuristic (e.g. least-recently-modified) -- so new ones can grow in their place. Maybe varying the budget and discount values would be useful too.\n",
      "\n",
      "Perhaps you could calculate the posterior class probabilities over the entire 'dead' tree, and use these as the priors for the new tree that will grow in its place.\n",
      "\n",
      "You could also use this kind of approach to tune P/R tradeoff, chase a particular objective function, do reinforcement learning... If you squint, they start to look a little like GAs.\n",
      "\n",
      "* Ontology learning\n",
      "* Grammar induction\n",
      "* Topic modelling\n",
      "\n",
      "Use cases that are fundamentally tree-shaped! Hmmm."
     ]
    },
    {
     "cell_type": "code",
     "collapsed": false,
     "input": [
      "%run 'mondrian.py'\n",
      "\n",
      "import random\n",
      "\n",
      "import numpy as np\n",
      "\n",
      "from IPython.parallel import Client\n",
      "try:\n",
      "    rc = Client()\n",
      "    dview = rc[:]\n",
      "    print('Using default IPython cluster with %d engines' % len(dview))\n",
      "except FileNotFoundError:\n",
      "    rc = None\n",
      "    dview = None\n",
      "    print('Using single-core implementation')\n",
      "\n",
      "DEFAULT_BUDGET = 1000"
     ],
     "language": "python",
     "metadata": {},
     "outputs": [
      {
       "output_type": "stream",
       "stream": "stdout",
       "text": [
        "Using single-core implementation\n"
       ]
      }
     ],
     "prompt_number": 6
    },
    {
     "cell_type": "code",
     "collapsed": false,
     "input": [
      "import pickle\n",
      "import gzip\n",
      "import os\n",
      "import pandas as pd\n",
      "from sklearn import datasets\n",
      "from sklearn import cross_validation as cv\n",
      "\n",
      "# For speed later...\n",
      "test_file = '/home/vagrant/data/covtype.pkl.gz'\n",
      "if os.path.exists(test_file):\n",
      "    with gzip.GzipFile(test_file, 'rb') as z:\n",
      "        dataset = pickle.load(z)\n",
      "else:\n",
      "    dataset = datasets.fetch_covtype() # Can be quite slow\n",
      "    with gzip.GzipFile(test_file, 'wb') as z:\n",
      "        pickle.dump(dataset, z)\n",
      "        \n",
      "dataset.data.shape"
     ],
     "language": "python",
     "metadata": {},
     "outputs": [
      {
       "metadata": {},
       "output_type": "pyout",
       "prompt_number": 4,
       "text": [
        "(581012, 54)"
       ]
      }
     ],
     "prompt_number": 4
    },
    {
     "cell_type": "code",
     "collapsed": false,
     "input": [
      "#%%time\n",
      "#%%prun\n",
      "\n",
      "n_iter = 100\n",
      "test_size = 10\n",
      "folds = cv.StratifiedShuffleSplit(dataset.target, n_iter=n_iter, test_size=test_size, train_size=1000)\n",
      "hits = []\n",
      "\n",
      "data = dataset.data\n",
      "target = dataset.target - 1 # they are 1-indexed\n",
      "\n",
      "if dview is None:\n",
      "    # Run with a single-threaded forest with 3 trees (FIXME)\n",
      "    mf = MondrianForest(1, data.shape[1], len(np.unique(target)), budget=DEFAULT_BUDGET, scoring='nsp')\n",
      "else:\n",
      "    # Run with a parallel forest on IPython cluster\n",
      "    mf = ParallelMondrianForest(dview, data.shape[1], len(np.unique(target)), budget=DEFAULT_BUDGET, scoring='nsp')\n",
      "\n",
      "def run_test():\n",
      "    for i, (train, test) in enumerate(folds):\n",
      "        train_X = data[train]\n",
      "        train_y = target[train]\n",
      "        test_X = data[test]#[0:1,:]\n",
      "        test_y = target[test]#[0:1]\n",
      "        mf.update(train_X, train_y)\n",
      "        preds = mf.predict(test_X)\n",
      "        yhat = preds.argmax(axis=1)\n",
      "        assert test_y.shape == yhat.shape\n",
      "        for j in range(len(preds)):\n",
      "            idx = (i * test_size) + j\n",
      "            print(idx, '- Predicted:', yhat[j], 'Actual:', test_y[j],\n",
      "                  '[', ' '.join(['%.3f' % x for x in preds[j]]), ']')\n",
      "            hits.append(yhat[j] == test_y[j])\n",
      "\n",
      "%prun run_test()"
     ],
     "language": "python",
     "metadata": {},
     "outputs": [
      {
       "output_type": "stream",
       "stream": "stdout",
       "text": [
        "0 - Predicted: 1 Actual: 1 [ 0.365 0.488 0.062 0.005 0.016 0.030 0.035 ]\n",
        "1 - Predicted: 1 Actual: 1 [ 0.365 0.488 0.062 0.005 0.016 0.030 0.035 ]\n",
        "2 - Predicted: 1 Actual: 1 [ 0.365 0.488 0.062 0.005 0.016 0.030 0.035 ]\n",
        "3 - Predicted: 1 Actual: 0 [ 0.365 0.488 0.062 0.005 0.016 0.030 0.035 ]\n",
        "4 - Predicted: 1 Actual: 2 [ 0.365 0.488 0.062 0.005 0.016 0.030 0.035 ]\n",
        "5 - Predicted: 1 Actual: 0 [ 0.365 0.488 0.062 0.005 0.016 0.030 0.035 ]\n",
        "6 - Predicted: 1 Actual: 0 [ 0.365 0.488 0.062 0.005 0.016 0.030 0.035 ]\n",
        "7 - Predicted: 1 Actual: 1 [ 0.365 0.488 0.062 0.005 0.016 0.030 0.035 ]\n",
        "8 - Predicted: 1 Actual: 0 [ 0.365 0.488 0.062 0.005 0.016 0.030 0.035 ]\n",
        "9 - Predicted: 1 Actual: 1 [ 0.365 0.488 0.062 0.005 0.016 0.030 0.035 ]\n",
        "10"
       ]
      },
      {
       "output_type": "stream",
       "stream": "stdout",
       "text": [
        " - Predicted: 1 Actual: 1 [ 0.362 0.500 0.058 0.003 0.013 0.028 0.035 ]\n",
        "11 - Predicted: 1 Actual: 0 [ 0.362 0.500 0.058 0.003 0.013 0.028 0.035 ]\n",
        "12 - Predicted: 1 Actual: 0 [ 0.362 0.500 0.058 0.003 0.013 0.028 0.035 ]\n",
        "13 - Predicted: 1 Actual: 1 [ 0.362 0.500 0.058 0.003 0.013 0.028 0.035 ]\n",
        "14 - Predicted: 1 Actual: 1 [ 0.362 0.500 0.058 0.003 0.013 0.028 0.035 ]\n",
        "15 - Predicted: 1 Actual: 0 [ 0.362 0.500 0.058 0.003 0.013 0.028 0.035 ]\n",
        "16 - Predicted: 1 Actual: 2 [ 0.362 0.500 0.058 0.003 0.013 0.028 0.035 ]\n",
        "17 - Predicted: 1 Actual: 1 [ 0.362 0.500 0.058 0.003 0.013 0.028 0.035 ]\n",
        "18 - Predicted: 1 Actual: 1 [ 0.362 0.500 0.058 0.003 0.013 0.028 0.035 ]\n",
        "19 - Predicted: 1 Actual: 0 [ 0.362 0.500 0.058 0.003 0.013 0.028 0.035 ]\n",
        "20"
       ]
      },
      {
       "output_type": "stream",
       "stream": "stdout",
       "text": [
        " - Predicted: 1 Actual: 1 [ 0.361 0.472 0.082 0.001 0.015 0.031 0.037 ]\n",
        "21 - Predicted: 1 Actual: 0 [ 0.361 0.472 0.082 0.001 0.015 0.031 0.037 ]\n",
        "22 - Predicted: 1 Actual: 1 [ 0.416 0.444 0.005 0.029 0.044 0.060 0.001 ]\n",
        "23 - Predicted: 1 Actual: 2 [ 0.361 0.472 0.082 0.001 0.015 0.031 0.037 ]\n",
        "24 - Predicted: 1 Actual: 0 [ 0.361 0.472 0.082 0.001 0.015 0.031 0.037 ]\n",
        "25 - Predicted: 1 Actual: 0 [ 0.417 0.444 0.005 0.029 0.044 0.060 0.001 ]\n",
        "26 - Predicted: 1 Actual: 1 [ 0.375 0.596 0.001 0.000 0.000 0.000 0.027 ]\n",
        "27 - Predicted: 1 Actual: 1 [ 0.361 0.472 0.082 0.001 0.015 0.031 0.037 ]\n",
        "28 - Predicted: 1 Actual: 1 [ 0.375 0.596 0.001 0.000 0.000 0.000 0.027 ]\n",
        "29 - Predicted: 1 Actual: 0 [ 0.361 0.472 0.082 0.001 0.015 0.031 0.037 ]\n",
        "30"
       ]
      },
      {
       "output_type": "stream",
       "stream": "stdout",
       "text": [
        " - Predicted: 1 Actual: 2 [ 0.345 0.496 0.074 0.003 0.018 0.031 0.033 ]\n",
        "31 - Predicted: 5 Actual: 1 [ 0.181 0.236 0.041 0.001 0.008 0.515 0.019 ]\n",
        "32 - Predicted: 5 Actual: 1 [ 0.181 0.236 0.041 0.001 0.008 0.515 0.019 ]\n",
        "33 - Predicted: 5 Actual: 1 [ 0.181 0.236 0.041 0.001 0.008 0.515 0.019 ]\n",
        "34 - Predicted: 5 Actual: 0 [ 0.181 0.236 0.041 0.001 0.008 0.515 0.019 ]\n",
        "35 - Predicted: 1 Actual: 1 [ 0.345 0.496 0.074 0.003 0.018 0.031 0.033 ]\n",
        "36 - Predicted: 1 Actual: 0 [ 0.453 0.499 0.000 0.000 0.000 0.000 0.048 ]\n",
        "37 - Predicted: 1 Actual: 1 [ 0.453 0.498 0.000 0.000 0.000 0.000 0.048 ]\n",
        "38 - Predicted: 1 Actual: 0 [ 0.453 0.499 0.000 0.000 0.000 0.000 0.048 ]\n",
        "39 - Predicted: 5 Actual: 0 [ 0.180 0.236 0.041 0.001 0.008 0.514 0.019 ]\n",
        "40"
       ]
      },
      {
       "output_type": "stream",
       "stream": "stdout",
       "text": [
        " - Predicted: 0 Actual: 1 [ 0.563 0.391 0.001 0.000 0.000 0.003 0.042 ]\n",
        "41 - Predicted: 0 Actual: 1 [ 0.556 0.387 0.002 0.001 0.004 0.006 0.044 ]\n",
        "42 - Predicted: 1 Actual: 1 [ 0.108 0.764 0.047 0.000 0.049 0.032 0.001 ]\n",
        "43 - Predicted: 0 Actual: 0 [ 0.673 0.324 0.000 0.001 0.001 0.001 0.000 ]\n",
        "44 - Predicted: 0 Actual: 0 [ 0.563 0.391 0.001 0.000 0.000 0.003 0.042 ]\n",
        "45 - Predicted: 0 Actual: 1 [ 0.563 0.391 0.001 0.000 0.000 0.003 0.042 ]\n",
        "46 - Predicted: 0 Actual: 0 [ 0.527 0.400 0.003 0.017 0.001 0.033 0.017 ]\n",
        "47 - Predicted: 1 Actual: 1 [ 0.108 0.764 0.047 0.000 0.049 0.032 0.001 ]\n",
        "48 - Predicted: 0 Actual: 0 [ 0.563 0.391 0.001 0.000 0.000 0.003 0.042 ]\n",
        "49 - Predicted: 2 Actual: 2 [ 0.013 0.206 0.584 0.000 0.001 0.195 0.001 ]\n",
        "50"
       ]
      },
      {
       "output_type": "stream",
       "stream": "stdout",
       "text": [
        " - Predicted: 1 Actual: 2 [ 0.105 0.761 0.055 0.000 0.061 0.019 0.000 ]\n",
        "51 - Predicted: 1 Actual: 1 [ 0.332 0.667 0.000 0.000 0.000 0.000 0.001 ]\n",
        "52 - Predicted: 0 Actual: 1 [ 0.582 0.353 0.000 0.000 0.000 0.000 0.065 ]\n",
        "53 - Predicted: 0 Actual: 1 [ 0.582 0.353 0.000 0.000 0.000 0.000 0.065 ]\n",
        "54 - Predicted: 0 Actual: 0 [ 0.578 0.338 0.000 0.000 0.000 0.000 0.085 ]\n",
        "55 - Predicted: 1 Actual: 1 [ 0.145 0.855 0.000 0.000 0.000 0.000 0.000 ]\n",
        "56 - Predicted: 0 Actual: 0 [ 0.421 0.250 0.066 0.066 0.066 0.066 0.066 ]\n",
        "57 - Predicted: 0 Actual: 0 [ 0.387 0.322 0.058 0.058 0.058 0.058 0.058 ]\n",
        "58 - Predicted: 1 Actual: 0 [ 0.105 0.761 0.055 0.000 0.061 0.019 0.000 ]\n",
        "59 - Predicted: 0 Actual: 1 [ 0.582 0.353 0.000 0.000 0.000 0.000 0.065 ]\n",
        "60"
       ]
      },
      {
       "output_type": "stream",
       "stream": "stdout",
       "text": [
        " - Predicted: 1 Actual: 0 [ 0.336 0.352 0.000 0.000 0.000 0.000 0.312 ]\n",
        "61 - Predicted: 1 Actual: 1 [ 0.269 0.593 0.000 0.000 0.000 0.000 0.137 ]\n",
        "62 - Predicted: 0 Actual: 0 [ 0.530 0.407 0.000 0.000 0.000 0.000 0.064 ]\n",
        "63 - Predicted: 2 Actual: 2 [ 0.000 0.128 0.585 0.051 0.002 0.234 0.000 ]\n",
        "64 - Predicted: 1 Actual: 0 [ 0.369 0.631 0.000 0.000 0.000 0.000 0.000 ]\n",
        "65 - Predicted: 0 Actual: 1 [ 0.424 0.379 -0.024 0.082 -0.000 0.059 0.079 ]\n",
        "66 - Predicted: 0 Actual: 0 [ 0.530 0.407 0.000 0.000 0.000 0.000 0.064 ]\n",
        "67 - Predicted: 1 Actual: 1 [ 0.099 0.901 0.000 0.000 0.000 0.001 0.000 ]\n",
        "68 - Predicted: 0 Actual: 1 [ 0.530 0.407 0.000 0.000 0.000 0.000 0.064 ]\n",
        "69 - Predicted: 1 Actual: 1 [ 0.076 0.733 0.095 0.000 0.075 0.021 0.000 ]\n",
        "70"
       ]
      },
      {
       "output_type": "stream",
       "stream": "stdout",
       "text": [
        " - Predicted: 0 Actual: 1 [ 0.536 0.339 0.022 0.017 0.020 0.046 0.019 ]\n",
        "71 - Predicted: 0 Actual: 0 [ 0.600 0.308 0.000 0.000 0.000 0.000 0.092 ]\n",
        "72 - Predicted: 1 Actual: 1 [ 0.130 0.743 0.054 0.000 0.050 0.023 0.000 ]\n",
        "73 - Predicted: 0 Actual: 0 [ 0.550 0.400 0.000 0.000 0.000 0.000 0.050 ]\n",
        "74 - Predicted: 1 Actual: 2 [ 0.000 0.960 0.027 0.002 0.000 0.011 0.000 ]\n",
        "75 - Predicted: 0 Actual: 0 [ 0.600 0.308 0.000 0.000 0.000 0.000 0.092 ]\n",
        "76 - Predicted: 1 Actual: 1 [ 0.130 0.743 0.054 0.000 0.050 0.023 0.000 ]\n",
        "77 - Predicted: 1 Actual: 1 [ 0.130 0.743 0.054 0.000 0.050 0.023 0.000 ]\n",
        "78 - Predicted: 1 Actual: 1 [ 0.130 0.743 0.054 0.000 0.050 0.023 0.000 ]\n",
        "79 - Predicted: 0 Actual: 0 [ 0.552 0.391 0.000 0.000 0.000 0.000 0.057 ]\n",
        "80"
       ]
      },
      {
       "output_type": "stream",
       "stream": "stdout",
       "text": [
        " - Predicted: 2 Actual: 2 [ 0.000 0.407 0.583 0.002 0.000 0.008 0.000 ]\n",
        "81 - Predicted: 0 Actual: 1 [ 0.570 0.415 0.000 0.000 0.000 0.000 0.016 ]\n",
        "82 - Predicted: 0 Actual: 0 [ 0.575 0.374 0.000 0.000 0.000 0.000 0.050 ]\n",
        "83 - Predicted: 1 Actual: 0 [ 0.239 0.761 0.000 0.000 0.000 0.000 0.000 ]\n",
        "84 - Predicted: 1 Actual: 1 [ 0.060 0.935 0.002 0.000 0.000 0.004 0.000 ]\n",
        "85 - Predicted: 0 Actual: 1 [ 0.664 0.327 0.000 0.000 0.000 0.000 0.010 ]\n",
        "86 - Predicted: 0 Actual: 0 [ 0.598 0.171 0.000 0.000 0.001 0.000 0.230 ]\n",
        "87 - Predicted: 0 Actual: 0 [ 0.668 0.326 0.000 0.000 0.000 0.000 0.006 ]\n",
        "88 - Predicted: 1 Actual: 1 [ 0.239 0.761 0.000 0.000 0.000 0.000 0.000 ]\n",
        "89 - Predicted: 1 Actual: 1 [ 0.060 0.935 0.002 0.000 0.000 0.004 0.000 ]\n",
        "90"
       ]
      },
      {
       "output_type": "stream",
       "stream": "stdout",
       "text": [
        " - Predicted: 0 Actual: 0 [ 0.474 0.348 0.000 0.000 0.000 0.000 0.178 ]\n",
        "91 - Predicted: 1 Actual: 1 [ 0.092 0.908 0.000 0.000 0.000 0.000 0.000 ]\n",
        "92 - Predicted: 2 Actual: 2 [ 0.000 0.060 0.627 0.001 0.000 0.312 0.000 ]\n",
        "93 - Predicted: 0 Actual: 1 [ 0.757 0.180 0.000 0.000 0.001 0.000 0.062 ]\n",
        "94 - Predicted: 1 Actual: 1 [ 0.101 0.780 0.067 0.000 0.019 0.033 0.000 ]\n",
        "95 - Predicted: 1 Actual: 1 [ 0.130 0.696 0.050 0.000 0.119 0.005 0.000 ]\n",
        "96 - Predicted: 1 Actual: 0 [ 0.480 0.519 0.000 0.000 0.000 0.000 0.000 ]\n",
        "97 - Predicted: 1 Actual: 1 [ 0.016 0.854 0.008 0.000 0.122 0.000 0.000 ]\n",
        "98 - Predicted: 0 Actual: 0 [ 0.546 0.253 0.037 0.012 0.144 0.008 0.000 ]\n",
        "99 - Predicted: 0 Actual: 0 [ 0.840 0.155 0.000 0.000 0.000 0.000 0.005 ]\n",
        "100"
       ]
      },
      {
       "output_type": "stream",
       "stream": "stdout",
       "text": [
        " - Predicted: 1 Actual: 1 [ 0.105 0.772 0.053 0.000 0.000 0.070 0.000 ]\n",
        "101 - Predicted: 2 Actual: 2 [ 0.010 0.396 0.456 0.074 0.001 0.062 0.000 ]\n",
        "102 - Predicted: 0 Actual: 0 [ 0.566 0.401 0.000 0.000 0.000 0.000 0.034 ]\n",
        "103 - Predicted: 1 Actual: 1 [ 0.021 0.973 0.002 0.000 0.001 0.002 0.000 ]\n",
        "104 - Predicted: 1 Actual: 1 [ 0.099 0.901 0.000 0.000 0.000 0.000 0.000 ]\n",
        "105 - Predicted: 1 Actual: 1 [ 0.071 0.763 0.110 0.000 0.055 0.001 0.000 ]\n",
        "106 - Predicted: 0 Actual: 0 [ 0.508 0.434 0.000 0.000 0.000 0.000 0.057 ]\n",
        "107 - Predicted: 0 Actual: 1 [ 0.912 0.064 0.000 0.000 0.005 0.003 0.016 ]\n",
        "108 - Predicted: 0 Actual: 0 [ 0.940 0.059 0.000 0.000 0.000 0.000 0.001 ]\n",
        "109 - Predicted: 0 Actual: 0 [ 0.674 0.306 0.000 0.000 0.000 0.000 0.019 ]\n",
        "110"
       ]
      },
      {
       "output_type": "stream",
       "stream": "stdout",
       "text": [
        " - Predicted: 1 Actual: 1 [ 0.002 0.994 0.001 0.000 0.000 0.003 0.000 ]\n",
        "111 - Predicted: 2 Actual: 2 [ 0.000 0.003 0.505 0.000 0.000 0.492 0.000 ]\n",
        "112 - Predicted: 1 Actual: 1 [ 0.018 0.982 0.000 0.000 0.000 0.000 0.000 ]\n",
        "113 - Predicted: 0 Actual: 0 [ 0.349 0.262 0.000 0.000 0.160 0.068 0.160 ]\n",
        "114 - Predicted: 1 Actual: 1 [ 0.059 0.941 0.000 0.000 0.000 0.000 0.000 ]\n",
        "115 - Predicted: 1 Actual: 1 [ 0.112 0.709 0.128 0.000 0.035 0.017 0.000 ]\n",
        "116 - Predicted: 1 Actual: 1 [ 0.108 0.892 0.000 0.000 0.000 0.000 0.000 ]\n",
        "117 - Predicted: 0 Actual: 0 [ 0.270 0.262 0.000 0.000 0.180 0.066 0.223 ]\n",
        "118 - Predicted: 0 Actual: 0 [ 0.274 0.264 0.000 0.000 0.177 0.064 0.222 ]\n",
        "119 - Predicted: 0 Actual: 0 [ 0.716 0.279 0.000 0.000 0.000 0.000 0.005 ]\n",
        "120"
       ]
      },
      {
       "output_type": "stream",
       "stream": "stdout",
       "text": [
        " - Predicted: 1 Actual: 1 [ 0.493 0.493 0.000 0.000 0.010 0.000 0.003 ]\n",
        "121 - Predicted: 0 Actual: 0 [ 0.440 0.330 0.038 0.038 0.112 0.041 0.001 ]\n",
        "122 - Predicted: 1 Actual: 1 [ 0.243 0.713 0.022 0.000 0.014 0.008 0.000 ]\n",
        "123 - Predicted: 0 Actual: 1 [ 0.969 0.031 0.000 0.000 0.000 0.000 0.000 ]\n",
        "124 - Predicted: 0 Actual: 0 [ 0.553 0.390 0.000 0.000 0.001 0.000 0.055 ]\n",
        "125 - Predicted: 0 Actual: 1 [ 0.509 0.412 0.005 0.005 0.033 0.031 0.004 ]\n",
        "126 - Predicted: 0 Actual: 0 [ 0.357 0.343 0.000 0.000 0.091 0.091 0.119 ]\n",
        "127 - Predicted: 0 Actual: 0 [ 0.356 0.315 0.000 0.000 0.125 0.071 0.132 ]\n",
        "128 - Predicted: 1 Actual: 1 [ 0.334 0.666 0.000 0.000 0.000 0.000 0.000 ]\n",
        "129 - Predicted: 2 Actual: 2 [ 0.000 0.001 0.913 0.006 0.000 0.081 0.000 ]\n",
        "130"
       ]
      },
      {
       "output_type": "stream",
       "stream": "stdout",
       "text": [
        " - Predicted: 6 Actual: 0 [ 0.355 0.255 0.000 0.000 0.000 0.000 0.390 ]\n",
        "131 - Predicted: 0 Actual: 1 [ 0.671 0.261 0.000 0.000 0.068 0.000 -0.000 ]\n",
        "132 - Predicted: 0 Actual: 0 [ 0.512 0.488 0.000 0.000 0.000 0.000 0.000 ]\n",
        "133 - Predicted: 1 Actual: 1 [ 0.030 0.772 0.065 0.000 0.128 0.005 0.000 ]\n",
        "134 - Predicted: 2 Actual: 2 [ 0.000 0.082 0.779 0.001 0.000 0.138 0.000 ]\n",
        "135 - Predicted: 1 Actual: 0 [ 0.227 0.638 0.000 0.000 0.025 0.024 0.086 ]\n",
        "136 - Predicted: 1 Actual: 1 [ 0.086 0.787 0.065 0.000 0.061 0.000 0.000 ]\n",
        "137 - Predicted: 1 Actual: 1 [ 0.030 0.774 0.064 0.000 0.127 0.005 0.000 ]\n",
        "138 - Predicted: 1 Actual: 0 [ 0.200 0.657 0.029 0.001 0.066 0.046 0.001 ]\n",
        "139 - Predicted: 0 Actual: 1 [ 0.766 0.133 0.000 0.000 0.000 0.000 0.101 ]\n",
        "140"
       ]
      },
      {
       "output_type": "stream",
       "stream": "stdout",
       "text": [
        " - Predicted: 0 Actual: 2 [ 0.624 0.323 0.004 0.000 0.007 0.041 0.000 ]\n",
        "141 - Predicted: 1 Actual: 1 [ 0.369 0.398 0.000 0.000 0.077 0.077 0.079 ]\n",
        "142 - Predicted: 0 Actual: 0 [ 0.458 0.339 0.000 0.000 0.055 0.054 0.095 ]\n",
        "143 - Predicted: 0 Actual: 1 [ 0.689 0.217 0.000 0.000 0.000 0.000 0.094 ]\n",
        "144 - Predicted: 0 Actual: 0 [ 0.483 0.384 0.002 0.001 0.127 0.003 0.000 ]\n",
        "145 - Predicted: 1 Actual: 0 [ 0.363 0.391 0.000 0.000 0.081 0.081 0.083 ]\n",
        "146 - Predicted: 0 Actual: 0 [ 0.495 0.382 0.000 0.000 0.027 0.027 0.068 ]\n",
        "147 - Predicted: 1 Actual: 1 [ 0.250 0.723 0.000 0.000 0.004 0.000 0.023 ]\n",
        "148 - Predicted: 1 Actual: 1 [ 0.001 0.857 0.064 0.000 0.078 0.000 0.000 ]\n",
        "149 - Predicted: 1 Actual: 1 [ 0.094 0.907 0.000 0.000 0.000 0.000 -0.002 ]\n",
        "150"
       ]
      },
      {
       "output_type": "stream",
       "stream": "stdout",
       "text": [
        " - Predicted: 1 Actual: 1 [ 0.108 0.597 0.130 0.000 0.088 0.077 0.000 ]\n",
        "151 - Predicted: 0 Actual: 0 [ 0.555 0.388 0.000 0.000 0.001 0.000 0.056 ]\n",
        "152 - Predicted: 0 Actual: 0 [ 0.443 0.362 0.037 0.030 0.043 0.048 0.037 ]\n",
        "153 - Predicted: 0 Actual: 1 [ 0.555 0.388 0.000 0.000 0.001 0.000 0.056 ]\n",
        "154 - Predicted: 0 Actual: 1 [ 0.555 0.388 0.000 0.000 0.001 0.000 0.056 ]\n",
        "155 - Predicted: 0 Actual: 0 [ 0.555 0.388 0.000 0.000 0.001 0.000 0.056 ]\n",
        "156 - Predicted: 2 Actual: 1 [ 0.026 0.307 0.508 0.000 0.005 0.154 0.000 ]\n",
        "157 - Predicted: 1 Actual: 2 [ 0.043 0.840 0.037 0.000 0.042 0.037 0.000 ]\n",
        "158 - Predicted: 0 Actual: 0 [ 0.555 0.388 0.000 0.000 0.001 0.000 0.056 ]\n",
        "159 - Predicted: 1 Actual: 1 [ 0.192 0.937 0.004 0.000 0.016 -0.149 0.000 ]\n",
        "160"
       ]
      }
     ]
    },
    {
     "cell_type": "code",
     "collapsed": false,
     "input": [
      "pd.Series(hits).cumsum().plot() # Predictions over time"
     ],
     "language": "python",
     "metadata": {},
     "outputs": [
      {
       "metadata": {},
       "output_type": "pyout",
       "prompt_number": 14,
       "text": [
        "<matplotlib.axes._subplots.AxesSubplot at 0x7f88312d2a58>"
       ]
      },
      {
       "metadata": {},
       "output_type": "display_data",
       "png": "[encoded data removed]",
       "text": [
        "<matplotlib.figure.Figure at 0x7f8831877828>"
       ]
      }
     ],
     "prompt_number": 14
    },
    {
     "cell_type": "code",
     "collapsed": false,
     "input": [
      "sum(hits)/len(hits) # Overall accuracy"
     ],
     "language": "python",
     "metadata": {},
     "outputs": [
      {
       "metadata": {},
       "output_type": "pyout",
       "prompt_number": 15,
       "text": [
        "0.61699999999999999"
       ]
      }
     ],
     "prompt_number": 15
    },
    {
     "cell_type": "code",
     "collapsed": false,
     "input": [
      "n = mf.trees[0].root.left.left.left.left.left.left.left\n",
      "%timeit get_posterior_class_probs(n, 10)"
     ],
     "language": "python",
     "metadata": {},
     "outputs": []
    }
   ],
   "metadata": {}
  }
 ]
}