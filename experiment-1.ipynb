{
 "metadata": {
  "name": "",
  "signature": "sha256:989ff7b64f7ba434079a0346d2cedcb896b3bea8b30c79d9996214f8fd683651"
 },
 "nbformat": 3,
 "nbformat_minor": 0,
 "worksheets": [
  {
   "cells": [
    {
     "cell_type": "markdown",
     "metadata": {},
     "source": [
      "# Mondrian Forests\n",
      "\n",
      "This is a reimplementation of Mondrian Forests as described here:\n",
      "\n",
      "**Mondrian Forests: Efficient Online Random Forests**\n",
      "\n",
      "Balaji Lakshminarayanan, Daniel M. Roy, Yee Whye Teh\n",
      "\n",
      "http://arxiv.org/abs/1406.2673\n",
      "\n",
      "It partly uses code from the original authors' implementation at\n",
      "\n",
      "https://github.com/balajiln/mondrianforest\n",
      "\n",
      "but changes a few things along the way too. Key differences:\n",
      "\n",
      "* Assume FAST_MODE (no log-likelihood) for now\n",
      "* Classification only (they never finished regression)\n",
      "* Always assume we're training incrementally\n",
      "* `data` (an array) refers to one batch, instead of having a single design matrix in memory and indexing it with `train_ids`\n",
      "* `labels` is a vector of class labels for the rows in `data`\n",
      "* We don't assume you'll provide the first batch of training data when initializing a tree, but we do need to know the number of dimensions and number of labels\n",
      "* It works in parallel :-)\n",
      "\n",
      "Perhaps most different of all:\n",
      "\n",
      "We don't keep all the input data, as this won't scale. But this means we can't move existing data down into the new leaf nodes when we split a leaf node.\n",
      "\n",
      "This is the plan: When the tree \"grows\" through randomly splitting a leaf node, keep its existing class frequencies where they are, and only use the two new children for *newly-arriving* data. Then take these into account when calculating the predictive posteriors (appendix A of paper). This is working, but not very well tested yet.\n",
      "\n",
      "Here are my original thoughts on this, that I almost sent to the authors, but decided to try first.\n",
      "\n",
      "```\n",
      "One thing I missed on reading the paper, is that when you bisect a leaf node through a \"grow\" (sampling) operation,\n",
      "you need to assign all its data points to one of the new children.\n",
      "\n",
      "This means you can't just keep summary statistics for the data in a block, i.e. class frequencies. You need to hold\n",
      "on to the raw training data in order to divide it, yes? Which is a problem for online learning over streaming data\n",
      "or just \"big data\" in general.\n",
      "\n",
      "So... Perhaps you could entirely forget about keeping the existing data and propagating it down to the new child\n",
      "nodes. If you just kept class frequencies at each node, maybe you could use these in the \"update posterior counts\"\n",
      "step for internal nodes, alongside the child node counts.\n",
      "\n",
      "(Any data that came in *after* the split would go all the way down to the leaf nodes though.)\n",
      "```\n",
      "\n",
      "For the time being, though, it's using a much simpler scoring system. Walk down the tree until you find the box that the test example would have been in, and go for the majority class. If you don't find a box, or it's empty, walk back up until you find the nearest ancestor with some instances in.\n",
      "\n",
      "Averaged across a few trees, even as few as ~10, this actually does pretty well.\n",
      "\n",
      "## Running this demo\n",
      "\n",
      "If a `default` IPython cluster is available, it runs in parallel automatically, with as many trees in the forest as you have engines in the cluster. Otherwise, it runs in serial on a single core, with 3 trees. See the notes in the third cell.\n",
      "\n",
      "For best results with small forests, use an odd number of trees.\n",
      "\n",
      "## TODO\n",
      "\n",
      "### Must-haves\n",
      "\n",
      "* Types for all numpy arrays\n",
      "* Error checking\n",
      "* Work out exactly what effect `budget` is having\n",
      "* Introspection and prettyprinting tools\n",
      "* Work out which members are \"private\" and rename them with underscores\n",
      "* Proper tests...\n",
      "\n",
      "### Useful features\n",
      "\n",
      "* Allow multiple trees per engine (i.e. each engine runs a forest, not a tree)\n",
      "* Instance subsampling\n",
      "* Feature subsampling/bootstrapping/bagging\n",
      "* Feature hashing/random projection/LSH\n",
      "* Train-on-fail mode\n",
      "* Loss functions, regret, class weighting?\n",
      "\n",
      "### Blue sky\n",
      "\n",
      "* Regression\n",
      "* Clustering? (I mean, it basically *is* clustering, already...)\n",
      "* Semi-supervised would be really easy too\n",
      "* Adaptivity -- non-stationary distributions, recency effects etc.\n",
      "* Auto-pruning/rebalancing -- stop trees either stagnating or growing out of control in the long term\n",
      "* What about when the true number of classes isn't known in advance?\n",
      "\n",
      "The last three are really closely related.\n",
      "\n",
      "We could probably tackle a lot of these problems by \"chopping down\" older trees -- either randomly or according to a heuristic (e.g. least-recently-modified) -- so new ones can grow in their place. Maybe varying the budget and discount values would be useful too.\n",
      "\n",
      "Perhaps you could calculate the posterior class probabilities over the entire 'dead' tree, and use these as the priors for the new tree that will grow in its place.\n",
      "\n",
      "You could also use this kind of approach to tune P/R tradeoff, chase a particular objective function, do reinforcement learning... If you squint, they start to look a little like GAs.\n",
      "\n",
      "* Ontology learning\n",
      "* Grammar induction\n",
      "* Topic modelling\n",
      "\n",
      "Use cases that are fundamentally tree-shaped! Hmmm."
     ]
    },
    {
     "cell_type": "code",
     "collapsed": false,
     "input": [
      "%run 'mondrian.py'\n",
      "\n",
      "import random\n",
      "\n",
      "import numpy as np\n",
      "\n",
      "from IPython.parallel import Client\n",
      "try:\n",
      "    rc = Client()\n",
      "    dview = rc[:]\n",
      "    print('Using default IPython cluster with %d engines' % len(dview))\n",
      "except FileNotFoundError:\n",
      "    rc = None\n",
      "    dview = None\n",
      "    print('Using single-core implementation')\n",
      "\n",
      "DEFAULT_BUDGET = 1000"
     ],
     "language": "python",
     "metadata": {},
     "outputs": [
      {
       "output_type": "stream",
       "stream": "stdout",
       "text": [
        "Using single-core implementation\n"
       ]
      }
     ],
     "prompt_number": 287
    },
    {
     "cell_type": "code",
     "collapsed": false,
     "input": [
      "import pickle\n",
      "import gzip\n",
      "import os\n",
      "import pandas as pd\n",
      "from sklearn import datasets\n",
      "from sklearn import cross_validation as cv\n",
      "\n",
      "# For speed later...\n",
      "test_file = '/home/vagrant/data/covtype.pkl.gz'\n",
      "if os.path.exists(test_file):\n",
      "    with gzip.GzipFile(test_file, 'rb') as z:\n",
      "        dataset = pickle.load(z)\n",
      "else:\n",
      "    dataset = datasets.fetch_covtype() # Can be quite slow\n",
      "    with gzip.GzipFile(test_file, 'wb') as z:\n",
      "        pickle.dump(dataset, z)\n",
      "        \n",
      "dataset.data.shape"
     ],
     "language": "python",
     "metadata": {},
     "outputs": [
      {
       "metadata": {},
       "output_type": "pyout",
       "prompt_number": 215,
       "text": [
        "(581012, 54)"
       ]
      }
     ],
     "prompt_number": 215
    },
    {
     "cell_type": "code",
     "collapsed": false,
     "input": [
      "n_iter = 50\n",
      "test_size = 10\n",
      "folds = cv.StratifiedShuffleSplit(dataset.target, n_iter=n_iter, test_size=test_size, train_size=1000)\n",
      "hits = []\n",
      "\n",
      "data = dataset.data\n",
      "target = dataset.target - 1 # they are 1-indexed\n",
      "data_size = data.shape[1]\n",
      "classes = len(np.unique(target))\n",
      "\n",
      "local_trees = 11\n",
      "remote_trees_per_worker = 11\n",
      "scoring = 'nsp'\n",
      "\n",
      "if dview is None:\n",
      "    # Run with a single-threaded forest\n",
      "    mf = MondrianForest(local_trees, data_size, classes, DEFAULT_BUDGET, scoring)\n",
      "else:\n",
      "    # Run with a parallel forest on IPython cluster\n",
      "    mf = ParallelMondrianForest(dview, remote_trees_per_worker, data_size, classes, DEFAULT_BUDGET, scoring)\n",
      "\n",
      "def run_test():\n",
      "    for i, (train, test) in enumerate(folds):\n",
      "        train_X = data[train]\n",
      "        train_y = target[train]\n",
      "        test_X = data[test]\n",
      "        test_y = target[test]\n",
      "        mf.update(train_X, train_y)\n",
      "        preds = mf.predict(test_X)\n",
      "        yhat = preds.argmax(axis=1)\n",
      "        assert test_y.shape == yhat.shape\n",
      "        for j in range(len(preds)):\n",
      "            idx = (i * test_size) + j\n",
      "            print(idx, '- Predicted:', yhat[j], 'Actual:', test_y[j],\n",
      "                  '[', ' '.join(['%.3f' % x for x in preds[j]]), ']')\n",
      "            hits.append(yhat[j] == test_y[j])\n",
      "\n",
      "%prun run_test()"
     ],
     "language": "python",
     "metadata": {},
     "outputs": [
      {
       "output_type": "stream",
       "stream": "stdout",
       "text": [
        "0 - Predicted: 1 Actual: 1 [ 0.223 0.474 0.127 0.010 0.033 0.061 0.072 ]\n",
        "1 - Predicted: 1 Actual: 0 [ 0.223 0.474 0.127 0.010 0.033 0.061 0.072 ]\n",
        "2 - Predicted: 1 Actual: 0 [ 0.223 0.474 0.127 0.010 0.033 0.061 0.072 ]\n",
        "3 - Predicted: 1 Actual: 0 [ 0.223 0.474 0.127 0.010 0.033 0.061 0.072 ]\n",
        "4 - Predicted: 1 Actual: 1 [ 0.223 0.474 0.127 0.010 0.033 0.061 0.072 ]\n",
        "5 - Predicted: 1 Actual: 1 [ 0.223 0.474 0.127 0.010 0.033 0.061 0.072 ]\n",
        "6 - Predicted: 1 Actual: 1 [ 0.223 0.474 0.127 0.010 0.033 0.061 0.072 ]\n",
        "7 - Predicted: 1 Actual: 0 [ 0.223 0.474 0.127 0.010 0.033 0.061 0.072 ]\n",
        "8 - Predicted: 1 Actual: 2 [ 0.223 0.474 0.127 0.010 0.033 0.061 0.072 ]\n",
        "9 - Predicted: 1 Actual: 1 [ 0.223 0.474 0.127 0.010 0.033 0.061 0.072 ]\n",
        "10"
       ]
      },
      {
       "output_type": "stream",
       "stream": "stdout",
       "text": [
        " - Predicted: 1 Actual: 2 [ 0.284 0.378 0.157 0.010 0.038 0.068 0.065 ]\n",
        "11 - Predicted: 1 Actual: 0 [ 0.284 0.378 0.157 0.010 0.038 0.068 0.065 ]\n",
        "12 - Predicted: 1 Actual: 1 [ 0.270 0.391 0.151 0.010 0.035 0.074 0.068 ]\n",
        "13 - Predicted: 1 Actual: 1 [ 0.311 0.359 0.142 0.009 0.034 0.072 0.073 ]\n",
        "14 - Predicted: 1 Actual: 1 [ 0.368 0.492 0.049 0.003 0.012 0.026 0.050 ]\n",
        "15 - Predicted: 1 Actual: 0 [ 0.309 0.513 0.073 0.005 0.017 0.036 0.048 ]\n",
        "16 - Predicted: 1 Actual: 0 [ 0.311 0.359 0.142 0.009 0.034 0.072 0.073 ]\n",
        "17 - Predicted: 1 Actual: 1 [ 0.318 0.448 0.092 0.006 0.022 0.046 0.068 ]\n",
        "18 - Predicted: 1 Actual: 0 [ 0.349 0.482 0.064 0.004 0.016 0.033 0.053 ]\n",
        "19 - Predicted: 1 Actual: 1 [ 0.284 0.378 0.157 0.010 0.038 0.068 0.065 ]\n",
        "20"
       ]
      },
      {
       "output_type": "stream",
       "stream": "stdout",
       "text": [
        " - Predicted: 1 Actual: 0 [ 0.310 0.505 0.072 0.005 0.023 0.034 0.051 ]\n",
        "21 - Predicted: 1 Actual: 0 [ 0.352 0.455 0.066 0.004 0.021 0.032 0.069 ]\n",
        "22 - Predicted: 1 Actual: 1 [ 0.278 0.425 0.133 0.009 0.033 0.061 0.061 ]\n",
        "23 - Predicted: 1 Actual: 2 [ 0.251 0.369 0.194 0.012 0.033 0.090 0.051 ]\n",
        "24 - Predicted: 1 Actual: 0 [ 0.385 0.430 0.064 0.004 0.019 0.031 0.067 ]\n",
        "25 - Predicted: 1 Actual: 1 [ 0.326 0.397 0.116 0.007 0.033 0.057 0.064 ]\n",
        "26 - Predicted: 1 Actual: 1 [ 0.313 0.437 0.104 0.007 0.030 0.050 0.059 ]\n",
        "27 - Predicted: 1 Actual: 1 [ 0.264 0.374 0.183 0.011 0.031 0.085 0.051 ]\n",
        "28 - Predicted: 1 Actual: 1 [ 0.326 0.397 0.116 0.007 0.033 0.057 0.064 ]\n",
        "29 - Predicted: 1 Actual: 0 [ 0.326 0.397 0.116 0.007 0.033 0.057 0.064 ]\n",
        "30"
       ]
      },
      {
       "output_type": "stream",
       "stream": "stdout",
       "text": [
        " - Predicted: 0 Actual: 0 [ 0.373 0.325 0.101 0.005 0.031 0.051 0.114 ]\n",
        "31 - Predicted: 0 Actual: 2 [ 0.333 0.312 0.175 0.011 0.033 0.084 0.053 ]\n",
        "32 - Predicted: 1 Actual: 0 [ 0.320 0.440 0.041 0.002 0.012 0.020 0.165 ]\n",
        "33 - Predicted: 1 Actual: 1 [ 0.316 0.535 0.062 0.004 0.018 0.035 0.031 ]\n",
        "34 - Predicted: 1 Actual: 1 [ 0.340 0.575 0.020 0.001 0.010 0.016 0.038 ]\n",
        "35 - Predicted: 1 Actual: 0 [ 0.358 0.392 0.072 0.003 0.021 0.038 0.115 ]\n",
        "36 - Predicted: 0 Actual: 1 [ 0.327 0.301 0.148 0.009 0.038 0.068 0.109 ]\n",
        "37 - Predicted: 0 Actual: 1 [ 0.329 0.326 0.189 0.012 0.030 0.085 0.030 ]\n",
        "38 - Predicted: 0 Actual: 1 [ 0.346 0.299 0.133 0.008 0.038 0.064 0.112 ]\n",
        "39 - Predicted: 1 Actual: 0 [ 0.308 0.431 0.051 0.002 0.015 0.025 0.169 ]\n",
        "40"
       ]
      },
      {
       "output_type": "stream",
       "stream": "stdout",
       "text": [
        " - Predicted: 0 Actual: 0 [ 0.409 0.391 0.063 0.004 0.023 0.031 0.079 ]\n",
        "41 - Predicted: 1 Actual: 0 [ 0.452 0.466 0.021 0.002 0.010 0.011 0.037 ]\n",
        "42 - Predicted: 1 Actual: 0 [ 0.386 0.431 0.057 0.004 0.018 0.030 0.075 ]\n",
        "43 - Predicted: 1 Actual: 2 [ 0.206 0.364 0.263 0.017 0.025 0.099 0.026 ]\n",
        "44 - Predicted: 1 Actual: 1 [ 0.377 0.435 0.063 0.004 0.023 0.031 0.067 ]\n",
        "45 - Predicted: 1 Actual: 1 [ 0.324 0.394 0.121 0.007 0.033 0.057 0.064 ]\n",
        "46 - Predicted: 1 Actual: 1 [ 0.345 0.615 0.006 0.000 0.009 0.002 0.023 ]\n",
        "47 - Predicted: 1 Actual: 1 [ 0.357 0.431 0.076 0.004 0.033 0.034 0.065 ]\n",
        "48 - Predicted: 1 Actual: 0 [ 0.406 0.436 0.043 0.003 0.016 0.023 0.073 ]\n",
        "49 - Predicted: 1 Actual: 1 [ 0.416 0.455 0.031 0.001 0.012 0.013 0.072 ]\n",
        "50"
       ]
      },
      {
       "output_type": "stream",
       "stream": "stdout",
       "text": [
        " - Predicted: 1 Actual: 1 [ 0.380 0.387 0.117 0.006 0.026 0.043 0.042 ]\n",
        "51 - Predicted: 1 Actual: 1 [ 0.390 0.487 0.029 0.001 0.017 0.020 0.057 ]\n",
        "52 - Predicted: 1 Actual: 1 [ 0.240 0.423 0.197 0.013 0.030 0.081 0.017 ]\n",
        "53 - Predicted: 1 Actual: 1 [ 0.381 0.496 0.028 0.001 0.015 0.019 0.060 ]\n",
        "54 - Predicted: 1 Actual: 0 [ 0.406 0.535 0.003 0.000 0.008 0.003 0.046 ]\n",
        "55 - Predicted: 1 Actual: 0 [ 0.332 0.607 0.012 0.000 0.004 0.007 0.037 ]\n",
        "56 - Predicted: 1 Actual: 0 [ 0.406 0.524 0.012 0.000 0.004 0.007 0.046 ]\n",
        "57 - Predicted: 1 Actual: 0 [ 0.328 0.379 0.168 0.009 0.037 0.047 0.033 ]\n",
        "58 - Predicted: 1 Actual: 1 [ 0.382 0.476 0.047 0.003 0.021 0.012 0.059 ]\n",
        "59 - Predicted: 1 Actual: 2 [ 0.247 0.408 0.216 0.011 0.023 0.076 0.020 ]\n",
        "60"
       ]
      },
      {
       "output_type": "stream",
       "stream": "stdout",
       "text": [
        " - Predicted: 1 Actual: 1 [ 0.435 0.518 0.023 0.001 0.006 0.005 0.013 ]\n",
        "61 - Predicted: 1 Actual: 0 [ 0.417 0.552 0.001 0.000 0.013 0.000 0.017 ]\n",
        "62 - Predicted: 0 Actual: 0 [ 0.453 0.440 0.027 0.001 0.009 0.014 0.057 ]\n",
        "63 - Predicted: 1 Actual: 1 [ 0.374 0.573 0.002 0.000 0.009 0.001 0.043 ]\n",
        "64 - Predicted: 1 Actual: 1 [ 0.301 0.506 0.081 0.009 0.020 0.049 0.035 ]\n",
        "65 - Predicted: 1 Actual: 0 [ 0.433 0.464 0.029 0.001 0.014 0.014 0.044 ]\n",
        "66 - Predicted: 1 Actual: 1 [ 0.408 0.511 0.027 0.001 0.012 0.014 0.026 ]\n",
        "67 - Predicted: 1 Actual: 0 [ 0.397 0.502 0.032 0.001 0.014 0.017 0.037 ]\n",
        "68 - Predicted: 1 Actual: 2 [ 0.163 0.491 0.186 0.008 0.056 0.079 0.016 ]\n",
        "69 - Predicted: 1 Actual: 1 [ 0.372 0.516 0.028 0.001 0.013 0.014 0.056 ]\n",
        "70"
       ]
      },
      {
       "output_type": "stream",
       "stream": "stdout",
       "text": [
        " - Predicted: 1 Actual: 1 [ 0.275 0.539 0.083 0.001 0.022 0.046 0.034 ]\n",
        "71 - Predicted: 1 Actual: 2 [ 0.178 0.482 0.194 0.007 0.022 0.090 0.026 ]\n",
        "72 - Predicted: 1 Actual: 1 [ 0.276 0.684 0.012 0.001 0.005 0.005 0.017 ]\n",
        "73 - Predicted: 1 Actual: 1 [ 0.366 0.588 0.006 0.000 0.004 0.002 0.034 ]\n",
        "74 - Predicted: 1 Actual: 1 [ 0.338 0.543 0.028 0.001 0.013 0.009 0.068 ]\n",
        "75 - Predicted: 1 Actual: 1 [ 0.248 0.546 0.094 0.004 0.030 0.047 0.029 ]\n",
        "76 - Predicted: 0 Actual: 0 [ 0.446 0.382 0.069 0.001 0.016 0.020 0.066 ]\n",
        "77 - Predicted: 1 Actual: 0 [ 0.359 0.509 0.048 0.004 0.019 0.033 0.028 ]\n",
        "78 - Predicted: 1 Actual: 0 [ 0.287 0.684 0.010 0.001 0.003 0.005 0.012 ]\n",
        "79 - Predicted: 1 Actual: 0 [ 0.412 0.484 0.031 0.000 0.008 0.016 0.048 ]\n",
        "80"
       ]
      },
      {
       "output_type": "stream",
       "stream": "stdout",
       "text": [
        " - Predicted: 1 Actual: 1 [ 0.330 0.456 0.101 0.003 0.026 0.048 0.036 ]\n",
        "81 - Predicted: 0 Actual: 0 [ 0.449 0.445 0.035 0.001 0.011 0.014 0.046 ]\n",
        "82 - Predicted: 0 Actual: 0 [ 0.561 0.395 0.008 0.000 0.007 0.003 0.025 ]\n",
        "83 - Predicted: 1 Actual: 1 [ 0.309 0.670 0.000 0.000 0.000 0.000 0.021 ]\n",
        "84 - Predicted: 0 Actual: 1 [ 0.481 0.400 0.035 0.001 0.016 0.017 0.050 ]\n",
        "85 - Predicted: 1 Actual: 1 [ 0.213 0.771 0.002 0.000 0.002 0.000 0.011 ]\n",
        "86 - Predicted: 1 Actual: 2 [ 0.304 0.467 0.113 0.004 0.021 0.064 0.026 ]\n",
        "87 - Predicted: 0 Actual: 0 [ 0.487 0.383 0.043 0.002 0.017 0.022 0.047 ]\n",
        "88 - Predicted: 1 Actual: 1 [ 0.386 0.436 0.088 0.007 0.029 0.033 0.021 ]\n",
        "89 - Predicted: 0 Actual: 0 [ 0.458 0.447 0.029 0.001 0.011 0.017 0.037 ]\n",
        "90"
       ]
      },
      {
       "output_type": "stream",
       "stream": "stdout",
       "text": [
        " - Predicted: 2 Actual: 2 [ 0.191 0.274 0.388 0.011 0.011 0.119 0.006 ]\n",
        "91 - Predicted: 1 Actual: 1 [ 0.406 0.477 0.048 0.003 0.019 0.022 0.025 ]\n",
        "92 - Predicted: 0 Actual: 0 [ 0.515 0.460 0.001 0.000 0.006 0.000 0.019 ]\n",
        "93 - Predicted: 1 Actual: 0 [ 0.413 0.510 0.028 0.001 0.010 0.009 0.030 ]\n",
        "94 - Predicted: 1 Actual: 1 [ 0.300 0.423 0.170 0.006 0.059 0.029 0.013 ]\n",
        "95 - Predicted: 1 Actual: 1 [ 0.278 0.512 0.096 0.003 0.021 0.052 0.039 ]\n",
        "96 - Predicted: 0 Actual: 0 [ 0.496 0.465 0.001 0.000 0.017 0.000 0.021 ]\n",
        "97 - Predicted: 1 Actual: 0 [ 0.361 0.429 0.086 0.002 0.013 0.047 0.062 ]\n",
        "98 - Predicted: 0 Actual: 1 [ 0.452 0.445 0.055 0.000 0.011 0.009 0.027 ]\n",
        "99 - Predicted: 0 Actual: 1 [ 0.527 0.447 0.001 0.000 0.004 0.000 0.021 ]\n",
        "100"
       ]
      },
      {
       "output_type": "stream",
       "stream": "stdout",
       "text": [
        " - Predicted: 1 Actual: 1 [ 0.424 0.481 0.028 0.000 0.013 0.012 0.042 ]\n",
        "101 - Predicted: 0 Actual: 0 [ 0.687 0.298 0.001 0.000 0.001 0.000 0.012 ]\n",
        "102 - Predicted: 2 Actual: 2 [ 0.092 0.167 0.536 0.013 0.006 0.179 0.008 ]\n",
        "103 - Predicted: 1 Actual: 1 [ 0.384 0.561 0.011 0.000 0.003 0.006 0.035 ]\n",
        "104 - Predicted: 1 Actual: 1 [ 0.415 0.497 0.029 0.000 0.011 0.012 0.037 ]\n",
        "105 - Predicted: 1 Actual: 0 [ 0.369 0.478 0.072 0.002 0.017 0.034 0.028 ]\n",
        "106 - Predicted: 2 Actual: 1 [ 0.147 0.195 0.378 0.057 0.012 0.204 0.008 ]\n",
        "107 - Predicted: 1 Actual: 0 [ 0.349 0.533 0.035 0.001 0.021 0.028 0.032 ]\n",
        "108 - Predicted: 0 Actual: 1 [ 0.461 0.446 0.028 0.000 0.011 0.012 0.042 ]\n",
        "109 - Predicted: 0 Actual: 0 [ 0.529 0.378 0.037 0.001 0.016 0.018 0.021 ]\n",
        "110"
       ]
      },
      {
       "output_type": "stream",
       "stream": "stdout",
       "text": [
        " - Predicted: 1 Actual: 2 [ 0.179 0.485 0.241 0.012 0.022 0.034 0.026 ]\n",
        "111 - Predicted: 1 Actual: 1 [ 0.297 0.594 0.030 0.000 0.030 0.020 0.030 ]\n",
        "112 - Predicted: 0 Actual: 0 [ 0.513 0.463 0.001 0.000 0.001 0.001 0.022 ]\n",
        "113 - Predicted: 1 Actual: 1 [ 0.218 0.747 0.005 0.000 0.001 0.002 0.026 ]\n",
        "114 - Predicted: 0 Actual: 0 [ 0.473 0.402 0.024 0.000 0.021 0.012 0.068 ]\n",
        "115 - Predicted: 1 Actual: 1 [ 0.322 0.519 0.050 0.007 0.041 0.027 0.035 ]\n",
        "116 - Predicted: 0 Actual: 0 [ 0.497 0.421 0.022 0.000 0.019 0.020 0.021 ]\n",
        "117 - Predicted: 1 Actual: 1 [ 0.224 0.521 0.123 0.002 0.027 0.029 0.073 ]\n",
        "118 - Predicted: 1 Actual: 1 [ 0.385 0.537 0.017 0.000 0.021 0.015 0.026 ]\n",
        "119 - Predicted: 0 Actual: 0 [ 0.449 0.444 0.031 0.001 0.021 0.022 0.031 ]\n",
        "120"
       ]
      },
      {
       "output_type": "stream",
       "stream": "stdout",
       "text": [
        " - Predicted: 1 Actual: 1 [ 0.297 0.542 0.062 0.012 0.031 0.047 0.009 ]\n",
        "121 - Predicted: 1 Actual: 1 [ 0.184 0.773 0.000 0.000 0.000 0.000 0.042 ]\n",
        "122 - Predicted: 1 Actual: 0 [ 0.415 0.502 0.014 0.000 0.014 0.016 0.040 ]\n",
        "123 - Predicted: 0 Actual: 0 [ 0.528 0.397 0.012 0.000 0.006 0.007 0.049 ]\n",
        "124 - Predicted: 1 Actual: 1 [ 0.320 0.501 0.077 0.003 0.029 0.041 0.027 ]\n",
        "125 - Predicted: 2 Actual: 1 [ 0.151 0.304 0.319 0.020 0.030 0.171 0.005 ]\n",
        "126 - Predicted: 1 Actual: 0 [ 0.450 0.477 0.014 0.000 0.011 0.013 0.034 ]\n",
        "127 - Predicted: 1 Actual: 2 [ 0.213 0.319 0.298 0.006 0.013 0.135 0.017 ]\n",
        "128 - Predicted: 1 Actual: 1 [ 0.193 0.705 0.024 0.002 0.016 0.053 0.006 ]\n",
        "129 - Predicted: 0 Actual: 0 [ 0.520 0.377 0.018 0.001 0.007 0.009 0.068 ]\n",
        "130"
       ]
      },
      {
       "output_type": "stream",
       "stream": "stdout",
       "text": [
        " - Predicted: 0 Actual: 0 [ 0.405 0.316 0.112 0.012 0.055 0.088 0.012 ]\n",
        "131 - Predicted: 1 Actual: 1 [ 0.337 0.504 0.067 0.018 0.023 0.043 0.009 ]\n",
        "132 - Predicted: 0 Actual: 1 [ 0.492 0.411 0.033 0.002 0.009 0.020 0.034 ]\n",
        "133 - Predicted: 1 Actual: 0 [ 0.375 0.484 0.034 0.002 0.023 0.015 0.069 ]\n",
        "134 - Predicted: 1 Actual: 2 [ 0.195 0.489 0.182 0.016 0.023 0.062 0.032 ]\n",
        "135 - Predicted: 0 Actual: 0 [ 0.622 0.348 0.003 0.000 0.004 0.001 0.023 ]\n",
        "136 - Predicted: 1 Actual: 1 [ 0.391 0.531 0.024 0.001 0.014 0.010 0.030 ]\n",
        "137 - Predicted: 1 Actual: 1 [ 0.401 0.498 0.036 0.001 0.017 0.021 0.027 ]\n",
        "138 - Predicted: 0 Actual: 0 [ 0.480 0.417 0.012 0.000 0.009 0.001 0.081 ]\n",
        "139 - Predicted: 1 Actual: 1 [ 0.432 0.500 0.025 0.001 0.009 0.006 0.027 ]\n",
        "140"
       ]
      },
      {
       "output_type": "stream",
       "stream": "stdout",
       "text": [
        " - Predicted: 1 Actual: 1 [ 0.417 0.533 0.013 0.000 0.007 0.011 0.019 ]\n",
        "141 - Predicted: 1 Actual: 1 [ 0.330 0.605 0.020 0.003 0.012 0.011 0.020 ]\n",
        "142 - Predicted: 2 Actual: 2 [ 0.121 0.184 0.480 0.023 0.024 0.158 0.009 ]\n",
        "143 - Predicted: 1 Actual: 0 [ 0.462 0.482 0.005 0.000 0.004 0.001 0.047 ]\n",
        "144 - Predicted: 0 Actual: 1 [ 0.601 0.379 0.003 0.000 0.001 0.001 0.014 ]\n",
        "145 - Predicted: 0 Actual: 0 [ 0.431 0.416 0.015 0.000 0.020 0.011 0.107 ]\n",
        "146 - Predicted: 0 Actual: 0 [ 0.385 0.376 0.069 0.002 0.039 0.037 0.093 ]\n",
        "147 - Predicted: 1 Actual: 1 [ 0.246 0.658 0.036 0.002 0.017 0.024 0.017 ]\n",
        "148 - Predicted: 1 Actual: 1 [ 0.359 0.459 0.000 0.000 0.000 0.000 0.181 ]\n",
        "149 - Predicted: 0 Actual: 0 [ 0.502 0.347 0.011 0.000 0.011 0.003 0.127 ]\n",
        "150"
       ]
      },
      {
       "output_type": "stream",
       "stream": "stdout",
       "text": [
        " - Predicted: 1 Actual: 1 [ 0.252 0.719 0.005 0.000 0.002 0.002 0.021 ]\n",
        "151 - Predicted: 1 Actual: 1 [ 0.338 0.572 0.020 0.003 0.019 0.011 0.038 ]\n",
        "152 - Predicted: 0 Actual: 0 [ 0.467 0.424 0.035 0.002 0.024 0.023 0.025 ]\n",
        "153 - Predicted: 2 Actual: 2 [ 0.140 0.262 0.370 0.062 0.029 0.132 0.005 ]\n",
        "154 - Predicted: 0 Actual: 0 [ 0.516 0.352 0.040 0.003 0.015 0.033 0.041 ]\n",
        "155 - Predicted: 0 Actual: 0 [ 0.496 0.419 0.010 0.000 0.006 0.004 0.065 ]\n",
        "156 - Predicted: 0 Actual: 0 [ 0.504 0.438 0.010 0.001 0.003 0.004 0.041 ]\n",
        "157 - Predicted: 1 Actual: 1 [ 0.305 0.596 0.040 0.003 0.016 0.029 0.011 ]\n",
        "158 - Predicted: 1 Actual: 1 [ 0.258 0.454 0.093 0.011 0.105 0.058 0.021 ]\n",
        "159 - Predicted: 1 Actual: 1 [ 0.277 0.629 0.036 0.003 0.011 0.022 0.022 ]\n",
        "160"
       ]
      },
      {
       "output_type": "stream",
       "stream": "stdout",
       "text": [
        " - Predicted: 0 Actual: 0 [ 0.585 0.313 0.015 0.000 0.013 0.009 0.063 ]\n",
        "161 - Predicted: 0 Actual: 1 [ 0.504 0.434 0.011 0.000 0.013 0.009 0.028 ]\n",
        "162 - Predicted: 1 Actual: 1 [ 0.270 0.453 0.118 0.026 0.028 0.064 0.041 ]\n",
        "163 - Predicted: 0 Actual: 0 [ 0.416 0.393 0.092 0.008 0.023 0.022 0.046 ]\n",
        "164 - Predicted: 1 Actual: 1 [ 0.303 0.515 0.059 0.001 0.041 0.042 0.039 ]\n",
        "165 - Predicted: 1 Actual: 1 [ 0.408 0.535 0.012 0.000 0.011 0.009 0.025 ]\n",
        "166 - Predicted: 2 Actual: 2 [ 0.112 0.346 0.377 0.029 0.009 0.104 0.023 ]\n",
        "167 - Predicted: 1 Actual: 1 [ 0.259 0.534 0.074 0.009 0.046 0.059 0.020 ]\n",
        "168 - Predicted: 0 Actual: 0 [ 0.463 0.421 0.037 0.001 0.028 0.019 0.031 ]\n",
        "169 - Predicted: 1 Actual: 0 [ 0.373 0.558 0.008 0.000 0.015 0.031 0.015 ]\n",
        "170"
       ]
      },
      {
       "output_type": "stream",
       "stream": "stdout",
       "text": [
        " - Predicted: 1 Actual: 1 [ 0.296 0.566 0.023 0.000 0.019 0.016 0.080 ]\n",
        "171 - Predicted: 1 Actual: 1 [ 0.123 0.529 0.200 0.015 0.024 0.105 0.003 ]\n",
        "172 - Predicted: 0 Actual: 0 [ 0.459 0.417 0.038 0.000 0.022 0.024 0.039 ]\n",
        "173 - Predicted: 1 Actual: 0 [ 0.408 0.486 0.044 0.004 0.013 0.030 0.015 ]\n",
        "174 - Predicted: 1 Actual: 0 [ 0.351 0.528 0.026 0.006 0.021 0.041 0.027 ]\n",
        "175 - Predicted: 1 Actual: 1 [ 0.262 0.589 0.026 0.000 0.025 0.008 0.089 ]\n",
        "176 - Predicted: 1 Actual: 1 [ 0.258 0.601 0.044 0.002 0.025 0.047 0.022 ]\n",
        "177 - Predicted: 1 Actual: 2 [ 0.130 0.576 0.141 0.014 0.031 0.105 0.003 ]\n",
        "178 - Predicted: 1 Actual: 1 [ 0.119 0.508 0.213 0.022 0.023 0.099 0.016 ]\n",
        "179 - Predicted: 0 Actual: 0 [ 0.455 0.392 0.064 0.001 0.026 0.045 0.017 ]\n",
        "180"
       ]
      },
      {
       "output_type": "stream",
       "stream": "stdout",
       "text": [
        " - Predicted: 1 Actual: 0 [ 0.343 0.641 0.004 0.000 0.001 0.002 0.009 ]\n",
        "181 - Predicted: 1 Actual: 0 [ 0.403 0.538 0.002 0.000 0.002 0.001 0.054 ]\n",
        "182 - Predicted: 2 Actual: 2 [ 0.083 0.232 0.386 0.066 0.030 0.203 0.001 ]\n",
        "183 - Predicted: 1 Actual: 0 [ 0.380 0.494 0.025 0.000 0.019 0.032 0.051 ]\n",
        "184 - Predicted: 0 Actual: 0 [ 0.596 0.332 0.000 0.000 0.006 0.000 0.067 ]\n",
        "185 - Predicted: 0 Actual: 1 [ 0.619 0.299 0.020 0.000 0.008 0.001 0.054 ]\n",
        "186 - Predicted: 1 Actual: 1 [ 0.269 0.639 0.015 0.000 0.016 0.014 0.046 ]\n",
        "187 - Predicted: 1 Actual: 1 [ 0.382 0.481 0.032 0.003 0.030 0.005 0.068 ]\n",
        "188 - Predicted: 0 Actual: 1 [ 0.451 0.428 0.022 0.003 0.013 0.021 0.062 ]\n",
        "189 - Predicted: 1 Actual: 1 [ 0.342 0.498 0.046 0.003 0.038 0.054 0.020 ]\n",
        "190"
       ]
      },
      {
       "output_type": "stream",
       "stream": "stdout",
       "text": [
        " - Predicted: 1 Actual: 0 [ 0.258 0.595 0.048 0.001 0.029 0.040 0.029 ]\n",
        "191 - Predicted: 1 Actual: 1 [ 0.396 0.507 0.025 0.001 0.032 0.004 0.035 ]\n",
        "192 - Predicted: 1 Actual: 1 [ 0.363 0.563 0.029 0.000 0.012 0.008 0.024 ]\n",
        "193 - Predicted: 1 Actual: 1 [ 0.396 0.548 0.009 0.000 0.008 0.009 0.030 ]\n",
        "194 - Predicted: 1 Actual: 1 [ 0.362 0.551 0.029 0.000 0.009 0.025 0.024 ]\n",
        "195 - Predicted: 1 Actual: 0 [ 0.358 0.616 0.004 0.000 0.002 0.001 0.019 ]\n",
        "196 - Predicted: 1 Actual: 0 [ 0.449 0.461 0.023 0.001 0.014 0.014 0.038 ]\n",
        "197 - Predicted: 1 Actual: 0 [ 0.440 0.455 0.013 0.001 0.015 0.019 0.057 ]\n",
        "198 - Predicted: 1 Actual: 1 [ 0.399 0.540 0.002 0.000 0.004 0.002 0.052 ]\n",
        "199 - Predicted: 1 Actual: 2 [ 0.182 0.388 0.223 0.012 0.040 0.129 0.024 ]\n",
        "200"
       ]
      },
      {
       "output_type": "stream",
       "stream": "stdout",
       "text": [
        " - Predicted: 1 Actual: 1 [ 0.225 0.744 0.005 0.000 0.001 0.002 0.023 ]\n",
        "201 - Predicted: 2 Actual: 2 [ 0.110 0.276 0.327 0.040 0.028 0.217 0.002 ]\n",
        "202 - Predicted: 1 Actual: 1 [ 0.199 0.588 0.114 0.002 0.012 0.075 0.010 ]\n",
        "203 - Predicted: 1 Actual: 1 [ 0.398 0.475 0.066 0.019 0.007 0.011 0.024 ]\n",
        "204 - Predicted: 1 Actual: 1 [ 0.292 0.564 0.054 0.000 0.029 0.034 0.027 ]\n",
        "205 - Predicted: 1 Actual: 0 [ 0.284 0.702 0.001 0.000 0.000 0.000 0.012 ]\n",
        "206 - Predicted: 1 Actual: 1 [ 0.232 0.714 0.000 0.000 0.000 0.000 0.053 ]\n",
        "207 - Predicted: 0 Actual: 0 [ 0.570 0.296 0.018 0.000 0.002 0.015 0.100 ]\n",
        "208 - Predicted: 0 Actual: 0 [ 0.618 0.317 0.012 0.000 0.013 0.009 0.031 ]\n",
        "209 - Predicted: 0 Actual: 0 [ 0.551 0.383 0.007 0.000 0.015 0.005 0.040 ]\n",
        "210"
       ]
      },
      {
       "output_type": "stream",
       "stream": "stdout",
       "text": [
        " - Predicted: 1 Actual: 2 [ 0.198 0.465 0.122 0.008 0.084 0.111 0.011 ]\n",
        "211 - Predicted: 1 Actual: 1 [ 0.136 0.565 0.155 0.022 0.038 0.073 0.012 ]\n",
        "212 - Predicted: 0 Actual: 0 [ 0.515 0.419 0.016 0.000 0.007 0.002 0.042 ]\n",
        "213 - Predicted: 1 Actual: 1 [ 0.108 0.515 0.229 0.009 0.039 0.099 0.001 ]\n",
        "214 - Predicted: 1 Actual: 0 [ 0.398 0.482 0.003 0.000 0.006 0.007 0.103 ]\n",
        "215 - Predicted: 0 Actual: 1 [ 0.503 0.393 0.016 0.000 0.018 0.008 0.062 ]\n",
        "216 - Predicted: 0 Actual: 1 [ 0.473 0.404 0.027 0.002 0.014 0.018 0.062 ]\n",
        "217 - Predicted: 1 Actual: 1 [ 0.367 0.482 0.041 0.007 0.026 0.043 0.034 ]\n",
        "218 - Predicted: 0 Actual: 0 [ 0.583 0.338 0.022 0.000 0.002 0.000 0.055 ]\n",
        "219 - Predicted: 1 Actual: 0 [ 0.342 0.483 0.052 0.000 0.032 0.038 0.053 ]\n",
        "220"
       ]
      },
      {
       "output_type": "stream",
       "stream": "stdout",
       "text": [
        " - Predicted: 1 Actual: 1 [ 0.388 0.493 0.065 0.000 0.005 0.007 0.043 ]\n",
        "221 - Predicted: 1 Actual: 2 [ 0.105 0.350 0.277 0.047 0.026 0.193 0.001 ]\n",
        "222 - Predicted: 1 Actual: 1 [ 0.338 0.630 0.006 0.000 0.007 0.001 0.018 ]\n",
        "223 - Predicted: 1 Actual: 0 [ 0.323 0.390 0.110 0.034 0.065 0.066 0.012 ]\n",
        "224 - Predicted: 1 Actual: 1 [ 0.153 0.547 0.167 0.010 0.037 0.078 0.009 ]\n",
        "225 - Predicted: 1 Actual: 1 [ 0.278 0.613 0.019 0.001 0.024 0.021 0.044 ]\n",
        "226 - Predicted: 0 Actual: 0 [ 0.564 0.367 0.012 0.000 0.008 0.003 0.046 ]\n",
        "227 - Predicted: 1 Actual: 1 [ 0.194 0.479 0.118 0.012 0.056 0.117 0.024 ]\n",
        "228 - Predicted: 0 Actual: 0 [ 0.584 0.307 0.023 0.001 0.017 0.004 0.065 ]\n",
        "229 - Predicted: 1 Actual: 0 [ 0.310 0.406 0.097 0.027 0.025 0.077 0.057 ]\n",
        "230"
       ]
      },
      {
       "output_type": "stream",
       "stream": "stdout",
       "text": [
        " - Predicted: 1 Actual: 2 [ 0.204 0.398 0.186 0.026 0.044 0.133 0.010 ]\n",
        "231 - Predicted: 1 Actual: 1 [ 0.277 0.424 0.096 0.003 0.175 0.014 0.012 ]\n",
        "232 - Predicted: 0 Actual: 0 [ 0.538 0.403 0.010 0.000 0.005 0.010 0.034 ]\n",
        "233 - Predicted: 1 Actual: 0 [ 0.451 0.471 0.019 0.001 0.011 0.008 0.039 ]\n",
        "234 - Predicted: 1 Actual: 1 [ 0.437 0.494 0.023 0.000 0.007 0.009 0.029 ]\n",
        "235 - Predicted: 0 Actual: 0 [ 0.583 0.358 0.002 0.000 0.003 0.000 0.055 ]\n",
        "236 - Predicted: 1 Actual: 1 [ 0.442 0.495 0.014 0.000 0.003 0.012 0.035 ]\n",
        "237 - Predicted: 1 Actual: 1 [ 0.419 0.522 0.012 0.001 0.003 0.008 0.035 ]\n",
        "238 - Predicted: 1 Actual: 1 [ 0.416 0.522 0.014 0.000 0.003 0.007 0.038 ]\n",
        "239 - Predicted: 0 Actual: 0 [ 0.489 0.294 0.043 0.004 0.034 0.013 0.125 ]\n",
        "240"
       ]
      },
      {
       "output_type": "stream",
       "stream": "stdout",
       "text": [
        " - Predicted: 2 Actual: 2 [ 0.086 0.303 0.370 0.069 0.009 0.151 0.012 ]\n",
        "241 - Predicted: 1 Actual: 1 [ 0.196 0.632 0.065 0.014 0.052 0.030 0.011 ]\n",
        "242 - Predicted: 0 Actual: 0 [ 0.634 0.291 0.020 0.000 0.016 0.008 0.033 ]\n",
        "243 - Predicted: 1 Actual: 0 [ 0.438 0.499 0.021 0.001 0.014 0.010 0.017 ]\n",
        "244 - Predicted: 1 Actual: 1 [ 0.360 0.470 0.042 0.000 0.026 0.026 0.076 ]\n",
        "245 - Predicted: 1 Actual: 1 [ 0.280 0.613 0.027 0.000 0.005 0.015 0.061 ]\n",
        "246 - Predicted: 0 Actual: 0 [ 0.536 0.396 0.001 0.000 0.001 0.000 0.065 ]\n",
        "247 - Predicted: 1 Actual: 0 [ 0.377 0.594 0.003 0.000 0.003 0.001 0.022 ]\n",
        "248 - Predicted: 1 Actual: 1 [ 0.378 0.496 0.042 0.011 0.026 0.022 0.025 ]\n",
        "249 - Predicted: 0 Actual: 1 [ 0.559 0.387 0.009 0.000 0.007 0.001 0.038 ]\n",
        "250"
       ]
      },
      {
       "output_type": "stream",
       "stream": "stdout",
       "text": [
        " - Predicted: 1 Actual: 1 [ 0.339 0.479 0.048 0.000 0.086 0.027 0.021 ]\n",
        "251 - Predicted: 1 Actual: 2 [ 0.154 0.327 0.258 0.042 0.057 0.134 0.027 ]\n",
        "252 - Predicted: 1 Actual: 0 [ 0.441 0.459 0.038 0.000 0.030 0.020 0.012 ]\n",
        "253 - Predicted: 1 Actual: 1 [ 0.200 0.776 0.005 0.000 0.003 0.002 0.015 ]\n",
        "254 - Predicted: 1 Actual: 1 [ 0.301 0.591 0.030 0.000 0.042 0.015 0.020 ]\n",
        "255 - Predicted: 1 Actual: 1 [ 0.413 0.454 0.040 0.002 0.039 0.019 0.033 ]\n",
        "256 - Predicted: 0 Actual: 0 [ 0.560 0.333 0.012 0.000 0.013 0.000 0.083 ]\n",
        "257 - Predicted: 1 Actual: 1 [ 0.390 0.515 0.015 0.003 0.027 0.011 0.040 ]\n",
        "258 - Predicted: 0 Actual: 0 [ 0.560 0.265 0.020 0.003 0.024 0.008 0.121 ]\n",
        "259 - Predicted: 0 Actual: 0 [ 0.632 0.307 0.011 0.000 0.009 0.009 0.032 ]\n",
        "260"
       ]
      },
      {
       "output_type": "stream",
       "stream": "stdout",
       "text": [
        " - Predicted: 0 Actual: 0 [ 0.515 0.308 0.017 0.000 0.022 0.010 0.127 ]\n",
        "261 - Predicted: 1 Actual: 1 [ 0.254 0.535 0.107 0.007 0.027 0.047 0.024 ]\n",
        "262 - Predicted: 1 Actual: 1 [ 0.345 0.450 0.031 0.003 0.064 0.007 0.100 ]\n",
        "263 - Predicted: 0 Actual: 1 [ 0.706 0.287 0.001 0.000 0.000 0.001 0.004 ]\n",
        "264 - Predicted: 1 Actual: 1 [ 0.352 0.455 0.075 0.003 0.078 0.036 0.001 ]\n",
        "265 - Predicted: 0 Actual: 1 [ 0.491 0.348 0.046 0.006 0.025 0.031 0.053 ]\n",
        "266 - Predicted: 0 Actual: 0 [ 0.470 0.430 0.008 0.000 0.033 0.018 0.041 ]\n",
        "267 - Predicted: 1 Actual: 2 [ 0.366 0.475 0.101 0.000 0.011 0.004 0.043 ]\n",
        "268 - Predicted: 1 Actual: 0 [ 0.423 0.530 0.018 0.000 0.001 0.005 0.022 ]\n",
        "269 - Predicted: 0 Actual: 0 [ 0.513 0.426 0.008 0.000 0.021 0.014 0.017 ]\n",
        "270"
       ]
      },
      {
       "output_type": "stream",
       "stream": "stdout",
       "text": [
        " - Predicted: 0 Actual: 0 [ 0.491 0.469 0.002 0.000 0.002 0.001 0.034 ]\n",
        "271 - Predicted: 1 Actual: 1 [ 0.126 0.780 0.033 0.000 0.038 0.017 0.005 ]\n",
        "272 - Predicted: 1 Actual: 1 [ 0.425 0.461 0.029 0.000 0.024 0.002 0.059 ]\n",
        "273 - Predicted: 1 Actual: 0 [ 0.422 0.442 0.008 0.000 0.010 0.006 0.112 ]\n",
        "274 - Predicted: 0 Actual: 0 [ 0.476 0.399 0.050 0.002 0.033 0.031 0.008 ]\n",
        "275 - Predicted: 2 Actual: 2 [ 0.063 0.278 0.415 0.040 0.019 0.165 0.021 ]\n",
        "276 - Predicted: 0 Actual: 0 [ 0.461 0.353 0.090 0.003 0.021 0.069 0.004 ]\n",
        "277 - Predicted: 0 Actual: 1 [ 0.469 0.383 0.070 0.000 0.003 0.044 0.031 ]\n",
        "278 - Predicted: 1 Actual: 1 [ 0.287 0.620 0.024 0.000 0.033 0.008 0.027 ]\n",
        "279 - Predicted: 1 Actual: 1 [ 0.354 0.501 0.064 0.000 0.042 0.008 0.032 ]\n",
        "280"
       ]
      },
      {
       "output_type": "stream",
       "stream": "stdout",
       "text": [
        " - Predicted: 1 Actual: 1 [ 0.197 0.662 0.011 0.000 0.044 0.022 0.065 ]\n",
        "281 - Predicted: 1 Actual: 1 [ 0.214 0.732 0.019 0.000 0.018 0.002 0.016 ]\n",
        "282 - Predicted: 0 Actual: 0 [ 0.717 0.269 0.002 0.000 0.002 0.001 0.008 ]\n",
        "283 - Predicted: 1 Actual: 1 [ 0.373 0.534 0.033 0.005 0.009 0.035 0.011 ]\n",
        "284 - Predicted: 1 Actual: 0 [ 0.340 0.559 0.044 0.000 0.014 0.010 0.033 ]\n",
        "285 - Predicted: 0 Actual: 0 [ 0.609 0.295 0.006 0.000 0.003 0.017 0.069 ]\n",
        "286 - Predicted: 1 Actual: 1 [ 0.320 0.640 0.013 0.000 0.009 0.008 0.010 ]\n",
        "287 - Predicted: 1 Actual: 1 [ 0.338 0.629 0.002 0.000 0.008 0.002 0.020 ]\n",
        "288 - Predicted: 1 Actual: 2 [ 0.162 0.336 0.309 0.031 0.016 0.137 0.009 ]\n",
        "289 - Predicted: 0 Actual: 0 [ 0.568 0.305 0.018 0.000 0.011 0.025 0.073 ]\n",
        "290"
       ]
      },
      {
       "output_type": "stream",
       "stream": "stdout",
       "text": [
        " - Predicted: 0 Actual: 1 [ 0.449 0.412 0.026 0.002 0.015 0.017 0.079 ]\n",
        "291 - Predicted: 1 Actual: 1 [ 0.235 0.549 0.058 0.008 0.054 0.031 0.065 ]\n",
        "292 - Predicted: 1 Actual: 1 [ 0.124 0.397 0.242 0.024 0.023 0.188 0.003 ]\n",
        "293 - Predicted: 2 Actual: 2 [ 0.092 0.210 0.409 0.050 0.015 0.203 0.020 ]\n",
        "294 - Predicted: 0 Actual: 0 [ 0.538 0.272 0.035 0.001 0.053 0.016 0.086 ]\n",
        "295 - Predicted: 1 Actual: 1 [ 0.244 0.638 0.029 0.001 0.038 0.030 0.021 ]\n",
        "296 - Predicted: 0 Actual: 0 [ 0.574 0.343 0.016 0.001 0.008 0.007 0.052 ]\n",
        "297 - Predicted: 0 Actual: 0 [ 0.662 0.311 0.006 0.000 0.001 0.000 0.020 ]\n",
        "298 - Predicted: 0 Actual: 0 [ 0.422 0.394 0.032 0.002 0.040 0.022 0.088 ]\n",
        "299 - Predicted: 1 Actual: 1 [ 0.274 0.650 0.002 0.000 0.001 0.002 0.072 ]\n",
        "300"
       ]
      },
      {
       "output_type": "stream",
       "stream": "stdout",
       "text": [
        " - Predicted: 1 Actual: 0 [ 0.411 0.481 0.033 0.001 0.025 0.017 0.031 ]\n",
        "301 - Predicted: 1 Actual: 1 [ 0.389 0.460 0.055 0.008 0.029 0.021 0.038 ]\n",
        "302 - Predicted: 0 Actual: 0 [ 0.565 0.328 0.026 0.001 0.004 0.008 0.069 ]\n",
        "303 - Predicted: 1 Actual: 1 [ 0.377 0.508 0.023 0.001 0.005 0.014 0.073 ]\n",
        "304 - Predicted: 1 Actual: 1 [ 0.306 0.613 0.039 0.003 0.008 0.010 0.021 ]\n",
        "305 - Predicted: 1 Actual: 0 [ 0.395 0.420 0.054 0.010 0.030 0.029 0.063 ]\n",
        "306 - Predicted: 0 Actual: 1 [ 0.469 0.431 0.038 0.001 0.011 0.010 0.039 ]\n",
        "307 - Predicted: 0 Actual: 1 [ 0.488 0.337 0.062 0.002 0.004 0.011 0.096 ]\n",
        "308 - Predicted: 1 Actual: 2 [ 0.122 0.481 0.231 0.025 0.039 0.076 0.027 ]\n",
        "309 - Predicted: 1 Actual: 0 [ 0.442 0.446 0.038 0.001 0.005 0.015 0.054 ]\n",
        "310"
       ]
      },
      {
       "output_type": "stream",
       "stream": "stdout",
       "text": [
        " - Predicted: 1 Actual: 1 [ 0.293 0.504 0.066 0.001 0.053 0.022 0.060 ]\n",
        "311 - Predicted: 0 Actual: 0 [ 0.530 0.344 0.048 0.001 0.016 0.027 0.033 ]\n",
        "312 - Predicted: 0 Actual: 0 [ 0.616 0.251 0.022 0.001 0.009 0.008 0.094 ]\n",
        "313 - Predicted: 1 Actual: 2 [ 0.084 0.340 0.339 0.005 0.009 0.222 0.003 ]\n",
        "314 - Predicted: 1 Actual: 1 [ 0.281 0.624 0.010 0.000 0.028 0.028 0.029 ]\n",
        "315 - Predicted: 0 Actual: 0 [ 0.539 0.303 0.036 0.001 0.007 0.012 0.102 ]\n",
        "316 - Predicted: 1 Actual: 1 [ 0.315 0.477 0.016 0.001 0.006 0.007 0.179 ]\n",
        "317 - Predicted: 0 Actual: 0 [ 0.557 0.346 0.021 0.001 0.008 0.007 0.059 ]\n",
        "318 - Predicted: 1 Actual: 1 [ 0.183 0.567 0.113 0.012 0.041 0.048 0.036 ]\n",
        "319 - Predicted: 1 Actual: 1 [ 0.336 0.463 0.041 0.001 0.052 0.043 0.062 ]\n",
        "320"
       ]
      },
      {
       "output_type": "stream",
       "stream": "stdout",
       "text": [
        " - Predicted: 1 Actual: 1 [ 0.422 0.438 0.056 0.004 0.032 0.031 0.017 ]\n",
        "321 - Predicted: 0 Actual: 0 [ 0.506 0.432 0.009 0.000 0.006 0.001 0.046 ]\n",
        "322 - Predicted: 0 Actual: 0 [ 0.568 0.364 0.004 0.000 0.002 0.002 0.059 ]\n",
        "323 - Predicted: 1 Actual: 1 [ 0.125 0.559 0.145 0.024 0.041 0.101 0.004 ]\n",
        "324 - Predicted: 1 Actual: 1 [ 0.181 0.387 0.208 0.028 0.049 0.136 0.011 ]\n",
        "325 - Predicted: 0 Actual: 1 [ 0.462 0.441 0.032 0.001 0.013 0.013 0.038 ]\n",
        "326 - Predicted: 0 Actual: 0 [ 0.478 0.290 0.043 0.009 0.017 0.030 0.133 ]\n",
        "327 - Predicted: 1 Actual: 0 [ 0.320 0.564 0.018 0.000 0.030 0.025 0.043 ]\n",
        "328 - Predicted: 2 Actual: 2 [ 0.062 0.171 0.519 0.049 0.025 0.172 0.001 ]\n",
        "329 - Predicted: 1 Actual: 1 [ 0.180 0.592 0.110 0.017 0.043 0.049 0.009 ]\n",
        "330"
       ]
      },
      {
       "output_type": "stream",
       "stream": "stdout",
       "text": [
        " - Predicted: 0 Actual: 0 [ 0.547 0.395 0.009 0.000 0.005 0.004 0.039 ]\n",
        "331 - Predicted: 0 Actual: 0 [ 0.538 0.344 0.038 0.001 0.059 0.009 0.011 ]\n",
        "332 - Predicted: 0 Actual: 1 [ 0.441 0.408 0.033 0.003 0.025 0.008 0.082 ]\n",
        "333 - Predicted: 1 Actual: 1 [ 0.265 0.620 0.037 0.000 0.022 0.015 0.040 ]\n",
        "334 - Predicted: 1 Actual: 1 [ 0.235 0.720 0.006 0.000 0.003 0.002 0.034 ]\n",
        "335 - Predicted: 1 Actual: 2 [ 0.078 0.516 0.191 0.037 0.046 0.127 0.005 ]\n",
        "336 - Predicted: 1 Actual: 1 [ 0.247 0.511 0.151 0.006 0.020 0.061 0.005 ]\n",
        "337 - Predicted: 0 Actual: 0 [ 0.504 0.430 0.010 0.000 0.005 0.001 0.051 ]\n",
        "338 - Predicted: 1 Actual: 1 [ 0.230 0.545 0.061 0.024 0.048 0.065 0.028 ]\n",
        "339 - Predicted: 0 Actual: 0 [ 0.473 0.387 0.025 0.001 0.044 0.017 0.053 ]\n",
        "340"
       ]
      },
      {
       "output_type": "stream",
       "stream": "stdout",
       "text": [
        " - Predicted: 1 Actual: 0 [ 0.358 0.525 0.006 0.000 0.036 0.023 0.052 ]\n",
        "341 - Predicted: 2 Actual: 2 [ 0.101 0.223 0.418 0.086 0.027 0.127 0.019 ]\n",
        "342 - Predicted: 1 Actual: 0 [ 0.373 0.530 0.021 0.000 0.028 0.005 0.044 ]\n",
        "343 - Predicted: 0 Actual: 0 [ 0.674 0.223 0.011 0.001 0.020 0.004 0.066 ]\n",
        "344 - Predicted: 1 Actual: 1 [ 0.181 0.712 0.042 0.007 0.022 0.021 0.015 ]\n",
        "345 - Predicted: 1 Actual: 1 [ 0.183 0.385 0.241 0.018 0.039 0.100 0.035 ]\n",
        "346 - Predicted: 1 Actual: 0 [ 0.238 0.711 0.008 0.000 0.005 0.001 0.037 ]\n",
        "347 - Predicted: 1 Actual: 1 [ 0.211 0.589 0.067 0.001 0.048 0.063 0.023 ]\n",
        "348 - Predicted: 1 Actual: 1 [ 0.181 0.574 0.100 0.009 0.058 0.061 0.019 ]\n",
        "349 - Predicted: 1 Actual: 1 [ 0.437 0.481 0.013 0.000 0.021 0.002 0.045 ]\n",
        "350"
       ]
      },
      {
       "output_type": "stream",
       "stream": "stdout",
       "text": [
        " - Predicted: 1 Actual: 1 [ 0.184 0.527 0.066 0.002 0.073 0.098 0.050 ]\n",
        "351 - Predicted: 1 Actual: 1 [ 0.365 0.521 0.050 0.000 0.008 0.014 0.042 ]\n",
        "352 - Predicted: 1 Actual: 1 [ 0.390 0.531 0.020 0.000 0.023 0.010 0.025 ]\n",
        "353 - Predicted: 2 Actual: 2 [ 0.144 0.182 0.309 0.064 0.029 0.253 0.019 ]\n",
        "354 - Predicted: 0 Actual: 0 [ 0.477 0.435 0.010 0.000 0.008 0.003 0.067 ]\n",
        "355 - Predicted: 1 Actual: 1 [ 0.183 0.601 0.114 0.004 0.026 0.067 0.005 ]\n",
        "356 - Predicted: 0 Actual: 0 [ 0.429 0.424 0.035 0.001 0.046 0.013 0.052 ]\n",
        "357 - Predicted: 0 Actual: 0 [ 0.449 0.400 0.023 0.000 0.025 0.005 0.098 ]\n",
        "358 - Predicted: 0 Actual: 0 [ 0.615 0.354 0.012 0.000 0.007 0.004 0.007 ]\n",
        "359 - Predicted: 0 Actual: 1 [ 0.605 0.343 0.009 0.000 0.009 0.003 0.030 ]\n",
        "360"
       ]
      },
      {
       "output_type": "stream",
       "stream": "stdout",
       "text": [
        " - Predicted: 1 Actual: 1 [ 0.437 0.509 0.005 0.000 0.002 0.002 0.044 ]\n",
        "361 - Predicted: 0 Actual: 0 [ 0.471 0.394 0.028 0.001 0.034 0.026 0.047 ]\n",
        "362 - Predicted: 1 Actual: 1 [ 0.185 0.751 0.013 0.001 0.004 0.006 0.040 ]\n",
        "363 - Predicted: 1 Actual: 1 [ 0.188 0.323 0.231 0.042 0.052 0.150 0.013 ]\n",
        "364 - Predicted: 1 Actual: 1 [ 0.355 0.572 0.008 0.003 0.012 0.017 0.034 ]\n",
        "365 - Predicted: 1 Actual: 0 [ 0.413 0.475 0.009 0.005 0.039 0.030 0.029 ]\n",
        "366 - Predicted: 1 Actual: 1 [ 0.308 0.465 0.079 0.015 0.038 0.086 0.009 ]\n",
        "367 - Predicted: 2 Actual: 2 [ 0.078 0.293 0.384 0.041 0.099 0.103 0.001 ]\n",
        "368 - Predicted: 0 Actual: 0 [ 0.541 0.402 0.010 0.000 0.017 0.009 0.021 ]\n",
        "369 - Predicted: 1 Actual: 0 [ 0.465 0.475 0.008 0.000 0.006 0.001 0.044 ]\n",
        "370"
       ]
      },
      {
       "output_type": "stream",
       "stream": "stdout",
       "text": [
        " - Predicted: 1 Actual: 1 [ 0.350 0.585 0.012 0.000 0.014 0.017 0.022 ]\n",
        "371 - Predicted: 1 Actual: 1 [ 0.240 0.683 0.009 0.000 0.012 0.002 0.054 ]\n",
        "372 - Predicted: 1 Actual: 0 [ 0.228 0.734 0.005 0.000 0.005 0.003 0.026 ]\n",
        "373 - Predicted: 0 Actual: 0 [ 0.417 0.408 0.043 0.019 0.036 0.040 0.038 ]\n",
        "374 - Predicted: 0 Actual: 0 [ 0.461 0.428 0.036 0.001 0.012 0.015 0.047 ]\n",
        "375 - Predicted: 2 Actual: 2 [ 0.093 0.174 0.462 0.073 0.017 0.175 0.006 ]\n",
        "376 - Predicted: 0 Actual: 1 [ 0.399 0.354 0.114 0.023 0.050 0.050 0.010 ]\n",
        "377 - Predicted: 1 Actual: 1 [ 0.302 0.563 0.037 0.001 0.044 0.028 0.026 ]\n",
        "378 - Predicted: 0 Actual: 0 [ 0.563 0.338 0.026 0.001 0.007 0.015 0.050 ]\n",
        "379 - Predicted: 1 Actual: 1 [ 0.346 0.562 0.019 0.001 0.019 0.043 0.010 ]\n",
        "380"
       ]
      },
      {
       "output_type": "stream",
       "stream": "stdout",
       "text": [
        " - Predicted: 0 Actual: 0 [ 0.548 0.358 0.016 0.000 0.005 0.009 0.063 ]\n",
        "381 - Predicted: 1 Actual: 2 [ 0.186 0.339 0.249 0.062 0.034 0.107 0.023 ]\n",
        "382 - Predicted: 1 Actual: 0 [ 0.335 0.509 0.035 0.007 0.041 0.040 0.033 ]\n",
        "383 - Predicted: 1 Actual: 0 [ 0.285 0.699 0.005 0.000 0.006 0.001 0.003 ]\n",
        "384 - Predicted: 1 Actual: 1 [ 0.157 0.518 0.181 0.003 0.025 0.075 0.042 ]\n",
        "385 - Predicted: 0 Actual: 0 [ 0.555 0.361 0.014 0.000 0.003 0.009 0.057 ]\n",
        "386 - Predicted: 1 Actual: 1 [ 0.271 0.467 0.122 0.000 0.050 0.047 0.042 ]\n",
        "387 - Predicted: 1 Actual: 1 [ 0.419 0.532 0.018 0.001 0.009 0.015 0.006 ]\n",
        "388 - Predicted: 0 Actual: 1 [ 0.486 0.362 0.038 0.000 0.040 0.008 0.066 ]\n",
        "389 - Predicted: 1 Actual: 1 [ 0.209 0.403 0.194 0.006 0.054 0.070 0.064 ]\n",
        "390"
       ]
      },
      {
       "output_type": "stream",
       "stream": "stdout",
       "text": [
        " - Predicted: 1 Actual: 0 [ 0.345 0.592 0.020 0.000 0.016 0.011 0.016 ]\n",
        "391 - Predicted: 1 Actual: 1 [ 0.359 0.484 0.037 0.003 0.076 0.017 0.023 ]\n",
        "392 - Predicted: 1 Actual: 1 [ 0.359 0.507 0.001 0.000 0.000 0.000 0.133 ]\n",
        "393 - Predicted: 0 Actual: 1 [ 0.458 0.347 0.047 0.007 0.029 0.035 0.076 ]\n",
        "394 - Predicted: 0 Actual: 0 [ 0.394 0.391 0.048 0.002 0.114 0.028 0.023 ]\n",
        "395 - Predicted: 1 Actual: 0 [ 0.396 0.559 0.002 0.000 0.010 0.000 0.033 ]\n",
        "396 - Predicted: 1 Actual: 1 [ 0.326 0.591 0.013 0.000 0.019 0.003 0.048 ]\n",
        "397 - Predicted: 0 Actual: 0 [ 0.448 0.431 0.045 0.006 0.024 0.031 0.015 ]\n",
        "398 - Predicted: 1 Actual: 1 [ 0.450 0.460 0.025 0.000 0.022 0.020 0.023 ]\n",
        "399 - Predicted: 2 Actual: 2 [ 0.104 0.284 0.350 0.047 0.075 0.136 0.004 ]\n",
        "400"
       ]
      },
      {
       "output_type": "stream",
       "stream": "stdout",
       "text": [
        " - Predicted: 1 Actual: 1 [ 0.283 0.484 0.053 0.014 0.133 0.027 0.006 ]\n",
        "401 - Predicted: 0 Actual: 1 [ 0.519 0.456 0.003 0.000 0.001 0.002 0.019 ]\n",
        "402 - Predicted: 1 Actual: 1 [ 0.208 0.591 0.046 0.000 0.057 0.056 0.041 ]\n",
        "403 - Predicted: 5 Actual: 2 [ 0.102 0.249 0.304 0.015 0.011 0.311 0.009 ]\n",
        "404 - Predicted: 0 Actual: 0 [ 0.478 0.371 0.030 0.010 0.018 0.019 0.074 ]\n",
        "405 - Predicted: 0 Actual: 0 [ 0.800 0.179 0.007 0.000 0.004 0.002 0.008 ]\n",
        "406 - Predicted: 0 Actual: 0 [ 0.579 0.362 0.021 0.001 0.009 0.012 0.015 ]\n",
        "407 - Predicted: 0 Actual: 0 [ 0.508 0.372 0.002 0.000 0.001 0.001 0.116 ]\n",
        "408 - Predicted: 1 Actual: 1 [ 0.230 0.757 0.001 0.000 0.002 0.000 0.009 ]\n",
        "409 - Predicted: 0 Actual: 1 [ 0.387 0.377 0.111 0.007 0.029 0.042 0.048 ]\n",
        "410"
       ]
      },
      {
       "output_type": "stream",
       "stream": "stdout",
       "text": [
        " - Predicted: 1 Actual: 1 [ 0.158 0.690 0.061 0.012 0.033 0.039 0.007 ]\n",
        "411 - Predicted: 1 Actual: 1 [ 0.241 0.524 0.086 0.016 0.066 0.026 0.041 ]\n",
        "412 - Predicted: 1 Actual: 1 [ 0.269 0.546 0.063 0.001 0.036 0.009 0.076 ]\n",
        "413 - Predicted: 0 Actual: 0 [ 0.600 0.309 0.010 0.000 0.002 0.002 0.077 ]\n",
        "414 - Predicted: 1 Actual: 0 [ 0.329 0.631 0.000 0.000 0.000 0.000 0.040 ]\n",
        "415 - Predicted: 1 Actual: 0 [ 0.398 0.410 0.083 0.010 0.025 0.039 0.034 ]\n",
        "416 - Predicted: 2 Actual: 2 [ 0.036 0.313 0.451 0.025 0.044 0.130 0.001 ]\n",
        "417 - Predicted: 1 Actual: 1 [ 0.193 0.795 0.000 0.000 0.000 0.000 0.011 ]\n",
        "418 - Predicted: 0 Actual: 0 [ 0.444 0.421 0.019 0.001 0.012 0.013 0.089 ]\n",
        "419 - Predicted: 1 Actual: 1 [ 0.218 0.545 0.092 0.002 0.059 0.055 0.029 ]\n",
        "420"
       ]
      }
     ]
    },
    {
     "cell_type": "code",
     "collapsed": false,
     "input": [
      "pd.Series(hits).cumsum().plot() # Predictions over time"
     ],
     "language": "python",
     "metadata": {},
     "outputs": [
      {
       "metadata": {},
       "output_type": "pyout",
       "prompt_number": 284,
       "text": [
        "<matplotlib.axes._subplots.AxesSubplot at 0x7f811d125dd8>"
       ]
      },
      {
       "metadata": {},
       "output_type": "display_data",
       "png": "[encoded data removed]",
       "text": [
        "<matplotlib.figure.Figure at 0x7f8126c750f0>"
       ]
      }
     ],
     "prompt_number": 284
    },
    {
     "cell_type": "code",
     "collapsed": false,
     "input": [
      "sum(hits)/len(hits) # Overall accuracy"
     ],
     "language": "python",
     "metadata": {},
     "outputs": [
      {
       "metadata": {},
       "output_type": "pyout",
       "prompt_number": 285,
       "text": [
        "0.72199999999999998"
       ]
      }
     ],
     "prompt_number": 285
    },
    {
     "cell_type": "code",
     "collapsed": false,
     "input": [
      "print(\"calc_discount\", calc_discount.cache_info())\n",
      "print(\"_expected_discount_term1\", _expected_discount_term1.cache_info())\n",
      "for i, tree in enumerate(mf.trees):\n",
      "    print(\"Tree %d posterior cache hits: %d\" % (i, tree._scorer.cache_hits))\n",
      "    print(\"Tree %d posterior cache misses: %d\" % (i, tree._scorer.cache_misses))\n",
      "    print(\"Tree %d posterior cache evictions: %d\" % (i, tree._scorer.cache_evictions))"
     ],
     "language": "python",
     "metadata": {},
     "outputs": [
      {
       "output_type": "stream",
       "stream": "stdout",
       "text": [
        "calc_discount CacheInfo(hits=570910, misses=244367, maxsize=100000, currsize=100000)\n",
        "_expected_discount_term1 CacheInfo(hits=136930, misses=3917, maxsize=100000, currsize=3917)\n",
        "Tree 0 posterior cache hits: 17686\n",
        "Tree 0 posterior cache misses: 8317\n",
        "Tree 0 posterior cache evictions: 3086\n",
        "Tree 1 posterior cache hits: 20154\n",
        "Tree 1 posterior cache misses: 9796\n",
        "Tree 1 posterior cache evictions: 3832\n",
        "Tree 2 posterior cache hits: 24970\n",
        "Tree 2 posterior cache misses: 12091\n",
        "Tree 2 posterior cache evictions: 5501\n",
        "Tree 3 posterior cache hits: 24830\n",
        "Tree 3 posterior cache misses: 11846\n",
        "Tree 3 posterior cache evictions: 4832\n",
        "Tree 4 posterior cache hits: 25242\n",
        "Tree 4 posterior cache misses: 12511\n",
        "Tree 4 posterior cache evictions: 5413\n",
        "Tree 5 posterior cache hits: 24329\n",
        "Tree 5 posterior cache misses: 11507\n",
        "Tree 5 posterior cache evictions: 4602\n",
        "Tree 6 posterior cache hits: 24454\n",
        "Tree 6 posterior cache misses: 12112\n",
        "Tree 6 posterior cache evictions: 5076\n",
        "Tree 7 posterior cache hits: 27298\n",
        "Tree 7 posterior cache misses: 12706\n",
        "Tree 7 posterior cache evictions: 5068\n",
        "Tree 8 posterior cache hits: 25873\n",
        "Tree 8 posterior cache misses: 12613\n",
        "Tree 8 posterior cache evictions: 5175\n",
        "Tree 9 posterior cache hits: 24077\n",
        "Tree 9 posterior cache misses: 11561\n",
        "Tree 9 posterior cache evictions: 4702\n",
        "Tree 10 posterior cache hits: 24243\n",
        "Tree 10 posterior cache misses: 11718\n",
        "Tree 10 posterior cache evictions: 4920\n",
        "Tree 11 posterior cache hits: 28844\n",
        "Tree 11 posterior cache misses: 14646\n",
        "Tree 11 posterior cache evictions: 6047\n",
        "Tree 12 posterior cache hits: 29228\n",
        "Tree 12 posterior cache misses: 15268\n",
        "Tree 12 posterior cache evictions: 6395\n",
        "Tree 13 posterior cache hits: 25521\n",
        "Tree 13 posterior cache misses: 12397\n",
        "Tree 13 posterior cache evictions: 5426\n",
        "Tree 14 posterior cache hits: 28353\n",
        "Tree 14 posterior cache misses: 13657\n",
        "Tree 14 posterior cache evictions: 5630\n",
        "Tree 15 posterior cache hits: 24266\n",
        "Tree 15 posterior cache misses: 11533\n",
        "Tree 15 posterior cache evictions: 4740\n",
        "Tree 16 posterior cache hits: 27967\n",
        "Tree 16 posterior cache misses: 13180\n",
        "Tree 16 posterior cache evictions: 5327\n",
        "Tree 17 posterior cache hits: 29329\n",
        "Tree 17 posterior cache misses: 13415\n",
        "Tree 17 posterior cache evictions: 5528\n",
        "Tree 18 posterior cache hits: 25995\n",
        "Tree 18 posterior cache misses: 12536\n",
        "Tree 18 posterior cache evictions: 5271\n",
        "Tree 19 posterior cache hits: 23214\n",
        "Tree 19 posterior cache misses: 11120\n",
        "Tree 19 posterior cache evictions: 4508\n",
        "Tree 20 posterior cache hits: 24352\n",
        "Tree 20 posterior cache misses: 11858\n",
        "Tree 20 posterior cache evictions: 4898\n",
        "Tree 21 posterior cache hits: 20807\n",
        "Tree 21 posterior cache misses: 9520\n",
        "Tree 21 posterior cache evictions: 3853\n",
        "Tree 22 posterior cache hits: 23900\n",
        "Tree 22 posterior cache misses: 11785\n",
        "Tree 22 posterior cache evictions: 4174\n",
        "Tree 23 posterior cache hits: 20893\n",
        "Tree 23 posterior cache misses: 9840\n",
        "Tree 23 posterior cache evictions: 3989\n",
        "Tree 24 posterior cache hits: 26350\n",
        "Tree 24 posterior cache misses: 13242\n",
        "Tree 24 posterior cache evictions: 5703\n",
        "Tree 25 posterior cache hits: 20964\n",
        "Tree 25 posterior cache misses: 9520\n",
        "Tree 25 posterior cache evictions: 3872\n",
        "Tree 26 posterior cache hits: 21130\n",
        "Tree 26 posterior cache misses: 9804\n",
        "Tree 26 posterior cache evictions: 3834\n",
        "Tree 27 posterior cache hits: 27436\n",
        "Tree 27 posterior cache misses: 13153\n",
        "Tree 27 posterior cache evictions: 5558\n",
        "Tree 28 posterior cache hits: 25287\n",
        "Tree 28 posterior cache misses: 11979\n",
        "Tree 28 posterior cache evictions: 5205\n",
        "Tree 29 posterior cache hits: 23256\n",
        "Tree 29 posterior cache misses: 10987\n",
        "Tree 29 posterior cache evictions: 4322\n",
        "Tree 30 posterior cache hits: 27742\n",
        "Tree 30 posterior cache misses: 13465\n",
        "Tree 30 posterior cache evictions: 5882\n",
        "Tree 31 posterior cache hits: 25666\n",
        "Tree 31 posterior cache misses: 12269\n",
        "Tree 31 posterior cache evictions: 5333\n",
        "Tree 32 posterior cache hits: 27136\n",
        "Tree 32 posterior cache misses: 13248\n",
        "Tree 32 posterior cache evictions: 5573\n",
        "Tree 33 posterior cache hits: 27679\n",
        "Tree 33 posterior cache misses: 13694\n",
        "Tree 33 posterior cache evictions: 5769\n",
        "Tree 34 posterior cache hits: 25170\n",
        "Tree 34 posterior cache misses: 12306\n",
        "Tree 34 posterior cache evictions: 4808\n",
        "Tree 35 posterior cache hits: 24332\n",
        "Tree 35 posterior cache misses: 11475\n",
        "Tree 35 posterior cache evictions: 4543\n",
        "Tree 36 posterior cache hits: 23443\n",
        "Tree 36 posterior cache misses: 11144\n",
        "Tree 36 posterior cache evictions: 4705\n",
        "Tree 37 posterior cache hits: 27085\n",
        "Tree 37 posterior cache misses: 13234\n",
        "Tree 37 posterior cache evictions: 5878\n",
        "Tree 38 posterior cache hits: 25842\n",
        "Tree 38 posterior cache misses: 12960\n",
        "Tree 38 posterior cache evictions: 5481\n",
        "Tree 39 posterior cache hits: 26603\n",
        "Tree 39 posterior cache misses: 12495\n",
        "Tree 39 posterior cache evictions: 5363\n",
        "Tree 40 posterior cache hits: 23639\n",
        "Tree 40 posterior cache misses: 11548\n",
        "Tree 40 posterior cache evictions: 4228\n",
        "Tree 41 posterior cache hits: 25316\n",
        "Tree 41 posterior cache misses: 12294\n",
        "Tree 41 posterior cache evictions: 4905\n",
        "Tree 42 posterior cache hits: 23825\n",
        "Tree 42 posterior cache misses: 11842\n",
        "Tree 42 posterior cache evictions: 4704\n",
        "Tree 43 posterior cache hits: 25335\n",
        "Tree 43 posterior cache misses: 12452\n",
        "Tree 43 posterior cache evictions: 5355\n",
        "Tree 44 posterior cache hits: 26790\n",
        "Tree 44 posterior cache misses: 14033\n",
        "Tree 44 posterior cache evictions: 5697\n",
        "Tree 45 posterior cache hits: 23385\n",
        "Tree 45 posterior cache misses: 10888\n",
        "Tree 45 posterior cache evictions: 4621\n",
        "Tree 46 posterior cache hits: 22131\n",
        "Tree 46 posterior cache misses: 10838\n",
        "Tree 46 posterior cache evictions: 4018\n",
        "Tree 47 posterior cache hits: 25570\n",
        "Tree 47 posterior cache misses: 12260\n",
        "Tree 47 posterior cache evictions: 5256\n",
        "Tree 48 posterior cache hits: 26534\n",
        "Tree 48 posterior cache misses: 12979\n",
        "Tree 48 posterior cache evictions: 5422\n",
        "Tree 49 posterior cache hits: 24802\n",
        "Tree 49 posterior cache misses: 11743\n",
        "Tree 49 posterior cache evictions: 4773\n",
        "Tree 50 posterior cache hits: 23532\n",
        "Tree 50 posterior cache misses: 11197\n",
        "Tree 50 posterior cache evictions: 4758\n"
       ]
      }
     ],
     "prompt_number": 286
    }
   ],
   "metadata": {}
  }
 ]
}