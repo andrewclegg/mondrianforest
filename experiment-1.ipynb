{
 "metadata": {
  "name": "",
  "signature": "sha256:47c252ed43ac90c9d86def6890c2a8c5e897b44e4ffc0694457c6f064aa89829"
 },
 "nbformat": 3,
 "nbformat_minor": 0,
 "worksheets": [
  {
   "cells": [
    {
     "cell_type": "markdown",
     "metadata": {},
     "source": [
      "# Mondrian Forests\n",
      "\n",
      "This is a reimplementation of Mondrian Forests as described here:\n",
      "\n",
      "**Mondrian Forests: Efficient Online Random Forests**\n",
      "\n",
      "Balaji Lakshminarayanan, Daniel M. Roy, Yee Whye Teh\n",
      "\n",
      "http://arxiv.org/abs/1406.2673\n",
      "\n",
      "It partly uses code from the original authors' implementation at\n",
      "\n",
      "https://github.com/balajiln/mondrianforest\n",
      "\n",
      "but changes a few things along the way too. Key differences:\n",
      "\n",
      "* Assume FAST_MODE (no log-likelihood) for now\n",
      "* Classification only (they never finished regression)\n",
      "* Always assume we're training incrementally\n",
      "* `update_posterior_node_incremental` just becomes `update_label_counts`\n",
      "* `add_training_points_to_node` just becomes `MondrianNode.update`\n",
      "* Pushed as much metadata as possible into the node object, to avoid having lots of separate dicts etc. maintained by the tree (hence renaming it `MondrianNode`)\n",
      "* `data` (an array) refers to one batch, instead of having a single design matrix in memory and indexing it with `train_ids`\n",
      "* `labels` is a vector of class labels for the rows in `data`\n",
      "* We don't assume you'll provide the first batch of training data when initializing a tree, but we do need to know the number of dimensions and number of labels\n",
      "* It works in parallel :-)\n",
      "\n",
      "Perhaps most different of all:\n",
      "\n",
      "We don't keep all the input data, as this won't scale. But this means we can't move existing data down into the new leaf nodes when we split a leaf node.\n",
      "\n",
      "This is the plan: When the tree \"grows\" through randomly splitting a leaf node, keep its existing class frequencies where they are, and only use the two new children for *newly-arriving* data. Then take these into account when calculating the predictive posteriors (appendix A of paper).\n",
      "\n",
      "Here are my original thoughts on this, that I almost sent to the authors, but decided to try first.\n",
      "\n",
      "```\n",
      "One thing I missed on reading the paper, is that when you bisect a leaf node through a \"grow\" (sampling) operation,\n",
      "you need to assign all its data points to one of the new children.\n",
      "\n",
      "This means you can't just keep summary statistics for the data in a block, i.e. class frequencies. You need to hold\n",
      "on to the raw training data in order to divide it, yes? Which is a problem for online learning over streaming data\n",
      "or just \"big data\" in general.\n",
      "\n",
      "So... Perhaps you could entirely forget about keeping the existing data and propagating it down to the new child\n",
      "nodes. If you just kept class frequencies at each node, maybe you could use these in the \"update posterior counts\"\n",
      "step for internal nodes, alongside the child node counts.\n",
      "\n",
      "(Any data that came in *after* the split would go all the way down to the leaf nodes though.)\n",
      "```\n",
      "\n",
      "For the time being, though, it's using a much simpler scoring system. Walk down the tree until you find the box that the test example would have been in, and go for the majority class. If you don't find a box, or it's empty, walk back up until you find the nearest ancestor with some instances in.\n",
      "\n",
      "Averaged across a few trees, even as few as ~10, this actually does pretty well.\n",
      "\n",
      "## Running this demo\n",
      "\n",
      "If a `default` IPython cluster is available, it runs in parallel automatically, with as many trees in the forest as you have engines in the cluster. Otherwise, it runs in serial on a single core, with 3 trees. See the notes in the third cell.\n",
      "\n",
      "For best results with small forests, use an odd number of trees.\n",
      "\n",
      "## TODO\n",
      "\n",
      "### Must-haves\n",
      "\n",
      "* Proper probabilistic scoring\n",
      "* Types for all numpy arrays\n",
      "* Error checking\n",
      "* Work out exactly what effect `budget` is having\n",
      "* Introspection and prettyprinting tools\n",
      "* Work out which members are \"private\" and rename them with underscores\n",
      "* Proper tests...\n",
      "\n",
      "### Useful features\n",
      "\n",
      "* Allow multiple trees per engine (i.e. each engine runs a forest, not a tree)\n",
      "* Instance subsampling\n",
      "* Feature subsampling/bootstrapping/bagging\n",
      "* Feature hashing/random projection/LSH\n",
      "* Train-on-fail mode\n",
      "* Loss functions, regret, class weighting?\n",
      "\n",
      "### Blue sky\n",
      "\n",
      "* Regression\n",
      "* Clustering? (I mean, it basically *is* clustering, already...)\n",
      "* Semi-supervised would be really easy too\n",
      "* Adaptivity -- non-stationary distributions, recency effects etc.\n",
      "* Auto-pruning/rebalancing -- stop trees either stagnating or growing out of control in the long term\n",
      "* What about when the true number of classes isn't known in advance?\n",
      "\n",
      "The last three are really closely related.\n",
      "\n",
      "We could probably tackle a lot of these problems by \"chopping down\" older trees -- either randomly or according to a heuristic (e.g. least-recently-modified) -- so new ones can grow in their place. Maybe varying the budget and discount values would be useful too.\n",
      "\n",
      "Perhaps you could calculate the posterior class probabilities over the entire 'dead' tree, and use these as the priors for the new tree that will grow in its place.\n",
      "\n",
      "You could also use this kind of approach to tune P/R tradeoff, chase a particular objective function, do reinforcement learning... If you squint, they start to look a little like GAs.\n",
      "\n",
      "* Ontology learning\n",
      "* Grammar induction\n",
      "* Topic modelling\n",
      "\n",
      "Use cases that are fundamentally tree-shaped! Hmmm."
     ]
    },
    {
     "cell_type": "code",
     "collapsed": false,
     "input": [
      "%run 'mondrian.py'\n",
      "\n",
      "import random\n",
      "\n",
      "import numpy as np\n",
      "\n",
      "from IPython.parallel import Client\n",
      "try:\n",
      "    rc = Client()\n",
      "    dview = rc[:]\n",
      "    print('Using default IPython cluster with %d engines' % len(dview))\n",
      "except FileNotFoundError:\n",
      "    rc = None\n",
      "    dview = None\n",
      "    print('Using single-core implementation')\n",
      "\n",
      "DEFAULT_BUDGET = 1000"
     ],
     "language": "python",
     "metadata": {},
     "outputs": [
      {
       "output_type": "stream",
       "stream": "stdout",
       "text": [
        "Using single-core implementation\n"
       ]
      }
     ],
     "prompt_number": 102
    },
    {
     "cell_type": "code",
     "collapsed": false,
     "input": [
      "import pickle\n",
      "import gzip\n",
      "import os\n",
      "import pandas as pd\n",
      "from sklearn import datasets\n",
      "from sklearn import cross_validation as cv\n",
      "\n",
      "# For speed later...\n",
      "test_file = '/home/vagrant/data/covtype.pkl.gz'\n",
      "if os.path.exists(test_file):\n",
      "    with gzip.GzipFile(test_file, 'rb') as z:\n",
      "        dataset = pickle.load(z)\n",
      "else:\n",
      "    dataset = datasets.fetch_covtype() # Can be quite slow\n",
      "    with gzip.GzipFile(test_file, 'wb') as z:\n",
      "        pickle.dump(dataset, z)\n",
      "        \n",
      "dataset.data.shape"
     ],
     "language": "python",
     "metadata": {},
     "outputs": [
      {
       "metadata": {},
       "output_type": "pyout",
       "prompt_number": 75,
       "text": [
        "(581012, 54)"
       ]
      }
     ],
     "prompt_number": 75
    },
    {
     "cell_type": "code",
     "collapsed": false,
     "input": [
      "n_iter = 100\n",
      "test_size = 10\n",
      "folds = cv.StratifiedShuffleSplit(dataset.target, n_iter=n_iter, test_size=test_size, train_size=1000)\n",
      "hits = []\n",
      "\n",
      "data = dataset.data\n",
      "target = dataset.target - 1 # they are 1-indexed\n",
      "\n",
      "if dview is None:\n",
      "    # Run with a single-threaded forest with 3 trees (FIXME)\n",
      "    mf = MondrianForest(1, data.shape[1], len(np.unique(target)), budget=DEFAULT_BUDGET, scoring='nsp')\n",
      "else:\n",
      "    # Run with a parallel forest on IPython cluster\n",
      "    mf = ParallelMondrianForest(dview, data.shape[1], len(np.unique(target)), budget=DEFAULT_BUDGET, scoring='nsp')\n",
      "\n",
      "def run_test():\n",
      "    for i, (train, test) in enumerate(folds):\n",
      "        train_X = data[train]\n",
      "        train_y = target[train]\n",
      "        test_X = data[test]#[0:1,:]\n",
      "        test_y = target[test]#[0:1]\n",
      "        mf.update(train_X, train_y)\n",
      "        preds = mf.predict(test_X)\n",
      "        yhat = preds.argmax(axis=1)\n",
      "        assert test_y.shape == yhat.shape\n",
      "        for j in range(len(preds)):\n",
      "            idx = (i * test_size) + j\n",
      "            print(idx, '- Predicted:', yhat[j], 'Actual:', test_y[j],\n",
      "                  '[', ' '.join(['%.3f' % x for x in preds[j]]), ']')\n",
      "            hits.append(yhat[j] == test_y[j])\n",
      "\n",
      "#%prun\n",
      "run_test()"
     ],
     "language": "python",
     "metadata": {},
     "outputs": [
      {
       "output_type": "stream",
       "stream": "stdout",
       "text": [
        "0 - Predicted: 1 Actual: 0 [ 0.365 0.488 0.062 0.005 0.016 0.030 0.035 ]\n",
        "1 - Predicted: 1 Actual: 1 [ 0.365 0.488 0.062 0.005 0.016 0.030 0.035 ]\n",
        "2 - Predicted: 1 Actual: 1 [ 0.365 0.488 0.062 0.005 0.016 0.030 0.035 ]\n",
        "3 - Predicted: 1 Actual: 0 [ 0.365 0.488 0.062 0.005 0.016 0.030 0.035 ]\n",
        "4 - Predicted: 1 Actual: 0 [ 0.365 0.488 0.062 0.005 0.016 0.030 0.035 ]\n",
        "5 - Predicted: 1 Actual: 1 [ 0.365 0.488 0.062 0.005 0.016 0.030 0.035 ]\n",
        "6 - Predicted: 1 Actual: 1 [ 0.365 0.488 0.062 0.005 0.016 0.030 0.035 ]\n",
        "7 - Predicted: 1 Actual: 2 [ 0.365 0.488 0.062 0.005 0.016 0.030 0.035 ]\n",
        "8 - Predicted: 1 Actual: 0 [ 0.365 0.488 0.062 0.005 0.016 0.030 0.035 ]\n",
        "9 - Predicted: 1 Actual: 1 [ 0.365 0.488 0.062 0.005 0.016 0.030 0.035 ]\n",
        "10"
       ]
      },
      {
       "output_type": "stream",
       "stream": "stdout",
       "text": [
        " - Predicted: 1 Actual: 1 [ 0.367 0.489 0.061 0.004 0.015 0.029 0.034 ]\n",
        "11 - Predicted: 1 Actual: 1 [ 0.367 0.489 0.061 0.004 0.015 0.029 0.034 ]\n",
        "12 - Predicted: 1 Actual: 1 [ 0.367 0.489 0.061 0.004 0.015 0.029 0.034 ]\n",
        "13 - Predicted: 1 Actual: 2 [ 0.367 0.489 0.061 0.004 0.015 0.029 0.034 ]\n",
        "14 - Predicted: 1 Actual: 0 [ 0.367 0.489 0.061 0.004 0.015 0.029 0.034 ]\n",
        "15 - Predicted: 1 Actual: 1 [ 0.367 0.489 0.061 0.004 0.015 0.029 0.034 ]\n",
        "16 - Predicted: 1 Actual: 0 [ 0.367 0.489 0.061 0.004 0.015 0.029 0.034 ]\n",
        "17 - Predicted: 1 Actual: 0 [ 0.367 0.489 0.061 0.004 0.015 0.029 0.034 ]\n",
        "18 - Predicted: 1 Actual: 0 [ 0.367 0.489 0.061 0.004 0.015 0.029 0.034 ]\n",
        "19 - Predicted: 1 Actual: 1 [ 0.367 0.489 0.061 0.004 0.015 0.029 0.034 ]\n",
        "20"
       ]
      },
      {
       "output_type": "stream",
       "stream": "stdout",
       "text": [
        " - Predicted: 1 Actual: 1 [ 0.366 0.490 0.061 0.004 0.015 0.029 0.034 ]\n",
        "21 - Predicted: 1 Actual: 1 [ 0.366 0.490 0.061 0.004 0.015 0.029 0.034 ]\n",
        "22 - Predicted: 1 Actual: 0 [ 0.366 0.490 0.061 0.004 0.015 0.029 0.034 ]\n",
        "23 - Predicted: 1 Actual: 1 [ 0.366 0.490 0.061 0.004 0.015 0.029 0.034 ]\n",
        "24 - Predicted: 1 Actual: 1 [ 0.366 0.490 0.061 0.004 0.015 0.029 0.034 ]\n",
        "25 - Predicted: 1 Actual: 1 [ 0.366 0.490 0.061 0.004 0.015 0.029 0.034 ]\n",
        "26 - Predicted: 1 Actual: 0 [ 0.366 0.490 0.061 0.004 0.015 0.029 0.034 ]\n",
        "27 - Predicted: 1 Actual: 2 [ 0.366 0.490 0.061 0.004 0.015 0.029 0.034 ]\n",
        "28 - Predicted: 1 Actual: 0 [ 0.366 0.490 0.061 0.004 0.015 0.029 0.034 ]\n",
        "29 - Predicted: 1 Actual: 0 [ 0.366 0.490 0.061 0.004 0.015 0.029 0.034 ]\n",
        "30"
       ]
      },
      {
       "output_type": "stream",
       "stream": "stdout",
       "text": [
        " - Predicted: 1 Actual: 0 [ 0.366 0.479 0.066 0.004 0.017 0.032 0.036 ]\n",
        "31 - Predicted: 1 Actual: 0 [ 0.366 0.479 0.066 0.004 0.017 0.032 0.036 ]\n",
        "32 - Predicted: 1 Actual: 1 [ 0.366 0.479 0.066 0.004 0.017 0.032 0.036 ]\n",
        "33 - Predicted: 1 Actual: 2 [ 0.366 0.479 0.066 0.004 0.017 0.032 0.036 ]\n",
        "34 - Predicted: 1 Actual: 1 [ 0.373 0.622 0.002 0.000 0.001 0.001 0.001 ]\n",
        "35 - Predicted: 1 Actual: 0 [ 0.366 0.479 0.066 0.004 0.017 0.032 0.036 ]\n",
        "36 - Predicted: 1 Actual: 1 [ 0.366 0.479 0.066 0.004 0.017 0.032 0.036 ]\n",
        "37 - Predicted: 1 Actual: 0 [ 0.373 0.622 0.002 0.000 0.001 0.001 0.001 ]\n",
        "38 - Predicted: 1 Actual: 1 [ 0.373 0.622 0.002 0.000 0.001 0.001 0.001 ]\n",
        "39 - Predicted: 1 Actual: 1 [ 0.373 0.622 0.002 0.000 0.001 0.001 0.001 ]\n",
        "40"
       ]
      },
      {
       "output_type": "stream",
       "stream": "stdout",
       "text": [
        " - Predicted: 1 Actual: 0 [ 0.363 0.499 0.055 0.003 0.019 0.028 0.034 ]\n",
        "41 - Predicted: 1 Actual: 0 [ 0.421 0.568 0.000 0.000 0.000 0.000 0.011 ]\n",
        "42 - Predicted: 1 Actual: 1 [ 0.358 0.491 0.057 0.006 0.022 0.030 0.036 ]\n",
        "43 - Predicted: 1 Actual: 0 [ 0.363 0.499 0.055 0.003 0.019 0.028 0.034 ]\n",
        "44 - Predicted: 1 Actual: 1 [ 0.363 0.499 0.055 0.003 0.019 0.028 0.034 ]\n",
        "45 - Predicted: 1 Actual: 2 [ 0.363 0.499 0.055 0.003 0.019 0.028 0.034 ]\n",
        "46 - Predicted: 1 Actual: 0 [ 0.363 0.499 0.055 0.003 0.019 0.028 0.034 ]\n",
        "47 - Predicted: 1 Actual: 1 [ 0.363 0.499 0.055 0.003 0.019 0.028 0.034 ]\n",
        "48 - Predicted: 1 Actual: 1 [ 0.363 0.499 0.055 0.003 0.019 0.028 0.034 ]\n",
        "49 - Predicted: 1 Actual: 1 [ 0.363 0.499 0.055 0.003 0.019 0.028 0.034 ]\n",
        "50"
       ]
      },
      {
       "output_type": "stream",
       "stream": "stdout",
       "text": [
        " - Predicted: 1 Actual: 1 [ 0.415 0.505 0.011 0.000 0.018 0.003 0.048 ]\n",
        "51 - Predicted: 1 Actual: 0 [ 0.415 0.505 0.011 0.000 0.018 0.003 0.048 ]\n",
        "52 - Predicted: 1 Actual: 0 [ 0.415 0.505 0.011 0.000 0.018 0.003 0.048 ]\n",
        "53 - Predicted: 1 Actual: 0 [ 0.372 0.473 0.079 0.005 0.011 0.045 0.016 ]\n",
        "54 - Predicted: 1 Actual: 1 [ 0.372 0.473 0.079 0.005 0.011 0.045 0.016 ]\n",
        "55 - Predicted: 1 Actual: 2 [ 0.232 0.310 0.300 0.001 0.023 0.108 0.026 ]\n",
        "56 - Predicted: 1 Actual: 1 [ 0.372 0.473 0.079 0.005 0.011 0.045 0.016 ]\n",
        "57 - Predicted: 1 Actual: 1 [ 0.372 0.473 0.079 0.005 0.011 0.045 0.016 ]\n",
        "58 - Predicted: 1 Actual: 0 [ 0.372 0.473 0.079 0.005 0.011 0.045 0.016 ]\n",
        "59 - Predicted: 1 Actual: 1 [ 0.415 0.505 0.011 0.000 0.018 0.003 0.048 ]\n",
        "60"
       ]
      },
      {
       "output_type": "stream",
       "stream": "stdout",
       "text": [
        " - Predicted: 1 Actual: 0 [ 0.337 0.441 0.099 0.003 0.027 0.059 0.035 ]\n",
        "61 - Predicted: 1 Actual: 0 [ 0.417 0.529 0.003 0.000 0.003 0.006 0.042 ]\n",
        "62 - Predicted: 1 Actual: 1 [ 0.337 0.441 0.099 0.003 0.027 0.059 0.035 ]\n",
        "63 - Predicted: 1 Actual: 0 [ 0.417 0.529 0.003 0.000 0.003 0.006 0.042 ]\n",
        "64 - Predicted: 1 Actual: 2 [ 0.303 0.341 0.237 0.015 0.032 0.040 0.032 ]\n",
        "65 - Predicted: 1 Actual: 1 [ 0.436 0.561 0.000 0.000 0.000 0.000 0.003 ]\n",
        "66 - Predicted: 1 Actual: 1 [ 0.337 0.441 0.099 0.003 0.027 0.059 0.035 ]\n",
        "67 - Predicted: 1 Actual: 1 [ 0.337 0.441 0.099 0.003 0.027 0.059 0.035 ]\n",
        "68 - Predicted: 1 Actual: 0 [ 0.303 0.341 0.237 0.015 0.032 0.040 0.032 ]\n",
        "69 - Predicted: 1 Actual: 1 [ 0.417 0.529 0.003 0.000 0.003 0.006 0.042 ]\n",
        "70"
       ]
      },
      {
       "output_type": "stream",
       "stream": "stdout",
       "text": [
        " - Predicted: 1 Actual: 1 [ 0.438 0.490 0.000 0.000 0.000 0.000 0.072 ]\n",
        "71 - Predicted: 1 Actual: 0 [ 0.347 0.477 0.080 0.000 0.019 0.047 0.029 ]\n",
        "72 - Predicted: 1 Actual: 1 [ 0.451 0.549 0.000 0.000 0.000 0.000 0.000 ]\n",
        "73 - Predicted: 1 Actual: 1 [ 0.347 0.478 0.080 0.000 0.019 0.047 0.028 ]\n",
        "74 - Predicted: 1 Actual: 1 [ 0.347 0.478 0.080 0.000 0.019 0.047 0.028 ]\n",
        "75 - Predicted: 1 Actual: 0 [ 0.412 0.525 0.010 0.000 0.010 0.000 0.042 ]\n",
        "76 - Predicted: 0 Actual: 2 [ 0.484 0.457 0.039 0.002 0.005 0.007 0.005 ]\n",
        "77 - Predicted: 0 Actual: 0 [ 0.481 0.454 0.041 0.002 0.008 0.007 0.008 ]\n",
        "78 - Predicted: 1 Actual: 0 [ 0.412 0.525 0.010 0.000 0.010 0.000 0.042 ]\n",
        "79 - Predicted: 1 Actual: 1 [ 0.340 0.431 0.117 0.013 0.028 0.056 0.015 ]\n",
        "80"
       ]
      },
      {
       "output_type": "stream",
       "stream": "stdout",
       "text": [
        " - Predicted: 1 Actual: 2 [ 0.330 0.502 0.060 0.000 0.022 0.049 0.038 ]\n",
        "81 - Predicted: 1 Actual: 1 [ 0.421 0.579 0.000 0.000 0.000 0.000 0.000 ]\n",
        "82 - Predicted: 1 Actual: 1 [ 0.399 0.540 0.036 0.000 0.007 0.000 0.019 ]\n",
        "83 - Predicted: 1 Actual: 0 [ 0.330 0.502 0.060 0.000 0.022 0.049 0.038 ]\n",
        "84 - Predicted: 1 Actual: 0 [ 0.399 0.540 0.036 0.000 0.007 0.000 0.019 ]\n",
        "85 - Predicted: 1 Actual: 0 [ 0.330 0.502 0.060 0.000 0.022 0.049 0.038 ]\n",
        "86 - Predicted: 0 Actual: 1 [ 0.558 0.440 0.000 0.000 0.002 0.000 0.000 ]\n",
        "87 - Predicted: 1 Actual: 1 [ 0.330 0.502 0.060 0.000 0.022 0.049 0.038 ]\n",
        "88 - Predicted: 1 Actual: 0 [ 0.330 0.502 0.060 0.000 0.022 0.049 0.038 ]\n",
        "89 - Predicted: 1 Actual: 1 [ 0.200 0.799 0.000 0.000 0.000 0.000 0.000 ]\n",
        "90"
       ]
      },
      {
       "output_type": "stream",
       "stream": "stdout",
       "text": [
        " - Predicted: 1 Actual: 1 [ 0.315 0.472 0.067 0.012 0.031 0.056 0.046 ]\n",
        "91 - Predicted: 0 Actual: 0 [ 0.398 0.307 0.110 0.046 0.046 0.046 0.047 ]\n",
        "92 - Predicted: 1 Actual: 1 [ 0.311 0.465 0.069 0.015 0.034 0.058 0.048 ]\n",
        "93 - Predicted: 1 Actual: 0 [ 0.303 0.377 0.122 0.038 0.049 0.072 0.039 ]\n",
        "94 - Predicted: 1 Actual: 2 [ 0.322 0.406 0.135 0.020 0.021 0.083 0.014 ]\n",
        "95 - Predicted: 1 Actual: 0 [ 0.316 0.475 0.066 0.011 0.031 0.056 0.045 ]\n",
        "96 - Predicted: 1 Actual: 0 [ 0.344 0.428 0.055 0.031 0.031 0.031 0.081 ]\n",
        "97 - Predicted: 1 Actual: 1 [ 0.366 0.488 0.050 0.019 0.025 0.019 0.035 ]\n",
        "98 - Predicted: 1 Actual: 1 [ 0.365 0.488 0.050 0.019 0.025 0.019 0.035 ]\n",
        "99 - Predicted: 1 Actual: 1 [ 0.327 0.413 0.135 0.017 0.017 0.081 0.010 ]\n",
        "100"
       ]
      },
      {
       "output_type": "stream",
       "stream": "stdout",
       "text": [
        " - Predicted: 1 Actual: 0 [ 0.315 0.409 0.071 0.047 0.052 0.047 0.060 ]\n",
        "101 - Predicted: 1 Actual: 1 [ 0.227 0.328 0.089 0.089 0.090 0.089 0.089 ]\n",
        "102 - Predicted: 0 Actual: 1 [ 0.384 0.298 0.111 0.051 0.052 0.052 0.052 ]\n",
        "103 - Predicted: 1 Actual: 0 [ 0.285 0.415 0.080 0.035 0.051 0.071 0.063 ]\n",
        "104 - Predicted: 1 Actual: 0 [ 0.308 0.385 0.135 0.029 0.030 0.088 0.024 ]\n",
        "105 - Predicted: 1 Actual: 1 [ 0.286 0.353 0.136 0.045 0.045 0.095 0.040 ]\n",
        "106 - Predicted: 1 Actual: 1 [ 0.274 0.393 0.085 0.043 0.058 0.077 0.069 ]\n",
        "107 - Predicted: 1 Actual: 0 [ 0.248 0.306 0.099 0.084 0.087 0.084 0.092 ]\n",
        "108 - Predicted: 2 Actual: 2 [ 0.035 0.048 0.379 0.035 0.207 0.101 0.194 ]\n",
        "109 - Predicted: 1 Actual: 1 [ 0.282 0.347 0.137 0.047 0.048 0.096 0.043 ]\n",
        "110"
       ]
      },
      {
       "output_type": "stream",
       "stream": "stdout",
       "text": [
        " - Predicted: 1 Actual: 1 [ 0.252 0.254 0.096 0.095 0.096 0.096 0.112 ]\n",
        "111 - Predicted: 1 Actual: 1 [ 0.229 0.277 0.107 0.095 0.097 0.095 0.101 ]\n",
        "112 - Predicted: 1 Actual: 0 [ 0.264 0.314 0.090 0.075 0.076 0.076 0.106 ]\n",
        "113 - Predicted: 1 Actual: 0 [ 0.272 0.343 0.089 0.071 0.074 0.071 0.080 ]\n",
        "114 - Predicted: 1 Actual: 2 [ 0.152 0.161 0.147 0.132 0.133 0.143 0.132 ]\n",
        "115 - Predicted: 1 Actual: 1 [ 0.175 0.264 0.109 0.109 0.109 0.109 0.124 ]\n",
        "116 - Predicted: 1 Actual: 0 [ 0.266 0.333 0.091 0.074 0.078 0.074 0.083 ]\n",
        "117 - Predicted: 1 Actual: 0 [ 0.265 0.332 0.092 0.075 0.078 0.075 0.084 ]\n",
        "118 - Predicted: 1 Actual: 1 [ 0.249 0.304 0.089 0.089 0.089 0.089 0.089 ]\n",
        "119 - Predicted: 1 Actual: 1 [ 0.173 0.257 0.111 0.111 0.111 0.111 0.125 ]\n",
        "120"
       ]
      },
      {
       "output_type": "stream",
       "stream": "stdout",
       "text": [
        " - Predicted: 1 Actual: 1 [ 0.320 0.410 0.082 0.033 0.042 0.055 0.058 ]\n",
        "121 - Predicted: 1 Actual: 1 [ 0.290 0.378 0.067 0.066 0.066 0.066 0.066 ]\n",
        "122 - Predicted: 0 Actual: 1 [ 0.421 0.147 0.077 0.071 0.074 0.076 0.134 ]\n",
        "123 - Predicted: 1 Actual: 0 [ 0.254 0.315 0.102 0.074 0.080 0.087 0.089 ]\n",
        "124 - Predicted: 1 Actual: 1 [ 0.329 0.424 0.079 0.027 0.037 0.050 0.054 ]\n",
        "125 - Predicted: 1 Actual: 1 [ 0.254 0.315 0.102 0.074 0.080 0.087 0.089 ]\n",
        "126 - Predicted: 1 Actual: 0 [ 0.254 0.315 0.102 0.074 0.080 0.087 0.089 ]\n",
        "127 - Predicted: 1 Actual: 2 [ 0.254 0.315 0.102 0.074 0.080 0.087 0.089 ]\n",
        "128 - Predicted: 0 Actual: 0 [ 0.488 0.144 0.063 0.056 0.058 0.062 0.128 ]\n",
        "129 - Predicted: 1 Actual: 0 [ 0.254 0.315 0.102 0.074 0.080 0.087 0.089 ]\n",
        "130"
       ]
      },
      {
       "output_type": "stream",
       "stream": "stdout",
       "text": [
        " - Predicted: 1 Actual: 0 [ 0.271 0.273 0.089 0.084 0.085 0.088 0.109 ]\n",
        "131 - Predicted: 1 Actual: 1 [ 0.215 0.254 0.117 0.098 0.102 0.106 0.108 ]\n",
        "132 - Predicted: 1 Actual: 1 [ 0.284 0.355 0.095 0.055 0.063 0.073 0.076 ]\n",
        "133 - Predicted: 0 Actual: 0 [ 0.360 0.146 0.091 0.087 0.088 0.090 0.136 ]\n",
        "134 - Predicted: 1 Actual: 2 [ 0.169 0.192 0.154 0.112 0.117 0.144 0.112 ]\n",
        "135 - Predicted: 1 Actual: 1 [ 0.269 0.271 0.090 0.084 0.085 0.089 0.110 ]\n",
        "136 - Predicted: 1 Actual: 0 [ 0.258 0.259 0.095 0.089 0.091 0.094 0.113 ]\n",
        "137 - Predicted: 1 Actual: 1 [ 0.210 0.248 0.118 0.101 0.104 0.109 0.110 ]\n",
        "138 - Predicted: 1 Actual: 1 [ 0.215 0.256 0.116 0.098 0.101 0.106 0.108 ]\n",
        "139 - Predicted: 1 Actual: 0 [ 0.230 0.278 0.111 0.089 0.093 0.099 0.101 ]\n",
        "140"
       ]
      },
      {
       "output_type": "stream",
       "stream": "stdout",
       "text": [
        " - Predicted: 1 Actual: 0 [ 0.364 0.487 0.062 0.005 0.016 0.030 0.035 ]\n",
        "141 - Predicted: 1 Actual: 2 [ 0.364 0.487 0.062 0.005 0.016 0.030 0.035 ]\n",
        "142 - Predicted: 1 Actual: 1 [ 0.364 0.487 0.062 0.005 0.016 0.030 0.035 ]\n",
        "143 - Predicted: 1 Actual: 1 [ 0.364 0.487 0.062 0.005 0.016 0.030 0.035 ]\n",
        "144 - Predicted: 1 Actual: 1 [ 0.364 0.487 0.062 0.005 0.016 0.030 0.035 ]\n",
        "145 - Predicted: 1 Actual: 0 [ 0.364 0.487 0.062 0.005 0.016 0.030 0.035 ]\n",
        "146 - Predicted: 1 Actual: 0 [ 0.364 0.487 0.062 0.005 0.016 0.030 0.035 ]\n",
        "147 - Predicted: 1 Actual: 1 [ 0.364 0.487 0.062 0.005 0.016 0.030 0.035 ]\n",
        "148 - Predicted: 1 Actual: 1 [ 0.364 0.487 0.062 0.005 0.016 0.030 0.035 ]\n",
        "149 - Predicted: 1 Actual: 0 [ 0.364 0.487 0.062 0.005 0.016 0.030 0.035 ]\n",
        "150"
       ]
      },
      {
       "output_type": "stream",
       "stream": "stdout",
       "text": [
        " - Predicted: 1 Actual: 1 [ 0.365 0.493 0.066 0.004 0.016 0.031 0.025 ]\n",
        "151 - Predicted: 1 Actual: 1 [ 0.365 0.493 0.066 0.004 0.016 0.031 0.025 ]\n",
        "152 - Predicted: 1 Actual: 1 [ 0.365 0.493 0.066 0.004 0.016 0.031 0.025 ]\n",
        "153 - Predicted: 1 Actual: 0 [ 0.365 0.493 0.066 0.004 0.016 0.031 0.025 ]\n",
        "154 - Predicted: 1 Actual: 0 [ 0.365 0.493 0.066 0.004 0.016 0.031 0.025 ]\n",
        "155 - Predicted: 1 Actual: 2 [ 0.365 0.493 0.066 0.004 0.016 0.031 0.025 ]\n",
        "156 - Predicted: 1 Actual: 1 [ 0.365 0.493 0.066 0.004 0.016 0.031 0.025 ]\n",
        "157 - Predicted: 1 Actual: 0 [ 0.365 0.493 0.066 0.004 0.016 0.031 0.025 ]\n",
        "158 - Predicted: 1 Actual: 0 [ 0.365 0.493 0.066 0.004 0.016 0.031 0.025 ]\n",
        "159 - Predicted: 1 Actual: 1 [ 0.365 0.493 0.066 0.004 0.016 0.031 0.025 ]\n",
        "160"
       ]
      },
      {
       "output_type": "stream",
       "stream": "stdout",
       "text": [
        " - Predicted: 1 Actual: 1 [ 0.363 0.487 0.067 0.004 0.016 0.032 0.031 ]\n",
        "161 - Predicted: 1 Actual: 1 [ 0.363 0.487 0.067 0.004 0.016 0.032 0.031 ]\n",
        "162 - Predicted: 1 Actual: 1 [ 0.363 0.487 0.067 0.004 0.016 0.032 0.031 ]\n",
        "163 - Predicted: 1 Actual: 0 [ 0.363 0.487 0.067 0.004 0.016 0.032 0.031 ]\n",
        "164 - Predicted: 1 Actual: 0 [ 0.363 0.487 0.067 0.004 0.016 0.032 0.031 ]\n",
        "165 - Predicted: 1 Actual: 1 [ 0.363 0.487 0.067 0.004 0.016 0.032 0.031 ]\n",
        "166 - Predicted: 1 Actual: 0 [ 0.363 0.487 0.067 0.004 0.016 0.032 0.031 ]\n",
        "167 - Predicted: 1 Actual: 0 [ 0.363 0.487 0.067 0.004 0.016 0.032 0.031 ]\n",
        "168 - Predicted: 1 Actual: 1 [ 0.363 0.487 0.067 0.004 0.016 0.032 0.031 ]\n",
        "169 - Predicted: 1 Actual: 2 [ 0.363 0.487 0.067 0.004 0.016 0.032 0.031 ]\n",
        "170"
       ]
      },
      {
       "output_type": "stream",
       "stream": "stdout",
       "text": [
        " - Predicted: 1 Actual: 0 [ 0.368 0.476 0.071 0.005 0.016 0.034 0.030 ]\n",
        "171 - Predicted: 1 Actual: 1 [ 0.193 0.799 0.003 0.000 0.001 0.002 0.002 ]\n",
        "172 - Predicted: 1 Actual: 0 [ 0.368 0.476 0.071 0.005 0.016 0.034 0.030 ]\n",
        "173 - Predicted: 1 Actual: 1 [ 0.368 0.476 0.071 0.005 0.016 0.034 0.030 ]\n",
        "174 - Predicted: 1 Actual: 0 [ 0.368 0.476 0.071 0.005 0.016 0.034 0.030 ]\n",
        "175 - Predicted: 1 Actual: 0 [ 0.368 0.476 0.071 0.005 0.016 0.034 0.030 ]\n",
        "176 - Predicted: 1 Actual: 1 [ 0.368 0.476 0.071 0.005 0.016 0.034 0.030 ]\n",
        "177 - Predicted: 1 Actual: 1 [ 0.368 0.476 0.071 0.005 0.016 0.034 0.030 ]\n",
        "178 - Predicted: 0 Actual: 1 [ 0.518 0.267 0.006 0.000 0.002 0.003 0.204 ]\n",
        "179 - Predicted: 1 Actual: 2 [ 0.368 0.476 0.071 0.005 0.016 0.034 0.030 ]\n",
        "180"
       ]
      },
      {
       "output_type": "stream",
       "stream": "stdout",
       "text": [
        " - Predicted: 1 Actual: 0 [ 0.278 0.721 0.000 0.000 0.000 0.000 0.000 ]\n",
        "181 - Predicted: 1 Actual: 1 [ 0.375 0.473 0.070 0.005 0.017 0.031 0.030 ]\n",
        "182 - Predicted: 1 Actual: 1 [ 0.375 0.473 0.070 0.005 0.017 0.031 0.030 ]\n",
        "183 - Predicted: 1 Actual: 0 [ 0.375 0.473 0.070 0.005 0.017 0.031 0.030 ]\n",
        "184 - Predicted: 1 Actual: 1 [ 0.375 0.473 0.070 0.005 0.017 0.031 0.030 ]\n",
        "185 - Predicted: 1 Actual: 0 [ 0.375 0.473 0.070 0.005 0.017 0.031 0.030 ]\n",
        "186 - Predicted: 1 Actual: 0 [ 0.409 0.491 0.042 0.004 0.011 0.020 0.024 ]\n",
        "187 - Predicted: 1 Actual: 1 [ 0.375 0.473 0.070 0.005 0.017 0.031 0.030 ]\n",
        "188 - Predicted: 1 Actual: 2 [ 0.375 0.473 0.070 0.005 0.017 0.031 0.030 ]\n",
        "189 - Predicted: 1 Actual: 1 [ 0.375 0.473 0.070 0.005 0.017 0.031 0.030 ]\n",
        "190"
       ]
      },
      {
       "output_type": "stream",
       "stream": "stdout",
       "text": [
        " - Predicted: 1 Actual: 0 [ 0.493 0.495 0.003 0.002 0.002 0.002 0.003 ]\n",
        "191 - Predicted: 1 Actual: 1 [ 0.367 0.470 0.073 0.005 0.016 0.036 0.033 ]\n",
        "192 - Predicted: 1 Actual: 1 [ 0.367 0.470 0.073 0.005 0.016 0.036 0.033 ]\n",
        "193 - Predicted: 1 Actual: 1 [ 0.367 0.470 0.073 0.005 0.016 0.036 0.033 ]\n",
        "194 - Predicted: 1 Actual: 1 [ 0.367 0.470 0.073 0.005 0.016 0.036 0.033 ]\n",
        "195 - Predicted: 1 Actual: 2 [ 0.367 0.470 0.073 0.005 0.016 0.036 0.033 ]\n",
        "196 - Predicted: 1 Actual: 0 [ 0.367 0.470 0.073 0.005 0.016 0.036 0.033 ]\n",
        "197 - Predicted: 1 Actual: 0 [ 0.434 0.560 0.002 0.000 0.001 0.001 0.001 ]\n",
        "198 - Predicted: 1 Actual: 0 [ 0.367 0.470 0.073 0.005 0.016 0.036 0.033 ]\n",
        "199 - Predicted: 1 Actual: 1 [ 0.367 0.470 0.073 0.005 0.016 0.036 0.033 ]\n",
        "200"
       ]
      },
      {
       "output_type": "stream",
       "stream": "stdout",
       "text": [
        " - Predicted: 1 Actual: 0 [ 0.426 0.496 0.012 0.000 0.007 0.004 0.054 ]\n",
        "201 - Predicted: 1 Actual: 1 [ 0.333 0.460 0.108 0.008 0.019 0.051 0.021 ]\n",
        "202 - Predicted: 1 Actual: 1 [ 0.333 0.460 0.108 0.008 0.019 0.051 0.021 ]\n",
        "203 - Predicted: 1 Actual: 1 [ 0.426 0.496 0.012 0.000 0.007 0.004 0.054 ]\n",
        "204 - Predicted: 1 Actual: 1 [ 0.426 0.496 0.012 0.000 0.007 0.004 0.054 ]\n",
        "205 - Predicted: 1 Actual: 0 [ 0.333 0.460 0.108 0.008 0.019 0.051 0.021 ]\n",
        "206 - Predicted: 1 Actual: 1 [ 0.333 0.460 0.108 0.008 0.019 0.051 0.021 ]\n",
        "207 - Predicted: 1 Actual: 0 [ 0.333 0.460 0.108 0.008 0.019 0.051 0.021 ]\n",
        "208 - Predicted: 1 Actual: 0 [ 0.449 0.550 0.000 0.000 0.000 0.000 0.000 ]\n",
        "209 - Predicted: 1 Actual: 2 [ 0.325 0.446 0.109 0.014 0.025 0.055 0.027 ]\n",
        "210"
       ]
      },
      {
       "output_type": "stream",
       "stream": "stdout",
       "text": [
        " - Predicted: 1 Actual: 1 [ 0.217 0.266 0.129 0.090 0.095 0.107 0.096 ]\n",
        "211 - Predicted: 1 Actual: 2 [ 0.251 0.323 0.123 0.066 0.073 0.091 0.074 ]\n",
        "212 - Predicted: 1 Actual: 1 [ 0.210 0.255 0.130 0.095 0.099 0.110 0.100 ]\n",
        "213 - Predicted: 1 Actual: 0 [ 0.144 0.189 0.133 0.133 0.133 0.133 0.133 ]\n",
        "214 - Predicted: 1 Actual: 1 [ 0.185 0.213 0.135 0.113 0.115 0.122 0.116 ]\n",
        "215 - Predicted: 1 Actual: 0 [ 0.159 0.170 0.140 0.131 0.132 0.135 0.133 ]\n",
        "216 - Predicted: 1 Actual: 0 [ 0.155 0.604 0.018 0.001 0.005 0.009 0.209 ]\n",
        "217 - Predicted: 1 Actual: 1 [ 0.196 0.232 0.133 0.105 0.108 0.117 0.109 ]\n",
        "218 - Predicted: 1 Actual: 0 [ 0.203 0.243 0.132 0.100 0.104 0.114 0.104 ]\n",
        "219 - Predicted: 1 Actual: 1 [ 0.155 0.163 0.141 0.134 0.135 0.137 0.135 ]\n",
        "220"
       ]
      },
      {
       "output_type": "stream",
       "stream": "stdout",
       "text": [
        " - Predicted: 1 Actual: 1 [ 0.368 0.476 0.071 0.005 0.016 0.034 0.030 ]\n",
        "221 - Predicted: 1 Actual: 0 [ 0.368 0.476 0.071 0.005 0.016 0.034 0.030 ]\n",
        "222 - Predicted: 1 Actual: 2 [ 0.368 0.476 0.071 0.005 0.016 0.034 0.030 ]\n",
        "223 - Predicted: 1 Actual: 0 [ 0.368 0.476 0.071 0.005 0.016 0.034 0.030 ]\n",
        "224 - Predicted: 1 Actual: 1 [ 0.368 0.476 0.071 0.005 0.016 0.034 0.030 ]\n",
        "225 - Predicted: 1 Actual: 1 [ 0.368 0.476 0.071 0.005 0.016 0.034 0.030 ]\n",
        "226 - Predicted: 1 Actual: 1 [ 0.198 0.253 0.104 0.106 0.111 0.120 0.108 ]\n",
        "227 - Predicted: 1 Actual: 0 [ 0.368 0.476 0.071 0.005 0.016 0.034 0.030 ]\n",
        "228 - Predicted: 1 Actual: 1 [ 0.274 0.287 0.127 0.070 0.070 0.102 0.070 ]\n",
        "229 - Predicted: 1 Actual: 0 [ 0.242 0.339 0.073 0.076 0.086 0.103 0.081 ]\n",
        "230"
       ]
      },
      {
       "output_type": "stream",
       "stream": "stdout",
       "text": [
        " - Predicted: 1 Actual: 0 [ 0.367 0.477 0.071 0.005 0.016 0.034 0.030 ]\n",
        "231 - Predicted: 1 Actual: 1 [ 0.367 0.477 0.071 0.005 0.016 0.034 0.030 ]\n",
        "232 - Predicted: 1 Actual: 1 [ 0.367 0.477 0.071 0.005 0.016 0.034 0.030 ]\n",
        "233 - Predicted: 1 Actual: 0 [ 0.367 0.477 0.071 0.005 0.016 0.034 0.030 ]\n",
        "234 - Predicted: 1 Actual: 1 [ 0.367 0.477 0.071 0.005 0.016 0.034 0.030 ]\n",
        "235 - Predicted: 1 Actual: 0 [ 0.367 0.477 0.071 0.005 0.016 0.034 0.030 ]\n",
        "236 - Predicted: 1 Actual: 2 [ 0.220 0.416 0.169 0.033 0.046 0.074 0.042 ]\n",
        "237 - Predicted: 1 Actual: 0 [ 0.367 0.477 0.071 0.005 0.016 0.034 0.030 ]\n",
        "238 - Predicted: 1 Actual: 1 [ 0.222 0.423 0.170 0.030 0.043 0.073 0.040 ]\n",
        "239 - Predicted: 1 Actual: 1 [ 0.367 0.477 0.071 0.005 0.016 0.034 0.030 ]\n",
        "240"
       ]
      },
      {
       "output_type": "stream",
       "stream": "stdout",
       "text": [
        " - Predicted: 0 Actual: 1 [ 0.504 0.437 0.011 0.000 0.001 0.001 0.046 ]\n",
        "241 - Predicted: 0 Actual: 0 [ 0.835 0.013 0.048 0.004 0.031 0.024 0.046 ]\n",
        "242 - Predicted: 0 Actual: 1 [ 0.835 0.013 0.048 0.004 0.031 0.024 0.046 ]\n",
        "243 - Predicted: 0 Actual: 1 [ 0.835 0.013 0.048 0.004 0.031 0.024 0.046 ]\n",
        "244 - Predicted: 1 Actual: 0 [ 0.198 0.473 0.190 0.006 0.019 0.097 0.018 ]\n",
        "245 - Predicted: 0 Actual: 0 [ 0.504 0.437 0.011 0.000 0.001 0.001 0.046 ]\n",
        "246 - Predicted: 0 Actual: 0 [ 0.835 0.013 0.048 0.004 0.031 0.024 0.046 ]\n",
        "247 - Predicted: 0 Actual: 1 [ 0.835 0.013 0.048 0.004 0.031 0.024 0.046 ]\n",
        "248 - Predicted: 1 Actual: 2 [ 0.198 0.473 0.190 0.006 0.019 0.097 0.018 ]\n",
        "249 - Predicted: 0 Actual: 1 [ 0.835 0.013 0.048 0.004 0.031 0.024 0.046 ]\n",
        "250"
       ]
      },
      {
       "output_type": "stream",
       "stream": "stdout",
       "text": [
        " - Predicted: 1 Actual: 1 [ 0.422 0.515 0.017 0.000 0.011 0.007 0.028 ]\n",
        "251 - Predicted: 1 Actual: 0 [ 0.422 0.515 0.017 0.000 0.011 0.007 0.028 ]\n",
        "252 - Predicted: 1 Actual: 1 [ 0.422 0.515 0.017 0.000 0.011 0.007 0.028 ]\n",
        "253 - Predicted: 0 Actual: 1 [ 0.530 0.435 0.000 0.000 0.000 0.000 0.035 ]\n",
        "254 - Predicted: 1 Actual: 1 [ 0.422 0.515 0.017 0.000 0.011 0.007 0.028 ]\n",
        "255 - Predicted: 0 Actual: 0 [ 0.461 0.288 0.004 0.000 0.001 0.002 0.244 ]\n",
        "256 - Predicted: 1 Actual: 1 [ 0.422 0.515 0.017 0.000 0.011 0.007 0.028 ]\n",
        "257 - Predicted: 1 Actual: 0 [ 0.422 0.515 0.017 0.000 0.011 0.007 0.028 ]\n",
        "258 - Predicted: 5 Actual: 2 [ 0.008 0.040 0.351 0.001 0.000 0.600 0.000 ]\n",
        "259 - Predicted: 1 Actual: 0 [ 0.422 0.515 0.017 0.000 0.011 0.007 0.028 ]\n",
        "260"
       ]
      },
      {
       "output_type": "stream",
       "stream": "stdout",
       "text": [
        " - Predicted: 1 Actual: 1 [ 0.198 0.790 0.005 0.000 0.002 0.002 0.002 ]\n",
        "261 - Predicted: 1 Actual: 1 [ 0.206 0.386 0.169 0.029 0.059 0.114 0.037 ]\n",
        "262 - Predicted: 1 Actual: 0 [ 0.406 0.500 0.020 0.002 0.018 0.016 0.037 ]\n",
        "263 - Predicted: 1 Actual: 2 [ 0.123 0.711 0.110 0.006 0.016 0.019 0.015 ]\n",
        "264 - Predicted: 0 Actual: 0 [ 0.491 0.485 0.000 0.000 0.000 0.000 0.024 ]\n",
        "265 - Predicted: 1 Actual: 1 [ 0.161 0.413 0.235 0.027 0.047 0.061 0.056 ]\n",
        "266 - Predicted: 1 Actual: 0 [ 0.406 0.500 0.020 0.002 0.018 0.016 0.037 ]\n",
        "267 - Predicted: 1 Actual: 1 [ 0.406 0.500 0.020 0.002 0.018 0.016 0.037 ]\n",
        "268 - Predicted: 1 Actual: 0 [ 0.500 0.500 0.000 0.000 0.000 0.000 0.000 ]\n",
        "269 - Predicted: 1 Actual: 1 [ 0.406 0.500 0.020 0.002 0.018 0.016 0.037 ]\n",
        "270"
       ]
      },
      {
       "output_type": "stream",
       "stream": "stdout",
       "text": [
        " - Predicted: 0 Actual: 0 [ 0.499 0.499 0.000 0.000 0.000 0.000 0.002 ]\n",
        "271 - Predicted: 1 Actual: 1 [ 0.377 0.519 0.038 0.000 0.026 0.017 0.022 ]\n",
        "272 - Predicted: 1 Actual: 0 [ 0.414 0.510 0.009 0.000 0.004 0.000 0.062 ]\n",
        "273 - Predicted: 1 Actual: 0 [ 0.414 0.510 0.009 0.000 0.004 0.000 0.062 ]\n",
        "274 - Predicted: 1 Actual: 1 [ 0.213 0.571 0.141 0.000 0.029 0.043 0.003 ]\n",
        "275 - Predicted: 1 Actual: 1 [ 0.213 0.571 0.141 0.000 0.029 0.043 0.003 ]\n",
        "276 - Predicted: 1 Actual: 1 [ 0.414 0.510 0.009 0.000 0.004 0.000 0.062 ]\n",
        "277 - Predicted: 1 Actual: 0 [ 0.414 0.510 0.009 0.000 0.004 0.000 0.062 ]\n",
        "278 - Predicted: 1 Actual: 1 [ 0.351 0.647 0.000 0.000 0.000 0.000 0.002 ]\n",
        "279 - Predicted: 1 Actual: 2 [ 0.250 0.420 0.181 0.001 0.021 0.109 0.018 ]\n",
        "280"
       ]
      },
      {
       "output_type": "stream",
       "stream": "stdout",
       "text": [
        " - Predicted: 1 Actual: 0 [ 0.435 0.515 0.000 0.000 0.000 0.000 0.050 ]\n",
        "281 - Predicted: 0 Actual: 0 [ 0.354 0.310 0.184 0.021 0.011 0.065 0.055 ]\n",
        "282 - Predicted: 1 Actual: 0 [ 0.164 0.555 0.174 0.000 0.021 0.047 0.038 ]\n",
        "283 - Predicted: 1 Actual: 0 [ 0.296 0.390 0.156 0.000 0.000 0.000 0.158 ]\n",
        "284 - Predicted: 0 Actual: 1 [ 0.764 0.235 0.000 0.000 0.000 0.000 0.001 ]\n",
        "285 - Predicted: 0 Actual: 1 [ 0.458 0.438 0.000 0.000 0.000 0.000 0.104 ]\n",
        "286 - Predicted: 0 Actual: 1 [ 0.458 0.438 0.000 0.000 0.000 0.000 0.104 ]\n",
        "287 - Predicted: 1 Actual: 2 [ 0.164 0.561 0.174 0.000 0.019 0.046 0.036 ]\n",
        "288 - Predicted: 0 Actual: 1 [ 0.287 0.287 0.212 0.000 0.000 0.000 0.213 ]\n",
        "289 - Predicted: 1 Actual: 1 [ 0.435 0.515 0.000 0.000 0.000 0.000 0.050 ]\n",
        "290"
       ]
      },
      {
       "output_type": "stream",
       "stream": "stdout",
       "text": [
        " - Predicted: 1 Actual: 2 [ 0.354 0.431 0.176 0.000 0.003 0.032 0.005 ]\n",
        "291 - Predicted: 1 Actual: 0 [ 0.349 0.591 0.030 0.000 0.020 0.001 0.010 ]\n",
        "292 - Predicted: 0 Actual: 1 [ 0.546 0.382 0.000 0.000 0.000 0.000 0.072 ]\n",
        "293 - Predicted: 1 Actual: 1 [ 0.349 0.591 0.030 0.000 0.020 0.001 0.010 ]\n",
        "294 - Predicted: 0 Actual: 0 [ 0.546 0.382 0.000 0.000 0.000 0.000 0.072 ]\n",
        "295 - Predicted: 1 Actual: 1 [ 0.320 0.677 0.001 0.000 0.001 0.000 0.001 ]\n",
        "296 - Predicted: 1 Actual: 0 [ 0.212 0.652 0.104 0.000 0.007 0.014 0.010 ]\n",
        "297 - Predicted: 1 Actual: 1 [ 0.354 0.431 0.176 0.000 0.003 0.032 0.005 ]\n",
        "298 - Predicted: 1 Actual: 0 [ 0.461 0.536 0.000 0.000 0.000 0.000 0.003 ]\n",
        "299 - Predicted: 1 Actual: 1 [ 0.500 0.500 0.000 0.000 0.000 0.000 0.000 ]\n",
        "300"
       ]
      },
      {
       "output_type": "stream",
       "stream": "stdout",
       "text": [
        " - Predicted: 1 Actual: 1 [ 0.197 0.553 0.137 0.000 0.024 0.080 0.009 ]\n",
        "301 - Predicted: 0 Actual: 1 [ 0.426 0.418 0.048 0.000 0.001 0.108 0.000 ]\n",
        "302 - Predicted: 1 Actual: 1 [ 0.437 0.554 0.001 0.000 0.007 0.000 0.000 ]\n",
        "303 - Predicted: 0 Actual: 1 [ 0.513 0.485 0.001 0.000 0.000 0.000 0.000 ]\n",
        "304 - Predicted: 1 Actual: 0 [ 0.261 0.722 0.000 0.000 0.005 0.006 0.005 ]\n",
        "305 - Predicted: 1 Actual: 0 [ 0.420 0.567 0.013 0.000 0.000 0.000 0.000 ]\n",
        "306 - Predicted: 1 Actual: 0 [ 0.364 0.635 0.000 0.000 0.000 0.000 0.000 ]\n",
        "307 - Predicted: 1 Actual: 0 [ 0.437 0.554 0.001 0.000 0.008 0.000 0.001 ]\n",
        "308 - Predicted: 5 Actual: 2 [ 0.001 0.011 0.214 0.005 0.000 0.769 0.000 ]\n",
        "309 - Predicted: 1 Actual: 1 [ 0.375 0.493 0.010 0.000 0.000 0.010 0.112 ]\n",
        "310"
       ]
      },
      {
       "output_type": "stream",
       "stream": "stdout",
       "text": [
        " - Predicted: 1 Actual: 1 [ 0.063 0.593 0.202 0.000 0.000 0.142 0.000 ]\n",
        "311 - Predicted: 1 Actual: 0 [ 0.006 0.597 0.244 0.000 0.008 0.145 0.000 ]\n",
        "312 - Predicted: 1 Actual: 2 [ 0.013 0.552 0.248 0.000 0.022 0.166 0.000 ]\n",
        "313 - Predicted: 1 Actual: 0 [ 0.380 0.586 0.000 0.000 0.033 0.000 0.000 ]\n",
        "314 - Predicted: 1 Actual: 1 [ 0.384 0.596 0.000 0.000 0.001 0.019 0.000 ]\n",
        "315 - Predicted: 1 Actual: 1 [ 0.147 0.735 0.110 0.003 0.003 0.001 0.001 ]\n",
        "316 - Predicted: 1 Actual: 1 [ 0.337 0.461 0.083 0.007 0.025 0.052 0.034 ]\n",
        "317 - Predicted: 1 Actual: 0 [ 0.380 0.586 0.000 0.000 0.033 0.000 0.000 ]\n",
        "318 - Predicted: 1 Actual: 0 [ 0.380 0.586 0.000 0.000 0.033 0.000 0.000 ]\n",
        "319 - Predicted: 1 Actual: 1 [ 0.402 0.469 0.051 0.009 0.016 0.027 0.025 ]\n",
        "320"
       ]
      },
      {
       "output_type": "stream",
       "stream": "stdout",
       "text": [
        " - Predicted: 5 Actual: 2 [ 0.111 0.153 0.230 0.000 0.000 0.506 0.000 ]\n",
        "321 - Predicted: 1 Actual: 0 [ 0.149 0.635 0.141 0.000 0.000 0.000 0.075 ]\n",
        "322 - Predicted: 0 Actual: 1 [ 0.701 0.299 0.000 0.000 0.000 0.000 0.000 ]\n",
        "323 - Predicted: 1 Actual: 0 [ 0.281 0.420 0.088 0.000 0.071 0.003 0.139 ]\n",
        "324 - Predicted: 1 Actual: 1 [ 0.367 0.625 0.000 0.000 0.007 0.000 0.000 ]\n",
        "325 - Predicted: 0 Actual: 1 [ 0.597 0.398 0.003 0.000 0.000 0.000 0.003 ]\n",
        "326 - Predicted: 1 Actual: 1 [ 0.407 0.557 0.000 0.000 0.000 0.000 0.036 ]\n",
        "327 - Predicted: 1 Actual: 0 [ 0.400 0.543 0.010 0.000 0.001 0.001 0.045 ]\n",
        "328 - Predicted: 0 Actual: 0 [ 0.489 0.463 0.001 0.000 0.000 0.000 0.047 ]\n",
        "329 - Predicted: 0 Actual: 1 [ 0.582 0.181 0.000 0.000 0.000 0.000 0.236 ]\n",
        "330"
       ]
      },
      {
       "output_type": "stream",
       "stream": "stdout",
       "text": [
        " - Predicted: 1 Actual: 0 [ 0.500 0.500 0.000 0.000 0.000 0.001 0.000 ]\n",
        "331 - Predicted: 1 Actual: 2 [ 0.141 0.672 0.097 0.010 0.028 0.040 0.012 ]\n",
        "332 - Predicted: 1 Actual: 1 [ 0.193 0.772 0.002 0.000 0.031 0.001 0.001 ]\n",
        "333 - Predicted: 1 Actual: 1 [ 0.118 0.801 0.012 0.009 0.009 0.010 0.042 ]\n",
        "334 - Predicted: 1 Actual: 1 [ 0.386 0.613 0.000 0.000 0.001 0.000 0.000 ]\n",
        "335 - Predicted: 1 Actual: 1 [ 0.108 0.891 0.001 0.000 0.000 0.000 0.000 ]\n",
        "336 - Predicted: 1 Actual: 0 [ 0.075 0.570 0.211 0.003 0.002 0.138 0.001 ]\n",
        "337 - Predicted: 0 Actual: 0 [ 0.900 0.092 0.002 0.001 0.001 0.001 0.004 ]\n",
        "338 - Predicted: 1 Actual: 0 [ 0.431 0.550 0.000 0.000 0.001 0.001 0.018 ]\n",
        "339 - Predicted: 1 Actual: 1 [ 0.198 0.789 0.005 0.000 0.003 0.002 0.002 ]\n",
        "340"
       ]
      },
      {
       "output_type": "stream",
       "stream": "stdout",
       "text": [
        " - Predicted: 1 Actual: 1 [ 0.422 0.578 0.000 0.000 0.000 0.000 0.000 ]\n",
        "341 - Predicted: 0 Actual: 0 [ 0.489 0.407 0.027 0.002 0.015 0.002 0.058 ]\n",
        "342 - Predicted: 1 Actual: 1 [ 0.300 0.566 0.088 0.000 0.001 0.045 0.000 ]\n",
        "343 - Predicted: 1 Actual: 1 [ 0.381 0.569 0.006 0.006 0.011 0.014 0.012 ]\n",
        "344 - Predicted: 1 Actual: 0 [ 0.198 0.473 0.190 0.006 0.019 0.097 0.018 ]\n",
        "345 - Predicted: 1 Actual: 2 [ 0.260 0.567 0.022 0.000 0.002 0.014 0.135 ]\n",
        "346 - Predicted: 0 Actual: 0 [ 0.613 0.387 0.000 0.000 0.000 0.000 0.000 ]\n",
        "347 - Predicted: 1 Actual: 1 [ 0.398 0.602 0.000 0.000 0.000 0.000 0.000 ]\n",
        "348 - Predicted: 0 Actual: 1 [ 0.816 0.171 0.001 0.000 0.000 0.001 0.011 ]\n",
        "349 - Predicted: 0 Actual: 0 [ 0.515 0.485 0.000 0.000 0.000 0.000 0.000 ]\n",
        "350"
       ]
      },
      {
       "output_type": "stream",
       "stream": "stdout",
       "text": [
        " - Predicted: 2 Actual: 2 [ 0.033 0.141 0.518 0.012 0.002 0.293 0.001 ]\n",
        "351 - Predicted: 1 Actual: 1 [ 0.010 0.386 0.279 0.009 0.118 0.199 0.000 ]\n",
        "352 - Predicted: 1 Actual: 0 [ 0.331 0.341 0.164 0.000 0.000 0.000 0.164 ]\n",
        "353 - Predicted: 1 Actual: 1 [ 0.386 0.609 0.002 0.001 0.000 0.002 0.000 ]\n",
        "354 - Predicted: 0 Actual: 1 [ 0.831 0.164 0.001 0.000 0.001 0.000 0.003 ]\n",
        "355 - Predicted: 1 Actual: 0 [ 0.427 0.572 0.000 0.000 0.000 0.000 0.000 ]\n",
        "356 - Predicted: 1 Actual: 1 [ 0.406 0.412 0.000 0.000 0.182 0.000 0.000 ]\n",
        "357 - Predicted: 0 Actual: 0 [ 0.977 0.023 0.000 0.000 0.000 0.000 0.000 ]\n",
        "358 - Predicted: 1 Actual: 0 [ 0.289 0.529 0.098 0.000 0.013 0.059 0.012 ]\n",
        "359 - Predicted: 1 Actual: 1 [ 0.066 0.928 0.004 0.000 0.000 0.002 0.000 ]\n",
        "360"
       ]
      },
      {
       "output_type": "stream",
       "stream": "stdout",
       "text": [
        " - Predicted: 1 Actual: 1 [ 0.103 0.611 0.109 0.035 0.052 0.035 0.055 ]\n",
        "361 - Predicted: 1 Actual: 1 [ 0.301 0.466 0.188 0.003 0.006 0.033 0.003 ]\n",
        "362 - Predicted: 0 Actual: 0 [ 0.553 0.447 0.000 0.000 0.000 0.000 0.000 ]\n",
        "363 - Predicted: 2 Actual: 2 [ 0.084 0.153 0.460 0.046 0.050 0.158 0.048 ]\n",
        "364 - Predicted: 1 Actual: 0 [ 0.444 0.551 0.000 0.000 0.000 0.005 0.000 ]\n",
        "365 - Predicted: 1 Actual: 1 [ 0.416 0.431 0.040 0.000 0.000 0.060 0.053 ]\n",
        "366 - Predicted: 1 Actual: 0 [ 0.408 0.577 0.003 0.000 0.006 0.001 0.005 ]\n",
        "367 - Predicted: 0 Actual: 1 [ 0.624 0.233 0.120 0.000 0.002 0.020 0.000 ]\n",
        "368 - Predicted: 1 Actual: 0 [ 0.485 0.515 0.000 0.000 0.000 0.000 0.000 ]\n",
        "369 - Predicted: 1 Actual: 1 [ 0.403 0.595 0.000 0.000 0.000 0.000 0.002 ]\n",
        "370"
       ]
      },
      {
       "output_type": "stream",
       "stream": "stdout",
       "text": [
        " - Predicted: 0 Actual: 1 [ 0.419 0.317 0.010 0.000 0.000 0.253 0.000 ]\n",
        "371 - Predicted: 1 Actual: 0 [ 0.363 0.446 0.108 0.036 0.039 0.004 0.003 ]\n",
        "372 - Predicted: 1 Actual: 1 [ 0.476 0.521 0.000 0.000 0.004 0.000 0.000 ]\n",
        "373 - Predicted: 0 Actual: 0 [ 0.848 0.150 0.000 0.000 0.000 0.000 0.001 ]\n",
        "374 - Predicted: 1 Actual: 1 [ 0.200 0.426 0.086 0.024 0.257 0.004 0.003 ]\n",
        "375 - Predicted: 1 Actual: 1 [ 0.285 0.669 0.023 0.000 0.000 0.000 0.023 ]\n",
        "376 - Predicted: 2 Actual: 2 [ 0.043 0.188 0.455 0.078 0.044 0.192 0.000 ]\n",
        "377 - Predicted: 0 Actual: 0 [ 0.602 0.398 0.000 0.000 0.000 0.000 0.000 ]\n",
        "378 - Predicted: 0 Actual: 0 [ 0.565 0.419 0.004 0.000 0.004 0.000 0.008 ]\n",
        "379 - Predicted: 1 Actual: 1 [ 0.175 0.540 0.161 0.000 0.035 0.021 0.069 ]\n",
        "380"
       ]
      },
      {
       "output_type": "stream",
       "stream": "stdout",
       "text": [
        " - Predicted: 2 Actual: 2 [ 0.078 0.138 0.599 0.000 0.001 0.183 0.000 ]\n",
        "381 - Predicted: 0 Actual: 0 [ 0.326 0.251 0.099 0.025 0.100 0.099 0.100 ]\n",
        "382 - Predicted: 1 Actual: 1 [ 0.188 0.811 0.000 0.000 0.001 0.000 0.000 ]\n",
        "383 - Predicted: 0 Actual: 0 [ 0.462 0.398 0.008 0.002 0.061 0.009 0.060 ]\n",
        "384 - Predicted: 1 Actual: 0 [ 0.090 0.848 0.032 0.001 0.007 0.006 0.015 ]\n",
        "385 - Predicted: 1 Actual: 1 [ 0.459 0.533 0.000 0.000 0.005 0.000 0.003 ]\n",
        "386 - Predicted: 0 Actual: 0 [ 0.645 0.215 0.001 0.000 0.001 0.000 0.138 ]\n",
        "387 - Predicted: 0 Actual: 1 [ 0.439 0.389 0.000 0.000 0.000 0.000 0.172 ]\n",
        "388 - Predicted: 1 Actual: 1 [ 0.411 0.460 0.028 0.005 0.082 0.010 0.005 ]\n",
        "389 - Predicted: 1 Actual: 1 [ 0.286 0.411 0.084 0.002 0.001 0.216 0.000 ]\n",
        "390"
       ]
      },
      {
       "output_type": "stream",
       "stream": "stdout",
       "text": [
        " - Predicted: 0 Actual: 1 [ 0.469 0.463 0.001 0.000 0.000 0.000 0.068 ]\n",
        "391 - Predicted: 1 Actual: 0 [ 0.243 0.292 0.083 0.132 0.083 0.083 0.083 ]\n",
        "392 - Predicted: 1 Actual: 1 [ 0.435 0.555 0.001 0.000 0.008 0.000 0.000 ]\n",
        "393 - Predicted: 0 Actual: 1 [ 0.491 0.485 0.002 0.000 0.000 0.000 0.021 ]\n",
        "394 - Predicted: 1 Actual: 1 [ 0.375 0.586 0.000 0.000 0.000 0.000 0.040 ]\n",
        "395 - Predicted: 1 Actual: 0 [ 0.435 0.555 0.001 0.000 0.008 0.000 0.000 ]\n",
        "396 - Predicted: 2 Actual: 2 [ 0.001 0.007 0.504 0.002 0.003 0.483 0.000 ]\n",
        "397 - Predicted: 1 Actual: 0 [ 0.435 0.555 0.001 0.000 0.008 0.000 0.000 ]\n",
        "398 - Predicted: 0 Actual: 0 [ 0.846 0.114 0.007 0.000 0.000 0.000 0.032 ]\n",
        "399 - Predicted: 1 Actual: 1 [ 0.389 0.470 0.033 0.023 0.028 0.027 0.031 ]\n",
        "400"
       ]
      },
      {
       "output_type": "stream",
       "stream": "stdout",
       "text": [
        " - Predicted: 1 Actual: 0 [ 0.183 0.325 0.098 0.098 0.098 0.098 0.100 ]\n",
        "401 - Predicted: 0 Actual: 1 [ 0.526 0.408 0.003 0.002 0.004 0.003 0.054 ]\n",
        "402 - Predicted: 1 Actual: 0 [ 0.271 0.324 0.081 0.080 0.084 0.080 0.080 ]\n",
        "403 - Predicted: 1 Actual: 0 [ 0.160 0.171 0.135 0.132 0.135 0.132 0.135 ]\n",
        "404 - Predicted: 0 Actual: 0 [ 0.253 0.251 0.098 0.098 0.098 0.098 0.105 ]\n",
        "405 - Predicted: 1 Actual: 1 [ 0.219 0.279 0.107 0.063 0.117 0.107 0.107 ]\n",
        "406 - Predicted: 0 Actual: 1 [ 0.247 0.193 0.110 0.109 0.113 0.115 0.113 ]\n",
        "407 - Predicted: 1 Actual: 1 [ 0.187 0.286 0.105 0.105 0.105 0.105 0.106 ]\n",
        "408 - Predicted: 1 Actual: 1 [ 0.200 0.733 0.002 0.000 0.063 0.001 0.001 ]\n",
        "409 - Predicted: 0 Actual: 2 [ 0.151 0.148 0.151 0.107 0.148 0.148 0.148 ]\n",
        "410"
       ]
      },
      {
       "output_type": "stream",
       "stream": "stdout",
       "text": [
        " - Predicted: 1 Actual: 1 [ 0.163 0.166 0.134 0.134 0.134 0.134 0.134 ]\n",
        "411 - Predicted: 1 Actual: 2 [ 0.287 0.349 0.135 0.030 0.030 0.138 0.030 ]\n",
        "412 - Predicted: 1 Actual: 0 [ 0.240 0.575 0.037 0.037 0.037 0.037 0.038 ]\n",
        "413 - Predicted: 1 Actual: 0 [ 0.144 0.204 0.139 0.095 0.139 0.139 0.139 ]\n",
        "414 - Predicted: 0 Actual: 0 [ 0.764 0.064 0.034 0.034 0.034 0.034 0.035 ]\n",
        "415 - Predicted: 0 Actual: 1 [ 0.186 0.153 0.140 0.094 0.140 0.140 0.149 ]\n",
        "416 - Predicted: 0 Actual: 1 [ 0.253 0.206 0.102 0.069 0.102 0.102 0.166 ]\n",
        "417 - Predicted: 1 Actual: 0 [ 0.347 0.493 0.032 0.032 0.032 0.032 0.033 ]\n",
        "418 - Predicted: 0 Actual: 1 [ 0.278 0.149 0.123 0.080 0.123 0.123 0.124 ]\n",
        "419 - Predicted: 1 Actual: 1 [ 0.070 0.567 0.196 0.032 0.045 0.058 0.032 ]\n",
        "420"
       ]
      },
      {
       "output_type": "stream",
       "stream": "stdout",
       "text": [
        " - Predicted: 1 Actual: 1 [ 0.103 0.504 0.276 0.015 0.007 0.093 0.003 ]\n",
        "421 - Predicted: 1 Actual: 0 [ 0.422 0.515 0.017 0.000 0.011 0.007 0.028 ]\n",
        "422 - Predicted: 1 Actual: 0 [ 0.422 0.515 0.017 0.000 0.011 0.007 0.028 ]\n",
        "423 - Predicted: 1 Actual: 1 [ 0.422 0.515 0.017 0.000 0.011 0.007 0.028 ]\n",
        "424 - Predicted: 1 Actual: 0 [ 0.422 0.515 0.017 0.000 0.011 0.007 0.028 ]\n",
        "425 - Predicted: 1 Actual: 1 [ 0.306 0.693 0.000 0.000 0.000 0.000 0.001 ]\n",
        "426 - Predicted: 1 Actual: 1 [ 0.422 0.515 0.017 0.000 0.011 0.007 0.028 ]\n",
        "427 - Predicted: 1 Actual: 1 [ 0.375 0.472 0.070 0.005 0.017 0.031 0.030 ]\n",
        "428 - Predicted: 0 Actual: 0 [ 0.374 0.261 0.063 0.063 0.063 0.063 0.113 ]\n",
        "429 - Predicted: 1 Actual: 2 [ 0.375 0.472 0.070 0.005 0.017 0.031 0.030 ]\n",
        "430"
       ]
      },
      {
       "output_type": "stream",
       "stream": "stdout",
       "text": [
        " - Predicted: 1 Actual: 0 [ 0.314 0.357 0.009 0.000 0.003 0.003 0.314 ]\n",
        "431 - Predicted: 1 Actual: 1 [ 0.245 0.426 0.164 0.015 0.015 0.075 0.060 ]\n",
        "432 - Predicted: 1 Actual: 0 [ 0.405 0.518 0.024 0.000 0.016 0.010 0.026 ]\n",
        "433 - Predicted: 0 Actual: 1 [ 0.516 0.476 0.002 0.001 0.001 0.002 0.002 ]\n",
        "434 - Predicted: 1 Actual: 1 [ 0.405 0.518 0.024 0.000 0.016 0.010 0.026 ]\n",
        "435 - Predicted: 1 Actual: 1 [ 0.245 0.426 0.164 0.015 0.015 0.075 0.060 ]\n",
        "436 - Predicted: 1 Actual: 1 [ 0.295 0.672 0.004 0.001 0.003 0.001 0.022 ]\n",
        "437 - Predicted: 1 Actual: 0 [ 0.402 0.514 0.025 0.001 0.017 0.011 0.028 ]\n",
        "438 - Predicted: 1 Actual: 0 [ 0.405 0.518 0.024 0.000 0.016 0.010 0.026 ]\n",
        "439 - Predicted: 1 Actual: 2 [ 0.245 0.426 0.164 0.015 0.015 0.075 0.060 ]\n",
        "440"
       ]
      },
      {
       "output_type": "stream",
       "stream": "stdout",
       "text": [
        " - Predicted: 0 Actual: 1 [ 0.174 0.163 0.174 0.001 0.163 0.163 0.163 ]\n",
        "441 - Predicted: 1 Actual: 0 [ 0.390 0.523 0.010 0.001 0.001 0.035 0.040 ]\n",
        "442 - Predicted: 1 Actual: 0 [ 0.392 0.524 0.009 0.000 0.000 0.035 0.040 ]\n",
        "443 - Predicted: 1 Actual: 0 [ 0.392 0.524 0.009 0.000 0.000 0.035 0.040 ]\n",
        "444 - Predicted: 1 Actual: 1 [ 0.207 0.793 0.000 0.000 0.000 0.000 0.000 ]\n",
        "445 - Predicted: 0 Actual: 0 [ 0.842 0.143 0.005 0.001 0.002 0.003 0.003 ]\n",
        "446 - Predicted: 1 Actual: 1 [ 0.405 0.538 0.019 0.000 0.010 0.000 0.029 ]\n",
        "447 - Predicted: 1 Actual: 1 [ 0.392 0.524 0.009 0.000 0.000 0.035 0.040 ]\n",
        "448 - Predicted: 1 Actual: 1 [ 0.392 0.524 0.009 0.000 0.000 0.035 0.040 ]\n",
        "449 - Predicted: 1 Actual: 2 [ 0.286 0.373 0.196 0.006 0.035 0.055 0.048 ]\n",
        "450"
       ]
      },
      {
       "output_type": "stream",
       "stream": "stdout",
       "text": [
        " - Predicted: 1 Actual: 2 [ 0.040 0.493 0.341 0.012 0.002 0.109 0.003 ]\n",
        "451 - Predicted: 1 Actual: 0 [ 0.417 0.508 0.014 0.000 0.009 0.009 0.044 ]\n",
        "452 - Predicted: 1 Actual: 1 [ 0.417 0.508 0.014 0.000 0.009 0.009 0.044 ]\n",
        "453 - Predicted: 1 Actual: 1 [ 0.417 0.508 0.014 0.000 0.009 0.009 0.044 ]\n",
        "454 - Predicted: 1 Actual: 0 [ 0.374 0.539 0.023 0.000 0.023 0.039 0.002 ]\n",
        "455 - Predicted: 1 Actual: 1 [ 0.417 0.508 0.014 0.000 0.009 0.009 0.044 ]\n",
        "456 - Predicted: 1 Actual: 1 [ 0.362 0.483 0.063 0.007 0.018 0.031 0.036 ]\n",
        "457 - Predicted: 0 Actual: 0 [ 0.517 0.364 0.002 0.001 0.010 0.002 0.103 ]\n",
        "458 - Predicted: 0 Actual: 0 [ 0.503 0.492 0.000 0.000 0.000 0.000 0.005 ]\n",
        "459 - Predicted: 1 Actual: 1 [ 0.294 0.455 0.123 0.000 0.008 0.008 0.112 ]\n",
        "460"
       ]
      },
      {
       "output_type": "stream",
       "stream": "stdout",
       "text": [
        " - Predicted: 1 Actual: 0 [ 0.422 0.500 0.001 0.000 0.000 0.000 0.076 ]\n",
        "461 - Predicted: 1 Actual: 0 [ 0.353 0.616 0.010 0.000 0.018 0.000 0.002 ]\n",
        "462 - Predicted: 1 Actual: 0 [ 0.351 0.612 0.011 0.001 0.020 0.002 0.003 ]\n",
        "463 - Predicted: 1 Actual: 1 [ 0.353 0.616 0.010 0.000 0.018 0.000 0.002 ]\n",
        "464 - Predicted: 0 Actual: 0 [ 0.362 0.214 0.064 0.064 0.064 0.064 0.168 ]\n",
        "465 - Predicted: 0 Actual: 1 [ 0.468 0.467 0.001 0.000 0.002 0.000 0.062 ]\n",
        "466 - Predicted: 1 Actual: 1 [ 0.365 0.486 0.062 0.005 0.016 0.030 0.038 ]\n",
        "467 - Predicted: 0 Actual: 1 [ 0.466 0.464 0.001 0.000 0.004 0.002 0.063 ]\n",
        "468 - Predicted: 1 Actual: 2 [ 0.353 0.616 0.010 0.000 0.018 0.000 0.002 ]\n",
        "469 - Predicted: 0 Actual: 1 [ 0.510 0.453 0.014 0.000 0.007 0.008 0.007 ]\n",
        "470"
       ]
      },
      {
       "output_type": "stream",
       "stream": "stdout",
       "text": [
        " - Predicted: 1 Actual: 1 [ 0.382 0.550 0.000 0.000 0.000 0.000 0.067 ]\n",
        "471 - Predicted: 1 Actual: 0 [ 0.283 0.638 0.009 0.000 0.009 0.000 0.060 ]\n",
        "472 - Predicted: 1 Actual: 1 [ 0.416 0.496 0.000 0.000 0.001 0.000 0.088 ]\n",
        "473 - Predicted: 2 Actual: 2 [ 0.003 0.195 0.469 0.000 0.070 0.263 0.000 ]\n",
        "474 - Predicted: 0 Actual: 1 [ 0.488 0.408 0.038 0.000 0.000 0.000 0.066 ]\n",
        "475 - Predicted: 1 Actual: 1 [ 0.382 0.550 0.000 0.000 0.000 0.000 0.067 ]\n",
        "476 - Predicted: 1 Actual: 0 [ 0.430 0.570 0.000 0.000 0.000 0.000 0.000 ]\n",
        "477 - Predicted: 1 Actual: 0 [ 0.456 0.521 0.001 0.000 0.001 0.011 0.010 ]\n",
        "478 - Predicted: 0 Actual: 1 [ 0.392 0.367 0.003 0.000 0.001 0.001 0.236 ]\n",
        "479 - Predicted: 0 Actual: 0 [ 0.510 0.490 0.000 0.000 0.000 0.000 0.000 ]\n",
        "480"
       ]
      },
      {
       "output_type": "stream",
       "stream": "stdout",
       "text": [
        " - Predicted: 1 Actual: 0 [ 0.285 0.702 0.004 0.000 0.004 0.006 0.000 ]\n",
        "481 - Predicted: 1 Actual: 2 [ 0.100 0.407 0.359 0.010 0.039 0.085 0.000 ]\n",
        "482 - Predicted: 1 Actual: 1 [ 0.457 0.542 0.000 0.000 0.000 0.000 0.000 ]\n",
        "483 - Predicted: 1 Actual: 0 [ 0.468 0.502 0.000 0.000 0.000 0.000 0.029 ]\n",
        "484 - Predicted: 1 Actual: 0 [ 0.237 0.674 0.001 0.000 0.033 0.055 0.000 ]\n",
        "485 - Predicted: 1 Actual: 1 [ 0.451 0.533 0.008 0.000 0.004 0.000 0.004 ]\n",
        "486 - Predicted: 1 Actual: 0 [ 0.412 0.565 0.000 0.000 0.000 0.000 0.023 ]\n",
        "487 - Predicted: 1 Actual: 1 [ 0.474 0.523 0.000 0.000 0.003 0.000 0.000 ]\n",
        "488 - Predicted: 1 Actual: 1 [ 0.329 0.631 0.035 0.000 0.000 0.000 0.004 ]\n",
        "489 - Predicted: 1 Actual: 1 [ 0.467 0.501 0.001 0.000 0.001 0.000 0.030 ]\n",
        "490"
       ]
      },
      {
       "output_type": "stream",
       "stream": "stdout",
       "text": [
        " - Predicted: 1 Actual: 1 [ 0.478 0.521 0.000 0.000 0.000 0.000 0.001 ]\n",
        "491 - Predicted: 0 Actual: 0 [ 0.509 0.370 0.000 0.000 0.000 0.000 0.121 ]\n",
        "492 - Predicted: 0 Actual: 1 [ 0.514 0.484 0.000 0.000 0.000 0.000 0.001 ]\n",
        "493 - Predicted: 1 Actual: 2 [ 0.165 0.314 0.270 0.159 0.061 0.015 0.016 ]\n",
        "494 - Predicted: 1 Actual: 0 [ 0.390 0.503 0.000 0.000 0.000 0.000 0.107 ]\n",
        "495 - Predicted: 1 Actual: 1 [ 0.393 0.543 0.021 0.000 0.008 0.028 0.008 ]\n",
        "496 - Predicted: 1 Actual: 1 [ 0.066 0.547 0.282 0.000 0.022 0.083 0.000 ]\n",
        "497 - Predicted: 1 Actual: 1 [ 0.500 0.500 0.000 0.000 0.000 0.000 0.000 ]\n",
        "498 - Predicted: 0 Actual: 0 [ 0.747 0.193 0.001 0.000 0.000 0.000 0.060 ]\n",
        "499 - Predicted: 0 Actual: 0 [ 0.525 0.429 0.000 0.000 0.017 0.012 0.017 ]\n",
        "500"
       ]
      },
      {
       "output_type": "stream",
       "stream": "stdout",
       "text": [
        " - Predicted: 1 Actual: 1 [ 0.399 0.589 0.000 0.000 0.010 0.000 0.002 ]\n",
        "501 - Predicted: 0 Actual: 0 [ 0.729 0.271 0.000 0.000 0.000 0.000 0.000 ]\n",
        "502 - Predicted: 1 Actual: 2 [ 0.163 0.410 0.243 0.025 0.008 0.147 0.004 ]\n",
        "503 - Predicted: 1 Actual: 0 [ 0.077 0.696 0.117 0.000 0.041 0.069 0.000 ]\n",
        "504 - Predicted: 0 Actual: 1 [ 0.500 0.500 0.000 0.000 0.000 0.000 0.000 ]\n",
        "505 - Predicted: 1 Actual: 0 [ 0.399 0.590 0.000 0.000 0.010 0.000 0.001 ]\n",
        "506 - Predicted: 0 Actual: 1 [ 0.656 0.344 0.000 0.000 0.000 0.000 0.001 ]\n",
        "507 - Predicted: 0 Actual: 0 [ 0.458 0.305 0.002 0.000 0.002 0.000 0.233 ]\n",
        "508 - Predicted: 1 Actual: 1 [ 0.399 0.590 0.000 0.000 0.010 0.000 0.001 ]\n",
        "509 - Predicted: 1 Actual: 1 [ 0.377 0.463 0.031 0.000 0.031 0.031 0.067 ]\n",
        "510"
       ]
      },
      {
       "output_type": "stream",
       "stream": "stdout",
       "text": [
        " - Predicted: 1 Actual: 1 [ 0.361 0.424 0.198 0.000 0.000 0.000 0.018 ]\n",
        "511 - Predicted: 1 Actual: 1 [ 0.244 0.751 0.001 0.000 0.002 0.001 0.001 ]\n",
        "512 - Predicted: 0 Actual: 0 [ 0.753 0.074 0.000 0.000 0.000 0.000 0.173 ]\n",
        "513 - Predicted: 1 Actual: 1 [ 0.180 0.695 0.061 0.003 0.016 0.038 0.006 ]\n",
        "514 - Predicted: 1 Actual: 0 [ 0.206 0.560 0.084 0.002 0.066 0.072 0.010 ]\n",
        "515 - Predicted: 1 Actual: 0 [ 0.242 0.679 0.003 0.002 0.032 0.002 0.039 ]\n",
        "516 - Predicted: 1 Actual: 1 [ 0.327 0.608 0.003 0.000 0.002 0.001 0.057 ]\n",
        "517 - Predicted: 2 Actual: 2 [ 0.137 0.220 0.226 0.132 0.133 0.153 0.000 ]\n",
        "518 - Predicted: 0 Actual: 0 [ 0.556 0.408 0.001 0.001 0.017 0.002 0.015 ]\n",
        "519 - Predicted: 0 Actual: 1 [ 0.572 0.428 0.000 0.000 0.000 0.000 0.000 ]\n",
        "520"
       ]
      },
      {
       "output_type": "stream",
       "stream": "stdout",
       "text": [
        " - Predicted: 0 Actual: 0 [ 0.333 0.255 0.071 0.071 0.075 0.072 0.123 ]\n",
        "521 - Predicted: 1 Actual: 0 [ 0.249 0.365 0.077 0.077 0.077 0.077 0.077 ]\n",
        "522 - Predicted: 1 Actual: 2 [ 0.101 0.229 0.216 0.102 0.104 0.150 0.097 ]\n",
        "523 - Predicted: 0 Actual: 0 [ 0.431 0.241 0.065 0.065 0.067 0.065 0.065 ]\n",
        "524 - Predicted: 1 Actual: 1 [ 0.205 0.518 0.055 0.055 0.055 0.055 0.055 ]\n",
        "525 - Predicted: 0 Actual: 0 [ 0.494 0.481 0.004 0.002 0.008 0.003 0.008 ]\n",
        "526 - Predicted: 1 Actual: 1 [ 0.154 0.164 0.159 0.143 0.144 0.154 0.083 ]\n",
        "527 - Predicted: 1 Actual: 1 [ 0.273 0.707 0.000 0.000 0.021 0.000 0.000 ]\n",
        "528 - Predicted: 1 Actual: 1 [ 0.112 0.476 0.115 0.061 0.094 0.081 0.061 ]\n",
        "529 - Predicted: 1 Actual: 1 [ 0.330 0.365 0.061 0.061 0.061 0.061 0.061 ]\n",
        "530"
       ]
      },
      {
       "output_type": "stream",
       "stream": "stdout",
       "text": [
        " - Predicted: 0 Actual: 0 [ 0.501 0.497 0.000 0.000 0.001 0.000 0.000 ]\n",
        "531 - Predicted: 1 Actual: 1 [ 0.135 0.865 0.000 0.000 0.000 0.000 0.000 ]\n",
        "532 - Predicted: 0 Actual: 0 [ 0.820 0.168 0.000 0.000 0.001 0.001 0.009 ]\n",
        "533 - Predicted: 1 Actual: 1 [ 0.485 0.513 0.000 0.000 0.001 0.000 0.000 ]\n",
        "534 - Predicted: 0 Actual: 0 [ 0.500 0.487 0.003 0.002 0.003 0.002 0.003 ]\n",
        "535 - Predicted: 0 Actual: 0 [ 0.615 0.384 0.000 0.000 0.001 0.000 0.000 ]\n",
        "536 - Predicted: 1 Actual: 1 [ 0.114 0.788 0.011 0.004 0.005 0.007 0.071 ]\n",
        "537 - Predicted: 0 Actual: 1 [ 0.893 0.094 0.000 0.000 0.000 0.000 0.014 ]\n",
        "538 - Predicted: 1 Actual: 1 [ 0.237 0.721 0.036 0.000 0.000 0.000 0.007 ]\n",
        "539 - Predicted: 1 Actual: 2 [ 0.375 0.472 0.070 0.005 0.017 0.031 0.030 ]\n",
        "540"
       ]
      },
      {
       "output_type": "stream",
       "stream": "stdout",
       "text": [
        " - Predicted: 0 Actual: 1 [ 0.401 0.388 0.000 0.000 0.070 0.070 0.070 ]\n",
        "541 - Predicted: 0 Actual: 1 [ 0.730 0.193 0.000 0.000 0.000 0.000 0.077 ]\n",
        "542 - Predicted: 0 Actual: 0 [ 0.469 0.410 0.007 0.001 0.002 0.003 0.109 ]\n",
        "543 - Predicted: 1 Actual: 1 [ 0.158 0.762 0.040 0.000 0.006 0.000 0.033 ]\n",
        "544 - Predicted: 1 Actual: 1 [ 0.253 0.736 0.001 0.001 0.004 0.001 0.004 ]\n",
        "545 - Predicted: 1 Actual: 2 [ 0.165 0.372 0.322 0.000 0.001 0.136 0.003 ]\n",
        "546 - Predicted: 0 Actual: 0 [ 0.330 0.330 0.003 0.000 0.003 0.003 0.330 ]\n",
        "547 - Predicted: 1 Actual: 1 [ 0.129 0.861 0.000 0.000 0.001 0.000 0.009 ]\n",
        "548 - Predicted: 0 Actual: 0 [ 0.836 0.162 0.000 0.000 0.000 0.000 0.002 ]\n",
        "549 - Predicted: 0 Actual: 0 [ 0.551 0.448 0.000 0.000 0.000 0.000 0.000 ]\n",
        "550"
       ]
      },
      {
       "output_type": "stream",
       "stream": "stdout",
       "text": [
        " - Predicted: 1 Actual: 1 [ 0.398 0.409 0.000 0.000 0.022 0.000 0.170 ]\n",
        "551 - Predicted: 1 Actual: 2 [ 0.344 0.449 0.085 0.007 0.035 0.051 0.030 ]\n",
        "552 - Predicted: 1 Actual: 1 [ 0.384 0.508 0.019 0.000 0.039 0.000 0.050 ]\n",
        "553 - Predicted: 0 Actual: 0 [ 0.363 0.242 0.192 0.000 0.162 0.041 0.000 ]\n",
        "554 - Predicted: 1 Actual: 1 [ 0.015 0.583 0.287 0.074 0.005 0.035 0.001 ]\n",
        "555 - Predicted: 0 Actual: 1 [ 0.241 0.201 0.112 0.112 0.112 0.112 0.112 ]\n",
        "556 - Predicted: 0 Actual: 0 [ 0.521 0.367 0.000 0.000 0.008 0.001 0.103 ]\n",
        "557 - Predicted: 2 Actual: 1 [ 0.134 0.185 0.276 0.124 0.097 0.092 0.092 ]\n",
        "558 - Predicted: 0 Actual: 0 [ 0.348 0.326 0.000 0.000 0.000 0.000 0.326 ]\n",
        "559 - Predicted: 1 Actual: 0 [ 0.140 0.396 0.085 0.081 0.099 0.099 0.099 ]\n",
        "560"
       ]
      },
      {
       "output_type": "stream",
       "stream": "stdout",
       "text": [
        " - Predicted: 1 Actual: 2 [ 0.012 0.861 0.092 0.004 0.002 0.028 0.001 ]\n",
        "561 - Predicted: 1 Actual: 1 [ 0.006 0.565 0.248 0.022 0.072 0.086 0.000 ]\n",
        "562 - Predicted: 0 Actual: 0 [ 0.571 0.424 0.000 0.000 0.005 0.000 0.000 ]\n",
        "563 - Predicted: 1 Actual: 1 [ 0.027 0.603 0.199 0.010 0.097 0.063 0.002 ]\n",
        "564 - Predicted: 0 Actual: 1 [ 0.494 0.494 0.001 0.000 0.000 0.000 0.011 ]\n",
        "565 - Predicted: 0 Actual: 0 [ 0.440 0.179 0.000 0.000 0.000 0.000 0.381 ]\n",
        "566 - Predicted: 1 Actual: 1 [ 0.208 0.640 0.000 0.000 0.011 0.000 0.141 ]\n",
        "567 - Predicted: 1 Actual: 0 [ 0.283 0.638 0.009 0.000 0.009 0.000 0.060 ]\n",
        "568 - Predicted: 1 Actual: 0 [ 0.183 0.635 0.000 0.000 0.000 0.000 0.182 ]\n",
        "569 - Predicted: 2 Actual: 1 [ 0.089 0.224 0.445 0.001 0.001 0.240 0.000 ]\n",
        "570"
       ]
      },
      {
       "output_type": "stream",
       "stream": "stdout",
       "text": [
        " - Predicted: 0 Actual: 1 [ 0.529 0.459 0.006 0.000 0.001 0.000 0.005 ]\n",
        "571 - Predicted: 0 Actual: 0 [ 0.798 0.131 0.000 0.000 0.003 0.060 0.009 ]\n",
        "572 - Predicted: 1 Actual: 1 [ 0.325 0.348 0.325 0.000 0.000 0.000 0.001 ]\n",
        "573 - Predicted: 1 Actual: 2 [ 0.015 0.847 0.092 0.008 0.006 0.031 0.001 ]\n",
        "574 - Predicted: 1 Actual: 0 [ 0.171 0.829 0.000 0.000 0.000 0.000 0.000 ]\n",
        "575 - Predicted: 1 Actual: 1 [ 0.050 0.518 0.208 0.037 0.105 0.080 0.001 ]\n",
        "576 - Predicted: 1 Actual: 1 [ 0.065 0.467 0.000 0.000 0.000 0.001 0.467 ]\n",
        "577 - Predicted: 1 Actual: 1 [ 0.426 0.561 0.000 0.000 0.004 0.000 0.009 ]\n",
        "578 - Predicted: 2 Actual: 0 [ 0.078 0.210 0.465 0.031 0.059 0.152 0.005 ]\n",
        "579 - Predicted: 1 Actual: 0 [ 0.326 0.348 0.326 0.000 0.000 0.000 0.000 ]\n",
        "580"
       ]
      },
      {
       "output_type": "stream",
       "stream": "stdout",
       "text": [
        " - Predicted: 1 Actual: 1 [ 0.373 0.627 0.000 0.000 0.000 0.000 0.000 ]\n",
        "581 - Predicted: 2 Actual: 2 [ 0.190 0.215 0.217 0.107 0.112 0.135 0.024 ]\n",
        "582 - Predicted: 0 Actual: 1 [ 0.526 0.427 0.006 0.000 0.000 0.000 0.040 ]\n",
        "583 - Predicted: 1 Actual: 1 [ 0.111 0.493 0.339 0.000 0.000 0.057 0.000 ]\n",
        "584 - Predicted: 0 Actual: 0 [ 0.499 0.157 0.003 0.002 0.004 0.002 0.334 ]\n",
        "585 - Predicted: 1 Actual: 0 [ 0.287 0.662 0.024 0.000 0.001 0.001 0.025 ]\n",
        "586 - Predicted: 1 Actual: 0 [ 0.356 0.642 0.000 0.000 0.001 0.000 0.002 ]\n",
        "587 - Predicted: 0 Actual: 0 [ 0.795 0.172 0.000 0.000 0.000 0.000 0.033 ]\n",
        "588 - Predicted: 1 Actual: 1 [ 0.387 0.467 0.036 0.023 0.029 0.026 0.032 ]\n",
        "589 - Predicted: 1 Actual: 1 [ 0.301 0.621 0.000 0.000 0.074 0.000 0.003 ]\n",
        "590"
       ]
      },
      {
       "output_type": "stream",
       "stream": "stdout",
       "text": [
        " - Predicted: 6 Actual: 0 [ 0.408 0.006 0.001 0.000 0.001 0.001 0.583 ]\n",
        "591 - Predicted: 2 Actual: 2 [ 0.019 0.374 0.546 0.012 0.016 0.031 0.002 ]\n",
        "592 - Predicted: 0 Actual: 0 [ 0.774 0.218 0.000 0.000 0.000 0.000 0.008 ]\n",
        "593 - Predicted: 1 Actual: 1 [ 0.075 0.886 0.004 0.000 0.004 0.030 0.000 ]\n",
        "594 - Predicted: 1 Actual: 0 [ 0.426 0.513 0.016 0.000 0.010 0.006 0.029 ]\n",
        "595 - Predicted: 1 Actual: 0 [ 0.375 0.440 0.102 0.005 0.016 0.032 0.029 ]\n",
        "596 - Predicted: 1 Actual: 1 [ 0.431 0.566 0.000 0.000 0.000 0.000 0.003 ]\n",
        "597 - Predicted: 0 Actual: 1 [ 0.898 0.082 0.000 0.000 0.000 0.000 0.020 ]\n",
        "598 - Predicted: 1 Actual: 1 [ 0.003 0.991 0.001 0.000 0.001 0.004 0.000 ]\n",
        "599 - Predicted: 1 Actual: 1 [ 0.263 0.488 0.000 0.000 0.064 0.183 0.002 ]\n",
        "600"
       ]
      },
      {
       "output_type": "stream",
       "stream": "stdout",
       "text": [
        " - Predicted: 0 Actual: 1 [ 0.477 0.461 0.004 0.000 0.001 0.000 0.057 ]\n",
        "601 - Predicted: 1 Actual: 1 [ 0.475 0.524 0.000 0.000 0.000 0.000 0.001 ]\n",
        "602 - Predicted: 1 Actual: 0 [ 0.217 0.428 0.174 0.009 0.045 0.109 0.018 ]\n",
        "603 - Predicted: 1 Actual: 1 [ 0.264 0.518 0.192 0.003 0.008 0.015 0.000 ]\n",
        "604 - Predicted: 1 Actual: 1 [ 0.015 0.573 0.367 0.003 0.021 0.022 0.000 ]\n",
        "605 - Predicted: 0 Actual: 0 [ 0.514 0.000 0.000 0.000 0.000 0.000 0.486 ]\n",
        "606 - Predicted: 1 Actual: 0 [ 0.500 0.500 0.000 0.000 0.000 0.000 0.000 ]\n",
        "607 - Predicted: 2 Actual: 2 [ 0.009 0.183 0.437 0.000 0.000 0.370 0.000 ]\n",
        "608 - Predicted: 0 Actual: 0 [ 0.755 0.187 0.000 0.000 0.000 0.000 0.058 ]\n",
        "609 - Predicted: 1 Actual: 1 [ 0.197 0.792 0.005 0.000 0.001 0.002 0.002 ]\n",
        "610"
       ]
      },
      {
       "output_type": "stream",
       "stream": "stdout",
       "text": [
        " - Predicted: 1 Actual: 1 [ 0.207 0.365 0.179 0.019 0.108 0.118 0.005 ]\n",
        "611 - Predicted: 1 Actual: 1 [ 0.177 0.693 0.031 0.022 0.024 0.026 0.028 ]\n",
        "612 - Predicted: 0 Actual: 0 [ 0.589 0.411 0.000 0.000 0.000 0.000 0.000 ]\n",
        "613 - Predicted: 1 Actual: 1 [ 0.329 0.668 0.001 0.000 0.000 0.000 0.002 ]\n",
        "614 - Predicted: 0 Actual: 0 [ 0.443 0.356 0.000 0.000 0.000 0.000 0.201 ]\n",
        "615 - Predicted: 0 Actual: 0 [ 0.894 0.080 0.000 0.000 0.000 0.000 0.026 ]\n",
        "616 - Predicted: 1 Actual: 1 [ 0.115 0.883 0.000 0.000 0.001 0.000 0.000 ]\n",
        "617 - Predicted: 1 Actual: 0 [ 0.350 0.584 0.014 0.000 0.018 0.016 0.018 ]\n",
        "618 - Predicted: 2 Actual: 2 [ 0.080 0.299 0.369 0.048 0.066 0.135 0.002 ]\n",
        "619 - Predicted: 0 Actual: 1 [ 0.567 0.409 0.001 0.000 0.000 0.001 0.021 ]\n",
        "620"
       ]
      },
      {
       "output_type": "stream",
       "stream": "stdout",
       "text": [
        " - Predicted: 0 Actual: 0 [ 0.598 0.322 0.002 0.000 0.000 0.001 0.078 ]\n",
        "621 - Predicted: 1 Actual: 1 [ 0.323 0.323 0.000 0.000 0.031 0.000 0.323 ]\n",
        "622 - Predicted: 0 Actual: 1 [ 0.510 0.481 0.000 0.000 0.002 0.000 0.006 ]\n",
        "623 - Predicted: 0 Actual: 0 [ 0.742 0.222 0.000 0.000 0.002 0.000 0.034 ]\n",
        "624 - Predicted: 0 Actual: 1 [ 0.507 0.486 0.000 0.000 0.001 0.000 0.006 ]\n",
        "625 - Predicted: 0 Actual: 0 [ 0.872 0.118 0.000 0.000 0.004 0.004 0.001 ]\n",
        "626 - Predicted: 1 Actual: 2 [ 0.096 0.461 0.271 0.031 0.064 0.076 0.000 ]\n",
        "627 - Predicted: 1 Actual: 1 [ 0.206 0.781 0.000 0.000 0.000 0.000 0.012 ]\n",
        "628 - Predicted: 1 Actual: 1 [ 0.494 0.504 0.000 0.000 0.000 0.000 0.001 ]\n",
        "629 - Predicted: 0 Actual: 0 [ 0.856 0.128 0.000 0.000 0.000 0.000 0.016 ]\n",
        "630"
       ]
      },
      {
       "output_type": "stream",
       "stream": "stdout",
       "text": [
        " - Predicted: 1 Actual: 1 [ 0.015 0.577 0.294 0.066 0.005 0.042 0.001 ]\n",
        "631 - Predicted: 0 Actual: 1 [ 0.500 0.500 0.000 0.000 0.000 0.000 0.000 ]\n",
        "632 - Predicted: 1 Actual: 0 [ 0.369 0.451 0.069 0.004 0.036 0.022 0.050 ]\n",
        "633 - Predicted: 1 Actual: 0 [ 0.417 0.550 0.000 0.000 0.000 0.000 0.033 ]\n",
        "634 - Predicted: 1 Actual: 1 [ 0.225 0.373 0.197 0.008 0.032 0.150 0.014 ]\n",
        "635 - Predicted: 1 Actual: 2 [ 0.331 0.436 0.093 0.005 0.046 0.061 0.027 ]\n",
        "636 - Predicted: 1 Actual: 1 [ 0.223 0.391 0.192 0.007 0.034 0.139 0.014 ]\n",
        "637 - Predicted: 0 Actual: 0 [ 0.467 0.467 0.005 0.005 0.005 0.005 0.047 ]\n",
        "638 - Predicted: 1 Actual: 0 [ 0.468 0.529 0.000 0.000 0.002 0.000 0.002 ]\n",
        "639 - Predicted: 1 Actual: 1 [ 0.008 0.485 0.485 0.008 0.008 0.008 0.000 ]\n",
        "640"
       ]
      },
      {
       "output_type": "stream",
       "stream": "stdout",
       "text": [
        " - Predicted: 0 Actual: 0 [ 0.566 0.425 0.002 0.000 0.003 0.000 0.005 ]\n",
        "641 - Predicted: 0 Actual: 0 [ 0.453 0.329 0.059 0.002 0.032 0.016 0.109 ]\n",
        "642 - Predicted: 0 Actual: 0 [ 0.756 0.200 0.000 0.000 0.010 0.000 0.034 ]\n",
        "643 - Predicted: 1 Actual: 1 [ 0.133 0.286 0.000 0.000 0.286 0.008 0.286 ]\n",
        "644 - Predicted: 1 Actual: 1 [ 0.500 0.500 0.000 0.000 0.000 0.000 0.000 ]\n",
        "645 - Predicted: 1 Actual: 1 [ 0.131 0.285 0.001 0.001 0.285 0.011 0.285 ]\n",
        "646 - Predicted: 1 Actual: 2 [ 0.031 0.522 0.190 0.000 0.009 0.247 0.000 ]\n",
        "647 - Predicted: 0 Actual: 1 [ 0.511 0.333 0.084 0.003 0.018 0.024 0.027 ]\n",
        "648 - Predicted: 1 Actual: 0 [ 0.391 0.609 0.000 0.000 0.000 0.000 0.000 ]\n",
        "649 - Predicted: 0 Actual: 1 [ 0.549 0.436 0.000 0.000 0.000 0.000 0.015 ]\n",
        "650"
       ]
      },
      {
       "output_type": "stream",
       "stream": "stdout",
       "text": [
        " - Predicted: 1 Actual: 1 [ 0.299 0.530 0.006 0.000 0.004 0.144 0.017 ]\n",
        "651 - Predicted: 1 Actual: 0 [ 0.448 0.485 0.000 0.000 0.067 0.000 0.000 ]\n",
        "652 - Predicted: 1 Actual: 1 [ 0.294 0.519 0.011 0.000 0.009 0.145 0.022 ]\n",
        "653 - Predicted: 0 Actual: 1 [ 0.500 0.471 0.006 0.000 0.000 0.006 0.017 ]\n",
        "654 - Predicted: 1 Actual: 0 [ 0.494 0.494 0.002 0.002 0.002 0.002 0.002 ]\n",
        "655 - Predicted: 1 Actual: 1 [ 0.151 0.831 0.000 0.000 0.017 0.000 0.000 ]\n",
        "656 - Predicted: 0 Actual: 1 [ 0.479 0.421 0.012 0.000 0.023 0.002 0.064 ]\n",
        "657 - Predicted: 1 Actual: 2 [ 0.182 0.371 0.193 0.002 0.062 0.177 0.013 ]\n",
        "658 - Predicted: 1 Actual: 0 [ 0.251 0.522 0.000 0.000 0.021 0.000 0.206 ]\n",
        "659 - Predicted: 0 Actual: 0 [ 0.402 0.255 0.000 0.000 0.147 0.000 0.197 ]\n",
        "660"
       ]
      },
      {
       "output_type": "stream",
       "stream": "stdout",
       "text": [
        " - Predicted: 1 Actual: 0 [ 0.196 0.218 0.196 0.064 0.064 0.064 0.196 ]\n",
        "661 - Predicted: 0 Actual: 0 [ 0.221 0.221 0.121 0.096 0.124 0.096 0.121 ]\n",
        "662 - Predicted: 1 Actual: 1 [ 0.202 0.213 0.202 0.059 0.059 0.202 0.061 ]\n",
        "663 - Predicted: 1 Actual: 2 [ 0.117 0.208 0.208 0.117 0.117 0.117 0.117 ]\n",
        "664 - Predicted: 0 Actual: 0 [ 0.344 0.277 0.075 0.075 0.075 0.075 0.078 ]\n",
        "665 - Predicted: 1 Actual: 1 [ 0.172 0.200 0.126 0.126 0.126 0.126 0.126 ]\n",
        "666 - Predicted: 0 Actual: 1 [ 0.168 0.147 0.137 0.137 0.137 0.137 0.137 ]\n",
        "667 - Predicted: 1 Actual: 1 [ 0.126 0.302 0.099 0.099 0.169 0.102 0.103 ]\n",
        "668 - Predicted: 0 Actual: 0 [ 0.154 0.152 0.145 0.130 0.142 0.130 0.146 ]\n",
        "669 - Predicted: 1 Actual: 1 [ 0.205 0.254 0.124 0.101 0.104 0.110 0.101 ]\n",
        "670"
       ]
      },
      {
       "output_type": "stream",
       "stream": "stdout",
       "text": [
        " - Predicted: 1 Actual: 1 [ 0.364 0.487 0.062 0.005 0.016 0.030 0.035 ]\n",
        "671 - Predicted: 1 Actual: 1 [ 0.260 0.410 0.066 0.066 0.066 0.066 0.066 ]\n",
        "672 - Predicted: 0 Actual: 0 [ 0.493 0.421 0.014 0.006 0.007 0.009 0.050 ]\n",
        "673 - Predicted: 1 Actual: 0 [ 0.364 0.487 0.062 0.005 0.016 0.030 0.035 ]\n",
        "674 - Predicted: 1 Actual: 1 [ 0.364 0.487 0.062 0.005 0.016 0.030 0.035 ]\n",
        "675 - Predicted: 1 Actual: 0 [ 0.190 0.529 0.050 0.037 0.039 0.042 0.113 ]\n",
        "676 - Predicted: 1 Actual: 1 [ 0.364 0.487 0.062 0.005 0.016 0.030 0.035 ]\n",
        "677 - Predicted: 1 Actual: 0 [ 0.364 0.487 0.062 0.005 0.016 0.030 0.035 ]\n",
        "678 - Predicted: 1 Actual: 1 [ 0.364 0.487 0.062 0.005 0.016 0.030 0.035 ]\n",
        "679 - Predicted: 1 Actual: 2 [ 0.364 0.487 0.062 0.005 0.016 0.030 0.035 ]\n",
        "680"
       ]
      },
      {
       "output_type": "stream",
       "stream": "stdout",
       "text": [
        " - Predicted: 0 Actual: 1 [ 0.624 0.362 0.005 0.002 0.002 0.003 0.003 ]\n",
        "681 - Predicted: 1 Actual: 0 [ 0.359 0.473 0.079 0.005 0.019 0.038 0.026 ]\n",
        "682 - Predicted: 1 Actual: 1 [ 0.363 0.487 0.067 0.004 0.017 0.032 0.031 ]\n",
        "683 - Predicted: 1 Actual: 1 [ 0.359 0.473 0.079 0.005 0.019 0.038 0.026 ]\n",
        "684 - Predicted: 1 Actual: 0 [ 0.359 0.473 0.079 0.005 0.019 0.038 0.026 ]\n",
        "685 - Predicted: 1 Actual: 2 [ 0.359 0.473 0.079 0.005 0.019 0.038 0.026 ]\n",
        "686 - Predicted: 1 Actual: 1 [ 0.359 0.473 0.079 0.005 0.019 0.038 0.026 ]\n",
        "687 - Predicted: 1 Actual: 0 [ 0.359 0.473 0.079 0.005 0.019 0.038 0.026 ]\n",
        "688 - Predicted: 1 Actual: 0 [ 0.359 0.473 0.079 0.005 0.019 0.038 0.026 ]\n",
        "689 - Predicted: 0 Actual: 1 [ 0.610 0.383 0.003 0.000 0.001 0.001 0.001 ]\n",
        "690"
       ]
      },
      {
       "output_type": "stream",
       "stream": "stdout",
       "text": [
        " - Predicted: 1 Actual: 1 [ 0.291 0.460 0.132 0.009 0.021 0.053 0.033 ]\n",
        "691 - Predicted: 1 Actual: 1 [ 0.375 0.559 0.007 0.000 0.015 0.016 0.027 ]\n",
        "692 - Predicted: 1 Actual: 0 [ 0.291 0.460 0.132 0.009 0.021 0.053 0.033 ]\n",
        "693 - Predicted: 1 Actual: 0 [ 0.291 0.460 0.132 0.009 0.021 0.053 0.033 ]\n",
        "694 - Predicted: 1 Actual: 1 [ 0.291 0.460 0.132 0.009 0.021 0.053 0.033 ]\n",
        "695 - Predicted: 1 Actual: 0 [ 0.375 0.559 0.007 0.000 0.015 0.016 0.027 ]\n",
        "696 - Predicted: 1 Actual: 1 [ 0.291 0.460 0.132 0.009 0.021 0.053 0.033 ]\n",
        "697 - Predicted: 1 Actual: 0 [ 0.291 0.460 0.132 0.009 0.021 0.053 0.033 ]\n",
        "698 - Predicted: 1 Actual: 1 [ 0.291 0.460 0.132 0.009 0.021 0.053 0.033 ]\n",
        "699 - Predicted: 1 Actual: 2 [ 0.291 0.460 0.132 0.009 0.021 0.053 0.033 ]\n",
        "700"
       ]
      },
      {
       "output_type": "stream",
       "stream": "stdout",
       "text": [
        " - Predicted: 1 Actual: 1 [ 0.419 0.526 0.018 0.000 0.011 0.011 0.015 ]\n",
        "701 - Predicted: 1 Actual: 1 [ 0.304 0.587 0.060 0.000 0.023 0.013 0.012 ]\n",
        "702 - Predicted: 1 Actual: 1 [ 0.324 0.346 0.002 0.002 0.002 0.002 0.324 ]\n",
        "703 - Predicted: 1 Actual: 2 [ 0.292 0.410 0.166 0.011 0.019 0.075 0.027 ]\n",
        "704 - Predicted: 1 Actual: 1 [ 0.123 0.875 0.000 0.000 0.002 0.000 0.000 ]\n",
        "705 - Predicted: 1 Actual: 0 [ 0.419 0.526 0.018 0.000 0.011 0.011 0.015 ]\n",
        "706 - Predicted: 1 Actual: 0 [ 0.304 0.587 0.060 0.000 0.023 0.013 0.012 ]\n",
        "707 - Predicted: 1 Actual: 0 [ 0.419 0.526 0.018 0.000 0.011 0.011 0.015 ]\n",
        "708 - Predicted: 1 Actual: 0 [ 0.419 0.526 0.018 0.000 0.011 0.011 0.015 ]\n",
        "709 - Predicted: 1 Actual: 1 [ 0.419 0.526 0.018 0.000 0.011 0.011 0.015 ]\n",
        "710"
       ]
      },
      {
       "output_type": "stream",
       "stream": "stdout",
       "text": [
        " - Predicted: 1 Actual: 1 [ 0.277 0.396 0.178 0.013 0.025 0.077 0.034 ]\n",
        "711 - Predicted: 1 Actual: 0 [ 0.413 0.536 0.011 0.000 0.007 0.007 0.025 ]\n",
        "712 - Predicted: 1 Actual: 1 [ 0.413 0.536 0.011 0.000 0.007 0.007 0.025 ]\n",
        "713 - Predicted: 1 Actual: 1 [ 0.413 0.536 0.011 0.000 0.007 0.007 0.025 ]\n",
        "714 - Predicted: 1 Actual: 2 [ 0.277 0.396 0.178 0.013 0.025 0.077 0.034 ]\n",
        "715 - Predicted: 0 Actual: 0 [ 0.764 0.235 0.000 0.000 0.000 0.000 0.000 ]\n",
        "716 - Predicted: 1 Actual: 0 [ 0.265 0.568 0.076 0.000 0.033 0.041 0.017 ]\n",
        "717 - Predicted: 1 Actual: 1 [ 0.344 0.654 0.000 0.000 0.000 0.000 0.002 ]\n",
        "718 - Predicted: 1 Actual: 1 [ 0.277 0.396 0.178 0.013 0.025 0.077 0.034 ]\n",
        "719 - Predicted: 0 Actual: 0 [ 0.534 0.455 0.000 0.000 0.000 0.005 0.005 ]\n",
        "720"
       ]
      },
      {
       "output_type": "stream",
       "stream": "stdout",
       "text": [
        " - Predicted: 1 Actual: 0 [ 0.415 0.494 0.045 0.000 0.031 0.005 0.010 ]\n",
        "721 - Predicted: 1 Actual: 0 [ 0.323 0.444 0.179 0.001 0.001 0.035 0.017 ]\n",
        "722 - Predicted: 1 Actual: 0 [ 0.217 0.579 0.087 0.000 0.002 0.078 0.039 ]\n",
        "723 - Predicted: 1 Actual: 2 [ 0.323 0.444 0.179 0.001 0.001 0.035 0.017 ]\n",
        "724 - Predicted: 1 Actual: 1 [ 0.217 0.579 0.087 0.000 0.002 0.078 0.039 ]\n",
        "725 - Predicted: 0 Actual: 1 [ 0.369 0.348 0.122 0.021 0.022 0.105 0.012 ]\n",
        "726 - Predicted: 1 Actual: 1 [ 0.323 0.444 0.179 0.001 0.001 0.035 0.017 ]\n",
        "727 - Predicted: 1 Actual: 1 [ 0.386 0.481 0.001 0.000 0.000 0.000 0.131 ]\n",
        "728 - Predicted: 1 Actual: 1 [ 0.415 0.494 0.045 0.000 0.031 0.005 0.010 ]\n",
        "729 - Predicted: 1 Actual: 0 [ 0.388 0.474 0.109 0.001 0.001 0.025 0.002 ]\n",
        "730"
       ]
      },
      {
       "output_type": "stream",
       "stream": "stdout",
       "text": [
        " - Predicted: 0 Actual: 1 [ 0.520 0.480 0.000 0.000 0.000 0.000 0.000 ]\n",
        "731 - Predicted: 1 Actual: 1 [ 0.404 0.596 0.000 0.000 0.000 0.000 0.000 ]\n",
        "732 - Predicted: 1 Actual: 0 [ 0.344 0.603 0.009 0.002 0.024 0.003 0.015 ]\n",
        "733 - Predicted: 1 Actual: 1 [ 0.291 0.424 0.205 0.000 0.010 0.051 0.020 ]\n",
        "734 - Predicted: 1 Actual: 0 [ 0.216 0.584 0.064 0.000 0.014 0.091 0.032 ]\n",
        "735 - Predicted: 1 Actual: 1 [ 0.418 0.473 0.101 0.000 0.000 0.005 0.003 ]\n",
        "736 - Predicted: 0 Actual: 0 [ 0.458 0.437 0.030 0.002 0.012 0.030 0.030 ]\n",
        "737 - Predicted: 1 Actual: 0 [ 0.317 0.506 0.025 0.000 0.053 0.095 0.004 ]\n",
        "738 - Predicted: 1 Actual: 1 [ 0.317 0.507 0.025 0.000 0.053 0.095 0.003 ]\n",
        "739 - Predicted: 1 Actual: 2 [ 0.212 0.414 0.241 0.041 0.016 0.074 0.002 ]\n",
        "740"
       ]
      },
      {
       "output_type": "stream",
       "stream": "stdout",
       "text": [
        " - Predicted: 1 Actual: 0 [ 0.364 0.398 0.167 0.000 0.001 0.068 0.002 ]\n",
        "741 - Predicted: 1 Actual: 1 [ 0.150 0.565 0.270 0.005 0.005 0.005 0.001 ]\n",
        "742 - Predicted: 1 Actual: 2 [ 0.452 0.486 0.020 0.000 0.010 0.001 0.031 ]\n",
        "743 - Predicted: 1 Actual: 1 [ 0.452 0.486 0.020 0.000 0.010 0.001 0.031 ]\n",
        "744 - Predicted: 1 Actual: 0 [ 0.402 0.598 0.000 0.000 0.000 0.000 0.000 ]\n",
        "745 - Predicted: 0 Actual: 0 [ 0.535 0.465 0.000 0.000 0.000 0.000 0.000 ]\n",
        "746 - Predicted: 1 Actual: 1 [ 0.306 0.546 0.059 0.003 0.014 0.072 0.000 ]\n",
        "747 - Predicted: 0 Actual: 1 [ 0.671 0.323 0.002 0.000 0.001 0.001 0.002 ]\n",
        "748 - Predicted: 0 Actual: 0 [ 0.424 0.412 0.041 0.008 0.041 0.027 0.048 ]\n",
        "749 - Predicted: 1 Actual: 1 [ 0.376 0.589 0.000 0.000 0.000 0.000 0.035 ]\n",
        "750"
       ]
      },
      {
       "output_type": "stream",
       "stream": "stdout",
       "text": [
        " - Predicted: 1 Actual: 2 [ 0.206 0.784 0.003 0.000 0.001 0.005 0.002 ]\n",
        "751 - Predicted: 1 Actual: 1 [ 0.407 0.589 0.001 0.000 0.001 0.000 0.002 ]\n",
        "752 - Predicted: 0 Actual: 1 [ 0.541 0.459 0.000 0.000 0.000 0.000 0.000 ]\n",
        "753 - Predicted: 1 Actual: 0 [ 0.092 0.908 0.000 0.000 0.000 0.000 0.000 ]\n",
        "754 - Predicted: 1 Actual: 0 [ 0.332 0.640 0.001 0.000 0.002 0.000 0.026 ]\n",
        "755 - Predicted: 1 Actual: 1 [ 0.253 0.538 0.123 0.019 0.002 0.065 0.000 ]\n",
        "756 - Predicted: 1 Actual: 0 [ 0.455 0.538 0.000 0.000 0.000 0.000 0.007 ]\n",
        "757 - Predicted: 0 Actual: 1 [ 0.870 0.130 0.000 0.000 0.000 0.000 0.000 ]\n",
        "758 - Predicted: 1 Actual: 0 [ 0.347 0.435 0.050 0.032 0.044 0.039 0.052 ]\n",
        "759 - Predicted: 0 Actual: 1 [ 0.507 0.493 0.000 0.000 0.000 0.000 0.000 ]\n",
        "760"
       ]
      },
      {
       "output_type": "stream",
       "stream": "stdout",
       "text": [
        " - Predicted: 1 Actual: 1 [ 0.346 0.640 0.000 0.000 0.000 0.000 0.014 ]\n",
        "761 - Predicted: 1 Actual: 1 [ 0.234 0.766 0.000 0.000 0.000 0.000 0.000 ]\n",
        "762 - Predicted: 1 Actual: 1 [ 0.439 0.450 0.078 0.001 0.008 0.024 0.000 ]\n",
        "763 - Predicted: 1 Actual: 0 [ 0.299 0.607 0.049 0.000 0.019 0.026 0.000 ]\n",
        "764 - Predicted: 1 Actual: 0 [ 0.236 0.686 0.057 0.000 0.019 0.000 0.002 ]\n",
        "765 - Predicted: 0 Actual: 0 [ 0.618 0.190 0.006 0.000 0.003 0.003 0.181 ]\n",
        "766 - Predicted: 0 Actual: 0 [ 0.626 0.190 0.003 0.000 0.000 0.000 0.180 ]\n",
        "767 - Predicted: 1 Actual: 2 [ 0.304 0.562 0.038 0.000 0.001 0.095 0.000 ]\n",
        "768 - Predicted: 1 Actual: 1 [ 0.346 0.640 0.000 0.000 0.000 0.000 0.014 ]\n",
        "769 - Predicted: 1 Actual: 1 [ 0.265 0.569 0.076 0.000 0.033 0.041 0.017 ]\n",
        "770"
       ]
      },
      {
       "output_type": "stream",
       "stream": "stdout",
       "text": [
        " - Predicted: 1 Actual: 2 [ 0.199 0.421 0.232 0.000 0.001 0.120 0.027 ]\n",
        "771 - Predicted: 1 Actual: 0 [ 0.493 0.506 0.000 0.000 0.000 0.000 0.001 ]\n",
        "772 - Predicted: 1 Actual: 0 [ 0.301 0.520 0.079 0.000 0.001 0.099 0.000 ]\n",
        "773 - Predicted: 1 Actual: 1 [ 0.147 0.440 0.137 0.000 0.085 0.111 0.080 ]\n",
        "774 - Predicted: 1 Actual: 0 [ 0.275 0.725 0.000 0.000 0.000 0.000 0.000 ]\n",
        "775 - Predicted: 1 Actual: 0 [ 0.493 0.506 0.000 0.000 0.000 0.000 0.001 ]\n",
        "776 - Predicted: 1 Actual: 1 [ 0.233 0.654 0.065 0.000 0.029 0.012 0.007 ]\n",
        "777 - Predicted: 1 Actual: 1 [ 0.427 0.573 0.000 0.000 0.000 0.000 0.000 ]\n",
        "778 - Predicted: 1 Actual: 1 [ 0.293 0.704 0.002 0.000 0.000 0.001 0.000 ]\n",
        "779 - Predicted: 1 Actual: 1 [ 0.419 0.460 0.000 0.000 0.006 0.000 0.115 ]\n",
        "780"
       ]
      },
      {
       "output_type": "stream",
       "stream": "stdout",
       "text": [
        " - Predicted: 1 Actual: 1 [ 0.476 0.524 0.000 0.000 0.000 0.000 0.000 ]\n",
        "781 - Predicted: 0 Actual: 0 [ 0.439 0.381 0.043 0.000 0.043 0.047 0.047 ]\n",
        "782 - Predicted: 1 Actual: 2 [ 0.201 0.421 0.232 0.000 0.002 0.119 0.026 ]\n",
        "783 - Predicted: 1 Actual: 1 [ 0.327 0.668 0.000 0.000 0.000 0.000 0.005 ]\n",
        "784 - Predicted: 1 Actual: 0 [ 0.379 0.530 0.069 0.000 0.000 0.021 0.000 ]\n",
        "785 - Predicted: 1 Actual: 0 [ 0.317 0.408 0.000 0.000 0.028 0.000 0.247 ]\n",
        "786 - Predicted: 0 Actual: 1 [ 0.746 0.254 0.000 0.000 0.000 0.000 0.000 ]\n",
        "787 - Predicted: 1 Actual: 0 [ 0.293 0.679 0.006 0.000 0.007 0.006 0.009 ]\n",
        "788 - Predicted: 1 Actual: 1 [ 0.293 0.705 0.000 0.000 0.000 0.000 0.002 ]\n",
        "789 - Predicted: 1 Actual: 1 [ 0.249 0.719 0.029 0.000 0.002 0.000 0.000 ]\n",
        "790"
       ]
      },
      {
       "output_type": "stream",
       "stream": "stdout",
       "text": [
        " - Predicted: 1 Actual: 1 [ 0.238 0.762 0.000 0.000 0.000 0.000 0.000 ]\n",
        "791 - Predicted: 2 Actual: 2 [ 0.076 0.163 0.600 0.001 0.000 0.159 0.001 ]\n",
        "792 - Predicted: 1 Actual: 1 [ 0.297 0.692 0.000 0.000 0.000 0.000 0.011 ]\n",
        "793 - Predicted: 0 Actual: 0 [ 0.538 0.401 0.013 0.010 0.012 0.011 0.016 ]\n",
        "794 - Predicted: 0 Actual: 0 [ 0.610 0.371 0.012 0.000 0.000 0.007 0.000 ]\n",
        "795 - Predicted: 1 Actual: 1 [ 0.267 0.378 0.194 0.023 0.031 0.065 0.041 ]\n",
        "796 - Predicted: 1 Actual: 1 [ 0.055 0.930 0.000 0.000 0.007 0.007 0.000 ]\n",
        "797 - Predicted: 0 Actual: 0 [ 0.569 0.318 0.000 0.000 0.000 0.000 0.113 ]\n",
        "798 - Predicted: 0 Actual: 0 [ 0.668 0.307 0.000 0.000 0.005 0.000 0.019 ]\n",
        "799 - Predicted: 1 Actual: 1 [ 0.145 0.850 0.001 0.000 0.001 0.001 0.002 ]\n",
        "800"
       ]
      },
      {
       "output_type": "stream",
       "stream": "stdout",
       "text": [
        " - Predicted: 0 Actual: 0 [ 0.518 0.326 0.111 0.005 0.008 0.017 0.015 ]\n",
        "801 - Predicted: 0 Actual: 0 [ 0.725 0.231 0.000 0.000 0.004 0.000 0.040 ]\n",
        "802 - Predicted: 1 Actual: 2 [ 0.221 0.501 0.178 0.000 0.001 0.090 0.008 ]\n",
        "803 - Predicted: 1 Actual: 1 [ 0.000 0.499 0.019 0.010 0.000 0.471 0.000 ]\n",
        "804 - Predicted: 1 Actual: 1 [ 0.331 0.533 0.003 0.000 0.001 0.004 0.127 ]\n",
        "805 - Predicted: 0 Actual: 1 [ 0.550 0.443 0.000 0.000 0.000 0.000 0.007 ]\n",
        "806 - Predicted: 1 Actual: 1 [ 0.402 0.597 0.000 0.000 0.000 0.000 0.001 ]\n",
        "807 - Predicted: 1 Actual: 0 [ 0.459 0.459 0.000 0.000 0.000 0.000 0.083 ]\n",
        "808 - Predicted: 0 Actual: 0 [ 0.653 0.344 0.000 0.000 0.000 0.000 0.002 ]\n",
        "809 - Predicted: 1 Actual: 1 [ 0.255 0.715 0.001 0.000 0.028 0.000 0.000 ]\n",
        "810"
       ]
      },
      {
       "output_type": "stream",
       "stream": "stdout",
       "text": [
        " - Predicted: 0 Actual: 0 [ 0.627 0.331 0.019 0.000 0.005 0.013 0.005 ]\n",
        "811 - Predicted: 1 Actual: 1 [ 0.233 0.736 0.000 0.000 0.011 0.000 0.020 ]\n",
        "812 - Predicted: 0 Actual: 1 [ 0.353 0.264 0.139 0.002 0.068 0.170 0.004 ]\n",
        "813 - Predicted: 1 Actual: 0 [ 0.228 0.766 0.002 0.000 0.003 0.001 0.000 ]\n",
        "814 - Predicted: 0 Actual: 1 [ 0.652 0.348 0.000 0.000 0.000 0.000 0.000 ]\n",
        "815 - Predicted: 1 Actual: 1 [ 0.458 0.523 0.000 0.000 0.000 0.000 0.019 ]\n",
        "816 - Predicted: 0 Actual: 2 [ 0.353 0.333 0.124 0.029 0.030 0.108 0.022 ]\n",
        "817 - Predicted: 1 Actual: 0 [ 0.320 0.680 0.000 0.000 0.000 0.000 0.000 ]\n",
        "818 - Predicted: 0 Actual: 0 [ 0.662 0.338 0.000 0.000 0.000 0.000 0.000 ]\n",
        "819 - Predicted: 1 Actual: 1 [ 0.351 0.488 0.056 0.000 0.041 0.042 0.022 ]\n",
        "820"
       ]
      },
      {
       "output_type": "stream",
       "stream": "stdout",
       "text": [
        " - Predicted: 1 Actual: 0 [ 0.259 0.286 0.145 0.000 0.046 0.155 0.110 ]\n",
        "821 - Predicted: 1 Actual: 0 [ 0.332 0.637 0.000 0.000 0.000 0.000 0.030 ]\n",
        "822 - Predicted: 1 Actual: 1 [ 0.195 0.274 0.157 0.000 0.122 0.131 0.122 ]\n",
        "823 - Predicted: 1 Actual: 0 [ 0.398 0.602 0.000 0.000 0.000 0.000 0.000 ]\n",
        "824 - Predicted: 1 Actual: 1 [ 0.332 0.637 0.000 0.000 0.000 0.000 0.031 ]\n",
        "825 - Predicted: 0 Actual: 1 [ 0.791 0.148 0.019 0.000 0.019 0.020 0.002 ]\n",
        "826 - Predicted: 1 Actual: 1 [ 0.361 0.639 0.000 0.000 0.000 0.000 0.000 ]\n",
        "827 - Predicted: 1 Actual: 0 [ 0.476 0.490 0.022 0.000 0.000 0.000 0.013 ]\n",
        "828 - Predicted: 1 Actual: 2 [ 0.023 0.816 0.052 0.000 0.025 0.084 0.000 ]\n",
        "829 - Predicted: 1 Actual: 1 [ 0.402 0.550 0.011 0.000 0.002 0.017 0.018 ]\n",
        "830"
       ]
      },
      {
       "output_type": "stream",
       "stream": "stdout",
       "text": [
        " - Predicted: 1 Actual: 0 [ 0.388 0.577 0.000 0.000 0.033 0.000 0.001 ]\n",
        "831 - Predicted: 0 Actual: 1 [ 0.502 0.496 0.000 0.000 0.001 0.000 0.002 ]\n",
        "832 - Predicted: 0 Actual: 0 [ 0.708 0.291 0.000 0.000 0.000 0.000 0.000 ]\n",
        "833 - Predicted: 0 Actual: 0 [ 0.500 0.450 0.000 0.000 0.001 0.000 0.049 ]\n",
        "834 - Predicted: 1 Actual: 1 [ 0.220 0.779 0.000 0.000 0.000 0.000 0.002 ]\n",
        "835 - Predicted: 0 Actual: 2 [ 0.303 0.289 0.282 0.025 0.071 0.026 0.003 ]\n",
        "836 - Predicted: 1 Actual: 1 [ 0.353 0.560 0.039 0.000 0.004 0.006 0.039 ]\n",
        "837 - Predicted: 1 Actual: 1 [ 0.063 0.645 0.083 0.005 0.083 0.121 0.000 ]\n",
        "838 - Predicted: 1 Actual: 1 [ 0.365 0.397 0.054 0.039 0.042 0.046 0.057 ]\n",
        "839 - Predicted: 0 Actual: 0 [ 0.892 0.088 0.000 0.000 0.000 0.000 0.019 ]\n",
        "840"
       ]
      },
      {
       "output_type": "stream",
       "stream": "stdout",
       "text": [
        " - Predicted: 1 Actual: 0 [ 0.338 0.642 0.003 0.000 0.004 0.000 0.013 ]\n",
        "841 - Predicted: 0 Actual: 1 [ 0.624 0.341 0.000 0.000 0.003 0.000 0.033 ]\n",
        "842 - Predicted: 2 Actual: 2 [ 0.006 0.012 0.640 0.003 0.001 0.338 0.000 ]\n",
        "843 - Predicted: 0 Actual: 1 [ 0.580 0.420 0.000 0.000 0.000 0.000 0.000 ]\n",
        "844 - Predicted: 0 Actual: 0 [ 0.664 0.314 0.000 0.000 0.000 0.000 0.022 ]\n",
        "845 - Predicted: 0 Actual: 0 [ 0.282 0.272 0.041 0.006 0.121 0.006 0.272 ]\n",
        "846 - Predicted: 0 Actual: 1 [ 0.504 0.494 0.000 0.000 0.000 0.000 0.002 ]\n",
        "847 - Predicted: 1 Actual: 1 [ 0.415 0.581 0.000 0.000 0.000 0.000 0.004 ]\n",
        "848 - Predicted: 1 Actual: 0 [ 0.347 0.453 0.018 0.000 0.081 0.019 0.081 ]\n",
        "849 - Predicted: 1 Actual: 1 [ 0.054 0.945 0.000 0.000 0.000 0.000 0.001 ]\n",
        "850"
       ]
      },
      {
       "output_type": "stream",
       "stream": "stdout",
       "text": [
        " - Predicted: 1 Actual: 1 [ 0.178 0.373 0.132 0.000 0.141 0.175 0.000 ]\n",
        "851 - Predicted: 1 Actual: 1 [ 0.209 0.727 0.003 0.001 0.051 0.005 0.003 ]\n",
        "852 - Predicted: 0 Actual: 0 [ 0.342 0.321 0.257 0.000 0.003 0.000 0.077 ]\n",
        "853 - Predicted: 1 Actual: 0 [ 0.445 0.480 0.033 0.000 0.008 0.000 0.033 ]\n",
        "854 - Predicted: 0 Actual: 0 [ 0.493 0.060 0.437 0.000 0.004 0.004 0.002 ]\n",
        "855 - Predicted: 6 Actual: 1 [ 0.364 0.261 0.000 0.000 0.000 0.000 0.375 ]\n",
        "856 - Predicted: 1 Actual: 1 [ 0.248 0.671 0.000 0.000 0.001 0.000 0.080 ]\n",
        "857 - Predicted: 1 Actual: 2 [ 0.447 0.449 0.052 0.000 0.000 0.051 0.000 ]\n",
        "858 - Predicted: 1 Actual: 1 [ 0.216 0.456 0.175 0.000 0.060 0.046 0.046 ]\n",
        "859 - Predicted: 1 Actual: 0 [ 0.356 0.644 0.000 0.000 0.001 0.000 0.000 ]\n",
        "860"
       ]
      },
      {
       "output_type": "stream",
       "stream": "stdout",
       "text": [
        " - Predicted: 1 Actual: 0 [ 0.478 0.514 0.000 0.000 0.000 0.000 0.008 ]\n",
        "861 - Predicted: 0 Actual: 0 [ 0.525 0.277 0.000 0.000 0.001 0.000 0.197 ]\n",
        "862 - Predicted: 1 Actual: 1 [ 0.467 0.467 0.000 0.000 0.000 0.000 0.065 ]\n",
        "863 - Predicted: 0 Actual: 0 [ 0.541 0.459 0.000 0.000 0.000 0.000 0.000 ]\n",
        "864 - Predicted: 1 Actual: 1 [ 0.087 0.470 0.321 0.001 0.039 0.080 0.002 ]\n",
        "865 - Predicted: 1 Actual: 1 [ 0.335 0.594 0.017 0.000 0.009 0.015 0.031 ]\n",
        "866 - Predicted: 1 Actual: 0 [ 0.321 0.655 0.006 0.000 0.007 0.003 0.007 ]\n",
        "867 - Predicted: 1 Actual: 1 [ 0.427 0.470 0.000 0.000 0.101 0.000 0.001 ]\n",
        "868 - Predicted: 1 Actual: 1 [ 0.363 0.508 0.033 0.000 0.032 0.031 0.033 ]\n",
        "869 - Predicted: 2 Actual: 2 [ 0.016 0.052 0.804 0.011 0.008 0.107 0.001 ]\n",
        "870"
       ]
      },
      {
       "output_type": "stream",
       "stream": "stdout",
       "text": [
        " - Predicted: 1 Actual: 1 [ 0.407 0.559 0.017 0.000 0.000 0.000 0.017 ]\n",
        "871 - Predicted: 1 Actual: 1 [ 0.243 0.742 0.000 0.000 0.001 0.000 0.014 ]\n",
        "872 - Predicted: 1 Actual: 1 [ 0.333 0.333 0.000 0.000 0.000 0.000 0.333 ]\n",
        "873 - Predicted: 1 Actual: 0 [ 0.480 0.506 0.004 0.000 0.003 0.003 0.005 ]\n",
        "874 - Predicted: 1 Actual: 0 [ 0.263 0.524 0.140 0.002 0.049 0.022 0.000 ]\n",
        "875 - Predicted: 0 Actual: 1 [ 0.752 0.224 0.001 0.000 0.000 0.001 0.022 ]\n",
        "876 - Predicted: 4 Actual: 1 [ 0.240 0.240 0.001 0.000 0.277 0.240 0.000 ]\n",
        "877 - Predicted: 0 Actual: 0 [ 0.471 0.173 0.002 0.000 0.001 0.001 0.352 ]\n",
        "878 - Predicted: 1 Actual: 2 [ 0.181 0.525 0.046 0.005 0.005 0.123 0.116 ]\n",
        "879 - Predicted: 1 Actual: 0 [ 0.333 0.592 0.034 0.000 0.002 0.002 0.036 ]\n",
        "880"
       ]
      },
      {
       "output_type": "stream",
       "stream": "stdout",
       "text": [
        " - Predicted: 0 Actual: 0 [ 0.525 0.364 0.086 0.002 0.004 0.014 0.005 ]\n",
        "881 - Predicted: 1 Actual: 1 [ 0.500 0.500 0.000 0.000 0.000 0.000 0.000 ]\n",
        "882 - Predicted: 2 Actual: 2 [ 0.111 0.134 0.734 0.000 0.000 0.020 0.000 ]\n",
        "883 - Predicted: 1 Actual: 1 [ 0.218 0.530 0.038 0.000 0.198 0.015 0.000 ]\n",
        "884 - Predicted: 1 Actual: 1 [ 0.235 0.580 0.168 0.001 0.001 0.013 0.000 ]\n",
        "885 - Predicted: 0 Actual: 0 [ 0.499 0.498 0.000 0.000 0.000 0.000 0.002 ]\n",
        "886 - Predicted: 1 Actual: 0 [ 0.382 0.399 0.005 0.000 0.106 0.002 0.106 ]\n",
        "887 - Predicted: 1 Actual: 1 [ 0.244 0.346 0.250 0.001 0.112 0.048 0.000 ]\n",
        "888 - Predicted: 1 Actual: 1 [ 0.236 0.574 0.170 0.003 0.003 0.015 0.000 ]\n",
        "889 - Predicted: 0 Actual: 0 [ 0.834 0.115 0.000 0.000 0.004 0.000 0.047 ]\n",
        "890"
       ]
      },
      {
       "output_type": "stream",
       "stream": "stdout",
       "text": [
        " - Predicted: 0 Actual: 1 [ 0.657 0.336 0.000 0.000 0.001 0.000 0.006 ]\n",
        "891 - Predicted: 1 Actual: 1 [ 0.243 0.552 0.000 0.000 0.000 0.000 0.205 ]\n",
        "892 - Predicted: 0 Actual: 0 [ 0.361 0.317 0.001 0.001 0.003 0.001 0.317 ]\n",
        "893 - Predicted: 0 Actual: 0 [ 0.713 0.259 0.000 0.000 0.000 0.000 0.028 ]\n",
        "894 - Predicted: 1 Actual: 1 [ 0.187 0.378 0.109 0.003 0.107 0.217 0.000 ]\n",
        "895 - Predicted: 1 Actual: 0 [ 0.277 0.396 0.178 0.013 0.026 0.077 0.034 ]\n",
        "896 - Predicted: 1 Actual: 0 [ 0.235 0.561 0.180 0.002 0.002 0.017 0.003 ]\n",
        "897 - Predicted: 1 Actual: 1 [ 0.176 0.814 0.008 0.000 0.001 0.001 0.000 ]\n",
        "898 - Predicted: 1 Actual: 2 [ 0.277 0.395 0.178 0.013 0.026 0.077 0.034 ]\n",
        "899 - Predicted: 1 Actual: 1 [ 0.288 0.570 0.142 0.000 0.000 0.000 0.001 ]\n",
        "900"
       ]
      },
      {
       "output_type": "stream",
       "stream": "stdout",
       "text": [
        " - Predicted: 0 Actual: 0 [ 0.528 0.468 0.002 0.000 0.001 0.001 0.001 ]\n",
        "901 - Predicted: 0 Actual: 1 [ 0.529 0.469 0.002 0.000 0.000 0.000 0.000 ]\n",
        "902 - Predicted: 2 Actual: 2 [ 0.060 0.114 0.662 0.016 0.004 0.138 0.005 ]\n",
        "903 - Predicted: 1 Actual: 0 [ 0.196 0.484 0.258 0.002 0.004 0.051 0.005 ]\n",
        "904 - Predicted: 0 Actual: 0 [ 0.346 0.316 0.051 0.025 0.002 0.006 0.253 ]\n",
        "905 - Predicted: 0 Actual: 1 [ 0.532 0.454 0.001 0.000 0.001 0.006 0.006 ]\n",
        "906 - Predicted: 1 Actual: 1 [ 0.500 0.500 0.000 0.000 0.000 0.000 0.000 ]\n",
        "907 - Predicted: 1 Actual: 0 [ 0.270 0.615 0.058 0.000 0.008 0.048 0.000 ]\n",
        "908 - Predicted: 1 Actual: 1 [ 0.177 0.436 0.224 0.000 0.000 0.157 0.006 ]\n",
        "909 - Predicted: 1 Actual: 1 [ 0.105 0.846 0.017 0.000 0.025 0.000 0.008 ]\n",
        "910"
       ]
      },
      {
       "output_type": "stream",
       "stream": "stdout",
       "text": [
        " - Predicted: 1 Actual: 0 [ 0.391 0.517 0.081 0.000 0.001 0.008 0.001 ]\n",
        "911 - Predicted: 0 Actual: 1 [ 0.495 0.495 0.000 0.000 0.000 0.000 0.009 ]\n",
        "912 - Predicted: 2 Actual: 2 [ 0.031 0.344 0.565 0.013 0.021 0.024 0.001 ]\n",
        "913 - Predicted: 0 Actual: 0 [ 0.646 0.285 0.028 0.002 0.001 0.030 0.009 ]\n",
        "914 - Predicted: 1 Actual: 1 [ 0.471 0.471 0.000 0.000 0.000 0.000 0.058 ]\n",
        "915 - Predicted: 1 Actual: 1 [ 0.456 0.456 0.088 0.000 0.000 0.000 0.000 ]\n",
        "916 - Predicted: 1 Actual: 0 [ 0.347 0.522 0.052 0.003 0.005 0.054 0.018 ]\n",
        "917 - Predicted: 1 Actual: 0 [ 0.239 0.677 0.004 0.000 0.075 0.000 0.004 ]\n",
        "918 - Predicted: 1 Actual: 1 [ 0.346 0.648 0.002 0.000 0.000 0.001 0.003 ]\n",
        "919 - Predicted: 1 Actual: 1 [ 0.103 0.740 0.049 0.000 0.103 0.000 0.005 ]\n",
        "920"
       ]
      },
      {
       "output_type": "stream",
       "stream": "stdout",
       "text": [
        " - Predicted: 1 Actual: 1 [ 0.236 0.763 0.000 0.000 0.001 0.000 0.000 ]\n",
        "921 - Predicted: 0 Actual: 1 [ 0.508 0.489 0.002 0.000 0.001 0.001 0.001 ]\n",
        "922 - Predicted: 1 Actual: 1 [ 0.109 0.314 0.305 0.019 0.231 0.022 0.000 ]\n",
        "923 - Predicted: 0 Actual: 0 [ 0.496 0.496 0.000 0.000 0.000 0.000 0.008 ]\n",
        "924 - Predicted: 0 Actual: 0 [ 0.327 0.327 0.005 0.005 0.001 0.005 0.327 ]\n",
        "925 - Predicted: 1 Actual: 1 [ 0.317 0.636 0.015 0.000 0.003 0.021 0.007 ]\n",
        "926 - Predicted: 1 Actual: 1 [ 0.344 0.603 0.000 0.000 0.000 0.000 0.052 ]\n",
        "927 - Predicted: 1 Actual: 0 [ 0.441 0.537 0.004 0.000 0.004 0.000 0.014 ]\n",
        "928 - Predicted: 0 Actual: 0 [ 0.383 0.383 0.000 0.000 0.000 0.000 0.233 ]\n",
        "929 - Predicted: 2 Actual: 2 [ 0.022 0.023 0.462 0.023 0.007 0.462 0.001 ]\n",
        "930"
       ]
      },
      {
       "output_type": "stream",
       "stream": "stdout",
       "text": [
        " - Predicted: 1 Actual: 0 [ 0.463 0.491 0.001 0.000 0.022 0.001 0.022 ]\n",
        "931 - Predicted: 1 Actual: 0 [ 0.498 0.500 0.001 0.000 0.000 0.000 0.001 ]\n",
        "932 - Predicted: 0 Actual: 1 [ 0.502 0.408 0.058 0.000 0.010 0.010 0.012 ]\n",
        "933 - Predicted: 2 Actual: 1 [ 0.021 0.048 0.874 0.000 0.000 0.057 0.000 ]\n",
        "934 - Predicted: 1 Actual: 0 [ 0.160 0.526 0.185 0.000 0.098 0.030 0.000 ]\n",
        "935 - Predicted: 0 Actual: 0 [ 0.578 0.417 0.001 0.000 0.003 0.000 0.001 ]\n",
        "936 - Predicted: 1 Actual: 1 [ 0.274 0.647 0.021 0.000 0.023 0.018 0.018 ]\n",
        "937 - Predicted: 1 Actual: 1 [ 0.176 0.783 0.003 0.000 0.002 0.002 0.034 ]\n",
        "938 - Predicted: 1 Actual: 2 [ 0.148 0.800 0.046 0.000 0.003 0.003 0.000 ]\n",
        "939 - Predicted: 1 Actual: 1 [ 0.028 0.965 0.006 0.000 0.000 0.000 0.000 ]\n",
        "940"
       ]
      },
      {
       "output_type": "stream",
       "stream": "stdout",
       "text": [
        " - Predicted: 1 Actual: 2 [ 0.277 0.396 0.178 0.013 0.026 0.077 0.034 ]\n",
        "941 - Predicted: 0 Actual: 0 [ 0.654 0.336 0.004 0.000 0.001 0.002 0.002 ]\n",
        "942 - Predicted: 1 Actual: 0 [ 0.320 0.428 0.075 0.005 0.030 0.089 0.053 ]\n",
        "943 - Predicted: 0 Actual: 1 [ 0.525 0.251 0.135 0.002 0.002 0.017 0.068 ]\n",
        "944 - Predicted: 1 Actual: 1 [ 0.371 0.499 0.098 0.002 0.005 0.021 0.005 ]\n",
        "945 - Predicted: 0 Actual: 0 [ 0.500 0.465 0.009 0.003 0.007 0.006 0.010 ]\n",
        "946 - Predicted: 1 Actual: 1 [ 0.297 0.511 0.082 0.000 0.008 0.102 0.000 ]\n",
        "947 - Predicted: 1 Actual: 1 [ 0.137 0.801 0.029 0.000 0.017 0.016 0.001 ]\n",
        "948 - Predicted: 1 Actual: 1 [ 0.500 0.500 0.000 0.000 0.000 0.000 0.000 ]\n",
        "949 - Predicted: 1 Actual: 0 [ 0.376 0.508 0.095 0.001 0.002 0.015 0.003 ]\n",
        "950"
       ]
      },
      {
       "output_type": "stream",
       "stream": "stdout",
       "text": [
        " - Predicted: 1 Actual: 1 [ 0.201 0.670 0.001 0.000 0.041 0.003 0.084 ]\n",
        "951 - Predicted: 1 Actual: 0 [ 0.475 0.475 0.012 0.000 0.012 0.012 0.012 ]\n",
        "952 - Predicted: 0 Actual: 1 [ 0.500 0.500 0.000 0.000 0.000 0.000 0.000 ]\n",
        "953 - Predicted: 1 Actual: 1 [ 0.448 0.448 0.016 0.000 0.083 0.000 0.006 ]\n",
        "954 - Predicted: 1 Actual: 2 [ 0.283 0.365 0.154 0.000 0.008 0.089 0.100 ]\n",
        "955 - Predicted: 0 Actual: 0 [ 0.593 0.405 0.001 0.000 0.000 0.000 0.000 ]\n",
        "956 - Predicted: 1 Actual: 1 [ 0.421 0.518 0.004 0.000 0.026 0.004 0.026 ]\n",
        "957 - Predicted: 1 Actual: 1 [ 0.346 0.641 0.000 0.000 0.000 0.000 0.013 ]\n",
        "958 - Predicted: 0 Actual: 0 [ 0.635 0.344 0.000 0.000 0.000 0.000 0.022 ]\n",
        "959 - Predicted: 0 Actual: 0 [ 0.734 0.212 0.016 0.001 0.004 0.008 0.026 ]\n",
        "960"
       ]
      },
      {
       "output_type": "stream",
       "stream": "stdout",
       "text": [
        " - Predicted: 1 Actual: 1 [ 0.075 0.925 0.000 0.000 0.000 0.000 0.000 ]\n",
        "961 - Predicted: 1 Actual: 2 [ 0.364 0.426 0.209 0.000 0.000 0.001 0.000 ]\n",
        "962 - Predicted: 1 Actual: 1 [ 0.315 0.573 0.052 0.000 0.017 0.043 0.000 ]\n",
        "963 - Predicted: 0 Actual: 0 [ 0.720 0.255 0.022 0.000 0.000 0.001 0.001 ]\n",
        "964 - Predicted: 1 Actual: 1 [ 0.181 0.705 0.071 0.000 0.000 0.043 0.000 ]\n",
        "965 - Predicted: 1 Actual: 1 [ 0.080 0.919 0.000 0.000 0.000 0.000 0.000 ]\n",
        "966 - Predicted: 1 Actual: 1 [ 0.070 0.404 0.044 0.004 0.404 0.070 0.004 ]\n",
        "967 - Predicted: 1 Actual: 0 [ 0.373 0.529 0.069 0.001 0.001 0.028 0.000 ]\n",
        "968 - Predicted: 1 Actual: 0 [ 0.211 0.482 0.089 0.000 0.000 0.218 0.000 ]\n",
        "969 - Predicted: 0 Actual: 0 [ 0.493 0.293 0.000 0.000 0.000 0.000 0.214 ]\n",
        "970"
       ]
      },
      {
       "output_type": "stream",
       "stream": "stdout",
       "text": [
        " - Predicted: 1 Actual: 1 [ 0.186 0.797 0.000 0.000 0.017 0.000 0.000 ]\n",
        "971 - Predicted: 1 Actual: 1 [ 0.228 0.725 0.011 0.000 0.006 0.010 0.020 ]\n",
        "972 - Predicted: 1 Actual: 1 [ 0.096 0.777 0.020 0.000 0.096 0.000 0.012 ]\n",
        "973 - Predicted: 1 Actual: 1 [ 0.307 0.672 0.011 0.000 0.004 0.002 0.003 ]\n",
        "974 - Predicted: 1 Actual: 2 [ 0.127 0.479 0.173 0.002 0.009 0.191 0.019 ]\n",
        "975 - Predicted: 0 Actual: 0 [ 0.598 0.353 0.003 0.000 0.000 0.000 0.046 ]\n",
        "976 - Predicted: 1 Actual: 0 [ 0.473 0.489 0.000 0.000 0.019 0.000 0.020 ]\n",
        "977 - Predicted: 1 Actual: 0 [ 0.017 0.619 0.193 0.000 0.030 0.140 0.000 ]\n",
        "978 - Predicted: 0 Actual: 0 [ 0.456 0.374 0.002 0.000 0.001 0.001 0.166 ]\n",
        "979 - Predicted: 1 Actual: 1 [ 0.500 0.500 0.000 0.000 0.000 0.000 0.000 ]\n",
        "980"
       ]
      },
      {
       "output_type": "stream",
       "stream": "stdout",
       "text": [
        " - Predicted: 0 Actual: 1 [ 0.333 0.333 0.000 0.000 0.001 0.000 0.333 ]\n",
        "981 - Predicted: 1 Actual: 1 [ 0.036 0.703 0.199 0.000 0.005 0.057 0.000 ]\n",
        "982 - Predicted: 1 Actual: 1 [ 0.071 0.838 0.012 0.000 0.072 0.000 0.007 ]\n",
        "983 - Predicted: 1 Actual: 0 [ 0.296 0.575 0.063 0.006 0.024 0.036 0.000 ]\n",
        "984 - Predicted: 0 Actual: 0 [ 0.764 0.161 0.000 0.000 0.000 0.000 0.074 ]\n",
        "985 - Predicted: 2 Actual: 2 [ 0.086 0.101 0.534 0.076 0.006 0.190 0.008 ]\n",
        "986 - Predicted: 0 Actual: 0 [ 0.509 0.010 0.000 0.000 0.001 0.000 0.480 ]\n",
        "987 - Predicted: 1 Actual: 1 [ 0.027 0.835 0.022 0.001 0.019 0.095 0.001 ]\n",
        "988 - Predicted: 0 Actual: 1 [ 0.563 0.284 0.090 0.000 0.018 0.031 0.013 ]\n",
        "989 - Predicted: 1 Actual: 0 [ 0.320 0.435 0.088 0.011 0.114 0.029 0.002 ]\n",
        "990"
       ]
      },
      {
       "output_type": "stream",
       "stream": "stdout",
       "text": [
        " - Predicted: 0 Actual: 0 [ 0.632 0.222 0.000 0.000 0.000 0.000 0.146 ]\n",
        "991 - Predicted: 1 Actual: 1 [ 0.128 0.529 0.108 0.036 0.080 0.082 0.037 ]\n",
        "992 - Predicted: 2 Actual: 2 [ 0.000 0.326 0.347 0.001 0.001 0.326 0.000 ]\n",
        "993 - Predicted: 1 Actual: 0 [ 0.118 0.877 0.001 0.000 0.001 0.001 0.003 ]\n",
        "994 - Predicted: 1 Actual: 1 [ 0.485 0.515 0.000 0.000 0.000 0.000 0.000 ]\n",
        "995 - Predicted: 1 Actual: 1 [ 0.372 0.615 0.000 0.000 0.001 0.005 0.007 ]\n",
        "996 - Predicted: 1 Actual: 0 [ 0.450 0.539 0.004 0.000 0.005 0.001 0.001 ]\n",
        "997 - Predicted: 1 Actual: 1 [ 0.300 0.450 0.167 0.004 0.007 0.028 0.043 ]\n",
        "998 - Predicted: 1 Actual: 1 [ 0.220 0.769 0.000 0.000 0.010 0.000 0.001 ]\n",
        "999 - Predicted: 0 Actual: 0 [ 0.541 0.452 0.000 0.000 0.000 0.000 0.007 ]\n"
       ]
      }
     ],
     "prompt_number": 106
    },
    {
     "cell_type": "code",
     "collapsed": false,
     "input": [
      "pd.Series(hits).cumsum().plot() # Predictions over time"
     ],
     "language": "python",
     "metadata": {},
     "outputs": [
      {
       "metadata": {},
       "output_type": "pyout",
       "prompt_number": 107,
       "text": [
        "<matplotlib.axes._subplots.AxesSubplot at 0x7fa18963a7b8>"
       ]
      },
      {
       "metadata": {},
       "output_type": "display_data",
       "png": "[encoded data removed]",
       "text": [
        "<matplotlib.figure.Figure at 0x7fa1895b82b0>"
       ]
      }
     ],
     "prompt_number": 107
    },
    {
     "cell_type": "code",
     "collapsed": false,
     "input": [
      "sum(hits)/len(hits) # Overall accuracy"
     ],
     "language": "python",
     "metadata": {},
     "outputs": [
      {
       "metadata": {},
       "output_type": "pyout",
       "prompt_number": 108,
       "text": [
        "0.55800000000000005"
       ]
      }
     ],
     "prompt_number": 108
    },
    {
     "cell_type": "code",
     "collapsed": false,
     "input": [
      "n = mf.trees[0].root.left.left.left.left.left.left.left\n",
      "%timeit get_posterior_class_probs(n, 10)"
     ],
     "language": "python",
     "metadata": {},
     "outputs": []
    }
   ],
   "metadata": {}
  }
 ]
}