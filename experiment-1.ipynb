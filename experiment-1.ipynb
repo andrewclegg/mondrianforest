{
 "metadata": {
  "name": "",
  "signature": "sha256:b9634a5dc99120fdfe1f054f40bb63527f6eff2e3f3f03a8478ee3398e7b98db"
 },
 "nbformat": 3,
 "nbformat_minor": 0,
 "worksheets": [
  {
   "cells": [
    {
     "cell_type": "markdown",
     "metadata": {},
     "source": [
      "# Mondrian Forests\n",
      "\n",
      "This is a reimplementation of Mondrian Forests as described here:\n",
      "\n",
      "**Mondrian Forests: Efficient Online Random Forests**\n",
      "\n",
      "Balaji Lakshminarayanan, Daniel M. Roy, Yee Whye Teh\n",
      "\n",
      "http://arxiv.org/abs/1406.2673\n",
      "\n",
      "It partly uses code from the original authors' implementation at\n",
      "\n",
      "https://github.com/balajiln/mondrianforest\n",
      "\n",
      "but changes a few things along the way too. Key differences:\n",
      "\n",
      "* Assume FAST_MODE (no log-likelihood) for now\n",
      "* Classification only (they never finished regression)\n",
      "* Always assume we're training incrementally\n",
      "* `update_posterior_node_incremental` just becomes `update_label_counts`\n",
      "* `add_training_points_to_node` just becomes `MondrianNode.update`\n",
      "* Pushed as much metadata as possible into the node object, to avoid having lots of separate dicts etc. maintained by the tree (hence renaming it `MondrianNode`)\n",
      "* `data` (an array) refers to one batch, instead of having a single design matrix in memory and indexing it with `train_ids`\n",
      "* `labels` is a vector of class labels for the rows in `data`\n",
      "* We don't assume you'll provide the first batch of training data when initializing a tree, but we do need to know the number of dimensions and number of labels\n",
      "* It works in parallel :-)\n",
      "\n",
      "Perhaps most different of all:\n",
      "\n",
      "We don't keep all the input data, as this won't scale. But this means we can't move existing data down into the new leaf nodes when we split a leaf node.\n",
      "\n",
      "This is the plan: When the tree \"grows\" through randomly splitting a leaf node, keep its existing class frequencies where they are, and only use the two new children for *newly-arriving* data. Then take these into account when calculating the predictive posteriors (appendix A of paper).\n",
      "\n",
      "Here are my original thoughts on this, that I almost sent to the authors, but decided to try first.\n",
      "\n",
      "```\n",
      "One thing I missed on reading the paper, is that when you bisect a leaf node through a \"grow\" (sampling) operation,\n",
      "you need to assign all its data points to one of the new children.\n",
      "\n",
      "This means you can't just keep summary statistics for the data in a block, i.e. class frequencies. You need to hold\n",
      "on to the raw training data in order to divide it, yes? Which is a problem for online learning over streaming data\n",
      "or just \"big data\" in general.\n",
      "\n",
      "So... Perhaps you could entirely forget about keeping the existing data and propagating it down to the new child\n",
      "nodes. If you just kept class frequencies at each node, maybe you could use these in the \"update posterior counts\"\n",
      "step for internal nodes, alongside the child node counts.\n",
      "\n",
      "(Any data that came in *after* the split would go all the way down to the leaf nodes though.)\n",
      "```\n",
      "\n",
      "For the time being, though, it's using a much simpler scoring system. Walk down the tree until you find the box that the test example would have been in, and go for the majority class. If you don't find a box, or it's empty, walk back up until you find the nearest ancestor with some instances in.\n",
      "\n",
      "Averaged across a few trees, even as few as ~10, this actually does pretty well.\n",
      "\n",
      "## Running this demo\n",
      "\n",
      "If a `default` IPython cluster is available, it runs in parallel automatically, with as many trees in the forest as you have engines in the cluster. Otherwise, it runs in serial on a single core, with 3 trees. See the notes in the third cell.\n",
      "\n",
      "For best results with small forests, use an odd number of trees.\n",
      "\n",
      "## TODO\n",
      "\n",
      "### Must-haves\n",
      "\n",
      "* Proper probabilistic scoring\n",
      "* Types for all numpy arrays\n",
      "* Error checking\n",
      "* Work out exactly what effect `budget` is having\n",
      "* Introspection and prettyprinting tools\n",
      "* Work out which members are \"private\" and rename them with underscores\n",
      "* Proper tests...\n",
      "\n",
      "### Useful features\n",
      "\n",
      "* Allow multiple trees per engine (i.e. each engine runs a forest, not a tree)\n",
      "* Instance subsampling\n",
      "* Feature subsampling/bootstrapping/bagging\n",
      "* Feature hashing/random projection/LSH\n",
      "* Train-on-fail mode\n",
      "* Loss functions, regret, class weighting?\n",
      "\n",
      "### Blue sky\n",
      "\n",
      "* Regression\n",
      "* Clustering? (I mean, it basically *is* clustering, already...)\n",
      "* Semi-supervised would be really easy too\n",
      "* Adaptivity -- non-stationary distributions, recency effects etc.\n",
      "* Auto-pruning/rebalancing -- stop trees either stagnating or growing out of control in the long term\n",
      "* What about when the true number of classes isn't known in advance?\n",
      "\n",
      "The last three are really closely related.\n",
      "\n",
      "We could probably tackle a lot of these problems by \"chopping down\" older trees -- either randomly or according to a heuristic (e.g. least-recently-modified) -- so new ones can grow in their place. Maybe varying the budget and discount values would be useful too.\n",
      "\n",
      "Perhaps you could calculate the posterior class probabilities over the entire 'dead' tree, and use these as the priors for the new tree that will grow in its place.\n",
      "\n",
      "You could also use this kind of approach to tune P/R tradeoff, chase a particular objective function, do reinforcement learning... If you squint, they start to look a little like GAs.\n",
      "\n",
      "* Ontology learning\n",
      "* Grammar induction\n",
      "* Topic modelling\n",
      "\n",
      "Use cases that are fundamentally tree-shaped! Hmmm."
     ]
    },
    {
     "cell_type": "code",
     "collapsed": false,
     "input": [
      "%run 'mondrian.py'\n",
      "\n",
      "import random\n",
      "\n",
      "import numpy as np\n",
      "\n",
      "from IPython.parallel import Client\n",
      "try:\n",
      "    rc = Client()\n",
      "    dview = rc[:]\n",
      "    print('Using default IPython cluster with %d engines' % len(dview))\n",
      "except FileNotFoundError:\n",
      "    rc = None\n",
      "    dview = None\n",
      "    print('Using single-core implementation')\n",
      "\n",
      "DEFAULT_BUDGET = 1000"
     ],
     "language": "python",
     "metadata": {},
     "outputs": [
      {
       "output_type": "stream",
       "stream": "stdout",
       "text": [
        "Using single-core implementation\n"
       ]
      }
     ],
     "prompt_number": 43
    },
    {
     "cell_type": "code",
     "collapsed": false,
     "input": [
      "import pickle\n",
      "import gzip\n",
      "import os\n",
      "import pandas as pd\n",
      "from sklearn import datasets\n",
      "from sklearn import cross_validation as cv\n",
      "\n",
      "# For speed later...\n",
      "test_file = '/home/vagrant/data/covtype.pkl.gz'\n",
      "if os.path.exists(test_file):\n",
      "    with gzip.GzipFile(test_file, 'rb') as z:\n",
      "        dataset = pickle.load(z)\n",
      "else:\n",
      "    dataset = datasets.fetch_covtype() # Can be quite slow\n",
      "    with gzip.GzipFile(test_file, 'wb') as z:\n",
      "        pickle.dump(dataset, z)\n",
      "        \n",
      "dataset.data.shape"
     ],
     "language": "python",
     "metadata": {},
     "outputs": [
      {
       "metadata": {},
       "output_type": "pyout",
       "prompt_number": 2,
       "text": [
        "(581012, 54)"
       ]
      }
     ],
     "prompt_number": 2
    },
    {
     "cell_type": "code",
     "collapsed": false,
     "input": [
      "#%%time\n",
      "#%%prun\n",
      "\n",
      "n_iter = 100\n",
      "test_size = 10\n",
      "folds = cv.StratifiedShuffleSplit(dataset.target, n_iter=n_iter, test_size=test_size, train_size=1000)\n",
      "hits = []\n",
      "\n",
      "data = dataset.data\n",
      "target = dataset.target - 1 # they are 1-indexed\n",
      "\n",
      "if dview is None:\n",
      "    # Run with a single-threaded forest with 3 trees (FIXME)\n",
      "    mf = MondrianForest(1, data.shape[1], len(np.unique(target)), budget=DEFAULT_BUDGET, scoring='simple')\n",
      "else:\n",
      "    # Run with a parallel forest on IPython cluster\n",
      "    mf = ParallelMondrianForest(dview, data.shape[1], len(np.unique(target)), budget=DEFAULT_BUDGET, scoring='simple')\n",
      "\n",
      "def run_test():\n",
      "    for i, (train, test) in enumerate(folds):\n",
      "        train_X = data[train]\n",
      "        train_y = target[train]\n",
      "        test_X = data[test]#[0:1,:]\n",
      "        test_y = target[test]#[0:1]\n",
      "        mf.update(train_X, train_y)\n",
      "        preds = mf.predict(test_X)\n",
      "        yhat = preds.argmax(axis=1)\n",
      "        assert test_y.shape == yhat.shape\n",
      "        for j in range(len(preds)):\n",
      "            idx = (i * test_size) + j\n",
      "            print(idx, '- Predicted:', yhat[j], 'Actual:', test_y[j],\n",
      "                  '[', ' '.join(['%.3f' % x for x in preds[j]]), ']')\n",
      "            hits.append(yhat[j] == test_y[j])\n",
      "\n",
      "%prun run_test()"
     ],
     "language": "python",
     "metadata": {},
     "outputs": [
      {
       "output_type": "stream",
       "stream": "stdout",
       "text": [
        "0 - Predicted: 1 Actual: 0 [ 0.365 0.488 0.062 0.005 0.016 0.030 0.035 ]\n",
        "1 - Predicted: 1 Actual: 0 [ 0.365 0.488 0.062 0.005 0.016 0.030 0.035 ]\n",
        "2 - Predicted: 1 Actual: 1 [ 0.365 0.488 0.062 0.005 0.016 0.030 0.035 ]\n",
        "3 - Predicted: 1 Actual: 1 [ 0.365 0.488 0.062 0.005 0.016 0.030 0.035 ]\n",
        "4 - Predicted: 1 Actual: 0 [ 0.365 0.488 0.062 0.005 0.016 0.030 0.035 ]\n",
        "5 - Predicted: 1 Actual: 1 [ 0.365 0.488 0.062 0.005 0.016 0.030 0.035 ]\n",
        "6 - Predicted: 1 Actual: 1 [ 0.365 0.488 0.062 0.005 0.016 0.030 0.035 ]\n",
        "7 - Predicted: 1 Actual: 0 [ 0.365 0.488 0.062 0.005 0.016 0.030 0.035 ]\n",
        "8 - Predicted: 1 Actual: 2 [ 0.365 0.488 0.062 0.005 0.016 0.030 0.035 ]\n",
        "9 - Predicted: 1 Actual: 1 [ 0.365 0.488 0.062 0.005 0.016 0.030 0.035 ]\n",
        "10"
       ]
      },
      {
       "output_type": "stream",
       "stream": "stdout",
       "text": [
        " - Predicted: 1 Actual: 0 [ 0.362 0.487 0.063 0.005 0.016 0.031 0.036 ]\n",
        "11 - Predicted: 1 Actual: 1 [ 0.362 0.487 0.063 0.005 0.016 0.031 0.036 ]\n",
        "12 - Predicted: 1 Actual: 2 [ 0.362 0.487 0.063 0.005 0.016 0.031 0.036 ]\n",
        "13 - Predicted: 1 Actual: 0 [ 0.362 0.487 0.063 0.005 0.016 0.031 0.036 ]\n",
        "14 - Predicted: 1 Actual: 0 [ 0.362 0.487 0.063 0.005 0.016 0.031 0.036 ]\n",
        "15 - Predicted: 1 Actual: 1 [ 0.362 0.487 0.063 0.005 0.016 0.031 0.036 ]\n",
        "16 - Predicted: 1 Actual: 0 [ 0.362 0.487 0.063 0.005 0.016 0.031 0.036 ]\n",
        "17 - Predicted: 1 Actual: 1 [ 0.362 0.487 0.063 0.005 0.016 0.031 0.036 ]\n",
        "18 - Predicted: 1 Actual: 1 [ 0.362 0.487 0.063 0.005 0.016 0.031 0.036 ]\n",
        "19 - Predicted: 1 Actual: 1 [ 0.362 0.487 0.063 0.005 0.016 0.031 0.036 ]\n",
        "20"
       ]
      },
      {
       "output_type": "stream",
       "stream": "stdout",
       "text": [
        " - Predicted: 0 Actual: 0 [ 0.500 0.500 0.000 0.000 0.000 0.000 0.000 ]\n",
        "21 - Predicted: 1 Actual: 1 [ 0.418 0.539 0.000 0.000 0.000 0.000 0.043 ]\n",
        "22 - Predicted: 1 Actual: 0 [ 0.418 0.539 0.000 0.000 0.000 0.000 0.043 ]\n",
        "23 - Predicted: 1 Actual: 2 [ 0.342 0.466 0.088 0.007 0.023 0.043 0.032 ]\n",
        "24 - Predicted: 1 Actual: 1 [ 0.418 0.539 0.000 0.000 0.000 0.000 0.043 ]\n",
        "25 - Predicted: 1 Actual: 1 [ 0.342 0.466 0.088 0.007 0.023 0.043 0.032 ]\n",
        "26 - Predicted: 1 Actual: 0 [ 0.342 0.466 0.088 0.007 0.023 0.043 0.032 ]\n",
        "27 - Predicted: 1 Actual: 1 [ 0.418 0.539 0.000 0.000 0.000 0.000 0.043 ]\n",
        "28 - Predicted: 1 Actual: 1 [ 0.342 0.466 0.088 0.007 0.023 0.043 0.032 ]\n",
        "29 - Predicted: 0 Actual: 0 [ 0.500 0.500 0.000 0.000 0.000 0.000 0.000 ]\n",
        "30"
       ]
      },
      {
       "output_type": "stream",
       "stream": "stdout",
       "text": [
        " - Predicted: 1 Actual: 0 [ 0.434 0.524 0.004 0.000 0.004 0.000 0.034 ]\n",
        "31 - Predicted: 0 Actual: 1 [ 0.562 0.379 0.000 0.000 0.003 0.000 0.057 ]\n",
        "32 - Predicted: 1 Actual: 0 [ 0.434 0.524 0.004 0.000 0.004 0.000 0.034 ]\n",
        "33 - Predicted: 1 Actual: 0 [ 0.075 0.583 0.191 0.016 0.044 0.091 0.000 ]\n",
        "34 - Predicted: 1 Actual: 1 [ 0.075 0.583 0.191 0.016 0.044 0.091 0.000 ]\n",
        "35 - Predicted: 1 Actual: 1 [ 0.434 0.524 0.004 0.000 0.004 0.000 0.034 ]\n",
        "36 - Predicted: 0 Actual: 1 [ 0.562 0.379 0.000 0.000 0.003 0.000 0.057 ]\n",
        "37 - Predicted: 1 Actual: 1 [ 0.434 0.524 0.004 0.000 0.004 0.000 0.034 ]\n",
        "38 - Predicted: 1 Actual: 2 [ 0.075 0.583 0.191 0.016 0.044 0.091 0.000 ]\n",
        "39 - Predicted: 0 Actual: 0 [ 0.562 0.379 0.000 0.000 0.003 0.000 0.057 ]\n",
        "40"
       ]
      },
      {
       "output_type": "stream",
       "stream": "stdout",
       "text": [
        " - Predicted: 0 Actual: 1 [ 0.492 0.442 0.000 0.000 0.006 0.000 0.061 ]\n",
        "41 - Predicted: 1 Actual: 2 [ 0.073 0.376 0.339 0.037 0.018 0.156 0.000 ]\n",
        "42 - Predicted: 0 Actual: 0 [ 0.492 0.442 0.000 0.000 0.006 0.000 0.061 ]\n",
        "43 - Predicted: 0 Actual: 1 [ 0.492 0.442 0.000 0.000 0.006 0.000 0.061 ]\n",
        "44 - Predicted: 1 Actual: 1 [ 0.073 0.376 0.339 0.037 0.018 0.156 0.000 ]\n",
        "45 - Predicted: 0 Actual: 0 [ 0.484 0.432 0.000 0.000 0.011 0.000 0.074 ]\n",
        "46 - Predicted: 0 Actual: 0 [ 0.492 0.442 0.000 0.000 0.006 0.000 0.061 ]\n",
        "47 - Predicted: 0 Actual: 1 [ 0.574 0.386 0.000 0.000 0.000 0.000 0.040 ]\n",
        "48 - Predicted: 1 Actual: 1 [ 0.254 0.683 0.000 0.000 0.000 0.000 0.063 ]\n",
        "49 - Predicted: 0 Actual: 0 [ 0.484 0.432 0.000 0.000 0.011 0.000 0.074 ]\n",
        "50"
       ]
      },
      {
       "output_type": "stream",
       "stream": "stdout",
       "text": [
        " - Predicted: 0 Actual: 0 [ 0.554 0.396 0.000 0.000 0.000 0.000 0.050 ]\n",
        "51 - Predicted: 0 Actual: 0 [ 0.554 0.396 0.000 0.000 0.000 0.000 0.050 ]\n",
        "52 - Predicted: 2 Actual: 2 [ 0.082 0.299 0.361 0.031 0.052 0.175 0.000 ]\n",
        "53 - Predicted: 0 Actual: 1 [ 0.574 0.383 0.000 0.000 0.007 0.000 0.035 ]\n",
        "54 - Predicted: 1 Actual: 0 [ 0.458 0.475 0.000 0.000 0.017 0.000 0.051 ]\n",
        "55 - Predicted: 2 Actual: 1 [ 0.082 0.299 0.361 0.031 0.052 0.175 0.000 ]\n",
        "56 - Predicted: 0 Actual: 1 [ 0.475 0.458 0.000 0.000 0.000 0.000 0.068 ]\n",
        "57 - Predicted: 1 Actual: 1 [ 0.090 0.701 0.111 0.008 0.037 0.053 0.000 ]\n",
        "58 - Predicted: 1 Actual: 1 [ 0.090 0.701 0.111 0.008 0.037 0.053 0.000 ]\n",
        "59 - Predicted: 0 Actual: 0 [ 0.554 0.396 0.000 0.000 0.000 0.000 0.050 ]\n",
        "60"
       ]
      },
      {
       "output_type": "stream",
       "stream": "stdout",
       "text": [
        " - Predicted: 0 Actual: 1 [ 0.530 0.393 0.000 0.000 0.004 0.000 0.073 ]\n",
        "61 - Predicted: 0 Actual: 0 [ 0.530 0.393 0.000 0.000 0.004 0.000 0.073 ]\n",
        "62 - Predicted: 0 Actual: 0 [ 0.521 0.458 0.000 0.000 0.000 0.000 0.021 ]\n",
        "63 - Predicted: 1 Actual: 1 [ 0.067 0.631 0.128 0.020 0.074 0.081 0.000 ]\n",
        "64 - Predicted: 0 Actual: 1 [ 0.530 0.393 0.000 0.000 0.004 0.000 0.073 ]\n",
        "65 - Predicted: 1 Actual: 1 [ 0.286 0.714 0.000 0.000 0.000 0.000 0.000 ]\n",
        "66 - Predicted: 1 Actual: 2 [ 0.053 0.413 0.387 0.013 0.013 0.120 0.000 ]\n",
        "67 - Predicted: 0 Actual: 1 [ 0.530 0.393 0.000 0.000 0.004 0.000 0.073 ]\n",
        "68 - Predicted: 1 Actual: 0 [ 0.333 0.615 0.000 0.000 0.000 0.000 0.051 ]\n",
        "69 - Predicted: 0 Actual: 0 [ 0.521 0.458 0.000 0.000 0.000 0.000 0.021 ]\n",
        "70"
       ]
      },
      {
       "output_type": "stream",
       "stream": "stdout",
       "text": [
        " - Predicted: 0 Actual: 1 [ 0.619 0.381 0.000 0.000 0.000 0.000 0.000 ]\n",
        "71 - Predicted: 0 Actual: 0 [ 0.889 0.000 0.000 0.000 0.000 0.000 0.111 ]\n",
        "72 - Predicted: 0 Actual: 1 [ 0.527 0.435 0.000 0.000 0.000 0.000 0.038 ]\n",
        "73 - Predicted: 1 Actual: 1 [ 0.113 0.610 0.156 0.000 0.043 0.078 0.000 ]\n",
        "74 - Predicted: 0 Actual: 0 [ 0.527 0.435 0.000 0.000 0.000 0.000 0.038 ]\n",
        "75 - Predicted: 0 Actual: 1 [ 0.527 0.435 0.000 0.000 0.000 0.000 0.038 ]\n",
        "76 - Predicted: 1 Actual: 2 [ 0.099 0.465 0.197 0.070 0.028 0.141 0.000 ]\n",
        "77 - Predicted: 0 Actual: 0 [ 0.527 0.435 0.000 0.000 0.000 0.000 0.038 ]\n",
        "78 - Predicted: 0 Actual: 0 [ 0.527 0.435 0.000 0.000 0.000 0.000 0.038 ]\n",
        "79 - Predicted: 1 Actual: 1 [ 0.113 0.610 0.156 0.000 0.043 0.078 0.000 ]\n",
        "80"
       ]
      },
      {
       "output_type": "stream",
       "stream": "stdout",
       "text": [
        " - Predicted: 1 Actual: 0 [ 0.333 0.500 0.000 0.000 0.000 0.000 0.167 ]\n",
        "81 - Predicted: 1 Actual: 1 [ 0.286 0.714 0.000 0.000 0.000 0.000 0.000 ]\n",
        "82 - Predicted: 1 Actual: 1 [ 0.429 0.500 0.000 0.000 0.000 0.000 0.071 ]\n",
        "83 - Predicted: 0 Actual: 0 [ 0.812 0.125 0.000 0.000 0.000 0.000 0.062 ]\n",
        "84 - Predicted: 1 Actual: 1 [ 0.444 0.556 0.000 0.000 0.000 0.000 0.000 ]\n",
        "85 - Predicted: 1 Actual: 1 [ 0.250 0.750 0.000 0.000 0.000 0.000 0.000 ]\n",
        "86 - Predicted: 0 Actual: 0 [ 0.500 0.000 0.000 0.000 0.000 0.000 0.500 ]\n",
        "87 - Predicted: 0 Actual: 0 [ 0.619 0.347 0.000 0.000 0.000 0.000 0.034 ]\n",
        "88 - Predicted: 0 Actual: 1 [ 0.562 0.438 0.000 0.000 0.000 0.000 0.000 ]\n",
        "89 - Predicted: 1 Actual: 2 [ 0.099 0.465 0.197 0.070 0.028 0.141 0.000 ]\n",
        "90"
       ]
      },
      {
       "output_type": "stream",
       "stream": "stdout",
       "text": [
        " - Predicted: 1 Actual: 1 [ 0.141 0.671 0.082 0.012 0.047 0.047 0.000 ]\n",
        "91 - Predicted: 2 Actual: 2 [ 0.000 0.250 0.500 0.125 0.000 0.125 0.000 ]\n",
        "92 - Predicted: 0 Actual: 0 [ 0.473 0.473 0.000 0.000 0.000 0.000 0.055 ]\n",
        "93 - Predicted: 1 Actual: 1 [ 0.333 0.667 0.000 0.000 0.000 0.000 0.000 ]\n",
        "94 - Predicted: 1 Actual: 1 [ 0.081 0.443 0.289 0.040 0.020 0.128 0.000 ]\n",
        "95 - Predicted: 0 Actual: 0 [ 0.542 0.407 0.000 0.000 0.000 0.000 0.051 ]\n",
        "96 - Predicted: 1 Actual: 1 [ 0.020 0.490 0.245 0.041 0.102 0.102 0.000 ]\n",
        "97 - Predicted: 0 Actual: 0 [ 0.750 0.125 0.000 0.000 0.000 0.000 0.125 ]\n",
        "98 - Predicted: 1 Actual: 0 [ 0.250 0.750 0.000 0.000 0.000 0.000 0.000 ]\n",
        "99 - Predicted: 0 Actual: 1 [ 0.759 0.222 0.000 0.000 0.000 0.000 0.019 ]\n",
        "100"
       ]
      },
      {
       "output_type": "stream",
       "stream": "stdout",
       "text": [
        " - Predicted: 0 Actual: 0 [ 0.567 0.367 0.000 0.000 0.000 0.000 0.067 ]\n",
        "101 - Predicted: 0 Actual: 0 [ 0.656 0.279 0.000 0.000 0.000 0.000 0.066 ]\n",
        "102 - Predicted: 0 Actual: 1 [ 0.567 0.367 0.000 0.000 0.000 0.000 0.067 ]\n",
        "103 - Predicted: 0 Actual: 1 [ 0.500 0.500 0.000 0.000 0.000 0.000 0.000 ]\n",
        "104 - Predicted: 1 Actual: 0 [ 0.333 0.500 0.000 0.000 0.000 0.000 0.167 ]\n",
        "105 - Predicted: 5 Actual: 1 [ 0.050 0.250 0.250 0.000 0.050 0.400 0.000 ]\n",
        "106 - Predicted: 0 Actual: 2 [ 0.571 0.143 0.143 0.000 0.143 0.000 0.000 ]\n",
        "107 - Predicted: 0 Actual: 0 [ 0.600 0.400 0.000 0.000 0.000 0.000 0.000 ]\n",
        "108 - Predicted: 1 Actual: 1 [ 0.091 0.697 0.121 0.000 0.045 0.045 0.000 ]\n",
        "109 - Predicted: 1 Actual: 1 [ 0.171 0.800 0.029 0.000 0.000 0.000 0.000 ]\n",
        "110"
       ]
      },
      {
       "output_type": "stream",
       "stream": "stdout",
       "text": [
        " - Predicted: 1 Actual: 1 [ 0.091 0.909 0.000 0.000 0.000 0.000 0.000 ]\n",
        "111 - Predicted: 1 Actual: 1 [ 0.167 0.583 0.000 0.000 0.250 0.000 0.000 ]\n",
        "112 - Predicted: 0 Actual: 0 [ 0.750 0.250 0.000 0.000 0.000 0.000 0.000 ]\n",
        "113 - Predicted: 0 Actual: 0 [ 0.917 0.083 0.000 0.000 0.000 0.000 0.000 ]\n",
        "114 - Predicted: 1 Actual: 2 [ 0.088 0.824 0.029 0.000 0.029 0.029 0.000 ]\n",
        "115 - Predicted: 1 Actual: 1 [ 0.000 0.688 0.125 0.000 0.188 0.000 0.000 ]\n",
        "116 - Predicted: 1 Actual: 0 [ 0.088 0.824 0.029 0.000 0.029 0.029 0.000 ]\n",
        "117 - Predicted: 0 Actual: 1 [ 0.917 0.083 0.000 0.000 0.000 0.000 0.000 ]\n",
        "118 - Predicted: 0 Actual: 0 [ 0.917 0.083 0.000 0.000 0.000 0.000 0.000 ]\n",
        "119 - Predicted: 1 Actual: 1 [ 0.045 0.864 0.045 0.000 0.045 0.000 0.000 ]\n",
        "120"
       ]
      },
      {
       "output_type": "stream",
       "stream": "stdout",
       "text": [
        " - Predicted: 1 Actual: 1 [ 0.088 0.824 0.029 0.000 0.029 0.029 0.000 ]\n",
        "121 - Predicted: 1 Actual: 1 [ 0.467 0.533 0.000 0.000 0.000 0.000 0.000 ]\n",
        "122 - Predicted: 1 Actual: 1 [ 0.429 0.551 0.000 0.000 0.000 0.000 0.020 ]\n",
        "123 - Predicted: 0 Actual: 0 [ 0.600 0.400 0.000 0.000 0.000 0.000 0.000 ]\n",
        "124 - Predicted: 1 Actual: 0 [ 0.423 0.577 0.000 0.000 0.000 0.000 0.000 ]\n",
        "125 - Predicted: 2 Actual: 2 [ 0.000 0.118 0.706 0.000 0.000 0.176 0.000 ]\n",
        "126 - Predicted: 0 Actual: 0 [ 0.500 0.500 0.000 0.000 0.000 0.000 0.000 ]\n",
        "127 - Predicted: 0 Actual: 0 [ 0.522 0.478 0.000 0.000 0.000 0.000 0.000 ]\n",
        "128 - Predicted: 1 Actual: 1 [ 0.100 0.650 0.000 0.000 0.150 0.100 0.000 ]\n",
        "129 - Predicted: 0 Actual: 1 [ 0.714 0.286 0.000 0.000 0.000 0.000 0.000 ]\n",
        "130"
       ]
      },
      {
       "output_type": "stream",
       "stream": "stdout",
       "text": [
        " - Predicted: 1 Actual: 1 [ 0.412 0.471 0.000 0.000 0.000 0.000 0.118 ]\n",
        "131 - Predicted: 1 Actual: 0 [ 0.000 0.667 0.333 0.000 0.000 0.000 0.000 ]\n",
        "132 - Predicted: 0 Actual: 0 [ 0.533 0.367 0.000 0.000 0.000 0.000 0.100 ]\n",
        "133 - Predicted: 1 Actual: 2 [ 0.188 0.656 0.094 0.000 0.031 0.031 0.000 ]\n",
        "134 - Predicted: 1 Actual: 0 [ 0.385 0.538 0.000 0.000 0.000 0.000 0.077 ]\n",
        "135 - Predicted: 1 Actual: 1 [ 0.083 0.917 0.000 0.000 0.000 0.000 0.000 ]\n",
        "136 - Predicted: 1 Actual: 1 [ 0.250 0.750 0.000 0.000 0.000 0.000 0.000 ]\n",
        "137 - Predicted: 1 Actual: 1 [ 0.438 0.500 0.000 0.000 0.000 0.000 0.062 ]\n",
        "138 - Predicted: 1 Actual: 0 [ 0.000 0.500 0.000 0.000 0.500 0.000 0.000 ]\n",
        "139 - Predicted: 0 Actual: 1 [ 0.500 0.333 0.000 0.000 0.000 0.000 0.167 ]\n",
        "140"
       ]
      },
      {
       "output_type": "stream",
       "stream": "stdout",
       "text": [
        " - Predicted: 0 Actual: 0 [ 0.750 0.250 0.000 0.000 0.000 0.000 0.000 ]\n",
        "141 - Predicted: 1 Actual: 2 [ 0.048 0.381 0.238 0.000 0.000 0.333 0.000 ]\n",
        "142 - Predicted: 0 Actual: 0 [ 0.571 0.429 0.000 0.000 0.000 0.000 0.000 ]\n",
        "143 - Predicted: 1 Actual: 1 [ 0.111 0.778 0.111 0.000 0.000 0.000 0.000 ]\n",
        "144 - Predicted: 2 Actual: 1 [ 0.000 0.000 0.500 0.000 0.000 0.500 0.000 ]\n",
        "145 - Predicted: 0 Actual: 1 [ 0.774 0.176 0.000 0.000 0.000 0.000 0.050 ]\n",
        "146 - Predicted: 1 Actual: 1 [ 0.015 0.955 0.000 0.000 0.030 0.000 0.000 ]\n",
        "147 - Predicted: 0 Actual: 0 [ 0.516 0.452 0.000 0.000 0.000 0.000 0.032 ]\n",
        "148 - Predicted: 1 Actual: 0 [ 0.103 0.681 0.106 0.008 0.045 0.057 0.000 ]\n",
        "149 - Predicted: 0 Actual: 1 [ 0.444 0.444 0.000 0.000 0.000 0.000 0.111 ]\n",
        "150"
       ]
      },
      {
       "output_type": "stream",
       "stream": "stdout",
       "text": [
        " - Predicted: 2 Actual: 1 [ 0.071 0.214 0.571 0.000 0.000 0.143 0.000 ]\n",
        "151 - Predicted: 0 Actual: 0 [ 0.565 0.391 0.000 0.000 0.000 0.000 0.043 ]\n",
        "152 - Predicted: 1 Actual: 0 [ 0.364 0.636 0.000 0.000 0.000 0.000 0.000 ]\n",
        "153 - Predicted: 1 Actual: 1 [ 0.000 0.421 0.211 0.000 0.053 0.316 0.000 ]\n",
        "154 - Predicted: 1 Actual: 1 [ 0.200 0.800 0.000 0.000 0.000 0.000 0.000 ]\n",
        "155 - Predicted: 1 Actual: 2 [ 0.000 0.429 0.357 0.000 0.000 0.214 0.000 ]\n",
        "156 - Predicted: 0 Actual: 0 [ 0.571 0.429 0.000 0.000 0.000 0.000 0.000 ]\n",
        "157 - Predicted: 1 Actual: 1 [ 0.250 0.750 0.000 0.000 0.000 0.000 0.000 ]\n",
        "158 - Predicted: 1 Actual: 0 [ 0.200 0.800 0.000 0.000 0.000 0.000 0.000 ]\n",
        "159 - Predicted: 1 Actual: 1 [ 0.059 0.941 0.000 0.000 0.000 0.000 0.000 ]\n",
        "160"
       ]
      },
      {
       "output_type": "stream",
       "stream": "stdout",
       "text": [
        " - Predicted: 1 Actual: 0 [ 0.333 0.500 0.000 0.000 0.000 0.000 0.167 ]\n",
        "161 - Predicted: 0 Actual: 0 [ 0.606 0.364 0.000 0.000 0.000 0.000 0.030 ]\n",
        "162 - Predicted: 1 Actual: 2 [ 0.366 0.485 0.063 0.005 0.016 0.030 0.036 ]\n",
        "163 - Predicted: 1 Actual: 1 [ 0.083 0.917 0.000 0.000 0.000 0.000 0.000 ]\n",
        "164 - Predicted: 1 Actual: 0 [ 0.133 0.733 0.033 0.000 0.067 0.033 0.000 ]\n",
        "165 - Predicted: 1 Actual: 1 [ 0.176 0.647 0.118 0.000 0.000 0.059 0.000 ]\n",
        "166 - Predicted: 1 Actual: 1 [ 0.000 0.556 0.444 0.000 0.000 0.000 0.000 ]\n",
        "167 - Predicted: 0 Actual: 1 [ 0.500 0.500 0.000 0.000 0.000 0.000 0.000 ]\n",
        "168 - Predicted: 0 Actual: 0 [ 0.857 0.000 0.000 0.000 0.000 0.000 0.143 ]\n",
        "169 - Predicted: 1 Actual: 1 [ 0.014 0.957 0.000 0.000 0.029 0.000 0.000 ]\n",
        "170"
       ]
      },
      {
       "output_type": "stream",
       "stream": "stdout",
       "text": [
        " - Predicted: 2 Actual: 2 [ 0.000 0.250 0.750 0.000 0.000 0.000 0.000 ]\n",
        "171 - Predicted: 1 Actual: 1 [ 0.000 0.800 0.000 0.000 0.200 0.000 0.000 ]\n",
        "172 - Predicted: 1 Actual: 0 [ 0.321 0.679 0.000 0.000 0.000 0.000 0.000 ]\n",
        "173 - Predicted: 0 Actual: 0 [ 0.750 0.167 0.000 0.000 0.000 0.000 0.083 ]\n",
        "174 - Predicted: 0 Actual: 0 [ 0.750 0.167 0.000 0.000 0.000 0.000 0.083 ]\n",
        "175 - Predicted: 1 Actual: 1 [ 0.037 0.874 0.010 0.000 0.079 0.000 0.000 ]\n",
        "176 - Predicted: 0 Actual: 1 [ 0.500 0.500 0.000 0.000 0.000 0.000 0.000 ]\n",
        "177 - Predicted: 1 Actual: 0 [ 0.100 0.725 0.150 0.000 0.000 0.025 0.000 ]\n",
        "178 - Predicted: 0 Actual: 1 [ 0.475 0.436 0.000 0.000 0.004 0.000 0.084 ]\n",
        "179 - Predicted: 1 Actual: 1 [ 0.333 0.667 0.000 0.000 0.000 0.000 0.000 ]\n",
        "180"
       ]
      },
      {
       "output_type": "stream",
       "stream": "stdout",
       "text": [
        " - Predicted: 0 Actual: 1 [ 0.554 0.391 0.000 0.000 0.000 0.000 0.054 ]\n",
        "181 - Predicted: 0 Actual: 0 [ 0.857 0.143 0.000 0.000 0.000 0.000 0.000 ]\n",
        "182 - Predicted: 0 Actual: 0 [ 0.500 0.500 0.000 0.000 0.000 0.000 0.000 ]\n",
        "183 - Predicted: 0 Actual: 1 [ 0.600 0.400 0.000 0.000 0.000 0.000 0.000 ]\n",
        "184 - Predicted: 1 Actual: 0 [ 0.333 0.667 0.000 0.000 0.000 0.000 0.000 ]\n",
        "185 - Predicted: 1 Actual: 1 [ 0.098 0.692 0.105 0.008 0.044 0.053 0.000 ]\n",
        "186 - Predicted: 1 Actual: 1 [ 0.098 0.692 0.105 0.008 0.044 0.053 0.000 ]\n",
        "187 - Predicted: 1 Actual: 2 [ 0.000 0.500 0.000 0.000 0.000 0.500 0.000 ]\n",
        "188 - Predicted: 0 Actual: 1 [ 0.690 0.310 0.000 0.000 0.000 0.000 0.000 ]\n",
        "189 - Predicted: 0 Actual: 0 [ 0.429 0.286 0.000 0.000 0.000 0.000 0.286 ]\n",
        "190"
       ]
      },
      {
       "output_type": "stream",
       "stream": "stdout",
       "text": [
        " - Predicted: 0 Actual: 1 [ 0.500 0.500 0.000 0.000 0.000 0.000 0.000 ]\n",
        "191 - Predicted: 0 Actual: 1 [ 0.500 0.500 0.000 0.000 0.000 0.000 0.000 ]\n",
        "192 - Predicted: 0 Actual: 0 [ 0.333 0.333 0.000 0.000 0.000 0.000 0.333 ]\n",
        "193 - Predicted: 0 Actual: 0 [ 0.500 0.500 0.000 0.000 0.000 0.000 0.000 ]\n",
        "194 - Predicted: 1 Actual: 1 [ 0.234 0.416 0.000 0.000 0.000 0.000 0.350 ]\n",
        "195 - Predicted: 0 Actual: 0 [ 0.584 0.416 0.000 0.000 0.000 0.000 0.000 ]\n",
        "196 - Predicted: 0 Actual: 0 [ 0.900 0.000 0.000 0.000 0.000 0.000 0.100 ]\n",
        "197 - Predicted: 0 Actual: 1 [ 0.636 0.364 0.000 0.000 0.000 0.000 0.000 ]\n",
        "198 - Predicted: 1 Actual: 1 [ 0.086 0.674 0.100 0.023 0.054 0.054 0.009 ]\n",
        "199 - Predicted: 1 Actual: 2 [ 0.086 0.674 0.100 0.023 0.054 0.054 0.009 ]\n",
        "200"
       ]
      },
      {
       "output_type": "stream",
       "stream": "stdout",
       "text": [
        " - Predicted: 1 Actual: 0 [ 0.143 0.857 0.000 0.000 0.000 0.000 0.000 ]\n",
        "201 - Predicted: 1 Actual: 1 [ 0.214 0.429 0.143 0.000 0.214 0.000 0.000 ]\n",
        "202 - Predicted: 1 Actual: 1 [ 0.478 0.522 0.000 0.000 0.000 0.000 0.000 ]\n",
        "203 - Predicted: 1 Actual: 1 [ 0.086 0.674 0.100 0.023 0.054 0.054 0.009 ]\n",
        "204 - Predicted: 2 Actual: 2 [ 0.000 0.191 0.573 0.040 0.040 0.156 0.000 ]\n",
        "205 - Predicted: 1 Actual: 1 [ 0.000 0.800 0.133 0.000 0.067 0.000 0.000 ]\n",
        "206 - Predicted: 1 Actual: 0 [ 0.086 0.674 0.100 0.023 0.054 0.054 0.009 ]\n",
        "207 - Predicted: 0 Actual: 1 [ 0.638 0.276 0.000 0.000 0.000 0.000 0.087 ]\n",
        "208 - Predicted: 0 Actual: 0 [ 0.667 0.333 0.000 0.000 0.000 0.000 0.000 ]\n",
        "209 - Predicted: 0 Actual: 0 [ 0.500 0.500 0.000 0.000 0.000 0.000 0.000 ]\n",
        "210"
       ]
      },
      {
       "output_type": "stream",
       "stream": "stdout",
       "text": [
        " - Predicted: 0 Actual: 1 [ 0.500 0.500 0.000 0.000 0.000 0.000 0.000 ]\n",
        "211 - Predicted: 0 Actual: 1 [ 0.600 0.400 0.000 0.000 0.000 0.000 0.000 ]\n",
        "212 - Predicted: 2 Actual: 2 [ 0.000 0.333 0.500 0.000 0.000 0.167 0.000 ]\n",
        "213 - Predicted: 1 Actual: 1 [ 0.100 0.688 0.104 0.013 0.043 0.052 0.000 ]\n",
        "214 - Predicted: 0 Actual: 0 [ 0.833 0.000 0.000 0.000 0.000 0.000 0.167 ]\n",
        "215 - Predicted: 0 Actual: 0 [ 0.750 0.250 0.000 0.000 0.000 0.000 0.000 ]\n",
        "216 - Predicted: 0 Actual: 1 [ 0.600 0.200 0.000 0.000 0.000 0.000 0.200 ]\n",
        "217 - Predicted: 1 Actual: 1 [ 0.100 0.688 0.104 0.013 0.043 0.052 0.000 ]\n",
        "218 - Predicted: 0 Actual: 0 [ 0.500 0.500 0.000 0.000 0.000 0.000 0.000 ]\n",
        "219 - Predicted: 0 Actual: 0 [ 0.800 0.200 0.000 0.000 0.000 0.000 0.000 ]\n",
        "220"
       ]
      },
      {
       "output_type": "stream",
       "stream": "stdout",
       "text": [
        " - Predicted: 1 Actual: 1 [ 0.235 0.765 0.000 0.000 0.000 0.000 0.000 ]\n",
        "221 - Predicted: 5 Actual: 2 [ 0.000 0.286 0.143 0.071 0.000 0.500 0.000 ]\n",
        "222 - Predicted: 1 Actual: 1 [ 0.176 0.784 0.000 0.000 0.020 0.020 0.000 ]\n",
        "223 - Predicted: 0 Actual: 0 [ 0.733 0.200 0.000 0.000 0.000 0.000 0.067 ]\n",
        "224 - Predicted: 1 Actual: 1 [ 0.084 0.635 0.126 0.000 0.048 0.108 0.000 ]\n",
        "225 - Predicted: 0 Actual: 0 [ 0.710 0.257 0.000 0.000 0.000 0.000 0.033 ]\n",
        "226 - Predicted: 0 Actual: 0 [ 0.750 0.250 0.000 0.000 0.000 0.000 0.000 ]\n",
        "227 - Predicted: 0 Actual: 0 [ 0.538 0.231 0.000 0.000 0.000 0.000 0.231 ]\n",
        "228 - Predicted: 1 Actual: 1 [ 0.176 0.784 0.000 0.000 0.020 0.020 0.000 ]\n",
        "229 - Predicted: 0 Actual: 1 [ 0.484 0.455 0.000 0.000 0.000 0.000 0.061 ]\n",
        "230"
       ]
      },
      {
       "output_type": "stream",
       "stream": "stdout",
       "text": [
        " - Predicted: 1 Actual: 1 [ 0.000 0.765 0.118 0.000 0.059 0.059 0.000 ]\n",
        "231 - Predicted: 1 Actual: 1 [ 0.125 0.875 0.000 0.000 0.000 0.000 0.000 ]\n",
        "232 - Predicted: 0 Actual: 1 [ 0.667 0.333 0.000 0.000 0.000 0.000 0.000 ]\n",
        "233 - Predicted: 2 Actual: 2 [ 0.000 0.065 0.741 0.000 0.000 0.194 0.000 ]\n",
        "234 - Predicted: 0 Actual: 0 [ 0.500 0.375 0.000 0.000 0.000 0.000 0.125 ]\n",
        "235 - Predicted: 1 Actual: 0 [ 0.400 0.533 0.000 0.000 0.000 0.000 0.067 ]\n",
        "236 - Predicted: 1 Actual: 1 [ 0.292 0.583 0.000 0.000 0.000 0.000 0.125 ]\n",
        "237 - Predicted: 0 Actual: 0 [ 0.582 0.368 0.000 0.000 0.000 0.000 0.051 ]\n",
        "238 - Predicted: 1 Actual: 0 [ 0.083 0.632 0.150 0.015 0.045 0.075 0.000 ]\n",
        "239 - Predicted: 1 Actual: 1 [ 0.100 0.900 0.000 0.000 0.000 0.000 0.000 ]\n",
        "240"
       ]
      },
      {
       "output_type": "stream",
       "stream": "stdout",
       "text": [
        " - Predicted: 0 Actual: 0 [ 0.857 0.000 0.000 0.000 0.000 0.000 0.143 ]\n",
        "241 - Predicted: 1 Actual: 0 [ 0.333 0.667 0.000 0.000 0.000 0.000 0.000 ]\n",
        "242 - Predicted: 1 Actual: 0 [ 0.101 0.669 0.115 0.007 0.041 0.068 0.000 ]\n",
        "243 - Predicted: 0 Actual: 1 [ 0.500 0.417 0.000 0.000 0.000 0.000 0.083 ]\n",
        "244 - Predicted: 1 Actual: 1 [ 0.083 0.917 0.000 0.000 0.000 0.000 0.000 ]\n",
        "245 - Predicted: 1 Actual: 1 [ 0.101 0.669 0.115 0.007 0.041 0.068 0.000 ]\n",
        "246 - Predicted: 0 Actual: 1 [ 0.733 0.267 0.000 0.000 0.000 0.000 0.000 ]\n",
        "247 - Predicted: 1 Actual: 2 [ 0.030 0.515 0.212 0.000 0.091 0.152 0.000 ]\n",
        "248 - Predicted: 0 Actual: 0 [ 0.609 0.326 0.000 0.000 0.000 0.000 0.065 ]\n",
        "249 - Predicted: 0 Actual: 1 [ 0.553 0.383 0.000 0.000 0.000 0.000 0.064 ]\n",
        "250"
       ]
      },
      {
       "output_type": "stream",
       "stream": "stdout",
       "text": [
        " - Predicted: 1 Actual: 1 [ 0.059 0.941 0.000 0.000 0.000 0.000 0.000 ]\n",
        "251 - Predicted: 0 Actual: 0 [ 0.727 0.091 0.000 0.000 0.000 0.000 0.182 ]\n",
        "252 - Predicted: 1 Actual: 2 [ 0.097 0.661 0.129 0.008 0.056 0.048 0.000 ]\n",
        "253 - Predicted: 0 Actual: 0 [ 0.500 0.500 0.000 0.000 0.000 0.000 0.000 ]\n",
        "254 - Predicted: 0 Actual: 1 [ 0.692 0.308 0.000 0.000 0.000 0.000 0.000 ]\n",
        "255 - Predicted: 1 Actual: 1 [ 0.000 0.600 0.200 0.000 0.050 0.150 0.000 ]\n",
        "256 - Predicted: 1 Actual: 1 [ 0.097 0.661 0.129 0.008 0.056 0.048 0.000 ]\n",
        "257 - Predicted: 2 Actual: 0 [ 0.115 0.195 0.534 0.000 0.011 0.144 0.000 ]\n",
        "258 - Predicted: 1 Actual: 1 [ 0.097 0.661 0.129 0.008 0.056 0.048 0.000 ]\n",
        "259 - Predicted: 0 Actual: 0 [ 0.892 0.108 0.000 0.000 0.000 0.000 0.000 ]\n",
        "260"
       ]
      },
      {
       "output_type": "stream",
       "stream": "stdout",
       "text": [
        " - Predicted: 0 Actual: 0 [ 0.833 0.167 0.000 0.000 0.000 0.000 0.000 ]\n",
        "261 - Predicted: 0 Actual: 0 [ 0.786 0.000 0.000 0.000 0.000 0.000 0.214 ]\n",
        "262 - Predicted: 0 Actual: 1 [ 0.500 0.500 0.000 0.000 0.000 0.000 0.000 ]\n",
        "263 - Predicted: 1 Actual: 1 [ 0.000 0.750 0.250 0.000 0.000 0.000 0.000 ]\n",
        "264 - Predicted: 2 Actual: 2 [ 0.000 0.000 0.750 0.250 0.000 0.000 0.000 ]\n",
        "265 - Predicted: 1 Actual: 1 [ 0.152 0.750 0.036 0.000 0.018 0.045 0.000 ]\n",
        "266 - Predicted: 0 Actual: 1 [ 0.598 0.398 0.000 0.000 0.000 0.000 0.004 ]\n",
        "267 - Predicted: 1 Actual: 1 [ 0.200 0.800 0.000 0.000 0.000 0.000 0.000 ]\n",
        "268 - Predicted: 1 Actual: 0 [ 0.333 0.500 0.000 0.000 0.167 0.000 0.000 ]\n",
        "269 - Predicted: 0 Actual: 0 [ 0.667 0.333 0.000 0.000 0.000 0.000 0.000 ]\n",
        "270"
       ]
      },
      {
       "output_type": "stream",
       "stream": "stdout",
       "text": [
        " - Predicted: 0 Actual: 1 [ 0.562 0.397 0.000 0.000 0.000 0.000 0.040 ]\n",
        "271 - Predicted: 1 Actual: 1 [ 0.142 0.790 0.023 0.000 0.014 0.027 0.005 ]\n",
        "272 - Predicted: 1 Actual: 1 [ 0.286 0.714 0.000 0.000 0.000 0.000 0.000 ]\n",
        "273 - Predicted: 1 Actual: 1 [ 0.000 0.889 0.000 0.000 0.111 0.000 0.000 ]\n",
        "274 - Predicted: 0 Actual: 0 [ 0.562 0.397 0.000 0.000 0.000 0.000 0.040 ]\n",
        "275 - Predicted: 0 Actual: 0 [ 0.545 0.000 0.000 0.000 0.000 0.000 0.455 ]\n",
        "276 - Predicted: 0 Actual: 0 [ 0.562 0.397 0.000 0.000 0.000 0.000 0.040 ]\n",
        "277 - Predicted: 1 Actual: 1 [ 0.000 0.621 0.172 0.000 0.103 0.103 0.000 ]\n",
        "278 - Predicted: 1 Actual: 2 [ 0.000 0.500 0.250 0.000 0.000 0.250 0.000 ]\n",
        "279 - Predicted: 0 Actual: 0 [ 0.556 0.444 0.000 0.000 0.000 0.000 0.000 ]\n",
        "280"
       ]
      },
      {
       "output_type": "stream",
       "stream": "stdout",
       "text": [
        " - Predicted: 0 Actual: 0 [ 0.400 0.400 0.000 0.000 0.000 0.000 0.200 ]\n",
        "281 - Predicted: 0 Actual: 0 [ 0.558 0.442 0.000 0.000 0.000 0.000 0.000 ]\n",
        "282 - Predicted: 1 Actual: 1 [ 0.000 0.800 0.200 0.000 0.000 0.000 0.000 ]\n",
        "283 - Predicted: 1 Actual: 1 [ 0.125 0.583 0.208 0.000 0.042 0.042 0.000 ]\n",
        "284 - Predicted: 1 Actual: 1 [ 0.017 0.828 0.086 0.000 0.034 0.034 0.000 ]\n",
        "285 - Predicted: 1 Actual: 2 [ 0.125 0.583 0.208 0.000 0.042 0.042 0.000 ]\n",
        "286 - Predicted: 0 Actual: 0 [ 0.577 0.405 0.000 0.000 0.000 0.000 0.018 ]\n",
        "287 - Predicted: 0 Actual: 1 [ 0.636 0.364 0.000 0.000 0.000 0.000 0.000 ]\n",
        "288 - Predicted: 1 Actual: 1 [ 0.017 0.828 0.086 0.000 0.034 0.034 0.000 ]\n",
        "289 - Predicted: 1 Actual: 0 [ 0.055 0.945 0.000 0.000 0.000 0.000 0.000 ]\n",
        "290"
       ]
      },
      {
       "output_type": "stream",
       "stream": "stdout",
       "text": [
        " - Predicted: 1 Actual: 1 [ 0.250 0.750 0.000 0.000 0.000 0.000 0.000 ]\n",
        "291 - Predicted: 1 Actual: 2 [ 0.017 0.828 0.086 0.000 0.034 0.034 0.000 ]\n",
        "292 - Predicted: 1 Actual: 1 [ 0.019 0.981 0.000 0.000 0.000 0.000 0.000 ]\n",
        "293 - Predicted: 1 Actual: 1 [ 0.019 0.981 0.000 0.000 0.000 0.000 0.000 ]\n",
        "294 - Predicted: 1 Actual: 0 [ 0.333 0.667 0.000 0.000 0.000 0.000 0.000 ]\n",
        "295 - Predicted: 1 Actual: 1 [ 0.278 0.556 0.000 0.000 0.000 0.000 0.167 ]\n",
        "296 - Predicted: 1 Actual: 0 [ 0.375 0.625 0.000 0.000 0.000 0.000 0.000 ]\n",
        "297 - Predicted: 1 Actual: 1 [ 0.286 0.714 0.000 0.000 0.000 0.000 0.000 ]\n",
        "298 - Predicted: 1 Actual: 0 [ 0.333 0.667 0.000 0.000 0.000 0.000 0.000 ]\n",
        "299 - Predicted: 0 Actual: 0 [ 0.750 0.183 0.000 0.000 0.000 0.000 0.067 ]\n",
        "300"
       ]
      },
      {
       "output_type": "stream",
       "stream": "stdout",
       "text": [
        " - Predicted: 0 Actual: 0 [ 0.500 0.467 0.000 0.000 0.000 0.000 0.033 ]\n",
        "301 - Predicted: 1 Actual: 0 [ 0.174 0.826 0.000 0.000 0.000 0.000 0.000 ]\n",
        "302 - Predicted: 1 Actual: 1 [ 0.333 0.667 0.000 0.000 0.000 0.000 0.000 ]\n",
        "303 - Predicted: 0 Actual: 1 [ 0.750 0.250 0.000 0.000 0.000 0.000 0.000 ]\n",
        "304 - Predicted: 1 Actual: 1 [ 0.374 0.626 0.000 0.000 0.000 0.000 0.000 ]\n",
        "305 - Predicted: 2 Actual: 0 [ 0.000 0.286 0.429 0.000 0.143 0.143 0.000 ]\n",
        "306 - Predicted: 1 Actual: 1 [ 0.250 0.750 0.000 0.000 0.000 0.000 0.000 ]\n",
        "307 - Predicted: 0 Actual: 0 [ 0.500 0.467 0.000 0.000 0.000 0.000 0.033 ]\n",
        "308 - Predicted: 1 Actual: 1 [ 0.296 0.704 0.000 0.000 0.000 0.000 0.000 ]\n",
        "309 - Predicted: 5 Actual: 2 [ 0.000 0.000 0.200 0.200 0.000 0.600 0.000 ]\n",
        "310"
       ]
      },
      {
       "output_type": "stream",
       "stream": "stdout",
       "text": [
        " - Predicted: 0 Actual: 0 [ 0.559 0.441 0.000 0.000 0.000 0.000 0.000 ]\n",
        "311 - Predicted: 1 Actual: 1 [ 0.250 0.750 0.000 0.000 0.000 0.000 0.000 ]\n",
        "312 - Predicted: 0 Actual: 0 [ 0.500 0.500 0.000 0.000 0.000 0.000 0.000 ]\n",
        "313 - Predicted: 0 Actual: 1 [ 0.559 0.441 0.000 0.000 0.000 0.000 0.000 ]\n",
        "314 - Predicted: 0 Actual: 0 [ 0.559 0.441 0.000 0.000 0.000 0.000 0.000 ]\n",
        "315 - Predicted: 1 Actual: 0 [ 0.210 0.529 0.000 0.000 0.000 0.000 0.261 ]\n",
        "316 - Predicted: 2 Actual: 2 [ 0.000 0.000 0.500 0.000 0.000 0.500 0.000 ]\n",
        "317 - Predicted: 1 Actual: 1 [ 0.400 0.600 0.000 0.000 0.000 0.000 0.000 ]\n",
        "318 - Predicted: 0 Actual: 1 [ 0.475 0.459 0.000 0.000 0.000 0.000 0.066 ]\n",
        "319 - Predicted: 1 Actual: 1 [ 0.250 0.500 0.000 0.000 0.000 0.000 0.250 ]\n",
        "320"
       ]
      },
      {
       "output_type": "stream",
       "stream": "stdout",
       "text": [
        " - Predicted: 1 Actual: 1 [ 0.200 0.800 0.000 0.000 0.000 0.000 0.000 ]\n",
        "321 - Predicted: 0 Actual: 0 [ 0.900 0.100 0.000 0.000 0.000 0.000 0.000 ]\n",
        "322 - Predicted: 1 Actual: 2 [ 0.125 0.875 0.000 0.000 0.000 0.000 0.000 ]\n",
        "323 - Predicted: 1 Actual: 1 [ 0.271 0.729 0.000 0.000 0.000 0.000 0.000 ]\n",
        "324 - Predicted: 1 Actual: 1 [ 0.286 0.571 0.000 0.000 0.000 0.000 0.143 ]\n",
        "325 - Predicted: 1 Actual: 0 [ 0.125 0.646 0.104 0.000 0.083 0.042 0.000 ]\n",
        "326 - Predicted: 0 Actual: 0 [ 0.508 0.465 0.000 0.000 0.000 0.000 0.027 ]\n",
        "327 - Predicted: 0 Actual: 0 [ 0.611 0.389 0.000 0.000 0.000 0.000 0.000 ]\n",
        "328 - Predicted: 0 Actual: 1 [ 0.611 0.389 0.000 0.000 0.000 0.000 0.000 ]\n",
        "329 - Predicted: 1 Actual: 1 [ 0.000 0.828 0.034 0.000 0.069 0.069 0.000 ]\n",
        "330"
       ]
      },
      {
       "output_type": "stream",
       "stream": "stdout",
       "text": [
        " - Predicted: 0 Actual: 1 [ 0.750 0.109 0.000 0.000 0.000 0.000 0.141 ]\n",
        "331 - Predicted: 1 Actual: 2 [ 0.000 0.444 0.333 0.000 0.000 0.222 0.000 ]\n",
        "332 - Predicted: 1 Actual: 1 [ 0.167 0.694 0.028 0.000 0.056 0.056 0.000 ]\n",
        "333 - Predicted: 0 Actual: 0 [ 0.775 0.138 0.000 0.000 0.000 0.000 0.087 ]\n",
        "334 - Predicted: 1 Actual: 0 [ 0.333 0.667 0.000 0.000 0.000 0.000 0.000 ]\n",
        "335 - Predicted: 1 Actual: 0 [ 0.250 0.750 0.000 0.000 0.000 0.000 0.000 ]\n",
        "336 - Predicted: 1 Actual: 1 [ 0.100 0.500 0.400 0.000 0.000 0.000 0.000 ]\n",
        "337 - Predicted: 1 Actual: 1 [ 0.011 0.449 0.225 0.000 0.011 0.303 0.000 ]\n",
        "338 - Predicted: 1 Actual: 0 [ 0.452 0.525 0.000 0.000 0.023 0.000 0.000 ]\n",
        "339 - Predicted: 1 Actual: 1 [ 0.167 0.694 0.028 0.000 0.056 0.056 0.000 ]\n",
        "340"
       ]
      },
      {
       "output_type": "stream",
       "stream": "stdout",
       "text": [
        " - Predicted: 1 Actual: 0 [ 0.261 0.739 0.000 0.000 0.000 0.000 0.000 ]\n",
        "341 - Predicted: 0 Actual: 1 [ 0.625 0.125 0.000 0.000 0.000 0.000 0.250 ]\n",
        "342 - Predicted: 0 Actual: 0 [ 0.900 0.050 0.000 0.000 0.000 0.000 0.050 ]\n",
        "343 - Predicted: 1 Actual: 1 [ 0.000 0.500 0.000 0.000 0.500 0.000 0.000 ]\n",
        "344 - Predicted: 2 Actual: 1 [ 0.066 0.342 0.409 0.014 0.042 0.127 0.000 ]\n",
        "345 - Predicted: 0 Actual: 1 [ 0.500 0.500 0.000 0.000 0.000 0.000 0.000 ]\n",
        "346 - Predicted: 1 Actual: 0 [ 0.250 0.750 0.000 0.000 0.000 0.000 0.000 ]\n",
        "347 - Predicted: 1 Actual: 2 [ 0.000 0.500 0.500 0.000 0.000 0.000 0.000 ]\n",
        "348 - Predicted: 0 Actual: 0 [ 0.915 0.085 0.000 0.000 0.000 0.000 0.000 ]\n",
        "349 - Predicted: 1 Actual: 1 [ 0.000 0.647 0.235 0.000 0.059 0.059 0.000 ]\n",
        "350"
       ]
      },
      {
       "output_type": "stream",
       "stream": "stdout",
       "text": [
        " - Predicted: 0 Actual: 0 [ 0.558 0.405 0.000 0.000 0.000 0.000 0.037 ]\n",
        "351 - Predicted: 0 Actual: 0 [ 0.571 0.429 0.000 0.000 0.000 0.000 0.000 ]\n",
        "352 - Predicted: 1 Actual: 1 [ 0.167 0.833 0.000 0.000 0.000 0.000 0.000 ]\n",
        "353 - Predicted: 1 Actual: 1 [ 0.000 0.667 0.333 0.000 0.000 0.000 0.000 ]\n",
        "354 - Predicted: 1 Actual: 1 [ 0.103 0.832 0.035 0.000 0.019 0.011 0.000 ]\n",
        "355 - Predicted: 1 Actual: 0 [ 0.333 0.667 0.000 0.000 0.000 0.000 0.000 ]\n",
        "356 - Predicted: 0 Actual: 1 [ 0.571 0.429 0.000 0.000 0.000 0.000 0.000 ]\n",
        "357 - Predicted: 0 Actual: 0 [ 0.500 0.500 0.000 0.000 0.000 0.000 0.000 ]\n",
        "358 - Predicted: 2 Actual: 2 [ 0.000 0.333 0.667 0.000 0.000 0.000 0.000 ]\n",
        "359 - Predicted: 0 Actual: 1 [ 0.693 0.307 0.000 0.000 0.000 0.000 0.000 ]\n",
        "360"
       ]
      },
      {
       "output_type": "stream",
       "stream": "stdout",
       "text": [
        " - Predicted: 0 Actual: 1 [ 0.538 0.462 0.000 0.000 0.000 0.000 0.000 ]\n",
        "361 - Predicted: 0 Actual: 0 [ 0.800 0.200 0.000 0.000 0.000 0.000 0.000 ]\n",
        "362 - Predicted: 0 Actual: 0 [ 0.917 0.083 0.000 0.000 0.000 0.000 0.000 ]\n",
        "363 - Predicted: 0 Actual: 1 [ 0.652 0.348 0.000 0.000 0.000 0.000 0.000 ]\n",
        "364 - Predicted: 1 Actual: 1 [ 0.154 0.846 0.000 0.000 0.000 0.000 0.000 ]\n",
        "365 - Predicted: 1 Actual: 1 [ 0.000 0.444 0.333 0.222 0.000 0.000 0.000 ]\n",
        "366 - Predicted: 0 Actual: 0 [ 0.708 0.292 0.000 0.000 0.000 0.000 0.000 ]\n",
        "367 - Predicted: 1 Actual: 0 [ 0.250 0.750 0.000 0.000 0.000 0.000 0.000 ]\n",
        "368 - Predicted: 2 Actual: 2 [ 0.250 0.000 0.750 0.000 0.000 0.000 0.000 ]\n",
        "369 - Predicted: 1 Actual: 1 [ 0.434 0.528 0.000 0.000 0.000 0.000 0.038 ]\n",
        "370"
       ]
      },
      {
       "output_type": "stream",
       "stream": "stdout",
       "text": [
        " - Predicted: 1 Actual: 2 [ 0.067 0.867 0.000 0.000 0.067 0.000 0.000 ]\n",
        "371 - Predicted: 0 Actual: 0 [ 0.769 0.000 0.000 0.000 0.000 0.000 0.231 ]\n",
        "372 - Predicted: 1 Actual: 1 [ 0.077 0.692 0.077 0.000 0.115 0.038 0.000 ]\n",
        "373 - Predicted: 1 Actual: 1 [ 0.429 0.571 0.000 0.000 0.000 0.000 0.000 ]\n",
        "374 - Predicted: 1 Actual: 0 [ 0.375 0.625 0.000 0.000 0.000 0.000 0.000 ]\n",
        "375 - Predicted: 1 Actual: 1 [ 0.375 0.625 0.000 0.000 0.000 0.000 0.000 ]\n",
        "376 - Predicted: 0 Actual: 1 [ 0.652 0.236 0.000 0.000 0.000 0.000 0.112 ]\n",
        "377 - Predicted: 0 Actual: 0 [ 0.662 0.308 0.000 0.000 0.000 0.000 0.031 ]\n",
        "378 - Predicted: 1 Actual: 1 [ 0.334 0.604 0.000 0.000 0.000 0.000 0.062 ]\n",
        "379 - Predicted: 0 Actual: 0 [ 0.500 0.467 0.000 0.000 0.000 0.000 0.033 ]\n",
        "380"
       ]
      },
      {
       "output_type": "stream",
       "stream": "stdout",
       "text": [
        " - Predicted: 0 Actual: 0 [ 0.667 0.333 0.000 0.000 0.000 0.000 0.000 ]\n",
        "381 - Predicted: 1 Actual: 0 [ 0.463 0.537 0.000 0.000 0.000 0.000 0.000 ]\n",
        "382 - Predicted: 1 Actual: 1 [ 0.111 0.667 0.111 0.000 0.000 0.111 0.000 ]\n",
        "383 - Predicted: 1 Actual: 0 [ 0.474 0.526 0.000 0.000 0.000 0.000 0.000 ]\n",
        "384 - Predicted: 1 Actual: 1 [ 0.417 0.500 0.000 0.000 0.000 0.000 0.083 ]\n",
        "385 - Predicted: 1 Actual: 1 [ 0.062 0.812 0.062 0.000 0.062 0.000 0.000 ]\n",
        "386 - Predicted: 1 Actual: 0 [ 0.062 0.812 0.062 0.000 0.062 0.000 0.000 ]\n",
        "387 - Predicted: 1 Actual: 1 [ 0.077 0.923 0.000 0.000 0.000 0.000 0.000 ]\n",
        "388 - Predicted: 1 Actual: 2 [ 0.105 0.737 0.053 0.000 0.105 0.000 0.000 ]\n",
        "389 - Predicted: 1 Actual: 1 [ 0.333 0.667 0.000 0.000 0.000 0.000 0.000 ]\n",
        "390"
       ]
      },
      {
       "output_type": "stream",
       "stream": "stdout",
       "text": [
        " - Predicted: 2 Actual: 2 [ 0.000 0.278 0.500 0.000 0.000 0.222 0.000 ]\n",
        "391 - Predicted: 1 Actual: 1 [ 0.177 0.618 0.000 0.000 0.000 0.000 0.205 ]\n",
        "392 - Predicted: 1 Actual: 1 [ 0.000 0.750 0.000 0.000 0.250 0.000 0.000 ]\n",
        "393 - Predicted: 0 Actual: 1 [ 0.500 0.500 0.000 0.000 0.000 0.000 0.000 ]\n",
        "394 - Predicted: 0 Actual: 0 [ 0.800 0.200 0.000 0.000 0.000 0.000 0.000 ]\n",
        "395 - Predicted: 0 Actual: 0 [ 0.514 0.358 0.000 0.000 0.000 0.000 0.128 ]\n",
        "396 - Predicted: 1 Actual: 0 [ 0.273 0.585 0.000 0.000 0.003 0.000 0.139 ]\n",
        "397 - Predicted: 1 Actual: 1 [ 0.100 0.400 0.200 0.000 0.300 0.000 0.000 ]\n",
        "398 - Predicted: 1 Actual: 1 [ 0.267 0.600 0.067 0.000 0.000 0.067 0.000 ]\n",
        "399 - Predicted: 0 Actual: 0 [ 0.518 0.440 0.000 0.000 0.002 0.000 0.040 ]\n",
        "400"
       ]
      },
      {
       "output_type": "stream",
       "stream": "stdout",
       "text": [
        " - Predicted: 1 Actual: 1 [ 0.250 0.750 0.000 0.000 0.000 0.000 0.000 ]\n",
        "401 - Predicted: 0 Actual: 0 [ 0.800 0.200 0.000 0.000 0.000 0.000 0.000 ]\n",
        "402 - Predicted: 1 Actual: 1 [ 0.222 0.778 0.000 0.000 0.000 0.000 0.000 ]\n",
        "403 - Predicted: 1 Actual: 1 [ 0.462 0.513 0.000 0.000 0.000 0.000 0.026 ]\n",
        "404 - Predicted: 1 Actual: 1 [ 0.000 0.500 0.250 0.000 0.000 0.250 0.000 ]\n",
        "405 - Predicted: 0 Actual: 1 [ 0.548 0.405 0.000 0.000 0.000 0.000 0.048 ]\n",
        "406 - Predicted: 2 Actual: 2 [ 0.000 0.065 0.690 0.013 0.000 0.232 0.000 ]\n",
        "407 - Predicted: 0 Actual: 0 [ 0.833 0.167 0.000 0.000 0.000 0.000 0.000 ]\n",
        "408 - Predicted: 0 Actual: 0 [ 0.833 0.167 0.000 0.000 0.000 0.000 0.000 ]\n",
        "409 - Predicted: 0 Actual: 0 [ 0.512 0.477 0.000 0.000 0.000 0.000 0.012 ]\n",
        "410"
       ]
      },
      {
       "output_type": "stream",
       "stream": "stdout",
       "text": [
        " - Predicted: 1 Actual: 1 [ 0.000 0.600 0.400 0.000 0.000 0.000 0.000 ]\n",
        "411 - Predicted: 2 Actual: 2 [ 0.000 0.233 0.509 0.038 0.011 0.209 0.000 ]\n",
        "412 - Predicted: 0 Actual: 0 [ 0.750 0.125 0.000 0.000 0.000 0.000 0.125 ]\n",
        "413 - Predicted: 1 Actual: 1 [ 0.160 0.733 0.076 0.000 0.015 0.015 0.000 ]\n",
        "414 - Predicted: 0 Actual: 0 [ 0.548 0.396 0.000 0.000 0.000 0.000 0.056 ]\n",
        "415 - Predicted: 0 Actual: 0 [ 0.600 0.400 0.000 0.000 0.000 0.000 0.000 ]\n",
        "416 - Predicted: 0 Actual: 1 [ 0.512 0.477 0.000 0.000 0.000 0.000 0.012 ]\n",
        "417 - Predicted: 0 Actual: 1 [ 0.512 0.477 0.000 0.000 0.000 0.000 0.012 ]\n",
        "418 - Predicted: 0 Actual: 0 [ 0.809 0.156 0.000 0.000 0.000 0.000 0.035 ]\n",
        "419 - Predicted: 1 Actual: 1 [ 0.038 0.962 0.000 0.000 0.000 0.000 0.000 ]\n",
        "420"
       ]
      },
      {
       "output_type": "stream",
       "stream": "stdout",
       "text": [
        " - Predicted: 0 Actual: 1 [ 0.500 0.500 0.000 0.000 0.000 0.000 0.000 ]\n",
        "421 - Predicted: 2 Actual: 2 [ 0.000 0.154 0.846 0.000 0.000 0.000 0.000 ]\n",
        "422 - Predicted: 1 Actual: 1 [ 0.000 0.381 0.381 0.000 0.000 0.238 0.000 ]\n",
        "423 - Predicted: 1 Actual: 0 [ 0.175 0.650 0.100 0.000 0.025 0.050 0.000 ]\n",
        "424 - Predicted: 1 Actual: 1 [ 0.000 0.500 0.500 0.000 0.000 0.000 0.000 ]\n",
        "425 - Predicted: 1 Actual: 1 [ 0.208 0.708 0.031 0.000 0.023 0.031 0.000 ]\n",
        "426 - Predicted: 0 Actual: 0 [ 0.576 0.388 0.000 0.000 0.012 0.000 0.024 ]\n",
        "427 - Predicted: 0 Actual: 1 [ 0.699 0.265 0.000 0.000 0.000 0.000 0.035 ]\n",
        "428 - Predicted: 1 Actual: 0 [ 0.369 0.515 0.031 0.000 0.031 0.046 0.008 ]\n",
        "429 - Predicted: 0 Actual: 0 [ 0.577 0.385 0.000 0.000 0.000 0.000 0.038 ]\n",
        "430"
       ]
      },
      {
       "output_type": "stream",
       "stream": "stdout",
       "text": [
        " - Predicted: 1 Actual: 0 [ 0.333 0.444 0.111 0.000 0.111 0.000 0.000 ]\n",
        "431 - Predicted: 0 Actual: 1 [ 0.546 0.402 0.000 0.000 0.021 0.000 0.031 ]\n",
        "432 - Predicted: 1 Actual: 0 [ 0.433 0.490 0.000 0.000 0.000 0.000 0.076 ]\n",
        "433 - Predicted: 1 Actual: 1 [ 0.079 0.868 0.026 0.000 0.000 0.026 0.000 ]\n",
        "434 - Predicted: 1 Actual: 2 [ 0.022 0.500 0.261 0.000 0.000 0.217 0.000 ]\n",
        "435 - Predicted: 0 Actual: 0 [ 0.667 0.333 0.000 0.000 0.000 0.000 0.000 ]\n",
        "436 - Predicted: 1 Actual: 1 [ 0.261 0.696 0.000 0.000 0.000 0.000 0.043 ]\n",
        "437 - Predicted: 0 Actual: 0 [ 0.500 0.500 0.000 0.000 0.000 0.000 0.000 ]\n",
        "438 - Predicted: 0 Actual: 1 [ 0.660 0.245 0.000 0.000 0.000 0.000 0.094 ]\n",
        "439 - Predicted: 1 Actual: 1 [ 0.077 0.388 0.327 0.025 0.041 0.141 0.001 ]\n",
        "440"
       ]
      },
      {
       "output_type": "stream",
       "stream": "stdout",
       "text": [
        " - Predicted: 0 Actual: 0 [ 0.750 0.250 0.000 0.000 0.000 0.000 0.000 ]\n",
        "441 - Predicted: 1 Actual: 1 [ 0.109 0.609 0.109 0.000 0.069 0.104 0.000 ]\n",
        "442 - Predicted: 1 Actual: 1 [ 0.250 0.583 0.000 0.000 0.000 0.000 0.167 ]\n",
        "443 - Predicted: 0 Actual: 0 [ 0.800 0.200 0.000 0.000 0.000 0.000 0.000 ]\n",
        "444 - Predicted: 1 Actual: 0 [ 0.467 0.522 0.000 0.000 0.011 0.000 0.000 ]\n",
        "445 - Predicted: 0 Actual: 0 [ 0.765 0.235 0.000 0.000 0.000 0.000 0.000 ]\n",
        "446 - Predicted: 1 Actual: 1 [ 0.000 0.900 0.000 0.000 0.100 0.000 0.000 ]\n",
        "447 - Predicted: 5 Actual: 2 [ 0.000 0.250 0.250 0.000 0.000 0.500 0.000 ]\n",
        "448 - Predicted: 1 Actual: 1 [ 0.467 0.522 0.000 0.000 0.011 0.000 0.000 ]\n",
        "449 - Predicted: 1 Actual: 1 [ 0.143 0.857 0.000 0.000 0.000 0.000 0.000 ]\n",
        "450"
       ]
      },
      {
       "output_type": "stream",
       "stream": "stdout",
       "text": [
        " - Predicted: 1 Actual: 1 [ 0.148 0.796 0.019 0.000 0.000 0.037 0.000 ]\n",
        "451 - Predicted: 1 Actual: 0 [ 0.326 0.674 0.000 0.000 0.000 0.000 0.000 ]\n",
        "452 - Predicted: 1 Actual: 0 [ 0.467 0.522 0.000 0.000 0.011 0.000 0.000 ]\n",
        "453 - Predicted: 1 Actual: 0 [ 0.467 0.522 0.000 0.000 0.011 0.000 0.000 ]\n",
        "454 - Predicted: 1 Actual: 1 [ 0.000 0.500 0.000 0.000 0.000 0.000 0.500 ]\n",
        "455 - Predicted: 0 Actual: 0 [ 0.694 0.273 0.000 0.000 0.000 0.000 0.033 ]\n",
        "456 - Predicted: 1 Actual: 1 [ 0.248 0.604 0.000 0.000 0.003 0.000 0.146 ]\n",
        "457 - Predicted: 0 Actual: 1 [ 0.552 0.387 0.000 0.000 0.000 0.000 0.061 ]\n",
        "458 - Predicted: 1 Actual: 1 [ 0.000 0.750 0.000 0.000 0.250 0.000 0.000 ]\n",
        "459 - Predicted: 1 Actual: 2 [ 0.200 0.400 0.000 0.000 0.000 0.400 0.000 ]\n",
        "460"
       ]
      },
      {
       "output_type": "stream",
       "stream": "stdout",
       "text": [
        " - Predicted: 1 Actual: 0 [ 0.366 0.484 0.063 0.005 0.016 0.030 0.036 ]\n",
        "461 - Predicted: 1 Actual: 1 [ 0.366 0.484 0.063 0.005 0.016 0.030 0.036 ]\n",
        "462 - Predicted: 1 Actual: 1 [ 0.273 0.636 0.091 0.000 0.000 0.000 0.000 ]\n",
        "463 - Predicted: 1 Actual: 1 [ 0.366 0.484 0.063 0.005 0.016 0.030 0.036 ]\n",
        "464 - Predicted: 1 Actual: 0 [ 0.366 0.484 0.063 0.005 0.016 0.030 0.036 ]\n",
        "465 - Predicted: 1 Actual: 1 [ 0.100 0.900 0.000 0.000 0.000 0.000 0.000 ]\n",
        "466 - Predicted: 1 Actual: 0 [ 0.366 0.484 0.063 0.005 0.016 0.030 0.036 ]\n",
        "467 - Predicted: 1 Actual: 2 [ 0.366 0.484 0.063 0.005 0.016 0.030 0.036 ]\n",
        "468 - Predicted: 1 Actual: 1 [ 0.366 0.484 0.063 0.005 0.016 0.030 0.036 ]\n",
        "469 - Predicted: 0 Actual: 0 [ 0.571 0.429 0.000 0.000 0.000 0.000 0.000 ]\n",
        "470"
       ]
      },
      {
       "output_type": "stream",
       "stream": "stdout",
       "text": [
        " - Predicted: 1 Actual: 0 [ 0.288 0.660 0.000 0.000 0.001 0.000 0.051 ]\n",
        "471 - Predicted: 1 Actual: 0 [ 0.288 0.660 0.000 0.000 0.001 0.000 0.051 ]\n",
        "472 - Predicted: 0 Actual: 1 [ 0.541 0.431 0.000 0.000 0.012 0.000 0.016 ]\n",
        "473 - Predicted: 1 Actual: 0 [ 0.339 0.459 0.098 0.008 0.018 0.042 0.035 ]\n",
        "474 - Predicted: 1 Actual: 2 [ 0.339 0.459 0.098 0.008 0.018 0.042 0.035 ]\n",
        "475 - Predicted: 1 Actual: 1 [ 0.178 0.750 0.031 0.000 0.017 0.019 0.005 ]\n",
        "476 - Predicted: 0 Actual: 1 [ 0.551 0.391 0.000 0.000 0.002 0.000 0.056 ]\n",
        "477 - Predicted: 1 Actual: 1 [ 0.178 0.750 0.031 0.000 0.017 0.019 0.005 ]\n",
        "478 - Predicted: 0 Actual: 0 [ 0.551 0.391 0.000 0.000 0.002 0.000 0.056 ]\n",
        "479 - Predicted: 1 Actual: 1 [ 0.339 0.459 0.098 0.008 0.018 0.042 0.035 ]\n",
        "480"
       ]
      },
      {
       "output_type": "stream",
       "stream": "stdout",
       "text": [
        " - Predicted: 1 Actual: 1 [ 0.305 0.469 0.110 0.010 0.023 0.048 0.035 ]\n",
        "481 - Predicted: 1 Actual: 1 [ 0.404 0.561 0.000 0.000 0.000 0.000 0.035 ]\n",
        "482 - Predicted: 1 Actual: 0 [ 0.305 0.469 0.110 0.010 0.023 0.048 0.035 ]\n",
        "483 - Predicted: 0 Actual: 0 [ 0.673 0.267 0.000 0.000 0.007 0.000 0.053 ]\n",
        "484 - Predicted: 1 Actual: 2 [ 0.305 0.469 0.110 0.010 0.023 0.048 0.035 ]\n",
        "485 - Predicted: 1 Actual: 1 [ 0.305 0.469 0.110 0.010 0.023 0.048 0.035 ]\n",
        "486 - Predicted: 0 Actual: 0 [ 0.673 0.267 0.000 0.000 0.007 0.000 0.053 ]\n",
        "487 - Predicted: 0 Actual: 0 [ 0.673 0.267 0.000 0.000 0.007 0.000 0.053 ]\n",
        "488 - Predicted: 1 Actual: 1 [ 0.305 0.469 0.110 0.010 0.023 0.048 0.035 ]\n",
        "489 - Predicted: 1 Actual: 1 [ 0.305 0.469 0.110 0.010 0.023 0.048 0.035 ]\n",
        "490"
       ]
      },
      {
       "output_type": "stream",
       "stream": "stdout",
       "text": [
        " - Predicted: 1 Actual: 2 [ 0.324 0.444 0.111 0.009 0.024 0.047 0.040 ]\n",
        "491 - Predicted: 1 Actual: 0 [ 0.324 0.444 0.111 0.009 0.024 0.047 0.040 ]\n",
        "492 - Predicted: 1 Actual: 1 [ 0.000 0.941 0.000 0.000 0.059 0.000 0.000 ]\n",
        "493 - Predicted: 1 Actual: 1 [ 0.324 0.444 0.111 0.009 0.024 0.047 0.040 ]\n",
        "494 - Predicted: 1 Actual: 0 [ 0.318 0.636 0.000 0.000 0.000 0.000 0.045 ]\n",
        "495 - Predicted: 0 Actual: 0 [ 0.602 0.380 0.000 0.000 0.000 0.000 0.019 ]\n",
        "496 - Predicted: 1 Actual: 0 [ 0.324 0.444 0.111 0.009 0.024 0.047 0.040 ]\n",
        "497 - Predicted: 1 Actual: 1 [ 0.324 0.444 0.111 0.009 0.024 0.047 0.040 ]\n",
        "498 - Predicted: 1 Actual: 1 [ 0.158 0.842 0.000 0.000 0.000 0.000 0.000 ]\n",
        "499 - Predicted: 1 Actual: 1 [ 0.090 0.910 0.000 0.000 0.000 0.000 0.000 ]\n",
        "500"
       ]
      },
      {
       "output_type": "stream",
       "stream": "stdout",
       "text": [
        " - Predicted: 1 Actual: 1 [ 0.326 0.424 0.121 0.011 0.021 0.057 0.040 ]\n",
        "501 - Predicted: 1 Actual: 2 [ 0.326 0.424 0.121 0.011 0.021 0.057 0.040 ]\n",
        "502 - Predicted: 0 Actual: 0 [ 0.818 0.182 0.000 0.000 0.000 0.000 0.000 ]\n",
        "503 - Predicted: 0 Actual: 1 [ 0.633 0.286 0.000 0.000 0.000 0.000 0.082 ]\n",
        "504 - Predicted: 0 Actual: 1 [ 0.633 0.286 0.000 0.000 0.000 0.000 0.082 ]\n",
        "505 - Predicted: 1 Actual: 0 [ 0.326 0.424 0.121 0.011 0.021 0.057 0.040 ]\n",
        "506 - Predicted: 0 Actual: 1 [ 0.633 0.286 0.000 0.000 0.000 0.000 0.082 ]\n",
        "507 - Predicted: 1 Actual: 0 [ 0.333 0.667 0.000 0.000 0.000 0.000 0.000 ]\n",
        "508 - Predicted: 1 Actual: 1 [ 0.125 0.812 0.000 0.000 0.062 0.000 0.000 ]\n",
        "509 - Predicted: 0 Actual: 0 [ 0.751 0.199 0.000 0.000 0.000 0.000 0.050 ]\n",
        "510"
       ]
      },
      {
       "output_type": "stream",
       "stream": "stdout",
       "text": [
        " - Predicted: 0 Actual: 0 [ 0.571 0.429 0.000 0.000 0.000 0.000 0.000 ]\n",
        "511 - Predicted: 1 Actual: 1 [ 0.326 0.424 0.121 0.011 0.021 0.057 0.040 ]\n",
        "512 - Predicted: 0 Actual: 0 [ 0.688 0.312 0.000 0.000 0.000 0.000 0.000 ]\n",
        "513 - Predicted: 1 Actual: 1 [ 0.326 0.424 0.121 0.011 0.021 0.057 0.040 ]\n",
        "514 - Predicted: 0 Actual: 1 [ 0.688 0.312 0.000 0.000 0.000 0.000 0.000 ]\n",
        "515 - Predicted: 1 Actual: 2 [ 0.312 0.444 0.121 0.011 0.011 0.058 0.043 ]\n",
        "516 - Predicted: 1 Actual: 1 [ 0.304 0.551 0.058 0.000 0.072 0.000 0.014 ]\n",
        "517 - Predicted: 1 Actual: 1 [ 0.312 0.444 0.121 0.011 0.011 0.058 0.043 ]\n",
        "518 - Predicted: 1 Actual: 0 [ 0.312 0.444 0.121 0.011 0.011 0.058 0.043 ]\n",
        "519 - Predicted: 1 Actual: 0 [ 0.312 0.444 0.121 0.011 0.011 0.058 0.043 ]\n",
        "520"
       ]
      },
      {
       "output_type": "stream",
       "stream": "stdout",
       "text": [
        " - Predicted: 1 Actual: 1 [ 0.298 0.510 0.072 0.000 0.033 0.056 0.031 ]\n",
        "521 - Predicted: 1 Actual: 1 [ 0.000 0.667 0.000 0.000 0.000 0.000 0.333 ]\n",
        "522 - Predicted: 1 Actual: 1 [ 0.073 0.927 0.000 0.000 0.000 0.000 0.000 ]\n",
        "523 - Predicted: 1 Actual: 0 [ 0.091 0.909 0.000 0.000 0.000 0.000 0.000 ]\n",
        "524 - Predicted: 0 Actual: 0 [ 0.778 0.222 0.000 0.000 0.000 0.000 0.000 ]\n",
        "525 - Predicted: 1 Actual: 2 [ 0.298 0.510 0.072 0.000 0.033 0.056 0.031 ]\n",
        "526 - Predicted: 1 Actual: 1 [ 0.298 0.510 0.072 0.000 0.033 0.056 0.031 ]\n",
        "527 - Predicted: 1 Actual: 0 [ 0.298 0.510 0.072 0.000 0.033 0.056 0.031 ]\n",
        "528 - Predicted: 1 Actual: 0 [ 0.298 0.510 0.072 0.000 0.033 0.056 0.031 ]\n",
        "529 - Predicted: 1 Actual: 1 [ 0.190 0.734 0.033 0.000 0.022 0.022 0.000 ]\n",
        "530"
       ]
      },
      {
       "output_type": "stream",
       "stream": "stdout",
       "text": [
        " - Predicted: 1 Actual: 0 [ 0.390 0.418 0.076 0.000 0.030 0.037 0.049 ]\n",
        "531 - Predicted: 1 Actual: 0 [ 0.390 0.418 0.076 0.000 0.030 0.037 0.049 ]\n",
        "532 - Predicted: 0 Actual: 1 [ 0.800 0.200 0.000 0.000 0.000 0.000 0.000 ]\n",
        "533 - Predicted: 1 Actual: 0 [ 0.390 0.418 0.076 0.000 0.030 0.037 0.049 ]\n",
        "534 - Predicted: 1 Actual: 1 [ 0.143 0.786 0.000 0.000 0.071 0.000 0.000 ]\n",
        "535 - Predicted: 1 Actual: 0 [ 0.390 0.418 0.076 0.000 0.030 0.037 0.049 ]\n",
        "536 - Predicted: 1 Actual: 1 [ 0.071 0.929 0.000 0.000 0.000 0.000 0.000 ]\n",
        "537 - Predicted: 0 Actual: 1 [ 0.500 0.500 0.000 0.000 0.000 0.000 0.000 ]\n",
        "538 - Predicted: 1 Actual: 1 [ 0.048 0.952 0.000 0.000 0.000 0.000 0.000 ]\n",
        "539 - Predicted: 2 Actual: 2 [ 0.000 0.000 0.659 0.122 0.000 0.220 0.000 ]\n",
        "540"
       ]
      },
      {
       "output_type": "stream",
       "stream": "stdout",
       "text": [
        " - Predicted: 0 Actual: 1 [ 0.556 0.111 0.000 0.000 0.000 0.000 0.333 ]\n",
        "541 - Predicted: 1 Actual: 2 [ 0.336 0.476 0.089 0.000 0.027 0.024 0.048 ]\n",
        "542 - Predicted: 1 Actual: 0 [ 0.336 0.476 0.089 0.000 0.027 0.024 0.048 ]\n",
        "543 - Predicted: 1 Actual: 1 [ 0.336 0.476 0.089 0.000 0.027 0.024 0.048 ]\n",
        "544 - Predicted: 1 Actual: 1 [ 0.336 0.476 0.089 0.000 0.027 0.024 0.048 ]\n",
        "545 - Predicted: 1 Actual: 1 [ 0.336 0.476 0.089 0.000 0.027 0.024 0.048 ]\n",
        "546 - Predicted: 0 Actual: 0 [ 0.833 0.167 0.000 0.000 0.000 0.000 0.000 ]\n",
        "547 - Predicted: 1 Actual: 1 [ 0.336 0.476 0.089 0.000 0.027 0.024 0.048 ]\n",
        "548 - Predicted: 0 Actual: 0 [ 0.556 0.111 0.000 0.000 0.000 0.000 0.333 ]\n",
        "549 - Predicted: 0 Actual: 0 [ 0.500 0.500 0.000 0.000 0.000 0.000 0.000 ]\n",
        "550"
       ]
      },
      {
       "output_type": "stream",
       "stream": "stdout",
       "text": [
        " - Predicted: 1 Actual: 1 [ 0.182 0.818 0.000 0.000 0.000 0.000 0.000 ]\n",
        "551 - Predicted: 0 Actual: 0 [ 0.700 0.300 0.000 0.000 0.000 0.000 0.000 ]\n",
        "552 - Predicted: 1 Actual: 1 [ 0.407 0.547 0.006 0.000 0.006 0.000 0.035 ]\n",
        "553 - Predicted: 0 Actual: 0 [ 0.650 0.350 0.000 0.000 0.000 0.000 0.000 ]\n",
        "554 - Predicted: 1 Actual: 1 [ 0.291 0.476 0.095 0.000 0.032 0.079 0.026 ]\n",
        "555 - Predicted: 1 Actual: 1 [ 0.222 0.778 0.000 0.000 0.000 0.000 0.000 ]\n",
        "556 - Predicted: 1 Actual: 0 [ 0.291 0.476 0.095 0.000 0.032 0.079 0.026 ]\n",
        "557 - Predicted: 0 Actual: 0 [ 0.600 0.400 0.000 0.000 0.000 0.000 0.000 ]\n",
        "558 - Predicted: 1 Actual: 1 [ 0.307 0.535 0.063 0.000 0.024 0.016 0.055 ]\n",
        "559 - Predicted: 1 Actual: 2 [ 0.291 0.476 0.095 0.000 0.032 0.079 0.026 ]\n",
        "560"
       ]
      },
      {
       "output_type": "stream",
       "stream": "stdout",
       "text": [
        " - Predicted: 1 Actual: 1 [ 0.222 0.589 0.067 0.000 0.000 0.044 0.078 ]\n",
        "561 - Predicted: 2 Actual: 2 [ 0.000 0.125 0.875 0.000 0.000 0.000 0.000 ]\n",
        "562 - Predicted: 0 Actual: 1 [ 0.500 0.500 0.000 0.000 0.000 0.000 0.000 ]\n",
        "563 - Predicted: 0 Actual: 0 [ 0.571 0.429 0.000 0.000 0.000 0.000 0.000 ]\n",
        "564 - Predicted: 0 Actual: 1 [ 0.667 0.333 0.000 0.000 0.000 0.000 0.000 ]\n",
        "565 - Predicted: 0 Actual: 1 [ 0.526 0.474 0.000 0.000 0.000 0.000 0.000 ]\n",
        "566 - Predicted: 0 Actual: 0 [ 0.667 0.333 0.000 0.000 0.000 0.000 0.000 ]\n",
        "567 - Predicted: 1 Actual: 0 [ 0.467 0.500 0.000 0.000 0.000 0.000 0.033 ]\n",
        "568 - Predicted: 0 Actual: 0 [ 0.533 0.400 0.022 0.000 0.000 0.044 0.000 ]\n",
        "569 - Predicted: 1 Actual: 1 [ 0.370 0.630 0.000 0.000 0.000 0.000 0.000 ]\n",
        "570"
       ]
      },
      {
       "output_type": "stream",
       "stream": "stdout",
       "text": [
        " - Predicted: 1 Actual: 0 [ 0.385 0.615 0.000 0.000 0.000 0.000 0.000 ]\n",
        "571 - Predicted: 1 Actual: 1 [ 0.000 0.800 0.200 0.000 0.000 0.000 0.000 ]\n",
        "572 - Predicted: 1 Actual: 1 [ 0.333 0.667 0.000 0.000 0.000 0.000 0.000 ]\n",
        "573 - Predicted: 0 Actual: 1 [ 0.500 0.500 0.000 0.000 0.000 0.000 0.000 ]\n",
        "574 - Predicted: 1 Actual: 1 [ 0.333 0.556 0.000 0.000 0.111 0.000 0.000 ]\n",
        "575 - Predicted: 1 Actual: 0 [ 0.333 0.667 0.000 0.000 0.000 0.000 0.000 ]\n",
        "576 - Predicted: 1 Actual: 2 [ 0.274 0.435 0.129 0.000 0.081 0.081 0.000 ]\n",
        "577 - Predicted: 0 Actual: 0 [ 0.500 0.500 0.000 0.000 0.000 0.000 0.000 ]\n",
        "578 - Predicted: 1 Actual: 1 [ 0.000 0.885 0.000 0.000 0.038 0.077 0.000 ]\n",
        "579 - Predicted: 0 Actual: 0 [ 0.714 0.286 0.000 0.000 0.000 0.000 0.000 ]\n",
        "580"
       ]
      },
      {
       "output_type": "stream",
       "stream": "stdout",
       "text": [
        " - Predicted: 1 Actual: 0 [ 0.357 0.429 0.000 0.000 0.143 0.000 0.071 ]\n",
        "581 - Predicted: 0 Actual: 1 [ 0.500 0.500 0.000 0.000 0.000 0.000 0.000 ]\n",
        "582 - Predicted: 0 Actual: 1 [ 0.625 0.375 0.000 0.000 0.000 0.000 0.000 ]\n",
        "583 - Predicted: 0 Actual: 0 [ 0.812 0.188 0.000 0.000 0.000 0.000 0.000 ]\n",
        "584 - Predicted: 0 Actual: 0 [ 0.600 0.400 0.000 0.000 0.000 0.000 0.000 ]\n",
        "585 - Predicted: 0 Actual: 0 [ 0.818 0.182 0.000 0.000 0.000 0.000 0.000 ]\n",
        "586 - Predicted: 1 Actual: 1 [ 0.250 0.750 0.000 0.000 0.000 0.000 0.000 ]\n",
        "587 - Predicted: 0 Actual: 1 [ 0.750 0.250 0.000 0.000 0.000 0.000 0.000 ]\n",
        "588 - Predicted: 2 Actual: 2 [ 0.000 0.000 0.667 0.333 0.000 0.000 0.000 ]\n",
        "589 - Predicted: 5 Actual: 1 [ 0.200 0.200 0.200 0.000 0.000 0.400 0.000 ]\n",
        "590"
       ]
      },
      {
       "output_type": "stream",
       "stream": "stdout",
       "text": [
        " - Predicted: 1 Actual: 1 [ 0.119 0.687 0.164 0.000 0.030 0.000 0.000 ]\n",
        "591 - Predicted: 1 Actual: 0 [ 0.000 0.500 0.000 0.000 0.000 0.500 0.000 ]\n",
        "592 - Predicted: 0 Actual: 0 [ 0.864 0.121 0.000 0.000 0.000 0.000 0.015 ]\n",
        "593 - Predicted: 0 Actual: 1 [ 0.500 0.000 0.000 0.000 0.500 0.000 0.000 ]\n",
        "594 - Predicted: 0 Actual: 1 [ 0.500 0.500 0.000 0.000 0.000 0.000 0.000 ]\n",
        "595 - Predicted: 1 Actual: 1 [ 0.318 0.477 0.114 0.000 0.000 0.023 0.068 ]\n",
        "596 - Predicted: 0 Actual: 0 [ 0.800 0.133 0.000 0.000 0.000 0.000 0.067 ]\n",
        "597 - Predicted: 1 Actual: 1 [ 0.153 0.742 0.059 0.000 0.023 0.024 0.000 ]\n",
        "598 - Predicted: 2 Actual: 2 [ 0.000 0.100 0.900 0.000 0.000 0.000 0.000 ]\n",
        "599 - Predicted: 1 Actual: 0 [ 0.119 0.687 0.164 0.000 0.030 0.000 0.000 ]\n",
        "600"
       ]
      },
      {
       "output_type": "stream",
       "stream": "stdout",
       "text": [
        " - Predicted: 1 Actual: 2 [ 0.369 0.486 0.059 0.005 0.016 0.029 0.036 ]\n",
        "601 - Predicted: 0 Actual: 0 [ 0.500 0.500 0.000 0.000 0.000 0.000 0.000 ]\n",
        "602 - Predicted: 0 Actual: 1 [ 0.500 0.462 0.000 0.000 0.000 0.000 0.038 ]\n",
        "603 - Predicted: 0 Actual: 0 [ 0.640 0.320 0.000 0.000 0.000 0.000 0.040 ]\n",
        "604 - Predicted: 0 Actual: 0 [ 0.750 0.250 0.000 0.000 0.000 0.000 0.000 ]\n",
        "605 - Predicted: 0 Actual: 1 [ 0.667 0.333 0.000 0.000 0.000 0.000 0.000 ]\n",
        "606 - Predicted: 1 Actual: 1 [ 0.111 0.889 0.000 0.000 0.000 0.000 0.000 ]\n",
        "607 - Predicted: 1 Actual: 1 [ 0.444 0.556 0.000 0.000 0.000 0.000 0.000 ]\n",
        "608 - Predicted: 0 Actual: 1 [ 0.667 0.333 0.000 0.000 0.000 0.000 0.000 ]\n",
        "609 - Predicted: 1 Actual: 0 [ 0.259 0.741 0.000 0.000 0.000 0.000 0.000 ]\n",
        "610"
       ]
      },
      {
       "output_type": "stream",
       "stream": "stdout",
       "text": [
        " - Predicted: 1 Actual: 0 [ 0.300 0.700 0.000 0.000 0.000 0.000 0.000 ]\n",
        "611 - Predicted: 0 Actual: 0 [ 0.538 0.308 0.000 0.000 0.000 0.000 0.154 ]\n",
        "612 - Predicted: 1 Actual: 2 [ 0.032 0.710 0.129 0.000 0.032 0.097 0.000 ]\n",
        "613 - Predicted: 1 Actual: 0 [ 0.333 0.667 0.000 0.000 0.000 0.000 0.000 ]\n",
        "614 - Predicted: 1 Actual: 1 [ 0.194 0.764 0.000 0.000 0.000 0.000 0.042 ]\n",
        "615 - Predicted: 1 Actual: 1 [ 0.021 0.979 0.000 0.000 0.000 0.000 0.000 ]\n",
        "616 - Predicted: 1 Actual: 1 [ 0.167 0.833 0.000 0.000 0.000 0.000 0.000 ]\n",
        "617 - Predicted: 0 Actual: 0 [ 0.833 0.167 0.000 0.000 0.000 0.000 0.000 ]\n",
        "618 - Predicted: 1 Actual: 1 [ 0.171 0.829 0.000 0.000 0.000 0.000 0.000 ]\n",
        "619 - Predicted: 0 Actual: 1 [ 0.500 0.353 0.059 0.000 0.000 0.088 0.000 ]\n",
        "620"
       ]
      },
      {
       "output_type": "stream",
       "stream": "stdout",
       "text": [
        " - Predicted: 1 Actual: 1 [ 0.000 0.500 0.000 0.000 0.000 0.500 0.000 ]\n",
        "621 - Predicted: 0 Actual: 0 [ 0.583 0.333 0.000 0.000 0.083 0.000 0.000 ]\n",
        "622 - Predicted: 1 Actual: 0 [ 0.286 0.714 0.000 0.000 0.000 0.000 0.000 ]\n",
        "623 - Predicted: 1 Actual: 0 [ 0.400 0.600 0.000 0.000 0.000 0.000 0.000 ]\n",
        "624 - Predicted: 1 Actual: 1 [ 0.032 0.710 0.129 0.000 0.032 0.097 0.000 ]\n",
        "625 - Predicted: 1 Actual: 1 [ 0.200 0.800 0.000 0.000 0.000 0.000 0.000 ]\n",
        "626 - Predicted: 0 Actual: 1 [ 0.333 0.333 0.167 0.000 0.000 0.167 0.000 ]\n",
        "627 - Predicted: 1 Actual: 2 [ 0.000 0.500 0.000 0.000 0.000 0.500 0.000 ]\n",
        "628 - Predicted: 0 Actual: 0 [ 0.500 0.500 0.000 0.000 0.000 0.000 0.000 ]\n",
        "629 - Predicted: 1 Actual: 1 [ 0.130 0.721 0.057 0.000 0.044 0.048 0.000 ]\n",
        "630"
       ]
      },
      {
       "output_type": "stream",
       "stream": "stdout",
       "text": [
        " - Predicted: 1 Actual: 1 [ 0.333 0.667 0.000 0.000 0.000 0.000 0.000 ]\n",
        "631 - Predicted: 0 Actual: 1 [ 0.467 0.467 0.000 0.000 0.000 0.000 0.067 ]\n",
        "632 - Predicted: 0 Actual: 0 [ 0.664 0.320 0.000 0.000 0.000 0.000 0.016 ]\n",
        "633 - Predicted: 1 Actual: 0 [ 0.307 0.693 0.000 0.000 0.000 0.000 0.000 ]\n",
        "634 - Predicted: 1 Actual: 1 [ 0.000 0.714 0.214 0.000 0.000 0.071 0.000 ]\n",
        "635 - Predicted: 0 Actual: 0 [ 0.818 0.091 0.000 0.000 0.000 0.000 0.091 ]\n",
        "636 - Predicted: 1 Actual: 1 [ 0.068 0.932 0.000 0.000 0.000 0.000 0.000 ]\n",
        "637 - Predicted: 1 Actual: 2 [ 0.291 0.438 0.138 0.012 0.023 0.064 0.035 ]\n",
        "638 - Predicted: 1 Actual: 1 [ 0.045 0.955 0.000 0.000 0.000 0.000 0.000 ]\n",
        "639 - Predicted: 1 Actual: 0 [ 0.250 0.750 0.000 0.000 0.000 0.000 0.000 ]\n",
        "640"
       ]
      },
      {
       "output_type": "stream",
       "stream": "stdout",
       "text": [
        " - Predicted: 1 Actual: 1 [ 0.000 0.784 0.054 0.000 0.027 0.135 0.000 ]\n",
        "641 - Predicted: 1 Actual: 1 [ 0.323 0.434 0.122 0.011 0.020 0.057 0.033 ]\n",
        "642 - Predicted: 1 Actual: 1 [ 0.323 0.434 0.122 0.011 0.020 0.057 0.033 ]\n",
        "643 - Predicted: 0 Actual: 0 [ 0.667 0.000 0.000 0.000 0.000 0.000 0.333 ]\n",
        "644 - Predicted: 0 Actual: 0 [ 0.614 0.386 0.000 0.000 0.000 0.000 0.000 ]\n",
        "645 - Predicted: 1 Actual: 0 [ 0.323 0.434 0.122 0.011 0.020 0.057 0.033 ]\n",
        "646 - Predicted: 1 Actual: 0 [ 0.323 0.434 0.122 0.011 0.020 0.057 0.033 ]\n",
        "647 - Predicted: 1 Actual: 1 [ 0.106 0.724 0.065 0.000 0.065 0.041 0.000 ]\n",
        "648 - Predicted: 1 Actual: 2 [ 0.323 0.434 0.122 0.011 0.020 0.057 0.033 ]\n",
        "649 - Predicted: 1 Actual: 1 [ 0.323 0.434 0.122 0.011 0.020 0.057 0.033 ]\n",
        "650"
       ]
      },
      {
       "output_type": "stream",
       "stream": "stdout",
       "text": [
        " - Predicted: 0 Actual: 0 [ 0.531 0.449 0.000 0.000 0.000 0.000 0.020 ]\n",
        "651 - Predicted: 1 Actual: 0 [ 0.342 0.430 0.120 0.009 0.023 0.051 0.026 ]\n",
        "652 - Predicted: 0 Actual: 0 [ 0.556 0.444 0.000 0.000 0.000 0.000 0.000 ]\n",
        "653 - Predicted: 1 Actual: 1 [ 0.449 0.551 0.000 0.000 0.000 0.000 0.000 ]\n",
        "654 - Predicted: 1 Actual: 1 [ 0.205 0.770 0.000 0.000 0.000 0.000 0.025 ]\n",
        "655 - Predicted: 1 Actual: 2 [ 0.000 0.875 0.125 0.000 0.000 0.000 0.000 ]\n",
        "656 - Predicted: 1 Actual: 1 [ 0.333 0.667 0.000 0.000 0.000 0.000 0.000 ]\n",
        "657 - Predicted: 1 Actual: 0 [ 0.250 0.625 0.000 0.000 0.125 0.000 0.000 ]\n",
        "658 - Predicted: 1 Actual: 1 [ 0.342 0.430 0.120 0.009 0.023 0.051 0.026 ]\n",
        "659 - Predicted: 1 Actual: 1 [ 0.342 0.430 0.120 0.009 0.023 0.051 0.026 ]\n",
        "660"
       ]
      },
      {
       "output_type": "stream",
       "stream": "stdout",
       "text": [
        " - Predicted: 0 Actual: 0 [ 0.500 0.357 0.143 0.000 0.000 0.000 0.000 ]\n",
        "661 - Predicted: 0 Actual: 1 [ 0.562 0.438 0.000 0.000 0.000 0.000 0.000 ]\n",
        "662 - Predicted: 1 Actual: 1 [ 0.182 0.818 0.000 0.000 0.000 0.000 0.000 ]\n",
        "663 - Predicted: 1 Actual: 2 [ 0.290 0.472 0.110 0.007 0.021 0.066 0.034 ]\n",
        "664 - Predicted: 0 Actual: 1 [ 0.470 0.470 0.000 0.000 0.000 0.000 0.060 ]\n",
        "665 - Predicted: 1 Actual: 1 [ 0.290 0.472 0.110 0.007 0.021 0.066 0.034 ]\n",
        "666 - Predicted: 0 Actual: 0 [ 0.938 0.062 0.000 0.000 0.000 0.000 0.000 ]\n",
        "667 - Predicted: 1 Actual: 0 [ 0.250 0.750 0.000 0.000 0.000 0.000 0.000 ]\n",
        "668 - Predicted: 0 Actual: 0 [ 0.867 0.107 0.000 0.000 0.000 0.000 0.027 ]\n",
        "669 - Predicted: 1 Actual: 1 [ 0.290 0.472 0.110 0.007 0.021 0.066 0.034 ]\n",
        "670"
       ]
      },
      {
       "output_type": "stream",
       "stream": "stdout",
       "text": [
        " - Predicted: 1 Actual: 1 [ 0.200 0.800 0.000 0.000 0.000 0.000 0.000 ]\n",
        "671 - Predicted: 6 Actual: 0 [ 0.475 0.000 0.000 0.000 0.000 0.000 0.525 ]\n",
        "672 - Predicted: 1 Actual: 1 [ 0.231 0.474 0.131 0.015 0.034 0.082 0.034 ]\n",
        "673 - Predicted: 1 Actual: 0 [ 0.303 0.697 0.000 0.000 0.000 0.000 0.000 ]\n",
        "674 - Predicted: 1 Actual: 1 [ 0.341 0.659 0.000 0.000 0.000 0.000 0.000 ]\n",
        "675 - Predicted: 1 Actual: 0 [ 0.432 0.459 0.027 0.000 0.000 0.000 0.081 ]\n",
        "676 - Predicted: 1 Actual: 2 [ 0.231 0.474 0.131 0.015 0.034 0.082 0.034 ]\n",
        "677 - Predicted: 1 Actual: 1 [ 0.303 0.697 0.000 0.000 0.000 0.000 0.000 ]\n",
        "678 - Predicted: 1 Actual: 1 [ 0.250 0.750 0.000 0.000 0.000 0.000 0.000 ]\n",
        "679 - Predicted: 0 Actual: 0 [ 0.625 0.333 0.000 0.000 0.000 0.000 0.042 ]\n",
        "680"
       ]
      },
      {
       "output_type": "stream",
       "stream": "stdout",
       "text": [
        " - Predicted: 0 Actual: 1 [ 0.487 0.455 0.000 0.000 0.020 0.000 0.038 ]\n",
        "681 - Predicted: 1 Actual: 0 [ 0.182 0.455 0.091 0.000 0.182 0.091 0.000 ]\n",
        "682 - Predicted: 1 Actual: 0 [ 0.283 0.483 0.127 0.000 0.020 0.078 0.010 ]\n",
        "683 - Predicted: 1 Actual: 1 [ 0.283 0.483 0.127 0.000 0.020 0.078 0.010 ]\n",
        "684 - Predicted: 0 Actual: 1 [ 0.545 0.364 0.000 0.000 0.000 0.000 0.091 ]\n",
        "685 - Predicted: 1 Actual: 1 [ 0.143 0.857 0.000 0.000 0.000 0.000 0.000 ]\n",
        "686 - Predicted: 1 Actual: 2 [ 0.283 0.483 0.127 0.000 0.020 0.078 0.010 ]\n",
        "687 - Predicted: 0 Actual: 0 [ 0.688 0.250 0.000 0.000 0.000 0.000 0.062 ]\n",
        "688 - Predicted: 1 Actual: 1 [ 0.125 0.875 0.000 0.000 0.000 0.000 0.000 ]\n",
        "689 - Predicted: 1 Actual: 0 [ 0.283 0.483 0.127 0.000 0.020 0.078 0.010 ]\n",
        "690"
       ]
      },
      {
       "output_type": "stream",
       "stream": "stdout",
       "text": [
        " - Predicted: 1 Actual: 2 [ 0.262 0.434 0.164 0.008 0.025 0.082 0.025 ]\n",
        "691 - Predicted: 1 Actual: 1 [ 0.185 0.806 0.000 0.000 0.009 0.000 0.000 ]\n",
        "692 - Predicted: 0 Actual: 0 [ 0.667 0.333 0.000 0.000 0.000 0.000 0.000 ]\n",
        "693 - Predicted: 0 Actual: 1 [ 0.900 0.100 0.000 0.000 0.000 0.000 0.000 ]\n",
        "694 - Predicted: 1 Actual: 0 [ 0.419 0.452 0.000 0.000 0.032 0.032 0.065 ]\n",
        "695 - Predicted: 1 Actual: 0 [ 0.189 0.811 0.000 0.000 0.000 0.000 0.000 ]\n",
        "696 - Predicted: 1 Actual: 1 [ 0.390 0.610 0.000 0.000 0.000 0.000 0.000 ]\n",
        "697 - Predicted: 1 Actual: 1 [ 0.262 0.434 0.164 0.008 0.025 0.082 0.025 ]\n",
        "698 - Predicted: 1 Actual: 1 [ 0.333 0.583 0.083 0.000 0.000 0.000 0.000 ]\n",
        "699 - Predicted: 1 Actual: 0 [ 0.192 0.808 0.000 0.000 0.000 0.000 0.000 ]\n",
        "700"
       ]
      },
      {
       "output_type": "stream",
       "stream": "stdout",
       "text": [
        " - Predicted: 0 Actual: 0 [ 0.571 0.429 0.000 0.000 0.000 0.000 0.000 ]\n",
        "701 - Predicted: 0 Actual: 1 [ 0.467 0.467 0.067 0.000 0.000 0.000 0.000 ]\n",
        "702 - Predicted: 0 Actual: 0 [ 0.807 0.193 0.000 0.000 0.000 0.000 0.000 ]\n",
        "703 - Predicted: 1 Actual: 1 [ 0.170 0.828 0.000 0.000 0.002 0.000 0.000 ]\n",
        "704 - Predicted: 0 Actual: 0 [ 0.944 0.056 0.000 0.000 0.000 0.000 0.000 ]\n",
        "705 - Predicted: 0 Actual: 0 [ 0.750 0.000 0.000 0.000 0.000 0.000 0.250 ]\n",
        "706 - Predicted: 0 Actual: 1 [ 0.833 0.167 0.000 0.000 0.000 0.000 0.000 ]\n",
        "707 - Predicted: 1 Actual: 2 [ 0.273 0.400 0.155 0.009 0.027 0.100 0.036 ]\n",
        "708 - Predicted: 0 Actual: 1 [ 0.545 0.455 0.000 0.000 0.000 0.000 0.000 ]\n",
        "709 - Predicted: 0 Actual: 1 [ 0.538 0.462 0.000 0.000 0.000 0.000 0.000 ]\n",
        "710"
       ]
      },
      {
       "output_type": "stream",
       "stream": "stdout",
       "text": [
        " - Predicted: 1 Actual: 1 [ 0.273 0.400 0.155 0.009 0.027 0.100 0.036 ]\n",
        "711 - Predicted: 0 Actual: 0 [ 0.708 0.292 0.000 0.000 0.000 0.000 0.000 ]\n",
        "712 - Predicted: 0 Actual: 1 [ 0.750 0.250 0.000 0.000 0.000 0.000 0.000 ]\n",
        "713 - Predicted: 1 Actual: 1 [ 0.329 0.500 0.071 0.029 0.000 0.043 0.029 ]\n",
        "714 - Predicted: 1 Actual: 1 [ 0.200 0.600 0.000 0.000 0.000 0.000 0.200 ]\n",
        "715 - Predicted: 1 Actual: 2 [ 0.273 0.400 0.155 0.009 0.027 0.100 0.036 ]\n",
        "716 - Predicted: 0 Actual: 0 [ 0.647 0.294 0.000 0.000 0.000 0.000 0.059 ]\n",
        "717 - Predicted: 1 Actual: 0 [ 0.329 0.500 0.071 0.029 0.000 0.043 0.029 ]\n",
        "718 - Predicted: 1 Actual: 0 [ 0.318 0.568 0.000 0.000 0.000 0.000 0.114 ]\n",
        "719 - Predicted: 0 Actual: 1 [ 0.750 0.250 0.000 0.000 0.000 0.000 0.000 ]\n",
        "720"
       ]
      },
      {
       "output_type": "stream",
       "stream": "stdout",
       "text": [
        " - Predicted: 1 Actual: 2 [ 0.311 0.393 0.213 0.000 0.000 0.033 0.049 ]\n",
        "721 - Predicted: 0 Actual: 1 [ 0.500 0.500 0.000 0.000 0.000 0.000 0.000 ]\n",
        "722 - Predicted: 1 Actual: 0 [ 0.286 0.643 0.000 0.000 0.071 0.000 0.000 ]\n",
        "723 - Predicted: 0 Actual: 0 [ 0.556 0.444 0.000 0.000 0.000 0.000 0.000 ]\n",
        "724 - Predicted: 1 Actual: 1 [ 0.400 0.600 0.000 0.000 0.000 0.000 0.000 ]\n",
        "725 - Predicted: 1 Actual: 0 [ 0.306 0.676 0.000 0.000 0.000 0.000 0.018 ]\n",
        "726 - Predicted: 1 Actual: 1 [ 0.100 0.900 0.000 0.000 0.000 0.000 0.000 ]\n",
        "727 - Predicted: 1 Actual: 1 [ 0.444 0.556 0.000 0.000 0.000 0.000 0.000 ]\n",
        "728 - Predicted: 1 Actual: 0 [ 0.400 0.600 0.000 0.000 0.000 0.000 0.000 ]\n",
        "729 - Predicted: 1 Actual: 1 [ 0.368 0.474 0.053 0.000 0.000 0.053 0.053 ]\n",
        "730"
       ]
      },
      {
       "output_type": "stream",
       "stream": "stdout",
       "text": [
        " - Predicted: 0 Actual: 1 [ 0.500 0.500 0.000 0.000 0.000 0.000 0.000 ]\n",
        "731 - Predicted: 1 Actual: 0 [ 0.250 0.750 0.000 0.000 0.000 0.000 0.000 ]\n",
        "732 - Predicted: 0 Actual: 1 [ 0.500 0.500 0.000 0.000 0.000 0.000 0.000 ]\n",
        "733 - Predicted: 0 Actual: 0 [ 0.524 0.429 0.000 0.000 0.000 0.000 0.048 ]\n",
        "734 - Predicted: 1 Actual: 1 [ 0.294 0.647 0.059 0.000 0.000 0.000 0.000 ]\n",
        "735 - Predicted: 0 Actual: 0 [ 0.594 0.406 0.000 0.000 0.000 0.000 0.000 ]\n",
        "736 - Predicted: 0 Actual: 0 [ 0.571 0.429 0.000 0.000 0.000 0.000 0.000 ]\n",
        "737 - Predicted: 1 Actual: 1 [ 0.357 0.643 0.000 0.000 0.000 0.000 0.000 ]\n",
        "738 - Predicted: 1 Actual: 2 [ 0.302 0.458 0.114 0.008 0.026 0.060 0.032 ]\n",
        "739 - Predicted: 0 Actual: 1 [ 0.500 0.500 0.000 0.000 0.000 0.000 0.000 ]\n",
        "740"
       ]
      },
      {
       "output_type": "stream",
       "stream": "stdout",
       "text": [
        " - Predicted: 1 Actual: 1 [ 0.302 0.458 0.114 0.008 0.026 0.060 0.032 ]\n",
        "741 - Predicted: 0 Actual: 0 [ 0.500 0.491 0.000 0.000 0.009 0.000 0.000 ]\n",
        "742 - Predicted: 1 Actual: 1 [ 0.302 0.458 0.114 0.008 0.026 0.060 0.032 ]\n",
        "743 - Predicted: 0 Actual: 0 [ 0.500 0.500 0.000 0.000 0.000 0.000 0.000 ]\n",
        "744 - Predicted: 1 Actual: 1 [ 0.302 0.458 0.114 0.008 0.026 0.060 0.032 ]\n",
        "745 - Predicted: 1 Actual: 1 [ 0.143 0.714 0.143 0.000 0.000 0.000 0.000 ]\n",
        "746 - Predicted: 1 Actual: 1 [ 0.251 0.626 0.000 0.000 0.000 0.000 0.123 ]\n",
        "747 - Predicted: 1 Actual: 0 [ 0.300 0.400 0.100 0.000 0.000 0.100 0.100 ]\n",
        "748 - Predicted: 1 Actual: 2 [ 0.302 0.458 0.114 0.008 0.026 0.060 0.032 ]\n",
        "749 - Predicted: 1 Actual: 0 [ 0.400 0.600 0.000 0.000 0.000 0.000 0.000 ]\n",
        "750"
       ]
      },
      {
       "output_type": "stream",
       "stream": "stdout",
       "text": [
        " - Predicted: 1 Actual: 1 [ 0.369 0.506 0.050 0.004 0.018 0.025 0.027 ]\n",
        "751 - Predicted: 1 Actual: 0 [ 0.300 0.400 0.100 0.000 0.000 0.100 0.100 ]\n",
        "752 - Predicted: 0 Actual: 1 [ 0.750 0.250 0.000 0.000 0.000 0.000 0.000 ]\n",
        "753 - Predicted: 0 Actual: 1 [ 0.511 0.489 0.000 0.000 0.000 0.000 0.000 ]\n",
        "754 - Predicted: 1 Actual: 1 [ 0.306 0.484 0.094 0.009 0.031 0.047 0.028 ]\n",
        "755 - Predicted: 1 Actual: 1 [ 0.143 0.857 0.000 0.000 0.000 0.000 0.000 ]\n",
        "756 - Predicted: 0 Actual: 0 [ 0.486 0.468 0.000 0.000 0.000 0.000 0.045 ]\n",
        "757 - Predicted: 1 Actual: 0 [ 0.369 0.506 0.050 0.004 0.018 0.025 0.027 ]\n",
        "758 - Predicted: 0 Actual: 0 [ 0.620 0.243 0.000 0.000 0.000 0.000 0.137 ]\n",
        "759 - Predicted: 1 Actual: 2 [ 0.306 0.484 0.094 0.009 0.031 0.047 0.028 ]\n",
        "760"
       ]
      },
      {
       "output_type": "stream",
       "stream": "stdout",
       "text": [
        " - Predicted: 1 Actual: 0 [ 0.267 0.733 0.000 0.000 0.000 0.000 0.000 ]\n",
        "761 - Predicted: 0 Actual: 1 [ 0.519 0.481 0.000 0.000 0.000 0.000 0.000 ]\n",
        "762 - Predicted: 1 Actual: 0 [ 0.250 0.750 0.000 0.000 0.000 0.000 0.000 ]\n",
        "763 - Predicted: 1 Actual: 1 [ 0.124 0.876 0.000 0.000 0.000 0.000 0.000 ]\n",
        "764 - Predicted: 0 Actual: 1 [ 0.457 0.452 0.000 0.000 0.000 0.000 0.091 ]\n",
        "765 - Predicted: 1 Actual: 0 [ 0.420 0.484 0.019 0.000 0.000 0.032 0.045 ]\n",
        "766 - Predicted: 1 Actual: 1 [ 0.277 0.488 0.121 0.003 0.031 0.062 0.017 ]\n",
        "767 - Predicted: 2 Actual: 2 [ 0.000 0.026 0.658 0.132 0.000 0.184 0.000 ]\n",
        "768 - Predicted: 0 Actual: 0 [ 0.651 0.349 0.000 0.000 0.000 0.000 0.000 ]\n",
        "769 - Predicted: 1 Actual: 1 [ 0.046 0.954 0.000 0.000 0.000 0.000 0.000 ]\n",
        "770"
       ]
      },
      {
       "output_type": "stream",
       "stream": "stdout",
       "text": [
        " - Predicted: 0 Actual: 0 [ 0.615 0.385 0.000 0.000 0.000 0.000 0.000 ]\n",
        "771 - Predicted: 1 Actual: 0 [ 0.394 0.553 0.015 0.000 0.015 0.000 0.023 ]\n",
        "772 - Predicted: 1 Actual: 1 [ 0.277 0.488 0.121 0.003 0.031 0.062 0.017 ]\n",
        "773 - Predicted: 1 Actual: 2 [ 0.182 0.455 0.273 0.000 0.000 0.091 0.000 ]\n",
        "774 - Predicted: 1 Actual: 1 [ 0.277 0.488 0.121 0.003 0.031 0.062 0.017 ]\n",
        "775 - Predicted: 0 Actual: 0 [ 0.576 0.424 0.000 0.000 0.000 0.000 0.000 ]\n",
        "776 - Predicted: 1 Actual: 1 [ 0.429 0.571 0.000 0.000 0.000 0.000 0.000 ]\n",
        "777 - Predicted: 1 Actual: 0 [ 0.277 0.488 0.121 0.003 0.031 0.062 0.017 ]\n",
        "778 - Predicted: 1 Actual: 1 [ 0.300 0.400 0.100 0.000 0.000 0.100 0.100 ]\n",
        "779 - Predicted: 1 Actual: 1 [ 0.394 0.553 0.015 0.000 0.015 0.000 0.023 ]\n",
        "780"
       ]
      },
      {
       "output_type": "stream",
       "stream": "stdout",
       "text": [
        " - Predicted: 1 Actual: 0 [ 0.295 0.419 0.162 0.009 0.017 0.081 0.017 ]\n",
        "781 - Predicted: 1 Actual: 1 [ 0.355 0.584 0.000 0.000 0.002 0.000 0.060 ]\n",
        "782 - Predicted: 1 Actual: 1 [ 0.201 0.798 0.000 0.000 0.001 0.000 0.000 ]\n",
        "783 - Predicted: 1 Actual: 2 [ 0.295 0.419 0.162 0.009 0.017 0.081 0.017 ]\n",
        "784 - Predicted: 1 Actual: 1 [ 0.315 0.434 0.127 0.012 0.022 0.057 0.032 ]\n",
        "785 - Predicted: 1 Actual: 0 [ 0.302 0.698 0.000 0.000 0.000 0.000 0.000 ]\n",
        "786 - Predicted: 1 Actual: 1 [ 0.291 0.484 0.106 0.007 0.031 0.054 0.028 ]\n",
        "787 - Predicted: 1 Actual: 1 [ 0.315 0.434 0.127 0.012 0.022 0.057 0.032 ]\n",
        "788 - Predicted: 1 Actual: 0 [ 0.362 0.552 0.000 0.000 0.000 0.017 0.069 ]\n",
        "789 - Predicted: 1 Actual: 0 [ 0.295 0.419 0.162 0.009 0.017 0.081 0.017 ]\n",
        "790"
       ]
      },
      {
       "output_type": "stream",
       "stream": "stdout",
       "text": [
        " - Predicted: 1 Actual: 0 [ 0.281 0.491 0.104 0.008 0.033 0.056 0.027 ]\n",
        "791 - Predicted: 0 Actual: 1 [ 0.600 0.400 0.000 0.000 0.000 0.000 0.000 ]\n",
        "792 - Predicted: 0 Actual: 0 [ 0.537 0.366 0.000 0.000 0.000 0.000 0.098 ]\n",
        "793 - Predicted: 1 Actual: 0 [ 0.281 0.491 0.104 0.008 0.033 0.056 0.027 ]\n",
        "794 - Predicted: 1 Actual: 2 [ 0.059 0.706 0.059 0.000 0.000 0.176 0.000 ]\n",
        "795 - Predicted: 1 Actual: 1 [ 0.143 0.857 0.000 0.000 0.000 0.000 0.000 ]\n",
        "796 - Predicted: 0 Actual: 0 [ 0.500 0.500 0.000 0.000 0.000 0.000 0.000 ]\n",
        "797 - Predicted: 1 Actual: 1 [ 0.198 0.425 0.214 0.019 0.035 0.109 0.000 ]\n",
        "798 - Predicted: 1 Actual: 1 [ 0.319 0.638 0.000 0.000 0.000 0.043 0.000 ]\n",
        "799 - Predicted: 1 Actual: 1 [ 0.333 0.667 0.000 0.000 0.000 0.000 0.000 ]\n",
        "800"
       ]
      },
      {
       "output_type": "stream",
       "stream": "stdout",
       "text": [
        " - Predicted: 1 Actual: 0 [ 0.434 0.520 0.000 0.000 0.000 0.000 0.046 ]\n",
        "801 - Predicted: 1 Actual: 1 [ 0.337 0.506 0.096 0.000 0.000 0.036 0.024 ]\n",
        "802 - Predicted: 0 Actual: 1 [ 0.502 0.453 0.000 0.000 0.006 0.000 0.039 ]\n",
        "803 - Predicted: 1 Actual: 2 [ 0.196 0.486 0.206 0.009 0.019 0.084 0.000 ]\n",
        "804 - Predicted: 1 Actual: 1 [ 0.400 0.600 0.000 0.000 0.000 0.000 0.000 ]\n",
        "805 - Predicted: 0 Actual: 0 [ 0.536 0.423 0.001 0.000 0.002 0.000 0.038 ]\n",
        "806 - Predicted: 0 Actual: 0 [ 0.514 0.351 0.000 0.000 0.000 0.000 0.135 ]\n",
        "807 - Predicted: 0 Actual: 0 [ 0.460 0.440 0.020 0.000 0.000 0.020 0.060 ]\n",
        "808 - Predicted: 0 Actual: 1 [ 0.222 0.222 0.222 0.000 0.111 0.222 0.000 ]\n",
        "809 - Predicted: 1 Actual: 1 [ 0.196 0.486 0.206 0.009 0.019 0.084 0.000 ]\n",
        "810"
       ]
      },
      {
       "output_type": "stream",
       "stream": "stdout",
       "text": [
        " - Predicted: 0 Actual: 0 [ 0.783 0.203 0.000 0.000 0.014 0.000 0.000 ]\n",
        "811 - Predicted: 0 Actual: 0 [ 0.733 0.267 0.000 0.000 0.000 0.000 0.000 ]\n",
        "812 - Predicted: 1 Actual: 0 [ 0.250 0.750 0.000 0.000 0.000 0.000 0.000 ]\n",
        "813 - Predicted: 0 Actual: 1 [ 0.481 0.481 0.019 0.000 0.000 0.000 0.019 ]\n",
        "814 - Predicted: 0 Actual: 1 [ 0.481 0.481 0.019 0.000 0.000 0.000 0.019 ]\n",
        "815 - Predicted: 0 Actual: 0 [ 0.500 0.500 0.000 0.000 0.000 0.000 0.000 ]\n",
        "816 - Predicted: 1 Actual: 1 [ 0.000 0.667 0.000 0.000 0.333 0.000 0.000 ]\n",
        "817 - Predicted: 1 Actual: 1 [ 0.286 0.571 0.143 0.000 0.000 0.000 0.000 ]\n",
        "818 - Predicted: 2 Actual: 2 [ 0.000 0.031 0.875 0.094 0.000 0.000 0.000 ]\n",
        "819 - Predicted: 0 Actual: 1 [ 0.606 0.364 0.000 0.000 0.000 0.000 0.030 ]\n",
        "820"
       ]
      },
      {
       "output_type": "stream",
       "stream": "stdout",
       "text": [
        " - Predicted: 0 Actual: 0 [ 0.485 0.424 0.000 0.000 0.030 0.000 0.061 ]\n",
        "821 - Predicted: 1 Actual: 0 [ 0.333 0.667 0.000 0.000 0.000 0.000 0.000 ]\n",
        "822 - Predicted: 2 Actual: 2 [ 0.028 0.061 0.634 0.087 0.009 0.176 0.005 ]\n",
        "823 - Predicted: 1 Actual: 0 [ 0.167 0.833 0.000 0.000 0.000 0.000 0.000 ]\n",
        "824 - Predicted: 0 Actual: 0 [ 0.548 0.421 0.000 0.000 0.004 0.000 0.027 ]\n",
        "825 - Predicted: 1 Actual: 1 [ 0.083 0.917 0.000 0.000 0.000 0.000 0.000 ]\n",
        "826 - Predicted: 1 Actual: 1 [ 0.400 0.600 0.000 0.000 0.000 0.000 0.000 ]\n",
        "827 - Predicted: 1 Actual: 1 [ 0.278 0.556 0.000 0.000 0.000 0.083 0.083 ]\n",
        "828 - Predicted: 1 Actual: 1 [ 0.294 0.687 0.000 0.000 0.000 0.000 0.020 ]\n",
        "829 - Predicted: 0 Actual: 1 [ 0.605 0.357 0.000 0.000 0.006 0.000 0.032 ]\n",
        "830"
       ]
      },
      {
       "output_type": "stream",
       "stream": "stdout",
       "text": [
        " - Predicted: 1 Actual: 1 [ 0.312 0.450 0.100 0.000 0.000 0.113 0.025 ]\n",
        "831 - Predicted: 1 Actual: 1 [ 0.114 0.762 0.058 0.000 0.033 0.034 0.000 ]\n",
        "832 - Predicted: 1 Actual: 1 [ 0.476 0.524 0.000 0.000 0.000 0.000 0.000 ]\n",
        "833 - Predicted: 1 Actual: 0 [ 0.333 0.444 0.111 0.000 0.056 0.056 0.000 ]\n",
        "834 - Predicted: 0 Actual: 1 [ 0.486 0.486 0.000 0.000 0.000 0.000 0.029 ]\n",
        "835 - Predicted: 1 Actual: 0 [ 0.429 0.571 0.000 0.000 0.000 0.000 0.000 ]\n",
        "836 - Predicted: 2 Actual: 2 [ 0.000 0.000 0.808 0.000 0.000 0.192 0.000 ]\n",
        "837 - Predicted: 0 Actual: 0 [ 0.500 0.500 0.000 0.000 0.000 0.000 0.000 ]\n",
        "838 - Predicted: 1 Actual: 1 [ 0.350 0.650 0.000 0.000 0.000 0.000 0.000 ]\n",
        "839 - Predicted: 0 Actual: 0 [ 0.808 0.179 0.000 0.000 0.013 0.000 0.000 ]\n",
        "840"
       ]
      },
      {
       "output_type": "stream",
       "stream": "stdout",
       "text": [
        " - Predicted: 2 Actual: 2 [ 0.000 0.077 0.462 0.154 0.000 0.308 0.000 ]\n",
        "841 - Predicted: 1 Actual: 1 [ 0.438 0.562 0.000 0.000 0.000 0.000 0.000 ]\n",
        "842 - Predicted: 0 Actual: 1 [ 0.250 0.250 0.125 0.000 0.250 0.000 0.125 ]\n",
        "843 - Predicted: 6 Actual: 1 [ 0.200 0.200 0.000 0.000 0.000 0.000 0.600 ]\n",
        "844 - Predicted: 0 Actual: 0 [ 0.600 0.400 0.000 0.000 0.000 0.000 0.000 ]\n",
        "845 - Predicted: 1 Actual: 1 [ 0.263 0.734 0.000 0.000 0.000 0.000 0.004 ]\n",
        "846 - Predicted: 0 Actual: 0 [ 0.500 0.500 0.000 0.000 0.000 0.000 0.000 ]\n",
        "847 - Predicted: 1 Actual: 0 [ 0.450 0.528 0.000 0.000 0.022 0.000 0.000 ]\n",
        "848 - Predicted: 1 Actual: 1 [ 0.212 0.787 0.000 0.000 0.001 0.000 0.000 ]\n",
        "849 - Predicted: 1 Actual: 0 [ 0.400 0.600 0.000 0.000 0.000 0.000 0.000 ]\n",
        "850"
       ]
      },
      {
       "output_type": "stream",
       "stream": "stdout",
       "text": [
        " - Predicted: 1 Actual: 1 [ 0.381 0.619 0.000 0.000 0.000 0.000 0.000 ]\n",
        "851 - Predicted: 1 Actual: 2 [ 0.000 0.750 0.000 0.000 0.250 0.000 0.000 ]\n",
        "852 - Predicted: 1 Actual: 0 [ 0.381 0.619 0.000 0.000 0.000 0.000 0.000 ]\n",
        "853 - Predicted: 1 Actual: 1 [ 0.000 0.750 0.083 0.000 0.083 0.083 0.000 ]\n",
        "854 - Predicted: 1 Actual: 0 [ 0.312 0.688 0.000 0.000 0.000 0.000 0.000 ]\n",
        "855 - Predicted: 1 Actual: 1 [ 0.356 0.511 0.089 0.000 0.022 0.000 0.022 ]\n",
        "856 - Predicted: 0 Actual: 0 [ 0.727 0.273 0.000 0.000 0.000 0.000 0.000 ]\n",
        "857 - Predicted: 1 Actual: 1 [ 0.023 0.884 0.047 0.000 0.023 0.023 0.000 ]\n",
        "858 - Predicted: 1 Actual: 0 [ 0.273 0.682 0.045 0.000 0.000 0.000 0.000 ]\n",
        "859 - Predicted: 1 Actual: 1 [ 0.105 0.895 0.000 0.000 0.000 0.000 0.000 ]\n",
        "860"
       ]
      },
      {
       "output_type": "stream",
       "stream": "stdout",
       "text": [
        " - Predicted: 2 Actual: 2 [ 0.025 0.055 0.620 0.093 0.008 0.193 0.005 ]\n",
        "861 - Predicted: 1 Actual: 1 [ 0.381 0.619 0.000 0.000 0.000 0.000 0.000 ]\n",
        "862 - Predicted: 0 Actual: 0 [ 0.317 0.270 0.079 0.016 0.000 0.270 0.048 ]\n",
        "863 - Predicted: 1 Actual: 0 [ 0.400 0.600 0.000 0.000 0.000 0.000 0.000 ]\n",
        "864 - Predicted: 6 Actual: 0 [ 0.143 0.286 0.000 0.000 0.000 0.000 0.571 ]\n",
        "865 - Predicted: 1 Actual: 1 [ 0.071 0.929 0.000 0.000 0.000 0.000 0.000 ]\n",
        "866 - Predicted: 1 Actual: 1 [ 0.343 0.642 0.000 0.000 0.015 0.000 0.000 ]\n",
        "867 - Predicted: 6 Actual: 0 [ 0.357 0.214 0.000 0.000 0.000 0.000 0.429 ]\n",
        "868 - Predicted: 1 Actual: 1 [ 0.375 0.625 0.000 0.000 0.000 0.000 0.000 ]\n",
        "869 - Predicted: 1 Actual: 1 [ 0.200 0.800 0.000 0.000 0.000 0.000 0.000 ]\n",
        "870"
       ]
      },
      {
       "output_type": "stream",
       "stream": "stdout",
       "text": [
        " - Predicted: 2 Actual: 2 [ 0.000 0.000 0.833 0.000 0.000 0.167 0.000 ]\n",
        "871 - Predicted: 1 Actual: 1 [ 0.250 0.350 0.150 0.050 0.100 0.100 0.000 ]\n",
        "872 - Predicted: 1 Actual: 0 [ 0.208 0.447 0.194 0.018 0.034 0.099 0.000 ]\n",
        "873 - Predicted: 1 Actual: 1 [ 0.410 0.488 0.000 0.000 0.000 0.000 0.102 ]\n",
        "874 - Predicted: 1 Actual: 0 [ 0.467 0.500 0.033 0.000 0.000 0.000 0.000 ]\n",
        "875 - Predicted: 1 Actual: 0 [ 0.244 0.756 0.000 0.000 0.000 0.000 0.000 ]\n",
        "876 - Predicted: 0 Actual: 1 [ 0.400 0.200 0.000 0.000 0.000 0.400 0.000 ]\n",
        "877 - Predicted: 0 Actual: 1 [ 0.800 0.200 0.000 0.000 0.000 0.000 0.000 ]\n",
        "878 - Predicted: 2 Actual: 1 [ 0.286 0.286 0.429 0.000 0.000 0.000 0.000 ]\n",
        "879 - Predicted: 5 Actual: 0 [ 0.143 0.286 0.000 0.143 0.000 0.429 0.000 ]\n",
        "880"
       ]
      },
      {
       "output_type": "stream",
       "stream": "stdout",
       "text": [
        " - Predicted: 0 Actual: 0 [ 0.800 0.000 0.000 0.000 0.000 0.000 0.200 ]\n",
        "881 - Predicted: 0 Actual: 0 [ 0.750 0.000 0.000 0.000 0.000 0.000 0.250 ]\n",
        "882 - Predicted: 2 Actual: 1 [ 0.000 0.333 0.500 0.000 0.000 0.167 0.000 ]\n",
        "883 - Predicted: 1 Actual: 0 [ 0.412 0.588 0.000 0.000 0.000 0.000 0.000 ]\n",
        "884 - Predicted: 1 Actual: 2 [ 0.275 0.598 0.000 0.000 0.000 0.029 0.098 ]\n",
        "885 - Predicted: 0 Actual: 1 [ 0.500 0.500 0.000 0.000 0.000 0.000 0.000 ]\n",
        "886 - Predicted: 0 Actual: 1 [ 0.485 0.485 0.030 0.000 0.000 0.000 0.000 ]\n",
        "887 - Predicted: 0 Actual: 1 [ 0.560 0.428 0.000 0.000 0.012 0.000 0.000 ]\n",
        "888 - Predicted: 0 Actual: 1 [ 0.333 0.333 0.000 0.000 0.333 0.000 0.000 ]\n",
        "889 - Predicted: 0 Actual: 0 [ 0.667 0.333 0.000 0.000 0.000 0.000 0.000 ]\n",
        "890"
       ]
      },
      {
       "output_type": "stream",
       "stream": "stdout",
       "text": [
        " - Predicted: 0 Actual: 1 [ 0.667 0.333 0.000 0.000 0.000 0.000 0.000 ]\n",
        "891 - Predicted: 1 Actual: 2 [ 0.056 0.889 0.000 0.000 0.000 0.056 0.000 ]\n",
        "892 - Predicted: 1 Actual: 1 [ 0.254 0.746 0.000 0.000 0.000 0.000 0.000 ]\n",
        "893 - Predicted: 1 Actual: 1 [ 0.310 0.690 0.000 0.000 0.000 0.000 0.000 ]\n",
        "894 - Predicted: 1 Actual: 1 [ 0.000 0.750 0.250 0.000 0.000 0.000 0.000 ]\n",
        "895 - Predicted: 0 Actual: 0 [ 0.600 0.400 0.000 0.000 0.000 0.000 0.000 ]\n",
        "896 - Predicted: 6 Actual: 0 [ 0.143 0.286 0.000 0.000 0.000 0.000 0.571 ]\n",
        "897 - Predicted: 1 Actual: 0 [ 0.444 0.493 0.000 0.000 0.004 0.000 0.059 ]\n",
        "898 - Predicted: 0 Actual: 1 [ 0.600 0.400 0.000 0.000 0.000 0.000 0.000 ]\n",
        "899 - Predicted: 6 Actual: 0 [ 0.278 0.000 0.000 0.000 0.000 0.000 0.722 ]\n",
        "900"
       ]
      },
      {
       "output_type": "stream",
       "stream": "stdout",
       "text": [
        " - Predicted: 1 Actual: 1 [ 0.250 0.500 0.250 0.000 0.000 0.000 0.000 ]\n",
        "901 - Predicted: 2 Actual: 2 [ 0.000 0.333 0.667 0.000 0.000 0.000 0.000 ]\n",
        "902 - Predicted: 0 Actual: 0 [ 0.500 0.500 0.000 0.000 0.000 0.000 0.000 ]\n",
        "903 - Predicted: 1 Actual: 1 [ 0.333 0.667 0.000 0.000 0.000 0.000 0.000 ]\n",
        "904 - Predicted: 1 Actual: 1 [ 0.111 0.889 0.000 0.000 0.000 0.000 0.000 ]\n",
        "905 - Predicted: 0 Actual: 1 [ 0.556 0.444 0.000 0.000 0.000 0.000 0.000 ]\n",
        "906 - Predicted: 1 Actual: 0 [ 0.000 0.750 0.000 0.000 0.250 0.000 0.000 ]\n",
        "907 - Predicted: 0 Actual: 0 [ 0.500 0.000 0.000 0.000 0.000 0.000 0.500 ]\n",
        "908 - Predicted: 0 Actual: 1 [ 0.667 0.333 0.000 0.000 0.000 0.000 0.000 ]\n",
        "909 - Predicted: 1 Actual: 0 [ 0.241 0.491 0.157 0.009 0.037 0.065 0.000 ]\n",
        "910"
       ]
      },
      {
       "output_type": "stream",
       "stream": "stdout",
       "text": [
        " - Predicted: 1 Actual: 0 [ 0.200 0.400 0.100 0.000 0.000 0.300 0.000 ]\n",
        "911 - Predicted: 1 Actual: 1 [ 0.130 0.826 0.000 0.000 0.000 0.043 0.000 ]\n",
        "912 - Predicted: 1 Actual: 1 [ 0.167 0.333 0.167 0.000 0.000 0.333 0.000 ]\n",
        "913 - Predicted: 1 Actual: 1 [ 0.444 0.514 0.000 0.000 0.000 0.000 0.042 ]\n",
        "914 - Predicted: 1 Actual: 0 [ 0.336 0.536 0.039 0.004 0.029 0.017 0.039 ]\n",
        "915 - Predicted: 0 Actual: 0 [ 0.636 0.364 0.000 0.000 0.000 0.000 0.000 ]\n",
        "916 - Predicted: 0 Actual: 0 [ 0.750 0.250 0.000 0.000 0.000 0.000 0.000 ]\n",
        "917 - Predicted: 1 Actual: 1 [ 0.167 0.667 0.167 0.000 0.000 0.000 0.000 ]\n",
        "918 - Predicted: 1 Actual: 2 [ 0.351 0.590 0.015 0.000 0.013 0.021 0.010 ]\n",
        "919 - Predicted: 0 Actual: 1 [ 0.500 0.500 0.000 0.000 0.000 0.000 0.000 ]\n",
        "920"
       ]
      },
      {
       "output_type": "stream",
       "stream": "stdout",
       "text": [
        " - Predicted: 0 Actual: 0 [ 0.667 0.333 0.000 0.000 0.000 0.000 0.000 ]\n",
        "921 - Predicted: 1 Actual: 2 [ 0.059 0.574 0.353 0.000 0.015 0.000 0.000 ]\n",
        "922 - Predicted: 1 Actual: 1 [ 0.408 0.527 0.008 0.000 0.016 0.000 0.041 ]\n",
        "923 - Predicted: 0 Actual: 0 [ 0.794 0.190 0.000 0.000 0.016 0.000 0.000 ]\n",
        "924 - Predicted: 0 Actual: 1 [ 0.500 0.375 0.042 0.000 0.042 0.042 0.000 ]\n",
        "925 - Predicted: 1 Actual: 1 [ 0.280 0.600 0.000 0.000 0.000 0.040 0.080 ]\n",
        "926 - Predicted: 0 Actual: 1 [ 0.485 0.424 0.000 0.000 0.091 0.000 0.000 ]\n",
        "927 - Predicted: 1 Actual: 0 [ 0.441 0.493 0.000 0.000 0.000 0.000 0.067 ]\n",
        "928 - Predicted: 1 Actual: 1 [ 0.280 0.600 0.000 0.000 0.000 0.040 0.080 ]\n",
        "929 - Predicted: 0 Actual: 0 [ 0.588 0.412 0.000 0.000 0.000 0.000 0.000 ]\n",
        "930"
       ]
      },
      {
       "output_type": "stream",
       "stream": "stdout",
       "text": [
        " - Predicted: 0 Actual: 1 [ 0.600 0.400 0.000 0.000 0.000 0.000 0.000 ]\n",
        "931 - Predicted: 1 Actual: 1 [ 0.261 0.734 0.000 0.000 0.000 0.000 0.006 ]\n",
        "932 - Predicted: 1 Actual: 2 [ 0.128 0.723 0.128 0.000 0.021 0.000 0.000 ]\n",
        "933 - Predicted: 1 Actual: 0 [ 0.250 0.583 0.000 0.000 0.042 0.042 0.083 ]\n",
        "934 - Predicted: 1 Actual: 1 [ 0.333 0.667 0.000 0.000 0.000 0.000 0.000 ]\n",
        "935 - Predicted: 0 Actual: 1 [ 0.867 0.067 0.000 0.000 0.000 0.000 0.067 ]\n",
        "936 - Predicted: 0 Actual: 0 [ 0.500 0.500 0.000 0.000 0.000 0.000 0.000 ]\n",
        "937 - Predicted: 1 Actual: 0 [ 0.227 0.355 0.300 0.009 0.009 0.100 0.000 ]\n",
        "938 - Predicted: 0 Actual: 1 [ 0.546 0.425 0.000 0.000 0.004 0.000 0.025 ]\n",
        "939 - Predicted: 0 Actual: 0 [ 0.429 0.357 0.000 0.000 0.000 0.000 0.214 ]\n",
        "940"
       ]
      },
      {
       "output_type": "stream",
       "stream": "stdout",
       "text": [
        " - Predicted: 0 Actual: 0 [ 0.518 0.482 0.000 0.000 0.000 0.000 0.000 ]\n",
        "941 - Predicted: 1 Actual: 0 [ 0.333 0.667 0.000 0.000 0.000 0.000 0.000 ]\n",
        "942 - Predicted: 1 Actual: 1 [ 0.423 0.538 0.000 0.000 0.038 0.000 0.000 ]\n",
        "943 - Predicted: 0 Actual: 0 [ 0.819 0.111 0.000 0.000 0.000 0.000 0.069 ]\n",
        "944 - Predicted: 1 Actual: 1 [ 0.333 0.667 0.000 0.000 0.000 0.000 0.000 ]\n",
        "945 - Predicted: 1 Actual: 1 [ 0.069 0.403 0.222 0.000 0.000 0.056 0.250 ]\n",
        "946 - Predicted: 1 Actual: 2 [ 0.124 0.717 0.105 0.000 0.041 0.013 0.000 ]\n",
        "947 - Predicted: 1 Actual: 0 [ 0.105 0.421 0.289 0.000 0.158 0.026 0.000 ]\n",
        "948 - Predicted: 1 Actual: 1 [ 0.231 0.692 0.000 0.000 0.000 0.077 0.000 ]\n",
        "949 - Predicted: 1 Actual: 1 [ 0.297 0.575 0.050 0.000 0.045 0.017 0.017 ]\n",
        "950"
       ]
      },
      {
       "output_type": "stream",
       "stream": "stdout",
       "text": [
        " - Predicted: 1 Actual: 1 [ 0.102 0.898 0.000 0.000 0.000 0.000 0.000 ]\n",
        "951 - Predicted: 0 Actual: 0 [ 0.526 0.322 0.000 0.000 0.000 0.000 0.151 ]\n",
        "952 - Predicted: 1 Actual: 1 [ 0.000 0.960 0.000 0.000 0.000 0.040 0.000 ]\n",
        "953 - Predicted: 1 Actual: 2 [ 0.130 0.609 0.174 0.087 0.000 0.000 0.000 ]\n",
        "954 - Predicted: 1 Actual: 1 [ 0.261 0.733 0.000 0.000 0.000 0.000 0.006 ]\n",
        "955 - Predicted: 0 Actual: 1 [ 0.500 0.500 0.000 0.000 0.000 0.000 0.000 ]\n",
        "956 - Predicted: 0 Actual: 0 [ 0.600 0.400 0.000 0.000 0.000 0.000 0.000 ]\n",
        "957 - Predicted: 1 Actual: 0 [ 0.222 0.667 0.000 0.000 0.111 0.000 0.000 ]\n",
        "958 - Predicted: 1 Actual: 1 [ 0.175 0.825 0.000 0.000 0.000 0.000 0.000 ]\n",
        "959 - Predicted: 1 Actual: 0 [ 0.111 0.889 0.000 0.000 0.000 0.000 0.000 ]\n",
        "960"
       ]
      },
      {
       "output_type": "stream",
       "stream": "stdout",
       "text": [
        " - Predicted: 0 Actual: 1 [ 0.608 0.354 0.000 0.000 0.005 0.000 0.034 ]\n",
        "961 - Predicted: 0 Actual: 1 [ 0.506 0.448 0.000 0.000 0.023 0.000 0.023 ]\n",
        "962 - Predicted: 4 Actual: 2 [ 0.062 0.438 0.000 0.000 0.500 0.000 0.000 ]\n",
        "963 - Predicted: 0 Actual: 0 [ 0.625 0.375 0.000 0.000 0.000 0.000 0.000 ]\n",
        "964 - Predicted: 1 Actual: 0 [ 0.444 0.556 0.000 0.000 0.000 0.000 0.000 ]\n",
        "965 - Predicted: 0 Actual: 1 [ 0.550 0.434 0.000 0.000 0.008 0.008 0.000 ]\n",
        "966 - Predicted: 1 Actual: 0 [ 0.429 0.500 0.000 0.000 0.071 0.000 0.000 ]\n",
        "967 - Predicted: 1 Actual: 1 [ 0.049 0.812 0.076 0.000 0.062 0.000 0.000 ]\n",
        "968 - Predicted: 1 Actual: 1 [ 0.111 0.778 0.111 0.000 0.000 0.000 0.000 ]\n",
        "969 - Predicted: 0 Actual: 0 [ 0.880 0.120 0.000 0.000 0.000 0.000 0.000 ]\n",
        "970"
       ]
      },
      {
       "output_type": "stream",
       "stream": "stdout",
       "text": [
        " - Predicted: 1 Actual: 1 [ 0.000 0.850 0.150 0.000 0.000 0.000 0.000 ]\n",
        "971 - Predicted: 1 Actual: 0 [ 0.000 0.714 0.000 0.000 0.000 0.286 0.000 ]\n",
        "972 - Predicted: 1 Actual: 1 [ 0.090 0.910 0.000 0.000 0.000 0.000 0.000 ]\n",
        "973 - Predicted: 0 Actual: 1 [ 0.536 0.438 0.000 0.000 0.000 0.000 0.026 ]\n",
        "974 - Predicted: 1 Actual: 1 [ 0.333 0.667 0.000 0.000 0.000 0.000 0.000 ]\n",
        "975 - Predicted: 0 Actual: 0 [ 0.544 0.456 0.000 0.000 0.000 0.000 0.000 ]\n",
        "976 - Predicted: 2 Actual: 2 [ 0.000 0.000 0.889 0.000 0.000 0.111 0.000 ]\n",
        "977 - Predicted: 1 Actual: 0 [ 0.000 0.500 0.000 0.000 0.000 0.000 0.500 ]\n",
        "978 - Predicted: 1 Actual: 0 [ 0.000 0.571 0.143 0.000 0.286 0.000 0.000 ]\n",
        "979 - Predicted: 0 Actual: 1 [ 0.613 0.355 0.000 0.000 0.000 0.000 0.032 ]\n",
        "980"
       ]
      },
      {
       "output_type": "stream",
       "stream": "stdout",
       "text": [
        " - Predicted: 0 Actual: 1 [ 0.333 0.333 0.000 0.000 0.000 0.000 0.333 ]\n",
        "981 - Predicted: 0 Actual: 0 [ 0.733 0.267 0.000 0.000 0.000 0.000 0.000 ]\n",
        "982 - Predicted: 1 Actual: 1 [ 0.268 0.727 0.000 0.000 0.000 0.000 0.005 ]\n",
        "983 - Predicted: 2 Actual: 2 [ 0.000 0.021 0.668 0.106 0.000 0.204 0.000 ]\n",
        "984 - Predicted: 0 Actual: 0 [ 0.857 0.143 0.000 0.000 0.000 0.000 0.000 ]\n",
        "985 - Predicted: 1 Actual: 1 [ 0.362 0.526 0.028 0.002 0.024 0.019 0.038 ]\n",
        "986 - Predicted: 0 Actual: 0 [ 0.596 0.255 0.000 0.000 0.000 0.000 0.149 ]\n",
        "987 - Predicted: 1 Actual: 0 [ 0.442 0.558 0.000 0.000 0.000 0.000 0.000 ]\n",
        "988 - Predicted: 0 Actual: 1 [ 0.646 0.354 0.000 0.000 0.000 0.000 0.000 ]\n",
        "989 - Predicted: 1 Actual: 1 [ 0.077 0.846 0.000 0.000 0.000 0.000 0.077 ]\n",
        "990"
       ]
      },
      {
       "output_type": "stream",
       "stream": "stdout",
       "text": [
        " - Predicted: 1 Actual: 1 [ 0.376 0.624 0.000 0.000 0.000 0.000 0.000 ]\n",
        "991 - Predicted: 0 Actual: 0 [ 0.613 0.387 0.000 0.000 0.000 0.000 0.000 ]\n",
        "992 - Predicted: 0 Actual: 0 [ 0.870 0.087 0.000 0.000 0.000 0.000 0.043 ]\n",
        "993 - Predicted: 1 Actual: 1 [ 0.308 0.654 0.000 0.000 0.000 0.038 0.000 ]\n",
        "994 - Predicted: 0 Actual: 0 [ 0.514 0.486 0.000 0.000 0.000 0.000 0.000 ]\n",
        "995 - Predicted: 2 Actual: 2 [ 0.000 0.005 0.541 0.050 0.000 0.405 0.000 ]\n",
        "996 - Predicted: 1 Actual: 0 [ 0.282 0.718 0.000 0.000 0.000 0.000 0.000 ]\n",
        "997 - Predicted: 1 Actual: 1 [ 0.100 0.700 0.000 0.000 0.100 0.100 0.000 ]\n",
        "998 - Predicted: 0 Actual: 1 [ 0.655 0.224 0.000 0.000 0.000 0.000 0.121 ]\n",
        "999 - Predicted: 1 Actual: 1 [ 0.339 0.661 0.000 0.000 0.000 0.000 0.000 ]\n",
        " "
       ]
      }
     ],
     "prompt_number": 48
    },
    {
     "cell_type": "code",
     "collapsed": false,
     "input": [
      "n = mf.trees[0].root.left.left.left.left.left.left.left\n",
      "%timeit get_posterior_class_probs(n, 10)"
     ],
     "language": "python",
     "metadata": {},
     "outputs": []
    },
    {
     "cell_type": "code",
     "collapsed": false,
     "input": [
      "pd.Series(hits).cumsum().plot() # Predictions over time"
     ],
     "language": "python",
     "metadata": {},
     "outputs": [
      {
       "metadata": {},
       "output_type": "pyout",
       "prompt_number": 49,
       "text": [
        "<matplotlib.axes._subplots.AxesSubplot at 0x7f162d7d1978>"
       ]
      },
      {
       "metadata": {},
       "output_type": "display_data",
       "png": "[encoded data removed]",
       "text": [
        "<matplotlib.figure.Figure at 0x7f162d7ab390>"
       ]
      }
     ],
     "prompt_number": 49
    },
    {
     "cell_type": "code",
     "collapsed": false,
     "input": [
      "sum(hits)/len(hits) # Overall accuracy"
     ],
     "language": "python",
     "metadata": {},
     "outputs": [
      {
       "metadata": {},
       "output_type": "pyout",
       "prompt_number": 50,
       "text": [
        "0.59999999999999998"
       ]
      }
     ],
     "prompt_number": 50
    }
   ],
   "metadata": {}
  }
 ]
}