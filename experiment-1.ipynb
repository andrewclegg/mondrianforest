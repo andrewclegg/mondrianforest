{
 "metadata": {
  "name": "",
  "signature": "sha256:9f57e00764df5b6c6df215e3c3069d5f0393d4d56213a31d634eabc6c10a8bad"
 },
 "nbformat": 3,
 "nbformat_minor": 0,
 "worksheets": [
  {
   "cells": [
    {
     "cell_type": "markdown",
     "metadata": {},
     "source": [
      "# Mondrian Forests\n",
      "\n",
      "This is a reimplementation of Mondrian Forests as described here:\n",
      "\n",
      "**Mondrian Forests: Efficient Online Random Forests**\n",
      "\n",
      "Balaji Lakshminarayanan, Daniel M. Roy, Yee Whye Teh\n",
      "\n",
      "http://arxiv.org/abs/1406.2673\n",
      "\n",
      "It partly uses code from the original authors' implementation at\n",
      "\n",
      "https://github.com/balajiln/mondrianforest\n",
      "\n",
      "but changes a few things along the way too. Key differences:\n",
      "\n",
      "* Assume FAST_MODE (no log-likelihood) for now\n",
      "* Classification only (they never finished regression)\n",
      "* Always assume we're training incrementally\n",
      "* `data` (an array) refers to one batch, instead of having a single design matrix in memory and indexing it with `train_ids`\n",
      "* `labels` is a vector of class labels for the rows in `data`\n",
      "* We don't assume you'll provide the first batch of training data when initializing a tree, but we do need to know the number of dimensions and number of labels\n",
      "* It works in parallel :-)\n",
      "\n",
      "Perhaps most different of all:\n",
      "\n",
      "We don't keep all the input data, as this won't scale. But this means we can't move existing data down into the new leaf nodes when we split a leaf node.\n",
      "\n",
      "This is the plan: When the tree \"grows\" through randomly splitting a leaf node, keep its existing class frequencies where they are, and only use the two new children for *newly-arriving* data. Then take these into account when calculating the predictive posteriors (appendix A of paper). This is working, but not very well tested yet.\n",
      "\n",
      "Here are my original thoughts on this, that I almost sent to the authors, but decided to try first.\n",
      "\n",
      "```\n",
      "One thing I missed on reading the paper, is that when you bisect a leaf node through a \"grow\" (sampling) operation,\n",
      "you need to assign all its data points to one of the new children.\n",
      "\n",
      "This means you can't just keep summary statistics for the data in a block, i.e. class frequencies. You need to hold\n",
      "on to the raw training data in order to divide it, yes? Which is a problem for online learning over streaming data\n",
      "or just \"big data\" in general.\n",
      "\n",
      "So... Perhaps you could entirely forget about keeping the existing data and propagating it down to the new child\n",
      "nodes. If you just kept class frequencies at each node, maybe you could use these in the \"update posterior counts\"\n",
      "step for internal nodes, alongside the child node counts.\n",
      "\n",
      "(Any data that came in *after* the split would go all the way down to the leaf nodes though.)\n",
      "```\n",
      "\n",
      "For the time being, though, it's using a much simpler scoring system. Walk down the tree until you find the box that the test example would have been in, and go for the majority class. If you don't find a box, or it's empty, walk back up until you find the nearest ancestor with some instances in.\n",
      "\n",
      "Averaged across a few trees, even as few as ~10, this actually does pretty well.\n",
      "\n",
      "## Running this demo\n",
      "\n",
      "If a `default` IPython cluster is available, it runs in parallel automatically, with as many trees in the forest as you have engines in the cluster. Otherwise, it runs in serial on a single core, with 3 trees. See the notes in the third cell.\n",
      "\n",
      "For best results with small forests, use an odd number of trees.\n",
      "\n",
      "## TODO\n",
      "\n",
      "### Must-haves\n",
      "\n",
      "* Types for all numpy arrays\n",
      "* Error checking\n",
      "* Work out exactly what effect `budget` is having\n",
      "* Introspection and prettyprinting tools\n",
      "* Work out which members are \"private\" and rename them with underscores\n",
      "* Proper tests...\n",
      "\n",
      "### Useful features\n",
      "\n",
      "* Allow multiple trees per engine (i.e. each engine runs a forest, not a tree)\n",
      "* Instance subsampling\n",
      "* Feature subsampling/bootstrapping/bagging\n",
      "* Feature hashing/random projection/LSH\n",
      "* Train-on-fail mode\n",
      "* Loss functions, regret, class weighting?\n",
      "\n",
      "### Blue sky\n",
      "\n",
      "* Regression\n",
      "* Clustering? (I mean, it basically *is* clustering, already...)\n",
      "* Semi-supervised would be really easy too\n",
      "* Adaptivity -- non-stationary distributions, recency effects etc.\n",
      "* Auto-pruning/rebalancing -- stop trees either stagnating or growing out of control in the long term\n",
      "* What about when the true number of classes isn't known in advance?\n",
      "\n",
      "The last three are really closely related.\n",
      "\n",
      "We could probably tackle a lot of these problems by \"chopping down\" older trees -- either randomly or according to a heuristic (e.g. least-recently-modified) -- so new ones can grow in their place. Maybe varying the budget and discount values would be useful too.\n",
      "\n",
      "Perhaps you could calculate the posterior class probabilities over the entire 'dead' tree, and use these as the priors for the new tree that will grow in its place.\n",
      "\n",
      "You could also use this kind of approach to tune P/R tradeoff, chase a particular objective function, do reinforcement learning... If you squint, they start to look a little like GAs.\n",
      "\n",
      "* Ontology learning\n",
      "* Grammar induction\n",
      "* Topic modelling\n",
      "\n",
      "Use cases that are fundamentally tree-shaped! Hmmm."
     ]
    },
    {
     "cell_type": "code",
     "collapsed": false,
     "input": [
      "%run 'mondrian.py'\n",
      "\n",
      "import random\n",
      "\n",
      "import numpy as np\n",
      "\n",
      "from IPython.parallel import Client\n",
      "try:\n",
      "    rc = Client()\n",
      "    dview = rc[:]\n",
      "    print('Using default IPython cluster with %d engines' % len(dview))\n",
      "except FileNotFoundError:\n",
      "    rc = None\n",
      "    dview = None\n",
      "    print('Using single-core implementation')\n",
      "\n",
      "DEFAULT_BUDGET = 1000"
     ],
     "language": "python",
     "metadata": {},
     "outputs": [
      {
       "output_type": "stream",
       "stream": "stdout",
       "text": [
        "Using default IPython cluster with 11 engines\n"
       ]
      }
     ],
     "prompt_number": 26
    },
    {
     "cell_type": "code",
     "collapsed": false,
     "input": [
      "import pickle\n",
      "import gzip\n",
      "import os\n",
      "import pandas as pd\n",
      "from sklearn import datasets\n",
      "from sklearn import cross_validation as cv\n",
      "\n",
      "# For speed later...\n",
      "test_file = '/home/vagrant/data/covtype.pkl.gz'\n",
      "if os.path.exists(test_file):\n",
      "    with gzip.GzipFile(test_file, 'rb') as z:\n",
      "        dataset = pickle.load(z)\n",
      "else:\n",
      "    dataset = datasets.fetch_covtype() # Can be quite slow\n",
      "    with gzip.GzipFile(test_file, 'wb') as z:\n",
      "        pickle.dump(dataset, z)\n",
      "        \n",
      "dataset.data.shape"
     ],
     "language": "python",
     "metadata": {},
     "outputs": [
      {
       "metadata": {},
       "output_type": "pyout",
       "prompt_number": 2,
       "text": [
        "(581012, 54)"
       ]
      }
     ],
     "prompt_number": 2
    },
    {
     "cell_type": "code",
     "collapsed": false,
     "input": [
      "n_iter = 50\n",
      "test_size = 10\n",
      "folds = cv.StratifiedShuffleSplit(dataset.target, n_iter=n_iter, test_size=test_size, train_size=1000)\n",
      "hits = []\n",
      "\n",
      "data = dataset.data\n",
      "target = dataset.target - 1 # they are 1-indexed\n",
      "data_size = data.shape[1]\n",
      "classes = len(np.unique(target))\n",
      "\n",
      "local_trees = 11\n",
      "remote_trees_per_worker = 5\n",
      "scoring = 'nsp'\n",
      "\n",
      "def run_test():\n",
      "    for i, (train, test) in enumerate(folds):\n",
      "        train_X = data[train]\n",
      "        train_y = target[train]\n",
      "        test_X = data[test]\n",
      "        test_y = target[test]\n",
      "        mf.update(train_X, train_y)\n",
      "        preds = mf.predict(test_X)\n",
      "        yhat = preds.argmax(axis=1)\n",
      "        assert test_y.shape == yhat.shape\n",
      "        for j in range(len(preds)):\n",
      "            idx = (i * test_size) + j\n",
      "            print(idx, '- Predicted:', yhat[j], 'Actual:', test_y[j],\n",
      "                  '[', ' '.join(['%.3f' % x for x in preds[j]]), ']')\n",
      "            hits.append(yhat[j] == test_y[j])\n",
      "\n",
      "if dview is None:\n",
      "    # Run with a single-threaded forest\n",
      "    mf = MondrianForest(local_trees, data_size, classes, DEFAULT_BUDGET, scoring)\n",
      "    %prun run_test()\n",
      "else:\n",
      "    # Run with a parallel forest on IPython cluster\n",
      "    mf = ParallelMondrianForest(dview, remote_trees_per_worker, data_size, classes, DEFAULT_BUDGET, scoring)\n",
      "    run_test()"
     ],
     "language": "python",
     "metadata": {},
     "outputs": [
      {
       "output_type": "stream",
       "stream": "stdout",
       "text": [
        "0 - Predicted: 1 Actual: 0 [ 0.223 0.474 0.127 0.010 0.033 0.061 0.072 ]\n",
        "1 - Predicted: 1 Actual: 1 [ 0.223 0.474 0.127 0.010 0.033 0.061 0.072 ]\n",
        "2 - Predicted: 1 Actual: 1 [ 0.223 0.474 0.127 0.010 0.033 0.061 0.072 ]\n",
        "3 - Predicted: 1 Actual: 1 [ 0.223 0.474 0.127 0.010 0.033 0.061 0.072 ]\n",
        "4 - Predicted: 1 Actual: 0 [ 0.223 0.474 0.127 0.010 0.033 0.061 0.072 ]\n",
        "5 - Predicted: 1 Actual: 0 [ 0.223 0.474 0.127 0.010 0.033 0.061 0.072 ]\n",
        "6 - Predicted: 1 Actual: 0 [ 0.223 0.474 0.127 0.010 0.033 0.061 0.072 ]\n",
        "7 - Predicted: 1 Actual: 2 [ 0.223 0.474 0.127 0.010 0.033 0.061 0.072 ]\n",
        "8 - Predicted: 1 Actual: 1 [ 0.223 0.474 0.127 0.010 0.033 0.061 0.072 ]\n",
        "9 - Predicted: 1 Actual: 1 [ 0.223 0.474 0.127 0.010 0.033 0.061 0.072 ]\n",
        "10"
       ]
      },
      {
       "output_type": "stream",
       "stream": "stdout",
       "text": [
        " - Predicted: 1 Actual: 1 [ 0.235 0.429 0.154 0.009 0.038 0.069 0.065 ]\n",
        "11 - Predicted: 1 Actual: 1 [ 0.282 0.475 0.105 0.006 0.022 0.048 0.063 ]\n",
        "12 - Predicted: 1 Actual: 0 [ 0.267 0.477 0.104 0.007 0.024 0.051 0.071 ]\n",
        "13 - Predicted: 1 Actual: 0 [ 0.245 0.479 0.108 0.007 0.029 0.056 0.076 ]\n",
        "14 - Predicted: 1 Actual: 0 [ 0.233 0.444 0.143 0.009 0.034 0.066 0.070 ]\n",
        "15 - Predicted: 1 Actual: 1 [ 0.275 0.426 0.129 0.007 0.036 0.059 0.068 ]\n",
        "16 - Predicted: 1 Actual: 0 [ 0.278 0.472 0.093 0.006 0.027 0.050 0.073 ]\n",
        "17 - Predicted: 1 Actual: 1 [ 0.272 0.442 0.112 0.007 0.032 0.060 0.076 ]\n",
        "18 - Predicted: 1 Actual: 2 [ 0.243 0.412 0.167 0.011 0.034 0.068 0.065 ]\n",
        "19 - Predicted: 1 Actual: 1 [ 0.254 0.447 0.118 0.008 0.033 0.062 0.079 ]\n",
        "20"
       ]
      },
      {
       "output_type": "stream",
       "stream": "stdout",
       "text": [
        " - Predicted: 1 Actual: 0 [ 0.355 0.461 0.061 0.003 0.019 0.033 0.069 ]\n",
        "21 - Predicted: 1 Actual: 0 [ 0.310 0.389 0.127 0.008 0.034 0.062 0.070 ]\n",
        "22 - Predicted: 1 Actual: 1 [ 0.359 0.388 0.091 0.006 0.029 0.047 0.080 ]\n",
        "23 - Predicted: 1 Actual: 0 [ 0.380 0.426 0.060 0.004 0.022 0.033 0.076 ]\n",
        "24 - Predicted: 1 Actual: 1 [ 0.291 0.409 0.129 0.007 0.029 0.065 0.070 ]\n",
        "25 - Predicted: 1 Actual: 1 [ 0.287 0.397 0.135 0.009 0.034 0.066 0.072 ]\n",
        "26 - Predicted: 1 Actual: 0 [ 0.351 0.494 0.047 0.003 0.018 0.025 0.063 ]\n",
        "27 - Predicted: 1 Actual: 1 [ 0.346 0.389 0.094 0.006 0.030 0.049 0.085 ]\n",
        "28 - Predicted: 1 Actual: 2 [ 0.295 0.397 0.142 0.009 0.034 0.067 0.056 ]\n",
        "29 - Predicted: 1 Actual: 1 [ 0.345 0.487 0.053 0.003 0.019 0.028 0.065 ]\n",
        "30"
       ]
      },
      {
       "output_type": "stream",
       "stream": "stdout",
       "text": [
        " - Predicted: 0 Actual: 1 [ 0.427 0.335 0.104 0.007 0.023 0.051 0.053 ]\n",
        "31 - Predicted: 1 Actual: 1 [ 0.319 0.398 0.140 0.009 0.028 0.069 0.037 ]\n",
        "32 - Predicted: 0 Actual: 0 [ 0.437 0.413 0.052 0.003 0.016 0.025 0.053 ]\n",
        "33 - Predicted: 0 Actual: 1 [ 0.486 0.364 0.047 0.002 0.018 0.023 0.061 ]\n",
        "34 - Predicted: 1 Actual: 1 [ 0.377 0.395 0.096 0.004 0.027 0.044 0.057 ]\n",
        "35 - Predicted: 0 Actual: 0 [ 0.486 0.355 0.053 0.002 0.018 0.027 0.059 ]\n",
        "36 - Predicted: 1 Actual: 2 [ 0.290 0.377 0.169 0.015 0.032 0.082 0.034 ]\n",
        "37 - Predicted: 0 Actual: 0 [ 0.411 0.350 0.103 0.006 0.028 0.049 0.054 ]\n",
        "38 - Predicted: 0 Actual: 1 [ 0.438 0.409 0.050 0.002 0.016 0.024 0.061 ]\n",
        "39 - Predicted: 0 Actual: 0 [ 0.385 0.361 0.110 0.007 0.027 0.057 0.052 ]\n",
        "40"
       ]
      },
      {
       "output_type": "stream",
       "stream": "stdout",
       "text": [
        " - Predicted: 1 Actual: 1 [ 0.337 0.616 0.012 0.001 0.004 0.006 0.025 ]\n",
        "41 - Predicted: 1 Actual: 1 [ 0.301 0.471 0.110 0.006 0.032 0.049 0.031 ]\n",
        "42 - Predicted: 1 Actual: 0 [ 0.395 0.437 0.066 0.003 0.015 0.028 0.056 ]\n",
        "43 - Predicted: 0 Actual: 0 [ 0.441 0.420 0.049 0.003 0.013 0.020 0.055 ]\n",
        "44 - Predicted: 1 Actual: 2 [ 0.368 0.439 0.090 0.005 0.019 0.036 0.043 ]\n",
        "45 - Predicted: 1 Actual: 1 [ 0.408 0.452 0.042 0.002 0.014 0.017 0.067 ]\n",
        "46 - Predicted: 1 Actual: 0 [ 0.378 0.442 0.066 0.003 0.020 0.031 0.060 ]\n",
        "47 - Predicted: 1 Actual: 0 [ 0.420 0.477 0.025 0.001 0.010 0.009 0.058 ]\n",
        "48 - Predicted: 1 Actual: 1 [ 0.276 0.688 0.007 0.002 0.006 0.005 0.016 ]\n",
        "49 - Predicted: 1 Actual: 1 [ 0.302 0.412 0.158 0.012 0.018 0.066 0.033 ]\n",
        "50"
       ]
      },
      {
       "output_type": "stream",
       "stream": "stdout",
       "text": [
        " - Predicted: 0 Actual: 1 [ 0.439 0.436 0.031 0.001 0.018 0.019 0.056 ]\n",
        "51 - Predicted: 0 Actual: 1 [ 0.471 0.415 0.027 0.001 0.012 0.016 0.058 ]\n",
        "52 - Predicted: 1 Actual: 2 [ 0.231 0.318 0.283 0.016 0.013 0.122 0.018 ]\n",
        "53 - Predicted: 1 Actual: 0 [ 0.434 0.487 0.013 0.001 0.005 0.009 0.050 ]\n",
        "54 - Predicted: 1 Actual: 0 [ 0.394 0.436 0.074 0.003 0.018 0.037 0.038 ]\n",
        "55 - Predicted: 1 Actual: 0 [ 0.395 0.449 0.058 0.003 0.020 0.034 0.041 ]\n",
        "56 - Predicted: 1 Actual: 1 [ 0.359 0.435 0.091 0.005 0.023 0.046 0.041 ]\n",
        "57 - Predicted: 1 Actual: 0 [ 0.373 0.474 0.068 0.004 0.024 0.027 0.030 ]\n",
        "58 - Predicted: 1 Actual: 1 [ 0.375 0.457 0.074 0.005 0.017 0.043 0.029 ]\n",
        "59 - Predicted: 1 Actual: 1 [ 0.369 0.554 0.011 0.002 0.007 0.007 0.051 ]\n",
        "60"
       ]
      },
      {
       "output_type": "stream",
       "stream": "stdout",
       "text": [
        " - Predicted: 1 Actual: 0 [ 0.364 0.489 0.060 0.003 0.016 0.026 0.042 ]\n",
        "61 - Predicted: 0 Actual: 1 [ 0.480 0.461 0.014 0.002 0.007 0.006 0.029 ]\n",
        "62 - Predicted: 1 Actual: 0 [ 0.453 0.460 0.026 0.001 0.013 0.012 0.034 ]\n",
        "63 - Predicted: 1 Actual: 0 [ 0.420 0.478 0.037 0.003 0.014 0.017 0.032 ]\n",
        "64 - Predicted: 1 Actual: 1 [ 0.397 0.560 0.006 0.000 0.008 0.003 0.026 ]\n",
        "65 - Predicted: 1 Actual: 1 [ 0.289 0.477 0.120 0.009 0.020 0.067 0.018 ]\n",
        "66 - Predicted: 1 Actual: 0 [ 0.452 0.468 0.024 0.001 0.007 0.010 0.038 ]\n",
        "67 - Predicted: 1 Actual: 1 [ 0.388 0.464 0.058 0.004 0.019 0.031 0.037 ]\n",
        "68 - Predicted: 1 Actual: 2 [ 0.233 0.395 0.210 0.016 0.019 0.111 0.016 ]\n",
        "69 - Predicted: 1 Actual: 1 [ 0.403 0.445 0.065 0.003 0.014 0.023 0.047 ]\n",
        "70"
       ]
      },
      {
       "output_type": "stream",
       "stream": "stdout",
       "text": [
        " - Predicted: 1 Actual: 1 [ 0.336 0.520 0.065 0.006 0.024 0.027 0.023 ]\n",
        "71 - Predicted: 1 Actual: 0 [ 0.375 0.506 0.040 0.001 0.016 0.020 0.042 ]\n",
        "72 - Predicted: 1 Actual: 1 [ 0.363 0.486 0.064 0.003 0.016 0.025 0.044 ]\n",
        "73 - Predicted: 1 Actual: 1 [ 0.432 0.532 0.006 0.000 0.004 0.003 0.023 ]\n",
        "74 - Predicted: 0 Actual: 0 [ 0.471 0.425 0.014 0.000 0.010 0.008 0.072 ]\n",
        "75 - Predicted: 1 Actual: 1 [ 0.405 0.488 0.027 0.001 0.014 0.010 0.055 ]\n",
        "76 - Predicted: 1 Actual: 2 [ 0.187 0.406 0.212 0.019 0.029 0.136 0.010 ]\n",
        "77 - Predicted: 1 Actual: 0 [ 0.432 0.474 0.034 0.001 0.013 0.017 0.029 ]\n",
        "78 - Predicted: 1 Actual: 0 [ 0.412 0.495 0.029 0.002 0.019 0.013 0.030 ]\n",
        "79 - Predicted: 1 Actual: 1 [ 0.378 0.534 0.033 0.003 0.020 0.015 0.019 ]\n",
        "80"
       ]
      },
      {
       "output_type": "stream",
       "stream": "stdout",
       "text": [
        " - Predicted: 1 Actual: 1 [ 0.361 0.528 0.026 0.001 0.025 0.014 0.044 ]\n",
        "81 - Predicted: 1 Actual: 1 [ 0.187 0.455 0.205 0.007 0.035 0.103 0.009 ]\n",
        "82 - Predicted: 0 Actual: 0 [ 0.539 0.385 0.008 0.000 0.009 0.005 0.053 ]\n",
        "83 - Predicted: 1 Actual: 0 [ 0.345 0.562 0.039 0.002 0.019 0.019 0.016 ]\n",
        "84 - Predicted: 2 Actual: 2 [ 0.118 0.236 0.376 0.039 0.022 0.205 0.004 ]\n",
        "85 - Predicted: 0 Actual: 0 [ 0.524 0.367 0.030 0.002 0.011 0.012 0.054 ]\n",
        "86 - Predicted: 1 Actual: 0 [ 0.402 0.505 0.023 0.001 0.017 0.015 0.038 ]\n",
        "87 - Predicted: 1 Actual: 1 [ 0.226 0.543 0.137 0.002 0.028 0.049 0.015 ]\n",
        "88 - Predicted: 1 Actual: 1 [ 0.269 0.689 0.014 0.001 0.008 0.008 0.012 ]\n",
        "89 - Predicted: 1 Actual: 1 [ 0.245 0.449 0.179 0.007 0.027 0.080 0.013 ]\n",
        "90"
       ]
      },
      {
       "output_type": "stream",
       "stream": "stdout",
       "text": [
        " - Predicted: 1 Actual: 1 [ 0.353 0.620 0.005 0.000 0.005 0.002 0.014 ]\n",
        "91 - Predicted: 1 Actual: 0 [ 0.462 0.470 0.020 0.001 0.011 0.012 0.025 ]\n",
        "92 - Predicted: 1 Actual: 1 [ 0.250 0.679 0.012 0.003 0.008 0.007 0.042 ]\n",
        "93 - Predicted: 1 Actual: 1 [ 0.430 0.479 0.032 0.001 0.016 0.012 0.030 ]\n",
        "94 - Predicted: 0 Actual: 0 [ 0.522 0.409 0.015 0.001 0.007 0.005 0.042 ]\n",
        "95 - Predicted: 1 Actual: 0 [ 0.428 0.514 0.010 0.001 0.009 0.010 0.028 ]\n",
        "96 - Predicted: 0 Actual: 1 [ 0.470 0.452 0.004 0.000 0.006 0.003 0.065 ]\n",
        "97 - Predicted: 1 Actual: 1 [ 0.304 0.526 0.073 0.004 0.018 0.056 0.019 ]\n",
        "98 - Predicted: 1 Actual: 0 [ 0.413 0.486 0.029 0.002 0.014 0.024 0.031 ]\n",
        "99 - Predicted: 1 Actual: 2 [ 0.333 0.576 0.020 0.001 0.012 0.020 0.038 ]\n",
        "100"
       ]
      },
      {
       "output_type": "stream",
       "stream": "stdout",
       "text": [
        " - Predicted: 1 Actual: 0 [ 0.378 0.494 0.053 0.004 0.019 0.034 0.020 ]\n",
        "101 - Predicted: 0 Actual: 0 [ 0.483 0.366 0.042 0.002 0.022 0.010 0.074 ]\n",
        "102 - Predicted: 1 Actual: 2 [ 0.165 0.443 0.229 0.017 0.024 0.106 0.016 ]\n",
        "103 - Predicted: 1 Actual: 1 [ 0.188 0.776 0.009 0.001 0.006 0.005 0.015 ]\n",
        "104 - Predicted: 0 Actual: 1 [ 0.445 0.438 0.038 0.006 0.016 0.013 0.044 ]\n",
        "105 - Predicted: 1 Actual: 1 [ 0.174 0.763 0.010 0.001 0.006 0.005 0.042 ]\n",
        "106 - Predicted: 0 Actual: 1 [ 0.553 0.383 0.010 0.000 0.008 0.004 0.043 ]\n",
        "107 - Predicted: 0 Actual: 0 [ 0.527 0.407 0.009 0.000 0.008 0.004 0.045 ]\n",
        "108 - Predicted: 1 Actual: 1 [ 0.230 0.735 0.007 0.001 0.006 0.004 0.017 ]\n",
        "109 - Predicted: 0 Actual: 0 [ 0.533 0.363 0.018 0.004 0.011 0.010 0.061 ]\n",
        "110"
       ]
      },
      {
       "output_type": "stream",
       "stream": "stdout",
       "text": [
        " - Predicted: 1 Actual: 1 [ 0.315 0.635 0.009 0.000 0.004 0.005 0.032 ]\n",
        "111 - Predicted: 1 Actual: 1 [ 0.313 0.559 0.064 0.003 0.024 0.023 0.013 ]\n",
        "112 - Predicted: 0 Actual: 0 [ 0.443 0.389 0.049 0.005 0.017 0.021 0.076 ]\n",
        "113 - Predicted: 0 Actual: 0 [ 0.519 0.391 0.019 0.001 0.009 0.011 0.050 ]\n",
        "114 - Predicted: 0 Actual: 1 [ 0.476 0.416 0.012 0.000 0.017 0.008 0.071 ]\n",
        "115 - Predicted: 1 Actual: 1 [ 0.301 0.579 0.055 0.005 0.007 0.037 0.016 ]\n",
        "116 - Predicted: 1 Actual: 1 [ 0.283 0.643 0.015 0.000 0.008 0.006 0.043 ]\n",
        "117 - Predicted: 1 Actual: 2 [ 0.155 0.429 0.268 0.016 0.022 0.096 0.013 ]\n",
        "118 - Predicted: 1 Actual: 0 [ 0.460 0.479 0.010 0.000 0.009 0.006 0.036 ]\n",
        "119 - Predicted: 1 Actual: 0 [ 0.395 0.519 0.025 0.001 0.013 0.018 0.030 ]\n",
        "120"
       ]
      },
      {
       "output_type": "stream",
       "stream": "stdout",
       "text": [
        " - Predicted: 1 Actual: 1 [ 0.337 0.623 0.005 0.000 0.003 0.002 0.030 ]\n",
        "121 - Predicted: 1 Actual: 1 [ 0.228 0.737 0.006 0.000 0.007 0.003 0.018 ]\n",
        "122 - Predicted: 1 Actual: 0 [ 0.448 0.508 0.013 0.001 0.004 0.007 0.019 ]\n",
        "123 - Predicted: 1 Actual: 2 [ 0.161 0.378 0.254 0.025 0.014 0.156 0.012 ]\n",
        "124 - Predicted: 1 Actual: 1 [ 0.386 0.546 0.023 0.001 0.013 0.016 0.016 ]\n",
        "125 - Predicted: 1 Actual: 0 [ 0.422 0.484 0.033 0.001 0.011 0.011 0.039 ]\n",
        "126 - Predicted: 1 Actual: 1 [ 0.339 0.595 0.021 0.001 0.014 0.013 0.017 ]\n",
        "127 - Predicted: 0 Actual: 0 [ 0.513 0.428 0.014 0.000 0.006 0.010 0.029 ]\n",
        "128 - Predicted: 1 Actual: 0 [ 0.344 0.582 0.019 0.001 0.022 0.008 0.023 ]\n",
        "129 - Predicted: 1 Actual: 1 [ 0.349 0.521 0.045 0.003 0.016 0.025 0.041 ]\n",
        "130"
       ]
      },
      {
       "output_type": "stream",
       "stream": "stdout",
       "text": [
        " - Predicted: 0 Actual: 0 [ 0.510 0.383 0.024 0.000 0.010 0.014 0.058 ]\n",
        "131 - Predicted: 0 Actual: 0 [ 0.643 0.308 0.005 0.000 0.012 0.004 0.028 ]\n",
        "132 - Predicted: 0 Actual: 1 [ 0.534 0.393 0.011 0.000 0.014 0.006 0.041 ]\n",
        "133 - Predicted: 1 Actual: 1 [ 0.155 0.416 0.267 0.024 0.041 0.092 0.004 ]\n",
        "134 - Predicted: 1 Actual: 1 [ 0.314 0.615 0.027 0.001 0.011 0.020 0.012 ]\n",
        "135 - Predicted: 1 Actual: 2 [ 0.189 0.535 0.165 0.008 0.012 0.081 0.009 ]\n",
        "136 - Predicted: 1 Actual: 0 [ 0.388 0.559 0.014 0.001 0.012 0.015 0.011 ]\n",
        "137 - Predicted: 1 Actual: 0 [ 0.439 0.446 0.008 0.000 0.008 0.006 0.092 ]\n",
        "138 - Predicted: 1 Actual: 1 [ 0.259 0.553 0.083 0.004 0.034 0.031 0.036 ]\n",
        "139 - Predicted: 1 Actual: 1 [ 0.243 0.448 0.160 0.022 0.067 0.053 0.006 ]\n",
        "140"
       ]
      },
      {
       "output_type": "stream",
       "stream": "stdout",
       "text": [
        " - Predicted: 0 Actual: 0 [ 0.484 0.348 0.029 0.000 0.017 0.012 0.110 ]\n",
        "141 - Predicted: 1 Actual: 0 [ 0.322 0.592 0.025 0.001 0.027 0.019 0.015 ]\n",
        "142 - Predicted: 1 Actual: 1 [ 0.395 0.490 0.035 0.003 0.024 0.017 0.035 ]\n",
        "143 - Predicted: 0 Actual: 0 [ 0.511 0.373 0.019 0.000 0.009 0.013 0.076 ]\n",
        "144 - Predicted: 1 Actual: 1 [ 0.365 0.559 0.016 0.000 0.011 0.009 0.040 ]\n",
        "145 - Predicted: 1 Actual: 2 [ 0.196 0.427 0.221 0.018 0.035 0.085 0.017 ]\n",
        "146 - Predicted: 0 Actual: 0 [ 0.508 0.428 0.009 0.000 0.011 0.006 0.038 ]\n",
        "147 - Predicted: 1 Actual: 1 [ 0.268 0.678 0.005 0.000 0.010 0.002 0.037 ]\n",
        "148 - Predicted: 1 Actual: 1 [ 0.214 0.682 0.027 0.003 0.034 0.019 0.022 ]\n",
        "149 - Predicted: 1 Actual: 1 [ 0.364 0.569 0.011 0.000 0.015 0.006 0.035 ]\n",
        "150"
       ]
      },
      {
       "output_type": "stream",
       "stream": "stdout",
       "text": [
        " - Predicted: 0 Actual: 0 [ 0.477 0.395 0.048 0.001 0.026 0.019 0.034 ]\n",
        "151 - Predicted: 1 Actual: 0 [ 0.278 0.533 0.075 0.004 0.051 0.039 0.020 ]\n",
        "152 - Predicted: 0 Actual: 0 [ 0.491 0.418 0.021 0.000 0.019 0.010 0.041 ]\n",
        "153 - Predicted: 0 Actual: 0 [ 0.561 0.378 0.008 0.001 0.012 0.005 0.035 ]\n",
        "154 - Predicted: 1 Actual: 1 [ 0.279 0.688 0.002 0.000 0.004 0.002 0.025 ]\n",
        "155 - Predicted: 1 Actual: 1 [ 0.431 0.509 0.015 0.000 0.010 0.008 0.027 ]\n",
        "156 - Predicted: 1 Actual: 1 [ 0.362 0.527 0.035 0.003 0.018 0.025 0.029 ]\n",
        "157 - Predicted: 1 Actual: 1 [ 0.195 0.779 0.002 0.000 0.005 0.002 0.017 ]\n",
        "158 - Predicted: 1 Actual: 1 [ 0.281 0.685 0.004 0.000 0.006 0.002 0.022 ]\n",
        "159 - Predicted: 2 Actual: 2 [ 0.067 0.192 0.557 0.023 0.012 0.148 0.002 ]\n",
        "160"
       ]
      },
      {
       "output_type": "stream",
       "stream": "stdout",
       "text": [
        " - Predicted: 0 Actual: 0 [ 0.580 0.326 0.005 0.000 0.009 0.003 0.076 ]\n",
        "161 - Predicted: 0 Actual: 0 [ 0.568 0.388 0.007 0.000 0.005 0.010 0.021 ]\n",
        "162 - Predicted: 2 Actual: 2 [ 0.106 0.259 0.363 0.043 0.026 0.194 0.010 ]\n",
        "163 - Predicted: 1 Actual: 1 [ 0.178 0.575 0.131 0.006 0.037 0.050 0.024 ]\n",
        "164 - Predicted: 1 Actual: 1 [ 0.469 0.473 0.006 0.000 0.013 0.005 0.034 ]\n",
        "165 - Predicted: 1 Actual: 0 [ 0.425 0.470 0.039 0.001 0.026 0.016 0.023 ]\n",
        "166 - Predicted: 0 Actual: 0 [ 0.464 0.453 0.018 0.000 0.020 0.007 0.037 ]\n",
        "167 - Predicted: 1 Actual: 1 [ 0.321 0.468 0.105 0.010 0.029 0.055 0.011 ]\n",
        "168 - Predicted: 1 Actual: 1 [ 0.376 0.502 0.051 0.002 0.022 0.014 0.033 ]\n",
        "169 - Predicted: 1 Actual: 1 [ 0.301 0.552 0.047 0.002 0.045 0.028 0.026 ]\n",
        "170"
       ]
      },
      {
       "output_type": "stream",
       "stream": "stdout",
       "text": [
        " - Predicted: 1 Actual: 0 [ 0.388 0.537 0.017 0.000 0.013 0.009 0.036 ]\n",
        "171 - Predicted: 0 Actual: 0 [ 0.510 0.422 0.008 0.000 0.010 0.005 0.044 ]\n",
        "172 - Predicted: 1 Actual: 1 [ 0.450 0.458 0.022 0.002 0.028 0.021 0.019 ]\n",
        "173 - Predicted: 1 Actual: 1 [ 0.209 0.715 0.015 0.001 0.038 0.010 0.012 ]\n",
        "174 - Predicted: 1 Actual: 0 [ 0.250 0.638 0.038 0.007 0.035 0.027 0.006 ]\n",
        "175 - Predicted: 1 Actual: 2 [ 0.173 0.679 0.077 0.002 0.014 0.042 0.012 ]\n",
        "176 - Predicted: 1 Actual: 1 [ 0.394 0.525 0.029 0.002 0.006 0.012 0.032 ]\n",
        "177 - Predicted: 1 Actual: 1 [ 0.386 0.487 0.025 0.000 0.028 0.019 0.056 ]\n",
        "178 - Predicted: 1 Actual: 1 [ 0.314 0.537 0.030 0.001 0.046 0.021 0.052 ]\n",
        "179 - Predicted: 0 Actual: 0 [ 0.491 0.367 0.014 0.000 0.017 0.008 0.104 ]\n",
        "180"
       ]
      },
      {
       "output_type": "stream",
       "stream": "stdout",
       "text": [
        " - Predicted: 1 Actual: 1 [ 0.299 0.630 0.004 0.000 0.016 0.005 0.047 ]\n",
        "181 - Predicted: 1 Actual: 1 [ 0.405 0.529 0.004 0.000 0.011 0.002 0.050 ]\n",
        "182 - Predicted: 1 Actual: 1 [ 0.349 0.476 0.073 0.005 0.035 0.034 0.027 ]\n",
        "183 - Predicted: 1 Actual: 0 [ 0.364 0.612 0.003 0.000 0.006 0.001 0.013 ]\n",
        "184 - Predicted: 1 Actual: 2 [ 0.137 0.290 0.285 0.042 0.039 0.195 0.013 ]\n",
        "185 - Predicted: 1 Actual: 1 [ 0.458 0.488 0.014 0.002 0.010 0.012 0.017 ]\n",
        "186 - Predicted: 1 Actual: 1 [ 0.174 0.381 0.195 0.016 0.026 0.204 0.004 ]\n",
        "187 - Predicted: 0 Actual: 0 [ 0.548 0.382 0.015 0.000 0.009 0.011 0.035 ]\n",
        "188 - Predicted: 0 Actual: 0 [ 0.481 0.397 0.033 0.002 0.027 0.011 0.049 ]\n",
        "189 - Predicted: 1 Actual: 0 [ 0.365 0.555 0.028 0.002 0.017 0.010 0.023 ]\n",
        "190"
       ]
      },
      {
       "output_type": "stream",
       "stream": "stdout",
       "text": [
        " - Predicted: 1 Actual: 1 [ 0.273 0.460 0.111 0.009 0.041 0.087 0.018 ]\n",
        "191 - Predicted: 2 Actual: 2 [ 0.094 0.214 0.395 0.049 0.024 0.211 0.012 ]\n",
        "192 - Predicted: 1 Actual: 1 [ 0.263 0.613 0.064 0.000 0.020 0.019 0.020 ]\n",
        "193 - Predicted: 0 Actual: 0 [ 0.542 0.420 0.002 0.000 0.006 0.002 0.027 ]\n",
        "194 - Predicted: 0 Actual: 0 [ 0.502 0.433 0.012 0.001 0.006 0.005 0.041 ]\n",
        "195 - Predicted: 1 Actual: 1 [ 0.286 0.661 0.014 0.002 0.012 0.007 0.018 ]\n",
        "196 - Predicted: 1 Actual: 0 [ 0.332 0.573 0.032 0.007 0.022 0.013 0.021 ]\n",
        "197 - Predicted: 0 Actual: 0 [ 0.613 0.362 0.002 0.000 0.006 0.001 0.015 ]\n",
        "198 - Predicted: 1 Actual: 1 [ 0.266 0.565 0.070 0.004 0.027 0.039 0.030 ]\n",
        "199 - Predicted: 1 Actual: 1 [ 0.264 0.611 0.056 0.002 0.024 0.024 0.019 ]\n",
        "200"
       ]
      },
      {
       "output_type": "stream",
       "stream": "stdout",
       "text": [
        " - Predicted: 0 Actual: 0 [ 0.700 0.255 0.011 0.001 0.010 0.005 0.019 ]\n",
        "201 - Predicted: 1 Actual: 1 [ 0.406 0.523 0.005 0.000 0.010 0.003 0.053 ]\n",
        "202 - Predicted: 1 Actual: 2 [ 0.127 0.363 0.256 0.043 0.038 0.167 0.005 ]\n",
        "203 - Predicted: 1 Actual: 1 [ 0.388 0.558 0.005 0.000 0.009 0.003 0.037 ]\n",
        "204 - Predicted: 1 Actual: 0 [ 0.301 0.667 0.007 0.000 0.006 0.002 0.017 ]\n",
        "205 - Predicted: 1 Actual: 1 [ 0.342 0.619 0.004 0.000 0.005 0.002 0.029 ]\n",
        "206 - Predicted: 1 Actual: 1 [ 0.333 0.522 0.036 0.002 0.039 0.020 0.048 ]\n",
        "207 - Predicted: 1 Actual: 1 [ 0.301 0.601 0.036 0.001 0.019 0.007 0.035 ]\n",
        "208 - Predicted: 0 Actual: 0 [ 0.468 0.406 0.044 0.007 0.034 0.021 0.021 ]\n",
        "209 - Predicted: 0 Actual: 0 [ 0.572 0.396 0.004 0.000 0.006 0.002 0.019 ]\n",
        "210"
       ]
      },
      {
       "output_type": "stream",
       "stream": "stdout",
       "text": [
        " - Predicted: 1 Actual: 2 [ 0.134 0.400 0.274 0.022 0.033 0.123 0.013 ]\n",
        "211 - Predicted: 0 Actual: 0 [ 0.524 0.382 0.025 0.003 0.015 0.021 0.030 ]\n",
        "212 - Predicted: 1 Actual: 1 [ 0.199 0.544 0.109 0.007 0.063 0.061 0.017 ]\n",
        "213 - Predicted: 1 Actual: 1 [ 0.380 0.555 0.012 0.000 0.006 0.006 0.040 ]\n",
        "214 - Predicted: 1 Actual: 1 [ 0.229 0.650 0.040 0.004 0.023 0.028 0.027 ]\n",
        "215 - Predicted: 0 Actual: 0 [ 0.456 0.450 0.020 0.000 0.014 0.021 0.039 ]\n",
        "216 - Predicted: 1 Actual: 1 [ 0.288 0.608 0.028 0.003 0.024 0.016 0.033 ]\n",
        "217 - Predicted: 1 Actual: 1 [ 0.208 0.662 0.056 0.000 0.020 0.028 0.026 ]\n",
        "218 - Predicted: 0 Actual: 0 [ 0.523 0.399 0.007 0.000 0.004 0.007 0.059 ]\n",
        "219 - Predicted: 0 Actual: 0 [ 0.539 0.286 0.032 0.001 0.017 0.013 0.110 ]\n",
        "220"
       ]
      },
      {
       "output_type": "stream",
       "stream": "stdout",
       "text": [
        " - Predicted: 0 Actual: 0 [ 0.514 0.365 0.017 0.000 0.013 0.024 0.067 ]\n",
        "221 - Predicted: 0 Actual: 0 [ 0.494 0.433 0.013 0.000 0.018 0.019 0.023 ]\n",
        "222 - Predicted: 0 Actual: 1 [ 0.477 0.401 0.024 0.003 0.022 0.015 0.057 ]\n",
        "223 - Predicted: 0 Actual: 0 [ 0.644 0.294 0.007 0.000 0.017 0.003 0.037 ]\n",
        "224 - Predicted: 1 Actual: 0 [ 0.350 0.537 0.037 0.002 0.031 0.023 0.020 ]\n",
        "225 - Predicted: 1 Actual: 2 [ 0.136 0.379 0.288 0.016 0.049 0.116 0.017 ]\n",
        "226 - Predicted: 0 Actual: 1 [ 0.511 0.464 0.004 0.000 0.006 0.002 0.013 ]\n",
        "227 - Predicted: 1 Actual: 1 [ 0.079 0.402 0.309 0.026 0.037 0.139 0.009 ]\n",
        "228 - Predicted: 0 Actual: 1 [ 0.516 0.391 0.021 0.000 0.018 0.011 0.042 ]\n",
        "229 - Predicted: 1 Actual: 1 [ 0.433 0.545 0.004 0.000 0.005 0.002 0.011 ]\n",
        "230"
       ]
      },
      {
       "output_type": "stream",
       "stream": "stdout",
       "text": [
        " - Predicted: 0 Actual: 0 [ 0.451 0.273 0.095 0.009 0.024 0.050 0.099 ]\n",
        "231 - Predicted: 1 Actual: 2 [ 0.254 0.550 0.080 0.000 0.041 0.041 0.035 ]\n",
        "232 - Predicted: 1 Actual: 1 [ 0.221 0.747 0.007 0.000 0.006 0.003 0.017 ]\n",
        "233 - Predicted: 1 Actual: 1 [ 0.327 0.579 0.027 0.001 0.013 0.011 0.042 ]\n",
        "234 - Predicted: 1 Actual: 1 [ 0.212 0.697 0.026 0.003 0.021 0.018 0.023 ]\n",
        "235 - Predicted: 0 Actual: 0 [ 0.519 0.306 0.047 0.003 0.015 0.022 0.088 ]\n",
        "236 - Predicted: 0 Actual: 0 [ 0.536 0.306 0.039 0.001 0.020 0.014 0.084 ]\n",
        "237 - Predicted: 0 Actual: 1 [ 0.516 0.377 0.007 0.000 0.009 0.003 0.088 ]\n",
        "238 - Predicted: 1 Actual: 1 [ 0.207 0.707 0.025 0.003 0.018 0.018 0.021 ]\n",
        "239 - Predicted: 0 Actual: 0 [ 0.497 0.445 0.008 0.000 0.017 0.004 0.029 ]\n",
        "240"
       ]
      },
      {
       "output_type": "stream",
       "stream": "stdout",
       "text": [
        " - Predicted: 1 Actual: 1 [ 0.399 0.468 0.028 0.001 0.029 0.013 0.062 ]\n",
        "241 - Predicted: 2 Actual: 2 [ 0.131 0.207 0.425 0.040 0.031 0.143 0.023 ]\n",
        "242 - Predicted: 1 Actual: 0 [ 0.425 0.438 0.035 0.001 0.030 0.023 0.047 ]\n",
        "243 - Predicted: 1 Actual: 1 [ 0.188 0.751 0.005 0.000 0.005 0.004 0.047 ]\n",
        "244 - Predicted: 0 Actual: 0 [ 0.536 0.375 0.006 0.000 0.006 0.005 0.072 ]\n",
        "245 - Predicted: 1 Actual: 0 [ 0.389 0.448 0.070 0.008 0.030 0.044 0.011 ]\n",
        "246 - Predicted: 1 Actual: 1 [ 0.268 0.460 0.113 0.006 0.059 0.059 0.035 ]\n",
        "247 - Predicted: 1 Actual: 1 [ 0.152 0.499 0.156 0.011 0.051 0.112 0.019 ]\n",
        "248 - Predicted: 1 Actual: 1 [ 0.220 0.533 0.111 0.007 0.063 0.037 0.029 ]\n",
        "249 - Predicted: 1 Actual: 0 [ 0.374 0.515 0.026 0.001 0.050 0.014 0.020 ]\n",
        "250"
       ]
      },
      {
       "output_type": "stream",
       "stream": "stdout",
       "text": [
        " - Predicted: 1 Actual: 2 [ 0.185 0.459 0.196 0.010 0.044 0.082 0.024 ]\n",
        "251 - Predicted: 1 Actual: 1 [ 0.269 0.459 0.110 0.010 0.061 0.070 0.019 ]\n",
        "252 - Predicted: 0 Actual: 1 [ 0.464 0.380 0.048 0.001 0.033 0.011 0.063 ]\n",
        "253 - Predicted: 1 Actual: 1 [ 0.210 0.543 0.104 0.005 0.067 0.052 0.018 ]\n",
        "254 - Predicted: 0 Actual: 0 [ 0.404 0.401 0.049 0.004 0.023 0.022 0.098 ]\n",
        "255 - Predicted: 1 Actual: 1 [ 0.386 0.584 0.004 0.000 0.008 0.001 0.017 ]\n",
        "256 - Predicted: 0 Actual: 0 [ 0.524 0.390 0.008 0.000 0.008 0.003 0.067 ]\n",
        "257 - Predicted: 1 Actual: 1 [ 0.196 0.448 0.161 0.029 0.091 0.068 0.007 ]\n",
        "258 - Predicted: 0 Actual: 0 [ 0.548 0.380 0.020 0.000 0.014 0.006 0.032 ]\n",
        "259 - Predicted: 0 Actual: 0 [ 0.531 0.418 0.007 0.000 0.011 0.004 0.029 ]\n",
        "260"
       ]
      },
      {
       "output_type": "stream",
       "stream": "stdout",
       "text": [
        " - Predicted: 0 Actual: 0 [ 0.516 0.318 0.023 0.001 0.012 0.011 0.119 ]\n",
        "261 - Predicted: 1 Actual: 1 [ 0.414 0.420 0.050 0.006 0.018 0.026 0.066 ]\n",
        "262 - Predicted: 1 Actual: 1 [ 0.405 0.512 0.013 0.000 0.009 0.003 0.057 ]\n",
        "263 - Predicted: 0 Actual: 0 [ 0.595 0.373 0.004 0.000 0.006 0.003 0.019 ]\n",
        "264 - Predicted: 2 Actual: 2 [ 0.079 0.258 0.439 0.029 0.040 0.150 0.004 ]\n",
        "265 - Predicted: 1 Actual: 1 [ 0.237 0.685 0.013 0.001 0.010 0.007 0.047 ]\n",
        "266 - Predicted: 1 Actual: 1 [ 0.369 0.465 0.054 0.010 0.038 0.043 0.021 ]\n",
        "267 - Predicted: 0 Actual: 0 [ 0.582 0.255 0.028 0.000 0.015 0.014 0.106 ]\n",
        "268 - Predicted: 1 Actual: 0 [ 0.280 0.376 0.166 0.012 0.078 0.065 0.023 ]\n",
        "269 - Predicted: 0 Actual: 1 [ 0.480 0.415 0.022 0.000 0.017 0.012 0.054 ]\n",
        "270"
       ]
      },
      {
       "output_type": "stream",
       "stream": "stdout",
       "text": [
        " - Predicted: 1 Actual: 1 [ 0.229 0.679 0.029 0.003 0.013 0.022 0.024 ]\n",
        "271 - Predicted: 1 Actual: 1 [ 0.278 0.673 0.005 0.000 0.007 0.004 0.032 ]\n",
        "272 - Predicted: 1 Actual: 0 [ 0.390 0.508 0.033 0.001 0.011 0.026 0.030 ]\n",
        "273 - Predicted: 1 Actual: 0 [ 0.261 0.594 0.040 0.006 0.043 0.038 0.018 ]\n",
        "274 - Predicted: 1 Actual: 1 [ 0.226 0.738 0.006 0.000 0.010 0.004 0.016 ]\n",
        "275 - Predicted: 1 Actual: 1 [ 0.262 0.456 0.114 0.009 0.084 0.064 0.012 ]\n",
        "276 - Predicted: 1 Actual: 2 [ 0.143 0.338 0.257 0.050 0.038 0.162 0.012 ]\n",
        "277 - Predicted: 1 Actual: 1 [ 0.211 0.690 0.024 0.007 0.017 0.016 0.035 ]\n",
        "278 - Predicted: 0 Actual: 0 [ 0.553 0.292 0.011 0.000 0.007 0.005 0.131 ]\n",
        "279 - Predicted: 0 Actual: 0 [ 0.506 0.423 0.006 0.000 0.006 0.003 0.056 ]\n",
        "280"
       ]
      },
      {
       "output_type": "stream",
       "stream": "stdout",
       "text": [
        " - Predicted: 1 Actual: 1 [ 0.260 0.696 0.007 0.000 0.005 0.003 0.029 ]\n",
        "281 - Predicted: 1 Actual: 0 [ 0.367 0.460 0.047 0.002 0.045 0.022 0.057 ]\n",
        "282 - Predicted: 1 Actual: 1 [ 0.300 0.526 0.061 0.003 0.039 0.044 0.026 ]\n",
        "283 - Predicted: 0 Actual: 0 [ 0.501 0.413 0.024 0.001 0.019 0.017 0.026 ]\n",
        "284 - Predicted: 1 Actual: 1 [ 0.368 0.563 0.007 0.000 0.023 0.005 0.034 ]\n",
        "285 - Predicted: 1 Actual: 1 [ 0.125 0.422 0.259 0.020 0.067 0.093 0.015 ]\n",
        "286 - Predicted: 0 Actual: 0 [ 0.533 0.353 0.046 0.002 0.017 0.027 0.022 ]\n",
        "287 - Predicted: 1 Actual: 1 [ 0.328 0.480 0.063 0.007 0.044 0.026 0.052 ]\n",
        "288 - Predicted: 2 Actual: 2 [ 0.105 0.238 0.439 0.033 0.025 0.138 0.021 ]\n",
        "289 - Predicted: 0 Actual: 0 [ 0.541 0.420 0.006 0.000 0.009 0.001 0.024 ]\n",
        "290"
       ]
      },
      {
       "output_type": "stream",
       "stream": "stdout",
       "text": [
        " - Predicted: 0 Actual: 1 [ 0.458 0.357 0.048 0.001 0.045 0.019 0.071 ]\n",
        "291 - Predicted: 0 Actual: 0 [ 0.594 0.282 0.029 0.001 0.010 0.011 0.074 ]\n",
        "292 - Predicted: 0 Actual: 0 [ 0.539 0.358 0.009 0.000 0.010 0.006 0.078 ]\n",
        "293 - Predicted: 0 Actual: 0 [ 0.578 0.306 0.013 0.002 0.007 0.013 0.081 ]\n",
        "294 - Predicted: 1 Actual: 1 [ 0.330 0.501 0.053 0.001 0.043 0.032 0.040 ]\n",
        "295 - Predicted: 1 Actual: 1 [ 0.326 0.579 0.021 0.002 0.021 0.021 0.030 ]\n",
        "296 - Predicted: 1 Actual: 1 [ 0.323 0.472 0.071 0.008 0.040 0.055 0.032 ]\n",
        "297 - Predicted: 1 Actual: 2 [ 0.206 0.361 0.238 0.012 0.044 0.091 0.049 ]\n",
        "298 - Predicted: 1 Actual: 1 [ 0.402 0.506 0.029 0.000 0.016 0.014 0.033 ]\n",
        "299 - Predicted: 1 Actual: 0 [ 0.407 0.458 0.050 0.001 0.022 0.023 0.039 ]\n",
        "300"
       ]
      },
      {
       "output_type": "stream",
       "stream": "stdout",
       "text": [
        " - Predicted: 2 Actual: 2 [ 0.099 0.282 0.350 0.046 0.062 0.155 0.005 ]\n",
        "301 - Predicted: 1 Actual: 0 [ 0.455 0.457 0.019 0.000 0.013 0.024 0.032 ]\n",
        "302 - Predicted: 0 Actual: 0 [ 0.551 0.325 0.018 0.000 0.011 0.010 0.085 ]\n",
        "303 - Predicted: 1 Actual: 1 [ 0.291 0.574 0.040 0.002 0.047 0.026 0.020 ]\n",
        "304 - Predicted: 1 Actual: 1 [ 0.129 0.520 0.198 0.010 0.036 0.089 0.018 ]\n",
        "305 - Predicted: 1 Actual: 1 [ 0.304 0.463 0.091 0.009 0.042 0.040 0.051 ]\n",
        "306 - Predicted: 0 Actual: 0 [ 0.566 0.308 0.003 0.000 0.010 0.002 0.112 ]\n",
        "307 - Predicted: 1 Actual: 1 [ 0.318 0.523 0.069 0.000 0.033 0.024 0.032 ]\n",
        "308 - Predicted: 0 Actual: 1 [ 0.528 0.413 0.004 0.000 0.007 0.001 0.047 ]\n",
        "309 - Predicted: 0 Actual: 0 [ 0.521 0.408 0.005 0.000 0.007 0.002 0.056 ]\n",
        "310"
       ]
      },
      {
       "output_type": "stream",
       "stream": "stdout",
       "text": [
        " - Predicted: 0 Actual: 0 [ 0.513 0.386 0.020 0.002 0.023 0.018 0.037 ]\n",
        "311 - Predicted: 1 Actual: 1 [ 0.258 0.615 0.039 0.004 0.042 0.021 0.022 ]\n",
        "312 - Predicted: 0 Actual: 0 [ 0.538 0.276 0.016 0.000 0.014 0.009 0.147 ]\n",
        "313 - Predicted: 1 Actual: 1 [ 0.374 0.523 0.028 0.006 0.019 0.018 0.033 ]\n",
        "314 - Predicted: 1 Actual: 2 [ 0.186 0.449 0.210 0.011 0.047 0.082 0.015 ]\n",
        "315 - Predicted: 1 Actual: 0 [ 0.369 0.471 0.047 0.002 0.037 0.016 0.058 ]\n",
        "316 - Predicted: 0 Actual: 1 [ 0.448 0.436 0.015 0.001 0.020 0.005 0.075 ]\n",
        "317 - Predicted: 1 Actual: 1 [ 0.405 0.506 0.022 0.004 0.019 0.014 0.031 ]\n",
        "318 - Predicted: 1 Actual: 1 [ 0.314 0.553 0.038 0.005 0.038 0.038 0.015 ]\n",
        "319 - Predicted: 1 Actual: 0 [ 0.281 0.602 0.039 0.001 0.023 0.014 0.040 ]\n",
        "320"
       ]
      },
      {
       "output_type": "stream",
       "stream": "stdout",
       "text": [
        " - Predicted: 1 Actual: 1 [ 0.348 0.498 0.041 0.005 0.043 0.030 0.035 ]\n",
        "321 - Predicted: 1 Actual: 0 [ 0.407 0.522 0.010 0.000 0.025 0.005 0.031 ]\n",
        "322 - Predicted: 1 Actual: 1 [ 0.387 0.500 0.011 0.001 0.025 0.005 0.072 ]\n",
        "323 - Predicted: 0 Actual: 0 [ 0.548 0.351 0.022 0.001 0.014 0.018 0.047 ]\n",
        "324 - Predicted: 1 Actual: 1 [ 0.317 0.557 0.045 0.000 0.029 0.015 0.037 ]\n",
        "325 - Predicted: 0 Actual: 1 [ 0.479 0.358 0.029 0.000 0.023 0.032 0.079 ]\n",
        "326 - Predicted: 2 Actual: 2 [ 0.090 0.223 0.444 0.040 0.017 0.177 0.008 ]\n",
        "327 - Predicted: 1 Actual: 1 [ 0.161 0.578 0.105 0.008 0.054 0.064 0.030 ]\n",
        "328 - Predicted: 1 Actual: 0 [ 0.284 0.565 0.051 0.001 0.023 0.032 0.044 ]\n",
        "329 - Predicted: 0 Actual: 0 [ 0.541 0.361 0.025 0.001 0.015 0.018 0.039 ]\n",
        "330"
       ]
      },
      {
       "output_type": "stream",
       "stream": "stdout",
       "text": [
        " - Predicted: 2 Actual: 2 [ 0.133 0.236 0.383 0.040 0.035 0.151 0.022 ]\n",
        "331 - Predicted: 1 Actual: 1 [ 0.360 0.461 0.062 0.006 0.045 0.054 0.012 ]\n",
        "332 - Predicted: 1 Actual: 1 [ 0.406 0.529 0.006 0.000 0.013 0.004 0.042 ]\n",
        "333 - Predicted: 1 Actual: 0 [ 0.420 0.460 0.039 0.001 0.025 0.026 0.029 ]\n",
        "334 - Predicted: 0 Actual: 0 [ 0.458 0.380 0.054 0.002 0.022 0.028 0.056 ]\n",
        "335 - Predicted: 1 Actual: 1 [ 0.257 0.516 0.101 0.005 0.052 0.039 0.031 ]\n",
        "336 - Predicted: 0 Actual: 0 [ 0.532 0.384 0.009 0.000 0.013 0.005 0.057 ]\n",
        "337 - Predicted: 1 Actual: 1 [ 0.186 0.786 0.004 0.000 0.004 0.003 0.015 ]\n",
        "338 - Predicted: 1 Actual: 1 [ 0.133 0.313 0.300 0.037 0.046 0.158 0.013 ]\n",
        "339 - Predicted: 1 Actual: 0 [ 0.348 0.544 0.019 0.000 0.014 0.010 0.065 ]\n",
        "340"
       ]
      },
      {
       "output_type": "stream",
       "stream": "stdout",
       "text": [
        " - Predicted: 1 Actual: 1 [ 0.442 0.481 0.014 0.000 0.018 0.008 0.037 ]\n",
        "341 - Predicted: 1 Actual: 1 [ 0.278 0.620 0.024 0.001 0.019 0.014 0.043 ]\n",
        "342 - Predicted: 0 Actual: 0 [ 0.565 0.254 0.051 0.008 0.013 0.027 0.082 ]\n",
        "343 - Predicted: 0 Actual: 0 [ 0.535 0.344 0.024 0.002 0.020 0.018 0.059 ]\n",
        "344 - Predicted: 0 Actual: 0 [ 0.472 0.425 0.026 0.001 0.019 0.014 0.043 ]\n",
        "345 - Predicted: 0 Actual: 1 [ 0.504 0.387 0.031 0.002 0.021 0.014 0.041 ]\n",
        "346 - Predicted: 0 Actual: 0 [ 0.426 0.413 0.024 0.000 0.019 0.006 0.111 ]\n",
        "347 - Predicted: 1 Actual: 1 [ 0.203 0.496 0.126 0.014 0.039 0.112 0.010 ]\n",
        "348 - Predicted: 1 Actual: 1 [ 0.298 0.484 0.054 0.006 0.043 0.078 0.038 ]\n",
        "349 - Predicted: 1 Actual: 2 [ 0.193 0.447 0.173 0.017 0.056 0.095 0.019 ]\n",
        "350"
       ]
      },
      {
       "output_type": "stream",
       "stream": "stdout",
       "text": [
        " - Predicted: 1 Actual: 1 [ 0.296 0.588 0.028 0.001 0.030 0.029 0.029 ]\n",
        "351 - Predicted: 1 Actual: 1 [ 0.282 0.685 0.001 0.000 0.003 0.001 0.027 ]\n",
        "352 - Predicted: 0 Actual: 0 [ 0.605 0.342 0.009 0.000 0.011 0.005 0.029 ]\n",
        "353 - Predicted: 1 Actual: 1 [ 0.387 0.539 0.008 0.000 0.007 0.005 0.054 ]\n",
        "354 - Predicted: 1 Actual: 1 [ 0.283 0.590 0.041 0.002 0.039 0.035 0.011 ]\n",
        "355 - Predicted: 1 Actual: 1 [ 0.268 0.606 0.037 0.005 0.044 0.025 0.015 ]\n",
        "356 - Predicted: 0 Actual: 0 [ 0.486 0.465 0.011 0.001 0.007 0.007 0.023 ]\n",
        "357 - Predicted: 1 Actual: 0 [ 0.432 0.445 0.036 0.000 0.023 0.022 0.042 ]\n",
        "358 - Predicted: 2 Actual: 2 [ 0.096 0.239 0.342 0.047 0.013 0.257 0.006 ]\n",
        "359 - Predicted: 0 Actual: 0 [ 0.487 0.267 0.084 0.002 0.021 0.044 0.095 ]\n",
        "360"
       ]
      },
      {
       "output_type": "stream",
       "stream": "stdout",
       "text": [
        " - Predicted: 1 Actual: 1 [ 0.456 0.485 0.017 0.002 0.013 0.008 0.020 ]\n",
        "361 - Predicted: 1 Actual: 1 [ 0.249 0.723 0.002 0.000 0.001 0.001 0.023 ]\n",
        "362 - Predicted: 1 Actual: 1 [ 0.343 0.536 0.034 0.002 0.034 0.038 0.013 ]\n",
        "363 - Predicted: 1 Actual: 1 [ 0.294 0.604 0.028 0.003 0.040 0.020 0.012 ]\n",
        "364 - Predicted: 0 Actual: 0 [ 0.554 0.406 0.004 0.000 0.003 0.002 0.032 ]\n",
        "365 - Predicted: 1 Actual: 1 [ 0.380 0.434 0.056 0.004 0.049 0.022 0.054 ]\n",
        "366 - Predicted: 1 Actual: 0 [ 0.371 0.540 0.022 0.001 0.028 0.016 0.022 ]\n",
        "367 - Predicted: 2 Actual: 2 [ 0.088 0.172 0.506 0.037 0.021 0.169 0.007 ]\n",
        "368 - Predicted: 0 Actual: 0 [ 0.580 0.348 0.010 0.000 0.009 0.003 0.051 ]\n",
        "369 - Predicted: 0 Actual: 0 [ 0.487 0.347 0.038 0.002 0.021 0.023 0.082 ]\n",
        "370"
       ]
      },
      {
       "output_type": "stream",
       "stream": "stdout",
       "text": [
        " - Predicted: 1 Actual: 1 [ 0.357 0.576 0.004 0.000 0.007 0.003 0.053 ]\n",
        "371 - Predicted: 0 Actual: 0 [ 0.541 0.275 0.053 0.003 0.017 0.031 0.078 ]\n",
        "372 - Predicted: 1 Actual: 1 [ 0.279 0.459 0.091 0.019 0.049 0.052 0.050 ]\n",
        "373 - Predicted: 0 Actual: 0 [ 0.384 0.371 0.085 0.011 0.030 0.040 0.079 ]\n",
        "374 - Predicted: 2 Actual: 2 [ 0.130 0.238 0.360 0.036 0.025 0.205 0.006 ]\n",
        "375 - Predicted: 0 Actual: 1 [ 0.519 0.363 0.016 0.000 0.010 0.002 0.090 ]\n",
        "376 - Predicted: 1 Actual: 0 [ 0.352 0.508 0.046 0.001 0.038 0.021 0.034 ]\n",
        "377 - Predicted: 1 Actual: 0 [ 0.194 0.776 0.004 0.000 0.007 0.002 0.017 ]\n",
        "378 - Predicted: 1 Actual: 1 [ 0.350 0.506 0.026 0.002 0.026 0.011 0.080 ]\n",
        "379 - Predicted: 1 Actual: 1 [ 0.189 0.491 0.173 0.007 0.048 0.074 0.019 ]\n",
        "380"
       ]
      },
      {
       "output_type": "stream",
       "stream": "stdout",
       "text": [
        " - Predicted: 1 Actual: 1 [ 0.155 0.489 0.197 0.016 0.038 0.099 0.006 ]\n",
        "381 - Predicted: 1 Actual: 1 [ 0.352 0.551 0.033 0.002 0.022 0.021 0.018 ]\n",
        "382 - Predicted: 0 Actual: 0 [ 0.560 0.289 0.017 0.001 0.016 0.023 0.093 ]\n",
        "383 - Predicted: 0 Actual: 1 [ 0.500 0.373 0.031 0.004 0.028 0.026 0.037 ]\n",
        "384 - Predicted: 1 Actual: 1 [ 0.131 0.384 0.236 0.027 0.026 0.190 0.006 ]\n",
        "385 - Predicted: 0 Actual: 0 [ 0.518 0.308 0.021 0.001 0.018 0.014 0.121 ]\n",
        "386 - Predicted: 0 Actual: 0 [ 0.487 0.377 0.016 0.000 0.008 0.014 0.098 ]\n",
        "387 - Predicted: 0 Actual: 0 [ 0.589 0.340 0.016 0.000 0.007 0.014 0.033 ]\n",
        "388 - Predicted: 2 Actual: 2 [ 0.059 0.142 0.518 0.065 0.013 0.201 0.003 ]\n",
        "389 - Predicted: 1 Actual: 1 [ 0.176 0.787 0.004 0.000 0.011 0.002 0.019 ]\n",
        "390"
       ]
      },
      {
       "output_type": "stream",
       "stream": "stdout",
       "text": [
        " - Predicted: 0 Actual: 0 [ 0.738 0.242 0.002 0.000 0.002 0.002 0.014 ]\n",
        "391 - Predicted: 1 Actual: 2 [ 0.198 0.457 0.174 0.016 0.062 0.062 0.032 ]\n",
        "392 - Predicted: 1 Actual: 1 [ 0.261 0.673 0.005 0.000 0.006 0.003 0.052 ]\n",
        "393 - Predicted: 1 Actual: 1 [ 0.417 0.492 0.007 0.000 0.024 0.003 0.056 ]\n",
        "394 - Predicted: 1 Actual: 0 [ 0.401 0.443 0.055 0.011 0.028 0.041 0.022 ]\n",
        "395 - Predicted: 1 Actual: 0 [ 0.312 0.535 0.040 0.002 0.048 0.043 0.020 ]\n",
        "396 - Predicted: 0 Actual: 1 [ 0.553 0.345 0.016 0.001 0.014 0.010 0.060 ]\n",
        "397 - Predicted: 1 Actual: 1 [ 0.358 0.496 0.055 0.003 0.034 0.031 0.023 ]\n",
        "398 - Predicted: 1 Actual: 1 [ 0.290 0.671 0.007 0.000 0.010 0.007 0.015 ]\n",
        "399 - Predicted: 0 Actual: 0 [ 0.519 0.345 0.033 0.001 0.021 0.018 0.062 ]\n",
        "400"
       ]
      },
      {
       "output_type": "stream",
       "stream": "stdout",
       "text": [
        " - Predicted: 0 Actual: 0 [ 0.540 0.300 0.023 0.001 0.015 0.010 0.112 ]\n",
        "401 - Predicted: 0 Actual: 0 [ 0.587 0.330 0.002 0.000 0.008 0.001 0.071 ]\n",
        "402 - Predicted: 2 Actual: 2 [ 0.093 0.215 0.426 0.041 0.021 0.198 0.006 ]\n",
        "403 - Predicted: 0 Actual: 0 [ 0.452 0.412 0.014 0.000 0.022 0.007 0.094 ]\n",
        "404 - Predicted: 1 Actual: 1 [ 0.162 0.511 0.146 0.014 0.039 0.108 0.020 ]\n",
        "405 - Predicted: 0 Actual: 0 [ 0.494 0.442 0.015 0.000 0.017 0.011 0.019 ]\n",
        "406 - Predicted: 1 Actual: 1 [ 0.149 0.448 0.165 0.022 0.063 0.137 0.016 ]\n",
        "407 - Predicted: 0 Actual: 1 [ 0.436 0.412 0.064 0.003 0.024 0.023 0.038 ]\n",
        "408 - Predicted: 1 Actual: 1 [ 0.141 0.357 0.286 0.028 0.037 0.143 0.007 ]\n",
        "409 - Predicted: 0 Actual: 1 [ 0.476 0.452 0.003 0.000 0.009 0.001 0.059 ]\n",
        "410"
       ]
      },
      {
       "output_type": "stream",
       "stream": "stdout",
       "text": [
        " - Predicted: 1 Actual: 1 [ 0.424 0.490 0.025 0.001 0.017 0.014 0.028 ]\n",
        "411 - Predicted: 0 Actual: 0 [ 0.500 0.342 0.013 0.001 0.016 0.006 0.122 ]\n",
        "412 - Predicted: 0 Actual: 0 [ 0.530 0.348 0.015 0.000 0.007 0.005 0.096 ]\n",
        "413 - Predicted: 1 Actual: 1 [ 0.307 0.497 0.055 0.005 0.059 0.025 0.052 ]\n",
        "414 - Predicted: 1 Actual: 1 [ 0.321 0.522 0.051 0.003 0.041 0.013 0.050 ]\n",
        "415 - Predicted: 0 Actual: 0 [ 0.615 0.313 0.006 0.001 0.016 0.003 0.047 ]\n",
        "416 - Predicted: 1 Actual: 1 [ 0.229 0.548 0.083 0.007 0.062 0.052 0.019 ]\n",
        "417 - Predicted: 1 Actual: 0 [ 0.240 0.391 0.182 0.020 0.042 0.094 0.032 ]\n",
        "418 - Predicted: 2 Actual: 2 [ 0.098 0.222 0.315 0.063 0.033 0.258 0.011 ]\n",
        "419 - Predicted: 1 Actual: 1 [ 0.211 0.525 0.116 0.008 0.058 0.055 0.027 ]\n",
        "420"
       ]
      },
      {
       "output_type": "stream",
       "stream": "stdout",
       "text": [
        " - Predicted: 0 Actual: 1 [ 0.554 0.316 0.004 0.000 0.010 0.003 0.112 ]\n",
        "421 - Predicted: 1 Actual: 0 [ 0.423 0.432 0.034 0.005 0.038 0.024 0.044 ]\n",
        "422 - Predicted: 0 Actual: 0 [ 0.612 0.338 0.010 0.000 0.008 0.006 0.026 ]\n",
        "423 - Predicted: 1 Actual: 0 [ 0.279 0.362 0.145 0.037 0.054 0.112 0.011 ]\n",
        "424 - Predicted: 1 Actual: 1 [ 0.423 0.466 0.035 0.005 0.031 0.019 0.021 ]\n",
        "425 - Predicted: 1 Actual: 1 [ 0.119 0.492 0.208 0.019 0.049 0.107 0.006 ]\n",
        "426 - Predicted: 0 Actual: 0 [ 0.529 0.445 0.003 0.000 0.005 0.001 0.017 ]\n",
        "427 - Predicted: 1 Actual: 1 [ 0.139 0.525 0.150 0.022 0.045 0.106 0.013 ]\n",
        "428 - Predicted: 1 Actual: 1 [ 0.342 0.571 0.004 0.000 0.008 0.002 0.073 ]\n",
        "429 - Predicted: 2 Actual: 2 [ 0.070 0.190 0.486 0.048 0.025 0.170 0.010 ]\n",
        "430"
       ]
      },
      {
       "output_type": "stream",
       "stream": "stdout",
       "text": [
        " - Predicted: 1 Actual: 1 [ 0.210 0.530 0.065 0.011 0.045 0.102 0.036 ]\n",
        "431 - Predicted: 0 Actual: 0 [ 0.596 0.292 0.030 0.002 0.017 0.019 0.044 ]\n",
        "432 - Predicted: 0 Actual: 1 [ 0.529 0.323 0.023 0.000 0.019 0.024 0.082 ]\n",
        "433 - Predicted: 1 Actual: 1 [ 0.196 0.772 0.007 0.000 0.005 0.003 0.017 ]\n",
        "434 - Predicted: 1 Actual: 1 [ 0.199 0.497 0.124 0.011 0.062 0.088 0.019 ]\n",
        "435 - Predicted: 0 Actual: 0 [ 0.518 0.383 0.007 0.000 0.004 0.005 0.083 ]\n",
        "436 - Predicted: 1 Actual: 1 [ 0.313 0.523 0.048 0.002 0.053 0.035 0.025 ]\n",
        "437 - Predicted: 1 Actual: 0 [ 0.433 0.435 0.053 0.002 0.015 0.028 0.035 ]\n",
        "438 - Predicted: 1 Actual: 2 [ 0.125 0.362 0.303 0.029 0.044 0.116 0.021 ]\n",
        "439 - Predicted: 1 Actual: 0 [ 0.426 0.442 0.048 0.003 0.031 0.028 0.022 ]\n",
        "440"
       ]
      },
      {
       "output_type": "stream",
       "stream": "stdout",
       "text": [
        " - Predicted: 1 Actual: 0 [ 0.400 0.465 0.032 0.001 0.026 0.012 0.063 ]\n",
        "441 - Predicted: 0 Actual: 0 [ 0.406 0.328 0.028 0.002 0.025 0.016 0.195 ]\n",
        "442 - Predicted: 1 Actual: 0 [ 0.424 0.461 0.014 0.002 0.049 0.022 0.028 ]\n",
        "443 - Predicted: 1 Actual: 1 [ 0.341 0.567 0.020 0.004 0.023 0.013 0.033 ]\n",
        "444 - Predicted: 1 Actual: 1 [ 0.235 0.515 0.085 0.007 0.095 0.050 0.012 ]\n",
        "445 - Predicted: 2 Actual: 2 [ 0.108 0.226 0.438 0.052 0.029 0.133 0.015 ]\n",
        "446 - Predicted: 1 Actual: 1 [ 0.217 0.730 0.005 0.000 0.005 0.001 0.042 ]\n",
        "447 - Predicted: 1 Actual: 0 [ 0.422 0.488 0.020 0.000 0.023 0.006 0.041 ]\n",
        "448 - Predicted: 1 Actual: 1 [ 0.418 0.515 0.019 0.001 0.009 0.009 0.030 ]\n",
        "449 - Predicted: 1 Actual: 1 [ 0.133 0.552 0.164 0.015 0.032 0.087 0.017 ]\n",
        "450"
       ]
      },
      {
       "output_type": "stream",
       "stream": "stdout",
       "text": [
        " - Predicted: 1 Actual: 1 [ 0.444 0.519 0.007 0.002 0.013 0.005 0.011 ]\n",
        "451 - Predicted: 0 Actual: 0 [ 0.544 0.319 0.022 0.000 0.010 0.015 0.089 ]\n",
        "452 - Predicted: 2 Actual: 2 [ 0.078 0.216 0.453 0.051 0.015 0.178 0.009 ]\n",
        "453 - Predicted: 0 Actual: 0 [ 0.483 0.443 0.022 0.000 0.014 0.010 0.027 ]\n",
        "454 - Predicted: 1 Actual: 1 [ 0.353 0.574 0.004 0.000 0.011 0.003 0.055 ]\n",
        "455 - Predicted: 0 Actual: 0 [ 0.551 0.334 0.030 0.001 0.018 0.013 0.053 ]\n",
        "456 - Predicted: 1 Actual: 1 [ 0.316 0.567 0.037 0.005 0.035 0.016 0.024 ]\n",
        "457 - Predicted: 1 Actual: 0 [ 0.472 0.495 0.004 0.000 0.008 0.002 0.018 ]\n",
        "458 - Predicted: 1 Actual: 1 [ 0.250 0.524 0.083 0.007 0.039 0.058 0.039 ]\n",
        "459 - Predicted: 1 Actual: 1 [ 0.301 0.632 0.001 0.000 0.003 0.001 0.062 ]\n",
        "460"
       ]
      },
      {
       "output_type": "stream",
       "stream": "stdout",
       "text": [
        " - Predicted: 0 Actual: 0 [ 0.537 0.337 0.023 0.001 0.013 0.008 0.081 ]\n",
        "461 - Predicted: 1 Actual: 1 [ 0.201 0.444 0.173 0.018 0.063 0.075 0.027 ]\n",
        "462 - Predicted: 1 Actual: 0 [ 0.448 0.505 0.008 0.000 0.011 0.000 0.028 ]\n",
        "463 - Predicted: 1 Actual: 1 [ 0.299 0.546 0.036 0.001 0.055 0.036 0.026 ]\n",
        "464 - Predicted: 2 Actual: 2 [ 0.092 0.238 0.427 0.043 0.025 0.167 0.008 ]\n",
        "465 - Predicted: 0 Actual: 1 [ 0.477 0.440 0.013 0.002 0.005 0.008 0.055 ]\n",
        "466 - Predicted: 1 Actual: 1 [ 0.173 0.813 0.002 0.000 0.003 0.001 0.007 ]\n",
        "467 - Predicted: 0 Actual: 0 [ 0.456 0.356 0.026 0.001 0.023 0.009 0.129 ]\n",
        "468 - Predicted: 1 Actual: 1 [ 0.158 0.417 0.186 0.017 0.098 0.115 0.010 ]\n",
        "469 - Predicted: 1 Actual: 0 [ 0.398 0.469 0.023 0.001 0.023 0.012 0.075 ]\n",
        "470"
       ]
      },
      {
       "output_type": "stream",
       "stream": "stdout",
       "text": [
        " - Predicted: 0 Actual: 0 [ 0.460 0.428 0.028 0.002 0.025 0.018 0.039 ]\n",
        "471 - Predicted: 1 Actual: 1 [ 0.275 0.477 0.094 0.007 0.067 0.055 0.025 ]\n",
        "472 - Predicted: 0 Actual: 0 [ 0.442 0.376 0.070 0.003 0.025 0.026 0.059 ]\n",
        "473 - Predicted: 1 Actual: 1 [ 0.363 0.603 0.006 0.000 0.011 0.002 0.015 ]\n",
        "474 - Predicted: 1 Actual: 0 [ 0.296 0.530 0.036 0.000 0.037 0.066 0.034 ]\n",
        "475 - Predicted: 1 Actual: 1 [ 0.198 0.477 0.149 0.005 0.049 0.106 0.016 ]\n",
        "476 - Predicted: 2 Actual: 2 [ 0.147 0.293 0.343 0.039 0.061 0.104 0.013 ]\n",
        "477 - Predicted: 1 Actual: 1 [ 0.295 0.495 0.070 0.010 0.048 0.030 0.050 ]\n",
        "478 - Predicted: 0 Actual: 0 [ 0.587 0.289 0.023 0.001 0.016 0.019 0.066 ]\n",
        "479 - Predicted: 1 Actual: 1 [ 0.310 0.472 0.049 0.005 0.082 0.047 0.034 ]\n",
        "480"
       ]
      },
      {
       "output_type": "stream",
       "stream": "stdout",
       "text": [
        " - Predicted: 1 Actual: 1 [ 0.350 0.449 0.061 0.006 0.048 0.032 0.054 ]\n",
        "481 - Predicted: 0 Actual: 1 [ 0.453 0.448 0.006 0.000 0.007 0.003 0.082 ]\n",
        "482 - Predicted: 1 Actual: 0 [ 0.404 0.428 0.047 0.009 0.061 0.024 0.027 ]\n",
        "483 - Predicted: 0 Actual: 0 [ 0.524 0.328 0.020 0.000 0.022 0.009 0.097 ]\n",
        "484 - Predicted: 0 Actual: 0 [ 0.484 0.375 0.035 0.000 0.019 0.022 0.065 ]\n",
        "485 - Predicted: 1 Actual: 1 [ 0.236 0.550 0.089 0.003 0.043 0.046 0.032 ]\n",
        "486 - Predicted: 2 Actual: 2 [ 0.094 0.191 0.457 0.041 0.029 0.178 0.010 ]\n",
        "487 - Predicted: 0 Actual: 0 [ 0.550 0.323 0.004 0.000 0.005 0.002 0.116 ]\n",
        "488 - Predicted: 0 Actual: 1 [ 0.461 0.453 0.025 0.000 0.018 0.015 0.028 ]\n",
        "489 - Predicted: 1 Actual: 1 [ 0.208 0.463 0.122 0.014 0.061 0.108 0.025 ]\n",
        "490"
       ]
      },
      {
       "output_type": "stream",
       "stream": "stdout",
       "text": [
        " - Predicted: 0 Actual: 1 [ 0.512 0.371 0.032 0.000 0.014 0.018 0.052 ]\n",
        "491 - Predicted: 1 Actual: 1 [ 0.248 0.523 0.082 0.011 0.051 0.059 0.026 ]\n",
        "492 - Predicted: 1 Actual: 1 [ 0.297 0.651 0.010 0.000 0.018 0.004 0.021 ]\n",
        "493 - Predicted: 2 Actual: 2 [ 0.068 0.194 0.430 0.064 0.028 0.213 0.003 ]\n",
        "494 - Predicted: 1 Actual: 1 [ 0.306 0.501 0.075 0.005 0.025 0.034 0.053 ]\n",
        "495 - Predicted: 1 Actual: 0 [ 0.347 0.601 0.015 0.001 0.012 0.008 0.016 ]\n",
        "496 - Predicted: 0 Actual: 0 [ 0.508 0.348 0.026 0.003 0.018 0.027 0.069 ]\n",
        "497 - Predicted: 0 Actual: 0 [ 0.426 0.401 0.058 0.003 0.039 0.038 0.035 ]\n",
        "498 - Predicted: 1 Actual: 1 [ 0.297 0.583 0.027 0.001 0.023 0.025 0.043 ]\n",
        "499 - Predicted: 1 Actual: 0 [ 0.447 0.518 0.004 0.000 0.010 0.002 0.018 ]\n"
       ]
      }
     ],
     "prompt_number": 27
    },
    {
     "cell_type": "code",
     "collapsed": false,
     "input": [
      "pd.Series(hits).cumsum().plot() # Predictions over time"
     ],
     "language": "python",
     "metadata": {},
     "outputs": [
      {
       "metadata": {},
       "output_type": "pyout",
       "prompt_number": 20,
       "text": [
        "<matplotlib.axes._subplots.AxesSubplot at 0x7f3d447c1ac8>"
       ]
      },
      {
       "metadata": {},
       "output_type": "display_data",
       "png": "[encoded data removed]",
       "text": [
        "<matplotlib.figure.Figure at 0x7f3d44b235f8>"
       ]
      }
     ],
     "prompt_number": 20
    },
    {
     "cell_type": "code",
     "collapsed": false,
     "input": [
      "sum(hits)/len(hits) # Overall accuracy"
     ],
     "language": "python",
     "metadata": {},
     "outputs": [
      {
       "metadata": {},
       "output_type": "pyout",
       "prompt_number": 21,
       "text": [
        "0.68600000000000005"
       ]
      }
     ],
     "prompt_number": 21
    },
    {
     "cell_type": "code",
     "collapsed": false,
     "input": [
      "print(\"calc_discount\", calc_discount.cache_info())\n",
      "print(\"_expected_discount_term1\", _expected_discount_term1.cache_info())\n",
      "for i, tree in enumerate(mf.trees):\n",
      "    print(\"Tree %d posterior cache hits: %d\" % (i, tree._scorer.cache_hits))\n",
      "    print(\"Tree %d posterior cache misses: %d\" % (i, tree._scorer.cache_misses))\n",
      "    print(\"Tree %d posterior cache evictions: %d\" % (i, tree._scorer.cache_evictions))"
     ],
     "language": "python",
     "metadata": {},
     "outputs": [
      {
       "output_type": "stream",
       "stream": "stdout",
       "text": [
        "calc_discount CacheInfo(hits=0, misses=0, maxsize=100000, currsize=0)\n",
        "_expected_discount_term1 CacheInfo(hits=0, misses=0, maxsize=100000, currsize=0)\n"
       ]
      },
      {
       "ename": "AttributeError",
       "evalue": "'ParallelMondrianForest' object has no attribute 'trees'",
       "output_type": "pyerr",
       "traceback": [
        "\u001b[1;31m---------------------------------------------------------------------------\u001b[0m\n\u001b[1;31mAttributeError\u001b[0m                            Traceback (most recent call last)",
        "\u001b[1;32m<ipython-input-9-69e02267cdd0>\u001b[0m in \u001b[0;36m<module>\u001b[1;34m()\u001b[0m\n\u001b[0;32m      1\u001b[0m \u001b[0mprint\u001b[0m\u001b[1;33m(\u001b[0m\u001b[1;34m\"calc_discount\"\u001b[0m\u001b[1;33m,\u001b[0m \u001b[0mcalc_discount\u001b[0m\u001b[1;33m.\u001b[0m\u001b[0mcache_info\u001b[0m\u001b[1;33m(\u001b[0m\u001b[1;33m)\u001b[0m\u001b[1;33m)\u001b[0m\u001b[1;33m\u001b[0m\u001b[0m\n\u001b[0;32m      2\u001b[0m \u001b[0mprint\u001b[0m\u001b[1;33m(\u001b[0m\u001b[1;34m\"_expected_discount_term1\"\u001b[0m\u001b[1;33m,\u001b[0m \u001b[0m_expected_discount_term1\u001b[0m\u001b[1;33m.\u001b[0m\u001b[0mcache_info\u001b[0m\u001b[1;33m(\u001b[0m\u001b[1;33m)\u001b[0m\u001b[1;33m)\u001b[0m\u001b[1;33m\u001b[0m\u001b[0m\n\u001b[1;32m----> 3\u001b[1;33m \u001b[1;32mfor\u001b[0m \u001b[0mi\u001b[0m\u001b[1;33m,\u001b[0m \u001b[0mtree\u001b[0m \u001b[1;32min\u001b[0m \u001b[0menumerate\u001b[0m\u001b[1;33m(\u001b[0m\u001b[0mmf\u001b[0m\u001b[1;33m.\u001b[0m\u001b[0mtrees\u001b[0m\u001b[1;33m)\u001b[0m\u001b[1;33m:\u001b[0m\u001b[1;33m\u001b[0m\u001b[0m\n\u001b[0m\u001b[0;32m      4\u001b[0m     \u001b[0mprint\u001b[0m\u001b[1;33m(\u001b[0m\u001b[1;34m\"Tree %d posterior cache hits: %d\"\u001b[0m \u001b[1;33m%\u001b[0m \u001b[1;33m(\u001b[0m\u001b[0mi\u001b[0m\u001b[1;33m,\u001b[0m \u001b[0mtree\u001b[0m\u001b[1;33m.\u001b[0m\u001b[0m_scorer\u001b[0m\u001b[1;33m.\u001b[0m\u001b[0mcache_hits\u001b[0m\u001b[1;33m)\u001b[0m\u001b[1;33m)\u001b[0m\u001b[1;33m\u001b[0m\u001b[0m\n\u001b[0;32m      5\u001b[0m     \u001b[0mprint\u001b[0m\u001b[1;33m(\u001b[0m\u001b[1;34m\"Tree %d posterior cache misses: %d\"\u001b[0m \u001b[1;33m%\u001b[0m \u001b[1;33m(\u001b[0m\u001b[0mi\u001b[0m\u001b[1;33m,\u001b[0m \u001b[0mtree\u001b[0m\u001b[1;33m.\u001b[0m\u001b[0m_scorer\u001b[0m\u001b[1;33m.\u001b[0m\u001b[0mcache_misses\u001b[0m\u001b[1;33m)\u001b[0m\u001b[1;33m)\u001b[0m\u001b[1;33m\u001b[0m\u001b[0m\n",
        "\u001b[1;31mAttributeError\u001b[0m: 'ParallelMondrianForest' object has no attribute 'trees'"
       ]
      }
     ],
     "prompt_number": 9
    }
   ],
   "metadata": {}
  }
 ]
}