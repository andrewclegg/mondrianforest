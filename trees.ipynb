{
 "metadata": {
  "name": "",
  "signature": "sha256:9606af1192e3c8b7bbde259d449946b4a79f9f5e0dec4fdb7624a45898084178"
 },
 "nbformat": 3,
 "nbformat_minor": 0,
 "worksheets": [
  {
   "cells": [
    {
     "cell_type": "code",
     "collapsed": false,
     "input": [
      "import random\n",
      "\n",
      "import numpy as np\n",
      "\n",
      "DEFAULT_BUDGET = np.inf"
     ],
     "language": "python",
     "metadata": {},
     "outputs": [],
     "prompt_number": 1
    },
    {
     "cell_type": "markdown",
     "metadata": {},
     "source": [
      "## Helper functions"
     ]
    },
    {
     "cell_type": "code",
     "collapsed": false,
     "input": [
      "# Candidates for memoization?\n",
      "\n",
      "def get_colwise_min_max(data):\n",
      "    return (data.min(axis=0), data.max(axis=0))\n",
      "\n",
      "def get_data_range(min_d, max_d):\n",
      "    range_d = max_d - min_d\n",
      "    return (range_d, range_d.sum())\n",
      "\n",
      "def sample_multinomial_scores(scores):\n",
      "    scores_cumsum = np.cumsum(scores)\n",
      "    s = scores_cumsum[-1] * np.random.rand(1)\n",
      "    k = int(np.sum(s > scores_cumsum))\n",
      "    return k\n",
      "\n",
      "def sample_multinomial(prob):\n",
      "    try:\n",
      "        k = int(np.where(np.random.multinomial(1, prob, size=1)[0]==1)[0])\n",
      "    except TypeError:\n",
      "        print('problem in sample_multinomial: prob = ', prob)\n",
      "        raise TypeError"
     ],
     "language": "python",
     "metadata": {},
     "outputs": [],
     "prompt_number": 2
    },
    {
     "cell_type": "markdown",
     "metadata": {},
     "source": [
      "## MondrianNode and MondrianTree classes\n",
      "\n",
      "Key differences from original:\n",
      "\n",
      "* Assume FAST_MODE (no log-likelihood) for now\n",
      "* Classification only (they never finished regression)\n",
      "* Always assume we're training incrementally\n",
      "* `update_posterior_node_incremental` just becomes `update_label_counts`\n",
      "* `add_training_points_to_node` just becomes `MondrianNode.update`\n",
      "* Pushed as much metadata as possible into the node object, to avoid having lots of separate dicts etc. maintained by the tree (hence renaming it `MondrianNode`)\n",
      "* `data` (an array) refers to one minibatch, instead of having a single design matrix in memory and indexing it with `train_ids`\n",
      "* `ids` is a vector of **globally-unique** identifiers for the rows in `data`\n",
      "* `labels` is a vector of class labels for the rows in `data`\n",
      "* We don't assume you'll provide the first batch of training data when initializing a tree, but we do need to know the number of dimensions and number of labels\n",
      "\n",
      "Perhaps most different of all:\n",
      "\n",
      "We don't keep all the input data, as this won't scale. But this means we can't move existing data down into the new leaf nodes when we split a leaf node.\n",
      "\n",
      "Current plan: When the tree \"grows\" through randomly splitting a leaf node, keep its existing class frequencies where they are, and only use the two new children for *newly-arriving* data. Then take these into account when calculating the predictive posteriors (appendix A of paper).\n",
      "\n",
      "Here's my thoughts, that I almost sent to Balaji, but decided to try first.\n",
      "\n",
      "```\n",
      "One thing I missed on reading the paper, is that when you bisect a leaf node through a \"grow\" (sampling) operation,\n",
      "you need to assign all its data points to one of the new children.\n",
      "\n",
      "This means you can't just keep summary statistics for the data in a block, i.e. class frequencies. You need to hold\n",
      "on to the raw training data in order to divide it, yes? Which is a problem for online learning over streaming data\n",
      "or just \"big data\" in general.\n",
      "\n",
      "So... Perhaps you could entirely forget about keeping the existing data and propagating it down to the new child\n",
      "nodes. If you just kept class frequencies at each node, maybe you could use these in the \"update posterior counts\"\n",
      "step for internal nodes, alongside the child node counts.\n",
      "\n",
      "(Any data that came in *after* the split would go all the way down to the leaf nodes though.)\n",
      "```\n",
      "\n",
      "### TODO\n",
      "\n",
      "* Proper probabilistic scoring\n",
      "* Work out exactly what effect `budget` is having\n",
      "* Introspection and prettyprinting tools\n",
      "* Forests\n",
      "* Parallelism\n",
      "* Instance subsampling\n",
      "* Feature subsampling/bootstrapping/bagging\n",
      "* Feature hashing/random projection/LSH\n",
      "* Perf. tuning (Cython etc.)\n",
      "* Error checking\n",
      "* Bulk testing\n",
      "* Train-on-fail mode\n",
      "* Loss functions, regret, class weighting?"
     ]
    },
    {
     "cell_type": "code",
     "collapsed": false,
     "input": [
      "class MondrianNode(object):\n",
      "\n",
      "    \n",
      "    def __init__(self, n_dims, n_labels, parent, budget=DEFAULT_BUDGET):\n",
      "        self.min_d = np.zeros(n_dims)\n",
      "        self.max_d = np.zeros(n_dims)\n",
      "        self.range_d = np.zeros(n_dims)\n",
      "        self.sum_range_d = np.zeros(n_dims)\n",
      "        self.label_counts = np.zeros(n_labels)\n",
      "        self.budget = budget\n",
      "        self.max_split_cost = 0\n",
      "        self.parent = parent\n",
      "        self.left = None\n",
      "        self.right = None\n",
      "        self.split_dim = None\n",
      "        self.split_point = None\n",
      "        \n",
      "    \n",
      "    def update(self, data, labels):\n",
      "        # Update bounding box and label counts\n",
      "        self.min_d, self.max_d = get_colwise_min_max(data)\n",
      "        self.range_d, self.sum_range_d = get_data_range(self.min_d, self.max_d)\n",
      "        self.label_counts += np.bincount(labels, minlength=len(self.label_counts))\n",
      "        \n",
      "\n",
      "    def apply_split(self, data):\n",
      "        # Apply this node's existing splitting criterion to some data\n",
      "        # and return a boolean index (True==goes left, False==goes right)\n",
      "        return data[:, self.split_dim] <= self.split_point\n",
      "    \n",
      "\n",
      "    def is_leaf(self):\n",
      "        if self.left is None:\n",
      "            assert self.right is None\n",
      "            return True\n",
      "        else:\n",
      "            assert self.right is not None\n",
      "            return False\n",
      "\n",
      "        \n",
      "    def is_pure(self):\n",
      "        return np.count_nonzero(self.label_counts) < 2"
     ],
     "language": "python",
     "metadata": {},
     "outputs": [],
     "prompt_number": 3
    },
    {
     "cell_type": "code",
     "collapsed": false,
     "input": [
      "class MondrianTree(object):\n",
      "    \n",
      "    \n",
      "    def __init__(self, n_dims, n_labels, budget=DEFAULT_BUDGET):\n",
      "        self.n_dims = n_dims\n",
      "        self.n_labels = n_labels\n",
      "        self.root = MondrianNode(n_dims, n_labels, None, budget=budget)\n",
      "        \n",
      "    \n",
      "    def extend(self, data, labels):\n",
      "        self._extend_node(self.root, data, labels)\n",
      "    \n",
      "    \n",
      "    def _extend_node(self, node, data, labels):\n",
      "        \n",
      "        min_d, max_d = get_colwise_min_max(data)\n",
      "        additional_extent_lower = np.maximum(0, node.min_d - min_d)\n",
      "        additional_extent_upper = np.maximum(0, max_d - node.max_d)\n",
      "        expo_parameter = additional_extent_lower.sum() + additional_extent_upper.sum()\n",
      "        \n",
      "        is_leaf = node.is_leaf()\n",
      "        if expo_parameter == 0 or is_leaf:\n",
      "            # Don't split if (a) none of the new data is outside the existing bounding box,\n",
      "            # or (b) it's a leaf node (we don't split these, we grow them)\n",
      "            split_cost = np.inf\n",
      "        else:\n",
      "            # The bigger the new bounding box relative to the old one, the more likely we are to split the node\n",
      "            split_cost = random.expovariate(expo_parameter)\n",
      "        \n",
      "        if split_cost < node.max_split_cost and not is_leaf:\n",
      "            # Stop what we're doing and instigate a node split instead\n",
      "            self._split_node(node, data, labels, split_cost, min_d, max_d,\n",
      "                             additional_extent_lower, additional_extent_upper)\n",
      "            return\n",
      "\n",
      "        # Otherwise carry on updating the existing tree structure\n",
      "        \n",
      "        was_paused = is_leaf and node.is_pure()\n",
      "        node.update(data, labels)\n",
      "        is_paused = is_leaf and node.is_pure()\n",
      "\n",
      "        if was_paused and not is_paused:\n",
      "            # We've unpaused a leaf node so we need to grow the tree\n",
      "            self._grow(node)\n",
      "        elif not is_leaf:\n",
      "            # Split the data into left portion and right portion, and repeat\n",
      "            # whole process with node's children\n",
      "            goes_left = node.apply_split(data)\n",
      "            if sum(goes_left):\n",
      "                self._extend_node(node.left, data[goes_left], labels[goes_left])\n",
      "            if sum(~goes_left):\n",
      "                self._extend_node(node.right, data[~goes_left], labels[~goes_left])\n",
      "\n",
      "            \n",
      "    def _split_node(self, node, data, labels, split_cost, min_d, max_d,\n",
      "                    additional_extent_lower, additional_extent_upper):\n",
      "        \n",
      "        assert not node.is_leaf() # Mutate leaf nodes by growing, not splitting\n",
      "        \n",
      "        # Create new parent node which is a near-copy of the one that's splitting\n",
      "        new_parent = MondrianNode(self.n_dims, self.n_labels, node.parent, budget=node.budget)\n",
      "        new_parent.min_d = np.minimum(min_d, node.min_d)\n",
      "        new_parent.max_d = np.maximum(max_d, node.max_d)\n",
      "        new_parent.range_d, new_parent.sum_range_d = get_data_range(new_parent.min_d, new_parent.max_d)\n",
      "        new_parent.label_counts = node.label_counts\n",
      "        \n",
      "        # Pick a random dimension to split on\n",
      "        feat_score = additional_extent_lower + additional_extent_upper\n",
      "        feat_id = sample_multinomial_scores(feat_score)\n",
      "        \n",
      "        # Pick a random split point between previous bounding box and new one\n",
      "        draw_from_lower = np.random.rand() <= (additional_extent_lower[feat_id] / feat_score[feat_id])\n",
      "        if draw_from_lower:\n",
      "            split = random.uniform(min_d[feat_id], node.min_d[feat_id])\n",
      "        else:\n",
      "            split = random.uniform(node.max_d[feat_id], max_d[feat_id])\n",
      "        \n",
      "        assert (split < node.min_d[feat_id]) or (split > node.max_d[feat_id])\n",
      "        \n",
      "        # Set up the new parent node to use this split\n",
      "        new_parent.split_dim = feat_id\n",
      "        new_parent.split_point = split\n",
      "        \n",
      "        # Now create new child node which is initially empty -- new sibling for original node\n",
      "        new_budget = node.budget - split_cost\n",
      "        new_sibling = MondrianNode(self.n_dims, self.n_labels, new_parent, budget=new_budget)\n",
      "        \n",
      "        # This bit's clever -- since the split point is outside the original node's bounding box,\n",
      "        # we might need to give some new data to that node, but we won't need to take any away\n",
      "        # from the existing node. By definition, none of its data points can be in there.\n",
      "        \n",
      "        # Use the new parent's split criterion to decide which child gets which subset of data,\n",
      "        # and adjust tree to match\n",
      "        goes_left = new_parent.apply_split(data)\n",
      "        original_node_goes_left = split > node.max_d[feat_id]\n",
      "        if original_node_goes_left:\n",
      "            new_parent.left = node\n",
      "            new_parent.right = new_sibling\n",
      "            data_for_original = goes_left\n",
      "        else:\n",
      "            new_parent.left = new_sibling\n",
      "            new_parent.right = node\n",
      "            data_for_original = ~goes_left\n",
      "\n",
      "        # Figure out whether new parent is on the left or right of *its* parent (unless it's the root)\n",
      "        if node == self.root:\n",
      "            self.root = new_parent\n",
      "        else:\n",
      "            if node.parent.left == node:\n",
      "                node.parent.left = new_parent\n",
      "            elif node.parent.right == node:\n",
      "                node.parent.right = new_parent\n",
      "            else:\n",
      "                assert False\n",
      "        node.parent = new_parent\n",
      "        \n",
      "        # Update budgets and costs associated with the nodes\n",
      "        node.budget = new_budget\n",
      "        node.max_split_cost -= split_cost\n",
      "        new_parent.max_split_cost = split_cost\n",
      "        \n",
      "        # Update the bounding boxes and label counts for the left and right sides of the new split\n",
      "        # (the new node will be grown automatically when needed, filling in max_split_cost)\n",
      "        if sum(data_for_original) > 0:\n",
      "            self._extend_node(node.left, data[data_for_original], labels[data_for_original])\n",
      "        if sum(~data_for_original) > 0:\n",
      "            self._extend_node(node.right, data[~data_for_original], labels[~data_for_original])\n",
      "        \n",
      "        # TODO ensure the new node behaves correctly (i.e. gets grown when it needs to)\n",
      "\n",
      "        \n",
      "    def _grow(self, node):\n",
      "        \n",
      "        assert node.is_leaf()\n",
      "        \n",
      "        # Is node paused, empty or effectively empty? If so, don't split it\n",
      "        if node.is_pure() or node.sum_range_d == 0:\n",
      "            node.max_split_cost = node.budget\n",
      "            return\n",
      "\n",
      "        split_cost = random.expovariate(node.sum_range_d)\n",
      "        node.max_split_cost = split_cost\n",
      "\n",
      "        if node.budget > split_cost:\n",
      "            node.split_dim = sample_multinomial_scores(node.range_d)\n",
      "            node.split_point = random.uniform(node.min_d[node.split_dim], node.max_d[node.split_dim])\n",
      "            \n",
      "            # TODO use the default budget here, or inherit from parent? Paper says default\n",
      "            node.left = MondrianNode(self.n_dims, self.n_labels, node)\n",
      "            node.right = MondrianNode(self.n_dims, self.n_labels, node)\n",
      "            # No point growing these as they start off empty (unlike in original paper)\n",
      "\n",
      "\n",
      "    def predict(self, row):\n",
      "        # Dumb-ass scoring, just for now\n",
      "        node = self.root\n",
      "        last_counts_seen = node.label_counts\n",
      "        while node.label_counts.sum() > 0 and not node.is_leaf():\n",
      "            last_counts_seen = node.label_counts\n",
      "            left = node.apply_split(row)\n",
      "            node = node.left if left else node.right\n",
      "        # FIXME why do we sometimes get tiny floats in here, when they should be just counts (ints)?\n",
      "        if np.allclose(last_counts_seen, 0):\n",
      "            return np.zeros_like(last_counts_seen)\n",
      "        # L1 normalize\n",
      "        return last_counts_seen / last_counts_seen.sum()"
     ],
     "language": "python",
     "metadata": {},
     "outputs": [],
     "prompt_number": 11
    },
    {
     "cell_type": "code",
     "collapsed": false,
     "input": [
      "class MondrianForest(object):\n",
      "    \n",
      "    def __init__(self, n_trees, n_dims, n_labels, budget=DEFAULT_BUDGET):\n",
      "        self.trees = [MondrianTree(n_dims, n_labels, budget=budget) for k in range(n_trees)]\n",
      "    \n",
      "    def update(self, data, labels):\n",
      "        # TODO parallelize\n",
      "        for tree in self.trees:\n",
      "            tree.extend(data, labels)\n",
      "    \n",
      "    def predict(self, row, aggregate=True):\n",
      "        # TODO parallelize\n",
      "        results = np.vstack([tree.predict(row) for tree in self.trees])\n",
      "        if aggregate:\n",
      "            return results.sum(axis=0) / results.sum()\n",
      "        else:\n",
      "            return results"
     ],
     "language": "python",
     "metadata": {},
     "outputs": [],
     "prompt_number": 64
    },
    {
     "cell_type": "code",
     "collapsed": false,
     "input": [
      "import pickle\n",
      "import gzip\n",
      "import os\n",
      "import pandas as pd\n",
      "from sklearn import datasets\n",
      "from sklearn import cross_validation as cv\n",
      "\n",
      "# For speed later...\n",
      "test_file = '/home/vagrant/data/covtype.pkl.gz'\n",
      "if os.path.exists(test_file):\n",
      "    with gzip.GzipFile(test_file, 'rb') as z:\n",
      "        dataset = pickle.load(z)\n",
      "else:\n",
      "    dataset = datasets.fetch_covtype() # Can be quite slow\n",
      "    with gzip.GzipFile(test_file, 'wb') as z:\n",
      "        pickle.dump(dataset, z)\n",
      "        \n",
      "dataset.data.shape"
     ],
     "language": "python",
     "metadata": {},
     "outputs": [
      {
       "metadata": {},
       "output_type": "pyout",
       "prompt_number": 5,
       "text": [
        "(581012, 54)"
       ]
      }
     ],
     "prompt_number": 5
    },
    {
     "cell_type": "code",
     "collapsed": false,
     "input": [
      "n_iter = 50\n",
      "folds = cv.StratifiedShuffleSplit(dataset.target, n_iter=n_iter, test_size=10, train_size=1000)\n",
      "hits = np.ndarray(n_iter, dtype=bool)\n",
      "\n",
      "data = dataset.data\n",
      "target = dataset.target - 1 # they are 1-indexed\n",
      "\n",
      "mf = MondrianForest(100, data.shape[1], len(np.unique(target)), budget=1000)\n",
      "\n",
      "for i, (train, test) in enumerate(folds):\n",
      "    train_X = data[train]\n",
      "    train_y = target[train]\n",
      "    test_X = data[test][0:1,:]\n",
      "    test_y = target[test][0:1]\n",
      "    mf.update(train_X, train_y)\n",
      "    preds = mf.predict(test_X)\n",
      "    yhat = preds.argmax()\n",
      "    print(i, '- Predicted:', yhat, 'Actual:', test_y,\n",
      "          '[', ' '.join(['%.3f' % x for x in preds]), ']')\n",
      "    hits[i] = yhat == test_y"
     ],
     "language": "python",
     "metadata": {},
     "outputs": [
      {
       "output_type": "stream",
       "stream": "stdout",
       "text": [
        "0 - Predicted: 1 Actual: [0] [ 0.365 0.488 0.062 0.005 0.016 0.030 0.035 ]\n",
        "1"
       ]
      },
      {
       "output_type": "stream",
       "stream": "stdout",
       "text": [
        " - Predicted: 1 Actual: [1] [ 0.347 0.492 0.070 0.006 0.017 0.035 0.033 ]\n",
        "2"
       ]
      },
      {
       "output_type": "stream",
       "stream": "stdout",
       "text": [
        " - Predicted: 1 Actual: [1] [ 0.340 0.433 0.117 0.008 0.022 0.047 0.032 ]\n",
        "3"
       ]
      },
      {
       "output_type": "stream",
       "stream": "stdout",
       "text": [
        " - Predicted: 1 Actual: [0] [ 0.419 0.453 0.057 0.004 0.014 0.027 0.024 ]\n",
        "4"
       ]
      },
      {
       "output_type": "stream",
       "stream": "stdout",
       "text": [
        " - Predicted: 1 Actual: [0] [ 0.304 0.490 0.105 0.009 0.025 0.046 0.021 ]\n",
        "5"
       ]
      },
      {
       "output_type": "stream",
       "stream": "stdout",
       "text": [
        " - Predicted: 0 Actual: [0] [ 0.473 0.466 0.007 0.000 0.008 0.004 0.041 ]\n",
        "6"
       ]
      },
      {
       "output_type": "stream",
       "stream": "stdout",
       "text": [
        " - Predicted: 1 Actual: [0] [ 0.282 0.705 0.000 0.000 0.000 0.000 0.013 ]\n",
        "7"
       ]
      },
      {
       "output_type": "stream",
       "stream": "stdout",
       "text": [
        " - Predicted: 1 Actual: [1] [ 0.319 0.557 0.026 0.001 0.028 0.028 0.041 ]\n",
        "8"
       ]
      },
      {
       "output_type": "stream",
       "stream": "stdout",
       "text": [
        " - Predicted: 1 Actual: [1] [ 0.431 0.514 0.000 0.000 0.001 0.000 0.054 ]\n",
        "9"
       ]
      },
      {
       "output_type": "stream",
       "stream": "stdout",
       "text": [
        " - Predicted: 1 Actual: [1] [ 0.285 0.549 0.072 0.010 0.027 0.036 0.021 ]\n",
        "10"
       ]
      },
      {
       "output_type": "stream",
       "stream": "stdout",
       "text": [
        " - Predicted: 1 Actual: [0] [ 0.432 0.485 0.017 0.002 0.010 0.006 0.047 ]\n",
        "11"
       ]
      },
      {
       "output_type": "stream",
       "stream": "stdout",
       "text": [
        " - Predicted: 1 Actual: [1] [ 0.323 0.589 0.036 0.003 0.015 0.012 0.021 ]\n",
        "12"
       ]
      },
      {
       "output_type": "stream",
       "stream": "stdout",
       "text": [
        " - Predicted: 1 Actual: [1] [ 0.366 0.558 0.009 0.001 0.023 0.009 0.036 ]\n",
        "13"
       ]
      },
      {
       "output_type": "stream",
       "stream": "stdout",
       "text": [
        " - Predicted: 1 Actual: [2] [ 0.262 0.612 0.062 0.029 0.007 0.018 0.010 ]\n",
        "14"
       ]
      },
      {
       "output_type": "stream",
       "stream": "stdout",
       "text": [
        " - Predicted: 0 Actual: [1] [ 0.510 0.426 0.031 0.000 0.004 0.001 0.028 ]\n",
        "15"
       ]
      },
      {
       "output_type": "stream",
       "stream": "stdout",
       "text": [
        " - Predicted: 2 Actual: [2] [ 0.100 0.205 0.404 0.056 0.060 0.171 0.003 ]\n",
        "16"
       ]
      },
      {
       "output_type": "stream",
       "stream": "stdout",
       "text": [
        " - Predicted: 2 Actual: [2] [ 0.119 0.281 0.414 0.129 0.004 0.046 0.006 ]\n",
        "17"
       ]
      },
      {
       "output_type": "stream",
       "stream": "stdout",
       "text": [
        " - Predicted: 1 Actual: [0] [ 0.419 0.516 0.013 0.001 0.037 0.008 0.007 ]\n",
        "18"
       ]
      },
      {
       "output_type": "stream",
       "stream": "stdout",
       "text": [
        " - Predicted: 1 Actual: [0] [ 0.354 0.584 0.006 0.000 0.033 0.015 0.009 ]\n",
        "19"
       ]
      },
      {
       "output_type": "stream",
       "stream": "stdout",
       "text": [
        " - Predicted: 1 Actual: [1] [ 0.287 0.549 0.048 0.001 0.034 0.067 0.014 ]\n",
        "20"
       ]
      },
      {
       "output_type": "stream",
       "stream": "stdout",
       "text": [
        " - Predicted: 0 Actual: [0] [ 0.577 0.414 0.001 0.000 0.000 0.000 0.007 ]\n",
        "21"
       ]
      },
      {
       "output_type": "stream",
       "stream": "stdout",
       "text": [
        " - Predicted: 1 Actual: [1] [ 0.435 0.531 0.001 0.000 0.005 0.000 0.028 ]\n",
        "22"
       ]
      },
      {
       "output_type": "stream",
       "stream": "stdout",
       "text": [
        " - Predicted: 1 Actual: [1] [ 0.422 0.493 0.002 0.000 0.009 0.025 0.048 ]\n",
        "23"
       ]
      },
      {
       "output_type": "stream",
       "stream": "stdout",
       "text": [
        " - Predicted: 0 Actual: [1] [ 0.521 0.425 0.002 0.000 0.009 0.033 0.011 ]\n",
        "24"
       ]
      },
      {
       "output_type": "stream",
       "stream": "stdout",
       "text": [
        " - Predicted: 1 Actual: [2] [ 0.184 0.419 0.250 0.026 0.034 0.047 0.040 ]\n",
        "25"
       ]
      },
      {
       "output_type": "stream",
       "stream": "stdout",
       "text": [
        " - Predicted: 1 Actual: [1] [ 0.367 0.584 0.026 0.002 0.005 0.013 0.002 ]\n",
        "26"
       ]
      },
      {
       "output_type": "stream",
       "stream": "stdout",
       "text": [
        " - Predicted: 0 Actual: [0] [ 0.612 0.307 0.000 0.000 0.003 0.002 0.076 ]\n",
        "27"
       ]
      },
      {
       "output_type": "stream",
       "stream": "stdout",
       "text": [
        " - Predicted: 0 Actual: [0] [ 0.548 0.297 0.038 0.001 0.002 0.066 0.048 ]\n",
        "28"
       ]
      },
      {
       "output_type": "stream",
       "stream": "stdout",
       "text": [
        " - Predicted: 0 Actual: [0] [ 0.498 0.481 0.001 0.000 0.001 0.000 0.019 ]\n",
        "29"
       ]
      },
      {
       "output_type": "stream",
       "stream": "stdout",
       "text": [
        " - Predicted: 0 Actual: [0] [ 0.532 0.457 0.002 0.000 0.002 0.001 0.006 ]\n",
        "30"
       ]
      },
      {
       "output_type": "stream",
       "stream": "stdout",
       "text": [
        " - Predicted: 0 Actual: [0] [ 0.633 0.336 0.000 0.000 0.002 0.000 0.030 ]\n",
        "31"
       ]
      },
      {
       "output_type": "stream",
       "stream": "stdout",
       "text": [
        " - Predicted: 1 Actual: [1] [ 0.489 0.508 0.000 0.000 0.001 0.000 0.002 ]\n",
        "32"
       ]
      },
      {
       "output_type": "stream",
       "stream": "stdout",
       "text": [
        " - Predicted: 1 Actual: [1] [ 0.351 0.605 0.017 0.000 0.002 0.005 0.020 ]\n",
        "33"
       ]
      },
      {
       "output_type": "stream",
       "stream": "stdout",
       "text": [
        " - Predicted: 0 Actual: [0] [ 0.603 0.333 0.000 0.000 0.000 0.000 0.065 ]\n",
        "34"
       ]
      },
      {
       "output_type": "stream",
       "stream": "stdout",
       "text": [
        " - Predicted: 1 Actual: [1] [ 0.326 0.654 0.000 0.000 0.012 0.001 0.007 ]\n",
        "35"
       ]
      },
      {
       "output_type": "stream",
       "stream": "stdout",
       "text": [
        " - Predicted: 2 Actual: [2] [ 0.077 0.299 0.377 0.031 0.017 0.190 0.008 ]\n",
        "36"
       ]
      },
      {
       "output_type": "stream",
       "stream": "stdout",
       "text": [
        " - Predicted: 1 Actual: [1] [ 0.344 0.559 0.000 0.000 0.000 0.000 0.097 ]\n",
        "37"
       ]
      },
      {
       "output_type": "stream",
       "stream": "stdout",
       "text": [
        " - Predicted: 0 Actual: [1] [ 0.529 0.427 0.002 0.000 0.002 0.001 0.040 ]\n",
        "38"
       ]
      },
      {
       "output_type": "stream",
       "stream": "stdout",
       "text": [
        " - Predicted: 1 Actual: [1] [ 0.424 0.535 0.002 0.000 0.002 0.000 0.037 ]\n",
        "39"
       ]
      },
      {
       "output_type": "stream",
       "stream": "stdout",
       "text": [
        " - Predicted: 0 Actual: [1] [ 0.478 0.422 0.000 0.000 0.000 0.000 0.101 ]\n",
        "40"
       ]
      },
      {
       "output_type": "stream",
       "stream": "stdout",
       "text": [
        " - Predicted: 0 Actual: [0] [ 0.483 0.440 0.018 0.000 0.019 0.007 0.033 ]\n",
        "41"
       ]
      },
      {
       "output_type": "stream",
       "stream": "stdout",
       "text": [
        " - Predicted: 0 Actual: [0] [ 0.508 0.491 0.000 0.000 0.000 0.000 0.001 ]\n",
        "42"
       ]
      },
      {
       "output_type": "stream",
       "stream": "stdout",
       "text": [
        " - Predicted: 1 Actual: [0] [ 0.337 0.516 0.005 0.000 0.053 0.001 0.087 ]\n",
        "43"
       ]
      },
      {
       "output_type": "stream",
       "stream": "stdout",
       "text": [
        " - Predicted: 0 Actual: [0] [ 0.562 0.377 0.005 0.000 0.003 0.005 0.047 ]\n",
        "44"
       ]
      },
      {
       "output_type": "stream",
       "stream": "stdout",
       "text": [
        " - Predicted: 1 Actual: [1] [ 0.394 0.604 0.000 0.000 0.000 0.000 0.002 ]\n",
        "45"
       ]
      },
      {
       "output_type": "stream",
       "stream": "stdout",
       "text": [
        " - Predicted: 0 Actual: [0] [ 0.498 0.474 0.008 0.000 0.009 0.001 0.009 ]\n",
        "46"
       ]
      },
      {
       "output_type": "stream",
       "stream": "stdout",
       "text": [
        " - Predicted: 1 Actual: [0] [ 0.435 0.545 0.006 0.000 0.002 0.005 0.007 ]\n",
        "47"
       ]
      },
      {
       "output_type": "stream",
       "stream": "stdout",
       "text": [
        " - Predicted: 0 Actual: [0] [ 0.593 0.374 0.000 0.000 0.000 0.000 0.033 ]\n",
        "48"
       ]
      },
      {
       "output_type": "stream",
       "stream": "stdout",
       "text": [
        " - Predicted: 1 Actual: [1] [ 0.422 0.531 0.005 0.000 0.001 0.000 0.041 ]\n",
        "49"
       ]
      },
      {
       "output_type": "stream",
       "stream": "stdout",
       "text": [
        " - Predicted: 0 Actual: [0] [ 0.462 0.446 0.004 0.000 0.004 0.001 0.083 ]\n"
       ]
      }
     ],
     "prompt_number": 72
    },
    {
     "cell_type": "code",
     "collapsed": false,
     "input": [
      "pd.Series(hits.cumsum()).plot()"
     ],
     "language": "python",
     "metadata": {},
     "outputs": [
      {
       "metadata": {},
       "output_type": "pyout",
       "prompt_number": 73,
       "text": [
        "<matplotlib.axes._subplots.AxesSubplot at 0x7f876d24da58>"
       ]
      },
      {
       "metadata": {},
       "output_type": "display_data",
       "png": "[encoded data removed]",
       "text": [
        "<matplotlib.figure.Figure at 0x7f876c797860>"
       ]
      }
     ],
     "prompt_number": 73
    }
   ],
   "metadata": {}
  }
 ]
}