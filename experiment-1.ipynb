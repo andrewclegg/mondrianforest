{
 "metadata": {
  "name": "",
  "signature": "sha256:33192b205dec9e2c51b5d207153b8e4d6f216e741e9530fe7c1e64f51a21c806"
 },
 "nbformat": 3,
 "nbformat_minor": 0,
 "worksheets": [
  {
   "cells": [
    {
     "cell_type": "markdown",
     "metadata": {},
     "source": [
      "# Mondrian Forests\n",
      "\n",
      "This is a reimplementation of Mondrian Forests as described here:\n",
      "\n",
      "**Mondrian Forests: Efficient Online Random Forests**\n",
      "\n",
      "Balaji Lakshminarayanan, Daniel M. Roy, Yee Whye Teh\n",
      "\n",
      "http://arxiv.org/abs/1406.2673\n",
      "\n",
      "It partly uses code from the original authors' implementation at\n",
      "\n",
      "https://github.com/balajiln/mondrianforest\n",
      "\n",
      "but changes a few things along the way too. Key differences:\n",
      "\n",
      "* Assume FAST_MODE (no log-likelihood) for now\n",
      "* Classification only (they never finished regression)\n",
      "* Always assume we're training incrementally\n",
      "* `update_posterior_node_incremental` just becomes `update_label_counts`\n",
      "* `add_training_points_to_node` just becomes `MondrianNode.update`\n",
      "* Pushed as much metadata as possible into the node object, to avoid having lots of separate dicts etc. maintained by the tree (hence renaming it `MondrianNode`)\n",
      "* `data` (an array) refers to one batch, instead of having a single design matrix in memory and indexing it with `train_ids`\n",
      "* `labels` is a vector of class labels for the rows in `data`\n",
      "* We don't assume you'll provide the first batch of training data when initializing a tree, but we do need to know the number of dimensions and number of labels\n",
      "* It works in parallel :-)\n",
      "\n",
      "Perhaps most different of all:\n",
      "\n",
      "We don't keep all the input data, as this won't scale. But this means we can't move existing data down into the new leaf nodes when we split a leaf node.\n",
      "\n",
      "This is the plan: When the tree \"grows\" through randomly splitting a leaf node, keep its existing class frequencies where they are, and only use the two new children for *newly-arriving* data. Then take these into account when calculating the predictive posteriors (appendix A of paper).\n",
      "\n",
      "Here are my original thoughts on this, that I almost sent to the authors, but decided to try first.\n",
      "\n",
      "```\n",
      "One thing I missed on reading the paper, is that when you bisect a leaf node through a \"grow\" (sampling) operation,\n",
      "you need to assign all its data points to one of the new children.\n",
      "\n",
      "This means you can't just keep summary statistics for the data in a block, i.e. class frequencies. You need to hold\n",
      "on to the raw training data in order to divide it, yes? Which is a problem for online learning over streaming data\n",
      "or just \"big data\" in general.\n",
      "\n",
      "So... Perhaps you could entirely forget about keeping the existing data and propagating it down to the new child\n",
      "nodes. If you just kept class frequencies at each node, maybe you could use these in the \"update posterior counts\"\n",
      "step for internal nodes, alongside the child node counts.\n",
      "\n",
      "(Any data that came in *after* the split would go all the way down to the leaf nodes though.)\n",
      "```\n",
      "\n",
      "For the time being, though, it's using a much simpler scoring system. Walk down the tree until you find the box that the test example would have been in, and go for the majority class. If you don't find a box, or it's empty, walk back up until you find the nearest ancestor with some instances in.\n",
      "\n",
      "Averaged across a few trees, even as few as ~10, this actually does pretty well.\n",
      "\n",
      "## Running this demo\n",
      "\n",
      "If a `default` IPython cluster is available, it runs in parallel automatically, with as many trees in the forest as you have engines in the cluster. Otherwise, it runs in serial on a single core, with 3 trees. See the notes in the third cell.\n",
      "\n",
      "For best results with small forests, use an odd number of trees.\n",
      "\n",
      "## TODO\n",
      "\n",
      "### Must-haves\n",
      "\n",
      "* Proper probabilistic scoring\n",
      "* Types for all numpy arrays\n",
      "* Error checking\n",
      "* Work out exactly what effect `budget` is having\n",
      "* Introspection and prettyprinting tools\n",
      "* Work out which members are \"private\" and rename them with underscores\n",
      "* Proper tests...\n",
      "\n",
      "### Useful features\n",
      "\n",
      "* Allow multiple trees per engine (i.e. each engine runs a forest, not a tree)\n",
      "* Instance subsampling\n",
      "* Feature subsampling/bootstrapping/bagging\n",
      "* Feature hashing/random projection/LSH\n",
      "* Train-on-fail mode\n",
      "* Loss functions, regret, class weighting?\n",
      "\n",
      "### Blue sky\n",
      "\n",
      "* Regression\n",
      "* Clustering? (I mean, it basically *is* clustering, already...)\n",
      "* Semi-supervised would be really easy too\n",
      "* Adaptivity -- non-stationary distributions, recency effects etc.\n",
      "* Auto-pruning/rebalancing -- stop trees either stagnating or growing out of control in the long term\n",
      "* What about when the true number of classes isn't known in advance?\n",
      "\n",
      "The last three are really closely related.\n",
      "\n",
      "We could probably tackle a lot of these problems by \"chopping down\" older trees -- either randomly or according to a heuristic (e.g. least-recently-modified) -- so new ones can grow in their place. Maybe varying the budget and discount values would be useful too.\n",
      "\n",
      "Perhaps you could calculate the posterior class probabilities over the entire 'dead' tree, and use these as the priors for the new tree that will grow in its place.\n",
      "\n",
      "You could also use this kind of approach to tune P/R tradeoff, chase a particular objective function, do reinforcement learning... If you squint, they start to look a little like GAs.\n",
      "\n",
      "* Ontology learning\n",
      "* Grammar induction\n",
      "* Topic modelling\n",
      "\n",
      "Use cases that are fundamentally tree-shaped! Hmmm."
     ]
    },
    {
     "cell_type": "code",
     "collapsed": false,
     "input": [
      "%run 'mondrian.py'\n",
      "\n",
      "import random\n",
      "\n",
      "import numpy as np\n",
      "\n",
      "from IPython.parallel import Client\n",
      "try:\n",
      "    rc = Client()\n",
      "    dview = rc[:]\n",
      "    print('Using default IPython cluster with %d engines' % len(dview))\n",
      "except FileNotFoundError:\n",
      "    rc = None\n",
      "    dview = None\n",
      "    print('Using single-core implementation')\n",
      "\n",
      "DEFAULT_BUDGET = 1000"
     ],
     "language": "python",
     "metadata": {},
     "outputs": [
      {
       "output_type": "stream",
       "stream": "stdout",
       "text": [
        "Using single-core implementation\n"
       ]
      }
     ],
     "prompt_number": 12
    },
    {
     "cell_type": "code",
     "collapsed": false,
     "input": [
      "import pickle\n",
      "import gzip\n",
      "import os\n",
      "import pandas as pd\n",
      "from sklearn import datasets\n",
      "from sklearn import cross_validation as cv\n",
      "\n",
      "# For speed later...\n",
      "test_file = '/home/vagrant/data/covtype.pkl.gz'\n",
      "if os.path.exists(test_file):\n",
      "    with gzip.GzipFile(test_file, 'rb') as z:\n",
      "        dataset = pickle.load(z)\n",
      "else:\n",
      "    dataset = datasets.fetch_covtype() # Can be quite slow\n",
      "    with gzip.GzipFile(test_file, 'wb') as z:\n",
      "        pickle.dump(dataset, z)\n",
      "        \n",
      "dataset.data.shape"
     ],
     "language": "python",
     "metadata": {},
     "outputs": [
      {
       "metadata": {},
       "output_type": "pyout",
       "prompt_number": 2,
       "text": [
        "(581012, 54)"
       ]
      }
     ],
     "prompt_number": 2
    },
    {
     "cell_type": "code",
     "collapsed": false,
     "input": [
      "#%%time\n",
      "#%%prun\n",
      "\n",
      "n_iter = 50\n",
      "test_size = 10\n",
      "folds = cv.StratifiedShuffleSplit(dataset.target, n_iter=n_iter, test_size=test_size, train_size=1000)\n",
      "hits = []\n",
      "\n",
      "data = dataset.data\n",
      "target = dataset.target - 1 # they are 1-indexed\n",
      "\n",
      "if dview is None:\n",
      "    # Run with a single-threaded forest with 3 trees (FIXME)\n",
      "    mf = MondrianForest(1, data.shape[1], len(np.unique(target)), budget=DEFAULT_BUDGET, scoring='simple')\n",
      "else:\n",
      "    # Run with a parallel forest on IPython cluster\n",
      "    mf = ParallelMondrianForest(dview, data.shape[1], len(np.unique(target)), budget=DEFAULT_BUDGET, scoring='simple')\n",
      "\n",
      "def run_test():\n",
      "    for i, (train, test) in enumerate(folds):\n",
      "        train_X = data[train]\n",
      "        train_y = target[train]\n",
      "        test_X = data[test]#[0:1,:]\n",
      "        test_y = target[test]#[0:1]\n",
      "        mf.update(train_X, train_y)\n",
      "        preds = mf.predict(test_X)\n",
      "        yhat = preds.argmax(axis=1)\n",
      "        assert test_y.shape == yhat.shape\n",
      "        for j in range(len(preds)):\n",
      "            idx = (i * test_size) + j\n",
      "            print(idx, '- Predicted:', yhat[j], 'Actual:', test_y[j],\n",
      "                  '[', ' '.join(['%.3f' % x for x in preds[j]]), ']')\n",
      "            hits.append(yhat[j] == test_y[j])\n",
      "\n",
      "%prun run_test()"
     ],
     "language": "python",
     "metadata": {},
     "outputs": [
      {
       "output_type": "stream",
       "stream": "stdout",
       "text": [
        "0 - Predicted: 1 Actual: 1 [ 0.365 0.488 0.062 0.005 0.016 0.030 0.035 ]\n",
        "1 - Predicted: 1 Actual: 0 [ 0.365 0.488 0.062 0.005 0.016 0.030 0.035 ]\n",
        "2 - Predicted: 1 Actual: 1 [ 0.365 0.488 0.062 0.005 0.016 0.030 0.035 ]\n",
        "3 - Predicted: 1 Actual: 0 [ 0.365 0.488 0.062 0.005 0.016 0.030 0.035 ]\n",
        "4 - Predicted: 1 Actual: 1 [ 0.365 0.488 0.062 0.005 0.016 0.030 0.035 ]\n",
        "5 - Predicted: 1 Actual: 0 [ 0.365 0.488 0.062 0.005 0.016 0.030 0.035 ]\n",
        "6 - Predicted: 1 Actual: 0 [ 0.365 0.488 0.062 0.005 0.016 0.030 0.035 ]\n",
        "7 - Predicted: 1 Actual: 1 [ 0.365 0.488 0.062 0.005 0.016 0.030 0.035 ]\n",
        "8 - Predicted: 1 Actual: 2 [ 0.365 0.488 0.062 0.005 0.016 0.030 0.035 ]\n",
        "9 - Predicted: 1 Actual: 1 [ 0.365 0.488 0.062 0.005 0.016 0.030 0.035 ]\n",
        "10"
       ]
      },
      {
       "output_type": "stream",
       "stream": "stdout",
       "text": [
        " - Predicted: 1 Actual: 1 [ 0.389 0.497 0.026 0.003 0.017 0.026 0.043 ]\n",
        "11 - Predicted: 1 Actual: 2 [ 0.389 0.497 0.026 0.003 0.017 0.026 0.043 ]\n",
        "12 - Predicted: 1 Actual: 0 [ 0.284 0.454 0.183 0.013 0.013 0.044 0.009 ]\n",
        "13 - Predicted: 1 Actual: 1 [ 0.389 0.497 0.026 0.003 0.017 0.026 0.043 ]\n",
        "14 - Predicted: 1 Actual: 0 [ 0.389 0.497 0.026 0.003 0.017 0.026 0.043 ]\n",
        "15 - Predicted: 1 Actual: 1 [ 0.389 0.497 0.026 0.003 0.017 0.026 0.043 ]\n",
        "16 - Predicted: 1 Actual: 0 [ 0.389 0.497 0.026 0.003 0.017 0.026 0.043 ]\n",
        "17 - Predicted: 1 Actual: 1 [ 0.389 0.497 0.026 0.003 0.017 0.026 0.043 ]\n",
        "18 - Predicted: 1 Actual: 1 [ 0.389 0.497 0.026 0.003 0.017 0.026 0.043 ]\n",
        "19 - Predicted: 1 Actual: 0 [ 0.284 0.454 0.183 0.013 0.013 0.044 0.009 ]\n",
        "20"
       ]
      },
      {
       "output_type": "stream",
       "stream": "stdout",
       "text": [
        " - Predicted: 1 Actual: 1 [ 0.403 0.497 0.024 0.005 0.017 0.009 0.045 ]\n",
        "21 - Predicted: 1 Actual: 1 [ 0.403 0.497 0.024 0.005 0.017 0.009 0.045 ]\n",
        "22 - Predicted: 1 Actual: 0 [ 0.150 0.456 0.244 0.006 0.017 0.128 0.000 ]\n",
        "23 - Predicted: 1 Actual: 0 [ 0.403 0.497 0.024 0.005 0.017 0.009 0.045 ]\n",
        "24 - Predicted: 1 Actual: 1 [ 0.403 0.497 0.024 0.005 0.017 0.009 0.045 ]\n",
        "25 - Predicted: 1 Actual: 0 [ 0.403 0.497 0.024 0.005 0.017 0.009 0.045 ]\n",
        "26 - Predicted: 0 Actual: 0 [ 0.525 0.458 0.000 0.000 0.000 0.000 0.017 ]\n",
        "27 - Predicted: 1 Actual: 1 [ 0.403 0.497 0.024 0.005 0.017 0.009 0.045 ]\n",
        "28 - Predicted: 1 Actual: 2 [ 0.403 0.497 0.024 0.005 0.017 0.009 0.045 ]\n",
        "29 - Predicted: 1 Actual: 1 [ 0.403 0.497 0.024 0.005 0.017 0.009 0.045 ]\n",
        "30"
       ]
      },
      {
       "output_type": "stream",
       "stream": "stdout",
       "text": [
        " - Predicted: 1 Actual: 1 [ 0.422 0.529 0.004 0.000 0.000 0.004 0.040 ]\n",
        "31 - Predicted: 1 Actual: 0 [ 0.359 0.641 0.000 0.000 0.000 0.000 0.000 ]\n",
        "32 - Predicted: 1 Actual: 2 [ 0.404 0.463 0.053 0.004 0.018 0.015 0.042 ]\n",
        "33 - Predicted: 1 Actual: 1 [ 0.422 0.529 0.004 0.000 0.000 0.004 0.040 ]\n",
        "34 - Predicted: 1 Actual: 0 [ 0.404 0.463 0.053 0.004 0.018 0.015 0.042 ]\n",
        "35 - Predicted: 1 Actual: 1 [ 0.404 0.463 0.053 0.004 0.018 0.015 0.042 ]\n",
        "36 - Predicted: 1 Actual: 1 [ 0.404 0.463 0.053 0.004 0.018 0.015 0.042 ]\n",
        "37 - Predicted: 1 Actual: 0 [ 0.422 0.529 0.004 0.000 0.000 0.004 0.040 ]\n",
        "38 - Predicted: 1 Actual: 0 [ 0.404 0.463 0.053 0.004 0.018 0.015 0.042 ]\n",
        "39 - Predicted: 1 Actual: 1 [ 0.404 0.463 0.053 0.004 0.018 0.015 0.042 ]\n",
        "40"
       ]
      },
      {
       "output_type": "stream",
       "stream": "stdout",
       "text": [
        " - Predicted: 1 Actual: 1 [ 0.404 0.486 0.046 0.004 0.018 0.012 0.030 ]\n",
        "41 - Predicted: 1 Actual: 0 [ 0.404 0.486 0.046 0.004 0.018 0.012 0.030 ]\n",
        "42 - Predicted: 1 Actual: 1 [ 0.404 0.486 0.046 0.004 0.018 0.012 0.030 ]\n",
        "43 - Predicted: 1 Actual: 1 [ 0.398 0.551 0.000 0.000 0.000 0.000 0.051 ]\n",
        "44 - Predicted: 1 Actual: 1 [ 0.404 0.486 0.046 0.004 0.018 0.012 0.030 ]\n",
        "45 - Predicted: 1 Actual: 0 [ 0.415 0.463 0.000 0.000 0.000 0.000 0.122 ]\n",
        "46 - Predicted: 1 Actual: 0 [ 0.404 0.486 0.046 0.004 0.018 0.012 0.030 ]\n",
        "47 - Predicted: 1 Actual: 1 [ 0.404 0.486 0.046 0.004 0.018 0.012 0.030 ]\n",
        "48 - Predicted: 2 Actual: 2 [ 0.011 0.318 0.386 0.034 0.011 0.239 0.000 ]\n",
        "49 - Predicted: 1 Actual: 0 [ 0.404 0.486 0.046 0.004 0.018 0.012 0.030 ]\n",
        "50"
       ]
      },
      {
       "output_type": "stream",
       "stream": "stdout",
       "text": [
        " - Predicted: 0 Actual: 1 [ 0.600 0.350 0.000 0.000 0.050 0.000 0.000 ]\n",
        "51 - Predicted: 0 Actual: 1 [ 0.500 0.500 0.000 0.000 0.000 0.000 0.000 ]\n",
        "52 - Predicted: 1 Actual: 0 [ 0.390 0.494 0.035 0.005 0.014 0.019 0.043 ]\n",
        "53 - Predicted: 1 Actual: 1 [ 0.390 0.494 0.035 0.005 0.014 0.019 0.043 ]\n",
        "54 - Predicted: 1 Actual: 1 [ 0.390 0.494 0.035 0.005 0.014 0.019 0.043 ]\n",
        "55 - Predicted: 0 Actual: 1 [ 0.556 0.444 0.000 0.000 0.000 0.000 0.000 ]\n",
        "56 - Predicted: 1 Actual: 0 [ 0.390 0.494 0.035 0.005 0.014 0.019 0.043 ]\n",
        "57 - Predicted: 1 Actual: 2 [ 0.000 0.441 0.333 0.020 0.029 0.176 0.000 ]\n",
        "58 - Predicted: 1 Actual: 0 [ 0.390 0.494 0.035 0.005 0.014 0.019 0.043 ]\n",
        "59 - Predicted: 0 Actual: 0 [ 0.600 0.350 0.000 0.000 0.050 0.000 0.000 ]\n",
        "60"
       ]
      },
      {
       "output_type": "stream",
       "stream": "stdout",
       "text": [
        " - Predicted: 2 Actual: 2 [ 0.015 0.279 0.456 0.029 0.029 0.191 0.000 ]\n",
        "61 - Predicted: 1 Actual: 0 [ 0.401 0.487 0.038 0.000 0.016 0.022 0.035 ]\n",
        "62 - Predicted: 1 Actual: 1 [ 0.401 0.487 0.038 0.000 0.016 0.022 0.035 ]\n",
        "63 - Predicted: 1 Actual: 0 [ 0.461 0.475 0.000 0.000 0.007 0.000 0.057 ]\n",
        "64 - Predicted: 1 Actual: 1 [ 0.461 0.475 0.000 0.000 0.007 0.000 0.057 ]\n",
        "65 - Predicted: 0 Actual: 1 [ 0.625 0.375 0.000 0.000 0.000 0.000 0.000 ]\n",
        "66 - Predicted: 1 Actual: 1 [ 0.401 0.487 0.038 0.000 0.016 0.022 0.035 ]\n",
        "67 - Predicted: 1 Actual: 0 [ 0.401 0.487 0.038 0.000 0.016 0.022 0.035 ]\n",
        "68 - Predicted: 1 Actual: 0 [ 0.401 0.487 0.038 0.000 0.016 0.022 0.035 ]\n",
        "69 - Predicted: 1 Actual: 1 [ 0.240 0.720 0.000 0.000 0.000 0.000 0.040 ]\n",
        "70"
       ]
      },
      {
       "output_type": "stream",
       "stream": "stdout",
       "text": [
        " - Predicted: 1 Actual: 1 [ 0.439 0.452 0.047 0.000 0.017 0.023 0.023 ]\n",
        "71 - Predicted: 1 Actual: 1 [ 0.439 0.452 0.047 0.000 0.017 0.023 0.023 ]\n",
        "72 - Predicted: 1 Actual: 0 [ 0.167 0.444 0.000 0.000 0.000 0.000 0.389 ]\n",
        "73 - Predicted: 1 Actual: 0 [ 0.439 0.452 0.047 0.000 0.017 0.023 0.023 ]\n",
        "74 - Predicted: 1 Actual: 0 [ 0.439 0.452 0.047 0.000 0.017 0.023 0.023 ]\n",
        "75 - Predicted: 0 Actual: 1 [ 0.800 0.133 0.000 0.000 0.000 0.067 0.000 ]\n",
        "76 - Predicted: 1 Actual: 1 [ 0.200 0.700 0.000 0.000 0.000 0.000 0.100 ]\n",
        "77 - Predicted: 1 Actual: 1 [ 0.000 0.500 0.000 0.000 0.000 0.000 0.500 ]\n",
        "78 - Predicted: 1 Actual: 0 [ 0.439 0.452 0.047 0.000 0.017 0.023 0.023 ]\n",
        "79 - Predicted: 1 Actual: 2 [ 0.012 0.393 0.345 0.036 0.024 0.190 0.000 ]\n",
        "80"
       ]
      },
      {
       "output_type": "stream",
       "stream": "stdout",
       "text": [
        " - Predicted: 1 Actual: 0 [ 0.357 0.545 0.041 0.002 0.017 0.036 0.002 ]\n",
        "81 - Predicted: 1 Actual: 0 [ 0.357 0.545 0.041 0.002 0.017 0.036 0.002 ]\n",
        "82 - Predicted: 1 Actual: 1 [ 0.357 0.545 0.041 0.002 0.017 0.036 0.002 ]\n",
        "83 - Predicted: 1 Actual: 1 [ 0.357 0.545 0.041 0.002 0.017 0.036 0.002 ]\n",
        "84 - Predicted: 1 Actual: 0 [ 0.357 0.545 0.041 0.002 0.017 0.036 0.002 ]\n",
        "85 - Predicted: 1 Actual: 0 [ 0.357 0.545 0.041 0.002 0.017 0.036 0.002 ]\n",
        "86 - Predicted: 1 Actual: 1 [ 0.413 0.514 0.000 0.000 0.000 0.000 0.072 ]\n",
        "87 - Predicted: 2 Actual: 2 [ 0.032 0.238 0.460 0.032 0.016 0.222 0.000 ]\n",
        "88 - Predicted: 1 Actual: 1 [ 0.357 0.545 0.041 0.002 0.017 0.036 0.002 ]\n",
        "89 - Predicted: 1 Actual: 1 [ 0.357 0.545 0.041 0.002 0.017 0.036 0.002 ]\n",
        "90"
       ]
      },
      {
       "output_type": "stream",
       "stream": "stdout",
       "text": [
        " - Predicted: 0 Actual: 1 [ 0.535 0.416 0.000 0.000 0.000 0.000 0.050 ]\n",
        "91 - Predicted: 2 Actual: 2 [ 0.000 0.000 0.833 0.000 0.000 0.167 0.000 ]\n",
        "92 - Predicted: 0 Actual: 0 [ 0.739 0.101 0.000 0.000 0.000 0.000 0.159 ]\n",
        "93 - Predicted: 1 Actual: 1 [ 0.322 0.599 0.044 0.000 0.020 0.011 0.004 ]\n",
        "94 - Predicted: 0 Actual: 0 [ 0.739 0.101 0.000 0.000 0.000 0.000 0.159 ]\n",
        "95 - Predicted: 0 Actual: 0 [ 0.786 0.214 0.000 0.000 0.000 0.000 0.000 ]\n",
        "96 - Predicted: 0 Actual: 0 [ 0.714 0.286 0.000 0.000 0.000 0.000 0.000 ]\n",
        "97 - Predicted: 1 Actual: 1 [ 0.322 0.599 0.044 0.000 0.020 0.011 0.004 ]\n",
        "98 - Predicted: 1 Actual: 1 [ 0.322 0.599 0.044 0.000 0.020 0.011 0.004 ]\n",
        "99 - Predicted: 1 Actual: 1 [ 0.322 0.599 0.044 0.000 0.020 0.011 0.004 ]\n",
        "100"
       ]
      },
      {
       "output_type": "stream",
       "stream": "stdout",
       "text": [
        " - Predicted: 2 Actual: 2 [ 0.000 0.348 0.413 0.087 0.043 0.109 0.000 ]\n",
        "101 - Predicted: 1 Actual: 1 [ 0.361 0.552 0.034 0.000 0.028 0.022 0.003 ]\n",
        "102 - Predicted: 1 Actual: 0 [ 0.431 0.554 0.000 0.000 0.015 0.000 0.000 ]\n",
        "103 - Predicted: 1 Actual: 0 [ 0.333 0.667 0.000 0.000 0.000 0.000 0.000 ]\n",
        "104 - Predicted: 0 Actual: 0 [ 0.710 0.072 0.000 0.000 0.000 0.000 0.217 ]\n",
        "105 - Predicted: 1 Actual: 1 [ 0.361 0.552 0.034 0.000 0.028 0.022 0.003 ]\n",
        "106 - Predicted: 1 Actual: 0 [ 0.361 0.552 0.034 0.000 0.028 0.022 0.003 ]\n",
        "107 - Predicted: 1 Actual: 1 [ 0.361 0.552 0.034 0.000 0.028 0.022 0.003 ]\n",
        "108 - Predicted: 1 Actual: 1 [ 0.048 0.952 0.000 0.000 0.000 0.000 0.000 ]\n",
        "109 - Predicted: 0 Actual: 1 [ 0.496 0.462 0.000 0.000 0.000 0.000 0.042 ]\n",
        "110"
       ]
      },
      {
       "output_type": "stream",
       "stream": "stdout",
       "text": [
        " - Predicted: 1 Actual: 1 [ 0.327 0.655 0.000 0.000 0.000 0.018 0.000 ]\n",
        "111 - Predicted: 2 Actual: 2 [ 0.000 0.324 0.405 0.027 0.027 0.216 0.000 ]\n",
        "112 - Predicted: 2 Actual: 1 [ 0.000 0.324 0.405 0.027 0.027 0.216 0.000 ]\n",
        "113 - Predicted: 1 Actual: 0 [ 0.200 0.600 0.000 0.000 0.200 0.000 0.000 ]\n",
        "114 - Predicted: 1 Actual: 1 [ 0.275 0.661 0.026 0.000 0.016 0.016 0.005 ]\n",
        "115 - Predicted: 0 Actual: 0 [ 0.640 0.320 0.000 0.000 0.000 0.000 0.040 ]\n",
        "116 - Predicted: 0 Actual: 0 [ 0.500 0.500 0.000 0.000 0.000 0.000 0.000 ]\n",
        "117 - Predicted: 1 Actual: 1 [ 0.000 0.333 0.333 0.000 0.333 0.000 0.000 ]\n",
        "118 - Predicted: 1 Actual: 1 [ 0.050 0.950 0.000 0.000 0.000 0.000 0.000 ]\n",
        "119 - Predicted: 1 Actual: 0 [ 0.314 0.600 0.043 0.000 0.016 0.016 0.011 ]\n",
        "120"
       ]
      },
      {
       "output_type": "stream",
       "stream": "stdout",
       "text": [
        " - Predicted: 1 Actual: 0 [ 0.400 0.600 0.000 0.000 0.000 0.000 0.000 ]\n",
        "121 - Predicted: 4 Actual: 1 [ 0.000 0.250 0.000 0.000 0.750 0.000 0.000 ]\n",
        "122 - Predicted: 0 Actual: 0 [ 0.879 0.091 0.000 0.000 0.000 0.000 0.030 ]\n",
        "123 - Predicted: 2 Actual: 2 [ 0.000 0.000 0.850 0.000 0.000 0.150 0.000 ]\n",
        "124 - Predicted: 0 Actual: 1 [ 0.595 0.405 0.000 0.000 0.000 0.000 0.000 ]\n",
        "125 - Predicted: 0 Actual: 0 [ 0.833 0.167 0.000 0.000 0.000 0.000 0.000 ]\n",
        "126 - Predicted: 1 Actual: 1 [ 0.250 0.727 0.000 0.000 0.000 0.023 0.000 ]\n",
        "127 - Predicted: 1 Actual: 1 [ 0.200 0.800 0.000 0.000 0.000 0.000 0.000 ]\n",
        "128 - Predicted: 1 Actual: 1 [ 0.250 0.727 0.000 0.000 0.000 0.023 0.000 ]\n",
        "129 - Predicted: 1 Actual: 0 [ 0.400 0.600 0.000 0.000 0.000 0.000 0.000 ]\n",
        "130"
       ]
      },
      {
       "output_type": "stream",
       "stream": "stdout",
       "text": [
        " - Predicted: 2 Actual: 2 [ 0.000 0.000 0.750 0.000 0.000 0.250 0.000 ]\n",
        "131 - Predicted: 1 Actual: 0 [ 0.436 0.515 0.010 0.000 0.020 0.020 0.000 ]\n",
        "132 - Predicted: 0 Actual: 0 [ 0.500 0.500 0.000 0.000 0.000 0.000 0.000 ]\n",
        "133 - Predicted: 0 Actual: 1 [ 0.500 0.500 0.000 0.000 0.000 0.000 0.000 ]\n",
        "134 - Predicted: 1 Actual: 1 [ 0.477 0.505 0.000 0.000 0.018 0.000 0.000 ]\n",
        "135 - Predicted: 2 Actual: 1 [ 0.000 0.423 0.500 0.000 0.000 0.077 0.000 ]\n",
        "136 - Predicted: 1 Actual: 1 [ 0.143 0.857 0.000 0.000 0.000 0.000 0.000 ]\n",
        "137 - Predicted: 0 Actual: 0 [ 0.672 0.116 0.000 0.000 0.000 0.000 0.212 ]\n",
        "138 - Predicted: 1 Actual: 1 [ 0.477 0.505 0.000 0.000 0.018 0.000 0.000 ]\n",
        "139 - Predicted: 0 Actual: 0 [ 0.632 0.132 0.000 0.000 0.000 0.000 0.237 ]\n",
        "140"
       ]
      },
      {
       "output_type": "stream",
       "stream": "stdout",
       "text": [
        " - Predicted: 1 Actual: 0 [ 0.200 0.800 0.000 0.000 0.000 0.000 0.000 ]\n",
        "141 - Predicted: 1 Actual: 1 [ 0.436 0.515 0.010 0.000 0.020 0.020 0.000 ]\n",
        "142 - Predicted: 1 Actual: 1 [ 0.167 0.405 0.286 0.000 0.000 0.143 0.000 ]\n",
        "143 - Predicted: 0 Actual: 0 [ 0.667 0.000 0.000 0.000 0.000 0.000 0.333 ]\n",
        "144 - Predicted: 1 Actual: 1 [ 0.373 0.627 0.000 0.000 0.000 0.000 0.000 ]\n",
        "145 - Predicted: 3 Actual: 2 [ 0.000 0.000 0.000 0.750 0.000 0.250 0.000 ]\n",
        "146 - Predicted: 1 Actual: 0 [ 0.167 0.833 0.000 0.000 0.000 0.000 0.000 ]\n",
        "147 - Predicted: 1 Actual: 1 [ 0.000 0.333 0.333 0.000 0.000 0.333 0.000 ]\n",
        "148 - Predicted: 0 Actual: 0 [ 0.900 0.100 0.000 0.000 0.000 0.000 0.000 ]\n",
        "149 - Predicted: 1 Actual: 1 [ 0.465 0.488 0.023 0.000 0.023 0.000 0.000 ]\n",
        "150"
       ]
      },
      {
       "output_type": "stream",
       "stream": "stdout",
       "text": [
        " - Predicted: 0 Actual: 0 [ 0.527 0.473 0.000 0.000 0.000 0.000 0.000 ]\n",
        "151 - Predicted: 2 Actual: 2 [ 0.000 0.000 0.750 0.000 0.000 0.250 0.000 ]\n",
        "152 - Predicted: 1 Actual: 0 [ 0.406 0.481 0.040 0.002 0.016 0.022 0.032 ]\n",
        "153 - Predicted: 1 Actual: 0 [ 0.406 0.481 0.040 0.002 0.016 0.022 0.032 ]\n",
        "154 - Predicted: 0 Actual: 0 [ 0.527 0.473 0.000 0.000 0.000 0.000 0.000 ]\n",
        "155 - Predicted: 1 Actual: 1 [ 0.188 0.771 0.021 0.000 0.000 0.000 0.021 ]\n",
        "156 - Predicted: 1 Actual: 1 [ 0.125 0.625 0.000 0.000 0.250 0.000 0.000 ]\n",
        "157 - Predicted: 1 Actual: 1 [ 0.375 0.625 0.000 0.000 0.000 0.000 0.000 ]\n",
        "158 - Predicted: 1 Actual: 1 [ 0.333 0.667 0.000 0.000 0.000 0.000 0.000 ]\n",
        "159 - Predicted: 1 Actual: 1 [ 0.356 0.533 0.067 0.000 0.000 0.044 0.000 ]\n",
        "160"
       ]
      },
      {
       "output_type": "stream",
       "stream": "stdout",
       "text": [
        " - Predicted: 1 Actual: 0 [ 0.321 0.512 0.072 0.005 0.029 0.043 0.019 ]\n",
        "161 - Predicted: 1 Actual: 0 [ 0.321 0.512 0.072 0.005 0.029 0.043 0.019 ]\n",
        "162 - Predicted: 1 Actual: 1 [ 0.273 0.727 0.000 0.000 0.000 0.000 0.000 ]\n",
        "163 - Predicted: 1 Actual: 1 [ 0.000 0.750 0.250 0.000 0.000 0.000 0.000 ]\n",
        "164 - Predicted: 1 Actual: 1 [ 0.167 0.750 0.000 0.000 0.083 0.000 0.000 ]\n",
        "165 - Predicted: 1 Actual: 1 [ 0.321 0.512 0.072 0.005 0.029 0.043 0.019 ]\n",
        "166 - Predicted: 1 Actual: 0 [ 0.321 0.512 0.072 0.005 0.029 0.043 0.019 ]\n",
        "167 - Predicted: 1 Actual: 1 [ 0.357 0.643 0.000 0.000 0.000 0.000 0.000 ]\n",
        "168 - Predicted: 2 Actual: 2 [ 0.143 0.286 0.429 0.000 0.000 0.143 0.000 ]\n",
        "169 - Predicted: 0 Actual: 0 [ 0.500 0.500 0.000 0.000 0.000 0.000 0.000 ]\n",
        "170"
       ]
      },
      {
       "output_type": "stream",
       "stream": "stdout",
       "text": [
        " - Predicted: 1 Actual: 1 [ 0.362 0.425 0.057 0.000 0.023 0.075 0.057 ]\n",
        "171 - Predicted: 1 Actual: 0 [ 0.424 0.545 0.000 0.000 0.000 0.030 0.000 ]\n",
        "172 - Predicted: 1 Actual: 1 [ 0.043 0.826 0.087 0.000 0.000 0.043 0.000 ]\n",
        "173 - Predicted: 1 Actual: 2 [ 0.362 0.425 0.057 0.000 0.023 0.075 0.057 ]\n",
        "174 - Predicted: 1 Actual: 0 [ 0.152 0.630 0.065 0.043 0.065 0.043 0.000 ]\n",
        "175 - Predicted: 1 Actual: 0 [ 0.362 0.425 0.057 0.000 0.023 0.075 0.057 ]\n",
        "176 - Predicted: 1 Actual: 1 [ 0.362 0.425 0.057 0.000 0.023 0.075 0.057 ]\n",
        "177 - Predicted: 1 Actual: 1 [ 0.143 0.857 0.000 0.000 0.000 0.000 0.000 ]\n",
        "178 - Predicted: 1 Actual: 1 [ 0.362 0.425 0.057 0.000 0.023 0.075 0.057 ]\n",
        "179 - Predicted: 1 Actual: 0 [ 0.362 0.425 0.057 0.000 0.023 0.075 0.057 ]\n",
        "180"
       ]
      },
      {
       "output_type": "stream",
       "stream": "stdout",
       "text": [
        " - Predicted: 1 Actual: 0 [ 0.333 0.667 0.000 0.000 0.000 0.000 0.000 ]\n",
        "181 - Predicted: 0 Actual: 0 [ 0.750 0.000 0.000 0.000 0.000 0.000 0.250 ]\n",
        "182 - Predicted: 1 Actual: 1 [ 0.342 0.480 0.072 0.000 0.026 0.059 0.020 ]\n",
        "183 - Predicted: 1 Actual: 0 [ 0.424 0.485 0.000 0.000 0.061 0.000 0.030 ]\n",
        "184 - Predicted: 1 Actual: 1 [ 0.258 0.742 0.000 0.000 0.000 0.000 0.000 ]\n",
        "185 - Predicted: 0 Actual: 1 [ 0.500 0.500 0.000 0.000 0.000 0.000 0.000 ]\n",
        "186 - Predicted: 2 Actual: 2 [ 0.000 0.000 0.750 0.000 0.000 0.250 0.000 ]\n",
        "187 - Predicted: 1 Actual: 1 [ 0.364 0.636 0.000 0.000 0.000 0.000 0.000 ]\n",
        "188 - Predicted: 0 Actual: 0 [ 0.676 0.105 0.000 0.000 0.000 0.000 0.219 ]\n",
        "189 - Predicted: 1 Actual: 1 [ 0.342 0.480 0.072 0.000 0.026 0.059 0.020 ]\n",
        "190"
       ]
      },
      {
       "output_type": "stream",
       "stream": "stdout",
       "text": [
        " - Predicted: 1 Actual: 0 [ 0.353 0.588 0.000 0.000 0.000 0.059 0.000 ]\n",
        "191 - Predicted: 0 Actual: 1 [ 0.667 0.333 0.000 0.000 0.000 0.000 0.000 ]\n",
        "192 - Predicted: 1 Actual: 0 [ 0.353 0.588 0.000 0.000 0.000 0.059 0.000 ]\n",
        "193 - Predicted: 1 Actual: 1 [ 0.308 0.692 0.000 0.000 0.000 0.000 0.000 ]\n",
        "194 - Predicted: 1 Actual: 0 [ 0.381 0.476 0.000 0.000 0.000 0.000 0.143 ]\n",
        "195 - Predicted: 0 Actual: 0 [ 0.513 0.410 0.000 0.000 0.000 0.000 0.077 ]\n",
        "196 - Predicted: 1 Actual: 1 [ 0.353 0.588 0.000 0.000 0.000 0.059 0.000 ]\n",
        "197 - Predicted: 1 Actual: 1 [ 0.143 0.857 0.000 0.000 0.000 0.000 0.000 ]\n",
        "198 - Predicted: 1 Actual: 1 [ 0.350 0.600 0.000 0.000 0.050 0.000 0.000 ]\n",
        "199 - Predicted: 1 Actual: 2 [ 0.103 0.564 0.128 0.000 0.051 0.128 0.026 ]\n",
        "200"
       ]
      },
      {
       "output_type": "stream",
       "stream": "stdout",
       "text": [
        " - Predicted: 0 Actual: 1 [ 0.502 0.435 0.001 0.000 0.000 0.000 0.062 ]\n",
        "201 - Predicted: 1 Actual: 1 [ 0.000 0.667 0.333 0.000 0.000 0.000 0.000 ]\n",
        "202 - Predicted: 0 Actual: 0 [ 0.500 0.500 0.000 0.000 0.000 0.000 0.000 ]\n",
        "203 - Predicted: 1 Actual: 1 [ 0.348 0.522 0.043 0.000 0.033 0.033 0.022 ]\n",
        "204 - Predicted: 1 Actual: 1 [ 0.308 0.615 0.000 0.000 0.077 0.000 0.000 ]\n",
        "205 - Predicted: 0 Actual: 0 [ 0.500 0.385 0.000 0.000 0.000 0.000 0.115 ]\n",
        "206 - Predicted: 0 Actual: 0 [ 0.529 0.471 0.000 0.000 0.000 0.000 0.000 ]\n",
        "207 - Predicted: 0 Actual: 0 [ 0.571 0.429 0.000 0.000 0.000 0.000 0.000 ]\n",
        "208 - Predicted: 1 Actual: 2 [ 0.348 0.522 0.043 0.000 0.033 0.033 0.022 ]\n",
        "209 - Predicted: 1 Actual: 1 [ 0.136 0.591 0.045 0.000 0.000 0.182 0.045 ]\n",
        "210"
       ]
      },
      {
       "output_type": "stream",
       "stream": "stdout",
       "text": [
        " - Predicted: 0 Actual: 1 [ 0.512 0.488 0.000 0.000 0.000 0.000 0.000 ]\n",
        "211 - Predicted: 0 Actual: 0 [ 0.667 0.333 0.000 0.000 0.000 0.000 0.000 ]\n",
        "212 - Predicted: 0 Actual: 0 [ 0.973 0.027 0.000 0.000 0.000 0.000 0.000 ]\n",
        "213 - Predicted: 0 Actual: 0 [ 0.533 0.467 0.000 0.000 0.000 0.000 0.000 ]\n",
        "214 - Predicted: 1 Actual: 1 [ 0.333 0.667 0.000 0.000 0.000 0.000 0.000 ]\n",
        "215 - Predicted: 1 Actual: 1 [ 0.100 0.500 0.050 0.000 0.100 0.250 0.000 ]\n",
        "216 - Predicted: 1 Actual: 1 [ 0.200 0.800 0.000 0.000 0.000 0.000 0.000 ]\n",
        "217 - Predicted: 1 Actual: 2 [ 0.000 0.600 0.000 0.000 0.200 0.000 0.200 ]\n",
        "218 - Predicted: 1 Actual: 1 [ 0.111 0.889 0.000 0.000 0.000 0.000 0.000 ]\n",
        "219 - Predicted: 0 Actual: 0 [ 0.500 0.500 0.000 0.000 0.000 0.000 0.000 ]\n",
        "220"
       ]
      },
      {
       "output_type": "stream",
       "stream": "stdout",
       "text": [
        " - Predicted: 1 Actual: 1 [ 0.191 0.809 0.000 0.000 0.000 0.000 0.000 ]\n",
        "221 - Predicted: 2 Actual: 1 [ 0.000 0.429 0.571 0.000 0.000 0.000 0.000 ]\n",
        "222 - Predicted: 0 Actual: 1 [ 0.727 0.273 0.000 0.000 0.000 0.000 0.000 ]\n",
        "223 - Predicted: 1 Actual: 0 [ 0.269 0.513 0.128 0.000 0.013 0.026 0.051 ]\n",
        "224 - Predicted: 1 Actual: 1 [ 0.364 0.409 0.182 0.000 0.000 0.045 0.000 ]\n",
        "225 - Predicted: 2 Actual: 2 [ 0.000 0.250 0.750 0.000 0.000 0.000 0.000 ]\n",
        "226 - Predicted: 1 Actual: 1 [ 0.269 0.513 0.128 0.000 0.013 0.026 0.051 ]\n",
        "227 - Predicted: 0 Actual: 0 [ 0.700 0.300 0.000 0.000 0.000 0.000 0.000 ]\n",
        "228 - Predicted: 0 Actual: 0 [ 0.490 0.457 0.000 0.000 0.000 0.000 0.053 ]\n",
        "229 - Predicted: 1 Actual: 0 [ 0.440 0.474 0.000 0.000 0.086 0.000 0.000 ]\n",
        "230"
       ]
      },
      {
       "output_type": "stream",
       "stream": "stdout",
       "text": [
        " - Predicted: 1 Actual: 0 [ 0.412 0.485 0.029 0.000 0.029 0.000 0.044 ]\n",
        "231 - Predicted: 0 Actual: 0 [ 0.631 0.330 0.000 0.000 0.000 0.000 0.039 ]\n",
        "232 - Predicted: 0 Actual: 1 [ 0.500 0.000 0.500 0.000 0.000 0.000 0.000 ]\n",
        "233 - Predicted: 0 Actual: 1 [ 0.500 0.500 0.000 0.000 0.000 0.000 0.000 ]\n",
        "234 - Predicted: 1 Actual: 0 [ 0.412 0.485 0.029 0.000 0.029 0.000 0.044 ]\n",
        "235 - Predicted: 0 Actual: 1 [ 0.667 0.333 0.000 0.000 0.000 0.000 0.000 ]\n",
        "236 - Predicted: 1 Actual: 1 [ 0.143 0.857 0.000 0.000 0.000 0.000 0.000 ]\n",
        "237 - Predicted: 1 Actual: 1 [ 0.417 0.583 0.000 0.000 0.000 0.000 0.000 ]\n",
        "238 - Predicted: 1 Actual: 0 [ 0.125 0.875 0.000 0.000 0.000 0.000 0.000 ]\n",
        "239 - Predicted: 2 Actual: 2 [ 0.000 0.333 0.667 0.000 0.000 0.000 0.000 ]\n",
        "240"
       ]
      },
      {
       "output_type": "stream",
       "stream": "stdout",
       "text": [
        " - Predicted: 0 Actual: 0 [ 0.667 0.333 0.000 0.000 0.000 0.000 0.000 ]\n",
        "241 - Predicted: 0 Actual: 0 [ 0.778 0.222 0.000 0.000 0.000 0.000 0.000 ]\n",
        "242 - Predicted: 1 Actual: 1 [ 0.239 0.761 0.000 0.000 0.000 0.000 0.000 ]\n",
        "243 - Predicted: 0 Actual: 0 [ 0.980 0.020 0.000 0.000 0.000 0.000 0.000 ]\n",
        "244 - Predicted: 1 Actual: 1 [ 0.077 0.923 0.000 0.000 0.000 0.000 0.000 ]\n",
        "245 - Predicted: 0 Actual: 1 [ 0.500 0.500 0.000 0.000 0.000 0.000 0.000 ]\n",
        "246 - Predicted: 1 Actual: 2 [ 0.000 0.800 0.200 0.000 0.000 0.000 0.000 ]\n",
        "247 - Predicted: 1 Actual: 1 [ 0.077 0.923 0.000 0.000 0.000 0.000 0.000 ]\n",
        "248 - Predicted: 0 Actual: 0 [ 0.556 0.444 0.000 0.000 0.000 0.000 0.000 ]\n",
        "249 - Predicted: 1 Actual: 1 [ 0.333 0.500 0.000 0.000 0.167 0.000 0.000 ]\n",
        "250"
       ]
      },
      {
       "output_type": "stream",
       "stream": "stdout",
       "text": [
        " - Predicted: 1 Actual: 0 [ 0.182 0.818 0.000 0.000 0.000 0.000 0.000 ]\n",
        "251 - Predicted: 1 Actual: 1 [ 0.222 0.722 0.056 0.000 0.000 0.000 0.000 ]\n",
        "252 - Predicted: 0 Actual: 0 [ 0.579 0.421 0.000 0.000 0.000 0.000 0.000 ]\n",
        "253 - Predicted: 0 Actual: 1 [ 0.857 0.143 0.000 0.000 0.000 0.000 0.000 ]\n",
        "254 - Predicted: 0 Actual: 0 [ 0.857 0.143 0.000 0.000 0.000 0.000 0.000 ]\n",
        "255 - Predicted: 0 Actual: 1 [ 0.833 0.139 0.000 0.000 0.000 0.000 0.028 ]\n",
        "256 - Predicted: 0 Actual: 1 [ 0.500 0.500 0.000 0.000 0.000 0.000 0.000 ]\n",
        "257 - Predicted: 1 Actual: 2 [ 0.034 0.506 0.195 0.011 0.000 0.253 0.000 ]\n",
        "258 - Predicted: 0 Actual: 1 [ 0.833 0.167 0.000 0.000 0.000 0.000 0.000 ]\n",
        "259 - Predicted: 1 Actual: 0 [ 0.222 0.722 0.056 0.000 0.000 0.000 0.000 ]\n",
        "260"
       ]
      },
      {
       "output_type": "stream",
       "stream": "stdout",
       "text": [
        " - Predicted: 0 Actual: 0 [ 0.735 0.265 0.000 0.000 0.000 0.000 0.000 ]\n",
        "261 - Predicted: 1 Actual: 1 [ 0.000 0.500 0.000 0.000 0.000 0.500 0.000 ]\n",
        "262 - Predicted: 1 Actual: 1 [ 0.000 0.667 0.000 0.333 0.000 0.000 0.000 ]\n",
        "263 - Predicted: 0 Actual: 0 [ 0.688 0.312 0.000 0.000 0.000 0.000 0.000 ]\n",
        "264 - Predicted: 0 Actual: 0 [ 0.550 0.100 0.000 0.000 0.000 0.000 0.350 ]\n",
        "265 - Predicted: 1 Actual: 0 [ 0.133 0.600 0.067 0.000 0.000 0.000 0.200 ]\n",
        "266 - Predicted: 1 Actual: 1 [ 0.217 0.783 0.000 0.000 0.000 0.000 0.000 ]\n",
        "267 - Predicted: 1 Actual: 2 [ 0.163 0.726 0.055 0.002 0.024 0.030 0.000 ]\n",
        "268 - Predicted: 1 Actual: 1 [ 0.172 0.724 0.034 0.000 0.069 0.000 0.000 ]\n",
        "269 - Predicted: 0 Actual: 1 [ 0.500 0.500 0.000 0.000 0.000 0.000 0.000 ]\n",
        "270"
       ]
      },
      {
       "output_type": "stream",
       "stream": "stdout",
       "text": [
        " - Predicted: 0 Actual: 0 [ 0.556 0.444 0.000 0.000 0.000 0.000 0.000 ]\n",
        "271 - Predicted: 1 Actual: 1 [ 0.333 0.667 0.000 0.000 0.000 0.000 0.000 ]\n",
        "272 - Predicted: 1 Actual: 1 [ 0.333 0.667 0.000 0.000 0.000 0.000 0.000 ]\n",
        "273 - Predicted: 0 Actual: 0 [ 0.667 0.333 0.000 0.000 0.000 0.000 0.000 ]\n",
        "274 - Predicted: 1 Actual: 0 [ 0.393 0.596 0.000 0.000 0.011 0.000 0.000 ]\n",
        "275 - Predicted: 0 Actual: 1 [ 0.667 0.000 0.000 0.000 0.000 0.000 0.333 ]\n",
        "276 - Predicted: 1 Actual: 0 [ 0.333 0.667 0.000 0.000 0.000 0.000 0.000 ]\n",
        "277 - Predicted: 0 Actual: 1 [ 0.861 0.056 0.000 0.000 0.000 0.000 0.083 ]\n",
        "278 - Predicted: 1 Actual: 1 [ 0.025 0.975 0.000 0.000 0.000 0.000 0.000 ]\n",
        "279 - Predicted: 1 Actual: 2 [ 0.100 0.630 0.157 0.028 0.055 0.031 0.000 ]\n",
        "280"
       ]
      },
      {
       "output_type": "stream",
       "stream": "stdout",
       "text": [
        " - Predicted: 0 Actual: 0 [ 0.500 0.000 0.000 0.000 0.000 0.000 0.500 ]\n",
        "281 - Predicted: 5 Actual: 1 [ 0.000 0.333 0.167 0.000 0.000 0.500 0.000 ]\n",
        "282 - Predicted: 0 Actual: 0 [ 0.800 0.200 0.000 0.000 0.000 0.000 0.000 ]\n",
        "283 - Predicted: 1 Actual: 1 [ 0.000 0.857 0.000 0.000 0.000 0.143 0.000 ]\n",
        "284 - Predicted: 1 Actual: 1 [ 0.167 0.833 0.000 0.000 0.000 0.000 0.000 ]\n",
        "285 - Predicted: 1 Actual: 2 [ 0.082 0.434 0.184 0.051 0.000 0.250 0.000 ]\n",
        "286 - Predicted: 1 Actual: 1 [ 0.414 0.536 0.001 0.000 0.001 0.002 0.047 ]\n",
        "287 - Predicted: 0 Actual: 0 [ 0.833 0.125 0.000 0.000 0.000 0.000 0.042 ]\n",
        "288 - Predicted: 0 Actual: 0 [ 0.571 0.143 0.000 0.000 0.000 0.000 0.286 ]\n",
        "289 - Predicted: 1 Actual: 1 [ 0.308 0.692 0.000 0.000 0.000 0.000 0.000 ]\n",
        "290"
       ]
      },
      {
       "output_type": "stream",
       "stream": "stdout",
       "text": [
        " - Predicted: 1 Actual: 1 [ 0.333 0.667 0.000 0.000 0.000 0.000 0.000 ]\n",
        "291 - Predicted: 2 Actual: 2 [ 0.000 0.117 0.667 0.058 0.017 0.142 0.000 ]\n",
        "292 - Predicted: 1 Actual: 1 [ 0.000 0.600 0.400 0.000 0.000 0.000 0.000 ]\n",
        "293 - Predicted: 0 Actual: 0 [ 0.875 0.125 0.000 0.000 0.000 0.000 0.000 ]\n",
        "294 - Predicted: 0 Actual: 0 [ 0.391 0.391 0.174 0.000 0.000 0.000 0.043 ]\n",
        "295 - Predicted: 1 Actual: 1 [ 0.395 0.488 0.023 0.000 0.000 0.093 0.000 ]\n",
        "296 - Predicted: 1 Actual: 0 [ 0.333 0.667 0.000 0.000 0.000 0.000 0.000 ]\n",
        "297 - Predicted: 0 Actual: 0 [ 0.526 0.368 0.000 0.000 0.105 0.000 0.000 ]\n",
        "298 - Predicted: 1 Actual: 1 [ 0.133 0.733 0.000 0.000 0.067 0.067 0.000 ]\n",
        "299 - Predicted: 1 Actual: 1 [ 0.176 0.824 0.000 0.000 0.000 0.000 0.000 ]\n",
        "300"
       ]
      },
      {
       "output_type": "stream",
       "stream": "stdout",
       "text": [
        " - Predicted: 1 Actual: 1 [ 0.000 0.667 0.333 0.000 0.000 0.000 0.000 ]\n",
        "301 - Predicted: 2 Actual: 2 [ 0.100 0.100 0.400 0.000 0.000 0.400 0.000 ]\n",
        "302 - Predicted: 0 Actual: 1 [ 0.697 0.303 0.000 0.000 0.000 0.000 0.000 ]\n",
        "303 - Predicted: 0 Actual: 0 [ 0.722 0.167 0.000 0.000 0.000 0.000 0.111 ]\n",
        "304 - Predicted: 0 Actual: 1 [ 0.500 0.375 0.000 0.000 0.000 0.062 0.062 ]\n",
        "305 - Predicted: 0 Actual: 0 [ 0.857 0.000 0.000 0.000 0.000 0.000 0.143 ]\n",
        "306 - Predicted: 0 Actual: 0 [ 0.576 0.030 0.000 0.000 0.000 0.000 0.394 ]\n",
        "307 - Predicted: 1 Actual: 0 [ 0.167 0.667 0.000 0.000 0.000 0.167 0.000 ]\n",
        "308 - Predicted: 1 Actual: 1 [ 0.240 0.760 0.000 0.000 0.000 0.000 0.000 ]\n",
        "309 - Predicted: 1 Actual: 1 [ 0.125 0.875 0.000 0.000 0.000 0.000 0.000 ]\n",
        "310"
       ]
      },
      {
       "output_type": "stream",
       "stream": "stdout",
       "text": [
        " - Predicted: 0 Actual: 1 [ 0.667 0.333 0.000 0.000 0.000 0.000 0.000 ]\n",
        "311 - Predicted: 1 Actual: 1 [ 0.397 0.520 0.000 0.000 0.001 0.002 0.079 ]\n",
        "312 - Predicted: 0 Actual: 0 [ 0.750 0.250 0.000 0.000 0.000 0.000 0.000 ]\n",
        "313 - Predicted: 1 Actual: 1 [ 0.045 0.955 0.000 0.000 0.000 0.000 0.000 ]\n",
        "314 - Predicted: 1 Actual: 1 [ 0.286 0.714 0.000 0.000 0.000 0.000 0.000 ]\n",
        "315 - Predicted: 0 Actual: 0 [ 0.632 0.368 0.000 0.000 0.000 0.000 0.000 ]\n",
        "316 - Predicted: 0 Actual: 1 [ 0.500 0.500 0.000 0.000 0.000 0.000 0.000 ]\n",
        "317 - Predicted: 0 Actual: 0 [ 0.494 0.414 0.000 0.000 0.000 0.000 0.092 ]\n",
        "318 - Predicted: 2 Actual: 2 [ 0.000 0.250 0.750 0.000 0.000 0.000 0.000 ]\n",
        "319 - Predicted: 1 Actual: 0 [ 0.380 0.594 0.002 0.000 0.024 0.000 0.000 ]\n",
        "320"
       ]
      },
      {
       "output_type": "stream",
       "stream": "stdout",
       "text": [
        " - Predicted: 1 Actual: 1 [ 0.236 0.739 0.000 0.000 0.025 0.000 0.000 ]\n",
        "321 - Predicted: 1 Actual: 1 [ 0.036 0.964 0.000 0.000 0.000 0.000 0.000 ]\n",
        "322 - Predicted: 1 Actual: 2 [ 0.333 0.667 0.000 0.000 0.000 0.000 0.000 ]\n",
        "323 - Predicted: 1 Actual: 0 [ 0.222 0.770 0.007 0.000 0.000 0.000 0.000 ]\n",
        "324 - Predicted: 1 Actual: 1 [ 0.322 0.634 0.033 0.000 0.011 0.000 0.000 ]\n",
        "325 - Predicted: 1 Actual: 0 [ 0.143 0.857 0.000 0.000 0.000 0.000 0.000 ]\n",
        "326 - Predicted: 1 Actual: 0 [ 0.000 0.818 0.182 0.000 0.000 0.000 0.000 ]\n",
        "327 - Predicted: 1 Actual: 1 [ 0.000 0.750 0.000 0.000 0.250 0.000 0.000 ]\n",
        "328 - Predicted: 1 Actual: 1 [ 0.375 0.625 0.000 0.000 0.000 0.000 0.000 ]\n",
        "329 - Predicted: 0 Actual: 0 [ 0.724 0.241 0.000 0.000 0.000 0.000 0.034 ]\n",
        "330"
       ]
      },
      {
       "output_type": "stream",
       "stream": "stdout",
       "text": [
        " - Predicted: 1 Actual: 2 [ 0.000 0.429 0.286 0.000 0.000 0.286 0.000 ]\n",
        "331 - Predicted: 1 Actual: 1 [ 0.443 0.529 0.029 0.000 0.000 0.000 0.000 ]\n",
        "332 - Predicted: 1 Actual: 1 [ 0.143 0.714 0.000 0.000 0.143 0.000 0.000 ]\n",
        "333 - Predicted: 1 Actual: 1 [ 0.091 0.636 0.000 0.000 0.091 0.000 0.182 ]\n",
        "334 - Predicted: 1 Actual: 0 [ 0.408 0.510 0.000 0.000 0.000 0.041 0.041 ]\n",
        "335 - Predicted: 1 Actual: 1 [ 0.467 0.522 0.000 0.000 0.000 0.000 0.011 ]\n",
        "336 - Predicted: 1 Actual: 1 [ 0.333 0.667 0.000 0.000 0.000 0.000 0.000 ]\n",
        "337 - Predicted: 1 Actual: 0 [ 0.474 0.526 0.000 0.000 0.000 0.000 0.000 ]\n",
        "338 - Predicted: 1 Actual: 0 [ 0.429 0.571 0.000 0.000 0.000 0.000 0.000 ]\n",
        "339 - Predicted: 0 Actual: 0 [ 0.781 0.219 0.000 0.000 0.000 0.000 0.000 ]\n",
        "340"
       ]
      },
      {
       "output_type": "stream",
       "stream": "stdout",
       "text": [
        " - Predicted: 0 Actual: 1 [ 0.750 0.250 0.000 0.000 0.000 0.000 0.000 ]\n",
        "341 - Predicted: 1 Actual: 1 [ 0.176 0.824 0.000 0.000 0.000 0.000 0.000 ]\n",
        "342 - Predicted: 0 Actual: 0 [ 0.600 0.400 0.000 0.000 0.000 0.000 0.000 ]\n",
        "343 - Predicted: 0 Actual: 0 [ 0.818 0.000 0.000 0.000 0.000 0.000 0.182 ]\n",
        "344 - Predicted: 1 Actual: 1 [ 0.375 0.625 0.000 0.000 0.000 0.000 0.000 ]\n",
        "345 - Predicted: 0 Actual: 0 [ 0.667 0.333 0.000 0.000 0.000 0.000 0.000 ]\n",
        "346 - Predicted: 1 Actual: 1 [ 0.000 0.500 0.429 0.000 0.000 0.071 0.000 ]\n",
        "347 - Predicted: 2 Actual: 2 [ 0.000 0.000 0.480 0.040 0.000 0.480 0.000 ]\n",
        "348 - Predicted: 0 Actual: 0 [ 0.714 0.214 0.000 0.000 0.071 0.000 0.000 ]\n",
        "349 - Predicted: 1 Actual: 1 [ 0.480 0.509 0.000 0.000 0.000 0.000 0.010 ]\n",
        "350"
       ]
      },
      {
       "output_type": "stream",
       "stream": "stdout",
       "text": [
        " - Predicted: 0 Actual: 1 [ 0.522 0.478 0.000 0.000 0.000 0.000 0.000 ]\n",
        "351 - Predicted: 0 Actual: 1 [ 0.456 0.407 0.000 0.000 0.000 0.000 0.137 ]\n",
        "352 - Predicted: 1 Actual: 0 [ 0.489 0.495 0.000 0.000 0.015 0.000 0.001 ]\n",
        "353 - Predicted: 1 Actual: 1 [ 0.156 0.625 0.115 0.021 0.083 0.000 0.000 ]\n",
        "354 - Predicted: 0 Actual: 1 [ 0.455 0.455 0.000 0.000 0.000 0.000 0.091 ]\n",
        "355 - Predicted: 1 Actual: 2 [ 0.000 0.500 0.500 0.000 0.000 0.000 0.000 ]\n",
        "356 - Predicted: 0 Actual: 1 [ 0.590 0.410 0.000 0.000 0.000 0.000 0.000 ]\n",
        "357 - Predicted: 0 Actual: 0 [ 0.729 0.094 0.000 0.000 0.000 0.000 0.177 ]\n",
        "358 - Predicted: 0 Actual: 0 [ 0.496 0.461 0.001 0.000 0.000 0.002 0.040 ]\n",
        "359 - Predicted: 0 Actual: 0 [ 0.714 0.286 0.000 0.000 0.000 0.000 0.000 ]\n",
        "360"
       ]
      },
      {
       "output_type": "stream",
       "stream": "stdout",
       "text": [
        " - Predicted: 1 Actual: 1 [ 0.062 0.750 0.125 0.000 0.062 0.000 0.000 ]\n",
        "361 - Predicted: 0 Actual: 1 [ 0.465 0.360 0.000 0.000 0.000 0.000 0.174 ]\n",
        "362 - Predicted: 1 Actual: 1 [ 0.247 0.745 0.003 0.000 0.000 0.005 0.000 ]\n",
        "363 - Predicted: 1 Actual: 0 [ 0.250 0.750 0.000 0.000 0.000 0.000 0.000 ]\n",
        "364 - Predicted: 0 Actual: 0 [ 0.492 0.464 0.002 0.000 0.000 0.002 0.040 ]\n",
        "365 - Predicted: 0 Actual: 0 [ 0.769 0.231 0.000 0.000 0.000 0.000 0.000 ]\n",
        "366 - Predicted: 1 Actual: 0 [ 0.247 0.745 0.003 0.000 0.000 0.005 0.000 ]\n",
        "367 - Predicted: 2 Actual: 2 [ 0.000 0.000 0.500 0.250 0.000 0.250 0.000 ]\n",
        "368 - Predicted: 1 Actual: 1 [ 0.385 0.615 0.000 0.000 0.000 0.000 0.000 ]\n",
        "369 - Predicted: 1 Actual: 1 [ 0.446 0.554 0.000 0.000 0.000 0.000 0.000 ]\n",
        "370"
       ]
      },
      {
       "output_type": "stream",
       "stream": "stdout",
       "text": [
        " - Predicted: 0 Actual: 0 [ 0.571 0.429 0.000 0.000 0.000 0.000 0.000 ]\n",
        "371 - Predicted: 0 Actual: 0 [ 0.721 0.093 0.000 0.000 0.000 0.000 0.186 ]\n",
        "372 - Predicted: 1 Actual: 1 [ 0.391 0.609 0.000 0.000 0.000 0.000 0.000 ]\n",
        "373 - Predicted: 0 Actual: 0 [ 0.591 0.364 0.000 0.000 0.045 0.000 0.000 ]\n",
        "374 - Predicted: 0 Actual: 1 [ 0.464 0.464 0.000 0.000 0.000 0.000 0.071 ]\n",
        "375 - Predicted: 1 Actual: 1 [ 0.125 0.750 0.000 0.000 0.000 0.125 0.000 ]\n",
        "376 - Predicted: 2 Actual: 2 [ 0.000 0.125 0.562 0.000 0.000 0.312 0.000 ]\n",
        "377 - Predicted: 1 Actual: 1 [ 0.353 0.647 0.000 0.000 0.000 0.000 0.000 ]\n",
        "378 - Predicted: 1 Actual: 1 [ 0.333 0.667 0.000 0.000 0.000 0.000 0.000 ]\n",
        "379 - Predicted: 0 Actual: 0 [ 0.719 0.194 0.000 0.000 0.000 0.000 0.087 ]\n",
        "380"
       ]
      },
      {
       "output_type": "stream",
       "stream": "stdout",
       "text": [
        " - Predicted: 1 Actual: 1 [ 0.303 0.522 0.087 0.014 0.028 0.011 0.035 ]\n",
        "381 - Predicted: 1 Actual: 1 [ 0.186 0.814 0.000 0.000 0.000 0.000 0.000 ]\n",
        "382 - Predicted: 1 Actual: 1 [ 0.081 0.674 0.169 0.008 0.051 0.017 0.000 ]\n",
        "383 - Predicted: 0 Actual: 0 [ 0.788 0.182 0.000 0.000 0.000 0.000 0.030 ]\n",
        "384 - Predicted: 1 Actual: 1 [ 0.453 0.505 0.000 0.000 0.000 0.000 0.042 ]\n",
        "385 - Predicted: 1 Actual: 0 [ 0.325 0.649 0.000 0.000 0.013 0.000 0.013 ]\n",
        "386 - Predicted: 2 Actual: 2 [ 0.000 0.333 0.556 0.000 0.000 0.111 0.000 ]\n",
        "387 - Predicted: 0 Actual: 0 [ 0.686 0.314 0.000 0.000 0.000 0.000 0.000 ]\n",
        "388 - Predicted: 1 Actual: 1 [ 0.468 0.532 0.000 0.000 0.000 0.000 0.000 ]\n",
        "389 - Predicted: 0 Actual: 0 [ 0.812 0.188 0.000 0.000 0.000 0.000 0.000 ]\n",
        "390"
       ]
      },
      {
       "output_type": "stream",
       "stream": "stdout",
       "text": [
        " - Predicted: 2 Actual: 2 [ 0.000 0.118 0.588 0.000 0.000 0.294 0.000 ]\n",
        "391 - Predicted: 0 Actual: 0 [ 0.833 0.000 0.000 0.000 0.000 0.000 0.167 ]\n",
        "392 - Predicted: 1 Actual: 1 [ 0.167 0.833 0.000 0.000 0.000 0.000 0.000 ]\n",
        "393 - Predicted: 0 Actual: 0 [ 0.741 0.052 0.000 0.000 0.000 0.000 0.207 ]\n",
        "394 - Predicted: 1 Actual: 1 [ 0.267 0.729 0.000 0.000 0.004 0.000 0.000 ]\n",
        "395 - Predicted: 1 Actual: 0 [ 0.200 0.800 0.000 0.000 0.000 0.000 0.000 ]\n",
        "396 - Predicted: 1 Actual: 1 [ 0.345 0.591 0.000 0.000 0.026 0.026 0.013 ]\n",
        "397 - Predicted: 0 Actual: 0 [ 0.788 0.182 0.000 0.000 0.000 0.000 0.030 ]\n",
        "398 - Predicted: 1 Actual: 1 [ 0.350 0.650 0.000 0.000 0.000 0.000 0.000 ]\n",
        "399 - Predicted: 1 Actual: 1 [ 0.129 0.806 0.000 0.000 0.065 0.000 0.000 ]\n",
        "400"
       ]
      },
      {
       "output_type": "stream",
       "stream": "stdout",
       "text": [
        " - Predicted: 2 Actual: 2 [ 0.000 0.000 0.909 0.000 0.000 0.091 0.000 ]\n",
        "401 - Predicted: 1 Actual: 0 [ 0.209 0.746 0.030 0.000 0.000 0.000 0.015 ]\n",
        "402 - Predicted: 1 Actual: 1 [ 0.431 0.569 0.000 0.000 0.000 0.000 0.000 ]\n",
        "403 - Predicted: 1 Actual: 1 [ 0.194 0.806 0.000 0.000 0.000 0.000 0.000 ]\n",
        "404 - Predicted: 1 Actual: 1 [ 0.231 0.769 0.000 0.000 0.000 0.000 0.000 ]\n",
        "405 - Predicted: 0 Actual: 1 [ 0.500 0.286 0.000 0.000 0.000 0.000 0.214 ]\n",
        "406 - Predicted: 0 Actual: 0 [ 0.778 0.167 0.000 0.000 0.000 0.000 0.056 ]\n",
        "407 - Predicted: 0 Actual: 1 [ 0.500 0.500 0.000 0.000 0.000 0.000 0.000 ]\n",
        "408 - Predicted: 1 Actual: 0 [ 0.306 0.694 0.000 0.000 0.000 0.000 0.000 ]\n",
        "409 - Predicted: 0 Actual: 0 [ 0.698 0.115 0.000 0.000 0.000 0.000 0.188 ]\n",
        "410"
       ]
      },
      {
       "output_type": "stream",
       "stream": "stdout",
       "text": [
        " - Predicted: 1 Actual: 0 [ 0.375 0.625 0.000 0.000 0.000 0.000 0.000 ]\n",
        "411 - Predicted: 1 Actual: 2 [ 0.307 0.512 0.063 0.005 0.027 0.053 0.033 ]\n",
        "412 - Predicted: 1 Actual: 0 [ 0.409 0.536 0.001 0.000 0.001 0.001 0.051 ]\n",
        "413 - Predicted: 1 Actual: 0 [ 0.144 0.485 0.221 0.016 0.038 0.096 0.000 ]\n",
        "414 - Predicted: 1 Actual: 0 [ 0.409 0.536 0.001 0.000 0.001 0.001 0.051 ]\n",
        "415 - Predicted: 1 Actual: 1 [ 0.409 0.536 0.001 0.000 0.001 0.001 0.051 ]\n",
        "416 - Predicted: 1 Actual: 1 [ 0.409 0.536 0.001 0.000 0.001 0.001 0.051 ]\n",
        "417 - Predicted: 1 Actual: 1 [ 0.409 0.536 0.001 0.000 0.001 0.001 0.051 ]\n",
        "418 - Predicted: 2 Actual: 1 [ 0.000 0.182 0.545 0.182 0.000 0.091 0.000 ]\n",
        "419 - Predicted: 1 Actual: 1 [ 0.409 0.536 0.001 0.000 0.001 0.001 0.051 ]\n",
        "420"
       ]
      },
      {
       "output_type": "stream",
       "stream": "stdout",
       "text": [
        " - Predicted: 1 Actual: 1 [ 0.389 0.569 0.000 0.000 0.005 0.000 0.037 ]\n",
        "421 - Predicted: 0 Actual: 1 [ 0.556 0.444 0.000 0.000 0.000 0.000 0.000 ]\n",
        "422 - Predicted: 0 Actual: 0 [ 0.833 0.000 0.000 0.000 0.000 0.000 0.167 ]\n",
        "423 - Predicted: 1 Actual: 1 [ 0.452 0.548 0.000 0.000 0.000 0.000 0.000 ]\n",
        "424 - Predicted: 1 Actual: 0 [ 0.241 0.589 0.080 0.009 0.000 0.062 0.018 ]\n",
        "425 - Predicted: 1 Actual: 2 [ 0.241 0.589 0.080 0.009 0.000 0.062 0.018 ]\n",
        "426 - Predicted: 1 Actual: 1 [ 0.241 0.589 0.080 0.009 0.000 0.062 0.018 ]\n",
        "427 - Predicted: 0 Actual: 0 [ 0.806 0.194 0.000 0.000 0.000 0.000 0.000 ]\n",
        "428 - Predicted: 0 Actual: 0 [ 0.426 0.333 0.093 0.000 0.019 0.000 0.130 ]\n",
        "429 - Predicted: 1 Actual: 1 [ 0.250 0.750 0.000 0.000 0.000 0.000 0.000 ]\n",
        "430"
       ]
      },
      {
       "output_type": "stream",
       "stream": "stdout",
       "text": [
        " - Predicted: 1 Actual: 0 [ 0.273 0.636 0.000 0.000 0.091 0.000 0.000 ]\n",
        "431 - Predicted: 1 Actual: 0 [ 0.337 0.494 0.084 0.012 0.024 0.048 0.000 ]\n",
        "432 - Predicted: 1 Actual: 0 [ 0.337 0.494 0.084 0.012 0.024 0.048 0.000 ]\n",
        "433 - Predicted: 1 Actual: 1 [ 0.286 0.714 0.000 0.000 0.000 0.000 0.000 ]\n",
        "434 - Predicted: 1 Actual: 1 [ 0.105 0.526 0.211 0.000 0.000 0.158 0.000 ]\n",
        "435 - Predicted: 1 Actual: 1 [ 0.412 0.588 0.000 0.000 0.000 0.000 0.000 ]\n",
        "436 - Predicted: 0 Actual: 0 [ 0.667 0.333 0.000 0.000 0.000 0.000 0.000 ]\n",
        "437 - Predicted: 0 Actual: 1 [ 0.483 0.448 0.000 0.000 0.000 0.000 0.070 ]\n",
        "438 - Predicted: 1 Actual: 1 [ 0.337 0.494 0.084 0.012 0.024 0.048 0.000 ]\n",
        "439 - Predicted: 2 Actual: 2 [ 0.000 0.400 0.500 0.000 0.000 0.100 0.000 ]\n",
        "440"
       ]
      },
      {
       "output_type": "stream",
       "stream": "stdout",
       "text": [
        " - Predicted: 1 Actual: 0 [ 0.481 0.519 0.000 0.000 0.000 0.000 0.000 ]\n",
        "441 - Predicted: 0 Actual: 1 [ 0.667 0.333 0.000 0.000 0.000 0.000 0.000 ]\n",
        "442 - Predicted: 1 Actual: 1 [ 0.424 0.510 0.000 0.000 0.000 0.000 0.066 ]\n",
        "443 - Predicted: 1 Actual: 1 [ 0.385 0.462 0.154 0.000 0.000 0.000 0.000 ]\n",
        "444 - Predicted: 0 Actual: 0 [ 0.744 0.054 0.000 0.000 0.000 0.000 0.202 ]\n",
        "445 - Predicted: 1 Actual: 1 [ 0.424 0.510 0.000 0.000 0.000 0.000 0.066 ]\n",
        "446 - Predicted: 1 Actual: 2 [ 0.061 0.526 0.292 0.000 0.030 0.091 0.000 ]\n",
        "447 - Predicted: 1 Actual: 0 [ 0.280 0.467 0.107 0.000 0.040 0.080 0.027 ]\n",
        "448 - Predicted: 2 Actual: 1 [ 0.000 0.250 0.750 0.000 0.000 0.000 0.000 ]\n",
        "449 - Predicted: 0 Actual: 0 [ 0.717 0.019 0.000 0.000 0.000 0.000 0.264 ]\n",
        "450"
       ]
      },
      {
       "output_type": "stream",
       "stream": "stdout",
       "text": [
        " - Predicted: 0 Actual: 0 [ 0.582 0.418 0.000 0.000 0.000 0.000 0.000 ]\n",
        "451 - Predicted: 1 Actual: 1 [ 0.357 0.429 0.095 0.024 0.000 0.071 0.024 ]\n",
        "452 - Predicted: 2 Actual: 2 [ 0.000 0.400 0.600 0.000 0.000 0.000 0.000 ]\n",
        "453 - Predicted: 1 Actual: 1 [ 0.143 0.857 0.000 0.000 0.000 0.000 0.000 ]\n",
        "454 - Predicted: 1 Actual: 1 [ 0.222 0.778 0.000 0.000 0.000 0.000 0.000 ]\n",
        "455 - Predicted: 1 Actual: 1 [ 0.052 0.600 0.313 0.000 0.000 0.035 0.000 ]\n",
        "456 - Predicted: 1 Actual: 0 [ 0.379 0.448 0.069 0.000 0.103 0.000 0.000 ]\n",
        "457 - Predicted: 0 Actual: 0 [ 0.786 0.214 0.000 0.000 0.000 0.000 0.000 ]\n",
        "458 - Predicted: 0 Actual: 0 [ 0.786 0.214 0.000 0.000 0.000 0.000 0.000 ]\n",
        "459 - Predicted: 1 Actual: 1 [ 0.292 0.534 0.077 0.014 0.028 0.012 0.044 ]\n",
        "460"
       ]
      },
      {
       "output_type": "stream",
       "stream": "stdout",
       "text": [
        " - Predicted: 2 Actual: 2 [ 0.000 0.412 0.471 0.000 0.000 0.118 0.000 ]\n",
        "461 - Predicted: 0 Actual: 1 [ 0.490 0.427 0.000 0.000 0.000 0.000 0.084 ]\n",
        "462 - Predicted: 1 Actual: 1 [ 0.229 0.583 0.000 0.000 0.042 0.104 0.042 ]\n",
        "463 - Predicted: 1 Actual: 1 [ 0.000 0.714 0.143 0.000 0.000 0.143 0.000 ]\n",
        "464 - Predicted: 0 Actual: 0 [ 0.490 0.427 0.000 0.000 0.000 0.000 0.084 ]\n",
        "465 - Predicted: 0 Actual: 1 [ 0.490 0.427 0.000 0.000 0.000 0.000 0.084 ]\n",
        "466 - Predicted: 0 Actual: 0 [ 0.750 0.250 0.000 0.000 0.000 0.000 0.000 ]\n",
        "467 - Predicted: 0 Actual: 0 [ 0.500 0.000 0.000 0.000 0.000 0.000 0.500 ]\n",
        "468 - Predicted: 1 Actual: 0 [ 0.478 0.522 0.000 0.000 0.000 0.000 0.000 ]\n",
        "469 - Predicted: 0 Actual: 1 [ 0.500 0.500 0.000 0.000 0.000 0.000 0.000 ]\n",
        "470"
       ]
      },
      {
       "output_type": "stream",
       "stream": "stdout",
       "text": [
        " - Predicted: 2 Actual: 2 [ 0.000 0.174 0.739 0.043 0.000 0.043 0.000 ]\n",
        "471 - Predicted: 0 Actual: 0 [ 0.568 0.409 0.000 0.000 0.000 0.000 0.023 ]\n",
        "472 - Predicted: 1 Actual: 1 [ 0.280 0.620 0.000 0.000 0.100 0.000 0.000 ]\n",
        "473 - Predicted: 0 Actual: 0 [ 0.600 0.400 0.000 0.000 0.000 0.000 0.000 ]\n",
        "474 - Predicted: 0 Actual: 0 [ 0.957 0.043 0.000 0.000 0.000 0.000 0.000 ]\n",
        "475 - Predicted: 1 Actual: 1 [ 0.273 0.727 0.000 0.000 0.000 0.000 0.000 ]\n",
        "476 - Predicted: 1 Actual: 1 [ 0.000 0.689 0.000 0.000 0.311 0.000 0.000 ]\n",
        "477 - Predicted: 1 Actual: 1 [ 0.348 0.652 0.000 0.000 0.000 0.000 0.000 ]\n",
        "478 - Predicted: 1 Actual: 1 [ 0.000 0.500 0.500 0.000 0.000 0.000 0.000 ]\n",
        "479 - Predicted: 1 Actual: 0 [ 0.000 0.400 0.200 0.000 0.000 0.200 0.200 ]\n",
        "480"
       ]
      },
      {
       "output_type": "stream",
       "stream": "stdout",
       "text": [
        " - Predicted: 1 Actual: 1 [ 0.158 0.842 0.000 0.000 0.000 0.000 0.000 ]\n",
        "481 - Predicted: 0 Actual: 1 [ 0.500 0.500 0.000 0.000 0.000 0.000 0.000 ]\n",
        "482 - Predicted: 0 Actual: 0 [ 0.510 0.469 0.000 0.000 0.000 0.020 0.000 ]\n",
        "483 - Predicted: 1 Actual: 2 [ 0.000 0.500 0.000 0.000 0.000 0.500 0.000 ]\n",
        "484 - Predicted: 1 Actual: 1 [ 0.477 0.523 0.000 0.000 0.000 0.000 0.000 ]\n",
        "485 - Predicted: 0 Actual: 0 [ 0.542 0.354 0.000 0.000 0.000 0.000 0.104 ]\n",
        "486 - Predicted: 1 Actual: 1 [ 0.045 0.682 0.182 0.000 0.000 0.091 0.000 ]\n",
        "487 - Predicted: 1 Actual: 0 [ 0.143 0.857 0.000 0.000 0.000 0.000 0.000 ]\n",
        "488 - Predicted: 1 Actual: 0 [ 0.316 0.571 0.050 0.000 0.027 0.016 0.020 ]\n",
        "489 - Predicted: 1 Actual: 1 [ 0.188 0.812 0.000 0.000 0.000 0.000 0.000 ]\n",
        "490"
       ]
      },
      {
       "output_type": "stream",
       "stream": "stdout",
       "text": [
        " - Predicted: 1 Actual: 1 [ 0.111 0.889 0.000 0.000 0.000 0.000 0.000 ]\n",
        "491 - Predicted: 0 Actual: 0 [ 0.500 0.500 0.000 0.000 0.000 0.000 0.000 ]\n",
        "492 - Predicted: 0 Actual: 0 [ 0.375 0.312 0.062 0.000 0.000 0.188 0.062 ]\n",
        "493 - Predicted: 0 Actual: 1 [ 0.765 0.235 0.000 0.000 0.000 0.000 0.000 ]\n",
        "494 - Predicted: 0 Actual: 1 [ 0.481 0.405 0.000 0.000 0.000 0.000 0.114 ]\n",
        "495 - Predicted: 1 Actual: 1 [ 0.000 0.438 0.312 0.000 0.250 0.000 0.000 ]\n",
        "496 - Predicted: 2 Actual: 2 [ 0.000 0.077 0.846 0.000 0.000 0.077 0.000 ]\n",
        "497 - Predicted: 0 Actual: 0 [ 0.538 0.424 0.000 0.000 0.008 0.000 0.030 ]\n",
        "498 - Predicted: 0 Actual: 0 [ 0.857 0.143 0.000 0.000 0.000 0.000 0.000 ]\n",
        "499 - Predicted: 1 Actual: 1 [ 0.270 0.693 0.000 0.000 0.037 0.000 0.000 ]\n",
        " "
       ]
      }
     ],
     "prompt_number": 16
    },
    {
     "cell_type": "code",
     "collapsed": false,
     "input": [
      "n = mf.trees[0].root.left.left.left.left.left.left.left\n",
      "%timeit get_posterior_class_probs(n, 10)"
     ],
     "language": "python",
     "metadata": {},
     "outputs": []
    },
    {
     "cell_type": "code",
     "collapsed": false,
     "input": [
      "pd.Series(hits).cumsum().plot() # Predictions over time"
     ],
     "language": "python",
     "metadata": {},
     "outputs": [
      {
       "metadata": {},
       "output_type": "pyout",
       "prompt_number": 14,
       "text": [
        "<matplotlib.axes._subplots.AxesSubplot at 0x7f16342fb898>"
       ]
      },
      {
       "metadata": {},
       "output_type": "display_data",
       "png": "[encoded data removed]",
       "text": [
        "<matplotlib.figure.Figure at 0x7f16348aa780>"
       ]
      }
     ],
     "prompt_number": 14
    },
    {
     "cell_type": "code",
     "collapsed": false,
     "input": [
      "sum(hits)/len(hits) # Overall accuracy"
     ],
     "language": "python",
     "metadata": {},
     "outputs": [
      {
       "metadata": {},
       "output_type": "pyout",
       "prompt_number": 15,
       "text": [
        "0.66000000000000003"
       ]
      }
     ],
     "prompt_number": 15
    }
   ],
   "metadata": {}
  }
 ]
}