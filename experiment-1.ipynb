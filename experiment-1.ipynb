{
 "metadata": {
  "name": "",
  "signature": "sha256:51b9544ede0e2523999758b785d76f16597d04217a3a407f87e5eb6e8fffcc86"
 },
 "nbformat": 3,
 "nbformat_minor": 0,
 "worksheets": [
  {
   "cells": [
    {
     "cell_type": "markdown",
     "metadata": {},
     "source": [
      "# Mondrian Forests\n",
      "\n",
      "This is a reimplementation of Mondrian Forests as described here:\n",
      "\n",
      "**Mondrian Forests: Efficient Online Random Forests**\n",
      "\n",
      "Balaji Lakshminarayanan, Daniel M. Roy, Yee Whye Teh\n",
      "\n",
      "http://arxiv.org/abs/1406.2673\n",
      "\n",
      "It partly uses code from the original authors' implementation at\n",
      "\n",
      "https://github.com/balajiln/mondrianforest\n",
      "\n",
      "but changes a few things along the way too. Key differences:\n",
      "\n",
      "* Assume FAST_MODE (no log-likelihood) for now\n",
      "* Classification only (they never finished regression)\n",
      "* Always assume we're training incrementally\n",
      "* `data` (an array) refers to one batch, instead of having a single design matrix in memory and indexing it with `train_ids`\n",
      "* `labels` is a vector of class labels for the rows in `data`\n",
      "* We don't assume you'll provide the first batch of training data when initializing a tree, but we do need to know the number of dimensions and number of labels\n",
      "* It works in parallel :-)\n",
      "\n",
      "Perhaps most different of all:\n",
      "\n",
      "We don't keep all the input data, as this won't scale. But this means we can't move existing data down into the new leaf nodes when we split a leaf node.\n",
      "\n",
      "This is the plan: When the tree \"grows\" through randomly splitting a leaf node, keep its existing class frequencies where they are, and only use the two new children for *newly-arriving* data. Then take these into account when calculating the predictive posteriors (appendix A of paper). This is working, but not very well tested yet.\n",
      "\n",
      "Here are my original thoughts on this, that I almost sent to the authors, but decided to try first.\n",
      "\n",
      "```\n",
      "One thing I missed on reading the paper, is that when you bisect a leaf node through a \"grow\" (sampling) operation,\n",
      "you need to assign all its data points to one of the new children.\n",
      "\n",
      "This means you can't just keep summary statistics for the data in a block, i.e. class frequencies. You need to hold\n",
      "on to the raw training data in order to divide it, yes? Which is a problem for online learning over streaming data\n",
      "or just \"big data\" in general.\n",
      "\n",
      "So... Perhaps you could entirely forget about keeping the existing data and propagating it down to the new child\n",
      "nodes. If you just kept class frequencies at each node, maybe you could use these in the \"update posterior counts\"\n",
      "step for internal nodes, alongside the child node counts.\n",
      "\n",
      "(Any data that came in *after* the split would go all the way down to the leaf nodes though.)\n",
      "```\n",
      "\n",
      "For the time being, though, it's using a much simpler scoring system. Walk down the tree until you find the box that the test example would have been in, and go for the majority class. If you don't find a box, or it's empty, walk back up until you find the nearest ancestor with some instances in.\n",
      "\n",
      "Averaged across a few trees, even as few as ~10, this actually does pretty well.\n",
      "\n",
      "## Running this demo\n",
      "\n",
      "If a `default` IPython cluster is available, it runs in parallel automatically, with as many trees in the forest as you have engines in the cluster. Otherwise, it runs in serial on a single core, with 3 trees. See the notes in the third cell.\n",
      "\n",
      "For best results with small forests, use an odd number of trees.\n",
      "\n",
      "## TODO\n",
      "\n",
      "### Must-haves\n",
      "\n",
      "* Types for all numpy arrays\n",
      "* Error checking\n",
      "* Work out exactly what effect `budget` is having\n",
      "* Introspection and prettyprinting tools\n",
      "* Work out which members are \"private\" and rename them with underscores\n",
      "* Proper tests...\n",
      "\n",
      "### Useful features\n",
      "\n",
      "* Allow multiple trees per engine (i.e. each engine runs a forest, not a tree)\n",
      "* Instance subsampling\n",
      "* Feature subsampling/bootstrapping/bagging\n",
      "* Feature hashing/random projection/LSH\n",
      "* Train-on-fail mode\n",
      "* Loss functions, regret, class weighting?\n",
      "\n",
      "### Blue sky\n",
      "\n",
      "* Regression\n",
      "* Clustering? (I mean, it basically *is* clustering, already...)\n",
      "* Semi-supervised would be really easy too\n",
      "* Adaptivity -- non-stationary distributions, recency effects etc.\n",
      "* Auto-pruning/rebalancing -- stop trees either stagnating or growing out of control in the long term\n",
      "* What about when the true number of classes isn't known in advance?\n",
      "\n",
      "The last three are really closely related.\n",
      "\n",
      "We could probably tackle a lot of these problems by \"chopping down\" older trees -- either randomly or according to a heuristic (e.g. least-recently-modified) -- so new ones can grow in their place. Maybe varying the budget and discount values would be useful too.\n",
      "\n",
      "Perhaps you could calculate the posterior class probabilities over the entire 'dead' tree, and use these as the priors for the new tree that will grow in its place.\n",
      "\n",
      "You could also use this kind of approach to tune P/R tradeoff, chase a particular objective function, do reinforcement learning... If you squint, they start to look a little like GAs.\n",
      "\n",
      "* Ontology learning\n",
      "* Grammar induction\n",
      "* Topic modelling\n",
      "\n",
      "Use cases that are fundamentally tree-shaped! Hmmm."
     ]
    },
    {
     "cell_type": "code",
     "collapsed": false,
     "input": [
      "%run 'mondrian.py'\n",
      "\n",
      "import random\n",
      "\n",
      "import numpy as np\n",
      "\n",
      "import pprint\n",
      "\n",
      "from IPython.parallel import Client\n",
      "try:\n",
      "    rc = Client()\n",
      "    dview = rc[:]\n",
      "    print('Using default IPython cluster with %d engines' % len(dview))\n",
      "except FileNotFoundError:\n",
      "    rc = None\n",
      "    dview = None\n",
      "    print('Using single-core implementation')\n",
      "\n",
      "DEFAULT_BUDGET = 1000"
     ],
     "language": "python",
     "metadata": {},
     "outputs": [
      {
       "output_type": "stream",
       "stream": "stdout",
       "text": [
        "Using single-core implementation\n"
       ]
      }
     ],
     "prompt_number": 69
    },
    {
     "cell_type": "code",
     "collapsed": false,
     "input": [
      "import pickle\n",
      "import gzip\n",
      "import os\n",
      "import pandas as pd\n",
      "from sklearn import datasets\n",
      "from sklearn import cross_validation as cv\n",
      "\n",
      "# For speed later...\n",
      "test_file = '/home/vagrant/data/covtype.pkl.gz'\n",
      "if os.path.exists(test_file):\n",
      "    with gzip.GzipFile(test_file, 'rb') as z:\n",
      "        dataset = pickle.load(z)\n",
      "else:\n",
      "    dataset = datasets.fetch_covtype() # Can be quite slow\n",
      "    with gzip.GzipFile(test_file, 'wb') as z:\n",
      "        pickle.dump(dataset, z)\n",
      "        \n",
      "dataset.data.shape"
     ],
     "language": "python",
     "metadata": {},
     "outputs": [
      {
       "metadata": {},
       "output_type": "pyout",
       "prompt_number": 3,
       "text": [
        "(581012, 54)"
       ]
      }
     ],
     "prompt_number": 3
    },
    {
     "cell_type": "code",
     "collapsed": false,
     "input": [
      "n_iter = 5\n",
      "test_size = 10\n",
      "folds = cv.StratifiedShuffleSplit(dataset.target, n_iter=n_iter, test_size=test_size, train_size=1000)\n",
      "hits = []\n",
      "\n",
      "data = dataset.data\n",
      "target = dataset.target - 1 # they are 1-indexed\n",
      "data_size = data.shape[1]\n",
      "classes = len(np.unique(target))\n",
      "\n",
      "local_trees = 3\n",
      "remote_trees_per_worker = 11\n",
      "scoring = 'nsp'\n",
      "\n",
      "def run_test(mf):\n",
      "    for i, (train, test) in enumerate(folds):\n",
      "        train_X = data[train]\n",
      "        train_y = target[train]\n",
      "        test_X = data[test]\n",
      "        test_y = target[test]\n",
      "        mf.update(train_X, train_y)\n",
      "        preds = mf.predict(test_X)\n",
      "        yhat = preds.argmax(axis=1)\n",
      "        assert test_y.shape == yhat.shape\n",
      "        for j in range(len(preds)):\n",
      "            idx = (i * test_size) + j\n",
      "            print(idx, '- Predicted:', yhat[j], 'Actual:', test_y[j],\n",
      "                  '[', ' '.join(['%.3f' % x for x in preds[j]]), ']')\n",
      "            hits.append(yhat[j] == test_y[j])\n",
      "    return mf\n",
      "\n",
      "if dview is None:\n",
      "    # Run with a single-threaded forest\n",
      "    mf = MondrianForest(local_trees, data_size, classes, DEFAULT_BUDGET, scoring)\n",
      "    %prun status = run_test(mf).status()\n",
      "    pprint.pprint(status)\n",
      "else:\n",
      "    # Run with a parallel forest on IPython cluster\n",
      "    pmf = ParallelMondrianForest(dview, remote_trees_per_worker, data_size, classes, DEFAULT_BUDGET, scoring)\n",
      "    status = run_test(pmf).status()\n",
      "    pprint.pprint(status)"
     ],
     "language": "python",
     "metadata": {},
     "outputs": [
      {
       "output_type": "stream",
       "stream": "stdout",
       "text": [
        "0 - Predicted: 1 Actual: 1 [ 0.223 0.474 0.127 0.010 0.033 0.061 0.072 ]\n",
        "1 - Predicted: 1 Actual: 0 [ 0.223 0.474 0.127 0.010 0.033 0.061 0.072 ]\n",
        "2 - Predicted: 1 Actual: 0 [ 0.223 0.474 0.127 0.010 0.033 0.061 0.072 ]\n",
        "3 - Predicted: 1 Actual: 1 [ 0.223 0.474 0.127 0.010 0.033 0.061 0.072 ]\n",
        "4 - Predicted: 1 Actual: 1 [ 0.223 0.474 0.127 0.010 0.033 0.061 0.072 ]\n",
        "5 - Predicted: 1 Actual: 2 [ 0.223 0.474 0.127 0.010 0.033 0.061 0.072 ]\n",
        "6 - Predicted: 1 Actual: 0 [ 0.223 0.474 0.127 0.010 0.033 0.061 0.072 ]\n",
        "7 - Predicted: 1 Actual: 1 [ 0.223 0.474 0.127 0.010 0.033 0.061 0.072 ]\n",
        "8 - Predicted: 1 Actual: 0 [ 0.223 0.474 0.127 0.010 0.033 0.061 0.072 ]\n",
        "9 - Predicted: 1 Actual: 1 [ 0.223 0.474 0.127 0.010 0.033 0.061 0.072 ]\n",
        "10"
       ]
      },
      {
       "output_type": "stream",
       "stream": "stdout",
       "text": [
        " - Predicted: 0 Actual: 0 [ 0.361 0.329 0.086 0.003 0.021 0.043 0.157 ]\n",
        "11 - Predicted: 0 Actual: 0 [ 0.361 0.329 0.086 0.003 0.021 0.043 0.157 ]\n",
        "12 - Predicted: 1 Actual: 2 [ 0.176 0.524 0.139 0.007 0.033 0.068 0.053 ]\n",
        "13 - Predicted: 1 Actual: 1 [ 0.176 0.524 0.139 0.007 0.033 0.068 0.053 ]\n",
        "14 - Predicted: 0 Actual: 0 [ 0.361 0.329 0.086 0.003 0.021 0.043 0.157 ]\n",
        "15 - Predicted: 1 Actual: 1 [ 0.176 0.524 0.139 0.007 0.033 0.068 0.053 ]\n",
        "16 - Predicted: 1 Actual: 1 [ 0.176 0.524 0.139 0.007 0.033 0.068 0.053 ]\n",
        "17 - Predicted: 1 Actual: 1 [ 0.210 0.510 0.150 0.019 0.028 0.056 0.027 ]\n",
        "18 - Predicted: 0 Actual: 0 [ 0.361 0.329 0.086 0.003 0.021 0.043 0.157 ]\n",
        "19 - Predicted: 0 Actual: 1 [ 0.361 0.329 0.086 0.003 0.021 0.043 0.157 ]\n",
        "20"
       ]
      },
      {
       "output_type": "stream",
       "stream": "stdout",
       "text": [
        " - Predicted: 1 Actual: 0 [ 0.273 0.586 0.039 0.003 0.013 0.021 0.065 ]\n",
        "21 - Predicted: 1 Actual: 1 [ 0.209 0.541 0.086 0.006 0.025 0.043 0.091 ]\n",
        "22 - Predicted: 1 Actual: 1 [ 0.165 0.617 0.088 0.006 0.025 0.044 0.055 ]\n",
        "23 - Predicted: 1 Actual: 1 [ 0.162 0.520 0.144 0.009 0.039 0.071 0.055 ]\n",
        "24 - Predicted: 1 Actual: 0 [ 0.209 0.541 0.086 0.006 0.025 0.043 0.091 ]\n",
        "25 - Predicted: 1 Actual: 1 [ 0.162 0.520 0.144 0.009 0.039 0.071 0.055 ]\n",
        "26 - Predicted: 1 Actual: 1 [ 0.162 0.520 0.144 0.009 0.039 0.071 0.055 ]\n",
        "27 - Predicted: 1 Actual: 0 [ 0.209 0.541 0.086 0.006 0.025 0.043 0.091 ]\n",
        "28 - Predicted: 1 Actual: 2 [ 0.162 0.520 0.144 0.010 0.039 0.071 0.055 ]\n",
        "29 - Predicted: 1 Actual: 0 [ 0.209 0.541 0.086 0.006 0.025 0.043 0.091 ]\n",
        "30"
       ]
      },
      {
       "output_type": "stream",
       "stream": "stdout",
       "text": [
        " - Predicted: 1 Actual: 1 [ 0.148 0.465 0.206 0.015 0.056 0.106 0.003 ]\n",
        "31 - Predicted: 1 Actual: 1 [ 0.191 0.539 0.128 0.010 0.034 0.062 0.037 ]\n",
        "32 - Predicted: 1 Actual: 0 [ 0.288 0.526 0.068 0.004 0.017 0.032 0.064 ]\n",
        "33 - Predicted: 1 Actual: 2 [ 0.149 0.532 0.179 0.011 0.044 0.081 0.003 ]\n",
        "34 - Predicted: 1 Actual: 1 [ 0.288 0.526 0.068 0.004 0.017 0.032 0.064 ]\n",
        "35 - Predicted: 1 Actual: 0 [ 0.288 0.526 0.068 0.004 0.017 0.032 0.064 ]\n",
        "36 - Predicted: 1 Actual: 0 [ 0.191 0.539 0.128 0.010 0.034 0.062 0.037 ]\n",
        "37 - Predicted: 1 Actual: 1 [ 0.288 0.526 0.068 0.004 0.017 0.032 0.064 ]\n",
        "38 - Predicted: 1 Actual: 1 [ 0.148 0.465 0.206 0.015 0.056 0.106 0.003 ]\n",
        "39 - Predicted: 1 Actual: 0 [ 0.288 0.526 0.068 0.004 0.017 0.032 0.064 ]\n",
        "40"
       ]
      },
      {
       "output_type": "stream",
       "stream": "stdout",
       "text": [
        " - Predicted: 1 Actual: 1 [ 0.175 0.488 0.193 0.008 0.044 0.091 0.002 ]\n",
        "41 - Predicted: 1 Actual: 0 [ 0.391 0.430 0.071 0.005 0.017 0.034 0.052 ]\n",
        "42 - Predicted: 1 Actual: 2 [ 0.110 0.494 0.245 0.009 0.027 0.111 0.004 ]\n",
        "43 - Predicted: 0 Actual: 1 [ 0.606 0.261 0.000 0.000 0.000 0.000 0.133 ]\n",
        "44 - Predicted: 1 Actual: 0 [ 0.336 0.457 0.096 0.005 0.037 0.049 0.020 ]\n",
        "45 - Predicted: 0 Actual: 0 [ 0.606 0.261 0.000 0.000 0.000 0.000 0.133 ]\n",
        "46 - Predicted: 1 Actual: 1 [ 0.116 0.559 0.184 0.006 0.039 0.091 0.004 ]\n",
        "47 - Predicted: 1 Actual: 1 [ 0.405 0.422 0.071 0.005 0.017 0.034 0.047 ]\n",
        "48 - Predicted: 1 Actual: 1 [ 0.322 0.466 0.096 0.005 0.037 0.049 0.024 ]\n",
        "49 - Predicted: 1 Actual: 0 [ 0.391 0.430 0.071 0.005 0.017 0.034 0.052 ]\n"
       ]
      },
      {
       "output_type": "stream",
       "stream": "stdout",
       "text": [
        " {'trees': [{'leaf_nodes': 27, 'nodes': 53, 'root_nodes': 27},\n",
        "           {'leaf_nodes': 21, 'nodes': 41, 'root_nodes': 21},\n",
        "           {'leaf_nodes': 20, 'nodes': 39, 'root_nodes': 20}],\n",
        " 'worker': {'_expected_discount_term1': CacheInfo(hits=23, misses=5, maxsize=100000, currsize=5),\n",
        "            'calc_discount': CacheInfo(hits=72, misses=6, maxsize=100000, currsize=6)}}\n"
       ]
      }
     ],
     "prompt_number": 70
    },
    {
     "cell_type": "code",
     "collapsed": false,
     "input": [
      "pd.Series(hits).cumsum().plot() # Predictions over time"
     ],
     "language": "python",
     "metadata": {},
     "outputs": [
      {
       "metadata": {},
       "output_type": "pyout",
       "prompt_number": 11,
       "text": [
        "<matplotlib.axes._subplots.AxesSubplot at 0x7ffcd1b53c88>"
       ]
      },
      {
       "metadata": {},
       "output_type": "display_data",
       "png": "[encoded data removed]",
       "text": [
        "<matplotlib.figure.Figure at 0x7ffcd1c05f60>"
       ]
      }
     ],
     "prompt_number": 11
    },
    {
     "cell_type": "code",
     "collapsed": false,
     "input": [
      "sum(hits)/len(hits) # Overall accuracy"
     ],
     "language": "python",
     "metadata": {},
     "outputs": [
      {
       "metadata": {},
       "output_type": "pyout",
       "prompt_number": 12,
       "text": [
        "0.46000000000000002"
       ]
      }
     ],
     "prompt_number": 12
    },
    {
     "cell_type": "code",
     "collapsed": false,
     "input": [
      "print(\"calc_discount\", calc_discount.cache_info())\n",
      "print(\"_expected_discount_term1\", _expected_discount_term1.cache_info())"
     ],
     "language": "python",
     "metadata": {},
     "outputs": [
      {
       "output_type": "stream",
       "stream": "stdout",
       "text": [
        "calc_discount CacheInfo(hits=0, misses=0, maxsize=100000, currsize=0)\n",
        "_expected_discount_term1 CacheInfo(hits=0, misses=0, maxsize=100000, currsize=0)\n"
       ]
      }
     ],
     "prompt_number": 6
    },
    {
     "cell_type": "code",
     "collapsed": false,
     "input": [
      "for i, tree in enumerate(mf.trees):\n",
      "    print(\"Tree %d posterior cache hits: %d\" % (i, tree._scorer.cache_hits))\n",
      "    print(\"Tree %d posterior cache misses: %d\" % (i, tree._scorer.cache_misses))\n",
      "    print(\"Tree %d posterior cache evictions: %d\" % (i, tree._scorer.cache_evictions))"
     ],
     "language": "python",
     "metadata": {},
     "outputs": [
      {
       "output_type": "stream",
       "stream": "stdout",
       "text": [
        "calc_discount CacheInfo(hits=0, misses=0, maxsize=100000, currsize=0)\n",
        "_expected_discount_term1 CacheInfo(hits=0, misses=0, maxsize=100000, currsize=0)\n"
       ]
      },
      {
       "ename": "AttributeError",
       "evalue": "'ParallelMondrianForest' object has no attribute 'trees'",
       "output_type": "pyerr",
       "traceback": [
        "\u001b[1;31m---------------------------------------------------------------------------\u001b[0m\n\u001b[1;31mAttributeError\u001b[0m                            Traceback (most recent call last)",
        "\u001b[1;32m<ipython-input-9-69e02267cdd0>\u001b[0m in \u001b[0;36m<module>\u001b[1;34m()\u001b[0m\n\u001b[0;32m      1\u001b[0m \u001b[0mprint\u001b[0m\u001b[1;33m(\u001b[0m\u001b[1;34m\"calc_discount\"\u001b[0m\u001b[1;33m,\u001b[0m \u001b[0mcalc_discount\u001b[0m\u001b[1;33m.\u001b[0m\u001b[0mcache_info\u001b[0m\u001b[1;33m(\u001b[0m\u001b[1;33m)\u001b[0m\u001b[1;33m)\u001b[0m\u001b[1;33m\u001b[0m\u001b[0m\n\u001b[0;32m      2\u001b[0m \u001b[0mprint\u001b[0m\u001b[1;33m(\u001b[0m\u001b[1;34m\"_expected_discount_term1\"\u001b[0m\u001b[1;33m,\u001b[0m \u001b[0m_expected_discount_term1\u001b[0m\u001b[1;33m.\u001b[0m\u001b[0mcache_info\u001b[0m\u001b[1;33m(\u001b[0m\u001b[1;33m)\u001b[0m\u001b[1;33m)\u001b[0m\u001b[1;33m\u001b[0m\u001b[0m\n\u001b[1;32m----> 3\u001b[1;33m \u001b[1;32mfor\u001b[0m \u001b[0mi\u001b[0m\u001b[1;33m,\u001b[0m \u001b[0mtree\u001b[0m \u001b[1;32min\u001b[0m \u001b[0menumerate\u001b[0m\u001b[1;33m(\u001b[0m\u001b[0mmf\u001b[0m\u001b[1;33m.\u001b[0m\u001b[0mtrees\u001b[0m\u001b[1;33m)\u001b[0m\u001b[1;33m:\u001b[0m\u001b[1;33m\u001b[0m\u001b[0m\n\u001b[0m\u001b[0;32m      4\u001b[0m     \u001b[0mprint\u001b[0m\u001b[1;33m(\u001b[0m\u001b[1;34m\"Tree %d posterior cache hits: %d\"\u001b[0m \u001b[1;33m%\u001b[0m \u001b[1;33m(\u001b[0m\u001b[0mi\u001b[0m\u001b[1;33m,\u001b[0m \u001b[0mtree\u001b[0m\u001b[1;33m.\u001b[0m\u001b[0m_scorer\u001b[0m\u001b[1;33m.\u001b[0m\u001b[0mcache_hits\u001b[0m\u001b[1;33m)\u001b[0m\u001b[1;33m)\u001b[0m\u001b[1;33m\u001b[0m\u001b[0m\n\u001b[0;32m      5\u001b[0m     \u001b[0mprint\u001b[0m\u001b[1;33m(\u001b[0m\u001b[1;34m\"Tree %d posterior cache misses: %d\"\u001b[0m \u001b[1;33m%\u001b[0m \u001b[1;33m(\u001b[0m\u001b[0mi\u001b[0m\u001b[1;33m,\u001b[0m \u001b[0mtree\u001b[0m\u001b[1;33m.\u001b[0m\u001b[0m_scorer\u001b[0m\u001b[1;33m.\u001b[0m\u001b[0mcache_misses\u001b[0m\u001b[1;33m)\u001b[0m\u001b[1;33m)\u001b[0m\u001b[1;33m\u001b[0m\u001b[0m\n",
        "\u001b[1;31mAttributeError\u001b[0m: 'ParallelMondrianForest' object has no attribute 'trees'"
       ]
      }
     ],
     "prompt_number": 9
    }
   ],
   "metadata": {}
  }
 ]
}